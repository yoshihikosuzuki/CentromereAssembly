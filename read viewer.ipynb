{
 "cells": [
  {
   "cell_type": "code",
   "execution_count": 1,
   "metadata": {},
   "outputs": [
    {
     "data": {
      "text/html": [
       "<script type=\"text/javascript\">window.PlotlyConfig = {MathJaxConfig: 'local'};</script><script type=\"text/javascript\">if (window.MathJax) {MathJax.Hub.Config({SVG: {font: \"STIX-Web\"}});}</script><script>requirejs.config({paths: { 'plotly': ['https://cdn.plot.ly/plotly-latest.min']},});if(!window._Plotly) {require(['plotly'],function(plotly) {window._Plotly=plotly;});}</script>"
      ],
      "text/vnd.plotly.v1+html": [
       "<script type=\"text/javascript\">window.PlotlyConfig = {MathJaxConfig: 'local'};</script><script type=\"text/javascript\">if (window.MathJax) {MathJax.Hub.Config({SVG: {font: \"STIX-Web\"}});}</script><script>requirejs.config({paths: { 'plotly': ['https://cdn.plot.ly/plotly-latest.min']},});if(!window._Plotly) {require(['plotly'],function(plotly) {window._Plotly=plotly;});}</script>"
      ]
     },
     "metadata": {},
     "output_type": "display_data"
    }
   ],
   "source": [
    "# options for viewing Jupyter notebook itself\n",
    "\n",
    "%matplotlib inline\n",
    "%config InlineBackend.figure_format = \"retina\"\n",
    "from IPython.display import display\n",
    "import importlib\n",
    "import sys\n",
    "import plotly.offline as py\n",
    "py.init_notebook_mode(connected=True)"
   ]
  },
  {
   "cell_type": "code",
   "execution_count": 2,
   "metadata": {},
   "outputs": [],
   "source": [
    "from datruf import Viewer\n",
    "import pandas as pd\n",
    "from BITS.utils import load_pickle"
   ]
  },
  {
   "cell_type": "code",
   "execution_count": 3,
   "metadata": {},
   "outputs": [],
   "source": [
    "db_file = \"develop/dmel_all/DMEL.db\"\n",
    "las_file = \"develop/dmel_all/TAN.DMEL.las\"\n",
    "out_dir = \"develop/dmel_all/tmp\"\n",
    "\n",
    "gepard_root = \"/home/yoshihiko_s/work2/software/gepard/\"\n",
    "gepard_jar = gepard_root + \"dist/Gepard-1.40.jar\"\n",
    "gepard_mat = gepard_root + \"resources/matrices/edna.mat\"\n",
    "gepard_command = f\"java -cp {gepard_jar} org.gepard.client.cmdline.CommandLine -matrix {gepard_mat}\"\n",
    "\n",
    "tr_reads_file = \"develop/dmel_all/tr_reads\"\n",
    "encodings_file = \"develop/dmel_all/encodings.pkl\""
   ]
  },
  {
   "cell_type": "code",
   "execution_count": 13,
   "metadata": {},
   "outputs": [],
   "source": [
    "tr_reads = pd.read_csv(tr_reads_file, sep='\\t', index_col=0)"
   ]
  },
  {
   "cell_type": "code",
   "execution_count": 5,
   "metadata": {},
   "outputs": [],
   "source": [
    "encodings = load_pickle(encodings_file)"
   ]
  },
  {
   "cell_type": "code",
   "execution_count": 6,
   "metadata": {},
   "outputs": [],
   "source": [
    "v = Viewer(db_file, las_file, out_dir, gepard_command, encodings)"
   ]
  },
  {
   "cell_type": "code",
   "execution_count": 11,
   "metadata": {},
   "outputs": [
    {
     "data": {
      "application/vnd.plotly.v1+json": {
       "config": {
        "linkText": "Export to plot.ly",
        "plotlyServerURL": "https://plot.ly",
        "showLink": false
       },
       "data": [
        {
         "mode": "text",
         "name": "alignment #",
         "text": [
          "1",
          "2",
          "3",
          "4",
          "5",
          "6",
          "7",
          "8",
          "9",
          "10",
          "11",
          "12",
          "13",
          "14",
          "15",
          "16",
          "17",
          "18",
          "19",
          "20",
          "21",
          "22",
          "23",
          "24",
          "25",
          "26",
          "27",
          "28",
          "29",
          "30",
          "31",
          "32",
          "33",
          "34",
          "35",
          "36",
          "37",
          "38",
          "39",
          "40"
         ],
         "textfont": {
          "color": "red",
          "size": 10
         },
         "textposition": "top right",
         "type": "scatter",
         "uid": "33542d66-a7d8-470c-be89-6470ed41b599",
         "x": [
          5008,
          392,
          7269,
          768,
          5440,
          4651,
          1163,
          5884,
          4674,
          6138,
          1560,
          9054,
          4637,
          1922,
          6545,
          6886,
          4677,
          2307,
          2667,
          4627,
          7346,
          4676,
          3069,
          7699,
          4651,
          3463,
          8114,
          4648,
          8482,
          4652,
          8836,
          4627,
          9285,
          4960,
          5324,
          5734,
          7268,
          6484,
          7651,
          9185
         ],
         "y": [
          4622,
          3,
          6867,
          7,
          4674,
          3531,
          31,
          4734,
          3172,
          4622,
          39,
          7489,
          2745,
          29,
          4649,
          4622,
          2400,
          29,
          0,
          1960,
          4674,
          1640,
          9,
          4637,
          1224,
          24,
          4674,
          846,
          4649,
          470,
          4622,
          71,
          4674,
          11,
          0,
          29,
          1173,
          29,
          29,
          3
         ]
        },
        {
         "mode": "markers",
         "name": "start",
         "type": "scatter",
         "uid": "52992ce8-0d21-42b3-9fd8-534dfc0e3fa0",
         "x": [
          5008,
          392,
          7269,
          768,
          5440,
          4651,
          1163,
          5884,
          4674,
          6138,
          1560,
          9054,
          4637,
          1922,
          6545,
          6886,
          4677,
          2307,
          2667,
          4627,
          7346,
          4676,
          3069,
          7699,
          4651,
          3463,
          8114,
          4648,
          8482,
          4652,
          8836,
          4627,
          9285,
          4960,
          5324,
          5734,
          7268,
          6484,
          7651,
          9185
         ],
         "y": [
          4622,
          3,
          6867,
          7,
          4674,
          3531,
          31,
          4734,
          3172,
          4622,
          39,
          7489,
          2745,
          29,
          4649,
          4622,
          2400,
          29,
          0,
          1960,
          4674,
          1640,
          9,
          4637,
          1224,
          24,
          4674,
          846,
          4649,
          470,
          4622,
          71,
          4674,
          11,
          0,
          29,
          1173,
          29,
          29,
          3
         ]
        },
        {
         "mode": "markers",
         "name": "end",
         "type": "scatter",
         "uid": "4434ff80-a18e-4301-9388-c1a0699106e3",
         "x": [
          7214,
          4374,
          10114,
          4414,
          10143,
          5548,
          4410,
          10125,
          5932,
          8915,
          4407,
          10125,
          6316,
          4410,
          10143,
          10143,
          6689,
          4431,
          4378,
          7056,
          9922,
          7211,
          4387,
          10143,
          7850,
          4399,
          10128,
          8227,
          10143,
          8622,
          10124,
          9002,
          10151,
          8915,
          9720,
          10673,
          10143,
          10144,
          10143,
          10114
         ],
         "y": [
          6847,
          4003,
          9747,
          3674,
          9409,
          4414,
          3288,
          9002,
          4409,
          7372,
          2890,
          8622,
          4430,
          2508,
          8243,
          7867,
          4414,
          2138,
          1714,
          4415,
          7214,
          4204,
          1336,
          7068,
          4410,
          974,
          6689,
          4410,
          6312,
          4410,
          5932,
          4410,
          5567,
          3952,
          4374,
          4954,
          4059,
          3686,
          2525,
          974
         ]
        },
        {
         "mode": "text",
         "name": "interval #",
         "text": [
          "1",
          "2"
         ],
         "textfont": {
          "color": "grey",
          "size": 10
         },
         "textposition": "top right",
         "type": "scatter",
         "uid": "566dc226-72f5-4c28-890e-27ffccb1a477",
         "x": [
          3,
          4622
         ],
         "y": [
          3,
          4622
         ]
        },
        {
         "mode": "text",
         "name": "representative ID",
         "text": [
          "0:1- ",
          "0:1- ",
          "0:1- ",
          "0:1- ",
          "0:1- ",
          "0:1- ",
          "0:1- ",
          "0:1- ",
          "0:1- ",
          "0:1- ",
          "0:1- ",
          "0:1- ",
          "0:1- ",
          "0:1- ",
          "0:1- ",
          "0:1- ",
          "0:1- ",
          "0:1- ",
          "0:1- ",
          "0:1- ",
          "0:1- ",
          "0:1- ",
          "0:1- ",
          "0:1- ",
          "0:1- ",
          "0:1- ",
          "0:1- "
         ],
         "textfont": {
          "color": "black",
          "size": 10
         },
         "textposition": "bottom left",
         "type": "scatter",
         "uid": "8ea02b59-4012-4640-b6b1-fca106c43ba2",
         "x": [
          176,
          549,
          928,
          1303,
          1691,
          2057,
          2449,
          2836,
          3229,
          3610,
          3980,
          4353,
          4725,
          5106,
          5492,
          5876,
          6239,
          6626,
          6992,
          7398,
          7792,
          8175,
          8565,
          8945,
          9342,
          9699,
          10067
         ],
         "y": [
          176,
          549,
          928,
          1303,
          1691,
          2057,
          2449,
          2836,
          3229,
          3610,
          3980,
          4353,
          4725,
          5106,
          5492,
          5876,
          6239,
          6626,
          6992,
          7398,
          7792,
          8175,
          8565,
          8945,
          9342,
          9699,
          10067
         ]
        },
        {
         "hoverinfo": "text",
         "showlegend": false,
         "text": [
          "0:1-<br>[176, 549] (373 bp)<br>diff = 0.185",
          "0:1-<br>[549, 928] (379 bp)<br>diff = 0.196",
          "0:1-<br>[928, 1301] (373 bp)<br>diff = 0.217",
          "0:1-<br>[1303, 1691] (388 bp)<br>diff = 0.241",
          "0:1-<br>[1691, 2057] (366 bp)<br>diff = 0.203",
          "0:1-<br>[2057, 2449] (392 bp)<br>diff = 0.213",
          "0:1-<br>[2449, 2835] (386 bp)<br>diff = 0.213",
          "0:1-<br>[2836, 3227] (391 bp)<br>diff = 0.219",
          "0:1-<br>[3229, 3608] (379 bp)<br>diff = 0.171",
          "0:1-<br>[3610, 3980] (370 bp)<br>diff = 0.194",
          "0:1-<br>[3980, 4353] (373 bp)<br>diff = 0.23",
          "0:1-<br>[4353, 4724] (371 bp)<br>diff = 0.33",
          "0:1-<br>[4725, 5106] (381 bp)<br>diff = 0.204",
          "0:1-<br>[5106, 5492] (386 bp)<br>diff = 0.206",
          "0:1-<br>[5492, 5874] (382 bp)<br>diff = 0.209",
          "0:1-<br>[5876, 6238] (362 bp)<br>diff = 0.199",
          "0:1-<br>[6239, 6625] (386 bp)<br>diff = 0.201",
          "0:1-<br>[6626, 6992] (366 bp)<br>diff = 0.226",
          "0:1-<br>[6992, 7399] (407 bp)<br>diff = 0.258",
          "0:1-<br>[7398, 7792] (394 bp)<br>diff = 0.238",
          "0:1-<br>[7792, 8171] (379 bp)<br>diff = 0.201",
          "0:1-<br>[8175, 8563] (388 bp)<br>diff = 0.229",
          "0:1-<br>[8565, 8941] (376 bp)<br>diff = 0.231",
          "0:1-<br>[8945, 9341] (396 bp)<br>diff = 0.245",
          "0:1-<br>[9342, 9698] (356 bp)<br>diff = 0.184",
          "0:1-<br>[9699, 10067] (368 bp)<br>diff = 0.223",
          "0:1-<br>[10067, 10455] (388 bp)<br>diff = 0.349"
         ],
         "type": "scatter",
         "uid": "38085e53-3e51-4522-9c38-43a654979876",
         "x": [
          176,
          549,
          928,
          1303,
          1691,
          2057,
          2449,
          2836,
          3229,
          3610,
          3980,
          4353,
          4725,
          5106,
          5492,
          5876,
          6239,
          6626,
          6992,
          7398,
          7792,
          8175,
          8565,
          8945,
          9342,
          9699,
          10067
         ],
         "y": [
          176,
          549,
          928,
          1303,
          1691,
          2057,
          2449,
          2836,
          3229,
          3610,
          3980,
          4353,
          4725,
          5106,
          5492,
          5876,
          6239,
          6626,
          6992,
          7398,
          7792,
          8175,
          8565,
          8945,
          9342,
          9699,
          10067
         ]
        }
       ],
       "layout": {
        "height": 725,
        "hovermode": "closest",
        "shapes": [
         {
          "line": {
           "color": "grey",
           "width": 3
          },
          "type": "line",
          "x0": 0,
          "x1": 10673,
          "xref": "x",
          "y0": 0,
          "y1": 10673,
          "yref": "y"
         },
         {
          "line": {
           "color": "black",
           "width": 3
          },
          "type": "line",
          "x0": 3,
          "x1": 4414,
          "xref": "x",
          "y0": 3,
          "y1": 4414,
          "yref": "y"
         },
         {
          "line": {
           "color": "black",
           "width": 3
          },
          "type": "line",
          "x0": 4622,
          "x1": 10143,
          "xref": "x",
          "y0": 4622,
          "y1": 10143,
          "yref": "y"
         },
         {
          "line": {
           "color": "purple",
           "width": 3
          },
          "type": "line",
          "x0": 5008,
          "x1": 7214,
          "xref": "x",
          "y0": 4622,
          "y1": 6847,
          "yref": "y"
         },
         {
          "line": {
           "color": "purple",
           "width": 3
          },
          "type": "line",
          "x0": 392,
          "x1": 4374,
          "xref": "x",
          "y0": 3,
          "y1": 4003,
          "yref": "y"
         },
         {
          "line": {
           "color": "purple",
           "width": 3
          },
          "type": "line",
          "x0": 7269,
          "x1": 10114,
          "xref": "x",
          "y0": 6867,
          "y1": 9747,
          "yref": "y"
         },
         {
          "line": {
           "color": "blue",
           "width": 1
          },
          "type": "line",
          "x0": 768,
          "x1": 4414,
          "xref": "x",
          "y0": 7,
          "y1": 3674,
          "yref": "y"
         },
         {
          "line": {
           "color": "blue",
           "width": 1
          },
          "type": "line",
          "x0": 5440,
          "x1": 10143,
          "xref": "x",
          "y0": 4674,
          "y1": 9409,
          "yref": "y"
         },
         {
          "line": {
           "color": "black",
           "width": 1
          },
          "type": "line",
          "x0": 4651,
          "x1": 5548,
          "xref": "x",
          "y0": 3531,
          "y1": 4414,
          "yref": "y"
         },
         {
          "line": {
           "color": "blue",
           "width": 1
          },
          "type": "line",
          "x0": 1163,
          "x1": 4410,
          "xref": "x",
          "y0": 31,
          "y1": 3288,
          "yref": "y"
         },
         {
          "line": {
           "color": "blue",
           "width": 1
          },
          "type": "line",
          "x0": 5884,
          "x1": 10125,
          "xref": "x",
          "y0": 4734,
          "y1": 9002,
          "yref": "y"
         },
         {
          "line": {
           "color": "black",
           "width": 1
          },
          "type": "line",
          "x0": 4674,
          "x1": 5932,
          "xref": "x",
          "y0": 3172,
          "y1": 4409,
          "yref": "y"
         },
         {
          "line": {
           "color": "blue",
           "width": 1
          },
          "type": "line",
          "x0": 6138,
          "x1": 8915,
          "xref": "x",
          "y0": 4622,
          "y1": 7372,
          "yref": "y"
         },
         {
          "line": {
           "color": "blue",
           "width": 1
          },
          "type": "line",
          "x0": 1560,
          "x1": 4407,
          "xref": "x",
          "y0": 39,
          "y1": 2890,
          "yref": "y"
         },
         {
          "line": {
           "color": "yellow",
           "width": 1
          },
          "type": "line",
          "x0": 9054,
          "x1": 10125,
          "xref": "x",
          "y0": 7489,
          "y1": 8622,
          "yref": "y"
         },
         {
          "line": {
           "color": "black",
           "width": 1
          },
          "type": "line",
          "x0": 4637,
          "x1": 6316,
          "xref": "x",
          "y0": 2745,
          "y1": 4430,
          "yref": "y"
         },
         {
          "line": {
           "color": "blue",
           "width": 1
          },
          "type": "line",
          "x0": 1922,
          "x1": 4410,
          "xref": "x",
          "y0": 29,
          "y1": 2508,
          "yref": "y"
         },
         {
          "line": {
           "color": "blue",
           "width": 1
          },
          "type": "line",
          "x0": 6545,
          "x1": 10143,
          "xref": "x",
          "y0": 4649,
          "y1": 8243,
          "yref": "y"
         },
         {
          "line": {
           "color": "blue",
           "width": 1
          },
          "type": "line",
          "x0": 6886,
          "x1": 10143,
          "xref": "x",
          "y0": 4622,
          "y1": 7867,
          "yref": "y"
         },
         {
          "line": {
           "color": "black",
           "width": 1
          },
          "type": "line",
          "x0": 4677,
          "x1": 6689,
          "xref": "x",
          "y0": 2400,
          "y1": 4414,
          "yref": "y"
         },
         {
          "line": {
           "color": "black",
           "width": 1
          },
          "type": "line",
          "x0": 2307,
          "x1": 4431,
          "xref": "x",
          "y0": 29,
          "y1": 2138,
          "yref": "y"
         },
         {
          "line": {
           "color": "black",
           "width": 1
          },
          "type": "line",
          "x0": 2667,
          "x1": 4378,
          "xref": "x",
          "y0": 0,
          "y1": 1714,
          "yref": "y"
         },
         {
          "line": {
           "color": "black",
           "width": 1
          },
          "type": "line",
          "x0": 4627,
          "x1": 7056,
          "xref": "x",
          "y0": 1960,
          "y1": 4415,
          "yref": "y"
         },
         {
          "line": {
           "color": "black",
           "width": 1
          },
          "type": "line",
          "x0": 7346,
          "x1": 9922,
          "xref": "x",
          "y0": 4674,
          "y1": 7214,
          "yref": "y"
         },
         {
          "line": {
           "color": "black",
           "width": 1
          },
          "type": "line",
          "x0": 4676,
          "x1": 7211,
          "xref": "x",
          "y0": 1640,
          "y1": 4204,
          "yref": "y"
         },
         {
          "line": {
           "color": "black",
           "width": 1
          },
          "type": "line",
          "x0": 3069,
          "x1": 4387,
          "xref": "x",
          "y0": 9,
          "y1": 1336,
          "yref": "y"
         },
         {
          "line": {
           "color": "black",
           "width": 1
          },
          "type": "line",
          "x0": 7699,
          "x1": 10143,
          "xref": "x",
          "y0": 4637,
          "y1": 7068,
          "yref": "y"
         },
         {
          "line": {
           "color": "black",
           "width": 1
          },
          "type": "line",
          "x0": 4651,
          "x1": 7850,
          "xref": "x",
          "y0": 1224,
          "y1": 4410,
          "yref": "y"
         },
         {
          "line": {
           "color": "black",
           "width": 1
          },
          "type": "line",
          "x0": 3463,
          "x1": 4399,
          "xref": "x",
          "y0": 24,
          "y1": 974,
          "yref": "y"
         },
         {
          "line": {
           "color": "black",
           "width": 1
          },
          "type": "line",
          "x0": 8114,
          "x1": 10128,
          "xref": "x",
          "y0": 4674,
          "y1": 6689,
          "yref": "y"
         },
         {
          "line": {
           "color": "black",
           "width": 1
          },
          "type": "line",
          "x0": 4648,
          "x1": 8227,
          "xref": "x",
          "y0": 846,
          "y1": 4410,
          "yref": "y"
         },
         {
          "line": {
           "color": "black",
           "width": 1
          },
          "type": "line",
          "x0": 8482,
          "x1": 10143,
          "xref": "x",
          "y0": 4649,
          "y1": 6312,
          "yref": "y"
         },
         {
          "line": {
           "color": "black",
           "width": 1
          },
          "type": "line",
          "x0": 4652,
          "x1": 8622,
          "xref": "x",
          "y0": 470,
          "y1": 4410,
          "yref": "y"
         },
         {
          "line": {
           "color": "black",
           "width": 1
          },
          "type": "line",
          "x0": 8836,
          "x1": 10124,
          "xref": "x",
          "y0": 4622,
          "y1": 5932,
          "yref": "y"
         },
         {
          "line": {
           "color": "black",
           "width": 1
          },
          "type": "line",
          "x0": 4627,
          "x1": 9002,
          "xref": "x",
          "y0": 71,
          "y1": 4410,
          "yref": "y"
         },
         {
          "line": {
           "color": "black",
           "width": 1
          },
          "type": "line",
          "x0": 9285,
          "x1": 10151,
          "xref": "x",
          "y0": 4674,
          "y1": 5567,
          "yref": "y"
         },
         {
          "line": {
           "color": "black",
           "width": 1
          },
          "type": "line",
          "x0": 4960,
          "x1": 8915,
          "xref": "x",
          "y0": 11,
          "y1": 3952,
          "yref": "y"
         },
         {
          "line": {
           "color": "black",
           "width": 1
          },
          "type": "line",
          "x0": 5324,
          "x1": 9720,
          "xref": "x",
          "y0": 0,
          "y1": 4374,
          "yref": "y"
         },
         {
          "line": {
           "color": "black",
           "width": 1
          },
          "type": "line",
          "x0": 5734,
          "x1": 10673,
          "xref": "x",
          "y0": 29,
          "y1": 4954,
          "yref": "y"
         },
         {
          "line": {
           "color": "black",
           "width": 1
          },
          "type": "line",
          "x0": 7268,
          "x1": 10143,
          "xref": "x",
          "y0": 1173,
          "y1": 4059,
          "yref": "y"
         },
         {
          "line": {
           "color": "black",
           "width": 1
          },
          "type": "line",
          "x0": 6484,
          "x1": 10144,
          "xref": "x",
          "y0": 29,
          "y1": 3686,
          "yref": "y"
         },
         {
          "line": {
           "color": "black",
           "width": 1
          },
          "type": "line",
          "x0": 7651,
          "x1": 10143,
          "xref": "x",
          "y0": 29,
          "y1": 2525,
          "yref": "y"
         },
         {
          "line": {
           "color": "black",
           "width": 1
          },
          "type": "line",
          "x0": 9185,
          "x1": 10114,
          "xref": "x",
          "y0": 3,
          "y1": 974,
          "yref": "y"
         },
         {
          "line": {
           "color": "#aaff4d",
           "width": 5
          },
          "type": "line",
          "x0": 176,
          "x1": 549,
          "xref": "x",
          "y0": 176,
          "y1": 549,
          "yref": "y"
         },
         {
          "line": {
           "color": "#c4ff33",
           "width": 5
          },
          "type": "line",
          "x0": 549,
          "x1": 928,
          "xref": "x",
          "y0": 549,
          "y1": 928,
          "yref": "y"
         },
         {
          "line": {
           "color": "#f8f500",
           "width": 5
          },
          "type": "line",
          "x0": 928,
          "x1": 1301,
          "xref": "x",
          "y0": 928,
          "y1": 1301,
          "yref": "y"
         },
         {
          "line": {
           "color": "#ffae00",
           "width": 5
          },
          "type": "line",
          "x0": 1303,
          "x1": 1691,
          "xref": "x",
          "y0": 1303,
          "y1": 1691,
          "yref": "y"
         },
         {
          "line": {
           "color": "#d4ff23",
           "width": 5
          },
          "type": "line",
          "x0": 1691,
          "x1": 2057,
          "xref": "x",
          "y0": 1691,
          "y1": 2057,
          "yref": "y"
         },
         {
          "line": {
           "color": "#eeff09",
           "width": 5
          },
          "type": "line",
          "x0": 2057,
          "x1": 2449,
          "xref": "x",
          "y0": 2057,
          "y1": 2449,
          "yref": "y"
         },
         {
          "line": {
           "color": "#eeff09",
           "width": 5
          },
          "type": "line",
          "x0": 2449,
          "x1": 2835,
          "xref": "x",
          "y0": 2449,
          "y1": 2835,
          "yref": "y"
         },
         {
          "line": {
           "color": "#feed00",
           "width": 5
          },
          "type": "line",
          "x0": 2836,
          "x1": 3227,
          "xref": "x",
          "y0": 2836,
          "y1": 3227,
          "yref": "y"
         },
         {
          "line": {
           "color": "#87ff70",
           "width": 5
          },
          "type": "line",
          "x0": 3229,
          "x1": 3608,
          "xref": "x",
          "y0": 3229,
          "y1": 3608,
          "yref": "y"
         },
         {
          "line": {
           "color": "#beff39",
           "width": 5
          },
          "type": "line",
          "x0": 3610,
          "x1": 3980,
          "xref": "x",
          "y0": 3610,
          "y1": 3980,
          "yref": "y"
         },
         {
          "line": {
           "color": "#ffd000",
           "width": 5
          },
          "type": "line",
          "x0": 3980,
          "x1": 4353,
          "xref": "x",
          "y0": 3980,
          "y1": 4353,
          "yref": "y"
         },
         {
          "line": {
           "color": "#890000",
           "width": 5
          },
          "type": "line",
          "x0": 4353,
          "x1": 4724,
          "xref": "x",
          "y0": 4353,
          "y1": 4724,
          "yref": "y"
         },
         {
          "line": {
           "color": "#d7ff1f",
           "width": 5
          },
          "type": "line",
          "x0": 4725,
          "x1": 5106,
          "xref": "x",
          "y0": 4725,
          "y1": 5106,
          "yref": "y"
         },
         {
          "line": {
           "color": "#deff19",
           "width": 5
          },
          "type": "line",
          "x0": 5106,
          "x1": 5492,
          "xref": "x",
          "y0": 5106,
          "y1": 5492,
          "yref": "y"
         },
         {
          "line": {
           "color": "#e4ff13",
           "width": 5
          },
          "type": "line",
          "x0": 5492,
          "x1": 5874,
          "xref": "x",
          "y0": 5492,
          "y1": 5874,
          "yref": "y"
         },
         {
          "line": {
           "color": "#caff2c",
           "width": 5
          },
          "type": "line",
          "x0": 5876,
          "x1": 6238,
          "xref": "x",
          "y0": 5876,
          "y1": 6238,
          "yref": "y"
         },
         {
          "line": {
           "color": "#d1ff26",
           "width": 5
          },
          "type": "line",
          "x0": 6239,
          "x1": 6625,
          "xref": "x",
          "y0": 6239,
          "y1": 6625,
          "yref": "y"
         },
         {
          "line": {
           "color": "#ffdb00",
           "width": 5
          },
          "type": "line",
          "x0": 6626,
          "x1": 6992,
          "xref": "x",
          "y0": 6626,
          "y1": 6992,
          "yref": "y"
         },
         {
          "line": {
           "color": "#ff7e00",
           "width": 5
          },
          "type": "line",
          "x0": 6992,
          "x1": 7399,
          "xref": "x",
          "y0": 6992,
          "y1": 7399,
          "yref": "y"
         },
         {
          "line": {
           "color": "#ffb900",
           "width": 5
          },
          "type": "line",
          "x0": 7398,
          "x1": 7792,
          "xref": "x",
          "y0": 7398,
          "y1": 7792,
          "yref": "y"
         },
         {
          "line": {
           "color": "#d1ff26",
           "width": 5
          },
          "type": "line",
          "x0": 7792,
          "x1": 8171,
          "xref": "x",
          "y0": 7792,
          "y1": 8171,
          "yref": "y"
         },
         {
          "line": {
           "color": "#ffd300",
           "width": 5
          },
          "type": "line",
          "x0": 8175,
          "x1": 8563,
          "xref": "x",
          "y0": 8175,
          "y1": 8563,
          "yref": "y"
         },
         {
          "line": {
           "color": "#ffcc00",
           "width": 5
          },
          "type": "line",
          "x0": 8565,
          "x1": 8941,
          "xref": "x",
          "y0": 8565,
          "y1": 8941,
          "yref": "y"
         },
         {
          "line": {
           "color": "#ffa300",
           "width": 5
          },
          "type": "line",
          "x0": 8945,
          "x1": 9341,
          "xref": "x",
          "y0": 8945,
          "y1": 9341,
          "yref": "y"
         },
         {
          "line": {
           "color": "#a7ff50",
           "width": 5
          },
          "type": "line",
          "x0": 9342,
          "x1": 9698,
          "xref": "x",
          "y0": 9342,
          "y1": 9698,
          "yref": "y"
         },
         {
          "line": {
           "color": "#ffe200",
           "width": 5
          },
          "type": "line",
          "x0": 9699,
          "x1": 10067,
          "xref": "x",
          "y0": 9699,
          "y1": 10067,
          "yref": "y"
         },
         {
          "line": {
           "color": "#800000",
           "width": 5
          },
          "type": "line",
          "x0": 10067,
          "x1": 10455,
          "xref": "x",
          "y0": 10067,
          "y1": 10455,
          "yref": "y"
         }
        ],
        "width": 725,
        "xaxis": {
         "range": [
          -533.65,
          10773
         ],
         "showgrid": false,
         "type": "linear"
        },
        "yaxis": {
         "autorange": true,
         "range": [
          10704.238048780488,
          -645.5863414634146
         ],
         "showgrid": false,
         "type": "linear"
        }
       }
      },
      "image/png": "[encoded data removed]",
      "text/html": [
       "<div id=\"23099c94-4e6b-4178-add9-e09f5d33bf3c\" style=\"height: 725px; width: 725px;\" class=\"plotly-graph-div\"></div><script type=\"text/javascript\">require([\"plotly\"], function(Plotly) { window.PLOTLYENV=window.PLOTLYENV || {};window.PLOTLYENV.BASE_URL=\"https://plot.ly\";Plotly.newPlot(\"23099c94-4e6b-4178-add9-e09f5d33bf3c\", [{\"mode\": \"text\", \"name\": \"alignment #\", \"text\": [\"1\", \"2\", \"3\", \"4\", \"5\", \"6\", \"7\", \"8\", \"9\", \"10\", \"11\", \"12\", \"13\", \"14\", \"15\", \"16\", \"17\", \"18\", \"19\", \"20\", \"21\", \"22\", \"23\", \"24\", \"25\", \"26\", \"27\", \"28\", \"29\", \"30\", \"31\", \"32\", \"33\", \"34\", \"35\", \"36\", \"37\", \"38\", \"39\", \"40\"], \"textfont\": {\"color\": \"red\", \"size\": 10}, \"textposition\": \"top right\", \"x\": [5008, 392, 7269, 768, 5440, 4651, 1163, 5884, 4674, 6138, 1560, 9054, 4637, 1922, 6545, 6886, 4677, 2307, 2667, 4627, 7346, 4676, 3069, 7699, 4651, 3463, 8114, 4648, 8482, 4652, 8836, 4627, 9285, 4960, 5324, 5734, 7268, 6484, 7651, 9185], \"y\": [4622, 3, 6867, 7, 4674, 3531, 31, 4734, 3172, 4622, 39, 7489, 2745, 29, 4649, 4622, 2400, 29, 0, 1960, 4674, 1640, 9, 4637, 1224, 24, 4674, 846, 4649, 470, 4622, 71, 4674, 11, 0, 29, 1173, 29, 29, 3], \"type\": \"scatter\", \"uid\": \"33542d66-a7d8-470c-be89-6470ed41b599\"}, {\"mode\": \"markers\", \"name\": \"start\", \"x\": [5008, 392, 7269, 768, 5440, 4651, 1163, 5884, 4674, 6138, 1560, 9054, 4637, 1922, 6545, 6886, 4677, 2307, 2667, 4627, 7346, 4676, 3069, 7699, 4651, 3463, 8114, 4648, 8482, 4652, 8836, 4627, 9285, 4960, 5324, 5734, 7268, 6484, 7651, 9185], \"y\": [4622, 3, 6867, 7, 4674, 3531, 31, 4734, 3172, 4622, 39, 7489, 2745, 29, 4649, 4622, 2400, 29, 0, 1960, 4674, 1640, 9, 4637, 1224, 24, 4674, 846, 4649, 470, 4622, 71, 4674, 11, 0, 29, 1173, 29, 29, 3], \"type\": \"scatter\", \"uid\": \"52992ce8-0d21-42b3-9fd8-534dfc0e3fa0\"}, {\"mode\": \"markers\", \"name\": \"end\", \"x\": [7214, 4374, 10114, 4414, 10143, 5548, 4410, 10125, 5932, 8915, 4407, 10125, 6316, 4410, 10143, 10143, 6689, 4431, 4378, 7056, 9922, 7211, 4387, 10143, 7850, 4399, 10128, 8227, 10143, 8622, 10124, 9002, 10151, 8915, 9720, 10673, 10143, 10144, 10143, 10114], \"y\": [6847, 4003, 9747, 3674, 9409, 4414, 3288, 9002, 4409, 7372, 2890, 8622, 4430, 2508, 8243, 7867, 4414, 2138, 1714, 4415, 7214, 4204, 1336, 7068, 4410, 974, 6689, 4410, 6312, 4410, 5932, 4410, 5567, 3952, 4374, 4954, 4059, 3686, 2525, 974], \"type\": \"scatter\", \"uid\": \"4434ff80-a18e-4301-9388-c1a0699106e3\"}, {\"mode\": \"text\", \"name\": \"interval #\", \"text\": [\"1\", \"2\"], \"textfont\": {\"color\": \"grey\", \"size\": 10}, \"textposition\": \"top right\", \"x\": [3, 4622], \"y\": [3, 4622], \"type\": \"scatter\", \"uid\": \"566dc226-72f5-4c28-890e-27ffccb1a477\"}, {\"mode\": \"text\", \"name\": \"representative ID\", \"text\": [\"0:1- \", \"0:1- \", \"0:1- \", \"0:1- \", \"0:1- \", \"0:1- \", \"0:1- \", \"0:1- \", \"0:1- \", \"0:1- \", \"0:1- \", \"0:1- \", \"0:1- \", \"0:1- \", \"0:1- \", \"0:1- \", \"0:1- \", \"0:1- \", \"0:1- \", \"0:1- \", \"0:1- \", \"0:1- \", \"0:1- \", \"0:1- \", \"0:1- \", \"0:1- \", \"0:1- \"], \"textfont\": {\"color\": \"black\", \"size\": 10}, \"textposition\": \"bottom left\", \"x\": [176, 549, 928, 1303, 1691, 2057, 2449, 2836, 3229, 3610, 3980, 4353, 4725, 5106, 5492, 5876, 6239, 6626, 6992, 7398, 7792, 8175, 8565, 8945, 9342, 9699, 10067], \"y\": [176, 549, 928, 1303, 1691, 2057, 2449, 2836, 3229, 3610, 3980, 4353, 4725, 5106, 5492, 5876, 6239, 6626, 6992, 7398, 7792, 8175, 8565, 8945, 9342, 9699, 10067], \"type\": \"scatter\", \"uid\": \"8ea02b59-4012-4640-b6b1-fca106c43ba2\"}, {\"hoverinfo\": \"text\", \"showlegend\": false, \"text\": [\"0:1-<br>[176, 549] (373 bp)<br>diff = 0.185\", \"0:1-<br>[549, 928] (379 bp)<br>diff = 0.196\", \"0:1-<br>[928, 1301] (373 bp)<br>diff = 0.217\", \"0:1-<br>[1303, 1691] (388 bp)<br>diff = 0.241\", \"0:1-<br>[1691, 2057] (366 bp)<br>diff = 0.203\", \"0:1-<br>[2057, 2449] (392 bp)<br>diff = 0.213\", \"0:1-<br>[2449, 2835] (386 bp)<br>diff = 0.213\", \"0:1-<br>[2836, 3227] (391 bp)<br>diff = 0.219\", \"0:1-<br>[3229, 3608] (379 bp)<br>diff = 0.171\", \"0:1-<br>[3610, 3980] (370 bp)<br>diff = 0.194\", \"0:1-<br>[3980, 4353] (373 bp)<br>diff = 0.23\", \"0:1-<br>[4353, 4724] (371 bp)<br>diff = 0.33\", \"0:1-<br>[4725, 5106] (381 bp)<br>diff = 0.204\", \"0:1-<br>[5106, 5492] (386 bp)<br>diff = 0.206\", \"0:1-<br>[5492, 5874] (382 bp)<br>diff = 0.209\", \"0:1-<br>[5876, 6238] (362 bp)<br>diff = 0.199\", \"0:1-<br>[6239, 6625] (386 bp)<br>diff = 0.201\", \"0:1-<br>[6626, 6992] (366 bp)<br>diff = 0.226\", \"0:1-<br>[6992, 7399] (407 bp)<br>diff = 0.258\", \"0:1-<br>[7398, 7792] (394 bp)<br>diff = 0.238\", \"0:1-<br>[7792, 8171] (379 bp)<br>diff = 0.201\", \"0:1-<br>[8175, 8563] (388 bp)<br>diff = 0.229\", \"0:1-<br>[8565, 8941] (376 bp)<br>diff = 0.231\", \"0:1-<br>[8945, 9341] (396 bp)<br>diff = 0.245\", \"0:1-<br>[9342, 9698] (356 bp)<br>diff = 0.184\", \"0:1-<br>[9699, 10067] (368 bp)<br>diff = 0.223\", \"0:1-<br>[10067, 10455] (388 bp)<br>diff = 0.349\"], \"x\": [176, 549, 928, 1303, 1691, 2057, 2449, 2836, 3229, 3610, 3980, 4353, 4725, 5106, 5492, 5876, 6239, 6626, 6992, 7398, 7792, 8175, 8565, 8945, 9342, 9699, 10067], \"y\": [176, 549, 928, 1303, 1691, 2057, 2449, 2836, 3229, 3610, 3980, 4353, 4725, 5106, 5492, 5876, 6239, 6626, 6992, 7398, 7792, 8175, 8565, 8945, 9342, 9699, 10067], \"type\": \"scatter\", \"uid\": \"38085e53-3e51-4522-9c38-43a654979876\"}], {\"height\": 725, \"hovermode\": \"closest\", \"shapes\": [{\"line\": {\"color\": \"grey\", \"width\": 3}, \"type\": \"line\", \"x0\": 0, \"x1\": 10673, \"xref\": \"x\", \"y0\": 0, \"y1\": 10673, \"yref\": \"y\"}, {\"line\": {\"color\": \"black\", \"width\": 3}, \"type\": \"line\", \"x0\": 3, \"x1\": 4414, \"xref\": \"x\", \"y0\": 3, \"y1\": 4414, \"yref\": \"y\"}, {\"line\": {\"color\": \"black\", \"width\": 3}, \"type\": \"line\", \"x0\": 4622, \"x1\": 10143, \"xref\": \"x\", \"y0\": 4622, \"y1\": 10143, \"yref\": \"y\"}, {\"line\": {\"color\": \"purple\", \"width\": 3}, \"type\": \"line\", \"x0\": 5008, \"x1\": 7214, \"xref\": \"x\", \"y0\": 4622, \"y1\": 6847, \"yref\": \"y\"}, {\"line\": {\"color\": \"purple\", \"width\": 3}, \"type\": \"line\", \"x0\": 392, \"x1\": 4374, \"xref\": \"x\", \"y0\": 3, \"y1\": 4003, \"yref\": \"y\"}, {\"line\": {\"color\": \"purple\", \"width\": 3}, \"type\": \"line\", \"x0\": 7269, \"x1\": 10114, \"xref\": \"x\", \"y0\": 6867, \"y1\": 9747, \"yref\": \"y\"}, {\"line\": {\"color\": \"blue\", \"width\": 1}, \"type\": \"line\", \"x0\": 768, \"x1\": 4414, \"xref\": \"x\", \"y0\": 7, \"y1\": 3674, \"yref\": \"y\"}, {\"line\": {\"color\": \"blue\", \"width\": 1}, \"type\": \"line\", \"x0\": 5440, \"x1\": 10143, \"xref\": \"x\", \"y0\": 4674, \"y1\": 9409, \"yref\": \"y\"}, {\"line\": {\"color\": \"black\", \"width\": 1}, \"type\": \"line\", \"x0\": 4651, \"x1\": 5548, \"xref\": \"x\", \"y0\": 3531, \"y1\": 4414, \"yref\": \"y\"}, {\"line\": {\"color\": \"blue\", \"width\": 1}, \"type\": \"line\", \"x0\": 1163, \"x1\": 4410, \"xref\": \"x\", \"y0\": 31, \"y1\": 3288, \"yref\": \"y\"}, {\"line\": {\"color\": \"blue\", \"width\": 1}, \"type\": \"line\", \"x0\": 5884, \"x1\": 10125, \"xref\": \"x\", \"y0\": 4734, \"y1\": 9002, \"yref\": \"y\"}, {\"line\": {\"color\": \"black\", \"width\": 1}, \"type\": \"line\", \"x0\": 4674, \"x1\": 5932, \"xref\": \"x\", \"y0\": 3172, \"y1\": 4409, \"yref\": \"y\"}, {\"line\": {\"color\": \"blue\", \"width\": 1}, \"type\": \"line\", \"x0\": 6138, \"x1\": 8915, \"xref\": \"x\", \"y0\": 4622, \"y1\": 7372, \"yref\": \"y\"}, {\"line\": {\"color\": \"blue\", \"width\": 1}, \"type\": \"line\", \"x0\": 1560, \"x1\": 4407, \"xref\": \"x\", \"y0\": 39, \"y1\": 2890, \"yref\": \"y\"}, {\"line\": {\"color\": \"yellow\", \"width\": 1}, \"type\": \"line\", \"x0\": 9054, \"x1\": 10125, \"xref\": \"x\", \"y0\": 7489, \"y1\": 8622, \"yref\": \"y\"}, {\"line\": {\"color\": \"black\", \"width\": 1}, \"type\": \"line\", \"x0\": 4637, \"x1\": 6316, \"xref\": \"x\", \"y0\": 2745, \"y1\": 4430, \"yref\": \"y\"}, {\"line\": {\"color\": \"blue\", \"width\": 1}, \"type\": \"line\", \"x0\": 1922, \"x1\": 4410, \"xref\": \"x\", \"y0\": 29, \"y1\": 2508, \"yref\": \"y\"}, {\"line\": {\"color\": \"blue\", \"width\": 1}, \"type\": \"line\", \"x0\": 6545, \"x1\": 10143, \"xref\": \"x\", \"y0\": 4649, \"y1\": 8243, \"yref\": \"y\"}, {\"line\": {\"color\": \"blue\", \"width\": 1}, \"type\": \"line\", \"x0\": 6886, \"x1\": 10143, \"xref\": \"x\", \"y0\": 4622, \"y1\": 7867, \"yref\": \"y\"}, {\"line\": {\"color\": \"black\", \"width\": 1}, \"type\": \"line\", \"x0\": 4677, \"x1\": 6689, \"xref\": \"x\", \"y0\": 2400, \"y1\": 4414, \"yref\": \"y\"}, {\"line\": {\"color\": \"black\", \"width\": 1}, \"type\": \"line\", \"x0\": 2307, \"x1\": 4431, \"xref\": \"x\", \"y0\": 29, \"y1\": 2138, \"yref\": \"y\"}, {\"line\": {\"color\": \"black\", \"width\": 1}, \"type\": \"line\", \"x0\": 2667, \"x1\": 4378, \"xref\": \"x\", \"y0\": 0, \"y1\": 1714, \"yref\": \"y\"}, {\"line\": {\"color\": \"black\", \"width\": 1}, \"type\": \"line\", \"x0\": 4627, \"x1\": 7056, \"xref\": \"x\", \"y0\": 1960, \"y1\": 4415, \"yref\": \"y\"}, {\"line\": {\"color\": \"black\", \"width\": 1}, \"type\": \"line\", \"x0\": 7346, \"x1\": 9922, \"xref\": \"x\", \"y0\": 4674, \"y1\": 7214, \"yref\": \"y\"}, {\"line\": {\"color\": \"black\", \"width\": 1}, \"type\": \"line\", \"x0\": 4676, \"x1\": 7211, \"xref\": \"x\", \"y0\": 1640, \"y1\": 4204, \"yref\": \"y\"}, {\"line\": {\"color\": \"black\", \"width\": 1}, \"type\": \"line\", \"x0\": 3069, \"x1\": 4387, \"xref\": \"x\", \"y0\": 9, \"y1\": 1336, \"yref\": \"y\"}, {\"line\": {\"color\": \"black\", \"width\": 1}, \"type\": \"line\", \"x0\": 7699, \"x1\": 10143, \"xref\": \"x\", \"y0\": 4637, \"y1\": 7068, \"yref\": \"y\"}, {\"line\": {\"color\": \"black\", \"width\": 1}, \"type\": \"line\", \"x0\": 4651, \"x1\": 7850, \"xref\": \"x\", \"y0\": 1224, \"y1\": 4410, \"yref\": \"y\"}, {\"line\": {\"color\": \"black\", \"width\": 1}, \"type\": \"line\", \"x0\": 3463, \"x1\": 4399, \"xref\": \"x\", \"y0\": 24, \"y1\": 974, \"yref\": \"y\"}, {\"line\": {\"color\": \"black\", \"width\": 1}, \"type\": \"line\", \"x0\": 8114, \"x1\": 10128, \"xref\": \"x\", \"y0\": 4674, \"y1\": 6689, \"yref\": \"y\"}, {\"line\": {\"color\": \"black\", \"width\": 1}, \"type\": \"line\", \"x0\": 4648, \"x1\": 8227, \"xref\": \"x\", \"y0\": 846, \"y1\": 4410, \"yref\": \"y\"}, {\"line\": {\"color\": \"black\", \"width\": 1}, \"type\": \"line\", \"x0\": 8482, \"x1\": 10143, \"xref\": \"x\", \"y0\": 4649, \"y1\": 6312, \"yref\": \"y\"}, {\"line\": {\"color\": \"black\", \"width\": 1}, \"type\": \"line\", \"x0\": 4652, \"x1\": 8622, \"xref\": \"x\", \"y0\": 470, \"y1\": 4410, \"yref\": \"y\"}, {\"line\": {\"color\": \"black\", \"width\": 1}, \"type\": \"line\", \"x0\": 8836, \"x1\": 10124, \"xref\": \"x\", \"y0\": 4622, \"y1\": 5932, \"yref\": \"y\"}, {\"line\": {\"color\": \"black\", \"width\": 1}, \"type\": \"line\", \"x0\": 4627, \"x1\": 9002, \"xref\": \"x\", \"y0\": 71, \"y1\": 4410, \"yref\": \"y\"}, {\"line\": {\"color\": \"black\", \"width\": 1}, \"type\": \"line\", \"x0\": 9285, \"x1\": 10151, \"xref\": \"x\", \"y0\": 4674, \"y1\": 5567, \"yref\": \"y\"}, {\"line\": {\"color\": \"black\", \"width\": 1}, \"type\": \"line\", \"x0\": 4960, \"x1\": 8915, \"xref\": \"x\", \"y0\": 11, \"y1\": 3952, \"yref\": \"y\"}, {\"line\": {\"color\": \"black\", \"width\": 1}, \"type\": \"line\", \"x0\": 5324, \"x1\": 9720, \"xref\": \"x\", \"y0\": 0, \"y1\": 4374, \"yref\": \"y\"}, {\"line\": {\"color\": \"black\", \"width\": 1}, \"type\": \"line\", \"x0\": 5734, \"x1\": 10673, \"xref\": \"x\", \"y0\": 29, \"y1\": 4954, \"yref\": \"y\"}, {\"line\": {\"color\": \"black\", \"width\": 1}, \"type\": \"line\", \"x0\": 7268, \"x1\": 10143, \"xref\": \"x\", \"y0\": 1173, \"y1\": 4059, \"yref\": \"y\"}, {\"line\": {\"color\": \"black\", \"width\": 1}, \"type\": \"line\", \"x0\": 6484, \"x1\": 10144, \"xref\": \"x\", \"y0\": 29, \"y1\": 3686, \"yref\": \"y\"}, {\"line\": {\"color\": \"black\", \"width\": 1}, \"type\": \"line\", \"x0\": 7651, \"x1\": 10143, \"xref\": \"x\", \"y0\": 29, \"y1\": 2525, \"yref\": \"y\"}, {\"line\": {\"color\": \"black\", \"width\": 1}, \"type\": \"line\", \"x0\": 9185, \"x1\": 10114, \"xref\": \"x\", \"y0\": 3, \"y1\": 974, \"yref\": \"y\"}, {\"line\": {\"color\": \"#aaff4d\", \"width\": 5}, \"type\": \"line\", \"x0\": 176, \"x1\": 549, \"xref\": \"x\", \"y0\": 176, \"y1\": 549, \"yref\": \"y\"}, {\"line\": {\"color\": \"#c4ff33\", \"width\": 5}, \"type\": \"line\", \"x0\": 549, \"x1\": 928, \"xref\": \"x\", \"y0\": 549, \"y1\": 928, \"yref\": \"y\"}, {\"line\": {\"color\": \"#f8f500\", \"width\": 5}, \"type\": \"line\", \"x0\": 928, \"x1\": 1301, \"xref\": \"x\", \"y0\": 928, \"y1\": 1301, \"yref\": \"y\"}, {\"line\": {\"color\": \"#ffae00\", \"width\": 5}, \"type\": \"line\", \"x0\": 1303, \"x1\": 1691, \"xref\": \"x\", \"y0\": 1303, \"y1\": 1691, \"yref\": \"y\"}, {\"line\": {\"color\": \"#d4ff23\", \"width\": 5}, \"type\": \"line\", \"x0\": 1691, \"x1\": 2057, \"xref\": \"x\", \"y0\": 1691, \"y1\": 2057, \"yref\": \"y\"}, {\"line\": {\"color\": \"#eeff09\", \"width\": 5}, \"type\": \"line\", \"x0\": 2057, \"x1\": 2449, \"xref\": \"x\", \"y0\": 2057, \"y1\": 2449, \"yref\": \"y\"}, {\"line\": {\"color\": \"#eeff09\", \"width\": 5}, \"type\": \"line\", \"x0\": 2449, \"x1\": 2835, \"xref\": \"x\", \"y0\": 2449, \"y1\": 2835, \"yref\": \"y\"}, {\"line\": {\"color\": \"#feed00\", \"width\": 5}, \"type\": \"line\", \"x0\": 2836, \"x1\": 3227, \"xref\": \"x\", \"y0\": 2836, \"y1\": 3227, \"yref\": \"y\"}, {\"line\": {\"color\": \"#87ff70\", \"width\": 5}, \"type\": \"line\", \"x0\": 3229, \"x1\": 3608, \"xref\": \"x\", \"y0\": 3229, \"y1\": 3608, \"yref\": \"y\"}, {\"line\": {\"color\": \"#beff39\", \"width\": 5}, \"type\": \"line\", \"x0\": 3610, \"x1\": 3980, \"xref\": \"x\", \"y0\": 3610, \"y1\": 3980, \"yref\": \"y\"}, {\"line\": {\"color\": \"#ffd000\", \"width\": 5}, \"type\": \"line\", \"x0\": 3980, \"x1\": 4353, \"xref\": \"x\", \"y0\": 3980, \"y1\": 4353, \"yref\": \"y\"}, {\"line\": {\"color\": \"#890000\", \"width\": 5}, \"type\": \"line\", \"x0\": 4353, \"x1\": 4724, \"xref\": \"x\", \"y0\": 4353, \"y1\": 4724, \"yref\": \"y\"}, {\"line\": {\"color\": \"#d7ff1f\", \"width\": 5}, \"type\": \"line\", \"x0\": 4725, \"x1\": 5106, \"xref\": \"x\", \"y0\": 4725, \"y1\": 5106, \"yref\": \"y\"}, {\"line\": {\"color\": \"#deff19\", \"width\": 5}, \"type\": \"line\", \"x0\": 5106, \"x1\": 5492, \"xref\": \"x\", \"y0\": 5106, \"y1\": 5492, \"yref\": \"y\"}, {\"line\": {\"color\": \"#e4ff13\", \"width\": 5}, \"type\": \"line\", \"x0\": 5492, \"x1\": 5874, \"xref\": \"x\", \"y0\": 5492, \"y1\": 5874, \"yref\": \"y\"}, {\"line\": {\"color\": \"#caff2c\", \"width\": 5}, \"type\": \"line\", \"x0\": 5876, \"x1\": 6238, \"xref\": \"x\", \"y0\": 5876, \"y1\": 6238, \"yref\": \"y\"}, {\"line\": {\"color\": \"#d1ff26\", \"width\": 5}, \"type\": \"line\", \"x0\": 6239, \"x1\": 6625, \"xref\": \"x\", \"y0\": 6239, \"y1\": 6625, \"yref\": \"y\"}, {\"line\": {\"color\": \"#ffdb00\", \"width\": 5}, \"type\": \"line\", \"x0\": 6626, \"x1\": 6992, \"xref\": \"x\", \"y0\": 6626, \"y1\": 6992, \"yref\": \"y\"}, {\"line\": {\"color\": \"#ff7e00\", \"width\": 5}, \"type\": \"line\", \"x0\": 6992, \"x1\": 7399, \"xref\": \"x\", \"y0\": 6992, \"y1\": 7399, \"yref\": \"y\"}, {\"line\": {\"color\": \"#ffb900\", \"width\": 5}, \"type\": \"line\", \"x0\": 7398, \"x1\": 7792, \"xref\": \"x\", \"y0\": 7398, \"y1\": 7792, \"yref\": \"y\"}, {\"line\": {\"color\": \"#d1ff26\", \"width\": 5}, \"type\": \"line\", \"x0\": 7792, \"x1\": 8171, \"xref\": \"x\", \"y0\": 7792, \"y1\": 8171, \"yref\": \"y\"}, {\"line\": {\"color\": \"#ffd300\", \"width\": 5}, \"type\": \"line\", \"x0\": 8175, \"x1\": 8563, \"xref\": \"x\", \"y0\": 8175, \"y1\": 8563, \"yref\": \"y\"}, {\"line\": {\"color\": \"#ffcc00\", \"width\": 5}, \"type\": \"line\", \"x0\": 8565, \"x1\": 8941, \"xref\": \"x\", \"y0\": 8565, \"y1\": 8941, \"yref\": \"y\"}, {\"line\": {\"color\": \"#ffa300\", \"width\": 5}, \"type\": \"line\", \"x0\": 8945, \"x1\": 9341, \"xref\": \"x\", \"y0\": 8945, \"y1\": 9341, \"yref\": \"y\"}, {\"line\": {\"color\": \"#a7ff50\", \"width\": 5}, \"type\": \"line\", \"x0\": 9342, \"x1\": 9698, \"xref\": \"x\", \"y0\": 9342, \"y1\": 9698, \"yref\": \"y\"}, {\"line\": {\"color\": \"#ffe200\", \"width\": 5}, \"type\": \"line\", \"x0\": 9699, \"x1\": 10067, \"xref\": \"x\", \"y0\": 9699, \"y1\": 10067, \"yref\": \"y\"}, {\"line\": {\"color\": \"#800000\", \"width\": 5}, \"type\": \"line\", \"x0\": 10067, \"x1\": 10455, \"xref\": \"x\", \"y0\": 10067, \"y1\": 10455, \"yref\": \"y\"}], \"width\": 725, \"xaxis\": {\"range\": [-533.65, 10773], \"showgrid\": false}, \"yaxis\": {\"autorange\": \"reversed\", \"range\": [0, 10673], \"showgrid\": false}}, {\"showLink\": false, \"linkText\": \"Export to plot.ly\", \"plotlyServerURL\": \"https://plot.ly\"})});</script>"
      ],
      "text/vnd.plotly.v1+html": [
       "<div id=\"23099c94-4e6b-4178-add9-e09f5d33bf3c\" style=\"height: 725px; width: 725px;\" class=\"plotly-graph-div\"></div><script type=\"text/javascript\">require([\"plotly\"], function(Plotly) { window.PLOTLYENV=window.PLOTLYENV || {};window.PLOTLYENV.BASE_URL=\"https://plot.ly\";Plotly.newPlot(\"23099c94-4e6b-4178-add9-e09f5d33bf3c\", [{\"mode\": \"text\", \"name\": \"alignment #\", \"text\": [\"1\", \"2\", \"3\", \"4\", \"5\", \"6\", \"7\", \"8\", \"9\", \"10\", \"11\", \"12\", \"13\", \"14\", \"15\", \"16\", \"17\", \"18\", \"19\", \"20\", \"21\", \"22\", \"23\", \"24\", \"25\", \"26\", \"27\", \"28\", \"29\", \"30\", \"31\", \"32\", \"33\", \"34\", \"35\", \"36\", \"37\", \"38\", \"39\", \"40\"], \"textfont\": {\"color\": \"red\", \"size\": 10}, \"textposition\": \"top right\", \"x\": [5008, 392, 7269, 768, 5440, 4651, 1163, 5884, 4674, 6138, 1560, 9054, 4637, 1922, 6545, 6886, 4677, 2307, 2667, 4627, 7346, 4676, 3069, 7699, 4651, 3463, 8114, 4648, 8482, 4652, 8836, 4627, 9285, 4960, 5324, 5734, 7268, 6484, 7651, 9185], \"y\": [4622, 3, 6867, 7, 4674, 3531, 31, 4734, 3172, 4622, 39, 7489, 2745, 29, 4649, 4622, 2400, 29, 0, 1960, 4674, 1640, 9, 4637, 1224, 24, 4674, 846, 4649, 470, 4622, 71, 4674, 11, 0, 29, 1173, 29, 29, 3], \"type\": \"scatter\", \"uid\": \"33542d66-a7d8-470c-be89-6470ed41b599\"}, {\"mode\": \"markers\", \"name\": \"start\", \"x\": [5008, 392, 7269, 768, 5440, 4651, 1163, 5884, 4674, 6138, 1560, 9054, 4637, 1922, 6545, 6886, 4677, 2307, 2667, 4627, 7346, 4676, 3069, 7699, 4651, 3463, 8114, 4648, 8482, 4652, 8836, 4627, 9285, 4960, 5324, 5734, 7268, 6484, 7651, 9185], \"y\": [4622, 3, 6867, 7, 4674, 3531, 31, 4734, 3172, 4622, 39, 7489, 2745, 29, 4649, 4622, 2400, 29, 0, 1960, 4674, 1640, 9, 4637, 1224, 24, 4674, 846, 4649, 470, 4622, 71, 4674, 11, 0, 29, 1173, 29, 29, 3], \"type\": \"scatter\", \"uid\": \"52992ce8-0d21-42b3-9fd8-534dfc0e3fa0\"}, {\"mode\": \"markers\", \"name\": \"end\", \"x\": [7214, 4374, 10114, 4414, 10143, 5548, 4410, 10125, 5932, 8915, 4407, 10125, 6316, 4410, 10143, 10143, 6689, 4431, 4378, 7056, 9922, 7211, 4387, 10143, 7850, 4399, 10128, 8227, 10143, 8622, 10124, 9002, 10151, 8915, 9720, 10673, 10143, 10144, 10143, 10114], \"y\": [6847, 4003, 9747, 3674, 9409, 4414, 3288, 9002, 4409, 7372, 2890, 8622, 4430, 2508, 8243, 7867, 4414, 2138, 1714, 4415, 7214, 4204, 1336, 7068, 4410, 974, 6689, 4410, 6312, 4410, 5932, 4410, 5567, 3952, 4374, 4954, 4059, 3686, 2525, 974], \"type\": \"scatter\", \"uid\": \"4434ff80-a18e-4301-9388-c1a0699106e3\"}, {\"mode\": \"text\", \"name\": \"interval #\", \"text\": [\"1\", \"2\"], \"textfont\": {\"color\": \"grey\", \"size\": 10}, \"textposition\": \"top right\", \"x\": [3, 4622], \"y\": [3, 4622], \"type\": \"scatter\", \"uid\": \"566dc226-72f5-4c28-890e-27ffccb1a477\"}, {\"mode\": \"text\", \"name\": \"representative ID\", \"text\": [\"0:1- \", \"0:1- \", \"0:1- \", \"0:1- \", \"0:1- \", \"0:1- \", \"0:1- \", \"0:1- \", \"0:1- \", \"0:1- \", \"0:1- \", \"0:1- \", \"0:1- \", \"0:1- \", \"0:1- \", \"0:1- \", \"0:1- \", \"0:1- \", \"0:1- \", \"0:1- \", \"0:1- \", \"0:1- \", \"0:1- \", \"0:1- \", \"0:1- \", \"0:1- \", \"0:1- \"], \"textfont\": {\"color\": \"black\", \"size\": 10}, \"textposition\": \"bottom left\", \"x\": [176, 549, 928, 1303, 1691, 2057, 2449, 2836, 3229, 3610, 3980, 4353, 4725, 5106, 5492, 5876, 6239, 6626, 6992, 7398, 7792, 8175, 8565, 8945, 9342, 9699, 10067], \"y\": [176, 549, 928, 1303, 1691, 2057, 2449, 2836, 3229, 3610, 3980, 4353, 4725, 5106, 5492, 5876, 6239, 6626, 6992, 7398, 7792, 8175, 8565, 8945, 9342, 9699, 10067], \"type\": \"scatter\", \"uid\": \"8ea02b59-4012-4640-b6b1-fca106c43ba2\"}, {\"hoverinfo\": \"text\", \"showlegend\": false, \"text\": [\"0:1-<br>[176, 549] (373 bp)<br>diff = 0.185\", \"0:1-<br>[549, 928] (379 bp)<br>diff = 0.196\", \"0:1-<br>[928, 1301] (373 bp)<br>diff = 0.217\", \"0:1-<br>[1303, 1691] (388 bp)<br>diff = 0.241\", \"0:1-<br>[1691, 2057] (366 bp)<br>diff = 0.203\", \"0:1-<br>[2057, 2449] (392 bp)<br>diff = 0.213\", \"0:1-<br>[2449, 2835] (386 bp)<br>diff = 0.213\", \"0:1-<br>[2836, 3227] (391 bp)<br>diff = 0.219\", \"0:1-<br>[3229, 3608] (379 bp)<br>diff = 0.171\", \"0:1-<br>[3610, 3980] (370 bp)<br>diff = 0.194\", \"0:1-<br>[3980, 4353] (373 bp)<br>diff = 0.23\", \"0:1-<br>[4353, 4724] (371 bp)<br>diff = 0.33\", \"0:1-<br>[4725, 5106] (381 bp)<br>diff = 0.204\", \"0:1-<br>[5106, 5492] (386 bp)<br>diff = 0.206\", \"0:1-<br>[5492, 5874] (382 bp)<br>diff = 0.209\", \"0:1-<br>[5876, 6238] (362 bp)<br>diff = 0.199\", \"0:1-<br>[6239, 6625] (386 bp)<br>diff = 0.201\", \"0:1-<br>[6626, 6992] (366 bp)<br>diff = 0.226\", \"0:1-<br>[6992, 7399] (407 bp)<br>diff = 0.258\", \"0:1-<br>[7398, 7792] (394 bp)<br>diff = 0.238\", \"0:1-<br>[7792, 8171] (379 bp)<br>diff = 0.201\", \"0:1-<br>[8175, 8563] (388 bp)<br>diff = 0.229\", \"0:1-<br>[8565, 8941] (376 bp)<br>diff = 0.231\", \"0:1-<br>[8945, 9341] (396 bp)<br>diff = 0.245\", \"0:1-<br>[9342, 9698] (356 bp)<br>diff = 0.184\", \"0:1-<br>[9699, 10067] (368 bp)<br>diff = 0.223\", \"0:1-<br>[10067, 10455] (388 bp)<br>diff = 0.349\"], \"x\": [176, 549, 928, 1303, 1691, 2057, 2449, 2836, 3229, 3610, 3980, 4353, 4725, 5106, 5492, 5876, 6239, 6626, 6992, 7398, 7792, 8175, 8565, 8945, 9342, 9699, 10067], \"y\": [176, 549, 928, 1303, 1691, 2057, 2449, 2836, 3229, 3610, 3980, 4353, 4725, 5106, 5492, 5876, 6239, 6626, 6992, 7398, 7792, 8175, 8565, 8945, 9342, 9699, 10067], \"type\": \"scatter\", \"uid\": \"38085e53-3e51-4522-9c38-43a654979876\"}], {\"height\": 725, \"hovermode\": \"closest\", \"shapes\": [{\"line\": {\"color\": \"grey\", \"width\": 3}, \"type\": \"line\", \"x0\": 0, \"x1\": 10673, \"xref\": \"x\", \"y0\": 0, \"y1\": 10673, \"yref\": \"y\"}, {\"line\": {\"color\": \"black\", \"width\": 3}, \"type\": \"line\", \"x0\": 3, \"x1\": 4414, \"xref\": \"x\", \"y0\": 3, \"y1\": 4414, \"yref\": \"y\"}, {\"line\": {\"color\": \"black\", \"width\": 3}, \"type\": \"line\", \"x0\": 4622, \"x1\": 10143, \"xref\": \"x\", \"y0\": 4622, \"y1\": 10143, \"yref\": \"y\"}, {\"line\": {\"color\": \"purple\", \"width\": 3}, \"type\": \"line\", \"x0\": 5008, \"x1\": 7214, \"xref\": \"x\", \"y0\": 4622, \"y1\": 6847, \"yref\": \"y\"}, {\"line\": {\"color\": \"purple\", \"width\": 3}, \"type\": \"line\", \"x0\": 392, \"x1\": 4374, \"xref\": \"x\", \"y0\": 3, \"y1\": 4003, \"yref\": \"y\"}, {\"line\": {\"color\": \"purple\", \"width\": 3}, \"type\": \"line\", \"x0\": 7269, \"x1\": 10114, \"xref\": \"x\", \"y0\": 6867, \"y1\": 9747, \"yref\": \"y\"}, {\"line\": {\"color\": \"blue\", \"width\": 1}, \"type\": \"line\", \"x0\": 768, \"x1\": 4414, \"xref\": \"x\", \"y0\": 7, \"y1\": 3674, \"yref\": \"y\"}, {\"line\": {\"color\": \"blue\", \"width\": 1}, \"type\": \"line\", \"x0\": 5440, \"x1\": 10143, \"xref\": \"x\", \"y0\": 4674, \"y1\": 9409, \"yref\": \"y\"}, {\"line\": {\"color\": \"black\", \"width\": 1}, \"type\": \"line\", \"x0\": 4651, \"x1\": 5548, \"xref\": \"x\", \"y0\": 3531, \"y1\": 4414, \"yref\": \"y\"}, {\"line\": {\"color\": \"blue\", \"width\": 1}, \"type\": \"line\", \"x0\": 1163, \"x1\": 4410, \"xref\": \"x\", \"y0\": 31, \"y1\": 3288, \"yref\": \"y\"}, {\"line\": {\"color\": \"blue\", \"width\": 1}, \"type\": \"line\", \"x0\": 5884, \"x1\": 10125, \"xref\": \"x\", \"y0\": 4734, \"y1\": 9002, \"yref\": \"y\"}, {\"line\": {\"color\": \"black\", \"width\": 1}, \"type\": \"line\", \"x0\": 4674, \"x1\": 5932, \"xref\": \"x\", \"y0\": 3172, \"y1\": 4409, \"yref\": \"y\"}, {\"line\": {\"color\": \"blue\", \"width\": 1}, \"type\": \"line\", \"x0\": 6138, \"x1\": 8915, \"xref\": \"x\", \"y0\": 4622, \"y1\": 7372, \"yref\": \"y\"}, {\"line\": {\"color\": \"blue\", \"width\": 1}, \"type\": \"line\", \"x0\": 1560, \"x1\": 4407, \"xref\": \"x\", \"y0\": 39, \"y1\": 2890, \"yref\": \"y\"}, {\"line\": {\"color\": \"yellow\", \"width\": 1}, \"type\": \"line\", \"x0\": 9054, \"x1\": 10125, \"xref\": \"x\", \"y0\": 7489, \"y1\": 8622, \"yref\": \"y\"}, {\"line\": {\"color\": \"black\", \"width\": 1}, \"type\": \"line\", \"x0\": 4637, \"x1\": 6316, \"xref\": \"x\", \"y0\": 2745, \"y1\": 4430, \"yref\": \"y\"}, {\"line\": {\"color\": \"blue\", \"width\": 1}, \"type\": \"line\", \"x0\": 1922, \"x1\": 4410, \"xref\": \"x\", \"y0\": 29, \"y1\": 2508, \"yref\": \"y\"}, {\"line\": {\"color\": \"blue\", \"width\": 1}, \"type\": \"line\", \"x0\": 6545, \"x1\": 10143, \"xref\": \"x\", \"y0\": 4649, \"y1\": 8243, \"yref\": \"y\"}, {\"line\": {\"color\": \"blue\", \"width\": 1}, \"type\": \"line\", \"x0\": 6886, \"x1\": 10143, \"xref\": \"x\", \"y0\": 4622, \"y1\": 7867, \"yref\": \"y\"}, {\"line\": {\"color\": \"black\", \"width\": 1}, \"type\": \"line\", \"x0\": 4677, \"x1\": 6689, \"xref\": \"x\", \"y0\": 2400, \"y1\": 4414, \"yref\": \"y\"}, {\"line\": {\"color\": \"black\", \"width\": 1}, \"type\": \"line\", \"x0\": 2307, \"x1\": 4431, \"xref\": \"x\", \"y0\": 29, \"y1\": 2138, \"yref\": \"y\"}, {\"line\": {\"color\": \"black\", \"width\": 1}, \"type\": \"line\", \"x0\": 2667, \"x1\": 4378, \"xref\": \"x\", \"y0\": 0, \"y1\": 1714, \"yref\": \"y\"}, {\"line\": {\"color\": \"black\", \"width\": 1}, \"type\": \"line\", \"x0\": 4627, \"x1\": 7056, \"xref\": \"x\", \"y0\": 1960, \"y1\": 4415, \"yref\": \"y\"}, {\"line\": {\"color\": \"black\", \"width\": 1}, \"type\": \"line\", \"x0\": 7346, \"x1\": 9922, \"xref\": \"x\", \"y0\": 4674, \"y1\": 7214, \"yref\": \"y\"}, {\"line\": {\"color\": \"black\", \"width\": 1}, \"type\": \"line\", \"x0\": 4676, \"x1\": 7211, \"xref\": \"x\", \"y0\": 1640, \"y1\": 4204, \"yref\": \"y\"}, {\"line\": {\"color\": \"black\", \"width\": 1}, \"type\": \"line\", \"x0\": 3069, \"x1\": 4387, \"xref\": \"x\", \"y0\": 9, \"y1\": 1336, \"yref\": \"y\"}, {\"line\": {\"color\": \"black\", \"width\": 1}, \"type\": \"line\", \"x0\": 7699, \"x1\": 10143, \"xref\": \"x\", \"y0\": 4637, \"y1\": 7068, \"yref\": \"y\"}, {\"line\": {\"color\": \"black\", \"width\": 1}, \"type\": \"line\", \"x0\": 4651, \"x1\": 7850, \"xref\": \"x\", \"y0\": 1224, \"y1\": 4410, \"yref\": \"y\"}, {\"line\": {\"color\": \"black\", \"width\": 1}, \"type\": \"line\", \"x0\": 3463, \"x1\": 4399, \"xref\": \"x\", \"y0\": 24, \"y1\": 974, \"yref\": \"y\"}, {\"line\": {\"color\": \"black\", \"width\": 1}, \"type\": \"line\", \"x0\": 8114, \"x1\": 10128, \"xref\": \"x\", \"y0\": 4674, \"y1\": 6689, \"yref\": \"y\"}, {\"line\": {\"color\": \"black\", \"width\": 1}, \"type\": \"line\", \"x0\": 4648, \"x1\": 8227, \"xref\": \"x\", \"y0\": 846, \"y1\": 4410, \"yref\": \"y\"}, {\"line\": {\"color\": \"black\", \"width\": 1}, \"type\": \"line\", \"x0\": 8482, \"x1\": 10143, \"xref\": \"x\", \"y0\": 4649, \"y1\": 6312, \"yref\": \"y\"}, {\"line\": {\"color\": \"black\", \"width\": 1}, \"type\": \"line\", \"x0\": 4652, \"x1\": 8622, \"xref\": \"x\", \"y0\": 470, \"y1\": 4410, \"yref\": \"y\"}, {\"line\": {\"color\": \"black\", \"width\": 1}, \"type\": \"line\", \"x0\": 8836, \"x1\": 10124, \"xref\": \"x\", \"y0\": 4622, \"y1\": 5932, \"yref\": \"y\"}, {\"line\": {\"color\": \"black\", \"width\": 1}, \"type\": \"line\", \"x0\": 4627, \"x1\": 9002, \"xref\": \"x\", \"y0\": 71, \"y1\": 4410, \"yref\": \"y\"}, {\"line\": {\"color\": \"black\", \"width\": 1}, \"type\": \"line\", \"x0\": 9285, \"x1\": 10151, \"xref\": \"x\", \"y0\": 4674, \"y1\": 5567, \"yref\": \"y\"}, {\"line\": {\"color\": \"black\", \"width\": 1}, \"type\": \"line\", \"x0\": 4960, \"x1\": 8915, \"xref\": \"x\", \"y0\": 11, \"y1\": 3952, \"yref\": \"y\"}, {\"line\": {\"color\": \"black\", \"width\": 1}, \"type\": \"line\", \"x0\": 5324, \"x1\": 9720, \"xref\": \"x\", \"y0\": 0, \"y1\": 4374, \"yref\": \"y\"}, {\"line\": {\"color\": \"black\", \"width\": 1}, \"type\": \"line\", \"x0\": 5734, \"x1\": 10673, \"xref\": \"x\", \"y0\": 29, \"y1\": 4954, \"yref\": \"y\"}, {\"line\": {\"color\": \"black\", \"width\": 1}, \"type\": \"line\", \"x0\": 7268, \"x1\": 10143, \"xref\": \"x\", \"y0\": 1173, \"y1\": 4059, \"yref\": \"y\"}, {\"line\": {\"color\": \"black\", \"width\": 1}, \"type\": \"line\", \"x0\": 6484, \"x1\": 10144, \"xref\": \"x\", \"y0\": 29, \"y1\": 3686, \"yref\": \"y\"}, {\"line\": {\"color\": \"black\", \"width\": 1}, \"type\": \"line\", \"x0\": 7651, \"x1\": 10143, \"xref\": \"x\", \"y0\": 29, \"y1\": 2525, \"yref\": \"y\"}, {\"line\": {\"color\": \"black\", \"width\": 1}, \"type\": \"line\", \"x0\": 9185, \"x1\": 10114, \"xref\": \"x\", \"y0\": 3, \"y1\": 974, \"yref\": \"y\"}, {\"line\": {\"color\": \"#aaff4d\", \"width\": 5}, \"type\": \"line\", \"x0\": 176, \"x1\": 549, \"xref\": \"x\", \"y0\": 176, \"y1\": 549, \"yref\": \"y\"}, {\"line\": {\"color\": \"#c4ff33\", \"width\": 5}, \"type\": \"line\", \"x0\": 549, \"x1\": 928, \"xref\": \"x\", \"y0\": 549, \"y1\": 928, \"yref\": \"y\"}, {\"line\": {\"color\": \"#f8f500\", \"width\": 5}, \"type\": \"line\", \"x0\": 928, \"x1\": 1301, \"xref\": \"x\", \"y0\": 928, \"y1\": 1301, \"yref\": \"y\"}, {\"line\": {\"color\": \"#ffae00\", \"width\": 5}, \"type\": \"line\", \"x0\": 1303, \"x1\": 1691, \"xref\": \"x\", \"y0\": 1303, \"y1\": 1691, \"yref\": \"y\"}, {\"line\": {\"color\": \"#d4ff23\", \"width\": 5}, \"type\": \"line\", \"x0\": 1691, \"x1\": 2057, \"xref\": \"x\", \"y0\": 1691, \"y1\": 2057, \"yref\": \"y\"}, {\"line\": {\"color\": \"#eeff09\", \"width\": 5}, \"type\": \"line\", \"x0\": 2057, \"x1\": 2449, \"xref\": \"x\", \"y0\": 2057, \"y1\": 2449, \"yref\": \"y\"}, {\"line\": {\"color\": \"#eeff09\", \"width\": 5}, \"type\": \"line\", \"x0\": 2449, \"x1\": 2835, \"xref\": \"x\", \"y0\": 2449, \"y1\": 2835, \"yref\": \"y\"}, {\"line\": {\"color\": \"#feed00\", \"width\": 5}, \"type\": \"line\", \"x0\": 2836, \"x1\": 3227, \"xref\": \"x\", \"y0\": 2836, \"y1\": 3227, \"yref\": \"y\"}, {\"line\": {\"color\": \"#87ff70\", \"width\": 5}, \"type\": \"line\", \"x0\": 3229, \"x1\": 3608, \"xref\": \"x\", \"y0\": 3229, \"y1\": 3608, \"yref\": \"y\"}, {\"line\": {\"color\": \"#beff39\", \"width\": 5}, \"type\": \"line\", \"x0\": 3610, \"x1\": 3980, \"xref\": \"x\", \"y0\": 3610, \"y1\": 3980, \"yref\": \"y\"}, {\"line\": {\"color\": \"#ffd000\", \"width\": 5}, \"type\": \"line\", \"x0\": 3980, \"x1\": 4353, \"xref\": \"x\", \"y0\": 3980, \"y1\": 4353, \"yref\": \"y\"}, {\"line\": {\"color\": \"#890000\", \"width\": 5}, \"type\": \"line\", \"x0\": 4353, \"x1\": 4724, \"xref\": \"x\", \"y0\": 4353, \"y1\": 4724, \"yref\": \"y\"}, {\"line\": {\"color\": \"#d7ff1f\", \"width\": 5}, \"type\": \"line\", \"x0\": 4725, \"x1\": 5106, \"xref\": \"x\", \"y0\": 4725, \"y1\": 5106, \"yref\": \"y\"}, {\"line\": {\"color\": \"#deff19\", \"width\": 5}, \"type\": \"line\", \"x0\": 5106, \"x1\": 5492, \"xref\": \"x\", \"y0\": 5106, \"y1\": 5492, \"yref\": \"y\"}, {\"line\": {\"color\": \"#e4ff13\", \"width\": 5}, \"type\": \"line\", \"x0\": 5492, \"x1\": 5874, \"xref\": \"x\", \"y0\": 5492, \"y1\": 5874, \"yref\": \"y\"}, {\"line\": {\"color\": \"#caff2c\", \"width\": 5}, \"type\": \"line\", \"x0\": 5876, \"x1\": 6238, \"xref\": \"x\", \"y0\": 5876, \"y1\": 6238, \"yref\": \"y\"}, {\"line\": {\"color\": \"#d1ff26\", \"width\": 5}, \"type\": \"line\", \"x0\": 6239, \"x1\": 6625, \"xref\": \"x\", \"y0\": 6239, \"y1\": 6625, \"yref\": \"y\"}, {\"line\": {\"color\": \"#ffdb00\", \"width\": 5}, \"type\": \"line\", \"x0\": 6626, \"x1\": 6992, \"xref\": \"x\", \"y0\": 6626, \"y1\": 6992, \"yref\": \"y\"}, {\"line\": {\"color\": \"#ff7e00\", \"width\": 5}, \"type\": \"line\", \"x0\": 6992, \"x1\": 7399, \"xref\": \"x\", \"y0\": 6992, \"y1\": 7399, \"yref\": \"y\"}, {\"line\": {\"color\": \"#ffb900\", \"width\": 5}, \"type\": \"line\", \"x0\": 7398, \"x1\": 7792, \"xref\": \"x\", \"y0\": 7398, \"y1\": 7792, \"yref\": \"y\"}, {\"line\": {\"color\": \"#d1ff26\", \"width\": 5}, \"type\": \"line\", \"x0\": 7792, \"x1\": 8171, \"xref\": \"x\", \"y0\": 7792, \"y1\": 8171, \"yref\": \"y\"}, {\"line\": {\"color\": \"#ffd300\", \"width\": 5}, \"type\": \"line\", \"x0\": 8175, \"x1\": 8563, \"xref\": \"x\", \"y0\": 8175, \"y1\": 8563, \"yref\": \"y\"}, {\"line\": {\"color\": \"#ffcc00\", \"width\": 5}, \"type\": \"line\", \"x0\": 8565, \"x1\": 8941, \"xref\": \"x\", \"y0\": 8565, \"y1\": 8941, \"yref\": \"y\"}, {\"line\": {\"color\": \"#ffa300\", \"width\": 5}, \"type\": \"line\", \"x0\": 8945, \"x1\": 9341, \"xref\": \"x\", \"y0\": 8945, \"y1\": 9341, \"yref\": \"y\"}, {\"line\": {\"color\": \"#a7ff50\", \"width\": 5}, \"type\": \"line\", \"x0\": 9342, \"x1\": 9698, \"xref\": \"x\", \"y0\": 9342, \"y1\": 9698, \"yref\": \"y\"}, {\"line\": {\"color\": \"#ffe200\", \"width\": 5}, \"type\": \"line\", \"x0\": 9699, \"x1\": 10067, \"xref\": \"x\", \"y0\": 9699, \"y1\": 10067, \"yref\": \"y\"}, {\"line\": {\"color\": \"#800000\", \"width\": 5}, \"type\": \"line\", \"x0\": 10067, \"x1\": 10455, \"xref\": \"x\", \"y0\": 10067, \"y1\": 10455, \"yref\": \"y\"}], \"width\": 725, \"xaxis\": {\"range\": [-533.65, 10773], \"showgrid\": false}, \"yaxis\": {\"autorange\": \"reversed\", \"range\": [0, 10673], \"showgrid\": false}}, {\"showLink\": false, \"linkText\": \"Export to plot.ly\", \"plotlyServerURL\": \"https://plot.ly\"})});</script>"
      ]
     },
     "metadata": {},
     "output_type": "display_data"
    }
   ],
   "source": [
    "v.show(219)"
   ]
  },
  {
   "cell_type": "code",
   "execution_count": null,
   "metadata": {},
   "outputs": [],
   "source": []
  }
 ],
 "metadata": {
  "kernelspec": {
   "display_name": "Python 3",
   "language": "python",
   "name": "python3"
  },
  "language_info": {
   "codemirror_mode": {
    "name": "ipython",
    "version": 3
   },
   "file_extension": ".py",
   "mimetype": "text/x-python",
   "name": "python",
   "nbconvert_exporter": "python",
   "pygments_lexer": "ipython3",
   "version": "3.7.2"
  }
 },
 "nbformat": 4,
 "nbformat_minor": 2
}
