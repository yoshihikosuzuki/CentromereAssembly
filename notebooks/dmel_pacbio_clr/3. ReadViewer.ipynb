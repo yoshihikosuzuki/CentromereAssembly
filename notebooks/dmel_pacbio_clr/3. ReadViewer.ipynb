{
 "cells": [
  {
   "cell_type": "code",
   "execution_count": 1,
   "metadata": {},
   "outputs": [
    {
     "data": {
      "text/html": [
       "        <script type=\"text/javascript\">\n",
       "        window.PlotlyConfig = {MathJaxConfig: 'local'};\n",
       "        if (window.MathJax) {MathJax.Hub.Config({SVG: {font: \"STIX-Web\"}});}\n",
       "        if (typeof require !== 'undefined') {\n",
       "        require.undef(\"plotly\");\n",
       "        requirejs.config({\n",
       "            paths: {\n",
       "                'plotly': ['https://cdn.plot.ly/plotly-latest.min']\n",
       "            }\n",
       "        });\n",
       "        require(['plotly'], function(Plotly) {\n",
       "            window._Plotly = Plotly;\n",
       "        });\n",
       "        }\n",
       "        </script>\n",
       "        "
      ]
     },
     "metadata": {},
     "output_type": "display_data"
    }
   ],
   "source": [
    "%matplotlib inline\n",
    "%config InlineBackend.figure_format = 'retina'\n",
    "from IPython.display import display\n",
    "import plotly.offline as py\n",
    "py.init_notebook_mode(connected=True)\n",
    "import plotly.io as pio\n",
    "pio.templates.default = 'plotly_white'\n",
    "import logging\n",
    "import logzero\n",
    "logzero.loglevel(logging.INFO)"
   ]
  },
  {
   "cell_type": "markdown",
   "metadata": {},
   "source": [
    "# Move to the data directory"
   ]
  },
  {
   "cell_type": "code",
   "execution_count": 7,
   "metadata": {},
   "outputs": [],
   "source": [
    "dir_fname = \"result\""
   ]
  },
  {
   "cell_type": "code",
   "execution_count": null,
   "metadata": {},
   "outputs": [],
   "source": [
    "import os\n",
    "os.chdir(dir_fname)"
   ]
  },
  {
   "cell_type": "markdown",
   "metadata": {},
   "source": [
    "# Input"
   ]
  },
  {
   "cell_type": "markdown",
   "metadata": {},
   "source": [
    "* DAZZ_DB file\n",
    "* las file of datander\n",
    "* Gepard command **[Optional: for dot plot]**"
   ]
  },
  {
   "cell_type": "code",
   "execution_count": 5,
   "metadata": {},
   "outputs": [],
   "source": [
    "db_fname = \"DMEL.db\"\n",
    "las_fname = \"TAN.DMEL.las\"\n",
    "gepard_root = \"/work2/yoshihiko_s/software/gepard\"\n",
    "gepard_jar = f\"{gepard_root}/dist/Gepard-1.40.jar\"\n",
    "gepard_mat = f\"{gepard_root}/resources/matrices/edna.mat\"\n",
    "gepard = f\"java -cp {gepard_jar} org.gepard.client.cmdline.CommandLine -matrix {gepard_mat}\""
   ]
  },
  {
   "cell_type": "markdown",
   "metadata": {},
   "source": [
    "* 1) Read ID in DAZZ_DB as `int` or 2) `TRRead` object **[Defined later]**"
   ]
  },
  {
   "cell_type": "markdown",
   "metadata": {},
   "source": [
    "# Output"
   ]
  },
  {
   "cell_type": "markdown",
   "metadata": {},
   "source": [
    "Self plot of the read"
   ]
  },
  {
   "cell_type": "markdown",
   "metadata": {},
   "source": [
    "# How to run"
   ]
  },
  {
   "cell_type": "code",
   "execution_count": 4,
   "metadata": {},
   "outputs": [],
   "source": [
    "from vca import ReadViewer"
   ]
  },
  {
   "cell_type": "markdown",
   "metadata": {},
   "source": [
    "You don't have to specify `gepard` if you do not need to draw dot plots."
   ]
  },
  {
   "cell_type": "code",
   "execution_count": 6,
   "metadata": {},
   "outputs": [],
   "source": [
    "v = ReadViewer(db_fname, las_fname, gepard)"
   ]
  },
  {
   "cell_type": "markdown",
   "metadata": {},
   "source": [
    "## Plot with DAZZ_DB read ID"
   ]
  },
  {
   "cell_type": "markdown",
   "metadata": {},
   "source": [
    "If you just want to look at only TR intervals and self alignments:"
   ]
  },
  {
   "cell_type": "code",
   "execution_count": 7,
   "metadata": {},
   "outputs": [
    {
     "data": {
      "application/vnd.plotly.v1+json": {
       "config": {
        "linkText": "Export to plot.ly",
        "plotlyServerURL": "https://plot.ly",
        "showLink": false
       },
       "data": [
        {
         "marker": {
          "size": 5
         },
         "mode": "markers",
         "name": "start",
         "showlegend": true,
         "type": "scatter",
         "x": [
          367,
          8288,
          7954,
          720,
          8656,
          7937,
          1110,
          9032,
          7950,
          1402,
          9333,
          7920,
          1755,
          7958,
          2174,
          7908,
          2477,
          7954,
          2851,
          7923,
          3198,
          5999,
          8010,
          3573,
          7979,
          3944,
          7975,
          4255,
          7950,
          4651,
          5005,
          7950,
          5380,
          7920,
          5722,
          7994,
          7920,
          8003,
          7978,
          8124
         ],
         "y": [
          26,
          7938,
          7338,
          19,
          7936,
          6962,
          65,
          7963,
          6612,
          17,
          7908,
          6229,
          17,
          5911,
          66,
          5512,
          19,
          5196,
          24,
          4793,
          33,
          2787,
          4521,
          63,
          4124,
          65,
          3758,
          19,
          3377,
          33,
          19,
          2660,
          33,
          2282,
          19,
          1998,
          1566,
          602,
          231,
          26
         ]
        },
        {
         "marker": {
          "size": 5
         },
         "mode": "markers",
         "name": "end",
         "showlegend": true,
         "type": "scatter",
         "x": [
          7901,
          9900,
          8521,
          7894,
          9909,
          8873,
          7901,
          9909,
          9230,
          7885,
          9909,
          9579,
          7894,
          9909,
          7901,
          9909,
          7894,
          9902,
          7880,
          9907,
          5999,
          7891,
          9909,
          7884,
          9909,
          7901,
          9910,
          7884,
          9909,
          7883,
          7894,
          9908,
          7901,
          9910,
          7901,
          9899,
          9907,
          9907,
          9909,
          9909
         ],
         "y": [
          7545,
          9538,
          7894,
          7183,
          9195,
          7885,
          6843,
          8853,
          7894,
          6460,
          8492,
          7894,
          6103,
          7865,
          5771,
          7509,
          5404,
          7153,
          5034,
          6802,
          2758,
          4673,
          6441,
          4287,
          6075,
          3949,
          5735,
          3569,
          5374,
          3212,
          2885,
          4643,
          2528,
          4268,
          2179,
          3902,
          3549,
          2487,
          2139,
          1770
         ]
        },
        {
         "hoverinfo": "text",
         "marker": {
          "size": 5
         },
         "mode": "text",
         "name": "TR interval",
         "showlegend": true,
         "text": [
          "1",
          "2"
         ],
         "textfont": {
          "color": "grey",
          "size": 10
         },
         "textposition": "top right",
         "type": "scatter",
         "x": [
          17,
          7936
         ],
         "y": [
          17,
          7936
         ]
        }
       ],
       "layout": {
        "height": 800,
        "hovermode": "closest",
        "shapes": [
         {
          "layer": "below",
          "line": {
           "color": "grey",
           "width": 3
          },
          "type": "line",
          "x0": 0,
          "x1": 9910,
          "xref": "x",
          "y0": 0,
          "y1": 9910,
          "yref": "y"
         },
         {
          "layer": "below",
          "line": {
           "color": "black",
           "width": 3
          },
          "type": "line",
          "x0": 17,
          "x1": 7901,
          "xref": "x",
          "y0": 17,
          "y1": 7901,
          "yref": "y"
         },
         {
          "layer": "below",
          "line": {
           "color": "black",
           "width": 3
          },
          "type": "line",
          "x0": 7936,
          "x1": 9909,
          "xref": "x",
          "y0": 7936,
          "y1": 9909,
          "yref": "y"
         },
         {
          "layer": "below",
          "line": {
           "color": "purple",
           "width": 3
          },
          "type": "line",
          "x0": 367,
          "x1": 7901,
          "xref": "x",
          "y0": 26,
          "y1": 7545,
          "yref": "y"
         },
         {
          "layer": "below",
          "line": {
           "color": "purple",
           "width": 3
          },
          "type": "line",
          "x0": 8288,
          "x1": 9900,
          "xref": "x",
          "y0": 7938,
          "y1": 9538,
          "yref": "y"
         },
         {
          "layer": "below",
          "line": {
           "color": "black",
           "width": 1
          },
          "type": "line",
          "x0": 7954,
          "x1": 8521,
          "xref": "x",
          "y0": 7338,
          "y1": 7894,
          "yref": "y"
         },
         {
          "layer": "below",
          "line": {
           "color": "black",
           "width": 1
          },
          "type": "line",
          "x0": 720,
          "x1": 7894,
          "xref": "x",
          "y0": 19,
          "y1": 7183,
          "yref": "y"
         },
         {
          "layer": "below",
          "line": {
           "color": "black",
           "width": 1
          },
          "type": "line",
          "x0": 8656,
          "x1": 9909,
          "xref": "x",
          "y0": 7936,
          "y1": 9195,
          "yref": "y"
         },
         {
          "layer": "below",
          "line": {
           "color": "black",
           "width": 1
          },
          "type": "line",
          "x0": 7937,
          "x1": 8873,
          "xref": "x",
          "y0": 6962,
          "y1": 7885,
          "yref": "y"
         },
         {
          "layer": "below",
          "line": {
           "color": "black",
           "width": 1
          },
          "type": "line",
          "x0": 1110,
          "x1": 7901,
          "xref": "x",
          "y0": 65,
          "y1": 6843,
          "yref": "y"
         },
         {
          "layer": "below",
          "line": {
           "color": "black",
           "width": 1
          },
          "type": "line",
          "x0": 9032,
          "x1": 9909,
          "xref": "x",
          "y0": 7963,
          "y1": 8853,
          "yref": "y"
         },
         {
          "layer": "below",
          "line": {
           "color": "black",
           "width": 1
          },
          "type": "line",
          "x0": 7950,
          "x1": 9230,
          "xref": "x",
          "y0": 6612,
          "y1": 7894,
          "yref": "y"
         },
         {
          "layer": "below",
          "line": {
           "color": "black",
           "width": 1
          },
          "type": "line",
          "x0": 1402,
          "x1": 7885,
          "xref": "x",
          "y0": 17,
          "y1": 6460,
          "yref": "y"
         },
         {
          "layer": "below",
          "line": {
           "color": "black",
           "width": 1
          },
          "type": "line",
          "x0": 9333,
          "x1": 9909,
          "xref": "x",
          "y0": 7908,
          "y1": 8492,
          "yref": "y"
         },
         {
          "layer": "below",
          "line": {
           "color": "black",
           "width": 1
          },
          "type": "line",
          "x0": 7920,
          "x1": 9579,
          "xref": "x",
          "y0": 6229,
          "y1": 7894,
          "yref": "y"
         },
         {
          "layer": "below",
          "line": {
           "color": "black",
           "width": 1
          },
          "type": "line",
          "x0": 1755,
          "x1": 7894,
          "xref": "x",
          "y0": 17,
          "y1": 6103,
          "yref": "y"
         },
         {
          "layer": "below",
          "line": {
           "color": "black",
           "width": 1
          },
          "type": "line",
          "x0": 7958,
          "x1": 9909,
          "xref": "x",
          "y0": 5911,
          "y1": 7865,
          "yref": "y"
         },
         {
          "layer": "below",
          "line": {
           "color": "black",
           "width": 1
          },
          "type": "line",
          "x0": 2174,
          "x1": 7901,
          "xref": "x",
          "y0": 66,
          "y1": 5771,
          "yref": "y"
         },
         {
          "layer": "below",
          "line": {
           "color": "black",
           "width": 1
          },
          "type": "line",
          "x0": 7908,
          "x1": 9909,
          "xref": "x",
          "y0": 5512,
          "y1": 7509,
          "yref": "y"
         },
         {
          "layer": "below",
          "line": {
           "color": "black",
           "width": 1
          },
          "type": "line",
          "x0": 2477,
          "x1": 7894,
          "xref": "x",
          "y0": 19,
          "y1": 5404,
          "yref": "y"
         },
         {
          "layer": "below",
          "line": {
           "color": "black",
           "width": 1
          },
          "type": "line",
          "x0": 7954,
          "x1": 9902,
          "xref": "x",
          "y0": 5196,
          "y1": 7153,
          "yref": "y"
         },
         {
          "layer": "below",
          "line": {
           "color": "black",
           "width": 1
          },
          "type": "line",
          "x0": 2851,
          "x1": 7880,
          "xref": "x",
          "y0": 24,
          "y1": 5034,
          "yref": "y"
         },
         {
          "layer": "below",
          "line": {
           "color": "black",
           "width": 1
          },
          "type": "line",
          "x0": 7923,
          "x1": 9907,
          "xref": "x",
          "y0": 4793,
          "y1": 6802,
          "yref": "y"
         },
         {
          "layer": "below",
          "line": {
           "color": "black",
           "width": 1
          },
          "type": "line",
          "x0": 3198,
          "x1": 5999,
          "xref": "x",
          "y0": 33,
          "y1": 2758,
          "yref": "y"
         },
         {
          "layer": "below",
          "line": {
           "color": "black",
           "width": 1
          },
          "type": "line",
          "x0": 5999,
          "x1": 7891,
          "xref": "x",
          "y0": 2787,
          "y1": 4673,
          "yref": "y"
         },
         {
          "layer": "below",
          "line": {
           "color": "black",
           "width": 1
          },
          "type": "line",
          "x0": 8010,
          "x1": 9909,
          "xref": "x",
          "y0": 4521,
          "y1": 6441,
          "yref": "y"
         },
         {
          "layer": "below",
          "line": {
           "color": "black",
           "width": 1
          },
          "type": "line",
          "x0": 3573,
          "x1": 7884,
          "xref": "x",
          "y0": 63,
          "y1": 4287,
          "yref": "y"
         },
         {
          "layer": "below",
          "line": {
           "color": "black",
           "width": 1
          },
          "type": "line",
          "x0": 7979,
          "x1": 9909,
          "xref": "x",
          "y0": 4124,
          "y1": 6075,
          "yref": "y"
         },
         {
          "layer": "below",
          "line": {
           "color": "black",
           "width": 1
          },
          "type": "line",
          "x0": 3944,
          "x1": 7901,
          "xref": "x",
          "y0": 65,
          "y1": 3949,
          "yref": "y"
         },
         {
          "layer": "below",
          "line": {
           "color": "black",
           "width": 1
          },
          "type": "line",
          "x0": 7975,
          "x1": 9910,
          "xref": "x",
          "y0": 3758,
          "y1": 5735,
          "yref": "y"
         },
         {
          "layer": "below",
          "line": {
           "color": "black",
           "width": 1
          },
          "type": "line",
          "x0": 4255,
          "x1": 7884,
          "xref": "x",
          "y0": 19,
          "y1": 3569,
          "yref": "y"
         },
         {
          "layer": "below",
          "line": {
           "color": "black",
           "width": 1
          },
          "type": "line",
          "x0": 7950,
          "x1": 9909,
          "xref": "x",
          "y0": 3377,
          "y1": 5374,
          "yref": "y"
         },
         {
          "layer": "below",
          "line": {
           "color": "black",
           "width": 1
          },
          "type": "line",
          "x0": 4651,
          "x1": 7883,
          "xref": "x",
          "y0": 33,
          "y1": 3212,
          "yref": "y"
         },
         {
          "layer": "below",
          "line": {
           "color": "black",
           "width": 1
          },
          "type": "line",
          "x0": 5005,
          "x1": 7894,
          "xref": "x",
          "y0": 19,
          "y1": 2885,
          "yref": "y"
         },
         {
          "layer": "below",
          "line": {
           "color": "black",
           "width": 1
          },
          "type": "line",
          "x0": 7950,
          "x1": 9908,
          "xref": "x",
          "y0": 2660,
          "y1": 4643,
          "yref": "y"
         },
         {
          "layer": "below",
          "line": {
           "color": "black",
           "width": 1
          },
          "type": "line",
          "x0": 5380,
          "x1": 7901,
          "xref": "x",
          "y0": 33,
          "y1": 2528,
          "yref": "y"
         },
         {
          "layer": "below",
          "line": {
           "color": "black",
           "width": 1
          },
          "type": "line",
          "x0": 7920,
          "x1": 9910,
          "xref": "x",
          "y0": 2282,
          "y1": 4268,
          "yref": "y"
         },
         {
          "layer": "below",
          "line": {
           "color": "black",
           "width": 1
          },
          "type": "line",
          "x0": 5722,
          "x1": 7901,
          "xref": "x",
          "y0": 19,
          "y1": 2179,
          "yref": "y"
         },
         {
          "layer": "below",
          "line": {
           "color": "black",
           "width": 1
          },
          "type": "line",
          "x0": 7994,
          "x1": 9899,
          "xref": "x",
          "y0": 1998,
          "y1": 3902,
          "yref": "y"
         },
         {
          "layer": "below",
          "line": {
           "color": "black",
           "width": 1
          },
          "type": "line",
          "x0": 7920,
          "x1": 9907,
          "xref": "x",
          "y0": 1566,
          "y1": 3549,
          "yref": "y"
         },
         {
          "layer": "below",
          "line": {
           "color": "black",
           "width": 1
          },
          "type": "line",
          "x0": 8003,
          "x1": 9907,
          "xref": "x",
          "y0": 602,
          "y1": 2487,
          "yref": "y"
         },
         {
          "layer": "below",
          "line": {
           "color": "black",
           "width": 1
          },
          "type": "line",
          "x0": 7978,
          "x1": 9909,
          "xref": "x",
          "y0": 231,
          "y1": 2139,
          "yref": "y"
         },
         {
          "layer": "below",
          "line": {
           "color": "black",
           "width": 1
          },
          "type": "line",
          "x0": 8124,
          "x1": 9909,
          "xref": "x",
          "y0": 26,
          "y1": 1770,
          "yref": "y"
         }
        ],
        "template": {
         "data": {
          "bar": [
           {
            "error_x": {
             "color": "#2a3f5f"
            },
            "error_y": {
             "color": "#2a3f5f"
            },
            "marker": {
             "line": {
              "color": "white",
              "width": 0.5
             }
            },
            "type": "bar"
           }
          ],
          "barpolar": [
           {
            "marker": {
             "line": {
              "color": "white",
              "width": 0.5
             }
            },
            "type": "barpolar"
           }
          ],
          "carpet": [
           {
            "aaxis": {
             "endlinecolor": "#2a3f5f",
             "gridcolor": "#C8D4E3",
             "linecolor": "#C8D4E3",
             "minorgridcolor": "#C8D4E3",
             "startlinecolor": "#2a3f5f"
            },
            "baxis": {
             "endlinecolor": "#2a3f5f",
             "gridcolor": "#C8D4E3",
             "linecolor": "#C8D4E3",
             "minorgridcolor": "#C8D4E3",
             "startlinecolor": "#2a3f5f"
            },
            "type": "carpet"
           }
          ],
          "choropleth": [
           {
            "colorbar": {
             "outlinewidth": 0,
             "ticks": ""
            },
            "type": "choropleth"
           }
          ],
          "contour": [
           {
            "colorbar": {
             "outlinewidth": 0,
             "ticks": ""
            },
            "colorscale": [
             [
              0,
              "#0d0887"
             ],
             [
              0.1111111111111111,
              "#46039f"
             ],
             [
              0.2222222222222222,
              "#7201a8"
             ],
             [
              0.3333333333333333,
              "#9c179e"
             ],
             [
              0.4444444444444444,
              "#bd3786"
             ],
             [
              0.5555555555555556,
              "#d8576b"
             ],
             [
              0.6666666666666666,
              "#ed7953"
             ],
             [
              0.7777777777777778,
              "#fb9f3a"
             ],
             [
              0.8888888888888888,
              "#fdca26"
             ],
             [
              1,
              "#f0f921"
             ]
            ],
            "type": "contour"
           }
          ],
          "contourcarpet": [
           {
            "colorbar": {
             "outlinewidth": 0,
             "ticks": ""
            },
            "type": "contourcarpet"
           }
          ],
          "heatmap": [
           {
            "colorbar": {
             "outlinewidth": 0,
             "ticks": ""
            },
            "colorscale": [
             [
              0,
              "#0d0887"
             ],
             [
              0.1111111111111111,
              "#46039f"
             ],
             [
              0.2222222222222222,
              "#7201a8"
             ],
             [
              0.3333333333333333,
              "#9c179e"
             ],
             [
              0.4444444444444444,
              "#bd3786"
             ],
             [
              0.5555555555555556,
              "#d8576b"
             ],
             [
              0.6666666666666666,
              "#ed7953"
             ],
             [
              0.7777777777777778,
              "#fb9f3a"
             ],
             [
              0.8888888888888888,
              "#fdca26"
             ],
             [
              1,
              "#f0f921"
             ]
            ],
            "type": "heatmap"
           }
          ],
          "heatmapgl": [
           {
            "colorbar": {
             "outlinewidth": 0,
             "ticks": ""
            },
            "colorscale": [
             [
              0,
              "#0d0887"
             ],
             [
              0.1111111111111111,
              "#46039f"
             ],
             [
              0.2222222222222222,
              "#7201a8"
             ],
             [
              0.3333333333333333,
              "#9c179e"
             ],
             [
              0.4444444444444444,
              "#bd3786"
             ],
             [
              0.5555555555555556,
              "#d8576b"
             ],
             [
              0.6666666666666666,
              "#ed7953"
             ],
             [
              0.7777777777777778,
              "#fb9f3a"
             ],
             [
              0.8888888888888888,
              "#fdca26"
             ],
             [
              1,
              "#f0f921"
             ]
            ],
            "type": "heatmapgl"
           }
          ],
          "histogram": [
           {
            "marker": {
             "colorbar": {
              "outlinewidth": 0,
              "ticks": ""
             }
            },
            "type": "histogram"
           }
          ],
          "histogram2d": [
           {
            "colorbar": {
             "outlinewidth": 0,
             "ticks": ""
            },
            "colorscale": [
             [
              0,
              "#0d0887"
             ],
             [
              0.1111111111111111,
              "#46039f"
             ],
             [
              0.2222222222222222,
              "#7201a8"
             ],
             [
              0.3333333333333333,
              "#9c179e"
             ],
             [
              0.4444444444444444,
              "#bd3786"
             ],
             [
              0.5555555555555556,
              "#d8576b"
             ],
             [
              0.6666666666666666,
              "#ed7953"
             ],
             [
              0.7777777777777778,
              "#fb9f3a"
             ],
             [
              0.8888888888888888,
              "#fdca26"
             ],
             [
              1,
              "#f0f921"
             ]
            ],
            "type": "histogram2d"
           }
          ],
          "histogram2dcontour": [
           {
            "colorbar": {
             "outlinewidth": 0,
             "ticks": ""
            },
            "colorscale": [
             [
              0,
              "#0d0887"
             ],
             [
              0.1111111111111111,
              "#46039f"
             ],
             [
              0.2222222222222222,
              "#7201a8"
             ],
             [
              0.3333333333333333,
              "#9c179e"
             ],
             [
              0.4444444444444444,
              "#bd3786"
             ],
             [
              0.5555555555555556,
              "#d8576b"
             ],
             [
              0.6666666666666666,
              "#ed7953"
             ],
             [
              0.7777777777777778,
              "#fb9f3a"
             ],
             [
              0.8888888888888888,
              "#fdca26"
             ],
             [
              1,
              "#f0f921"
             ]
            ],
            "type": "histogram2dcontour"
           }
          ],
          "mesh3d": [
           {
            "colorbar": {
             "outlinewidth": 0,
             "ticks": ""
            },
            "type": "mesh3d"
           }
          ],
          "parcoords": [
           {
            "line": {
             "colorbar": {
              "outlinewidth": 0,
              "ticks": ""
             }
            },
            "type": "parcoords"
           }
          ],
          "scatter": [
           {
            "marker": {
             "colorbar": {
              "outlinewidth": 0,
              "ticks": ""
             }
            },
            "type": "scatter"
           }
          ],
          "scatter3d": [
           {
            "line": {
             "colorbar": {
              "outlinewidth": 0,
              "ticks": ""
             }
            },
            "marker": {
             "colorbar": {
              "outlinewidth": 0,
              "ticks": ""
             }
            },
            "type": "scatter3d"
           }
          ],
          "scattercarpet": [
           {
            "marker": {
             "colorbar": {
              "outlinewidth": 0,
              "ticks": ""
             }
            },
            "type": "scattercarpet"
           }
          ],
          "scattergeo": [
           {
            "marker": {
             "colorbar": {
              "outlinewidth": 0,
              "ticks": ""
             }
            },
            "type": "scattergeo"
           }
          ],
          "scattergl": [
           {
            "marker": {
             "colorbar": {
              "outlinewidth": 0,
              "ticks": ""
             }
            },
            "type": "scattergl"
           }
          ],
          "scattermapbox": [
           {
            "marker": {
             "colorbar": {
              "outlinewidth": 0,
              "ticks": ""
             }
            },
            "type": "scattermapbox"
           }
          ],
          "scatterpolar": [
           {
            "marker": {
             "colorbar": {
              "outlinewidth": 0,
              "ticks": ""
             }
            },
            "type": "scatterpolar"
           }
          ],
          "scatterpolargl": [
           {
            "marker": {
             "colorbar": {
              "outlinewidth": 0,
              "ticks": ""
             }
            },
            "type": "scatterpolargl"
           }
          ],
          "scatterternary": [
           {
            "marker": {
             "colorbar": {
              "outlinewidth": 0,
              "ticks": ""
             }
            },
            "type": "scatterternary"
           }
          ],
          "surface": [
           {
            "colorbar": {
             "outlinewidth": 0,
             "ticks": ""
            },
            "colorscale": [
             [
              0,
              "#0d0887"
             ],
             [
              0.1111111111111111,
              "#46039f"
             ],
             [
              0.2222222222222222,
              "#7201a8"
             ],
             [
              0.3333333333333333,
              "#9c179e"
             ],
             [
              0.4444444444444444,
              "#bd3786"
             ],
             [
              0.5555555555555556,
              "#d8576b"
             ],
             [
              0.6666666666666666,
              "#ed7953"
             ],
             [
              0.7777777777777778,
              "#fb9f3a"
             ],
             [
              0.8888888888888888,
              "#fdca26"
             ],
             [
              1,
              "#f0f921"
             ]
            ],
            "type": "surface"
           }
          ],
          "table": [
           {
            "cells": {
             "fill": {
              "color": "#EBF0F8"
             },
             "line": {
              "color": "white"
             }
            },
            "header": {
             "fill": {
              "color": "#C8D4E3"
             },
             "line": {
              "color": "white"
             }
            },
            "type": "table"
           }
          ]
         },
         "layout": {
          "annotationdefaults": {
           "arrowcolor": "#2a3f5f",
           "arrowhead": 0,
           "arrowwidth": 1
          },
          "colorscale": {
           "diverging": [
            [
             0,
             "#8e0152"
            ],
            [
             0.1,
             "#c51b7d"
            ],
            [
             0.2,
             "#de77ae"
            ],
            [
             0.3,
             "#f1b6da"
            ],
            [
             0.4,
             "#fde0ef"
            ],
            [
             0.5,
             "#f7f7f7"
            ],
            [
             0.6,
             "#e6f5d0"
            ],
            [
             0.7,
             "#b8e186"
            ],
            [
             0.8,
             "#7fbc41"
            ],
            [
             0.9,
             "#4d9221"
            ],
            [
             1,
             "#276419"
            ]
           ],
           "sequential": [
            [
             0,
             "#0d0887"
            ],
            [
             0.1111111111111111,
             "#46039f"
            ],
            [
             0.2222222222222222,
             "#7201a8"
            ],
            [
             0.3333333333333333,
             "#9c179e"
            ],
            [
             0.4444444444444444,
             "#bd3786"
            ],
            [
             0.5555555555555556,
             "#d8576b"
            ],
            [
             0.6666666666666666,
             "#ed7953"
            ],
            [
             0.7777777777777778,
             "#fb9f3a"
            ],
            [
             0.8888888888888888,
             "#fdca26"
            ],
            [
             1,
             "#f0f921"
            ]
           ],
           "sequentialminus": [
            [
             0,
             "#0d0887"
            ],
            [
             0.1111111111111111,
             "#46039f"
            ],
            [
             0.2222222222222222,
             "#7201a8"
            ],
            [
             0.3333333333333333,
             "#9c179e"
            ],
            [
             0.4444444444444444,
             "#bd3786"
            ],
            [
             0.5555555555555556,
             "#d8576b"
            ],
            [
             0.6666666666666666,
             "#ed7953"
            ],
            [
             0.7777777777777778,
             "#fb9f3a"
            ],
            [
             0.8888888888888888,
             "#fdca26"
            ],
            [
             1,
             "#f0f921"
            ]
           ]
          },
          "colorway": [
           "#636efa",
           "#EF553B",
           "#00cc96",
           "#ab63fa",
           "#FFA15A",
           "#19d3f3",
           "#FF6692",
           "#B6E880",
           "#FF97FF",
           "#FECB52"
          ],
          "font": {
           "color": "#2a3f5f"
          },
          "geo": {
           "bgcolor": "white",
           "lakecolor": "white",
           "landcolor": "white",
           "showlakes": true,
           "showland": true,
           "subunitcolor": "#C8D4E3"
          },
          "hoverlabel": {
           "align": "left"
          },
          "hovermode": "closest",
          "mapbox": {
           "style": "light"
          },
          "paper_bgcolor": "white",
          "plot_bgcolor": "white",
          "polar": {
           "angularaxis": {
            "gridcolor": "#EBF0F8",
            "linecolor": "#EBF0F8",
            "ticks": ""
           },
           "bgcolor": "white",
           "radialaxis": {
            "gridcolor": "#EBF0F8",
            "linecolor": "#EBF0F8",
            "ticks": ""
           }
          },
          "scene": {
           "xaxis": {
            "backgroundcolor": "white",
            "gridcolor": "#DFE8F3",
            "gridwidth": 2,
            "linecolor": "#EBF0F8",
            "showbackground": true,
            "ticks": "",
            "zerolinecolor": "#EBF0F8"
           },
           "yaxis": {
            "backgroundcolor": "white",
            "gridcolor": "#DFE8F3",
            "gridwidth": 2,
            "linecolor": "#EBF0F8",
            "showbackground": true,
            "ticks": "",
            "zerolinecolor": "#EBF0F8"
           },
           "zaxis": {
            "backgroundcolor": "white",
            "gridcolor": "#DFE8F3",
            "gridwidth": 2,
            "linecolor": "#EBF0F8",
            "showbackground": true,
            "ticks": "",
            "zerolinecolor": "#EBF0F8"
           }
          },
          "shapedefaults": {
           "line": {
            "color": "#2a3f5f"
           }
          },
          "ternary": {
           "aaxis": {
            "gridcolor": "#DFE8F3",
            "linecolor": "#A2B1C6",
            "ticks": ""
           },
           "baxis": {
            "gridcolor": "#DFE8F3",
            "linecolor": "#A2B1C6",
            "ticks": ""
           },
           "bgcolor": "white",
           "caxis": {
            "gridcolor": "#DFE8F3",
            "linecolor": "#A2B1C6",
            "ticks": ""
           }
          },
          "title": {
           "x": 0.05
          },
          "xaxis": {
           "automargin": true,
           "gridcolor": "#EBF0F8",
           "linecolor": "#EBF0F8",
           "ticks": "",
           "zerolinecolor": "#EBF0F8",
           "zerolinewidth": 2
          },
          "yaxis": {
           "automargin": true,
           "gridcolor": "#EBF0F8",
           "linecolor": "#EBF0F8",
           "ticks": "",
           "zerolinecolor": "#EBF0F8",
           "zerolinewidth": 2
          }
         }
        },
        "title": {
         "text": "165"
        },
        "width": 800,
        "xaxis": {
         "range": [
          -495.5,
          10010
         ],
         "showgrid": false
        },
        "yaxis": {
         "autorange": "reversed",
         "range": [
          0,
          9910
         ],
         "showgrid": false
        }
       }
      },
      "text/html": [
       "<div>\n",
       "        \n",
       "        \n",
       "            <div id=\"1093129f-6f98-436b-b960-592efacc93af\" class=\"plotly-graph-div\" style=\"height:800px; width:800px;\"></div>\n",
       "            <script type=\"text/javascript\">\n",
       "                require([\"plotly\"], function(Plotly) {\n",
       "                    window.PLOTLYENV=window.PLOTLYENV || {};\n",
       "                    \n",
       "                if (document.getElementById(\"1093129f-6f98-436b-b960-592efacc93af\")) {\n",
       "                    Plotly.newPlot(\n",
       "                        '1093129f-6f98-436b-b960-592efacc93af',\n",
       "                        [{\"marker\": {\"size\": 5}, \"mode\": \"markers\", \"name\": \"start\", \"showlegend\": true, \"type\": \"scatter\", \"x\": [367, 8288, 7954, 720, 8656, 7937, 1110, 9032, 7950, 1402, 9333, 7920, 1755, 7958, 2174, 7908, 2477, 7954, 2851, 7923, 3198, 5999, 8010, 3573, 7979, 3944, 7975, 4255, 7950, 4651, 5005, 7950, 5380, 7920, 5722, 7994, 7920, 8003, 7978, 8124], \"y\": [26, 7938, 7338, 19, 7936, 6962, 65, 7963, 6612, 17, 7908, 6229, 17, 5911, 66, 5512, 19, 5196, 24, 4793, 33, 2787, 4521, 63, 4124, 65, 3758, 19, 3377, 33, 19, 2660, 33, 2282, 19, 1998, 1566, 602, 231, 26]}, {\"marker\": {\"size\": 5}, \"mode\": \"markers\", \"name\": \"end\", \"showlegend\": true, \"type\": \"scatter\", \"x\": [7901, 9900, 8521, 7894, 9909, 8873, 7901, 9909, 9230, 7885, 9909, 9579, 7894, 9909, 7901, 9909, 7894, 9902, 7880, 9907, 5999, 7891, 9909, 7884, 9909, 7901, 9910, 7884, 9909, 7883, 7894, 9908, 7901, 9910, 7901, 9899, 9907, 9907, 9909, 9909], \"y\": [7545, 9538, 7894, 7183, 9195, 7885, 6843, 8853, 7894, 6460, 8492, 7894, 6103, 7865, 5771, 7509, 5404, 7153, 5034, 6802, 2758, 4673, 6441, 4287, 6075, 3949, 5735, 3569, 5374, 3212, 2885, 4643, 2528, 4268, 2179, 3902, 3549, 2487, 2139, 1770]}, {\"hoverinfo\": \"text\", \"marker\": {\"size\": 5}, \"mode\": \"text\", \"name\": \"TR interval\", \"showlegend\": true, \"text\": [\"1\", \"2\"], \"textfont\": {\"color\": \"grey\", \"size\": 10}, \"textposition\": \"top right\", \"type\": \"scatter\", \"x\": [17, 7936], \"y\": [17, 7936]}],\n",
       "                        {\"height\": 800, \"hovermode\": \"closest\", \"shapes\": [{\"layer\": \"below\", \"line\": {\"color\": \"grey\", \"width\": 3}, \"type\": \"line\", \"x0\": 0, \"x1\": 9910, \"xref\": \"x\", \"y0\": 0, \"y1\": 9910, \"yref\": \"y\"}, {\"layer\": \"below\", \"line\": {\"color\": \"black\", \"width\": 3}, \"type\": \"line\", \"x0\": 17, \"x1\": 7901, \"xref\": \"x\", \"y0\": 17, \"y1\": 7901, \"yref\": \"y\"}, {\"layer\": \"below\", \"line\": {\"color\": \"black\", \"width\": 3}, \"type\": \"line\", \"x0\": 7936, \"x1\": 9909, \"xref\": \"x\", \"y0\": 7936, \"y1\": 9909, \"yref\": \"y\"}, {\"layer\": \"below\", \"line\": {\"color\": \"purple\", \"width\": 3}, \"type\": \"line\", \"x0\": 367, \"x1\": 7901, \"xref\": \"x\", \"y0\": 26, \"y1\": 7545, \"yref\": \"y\"}, {\"layer\": \"below\", \"line\": {\"color\": \"purple\", \"width\": 3}, \"type\": \"line\", \"x0\": 8288, \"x1\": 9900, \"xref\": \"x\", \"y0\": 7938, \"y1\": 9538, \"yref\": \"y\"}, {\"layer\": \"below\", \"line\": {\"color\": \"black\", \"width\": 1}, \"type\": \"line\", \"x0\": 7954, \"x1\": 8521, \"xref\": \"x\", \"y0\": 7338, \"y1\": 7894, \"yref\": \"y\"}, {\"layer\": \"below\", \"line\": {\"color\": \"black\", \"width\": 1}, \"type\": \"line\", \"x0\": 720, \"x1\": 7894, \"xref\": \"x\", \"y0\": 19, \"y1\": 7183, \"yref\": \"y\"}, {\"layer\": \"below\", \"line\": {\"color\": \"black\", \"width\": 1}, \"type\": \"line\", \"x0\": 8656, \"x1\": 9909, \"xref\": \"x\", \"y0\": 7936, \"y1\": 9195, \"yref\": \"y\"}, {\"layer\": \"below\", \"line\": {\"color\": \"black\", \"width\": 1}, \"type\": \"line\", \"x0\": 7937, \"x1\": 8873, \"xref\": \"x\", \"y0\": 6962, \"y1\": 7885, \"yref\": \"y\"}, {\"layer\": \"below\", \"line\": {\"color\": \"black\", \"width\": 1}, \"type\": \"line\", \"x0\": 1110, \"x1\": 7901, \"xref\": \"x\", \"y0\": 65, \"y1\": 6843, \"yref\": \"y\"}, {\"layer\": \"below\", \"line\": {\"color\": \"black\", \"width\": 1}, \"type\": \"line\", \"x0\": 9032, \"x1\": 9909, \"xref\": \"x\", \"y0\": 7963, \"y1\": 8853, \"yref\": \"y\"}, {\"layer\": \"below\", \"line\": {\"color\": \"black\", \"width\": 1}, \"type\": \"line\", \"x0\": 7950, \"x1\": 9230, \"xref\": \"x\", \"y0\": 6612, \"y1\": 7894, \"yref\": \"y\"}, {\"layer\": \"below\", \"line\": {\"color\": \"black\", \"width\": 1}, \"type\": \"line\", \"x0\": 1402, \"x1\": 7885, \"xref\": \"x\", \"y0\": 17, \"y1\": 6460, \"yref\": \"y\"}, {\"layer\": \"below\", \"line\": {\"color\": \"black\", \"width\": 1}, \"type\": \"line\", \"x0\": 9333, \"x1\": 9909, \"xref\": \"x\", \"y0\": 7908, \"y1\": 8492, \"yref\": \"y\"}, {\"layer\": \"below\", \"line\": {\"color\": \"black\", \"width\": 1}, \"type\": \"line\", \"x0\": 7920, \"x1\": 9579, \"xref\": \"x\", \"y0\": 6229, \"y1\": 7894, \"yref\": \"y\"}, {\"layer\": \"below\", \"line\": {\"color\": \"black\", \"width\": 1}, \"type\": \"line\", \"x0\": 1755, \"x1\": 7894, \"xref\": \"x\", \"y0\": 17, \"y1\": 6103, \"yref\": \"y\"}, {\"layer\": \"below\", \"line\": {\"color\": \"black\", \"width\": 1}, \"type\": \"line\", \"x0\": 7958, \"x1\": 9909, \"xref\": \"x\", \"y0\": 5911, \"y1\": 7865, \"yref\": \"y\"}, {\"layer\": \"below\", \"line\": {\"color\": \"black\", \"width\": 1}, \"type\": \"line\", \"x0\": 2174, \"x1\": 7901, \"xref\": \"x\", \"y0\": 66, \"y1\": 5771, \"yref\": \"y\"}, {\"layer\": \"below\", \"line\": {\"color\": \"black\", \"width\": 1}, \"type\": \"line\", \"x0\": 7908, \"x1\": 9909, \"xref\": \"x\", \"y0\": 5512, \"y1\": 7509, \"yref\": \"y\"}, {\"layer\": \"below\", \"line\": {\"color\": \"black\", \"width\": 1}, \"type\": \"line\", \"x0\": 2477, \"x1\": 7894, \"xref\": \"x\", \"y0\": 19, \"y1\": 5404, \"yref\": \"y\"}, {\"layer\": \"below\", \"line\": {\"color\": \"black\", \"width\": 1}, \"type\": \"line\", \"x0\": 7954, \"x1\": 9902, \"xref\": \"x\", \"y0\": 5196, \"y1\": 7153, \"yref\": \"y\"}, {\"layer\": \"below\", \"line\": {\"color\": \"black\", \"width\": 1}, \"type\": \"line\", \"x0\": 2851, \"x1\": 7880, \"xref\": \"x\", \"y0\": 24, \"y1\": 5034, \"yref\": \"y\"}, {\"layer\": \"below\", \"line\": {\"color\": \"black\", \"width\": 1}, \"type\": \"line\", \"x0\": 7923, \"x1\": 9907, \"xref\": \"x\", \"y0\": 4793, \"y1\": 6802, \"yref\": \"y\"}, {\"layer\": \"below\", \"line\": {\"color\": \"black\", \"width\": 1}, \"type\": \"line\", \"x0\": 3198, \"x1\": 5999, \"xref\": \"x\", \"y0\": 33, \"y1\": 2758, \"yref\": \"y\"}, {\"layer\": \"below\", \"line\": {\"color\": \"black\", \"width\": 1}, \"type\": \"line\", \"x0\": 5999, \"x1\": 7891, \"xref\": \"x\", \"y0\": 2787, \"y1\": 4673, \"yref\": \"y\"}, {\"layer\": \"below\", \"line\": {\"color\": \"black\", \"width\": 1}, \"type\": \"line\", \"x0\": 8010, \"x1\": 9909, \"xref\": \"x\", \"y0\": 4521, \"y1\": 6441, \"yref\": \"y\"}, {\"layer\": \"below\", \"line\": {\"color\": \"black\", \"width\": 1}, \"type\": \"line\", \"x0\": 3573, \"x1\": 7884, \"xref\": \"x\", \"y0\": 63, \"y1\": 4287, \"yref\": \"y\"}, {\"layer\": \"below\", \"line\": {\"color\": \"black\", \"width\": 1}, \"type\": \"line\", \"x0\": 7979, \"x1\": 9909, \"xref\": \"x\", \"y0\": 4124, \"y1\": 6075, \"yref\": \"y\"}, {\"layer\": \"below\", \"line\": {\"color\": \"black\", \"width\": 1}, \"type\": \"line\", \"x0\": 3944, \"x1\": 7901, \"xref\": \"x\", \"y0\": 65, \"y1\": 3949, \"yref\": \"y\"}, {\"layer\": \"below\", \"line\": {\"color\": \"black\", \"width\": 1}, \"type\": \"line\", \"x0\": 7975, \"x1\": 9910, \"xref\": \"x\", \"y0\": 3758, \"y1\": 5735, \"yref\": \"y\"}, {\"layer\": \"below\", \"line\": {\"color\": \"black\", \"width\": 1}, \"type\": \"line\", \"x0\": 4255, \"x1\": 7884, \"xref\": \"x\", \"y0\": 19, \"y1\": 3569, \"yref\": \"y\"}, {\"layer\": \"below\", \"line\": {\"color\": \"black\", \"width\": 1}, \"type\": \"line\", \"x0\": 7950, \"x1\": 9909, \"xref\": \"x\", \"y0\": 3377, \"y1\": 5374, \"yref\": \"y\"}, {\"layer\": \"below\", \"line\": {\"color\": \"black\", \"width\": 1}, \"type\": \"line\", \"x0\": 4651, \"x1\": 7883, \"xref\": \"x\", \"y0\": 33, \"y1\": 3212, \"yref\": \"y\"}, {\"layer\": \"below\", \"line\": {\"color\": \"black\", \"width\": 1}, \"type\": \"line\", \"x0\": 5005, \"x1\": 7894, \"xref\": \"x\", \"y0\": 19, \"y1\": 2885, \"yref\": \"y\"}, {\"layer\": \"below\", \"line\": {\"color\": \"black\", \"width\": 1}, \"type\": \"line\", \"x0\": 7950, \"x1\": 9908, \"xref\": \"x\", \"y0\": 2660, \"y1\": 4643, \"yref\": \"y\"}, {\"layer\": \"below\", \"line\": {\"color\": \"black\", \"width\": 1}, \"type\": \"line\", \"x0\": 5380, \"x1\": 7901, \"xref\": \"x\", \"y0\": 33, \"y1\": 2528, \"yref\": \"y\"}, {\"layer\": \"below\", \"line\": {\"color\": \"black\", \"width\": 1}, \"type\": \"line\", \"x0\": 7920, \"x1\": 9910, \"xref\": \"x\", \"y0\": 2282, \"y1\": 4268, \"yref\": \"y\"}, {\"layer\": \"below\", \"line\": {\"color\": \"black\", \"width\": 1}, \"type\": \"line\", \"x0\": 5722, \"x1\": 7901, \"xref\": \"x\", \"y0\": 19, \"y1\": 2179, \"yref\": \"y\"}, {\"layer\": \"below\", \"line\": {\"color\": \"black\", \"width\": 1}, \"type\": \"line\", \"x0\": 7994, \"x1\": 9899, \"xref\": \"x\", \"y0\": 1998, \"y1\": 3902, \"yref\": \"y\"}, {\"layer\": \"below\", \"line\": {\"color\": \"black\", \"width\": 1}, \"type\": \"line\", \"x0\": 7920, \"x1\": 9907, \"xref\": \"x\", \"y0\": 1566, \"y1\": 3549, \"yref\": \"y\"}, {\"layer\": \"below\", \"line\": {\"color\": \"black\", \"width\": 1}, \"type\": \"line\", \"x0\": 8003, \"x1\": 9907, \"xref\": \"x\", \"y0\": 602, \"y1\": 2487, \"yref\": \"y\"}, {\"layer\": \"below\", \"line\": {\"color\": \"black\", \"width\": 1}, \"type\": \"line\", \"x0\": 7978, \"x1\": 9909, \"xref\": \"x\", \"y0\": 231, \"y1\": 2139, \"yref\": \"y\"}, {\"layer\": \"below\", \"line\": {\"color\": \"black\", \"width\": 1}, \"type\": \"line\", \"x0\": 8124, \"x1\": 9909, \"xref\": \"x\", \"y0\": 26, \"y1\": 1770, \"yref\": \"y\"}], \"template\": {\"data\": {\"bar\": [{\"error_x\": {\"color\": \"#2a3f5f\"}, \"error_y\": {\"color\": \"#2a3f5f\"}, \"marker\": {\"line\": {\"color\": \"white\", \"width\": 0.5}}, \"type\": \"bar\"}], \"barpolar\": [{\"marker\": {\"line\": {\"color\": \"white\", \"width\": 0.5}}, \"type\": \"barpolar\"}], \"carpet\": [{\"aaxis\": {\"endlinecolor\": \"#2a3f5f\", \"gridcolor\": \"#C8D4E3\", \"linecolor\": \"#C8D4E3\", \"minorgridcolor\": \"#C8D4E3\", \"startlinecolor\": \"#2a3f5f\"}, \"baxis\": {\"endlinecolor\": \"#2a3f5f\", \"gridcolor\": \"#C8D4E3\", \"linecolor\": \"#C8D4E3\", \"minorgridcolor\": \"#C8D4E3\", \"startlinecolor\": \"#2a3f5f\"}, \"type\": \"carpet\"}], \"choropleth\": [{\"colorbar\": {\"outlinewidth\": 0, \"ticks\": \"\"}, \"type\": \"choropleth\"}], \"contour\": [{\"colorbar\": {\"outlinewidth\": 0, \"ticks\": \"\"}, \"colorscale\": [[0.0, \"#0d0887\"], [0.1111111111111111, \"#46039f\"], [0.2222222222222222, \"#7201a8\"], [0.3333333333333333, \"#9c179e\"], [0.4444444444444444, \"#bd3786\"], [0.5555555555555556, \"#d8576b\"], [0.6666666666666666, \"#ed7953\"], [0.7777777777777778, \"#fb9f3a\"], [0.8888888888888888, \"#fdca26\"], [1.0, \"#f0f921\"]], \"type\": \"contour\"}], \"contourcarpet\": [{\"colorbar\": {\"outlinewidth\": 0, \"ticks\": \"\"}, \"type\": \"contourcarpet\"}], \"heatmap\": [{\"colorbar\": {\"outlinewidth\": 0, \"ticks\": \"\"}, \"colorscale\": [[0.0, \"#0d0887\"], [0.1111111111111111, \"#46039f\"], [0.2222222222222222, \"#7201a8\"], [0.3333333333333333, \"#9c179e\"], [0.4444444444444444, \"#bd3786\"], [0.5555555555555556, \"#d8576b\"], [0.6666666666666666, \"#ed7953\"], [0.7777777777777778, \"#fb9f3a\"], [0.8888888888888888, \"#fdca26\"], [1.0, \"#f0f921\"]], \"type\": \"heatmap\"}], \"heatmapgl\": [{\"colorbar\": {\"outlinewidth\": 0, \"ticks\": \"\"}, \"colorscale\": [[0.0, \"#0d0887\"], [0.1111111111111111, \"#46039f\"], [0.2222222222222222, \"#7201a8\"], [0.3333333333333333, \"#9c179e\"], [0.4444444444444444, \"#bd3786\"], [0.5555555555555556, \"#d8576b\"], [0.6666666666666666, \"#ed7953\"], [0.7777777777777778, \"#fb9f3a\"], [0.8888888888888888, \"#fdca26\"], [1.0, \"#f0f921\"]], \"type\": \"heatmapgl\"}], \"histogram\": [{\"marker\": {\"colorbar\": {\"outlinewidth\": 0, \"ticks\": \"\"}}, \"type\": \"histogram\"}], \"histogram2d\": [{\"colorbar\": {\"outlinewidth\": 0, \"ticks\": \"\"}, \"colorscale\": [[0.0, \"#0d0887\"], [0.1111111111111111, \"#46039f\"], [0.2222222222222222, \"#7201a8\"], [0.3333333333333333, \"#9c179e\"], [0.4444444444444444, \"#bd3786\"], [0.5555555555555556, \"#d8576b\"], [0.6666666666666666, \"#ed7953\"], [0.7777777777777778, \"#fb9f3a\"], [0.8888888888888888, \"#fdca26\"], [1.0, \"#f0f921\"]], \"type\": \"histogram2d\"}], \"histogram2dcontour\": [{\"colorbar\": {\"outlinewidth\": 0, \"ticks\": \"\"}, \"colorscale\": [[0.0, \"#0d0887\"], [0.1111111111111111, \"#46039f\"], [0.2222222222222222, \"#7201a8\"], [0.3333333333333333, \"#9c179e\"], [0.4444444444444444, \"#bd3786\"], [0.5555555555555556, \"#d8576b\"], [0.6666666666666666, \"#ed7953\"], [0.7777777777777778, \"#fb9f3a\"], [0.8888888888888888, \"#fdca26\"], [1.0, \"#f0f921\"]], \"type\": \"histogram2dcontour\"}], \"mesh3d\": [{\"colorbar\": {\"outlinewidth\": 0, \"ticks\": \"\"}, \"type\": \"mesh3d\"}], \"parcoords\": [{\"line\": {\"colorbar\": {\"outlinewidth\": 0, \"ticks\": \"\"}}, \"type\": \"parcoords\"}], \"scatter\": [{\"marker\": {\"colorbar\": {\"outlinewidth\": 0, \"ticks\": \"\"}}, \"type\": \"scatter\"}], \"scatter3d\": [{\"line\": {\"colorbar\": {\"outlinewidth\": 0, \"ticks\": \"\"}}, \"marker\": {\"colorbar\": {\"outlinewidth\": 0, \"ticks\": \"\"}}, \"type\": \"scatter3d\"}], \"scattercarpet\": [{\"marker\": {\"colorbar\": {\"outlinewidth\": 0, \"ticks\": \"\"}}, \"type\": \"scattercarpet\"}], \"scattergeo\": [{\"marker\": {\"colorbar\": {\"outlinewidth\": 0, \"ticks\": \"\"}}, \"type\": \"scattergeo\"}], \"scattergl\": [{\"marker\": {\"colorbar\": {\"outlinewidth\": 0, \"ticks\": \"\"}}, \"type\": \"scattergl\"}], \"scattermapbox\": [{\"marker\": {\"colorbar\": {\"outlinewidth\": 0, \"ticks\": \"\"}}, \"type\": \"scattermapbox\"}], \"scatterpolar\": [{\"marker\": {\"colorbar\": {\"outlinewidth\": 0, \"ticks\": \"\"}}, \"type\": \"scatterpolar\"}], \"scatterpolargl\": [{\"marker\": {\"colorbar\": {\"outlinewidth\": 0, \"ticks\": \"\"}}, \"type\": \"scatterpolargl\"}], \"scatterternary\": [{\"marker\": {\"colorbar\": {\"outlinewidth\": 0, \"ticks\": \"\"}}, \"type\": \"scatterternary\"}], \"surface\": [{\"colorbar\": {\"outlinewidth\": 0, \"ticks\": \"\"}, \"colorscale\": [[0.0, \"#0d0887\"], [0.1111111111111111, \"#46039f\"], [0.2222222222222222, \"#7201a8\"], [0.3333333333333333, \"#9c179e\"], [0.4444444444444444, \"#bd3786\"], [0.5555555555555556, \"#d8576b\"], [0.6666666666666666, \"#ed7953\"], [0.7777777777777778, \"#fb9f3a\"], [0.8888888888888888, \"#fdca26\"], [1.0, \"#f0f921\"]], \"type\": \"surface\"}], \"table\": [{\"cells\": {\"fill\": {\"color\": \"#EBF0F8\"}, \"line\": {\"color\": \"white\"}}, \"header\": {\"fill\": {\"color\": \"#C8D4E3\"}, \"line\": {\"color\": \"white\"}}, \"type\": \"table\"}]}, \"layout\": {\"annotationdefaults\": {\"arrowcolor\": \"#2a3f5f\", \"arrowhead\": 0, \"arrowwidth\": 1}, \"colorscale\": {\"diverging\": [[0, \"#8e0152\"], [0.1, \"#c51b7d\"], [0.2, \"#de77ae\"], [0.3, \"#f1b6da\"], [0.4, \"#fde0ef\"], [0.5, \"#f7f7f7\"], [0.6, \"#e6f5d0\"], [0.7, \"#b8e186\"], [0.8, \"#7fbc41\"], [0.9, \"#4d9221\"], [1, \"#276419\"]], \"sequential\": [[0.0, \"#0d0887\"], [0.1111111111111111, \"#46039f\"], [0.2222222222222222, \"#7201a8\"], [0.3333333333333333, \"#9c179e\"], [0.4444444444444444, \"#bd3786\"], [0.5555555555555556, \"#d8576b\"], [0.6666666666666666, \"#ed7953\"], [0.7777777777777778, \"#fb9f3a\"], [0.8888888888888888, \"#fdca26\"], [1.0, \"#f0f921\"]], \"sequentialminus\": [[0.0, \"#0d0887\"], [0.1111111111111111, \"#46039f\"], [0.2222222222222222, \"#7201a8\"], [0.3333333333333333, \"#9c179e\"], [0.4444444444444444, \"#bd3786\"], [0.5555555555555556, \"#d8576b\"], [0.6666666666666666, \"#ed7953\"], [0.7777777777777778, \"#fb9f3a\"], [0.8888888888888888, \"#fdca26\"], [1.0, \"#f0f921\"]]}, \"colorway\": [\"#636efa\", \"#EF553B\", \"#00cc96\", \"#ab63fa\", \"#FFA15A\", \"#19d3f3\", \"#FF6692\", \"#B6E880\", \"#FF97FF\", \"#FECB52\"], \"font\": {\"color\": \"#2a3f5f\"}, \"geo\": {\"bgcolor\": \"white\", \"lakecolor\": \"white\", \"landcolor\": \"white\", \"showlakes\": true, \"showland\": true, \"subunitcolor\": \"#C8D4E3\"}, \"hoverlabel\": {\"align\": \"left\"}, \"hovermode\": \"closest\", \"mapbox\": {\"style\": \"light\"}, \"paper_bgcolor\": \"white\", \"plot_bgcolor\": \"white\", \"polar\": {\"angularaxis\": {\"gridcolor\": \"#EBF0F8\", \"linecolor\": \"#EBF0F8\", \"ticks\": \"\"}, \"bgcolor\": \"white\", \"radialaxis\": {\"gridcolor\": \"#EBF0F8\", \"linecolor\": \"#EBF0F8\", \"ticks\": \"\"}}, \"scene\": {\"xaxis\": {\"backgroundcolor\": \"white\", \"gridcolor\": \"#DFE8F3\", \"gridwidth\": 2, \"linecolor\": \"#EBF0F8\", \"showbackground\": true, \"ticks\": \"\", \"zerolinecolor\": \"#EBF0F8\"}, \"yaxis\": {\"backgroundcolor\": \"white\", \"gridcolor\": \"#DFE8F3\", \"gridwidth\": 2, \"linecolor\": \"#EBF0F8\", \"showbackground\": true, \"ticks\": \"\", \"zerolinecolor\": \"#EBF0F8\"}, \"zaxis\": {\"backgroundcolor\": \"white\", \"gridcolor\": \"#DFE8F3\", \"gridwidth\": 2, \"linecolor\": \"#EBF0F8\", \"showbackground\": true, \"ticks\": \"\", \"zerolinecolor\": \"#EBF0F8\"}}, \"shapedefaults\": {\"line\": {\"color\": \"#2a3f5f\"}}, \"ternary\": {\"aaxis\": {\"gridcolor\": \"#DFE8F3\", \"linecolor\": \"#A2B1C6\", \"ticks\": \"\"}, \"baxis\": {\"gridcolor\": \"#DFE8F3\", \"linecolor\": \"#A2B1C6\", \"ticks\": \"\"}, \"bgcolor\": \"white\", \"caxis\": {\"gridcolor\": \"#DFE8F3\", \"linecolor\": \"#A2B1C6\", \"ticks\": \"\"}}, \"title\": {\"x\": 0.05}, \"xaxis\": {\"automargin\": true, \"gridcolor\": \"#EBF0F8\", \"linecolor\": \"#EBF0F8\", \"ticks\": \"\", \"zerolinecolor\": \"#EBF0F8\", \"zerolinewidth\": 2}, \"yaxis\": {\"automargin\": true, \"gridcolor\": \"#EBF0F8\", \"linecolor\": \"#EBF0F8\", \"ticks\": \"\", \"zerolinecolor\": \"#EBF0F8\", \"zerolinewidth\": 2}}}, \"title\": {\"text\": \"165\"}, \"width\": 800, \"xaxis\": {\"range\": [-495.5, 10010], \"showgrid\": false}, \"yaxis\": {\"autorange\": \"reversed\", \"range\": [0, 9910], \"showgrid\": false}},\n",
       "                        {\"responsive\": true}\n",
       "                    ).then(function(){\n",
       "                            \n",
       "var gd = document.getElementById('1093129f-6f98-436b-b960-592efacc93af');\n",
       "var x = new MutationObserver(function (mutations, observer) {{\n",
       "        var display = window.getComputedStyle(gd).display;\n",
       "        if (!display || display === 'none') {{\n",
       "            console.log([gd, 'removed!']);\n",
       "            Plotly.purge(gd);\n",
       "            observer.disconnect();\n",
       "        }}\n",
       "}});\n",
       "\n",
       "// Listen for the removal of the full notebook cells\n",
       "var notebookContainer = gd.closest('#notebook-container');\n",
       "if (notebookContainer) {{\n",
       "    x.observe(notebookContainer, {childList: true});\n",
       "}}\n",
       "\n",
       "// Listen for the clearing of the current output cell\n",
       "var outputEl = gd.closest('.output');\n",
       "if (outputEl) {{\n",
       "    x.observe(outputEl, {childList: true});\n",
       "}}\n",
       "\n",
       "                        })\n",
       "                };\n",
       "                });\n",
       "            </script>\n",
       "        </div>"
      ]
     },
     "metadata": {},
     "output_type": "display_data"
    }
   ],
   "source": [
    "v.show(read_id=165)"
   ]
  },
  {
   "cell_type": "markdown",
   "metadata": {},
   "source": [
    "## Plot with `TRRead` object"
   ]
  },
  {
   "cell_type": "markdown",
   "metadata": {},
   "source": [
    "First load the `TRRead` objects while enabling O(1) access by a read ID:"
   ]
  },
  {
   "cell_type": "code",
   "execution_count": 8,
   "metadata": {},
   "outputs": [],
   "source": [
    "tr_reads = {read.id: read for read in load_pickle(\"centromere_reads.pkl\")}"
   ]
  },
  {
   "cell_type": "markdown",
   "metadata": {},
   "source": [
    "This will show additional information on the TR units:"
   ]
  },
  {
   "cell_type": "code",
   "execution_count": 9,
   "metadata": {},
   "outputs": [
    {
     "data": {
      "application/vnd.plotly.v1+json": {
       "config": {
        "linkText": "Export to plot.ly",
        "plotlyServerURL": "https://plot.ly",
        "showLink": false
       },
       "data": [
        {
         "marker": {
          "size": 5
         },
         "mode": "markers",
         "name": "start",
         "showlegend": true,
         "type": "scatter",
         "x": [
          367,
          8288,
          7954,
          720,
          8656,
          7937,
          1110,
          9032,
          7950,
          1402,
          9333,
          7920,
          1755,
          7958,
          2174,
          7908,
          2477,
          7954,
          2851,
          7923,
          3198,
          5999,
          8010,
          3573,
          7979,
          3944,
          7975,
          4255,
          7950,
          4651,
          5005,
          7950,
          5380,
          7920,
          5722,
          7994,
          7920,
          8003,
          7978,
          8124
         ],
         "y": [
          26,
          7938,
          7338,
          19,
          7936,
          6962,
          65,
          7963,
          6612,
          17,
          7908,
          6229,
          17,
          5911,
          66,
          5512,
          19,
          5196,
          24,
          4793,
          33,
          2787,
          4521,
          63,
          4124,
          65,
          3758,
          19,
          3377,
          33,
          19,
          2660,
          33,
          2282,
          19,
          1998,
          1566,
          602,
          231,
          26
         ]
        },
        {
         "marker": {
          "size": 5
         },
         "mode": "markers",
         "name": "end",
         "showlegend": true,
         "type": "scatter",
         "x": [
          7901,
          9900,
          8521,
          7894,
          9909,
          8873,
          7901,
          9909,
          9230,
          7885,
          9909,
          9579,
          7894,
          9909,
          7901,
          9909,
          7894,
          9902,
          7880,
          9907,
          5999,
          7891,
          9909,
          7884,
          9909,
          7901,
          9910,
          7884,
          9909,
          7883,
          7894,
          9908,
          7901,
          9910,
          7901,
          9899,
          9907,
          9907,
          9909,
          9909
         ],
         "y": [
          7545,
          9538,
          7894,
          7183,
          9195,
          7885,
          6843,
          8853,
          7894,
          6460,
          8492,
          7894,
          6103,
          7865,
          5771,
          7509,
          5404,
          7153,
          5034,
          6802,
          2758,
          4673,
          6441,
          4287,
          6075,
          3949,
          5735,
          3569,
          5374,
          3212,
          2885,
          4643,
          2528,
          4268,
          2179,
          3902,
          3549,
          2487,
          2139,
          1770
         ]
        },
        {
         "hoverinfo": "text",
         "marker": {
          "size": 5
         },
         "mode": "text",
         "name": "TR interval",
         "showlegend": true,
         "text": [
          "1",
          "2"
         ],
         "textfont": {
          "color": "grey",
          "size": 10
         },
         "textposition": "top right",
         "type": "scatter",
         "x": [
          17,
          7936
         ],
         "y": [
          17,
          7936
         ]
        },
        {
         "hoverinfo": "text",
         "marker": {
          "size": 5
         },
         "mode": "text",
         "name": "TR unit",
         "showlegend": true,
         "text": [
          "0 ",
          "1 ",
          "2 ",
          "3 ",
          "4 ",
          "5 ",
          "6 ",
          "7 ",
          "8 ",
          "9 ",
          "10 ",
          "11 ",
          "12 ",
          "13 ",
          "14 ",
          "15 ",
          "16 ",
          "17 ",
          "18 ",
          "19 ",
          "20 ",
          "21 ",
          "22 ",
          "23 ",
          "24 ",
          "25 ",
          "26 "
         ],
         "textfont": {
          "color": "black",
          "size": 10
         },
         "textposition": "bottom left",
         "type": "scatter",
         "x": [
          26,
          367,
          726,
          1084,
          1411,
          1763,
          2133,
          2483,
          2852,
          3188,
          3545,
          3906,
          4264,
          4641,
          5014,
          5371,
          5731,
          6072,
          6438,
          6801,
          7155,
          7506,
          7938,
          8288,
          8659,
          8997,
          9355
         ],
         "y": [
          26,
          367,
          726,
          1084,
          1411,
          1763,
          2133,
          2483,
          2852,
          3188,
          3545,
          3906,
          4264,
          4641,
          5014,
          5371,
          5731,
          6072,
          6438,
          6801,
          7155,
          7506,
          7938,
          8288,
          8659,
          8997,
          9355
         ]
        },
        {
         "hoverinfo": "text",
         "marker": {
          "color": "black",
          "size": 5
         },
         "mode": "markers",
         "showlegend": false,
         "text": [
          "unit 0<br>[26:367] (341 bp)",
          "unit 1<br>[367:726] (359 bp)",
          "unit 2<br>[726:1084] (358 bp)",
          "unit 3<br>[1084:1411] (327 bp)",
          "unit 4<br>[1411:1763] (352 bp)",
          "unit 5<br>[1763:2133] (370 bp)",
          "unit 6<br>[2133:2483] (350 bp)",
          "unit 7<br>[2483:2852] (369 bp)",
          "unit 8<br>[2852:3188] (336 bp)",
          "unit 9<br>[3188:3545] (357 bp)",
          "unit 10<br>[3545:3906] (361 bp)",
          "unit 11<br>[3906:4264] (358 bp)",
          "unit 12<br>[4264:4641] (377 bp)",
          "unit 13<br>[4641:5014] (373 bp)",
          "unit 14<br>[5014:5371] (357 bp)",
          "unit 15<br>[5371:5731] (360 bp)",
          "unit 16<br>[5731:6072] (341 bp)",
          "unit 17<br>[6072:6438] (366 bp)",
          "unit 18<br>[6438:6801] (363 bp)",
          "unit 19<br>[6801:7155] (354 bp)",
          "unit 20<br>[7155:7506] (351 bp)",
          "unit 21<br>[7506:7862] (356 bp)",
          "unit 22<br>[7938:8288] (350 bp)",
          "unit 23<br>[8288:8659] (371 bp)",
          "unit 24<br>[8659:8997] (338 bp)",
          "unit 25<br>[8997:9355] (358 bp)",
          "unit 26<br>[9355:9709] (354 bp)"
         ],
         "type": "scatter",
         "x": [
          26,
          367,
          726,
          1084,
          1411,
          1763,
          2133,
          2483,
          2852,
          3188,
          3545,
          3906,
          4264,
          4641,
          5014,
          5371,
          5731,
          6072,
          6438,
          6801,
          7155,
          7506,
          7938,
          8288,
          8659,
          8997,
          9355
         ],
         "y": [
          26,
          367,
          726,
          1084,
          1411,
          1763,
          2133,
          2483,
          2852,
          3188,
          3545,
          3906,
          4264,
          4641,
          5014,
          5371,
          5731,
          6072,
          6438,
          6801,
          7155,
          7506,
          7938,
          8288,
          8659,
          8997,
          9355
         ]
        }
       ],
       "layout": {
        "height": 800,
        "hovermode": "closest",
        "shapes": [
         {
          "layer": "below",
          "line": {
           "color": "grey",
           "width": 3
          },
          "type": "line",
          "x0": 0,
          "x1": 9910,
          "xref": "x",
          "y0": 0,
          "y1": 9910,
          "yref": "y"
         },
         {
          "layer": "below",
          "line": {
           "color": "black",
           "width": 3
          },
          "type": "line",
          "x0": 17,
          "x1": 7901,
          "xref": "x",
          "y0": 17,
          "y1": 7901,
          "yref": "y"
         },
         {
          "layer": "below",
          "line": {
           "color": "black",
           "width": 3
          },
          "type": "line",
          "x0": 7936,
          "x1": 9909,
          "xref": "x",
          "y0": 7936,
          "y1": 9909,
          "yref": "y"
         },
         {
          "layer": "below",
          "line": {
           "color": "purple",
           "width": 3
          },
          "type": "line",
          "x0": 367,
          "x1": 7901,
          "xref": "x",
          "y0": 26,
          "y1": 7545,
          "yref": "y"
         },
         {
          "layer": "below",
          "line": {
           "color": "purple",
           "width": 3
          },
          "type": "line",
          "x0": 8288,
          "x1": 9900,
          "xref": "x",
          "y0": 7938,
          "y1": 9538,
          "yref": "y"
         },
         {
          "layer": "below",
          "line": {
           "color": "black",
           "width": 1
          },
          "type": "line",
          "x0": 7954,
          "x1": 8521,
          "xref": "x",
          "y0": 7338,
          "y1": 7894,
          "yref": "y"
         },
         {
          "layer": "below",
          "line": {
           "color": "black",
           "width": 1
          },
          "type": "line",
          "x0": 720,
          "x1": 7894,
          "xref": "x",
          "y0": 19,
          "y1": 7183,
          "yref": "y"
         },
         {
          "layer": "below",
          "line": {
           "color": "black",
           "width": 1
          },
          "type": "line",
          "x0": 8656,
          "x1": 9909,
          "xref": "x",
          "y0": 7936,
          "y1": 9195,
          "yref": "y"
         },
         {
          "layer": "below",
          "line": {
           "color": "black",
           "width": 1
          },
          "type": "line",
          "x0": 7937,
          "x1": 8873,
          "xref": "x",
          "y0": 6962,
          "y1": 7885,
          "yref": "y"
         },
         {
          "layer": "below",
          "line": {
           "color": "black",
           "width": 1
          },
          "type": "line",
          "x0": 1110,
          "x1": 7901,
          "xref": "x",
          "y0": 65,
          "y1": 6843,
          "yref": "y"
         },
         {
          "layer": "below",
          "line": {
           "color": "black",
           "width": 1
          },
          "type": "line",
          "x0": 9032,
          "x1": 9909,
          "xref": "x",
          "y0": 7963,
          "y1": 8853,
          "yref": "y"
         },
         {
          "layer": "below",
          "line": {
           "color": "black",
           "width": 1
          },
          "type": "line",
          "x0": 7950,
          "x1": 9230,
          "xref": "x",
          "y0": 6612,
          "y1": 7894,
          "yref": "y"
         },
         {
          "layer": "below",
          "line": {
           "color": "black",
           "width": 1
          },
          "type": "line",
          "x0": 1402,
          "x1": 7885,
          "xref": "x",
          "y0": 17,
          "y1": 6460,
          "yref": "y"
         },
         {
          "layer": "below",
          "line": {
           "color": "black",
           "width": 1
          },
          "type": "line",
          "x0": 9333,
          "x1": 9909,
          "xref": "x",
          "y0": 7908,
          "y1": 8492,
          "yref": "y"
         },
         {
          "layer": "below",
          "line": {
           "color": "black",
           "width": 1
          },
          "type": "line",
          "x0": 7920,
          "x1": 9579,
          "xref": "x",
          "y0": 6229,
          "y1": 7894,
          "yref": "y"
         },
         {
          "layer": "below",
          "line": {
           "color": "black",
           "width": 1
          },
          "type": "line",
          "x0": 1755,
          "x1": 7894,
          "xref": "x",
          "y0": 17,
          "y1": 6103,
          "yref": "y"
         },
         {
          "layer": "below",
          "line": {
           "color": "black",
           "width": 1
          },
          "type": "line",
          "x0": 7958,
          "x1": 9909,
          "xref": "x",
          "y0": 5911,
          "y1": 7865,
          "yref": "y"
         },
         {
          "layer": "below",
          "line": {
           "color": "black",
           "width": 1
          },
          "type": "line",
          "x0": 2174,
          "x1": 7901,
          "xref": "x",
          "y0": 66,
          "y1": 5771,
          "yref": "y"
         },
         {
          "layer": "below",
          "line": {
           "color": "black",
           "width": 1
          },
          "type": "line",
          "x0": 7908,
          "x1": 9909,
          "xref": "x",
          "y0": 5512,
          "y1": 7509,
          "yref": "y"
         },
         {
          "layer": "below",
          "line": {
           "color": "black",
           "width": 1
          },
          "type": "line",
          "x0": 2477,
          "x1": 7894,
          "xref": "x",
          "y0": 19,
          "y1": 5404,
          "yref": "y"
         },
         {
          "layer": "below",
          "line": {
           "color": "black",
           "width": 1
          },
          "type": "line",
          "x0": 7954,
          "x1": 9902,
          "xref": "x",
          "y0": 5196,
          "y1": 7153,
          "yref": "y"
         },
         {
          "layer": "below",
          "line": {
           "color": "black",
           "width": 1
          },
          "type": "line",
          "x0": 2851,
          "x1": 7880,
          "xref": "x",
          "y0": 24,
          "y1": 5034,
          "yref": "y"
         },
         {
          "layer": "below",
          "line": {
           "color": "black",
           "width": 1
          },
          "type": "line",
          "x0": 7923,
          "x1": 9907,
          "xref": "x",
          "y0": 4793,
          "y1": 6802,
          "yref": "y"
         },
         {
          "layer": "below",
          "line": {
           "color": "black",
           "width": 1
          },
          "type": "line",
          "x0": 3198,
          "x1": 5999,
          "xref": "x",
          "y0": 33,
          "y1": 2758,
          "yref": "y"
         },
         {
          "layer": "below",
          "line": {
           "color": "black",
           "width": 1
          },
          "type": "line",
          "x0": 5999,
          "x1": 7891,
          "xref": "x",
          "y0": 2787,
          "y1": 4673,
          "yref": "y"
         },
         {
          "layer": "below",
          "line": {
           "color": "black",
           "width": 1
          },
          "type": "line",
          "x0": 8010,
          "x1": 9909,
          "xref": "x",
          "y0": 4521,
          "y1": 6441,
          "yref": "y"
         },
         {
          "layer": "below",
          "line": {
           "color": "black",
           "width": 1
          },
          "type": "line",
          "x0": 3573,
          "x1": 7884,
          "xref": "x",
          "y0": 63,
          "y1": 4287,
          "yref": "y"
         },
         {
          "layer": "below",
          "line": {
           "color": "black",
           "width": 1
          },
          "type": "line",
          "x0": 7979,
          "x1": 9909,
          "xref": "x",
          "y0": 4124,
          "y1": 6075,
          "yref": "y"
         },
         {
          "layer": "below",
          "line": {
           "color": "black",
           "width": 1
          },
          "type": "line",
          "x0": 3944,
          "x1": 7901,
          "xref": "x",
          "y0": 65,
          "y1": 3949,
          "yref": "y"
         },
         {
          "layer": "below",
          "line": {
           "color": "black",
           "width": 1
          },
          "type": "line",
          "x0": 7975,
          "x1": 9910,
          "xref": "x",
          "y0": 3758,
          "y1": 5735,
          "yref": "y"
         },
         {
          "layer": "below",
          "line": {
           "color": "black",
           "width": 1
          },
          "type": "line",
          "x0": 4255,
          "x1": 7884,
          "xref": "x",
          "y0": 19,
          "y1": 3569,
          "yref": "y"
         },
         {
          "layer": "below",
          "line": {
           "color": "black",
           "width": 1
          },
          "type": "line",
          "x0": 7950,
          "x1": 9909,
          "xref": "x",
          "y0": 3377,
          "y1": 5374,
          "yref": "y"
         },
         {
          "layer": "below",
          "line": {
           "color": "black",
           "width": 1
          },
          "type": "line",
          "x0": 4651,
          "x1": 7883,
          "xref": "x",
          "y0": 33,
          "y1": 3212,
          "yref": "y"
         },
         {
          "layer": "below",
          "line": {
           "color": "black",
           "width": 1
          },
          "type": "line",
          "x0": 5005,
          "x1": 7894,
          "xref": "x",
          "y0": 19,
          "y1": 2885,
          "yref": "y"
         },
         {
          "layer": "below",
          "line": {
           "color": "black",
           "width": 1
          },
          "type": "line",
          "x0": 7950,
          "x1": 9908,
          "xref": "x",
          "y0": 2660,
          "y1": 4643,
          "yref": "y"
         },
         {
          "layer": "below",
          "line": {
           "color": "black",
           "width": 1
          },
          "type": "line",
          "x0": 5380,
          "x1": 7901,
          "xref": "x",
          "y0": 33,
          "y1": 2528,
          "yref": "y"
         },
         {
          "layer": "below",
          "line": {
           "color": "black",
           "width": 1
          },
          "type": "line",
          "x0": 7920,
          "x1": 9910,
          "xref": "x",
          "y0": 2282,
          "y1": 4268,
          "yref": "y"
         },
         {
          "layer": "below",
          "line": {
           "color": "black",
           "width": 1
          },
          "type": "line",
          "x0": 5722,
          "x1": 7901,
          "xref": "x",
          "y0": 19,
          "y1": 2179,
          "yref": "y"
         },
         {
          "layer": "below",
          "line": {
           "color": "black",
           "width": 1
          },
          "type": "line",
          "x0": 7994,
          "x1": 9899,
          "xref": "x",
          "y0": 1998,
          "y1": 3902,
          "yref": "y"
         },
         {
          "layer": "below",
          "line": {
           "color": "black",
           "width": 1
          },
          "type": "line",
          "x0": 7920,
          "x1": 9907,
          "xref": "x",
          "y0": 1566,
          "y1": 3549,
          "yref": "y"
         },
         {
          "layer": "below",
          "line": {
           "color": "black",
           "width": 1
          },
          "type": "line",
          "x0": 8003,
          "x1": 9907,
          "xref": "x",
          "y0": 602,
          "y1": 2487,
          "yref": "y"
         },
         {
          "layer": "below",
          "line": {
           "color": "black",
           "width": 1
          },
          "type": "line",
          "x0": 7978,
          "x1": 9909,
          "xref": "x",
          "y0": 231,
          "y1": 2139,
          "yref": "y"
         },
         {
          "layer": "below",
          "line": {
           "color": "black",
           "width": 1
          },
          "type": "line",
          "x0": 8124,
          "x1": 9909,
          "xref": "x",
          "y0": 26,
          "y1": 1770,
          "yref": "y"
         },
         {
          "layer": "below",
          "line": {
           "color": "black",
           "width": 5
          },
          "type": "line",
          "x0": 26,
          "x1": 367,
          "xref": "x",
          "y0": 26,
          "y1": 367,
          "yref": "y"
         },
         {
          "layer": "below",
          "line": {
           "color": "black",
           "width": 5
          },
          "type": "line",
          "x0": 367,
          "x1": 726,
          "xref": "x",
          "y0": 367,
          "y1": 726,
          "yref": "y"
         },
         {
          "layer": "below",
          "line": {
           "color": "black",
           "width": 5
          },
          "type": "line",
          "x0": 726,
          "x1": 1084,
          "xref": "x",
          "y0": 726,
          "y1": 1084,
          "yref": "y"
         },
         {
          "layer": "below",
          "line": {
           "color": "black",
           "width": 5
          },
          "type": "line",
          "x0": 1084,
          "x1": 1411,
          "xref": "x",
          "y0": 1084,
          "y1": 1411,
          "yref": "y"
         },
         {
          "layer": "below",
          "line": {
           "color": "black",
           "width": 5
          },
          "type": "line",
          "x0": 1411,
          "x1": 1763,
          "xref": "x",
          "y0": 1411,
          "y1": 1763,
          "yref": "y"
         },
         {
          "layer": "below",
          "line": {
           "color": "black",
           "width": 5
          },
          "type": "line",
          "x0": 1763,
          "x1": 2133,
          "xref": "x",
          "y0": 1763,
          "y1": 2133,
          "yref": "y"
         },
         {
          "layer": "below",
          "line": {
           "color": "black",
           "width": 5
          },
          "type": "line",
          "x0": 2133,
          "x1": 2483,
          "xref": "x",
          "y0": 2133,
          "y1": 2483,
          "yref": "y"
         },
         {
          "layer": "below",
          "line": {
           "color": "black",
           "width": 5
          },
          "type": "line",
          "x0": 2483,
          "x1": 2852,
          "xref": "x",
          "y0": 2483,
          "y1": 2852,
          "yref": "y"
         },
         {
          "layer": "below",
          "line": {
           "color": "black",
           "width": 5
          },
          "type": "line",
          "x0": 2852,
          "x1": 3188,
          "xref": "x",
          "y0": 2852,
          "y1": 3188,
          "yref": "y"
         },
         {
          "layer": "below",
          "line": {
           "color": "black",
           "width": 5
          },
          "type": "line",
          "x0": 3188,
          "x1": 3545,
          "xref": "x",
          "y0": 3188,
          "y1": 3545,
          "yref": "y"
         },
         {
          "layer": "below",
          "line": {
           "color": "black",
           "width": 5
          },
          "type": "line",
          "x0": 3545,
          "x1": 3906,
          "xref": "x",
          "y0": 3545,
          "y1": 3906,
          "yref": "y"
         },
         {
          "layer": "below",
          "line": {
           "color": "black",
           "width": 5
          },
          "type": "line",
          "x0": 3906,
          "x1": 4264,
          "xref": "x",
          "y0": 3906,
          "y1": 4264,
          "yref": "y"
         },
         {
          "layer": "below",
          "line": {
           "color": "black",
           "width": 5
          },
          "type": "line",
          "x0": 4264,
          "x1": 4641,
          "xref": "x",
          "y0": 4264,
          "y1": 4641,
          "yref": "y"
         },
         {
          "layer": "below",
          "line": {
           "color": "black",
           "width": 5
          },
          "type": "line",
          "x0": 4641,
          "x1": 5014,
          "xref": "x",
          "y0": 4641,
          "y1": 5014,
          "yref": "y"
         },
         {
          "layer": "below",
          "line": {
           "color": "black",
           "width": 5
          },
          "type": "line",
          "x0": 5014,
          "x1": 5371,
          "xref": "x",
          "y0": 5014,
          "y1": 5371,
          "yref": "y"
         },
         {
          "layer": "below",
          "line": {
           "color": "black",
           "width": 5
          },
          "type": "line",
          "x0": 5371,
          "x1": 5731,
          "xref": "x",
          "y0": 5371,
          "y1": 5731,
          "yref": "y"
         },
         {
          "layer": "below",
          "line": {
           "color": "black",
           "width": 5
          },
          "type": "line",
          "x0": 5731,
          "x1": 6072,
          "xref": "x",
          "y0": 5731,
          "y1": 6072,
          "yref": "y"
         },
         {
          "layer": "below",
          "line": {
           "color": "black",
           "width": 5
          },
          "type": "line",
          "x0": 6072,
          "x1": 6438,
          "xref": "x",
          "y0": 6072,
          "y1": 6438,
          "yref": "y"
         },
         {
          "layer": "below",
          "line": {
           "color": "black",
           "width": 5
          },
          "type": "line",
          "x0": 6438,
          "x1": 6801,
          "xref": "x",
          "y0": 6438,
          "y1": 6801,
          "yref": "y"
         },
         {
          "layer": "below",
          "line": {
           "color": "black",
           "width": 5
          },
          "type": "line",
          "x0": 6801,
          "x1": 7155,
          "xref": "x",
          "y0": 6801,
          "y1": 7155,
          "yref": "y"
         },
         {
          "layer": "below",
          "line": {
           "color": "black",
           "width": 5
          },
          "type": "line",
          "x0": 7155,
          "x1": 7506,
          "xref": "x",
          "y0": 7155,
          "y1": 7506,
          "yref": "y"
         },
         {
          "layer": "below",
          "line": {
           "color": "black",
           "width": 5
          },
          "type": "line",
          "x0": 7506,
          "x1": 7862,
          "xref": "x",
          "y0": 7506,
          "y1": 7862,
          "yref": "y"
         },
         {
          "layer": "below",
          "line": {
           "color": "black",
           "width": 5
          },
          "type": "line",
          "x0": 7938,
          "x1": 8288,
          "xref": "x",
          "y0": 7938,
          "y1": 8288,
          "yref": "y"
         },
         {
          "layer": "below",
          "line": {
           "color": "black",
           "width": 5
          },
          "type": "line",
          "x0": 8288,
          "x1": 8659,
          "xref": "x",
          "y0": 8288,
          "y1": 8659,
          "yref": "y"
         },
         {
          "layer": "below",
          "line": {
           "color": "black",
           "width": 5
          },
          "type": "line",
          "x0": 8659,
          "x1": 8997,
          "xref": "x",
          "y0": 8659,
          "y1": 8997,
          "yref": "y"
         },
         {
          "layer": "below",
          "line": {
           "color": "black",
           "width": 5
          },
          "type": "line",
          "x0": 8997,
          "x1": 9355,
          "xref": "x",
          "y0": 8997,
          "y1": 9355,
          "yref": "y"
         },
         {
          "layer": "below",
          "line": {
           "color": "black",
           "width": 5
          },
          "type": "line",
          "x0": 9355,
          "x1": 9709,
          "xref": "x",
          "y0": 9355,
          "y1": 9709,
          "yref": "y"
         }
        ],
        "template": {
         "data": {
          "bar": [
           {
            "error_x": {
             "color": "#2a3f5f"
            },
            "error_y": {
             "color": "#2a3f5f"
            },
            "marker": {
             "line": {
              "color": "white",
              "width": 0.5
             }
            },
            "type": "bar"
           }
          ],
          "barpolar": [
           {
            "marker": {
             "line": {
              "color": "white",
              "width": 0.5
             }
            },
            "type": "barpolar"
           }
          ],
          "carpet": [
           {
            "aaxis": {
             "endlinecolor": "#2a3f5f",
             "gridcolor": "#C8D4E3",
             "linecolor": "#C8D4E3",
             "minorgridcolor": "#C8D4E3",
             "startlinecolor": "#2a3f5f"
            },
            "baxis": {
             "endlinecolor": "#2a3f5f",
             "gridcolor": "#C8D4E3",
             "linecolor": "#C8D4E3",
             "minorgridcolor": "#C8D4E3",
             "startlinecolor": "#2a3f5f"
            },
            "type": "carpet"
           }
          ],
          "choropleth": [
           {
            "colorbar": {
             "outlinewidth": 0,
             "ticks": ""
            },
            "type": "choropleth"
           }
          ],
          "contour": [
           {
            "colorbar": {
             "outlinewidth": 0,
             "ticks": ""
            },
            "colorscale": [
             [
              0,
              "#0d0887"
             ],
             [
              0.1111111111111111,
              "#46039f"
             ],
             [
              0.2222222222222222,
              "#7201a8"
             ],
             [
              0.3333333333333333,
              "#9c179e"
             ],
             [
              0.4444444444444444,
              "#bd3786"
             ],
             [
              0.5555555555555556,
              "#d8576b"
             ],
             [
              0.6666666666666666,
              "#ed7953"
             ],
             [
              0.7777777777777778,
              "#fb9f3a"
             ],
             [
              0.8888888888888888,
              "#fdca26"
             ],
             [
              1,
              "#f0f921"
             ]
            ],
            "type": "contour"
           }
          ],
          "contourcarpet": [
           {
            "colorbar": {
             "outlinewidth": 0,
             "ticks": ""
            },
            "type": "contourcarpet"
           }
          ],
          "heatmap": [
           {
            "colorbar": {
             "outlinewidth": 0,
             "ticks": ""
            },
            "colorscale": [
             [
              0,
              "#0d0887"
             ],
             [
              0.1111111111111111,
              "#46039f"
             ],
             [
              0.2222222222222222,
              "#7201a8"
             ],
             [
              0.3333333333333333,
              "#9c179e"
             ],
             [
              0.4444444444444444,
              "#bd3786"
             ],
             [
              0.5555555555555556,
              "#d8576b"
             ],
             [
              0.6666666666666666,
              "#ed7953"
             ],
             [
              0.7777777777777778,
              "#fb9f3a"
             ],
             [
              0.8888888888888888,
              "#fdca26"
             ],
             [
              1,
              "#f0f921"
             ]
            ],
            "type": "heatmap"
           }
          ],
          "heatmapgl": [
           {
            "colorbar": {
             "outlinewidth": 0,
             "ticks": ""
            },
            "colorscale": [
             [
              0,
              "#0d0887"
             ],
             [
              0.1111111111111111,
              "#46039f"
             ],
             [
              0.2222222222222222,
              "#7201a8"
             ],
             [
              0.3333333333333333,
              "#9c179e"
             ],
             [
              0.4444444444444444,
              "#bd3786"
             ],
             [
              0.5555555555555556,
              "#d8576b"
             ],
             [
              0.6666666666666666,
              "#ed7953"
             ],
             [
              0.7777777777777778,
              "#fb9f3a"
             ],
             [
              0.8888888888888888,
              "#fdca26"
             ],
             [
              1,
              "#f0f921"
             ]
            ],
            "type": "heatmapgl"
           }
          ],
          "histogram": [
           {
            "marker": {
             "colorbar": {
              "outlinewidth": 0,
              "ticks": ""
             }
            },
            "type": "histogram"
           }
          ],
          "histogram2d": [
           {
            "colorbar": {
             "outlinewidth": 0,
             "ticks": ""
            },
            "colorscale": [
             [
              0,
              "#0d0887"
             ],
             [
              0.1111111111111111,
              "#46039f"
             ],
             [
              0.2222222222222222,
              "#7201a8"
             ],
             [
              0.3333333333333333,
              "#9c179e"
             ],
             [
              0.4444444444444444,
              "#bd3786"
             ],
             [
              0.5555555555555556,
              "#d8576b"
             ],
             [
              0.6666666666666666,
              "#ed7953"
             ],
             [
              0.7777777777777778,
              "#fb9f3a"
             ],
             [
              0.8888888888888888,
              "#fdca26"
             ],
             [
              1,
              "#f0f921"
             ]
            ],
            "type": "histogram2d"
           }
          ],
          "histogram2dcontour": [
           {
            "colorbar": {
             "outlinewidth": 0,
             "ticks": ""
            },
            "colorscale": [
             [
              0,
              "#0d0887"
             ],
             [
              0.1111111111111111,
              "#46039f"
             ],
             [
              0.2222222222222222,
              "#7201a8"
             ],
             [
              0.3333333333333333,
              "#9c179e"
             ],
             [
              0.4444444444444444,
              "#bd3786"
             ],
             [
              0.5555555555555556,
              "#d8576b"
             ],
             [
              0.6666666666666666,
              "#ed7953"
             ],
             [
              0.7777777777777778,
              "#fb9f3a"
             ],
             [
              0.8888888888888888,
              "#fdca26"
             ],
             [
              1,
              "#f0f921"
             ]
            ],
            "type": "histogram2dcontour"
           }
          ],
          "mesh3d": [
           {
            "colorbar": {
             "outlinewidth": 0,
             "ticks": ""
            },
            "type": "mesh3d"
           }
          ],
          "parcoords": [
           {
            "line": {
             "colorbar": {
              "outlinewidth": 0,
              "ticks": ""
             }
            },
            "type": "parcoords"
           }
          ],
          "scatter": [
           {
            "marker": {
             "colorbar": {
              "outlinewidth": 0,
              "ticks": ""
             }
            },
            "type": "scatter"
           }
          ],
          "scatter3d": [
           {
            "line": {
             "colorbar": {
              "outlinewidth": 0,
              "ticks": ""
             }
            },
            "marker": {
             "colorbar": {
              "outlinewidth": 0,
              "ticks": ""
             }
            },
            "type": "scatter3d"
           }
          ],
          "scattercarpet": [
           {
            "marker": {
             "colorbar": {
              "outlinewidth": 0,
              "ticks": ""
             }
            },
            "type": "scattercarpet"
           }
          ],
          "scattergeo": [
           {
            "marker": {
             "colorbar": {
              "outlinewidth": 0,
              "ticks": ""
             }
            },
            "type": "scattergeo"
           }
          ],
          "scattergl": [
           {
            "marker": {
             "colorbar": {
              "outlinewidth": 0,
              "ticks": ""
             }
            },
            "type": "scattergl"
           }
          ],
          "scattermapbox": [
           {
            "marker": {
             "colorbar": {
              "outlinewidth": 0,
              "ticks": ""
             }
            },
            "type": "scattermapbox"
           }
          ],
          "scatterpolar": [
           {
            "marker": {
             "colorbar": {
              "outlinewidth": 0,
              "ticks": ""
             }
            },
            "type": "scatterpolar"
           }
          ],
          "scatterpolargl": [
           {
            "marker": {
             "colorbar": {
              "outlinewidth": 0,
              "ticks": ""
             }
            },
            "type": "scatterpolargl"
           }
          ],
          "scatterternary": [
           {
            "marker": {
             "colorbar": {
              "outlinewidth": 0,
              "ticks": ""
             }
            },
            "type": "scatterternary"
           }
          ],
          "surface": [
           {
            "colorbar": {
             "outlinewidth": 0,
             "ticks": ""
            },
            "colorscale": [
             [
              0,
              "#0d0887"
             ],
             [
              0.1111111111111111,
              "#46039f"
             ],
             [
              0.2222222222222222,
              "#7201a8"
             ],
             [
              0.3333333333333333,
              "#9c179e"
             ],
             [
              0.4444444444444444,
              "#bd3786"
             ],
             [
              0.5555555555555556,
              "#d8576b"
             ],
             [
              0.6666666666666666,
              "#ed7953"
             ],
             [
              0.7777777777777778,
              "#fb9f3a"
             ],
             [
              0.8888888888888888,
              "#fdca26"
             ],
             [
              1,
              "#f0f921"
             ]
            ],
            "type": "surface"
           }
          ],
          "table": [
           {
            "cells": {
             "fill": {
              "color": "#EBF0F8"
             },
             "line": {
              "color": "white"
             }
            },
            "header": {
             "fill": {
              "color": "#C8D4E3"
             },
             "line": {
              "color": "white"
             }
            },
            "type": "table"
           }
          ]
         },
         "layout": {
          "annotationdefaults": {
           "arrowcolor": "#2a3f5f",
           "arrowhead": 0,
           "arrowwidth": 1
          },
          "colorscale": {
           "diverging": [
            [
             0,
             "#8e0152"
            ],
            [
             0.1,
             "#c51b7d"
            ],
            [
             0.2,
             "#de77ae"
            ],
            [
             0.3,
             "#f1b6da"
            ],
            [
             0.4,
             "#fde0ef"
            ],
            [
             0.5,
             "#f7f7f7"
            ],
            [
             0.6,
             "#e6f5d0"
            ],
            [
             0.7,
             "#b8e186"
            ],
            [
             0.8,
             "#7fbc41"
            ],
            [
             0.9,
             "#4d9221"
            ],
            [
             1,
             "#276419"
            ]
           ],
           "sequential": [
            [
             0,
             "#0d0887"
            ],
            [
             0.1111111111111111,
             "#46039f"
            ],
            [
             0.2222222222222222,
             "#7201a8"
            ],
            [
             0.3333333333333333,
             "#9c179e"
            ],
            [
             0.4444444444444444,
             "#bd3786"
            ],
            [
             0.5555555555555556,
             "#d8576b"
            ],
            [
             0.6666666666666666,
             "#ed7953"
            ],
            [
             0.7777777777777778,
             "#fb9f3a"
            ],
            [
             0.8888888888888888,
             "#fdca26"
            ],
            [
             1,
             "#f0f921"
            ]
           ],
           "sequentialminus": [
            [
             0,
             "#0d0887"
            ],
            [
             0.1111111111111111,
             "#46039f"
            ],
            [
             0.2222222222222222,
             "#7201a8"
            ],
            [
             0.3333333333333333,
             "#9c179e"
            ],
            [
             0.4444444444444444,
             "#bd3786"
            ],
            [
             0.5555555555555556,
             "#d8576b"
            ],
            [
             0.6666666666666666,
             "#ed7953"
            ],
            [
             0.7777777777777778,
             "#fb9f3a"
            ],
            [
             0.8888888888888888,
             "#fdca26"
            ],
            [
             1,
             "#f0f921"
            ]
           ]
          },
          "colorway": [
           "#636efa",
           "#EF553B",
           "#00cc96",
           "#ab63fa",
           "#FFA15A",
           "#19d3f3",
           "#FF6692",
           "#B6E880",
           "#FF97FF",
           "#FECB52"
          ],
          "font": {
           "color": "#2a3f5f"
          },
          "geo": {
           "bgcolor": "white",
           "lakecolor": "white",
           "landcolor": "white",
           "showlakes": true,
           "showland": true,
           "subunitcolor": "#C8D4E3"
          },
          "hoverlabel": {
           "align": "left"
          },
          "hovermode": "closest",
          "mapbox": {
           "style": "light"
          },
          "paper_bgcolor": "white",
          "plot_bgcolor": "white",
          "polar": {
           "angularaxis": {
            "gridcolor": "#EBF0F8",
            "linecolor": "#EBF0F8",
            "ticks": ""
           },
           "bgcolor": "white",
           "radialaxis": {
            "gridcolor": "#EBF0F8",
            "linecolor": "#EBF0F8",
            "ticks": ""
           }
          },
          "scene": {
           "xaxis": {
            "backgroundcolor": "white",
            "gridcolor": "#DFE8F3",
            "gridwidth": 2,
            "linecolor": "#EBF0F8",
            "showbackground": true,
            "ticks": "",
            "zerolinecolor": "#EBF0F8"
           },
           "yaxis": {
            "backgroundcolor": "white",
            "gridcolor": "#DFE8F3",
            "gridwidth": 2,
            "linecolor": "#EBF0F8",
            "showbackground": true,
            "ticks": "",
            "zerolinecolor": "#EBF0F8"
           },
           "zaxis": {
            "backgroundcolor": "white",
            "gridcolor": "#DFE8F3",
            "gridwidth": 2,
            "linecolor": "#EBF0F8",
            "showbackground": true,
            "ticks": "",
            "zerolinecolor": "#EBF0F8"
           }
          },
          "shapedefaults": {
           "line": {
            "color": "#2a3f5f"
           }
          },
          "ternary": {
           "aaxis": {
            "gridcolor": "#DFE8F3",
            "linecolor": "#A2B1C6",
            "ticks": ""
           },
           "baxis": {
            "gridcolor": "#DFE8F3",
            "linecolor": "#A2B1C6",
            "ticks": ""
           },
           "bgcolor": "white",
           "caxis": {
            "gridcolor": "#DFE8F3",
            "linecolor": "#A2B1C6",
            "ticks": ""
           }
          },
          "title": {
           "x": 0.05
          },
          "xaxis": {
           "automargin": true,
           "gridcolor": "#EBF0F8",
           "linecolor": "#EBF0F8",
           "ticks": "",
           "zerolinecolor": "#EBF0F8",
           "zerolinewidth": 2
          },
          "yaxis": {
           "automargin": true,
           "gridcolor": "#EBF0F8",
           "linecolor": "#EBF0F8",
           "ticks": "",
           "zerolinecolor": "#EBF0F8",
           "zerolinewidth": 2
          }
         }
        },
        "title": {
         "text": "165"
        },
        "width": 800,
        "xaxis": {
         "range": [
          -495.5,
          10010
         ],
         "showgrid": false
        },
        "yaxis": {
         "autorange": "reversed",
         "range": [
          0,
          9910
         ],
         "showgrid": false
        }
       }
      },
      "text/html": [
       "<div>\n",
       "        \n",
       "        \n",
       "            <div id=\"ff9d14a2-7656-498e-a2c9-6fd5e1b2f77c\" class=\"plotly-graph-div\" style=\"height:800px; width:800px;\"></div>\n",
       "            <script type=\"text/javascript\">\n",
       "                require([\"plotly\"], function(Plotly) {\n",
       "                    window.PLOTLYENV=window.PLOTLYENV || {};\n",
       "                    \n",
       "                if (document.getElementById(\"ff9d14a2-7656-498e-a2c9-6fd5e1b2f77c\")) {\n",
       "                    Plotly.newPlot(\n",
       "                        'ff9d14a2-7656-498e-a2c9-6fd5e1b2f77c',\n",
       "                        [{\"marker\": {\"size\": 5}, \"mode\": \"markers\", \"name\": \"start\", \"showlegend\": true, \"type\": \"scatter\", \"x\": [367, 8288, 7954, 720, 8656, 7937, 1110, 9032, 7950, 1402, 9333, 7920, 1755, 7958, 2174, 7908, 2477, 7954, 2851, 7923, 3198, 5999, 8010, 3573, 7979, 3944, 7975, 4255, 7950, 4651, 5005, 7950, 5380, 7920, 5722, 7994, 7920, 8003, 7978, 8124], \"y\": [26, 7938, 7338, 19, 7936, 6962, 65, 7963, 6612, 17, 7908, 6229, 17, 5911, 66, 5512, 19, 5196, 24, 4793, 33, 2787, 4521, 63, 4124, 65, 3758, 19, 3377, 33, 19, 2660, 33, 2282, 19, 1998, 1566, 602, 231, 26]}, {\"marker\": {\"size\": 5}, \"mode\": \"markers\", \"name\": \"end\", \"showlegend\": true, \"type\": \"scatter\", \"x\": [7901, 9900, 8521, 7894, 9909, 8873, 7901, 9909, 9230, 7885, 9909, 9579, 7894, 9909, 7901, 9909, 7894, 9902, 7880, 9907, 5999, 7891, 9909, 7884, 9909, 7901, 9910, 7884, 9909, 7883, 7894, 9908, 7901, 9910, 7901, 9899, 9907, 9907, 9909, 9909], \"y\": [7545, 9538, 7894, 7183, 9195, 7885, 6843, 8853, 7894, 6460, 8492, 7894, 6103, 7865, 5771, 7509, 5404, 7153, 5034, 6802, 2758, 4673, 6441, 4287, 6075, 3949, 5735, 3569, 5374, 3212, 2885, 4643, 2528, 4268, 2179, 3902, 3549, 2487, 2139, 1770]}, {\"hoverinfo\": \"text\", \"marker\": {\"size\": 5}, \"mode\": \"text\", \"name\": \"TR interval\", \"showlegend\": true, \"text\": [\"1\", \"2\"], \"textfont\": {\"color\": \"grey\", \"size\": 10}, \"textposition\": \"top right\", \"type\": \"scatter\", \"x\": [17, 7936], \"y\": [17, 7936]}, {\"hoverinfo\": \"text\", \"marker\": {\"size\": 5}, \"mode\": \"text\", \"name\": \"TR unit\", \"showlegend\": true, \"text\": [\"0 \", \"1 \", \"2 \", \"3 \", \"4 \", \"5 \", \"6 \", \"7 \", \"8 \", \"9 \", \"10 \", \"11 \", \"12 \", \"13 \", \"14 \", \"15 \", \"16 \", \"17 \", \"18 \", \"19 \", \"20 \", \"21 \", \"22 \", \"23 \", \"24 \", \"25 \", \"26 \"], \"textfont\": {\"color\": \"black\", \"size\": 10}, \"textposition\": \"bottom left\", \"type\": \"scatter\", \"x\": [26, 367, 726, 1084, 1411, 1763, 2133, 2483, 2852, 3188, 3545, 3906, 4264, 4641, 5014, 5371, 5731, 6072, 6438, 6801, 7155, 7506, 7938, 8288, 8659, 8997, 9355], \"y\": [26, 367, 726, 1084, 1411, 1763, 2133, 2483, 2852, 3188, 3545, 3906, 4264, 4641, 5014, 5371, 5731, 6072, 6438, 6801, 7155, 7506, 7938, 8288, 8659, 8997, 9355]}, {\"hoverinfo\": \"text\", \"marker\": {\"color\": \"black\", \"size\": 5}, \"mode\": \"markers\", \"showlegend\": false, \"text\": [\"unit 0<br>[26:367] (341 bp)\", \"unit 1<br>[367:726] (359 bp)\", \"unit 2<br>[726:1084] (358 bp)\", \"unit 3<br>[1084:1411] (327 bp)\", \"unit 4<br>[1411:1763] (352 bp)\", \"unit 5<br>[1763:2133] (370 bp)\", \"unit 6<br>[2133:2483] (350 bp)\", \"unit 7<br>[2483:2852] (369 bp)\", \"unit 8<br>[2852:3188] (336 bp)\", \"unit 9<br>[3188:3545] (357 bp)\", \"unit 10<br>[3545:3906] (361 bp)\", \"unit 11<br>[3906:4264] (358 bp)\", \"unit 12<br>[4264:4641] (377 bp)\", \"unit 13<br>[4641:5014] (373 bp)\", \"unit 14<br>[5014:5371] (357 bp)\", \"unit 15<br>[5371:5731] (360 bp)\", \"unit 16<br>[5731:6072] (341 bp)\", \"unit 17<br>[6072:6438] (366 bp)\", \"unit 18<br>[6438:6801] (363 bp)\", \"unit 19<br>[6801:7155] (354 bp)\", \"unit 20<br>[7155:7506] (351 bp)\", \"unit 21<br>[7506:7862] (356 bp)\", \"unit 22<br>[7938:8288] (350 bp)\", \"unit 23<br>[8288:8659] (371 bp)\", \"unit 24<br>[8659:8997] (338 bp)\", \"unit 25<br>[8997:9355] (358 bp)\", \"unit 26<br>[9355:9709] (354 bp)\"], \"type\": \"scatter\", \"x\": [26, 367, 726, 1084, 1411, 1763, 2133, 2483, 2852, 3188, 3545, 3906, 4264, 4641, 5014, 5371, 5731, 6072, 6438, 6801, 7155, 7506, 7938, 8288, 8659, 8997, 9355], \"y\": [26, 367, 726, 1084, 1411, 1763, 2133, 2483, 2852, 3188, 3545, 3906, 4264, 4641, 5014, 5371, 5731, 6072, 6438, 6801, 7155, 7506, 7938, 8288, 8659, 8997, 9355]}],\n",
       "                        {\"height\": 800, \"hovermode\": \"closest\", \"shapes\": [{\"layer\": \"below\", \"line\": {\"color\": \"grey\", \"width\": 3}, \"type\": \"line\", \"x0\": 0, \"x1\": 9910, \"xref\": \"x\", \"y0\": 0, \"y1\": 9910, \"yref\": \"y\"}, {\"layer\": \"below\", \"line\": {\"color\": \"black\", \"width\": 3}, \"type\": \"line\", \"x0\": 17, \"x1\": 7901, \"xref\": \"x\", \"y0\": 17, \"y1\": 7901, \"yref\": \"y\"}, {\"layer\": \"below\", \"line\": {\"color\": \"black\", \"width\": 3}, \"type\": \"line\", \"x0\": 7936, \"x1\": 9909, \"xref\": \"x\", \"y0\": 7936, \"y1\": 9909, \"yref\": \"y\"}, {\"layer\": \"below\", \"line\": {\"color\": \"purple\", \"width\": 3}, \"type\": \"line\", \"x0\": 367, \"x1\": 7901, \"xref\": \"x\", \"y0\": 26, \"y1\": 7545, \"yref\": \"y\"}, {\"layer\": \"below\", \"line\": {\"color\": \"purple\", \"width\": 3}, \"type\": \"line\", \"x0\": 8288, \"x1\": 9900, \"xref\": \"x\", \"y0\": 7938, \"y1\": 9538, \"yref\": \"y\"}, {\"layer\": \"below\", \"line\": {\"color\": \"black\", \"width\": 1}, \"type\": \"line\", \"x0\": 7954, \"x1\": 8521, \"xref\": \"x\", \"y0\": 7338, \"y1\": 7894, \"yref\": \"y\"}, {\"layer\": \"below\", \"line\": {\"color\": \"black\", \"width\": 1}, \"type\": \"line\", \"x0\": 720, \"x1\": 7894, \"xref\": \"x\", \"y0\": 19, \"y1\": 7183, \"yref\": \"y\"}, {\"layer\": \"below\", \"line\": {\"color\": \"black\", \"width\": 1}, \"type\": \"line\", \"x0\": 8656, \"x1\": 9909, \"xref\": \"x\", \"y0\": 7936, \"y1\": 9195, \"yref\": \"y\"}, {\"layer\": \"below\", \"line\": {\"color\": \"black\", \"width\": 1}, \"type\": \"line\", \"x0\": 7937, \"x1\": 8873, \"xref\": \"x\", \"y0\": 6962, \"y1\": 7885, \"yref\": \"y\"}, {\"layer\": \"below\", \"line\": {\"color\": \"black\", \"width\": 1}, \"type\": \"line\", \"x0\": 1110, \"x1\": 7901, \"xref\": \"x\", \"y0\": 65, \"y1\": 6843, \"yref\": \"y\"}, {\"layer\": \"below\", \"line\": {\"color\": \"black\", \"width\": 1}, \"type\": \"line\", \"x0\": 9032, \"x1\": 9909, \"xref\": \"x\", \"y0\": 7963, \"y1\": 8853, \"yref\": \"y\"}, {\"layer\": \"below\", \"line\": {\"color\": \"black\", \"width\": 1}, \"type\": \"line\", \"x0\": 7950, \"x1\": 9230, \"xref\": \"x\", \"y0\": 6612, \"y1\": 7894, \"yref\": \"y\"}, {\"layer\": \"below\", \"line\": {\"color\": \"black\", \"width\": 1}, \"type\": \"line\", \"x0\": 1402, \"x1\": 7885, \"xref\": \"x\", \"y0\": 17, \"y1\": 6460, \"yref\": \"y\"}, {\"layer\": \"below\", \"line\": {\"color\": \"black\", \"width\": 1}, \"type\": \"line\", \"x0\": 9333, \"x1\": 9909, \"xref\": \"x\", \"y0\": 7908, \"y1\": 8492, \"yref\": \"y\"}, {\"layer\": \"below\", \"line\": {\"color\": \"black\", \"width\": 1}, \"type\": \"line\", \"x0\": 7920, \"x1\": 9579, \"xref\": \"x\", \"y0\": 6229, \"y1\": 7894, \"yref\": \"y\"}, {\"layer\": \"below\", \"line\": {\"color\": \"black\", \"width\": 1}, \"type\": \"line\", \"x0\": 1755, \"x1\": 7894, \"xref\": \"x\", \"y0\": 17, \"y1\": 6103, \"yref\": \"y\"}, {\"layer\": \"below\", \"line\": {\"color\": \"black\", \"width\": 1}, \"type\": \"line\", \"x0\": 7958, \"x1\": 9909, \"xref\": \"x\", \"y0\": 5911, \"y1\": 7865, \"yref\": \"y\"}, {\"layer\": \"below\", \"line\": {\"color\": \"black\", \"width\": 1}, \"type\": \"line\", \"x0\": 2174, \"x1\": 7901, \"xref\": \"x\", \"y0\": 66, \"y1\": 5771, \"yref\": \"y\"}, {\"layer\": \"below\", \"line\": {\"color\": \"black\", \"width\": 1}, \"type\": \"line\", \"x0\": 7908, \"x1\": 9909, \"xref\": \"x\", \"y0\": 5512, \"y1\": 7509, \"yref\": \"y\"}, {\"layer\": \"below\", \"line\": {\"color\": \"black\", \"width\": 1}, \"type\": \"line\", \"x0\": 2477, \"x1\": 7894, \"xref\": \"x\", \"y0\": 19, \"y1\": 5404, \"yref\": \"y\"}, {\"layer\": \"below\", \"line\": {\"color\": \"black\", \"width\": 1}, \"type\": \"line\", \"x0\": 7954, \"x1\": 9902, \"xref\": \"x\", \"y0\": 5196, \"y1\": 7153, \"yref\": \"y\"}, {\"layer\": \"below\", \"line\": {\"color\": \"black\", \"width\": 1}, \"type\": \"line\", \"x0\": 2851, \"x1\": 7880, \"xref\": \"x\", \"y0\": 24, \"y1\": 5034, \"yref\": \"y\"}, {\"layer\": \"below\", \"line\": {\"color\": \"black\", \"width\": 1}, \"type\": \"line\", \"x0\": 7923, \"x1\": 9907, \"xref\": \"x\", \"y0\": 4793, \"y1\": 6802, \"yref\": \"y\"}, {\"layer\": \"below\", \"line\": {\"color\": \"black\", \"width\": 1}, \"type\": \"line\", \"x0\": 3198, \"x1\": 5999, \"xref\": \"x\", \"y0\": 33, \"y1\": 2758, \"yref\": \"y\"}, {\"layer\": \"below\", \"line\": {\"color\": \"black\", \"width\": 1}, \"type\": \"line\", \"x0\": 5999, \"x1\": 7891, \"xref\": \"x\", \"y0\": 2787, \"y1\": 4673, \"yref\": \"y\"}, {\"layer\": \"below\", \"line\": {\"color\": \"black\", \"width\": 1}, \"type\": \"line\", \"x0\": 8010, \"x1\": 9909, \"xref\": \"x\", \"y0\": 4521, \"y1\": 6441, \"yref\": \"y\"}, {\"layer\": \"below\", \"line\": {\"color\": \"black\", \"width\": 1}, \"type\": \"line\", \"x0\": 3573, \"x1\": 7884, \"xref\": \"x\", \"y0\": 63, \"y1\": 4287, \"yref\": \"y\"}, {\"layer\": \"below\", \"line\": {\"color\": \"black\", \"width\": 1}, \"type\": \"line\", \"x0\": 7979, \"x1\": 9909, \"xref\": \"x\", \"y0\": 4124, \"y1\": 6075, \"yref\": \"y\"}, {\"layer\": \"below\", \"line\": {\"color\": \"black\", \"width\": 1}, \"type\": \"line\", \"x0\": 3944, \"x1\": 7901, \"xref\": \"x\", \"y0\": 65, \"y1\": 3949, \"yref\": \"y\"}, {\"layer\": \"below\", \"line\": {\"color\": \"black\", \"width\": 1}, \"type\": \"line\", \"x0\": 7975, \"x1\": 9910, \"xref\": \"x\", \"y0\": 3758, \"y1\": 5735, \"yref\": \"y\"}, {\"layer\": \"below\", \"line\": {\"color\": \"black\", \"width\": 1}, \"type\": \"line\", \"x0\": 4255, \"x1\": 7884, \"xref\": \"x\", \"y0\": 19, \"y1\": 3569, \"yref\": \"y\"}, {\"layer\": \"below\", \"line\": {\"color\": \"black\", \"width\": 1}, \"type\": \"line\", \"x0\": 7950, \"x1\": 9909, \"xref\": \"x\", \"y0\": 3377, \"y1\": 5374, \"yref\": \"y\"}, {\"layer\": \"below\", \"line\": {\"color\": \"black\", \"width\": 1}, \"type\": \"line\", \"x0\": 4651, \"x1\": 7883, \"xref\": \"x\", \"y0\": 33, \"y1\": 3212, \"yref\": \"y\"}, {\"layer\": \"below\", \"line\": {\"color\": \"black\", \"width\": 1}, \"type\": \"line\", \"x0\": 5005, \"x1\": 7894, \"xref\": \"x\", \"y0\": 19, \"y1\": 2885, \"yref\": \"y\"}, {\"layer\": \"below\", \"line\": {\"color\": \"black\", \"width\": 1}, \"type\": \"line\", \"x0\": 7950, \"x1\": 9908, \"xref\": \"x\", \"y0\": 2660, \"y1\": 4643, \"yref\": \"y\"}, {\"layer\": \"below\", \"line\": {\"color\": \"black\", \"width\": 1}, \"type\": \"line\", \"x0\": 5380, \"x1\": 7901, \"xref\": \"x\", \"y0\": 33, \"y1\": 2528, \"yref\": \"y\"}, {\"layer\": \"below\", \"line\": {\"color\": \"black\", \"width\": 1}, \"type\": \"line\", \"x0\": 7920, \"x1\": 9910, \"xref\": \"x\", \"y0\": 2282, \"y1\": 4268, \"yref\": \"y\"}, {\"layer\": \"below\", \"line\": {\"color\": \"black\", \"width\": 1}, \"type\": \"line\", \"x0\": 5722, \"x1\": 7901, \"xref\": \"x\", \"y0\": 19, \"y1\": 2179, \"yref\": \"y\"}, {\"layer\": \"below\", \"line\": {\"color\": \"black\", \"width\": 1}, \"type\": \"line\", \"x0\": 7994, \"x1\": 9899, \"xref\": \"x\", \"y0\": 1998, \"y1\": 3902, \"yref\": \"y\"}, {\"layer\": \"below\", \"line\": {\"color\": \"black\", \"width\": 1}, \"type\": \"line\", \"x0\": 7920, \"x1\": 9907, \"xref\": \"x\", \"y0\": 1566, \"y1\": 3549, \"yref\": \"y\"}, {\"layer\": \"below\", \"line\": {\"color\": \"black\", \"width\": 1}, \"type\": \"line\", \"x0\": 8003, \"x1\": 9907, \"xref\": \"x\", \"y0\": 602, \"y1\": 2487, \"yref\": \"y\"}, {\"layer\": \"below\", \"line\": {\"color\": \"black\", \"width\": 1}, \"type\": \"line\", \"x0\": 7978, \"x1\": 9909, \"xref\": \"x\", \"y0\": 231, \"y1\": 2139, \"yref\": \"y\"}, {\"layer\": \"below\", \"line\": {\"color\": \"black\", \"width\": 1}, \"type\": \"line\", \"x0\": 8124, \"x1\": 9909, \"xref\": \"x\", \"y0\": 26, \"y1\": 1770, \"yref\": \"y\"}, {\"layer\": \"below\", \"line\": {\"color\": \"black\", \"width\": 5}, \"type\": \"line\", \"x0\": 26, \"x1\": 367, \"xref\": \"x\", \"y0\": 26, \"y1\": 367, \"yref\": \"y\"}, {\"layer\": \"below\", \"line\": {\"color\": \"black\", \"width\": 5}, \"type\": \"line\", \"x0\": 367, \"x1\": 726, \"xref\": \"x\", \"y0\": 367, \"y1\": 726, \"yref\": \"y\"}, {\"layer\": \"below\", \"line\": {\"color\": \"black\", \"width\": 5}, \"type\": \"line\", \"x0\": 726, \"x1\": 1084, \"xref\": \"x\", \"y0\": 726, \"y1\": 1084, \"yref\": \"y\"}, {\"layer\": \"below\", \"line\": {\"color\": \"black\", \"width\": 5}, \"type\": \"line\", \"x0\": 1084, \"x1\": 1411, \"xref\": \"x\", \"y0\": 1084, \"y1\": 1411, \"yref\": \"y\"}, {\"layer\": \"below\", \"line\": {\"color\": \"black\", \"width\": 5}, \"type\": \"line\", \"x0\": 1411, \"x1\": 1763, \"xref\": \"x\", \"y0\": 1411, \"y1\": 1763, \"yref\": \"y\"}, {\"layer\": \"below\", \"line\": {\"color\": \"black\", \"width\": 5}, \"type\": \"line\", \"x0\": 1763, \"x1\": 2133, \"xref\": \"x\", \"y0\": 1763, \"y1\": 2133, \"yref\": \"y\"}, {\"layer\": \"below\", \"line\": {\"color\": \"black\", \"width\": 5}, \"type\": \"line\", \"x0\": 2133, \"x1\": 2483, \"xref\": \"x\", \"y0\": 2133, \"y1\": 2483, \"yref\": \"y\"}, {\"layer\": \"below\", \"line\": {\"color\": \"black\", \"width\": 5}, \"type\": \"line\", \"x0\": 2483, \"x1\": 2852, \"xref\": \"x\", \"y0\": 2483, \"y1\": 2852, \"yref\": \"y\"}, {\"layer\": \"below\", \"line\": {\"color\": \"black\", \"width\": 5}, \"type\": \"line\", \"x0\": 2852, \"x1\": 3188, \"xref\": \"x\", \"y0\": 2852, \"y1\": 3188, \"yref\": \"y\"}, {\"layer\": \"below\", \"line\": {\"color\": \"black\", \"width\": 5}, \"type\": \"line\", \"x0\": 3188, \"x1\": 3545, \"xref\": \"x\", \"y0\": 3188, \"y1\": 3545, \"yref\": \"y\"}, {\"layer\": \"below\", \"line\": {\"color\": \"black\", \"width\": 5}, \"type\": \"line\", \"x0\": 3545, \"x1\": 3906, \"xref\": \"x\", \"y0\": 3545, \"y1\": 3906, \"yref\": \"y\"}, {\"layer\": \"below\", \"line\": {\"color\": \"black\", \"width\": 5}, \"type\": \"line\", \"x0\": 3906, \"x1\": 4264, \"xref\": \"x\", \"y0\": 3906, \"y1\": 4264, \"yref\": \"y\"}, {\"layer\": \"below\", \"line\": {\"color\": \"black\", \"width\": 5}, \"type\": \"line\", \"x0\": 4264, \"x1\": 4641, \"xref\": \"x\", \"y0\": 4264, \"y1\": 4641, \"yref\": \"y\"}, {\"layer\": \"below\", \"line\": {\"color\": \"black\", \"width\": 5}, \"type\": \"line\", \"x0\": 4641, \"x1\": 5014, \"xref\": \"x\", \"y0\": 4641, \"y1\": 5014, \"yref\": \"y\"}, {\"layer\": \"below\", \"line\": {\"color\": \"black\", \"width\": 5}, \"type\": \"line\", \"x0\": 5014, \"x1\": 5371, \"xref\": \"x\", \"y0\": 5014, \"y1\": 5371, \"yref\": \"y\"}, {\"layer\": \"below\", \"line\": {\"color\": \"black\", \"width\": 5}, \"type\": \"line\", \"x0\": 5371, \"x1\": 5731, \"xref\": \"x\", \"y0\": 5371, \"y1\": 5731, \"yref\": \"y\"}, {\"layer\": \"below\", \"line\": {\"color\": \"black\", \"width\": 5}, \"type\": \"line\", \"x0\": 5731, \"x1\": 6072, \"xref\": \"x\", \"y0\": 5731, \"y1\": 6072, \"yref\": \"y\"}, {\"layer\": \"below\", \"line\": {\"color\": \"black\", \"width\": 5}, \"type\": \"line\", \"x0\": 6072, \"x1\": 6438, \"xref\": \"x\", \"y0\": 6072, \"y1\": 6438, \"yref\": \"y\"}, {\"layer\": \"below\", \"line\": {\"color\": \"black\", \"width\": 5}, \"type\": \"line\", \"x0\": 6438, \"x1\": 6801, \"xref\": \"x\", \"y0\": 6438, \"y1\": 6801, \"yref\": \"y\"}, {\"layer\": \"below\", \"line\": {\"color\": \"black\", \"width\": 5}, \"type\": \"line\", \"x0\": 6801, \"x1\": 7155, \"xref\": \"x\", \"y0\": 6801, \"y1\": 7155, \"yref\": \"y\"}, {\"layer\": \"below\", \"line\": {\"color\": \"black\", \"width\": 5}, \"type\": \"line\", \"x0\": 7155, \"x1\": 7506, \"xref\": \"x\", \"y0\": 7155, \"y1\": 7506, \"yref\": \"y\"}, {\"layer\": \"below\", \"line\": {\"color\": \"black\", \"width\": 5}, \"type\": \"line\", \"x0\": 7506, \"x1\": 7862, \"xref\": \"x\", \"y0\": 7506, \"y1\": 7862, \"yref\": \"y\"}, {\"layer\": \"below\", \"line\": {\"color\": \"black\", \"width\": 5}, \"type\": \"line\", \"x0\": 7938, \"x1\": 8288, \"xref\": \"x\", \"y0\": 7938, \"y1\": 8288, \"yref\": \"y\"}, {\"layer\": \"below\", \"line\": {\"color\": \"black\", \"width\": 5}, \"type\": \"line\", \"x0\": 8288, \"x1\": 8659, \"xref\": \"x\", \"y0\": 8288, \"y1\": 8659, \"yref\": \"y\"}, {\"layer\": \"below\", \"line\": {\"color\": \"black\", \"width\": 5}, \"type\": \"line\", \"x0\": 8659, \"x1\": 8997, \"xref\": \"x\", \"y0\": 8659, \"y1\": 8997, \"yref\": \"y\"}, {\"layer\": \"below\", \"line\": {\"color\": \"black\", \"width\": 5}, \"type\": \"line\", \"x0\": 8997, \"x1\": 9355, \"xref\": \"x\", \"y0\": 8997, \"y1\": 9355, \"yref\": \"y\"}, {\"layer\": \"below\", \"line\": {\"color\": \"black\", \"width\": 5}, \"type\": \"line\", \"x0\": 9355, \"x1\": 9709, \"xref\": \"x\", \"y0\": 9355, \"y1\": 9709, \"yref\": \"y\"}], \"template\": {\"data\": {\"bar\": [{\"error_x\": {\"color\": \"#2a3f5f\"}, \"error_y\": {\"color\": \"#2a3f5f\"}, \"marker\": {\"line\": {\"color\": \"white\", \"width\": 0.5}}, \"type\": \"bar\"}], \"barpolar\": [{\"marker\": {\"line\": {\"color\": \"white\", \"width\": 0.5}}, \"type\": \"barpolar\"}], \"carpet\": [{\"aaxis\": {\"endlinecolor\": \"#2a3f5f\", \"gridcolor\": \"#C8D4E3\", \"linecolor\": \"#C8D4E3\", \"minorgridcolor\": \"#C8D4E3\", \"startlinecolor\": \"#2a3f5f\"}, \"baxis\": {\"endlinecolor\": \"#2a3f5f\", \"gridcolor\": \"#C8D4E3\", \"linecolor\": \"#C8D4E3\", \"minorgridcolor\": \"#C8D4E3\", \"startlinecolor\": \"#2a3f5f\"}, \"type\": \"carpet\"}], \"choropleth\": [{\"colorbar\": {\"outlinewidth\": 0, \"ticks\": \"\"}, \"type\": \"choropleth\"}], \"contour\": [{\"colorbar\": {\"outlinewidth\": 0, \"ticks\": \"\"}, \"colorscale\": [[0.0, \"#0d0887\"], [0.1111111111111111, \"#46039f\"], [0.2222222222222222, \"#7201a8\"], [0.3333333333333333, \"#9c179e\"], [0.4444444444444444, \"#bd3786\"], [0.5555555555555556, \"#d8576b\"], [0.6666666666666666, \"#ed7953\"], [0.7777777777777778, \"#fb9f3a\"], [0.8888888888888888, \"#fdca26\"], [1.0, \"#f0f921\"]], \"type\": \"contour\"}], \"contourcarpet\": [{\"colorbar\": {\"outlinewidth\": 0, \"ticks\": \"\"}, \"type\": \"contourcarpet\"}], \"heatmap\": [{\"colorbar\": {\"outlinewidth\": 0, \"ticks\": \"\"}, \"colorscale\": [[0.0, \"#0d0887\"], [0.1111111111111111, \"#46039f\"], [0.2222222222222222, \"#7201a8\"], [0.3333333333333333, \"#9c179e\"], [0.4444444444444444, \"#bd3786\"], [0.5555555555555556, \"#d8576b\"], [0.6666666666666666, \"#ed7953\"], [0.7777777777777778, \"#fb9f3a\"], [0.8888888888888888, \"#fdca26\"], [1.0, \"#f0f921\"]], \"type\": \"heatmap\"}], \"heatmapgl\": [{\"colorbar\": {\"outlinewidth\": 0, \"ticks\": \"\"}, \"colorscale\": [[0.0, \"#0d0887\"], [0.1111111111111111, \"#46039f\"], [0.2222222222222222, \"#7201a8\"], [0.3333333333333333, \"#9c179e\"], [0.4444444444444444, \"#bd3786\"], [0.5555555555555556, \"#d8576b\"], [0.6666666666666666, \"#ed7953\"], [0.7777777777777778, \"#fb9f3a\"], [0.8888888888888888, \"#fdca26\"], [1.0, \"#f0f921\"]], \"type\": \"heatmapgl\"}], \"histogram\": [{\"marker\": {\"colorbar\": {\"outlinewidth\": 0, \"ticks\": \"\"}}, \"type\": \"histogram\"}], \"histogram2d\": [{\"colorbar\": {\"outlinewidth\": 0, \"ticks\": \"\"}, \"colorscale\": [[0.0, \"#0d0887\"], [0.1111111111111111, \"#46039f\"], [0.2222222222222222, \"#7201a8\"], [0.3333333333333333, \"#9c179e\"], [0.4444444444444444, \"#bd3786\"], [0.5555555555555556, \"#d8576b\"], [0.6666666666666666, \"#ed7953\"], [0.7777777777777778, \"#fb9f3a\"], [0.8888888888888888, \"#fdca26\"], [1.0, \"#f0f921\"]], \"type\": \"histogram2d\"}], \"histogram2dcontour\": [{\"colorbar\": {\"outlinewidth\": 0, \"ticks\": \"\"}, \"colorscale\": [[0.0, \"#0d0887\"], [0.1111111111111111, \"#46039f\"], [0.2222222222222222, \"#7201a8\"], [0.3333333333333333, \"#9c179e\"], [0.4444444444444444, \"#bd3786\"], [0.5555555555555556, \"#d8576b\"], [0.6666666666666666, \"#ed7953\"], [0.7777777777777778, \"#fb9f3a\"], [0.8888888888888888, \"#fdca26\"], [1.0, \"#f0f921\"]], \"type\": \"histogram2dcontour\"}], \"mesh3d\": [{\"colorbar\": {\"outlinewidth\": 0, \"ticks\": \"\"}, \"type\": \"mesh3d\"}], \"parcoords\": [{\"line\": {\"colorbar\": {\"outlinewidth\": 0, \"ticks\": \"\"}}, \"type\": \"parcoords\"}], \"scatter\": [{\"marker\": {\"colorbar\": {\"outlinewidth\": 0, \"ticks\": \"\"}}, \"type\": \"scatter\"}], \"scatter3d\": [{\"line\": {\"colorbar\": {\"outlinewidth\": 0, \"ticks\": \"\"}}, \"marker\": {\"colorbar\": {\"outlinewidth\": 0, \"ticks\": \"\"}}, \"type\": \"scatter3d\"}], \"scattercarpet\": [{\"marker\": {\"colorbar\": {\"outlinewidth\": 0, \"ticks\": \"\"}}, \"type\": \"scattercarpet\"}], \"scattergeo\": [{\"marker\": {\"colorbar\": {\"outlinewidth\": 0, \"ticks\": \"\"}}, \"type\": \"scattergeo\"}], \"scattergl\": [{\"marker\": {\"colorbar\": {\"outlinewidth\": 0, \"ticks\": \"\"}}, \"type\": \"scattergl\"}], \"scattermapbox\": [{\"marker\": {\"colorbar\": {\"outlinewidth\": 0, \"ticks\": \"\"}}, \"type\": \"scattermapbox\"}], \"scatterpolar\": [{\"marker\": {\"colorbar\": {\"outlinewidth\": 0, \"ticks\": \"\"}}, \"type\": \"scatterpolar\"}], \"scatterpolargl\": [{\"marker\": {\"colorbar\": {\"outlinewidth\": 0, \"ticks\": \"\"}}, \"type\": \"scatterpolargl\"}], \"scatterternary\": [{\"marker\": {\"colorbar\": {\"outlinewidth\": 0, \"ticks\": \"\"}}, \"type\": \"scatterternary\"}], \"surface\": [{\"colorbar\": {\"outlinewidth\": 0, \"ticks\": \"\"}, \"colorscale\": [[0.0, \"#0d0887\"], [0.1111111111111111, \"#46039f\"], [0.2222222222222222, \"#7201a8\"], [0.3333333333333333, \"#9c179e\"], [0.4444444444444444, \"#bd3786\"], [0.5555555555555556, \"#d8576b\"], [0.6666666666666666, \"#ed7953\"], [0.7777777777777778, \"#fb9f3a\"], [0.8888888888888888, \"#fdca26\"], [1.0, \"#f0f921\"]], \"type\": \"surface\"}], \"table\": [{\"cells\": {\"fill\": {\"color\": \"#EBF0F8\"}, \"line\": {\"color\": \"white\"}}, \"header\": {\"fill\": {\"color\": \"#C8D4E3\"}, \"line\": {\"color\": \"white\"}}, \"type\": \"table\"}]}, \"layout\": {\"annotationdefaults\": {\"arrowcolor\": \"#2a3f5f\", \"arrowhead\": 0, \"arrowwidth\": 1}, \"colorscale\": {\"diverging\": [[0, \"#8e0152\"], [0.1, \"#c51b7d\"], [0.2, \"#de77ae\"], [0.3, \"#f1b6da\"], [0.4, \"#fde0ef\"], [0.5, \"#f7f7f7\"], [0.6, \"#e6f5d0\"], [0.7, \"#b8e186\"], [0.8, \"#7fbc41\"], [0.9, \"#4d9221\"], [1, \"#276419\"]], \"sequential\": [[0.0, \"#0d0887\"], [0.1111111111111111, \"#46039f\"], [0.2222222222222222, \"#7201a8\"], [0.3333333333333333, \"#9c179e\"], [0.4444444444444444, \"#bd3786\"], [0.5555555555555556, \"#d8576b\"], [0.6666666666666666, \"#ed7953\"], [0.7777777777777778, \"#fb9f3a\"], [0.8888888888888888, \"#fdca26\"], [1.0, \"#f0f921\"]], \"sequentialminus\": [[0.0, \"#0d0887\"], [0.1111111111111111, \"#46039f\"], [0.2222222222222222, \"#7201a8\"], [0.3333333333333333, \"#9c179e\"], [0.4444444444444444, \"#bd3786\"], [0.5555555555555556, \"#d8576b\"], [0.6666666666666666, \"#ed7953\"], [0.7777777777777778, \"#fb9f3a\"], [0.8888888888888888, \"#fdca26\"], [1.0, \"#f0f921\"]]}, \"colorway\": [\"#636efa\", \"#EF553B\", \"#00cc96\", \"#ab63fa\", \"#FFA15A\", \"#19d3f3\", \"#FF6692\", \"#B6E880\", \"#FF97FF\", \"#FECB52\"], \"font\": {\"color\": \"#2a3f5f\"}, \"geo\": {\"bgcolor\": \"white\", \"lakecolor\": \"white\", \"landcolor\": \"white\", \"showlakes\": true, \"showland\": true, \"subunitcolor\": \"#C8D4E3\"}, \"hoverlabel\": {\"align\": \"left\"}, \"hovermode\": \"closest\", \"mapbox\": {\"style\": \"light\"}, \"paper_bgcolor\": \"white\", \"plot_bgcolor\": \"white\", \"polar\": {\"angularaxis\": {\"gridcolor\": \"#EBF0F8\", \"linecolor\": \"#EBF0F8\", \"ticks\": \"\"}, \"bgcolor\": \"white\", \"radialaxis\": {\"gridcolor\": \"#EBF0F8\", \"linecolor\": \"#EBF0F8\", \"ticks\": \"\"}}, \"scene\": {\"xaxis\": {\"backgroundcolor\": \"white\", \"gridcolor\": \"#DFE8F3\", \"gridwidth\": 2, \"linecolor\": \"#EBF0F8\", \"showbackground\": true, \"ticks\": \"\", \"zerolinecolor\": \"#EBF0F8\"}, \"yaxis\": {\"backgroundcolor\": \"white\", \"gridcolor\": \"#DFE8F3\", \"gridwidth\": 2, \"linecolor\": \"#EBF0F8\", \"showbackground\": true, \"ticks\": \"\", \"zerolinecolor\": \"#EBF0F8\"}, \"zaxis\": {\"backgroundcolor\": \"white\", \"gridcolor\": \"#DFE8F3\", \"gridwidth\": 2, \"linecolor\": \"#EBF0F8\", \"showbackground\": true, \"ticks\": \"\", \"zerolinecolor\": \"#EBF0F8\"}}, \"shapedefaults\": {\"line\": {\"color\": \"#2a3f5f\"}}, \"ternary\": {\"aaxis\": {\"gridcolor\": \"#DFE8F3\", \"linecolor\": \"#A2B1C6\", \"ticks\": \"\"}, \"baxis\": {\"gridcolor\": \"#DFE8F3\", \"linecolor\": \"#A2B1C6\", \"ticks\": \"\"}, \"bgcolor\": \"white\", \"caxis\": {\"gridcolor\": \"#DFE8F3\", \"linecolor\": \"#A2B1C6\", \"ticks\": \"\"}}, \"title\": {\"x\": 0.05}, \"xaxis\": {\"automargin\": true, \"gridcolor\": \"#EBF0F8\", \"linecolor\": \"#EBF0F8\", \"ticks\": \"\", \"zerolinecolor\": \"#EBF0F8\", \"zerolinewidth\": 2}, \"yaxis\": {\"automargin\": true, \"gridcolor\": \"#EBF0F8\", \"linecolor\": \"#EBF0F8\", \"ticks\": \"\", \"zerolinecolor\": \"#EBF0F8\", \"zerolinewidth\": 2}}}, \"title\": {\"text\": \"165\"}, \"width\": 800, \"xaxis\": {\"range\": [-495.5, 10010], \"showgrid\": false}, \"yaxis\": {\"autorange\": \"reversed\", \"range\": [0, 9910], \"showgrid\": false}},\n",
       "                        {\"responsive\": true}\n",
       "                    ).then(function(){\n",
       "                            \n",
       "var gd = document.getElementById('ff9d14a2-7656-498e-a2c9-6fd5e1b2f77c');\n",
       "var x = new MutationObserver(function (mutations, observer) {{\n",
       "        var display = window.getComputedStyle(gd).display;\n",
       "        if (!display || display === 'none') {{\n",
       "            console.log([gd, 'removed!']);\n",
       "            Plotly.purge(gd);\n",
       "            observer.disconnect();\n",
       "        }}\n",
       "}});\n",
       "\n",
       "// Listen for the removal of the full notebook cells\n",
       "var notebookContainer = gd.closest('#notebook-container');\n",
       "if (notebookContainer) {{\n",
       "    x.observe(notebookContainer, {childList: true});\n",
       "}}\n",
       "\n",
       "// Listen for the clearing of the current output cell\n",
       "var outputEl = gd.closest('.output');\n",
       "if (outputEl) {{\n",
       "    x.observe(outputEl, {childList: true});\n",
       "}}\n",
       "\n",
       "                        })\n",
       "                };\n",
       "                });\n",
       "            </script>\n",
       "        </div>"
      ]
     },
     "metadata": {},
     "output_type": "display_data"
    }
   ],
   "source": [
    "v.show(read=tr_reads[165])"
   ]
  },
  {
   "cell_type": "code",
   "execution_count": null,
   "metadata": {},
   "outputs": [],
   "source": []
  }
 ],
 "metadata": {
  "kernelspec": {
   "display_name": "Python 3",
   "language": "python",
   "name": "python3"
  },
  "language_info": {
   "codemirror_mode": {
    "name": "ipython",
    "version": 3
   },
   "file_extension": ".py",
   "mimetype": "text/x-python",
   "name": "python",
   "nbconvert_exporter": "python",
   "pygments_lexer": "ipython3",
   "version": "3.7.2+"
  },
  "toc": {
   "base_numbering": 1,
   "nav_menu": {},
   "number_sections": true,
   "sideBar": true,
   "skip_h1_title": false,
   "title_cell": "Table of Contents",
   "title_sidebar": "Contents",
   "toc_cell": false,
   "toc_position": {},
   "toc_section_display": true,
   "toc_window_display": true
  }
 },
 "nbformat": 4,
 "nbformat_minor": 2
}
