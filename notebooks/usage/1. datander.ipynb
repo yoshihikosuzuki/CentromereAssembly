{
 "cells": [
  {
   "cell_type": "code",
   "execution_count": 2,
   "metadata": {},
   "outputs": [
    {
     "data": {
      "text/html": [
       "        <script type=\"text/javascript\">\n",
       "        window.PlotlyConfig = {MathJaxConfig: 'local'};\n",
       "        if (window.MathJax) {MathJax.Hub.Config({SVG: {font: \"STIX-Web\"}});}\n",
       "        if (typeof require !== 'undefined') {\n",
       "        require.undef(\"plotly\");\n",
       "        requirejs.config({\n",
       "            paths: {\n",
       "                'plotly': ['https://cdn.plot.ly/plotly-latest.min']\n",
       "            }\n",
       "        });\n",
       "        require(['plotly'], function(Plotly) {\n",
       "            window._Plotly = Plotly;\n",
       "        });\n",
       "        }\n",
       "        </script>\n",
       "        "
      ]
     },
     "metadata": {},
     "output_type": "display_data"
    }
   ],
   "source": [
    "%matplotlib inline\n",
    "%config InlineBackend.figure_format = \"retina\"\n",
    "from IPython.display import display\n",
    "import plotly.offline as py\n",
    "py.init_notebook_mode(connected=True)\n",
    "import plotly.io as pio\n",
    "pio.templates.default = \"plotly_white\"\n",
    "import logging\n",
    "import logzero\n",
    "logzero.loglevel(logging.INFO)"
   ]
  },
  {
   "cell_type": "markdown",
   "metadata": {},
   "source": [
    "# Move to the data directory"
   ]
  },
  {
   "cell_type": "code",
   "execution_count": 1,
   "metadata": {},
   "outputs": [],
   "source": [
    "dir_fname = \"work/\""
   ]
  },
  {
   "cell_type": "code",
   "execution_count": 3,
   "metadata": {},
   "outputs": [],
   "source": [
    "import os\n",
    "os.chdir(dir_fname)"
   ]
  },
  {
   "cell_type": "code",
   "execution_count": 4,
   "metadata": {},
   "outputs": [
    {
     "name": "stdout",
     "output_type": "stream",
     "text": [
      "total 4\r\n",
      "-rw-r--r-- 1 yoshihiko_s users 250 Sep 11 17:34 DMEL.db\r\n"
     ]
    }
   ],
   "source": [
    "!(ls -l)"
   ]
  },
  {
   "cell_type": "markdown",
   "metadata": {},
   "source": [
    "# Input"
   ]
  },
  {
   "cell_type": "markdown",
   "metadata": {},
   "source": [
    "* DAZZ_DB file of the whole sequenced reads (here `DMEL.db`)"
   ]
  },
  {
   "cell_type": "code",
   "execution_count": 5,
   "metadata": {},
   "outputs": [],
   "source": [
    "db_prefix = \"DMEL\"\n",
    "db_fname = f\"{db_prefix}.db\""
   ]
  },
  {
   "cell_type": "markdown",
   "metadata": {},
   "source": [
    "# Output"
   ]
  },
  {
   "cell_type": "markdown",
   "metadata": {},
   "source": [
    "* `TAN.{db_prefix}.las`: Alignment records by TANmask"
   ]
  },
  {
   "cell_type": "markdown",
   "metadata": {},
   "source": [
    "# How to run"
   ]
  },
  {
   "cell_type": "code",
   "execution_count": 7,
   "metadata": {},
   "outputs": [],
   "source": [
    "from vca.datander import DatanderRunner"
   ]
  },
  {
   "cell_type": "markdown",
   "metadata": {},
   "source": [
    "## Docstring"
   ]
  },
  {
   "cell_type": "code",
   "execution_count": 8,
   "metadata": {},
   "outputs": [],
   "source": [
    "DatanderRunner?\n",
    "# following string will be shown in your Notebook"
   ]
  },
  {
   "cell_type": "markdown",
   "metadata": {},
   "source": [
    "```\n",
    "Init signature:\n",
    "DatanderRunner(\n",
    "    db_prefix: str,\n",
    "    read_type: str = 'CLR',\n",
    "    n_core: int = 1,\n",
    "    scheduler: BITS.util.scheduler.Scheduler = None,\n",
    ") -> None\n",
    "Docstring:     \n",
    "Entry point of datander, a commandline tool for detecting tandem repeat regions from (noisy) reads.\n",
    "In VCA, slightly customized datander is used (alignment will NOT be extended to the ends of a read).\n",
    "\n",
    "Positional arguments:\n",
    "  - db_prefix <str> : Prefix of the DB file created with DAZZ_DB. DB file must be in CWD\n",
    "\n",
    "Optional arguments:\n",
    "  - read_type    <str>       [\"CLR\"] : Input read type. Must be one of {\"CLR\", \"CCS\"}.\n",
    "  - n_core       <int>       [1]     : Number of cores used in datader\n",
    "  - scheduler    <Scheduler> [None]  : Scheduler object\n",
    "```"
   ]
  },
  {
   "cell_type": "markdown",
   "metadata": {},
   "source": [
    "## Options"
   ]
  },
  {
   "cell_type": "code",
   "execution_count": 11,
   "metadata": {},
   "outputs": [],
   "source": [
    "read_type = \"CLR\"   # \"CLR\" (default) or \"CCS\"\n",
    "n_core = 16"
   ]
  },
  {
   "cell_type": "code",
   "execution_count": 9,
   "metadata": {},
   "outputs": [],
   "source": [
    "from BITS.util.scheduler import Scheduler\n",
    "scheduler = Scheduler(\"sge\", \"qsub\", \"all.q\")   # It is optional; you do not have to use a job scheduler"
   ]
  },
  {
   "cell_type": "markdown",
   "metadata": {},
   "source": [
    "## Execution"
   ]
  },
  {
   "cell_type": "code",
   "execution_count": 12,
   "metadata": {},
   "outputs": [],
   "source": [
    "r = DatanderRunner(db_prefix, read_type=read_type, n_core=n_core, scheduler=scheduler)"
   ]
  },
  {
   "cell_type": "code",
   "execution_count": 13,
   "metadata": {
    "scrolled": false
   },
   "outputs": [
    {
     "name": "stderr",
     "output_type": "stream",
     "text": [
      "[I 190911 17:45:15 scheduler:28] Submitting a job: # Datander jobs (1)\n",
      "    datander -T16 DMEL.1 DMEL.2 DMEL.3\n",
      "    # Check all .las files jobs (1) (optional but recommended)\n",
      "    LAcheck -vS DMEL TAN.DMEL.1 TAN.DMEL.2 TAN.DMEL.3\n",
      "    # Merge jobs (3)\n",
      "    LAmerge TAN.DMEL TAN.DMEL.1 TAN.DMEL.2 TAN.DMEL.3\n",
      "    # Check merged .las file (optional but recommended)\n",
      "    LAcheck -vS DMEL TAN.DMEL\n",
      "    # TANmask jobs (1)\n",
      "    TANmask DMEL TAN.DMEL.1 TAN.DMEL.2 TAN.DMEL.3\n",
      "    # Merge all T.las files\n",
      "    LAmerge TAN.DMEL.las TAN.DMEL.1.las TAN.DMEL.2.las TAN.DMEL.3.las\n",
      "    # Cleanup all T.las files\n",
      "    rm TAN.DMEL.1.las TAN.DMEL.2.las TAN.DMEL.3.las\n",
      "    # Once all the .tan masks have been computed for every block\n",
      "    #   you should call 'Catrack' to merge them, and then you should\n",
      "    #   remove the individual block tracks, e.g.:\n",
      "    #      Catrack -v DMEL tan\n",
      "    #      rm .DMEL.*.tan.*\n",
      "    Catrack -v DMEL tan\n",
      "    rm .DMEL.*.tan.*\n"
     ]
    }
   ],
   "source": [
    "r.run()"
   ]
  },
  {
   "cell_type": "markdown",
   "metadata": {},
   "source": [
    "Now `TAN.DMEL.las` is generated:"
   ]
  },
  {
   "cell_type": "code",
   "execution_count": 14,
   "metadata": {},
   "outputs": [
    {
     "name": "stdout",
     "output_type": "stream",
     "text": [
      "total 69320\r\n",
      "drwxr-xr-x 2 yoshihiko_s users       38 Sep 11 17:45 datander\r\n",
      "-rw-r--r-- 1 yoshihiko_s users      250 Sep 11 17:34 DMEL.db\r\n",
      "-rw-r--r-- 1 yoshihiko_s users 70975912 Sep 11 17:46 TAN.DMEL.las\r\n"
     ]
    }
   ],
   "source": [
    "!(ls -l)"
   ]
  },
  {
   "cell_type": "markdown",
   "metadata": {},
   "source": [
    "And script files used and log files are stored in the `datander/` directory:"
   ]
  },
  {
   "cell_type": "code",
   "execution_count": 15,
   "metadata": {},
   "outputs": [
    {
     "name": "stdout",
     "output_type": "stream",
     "text": [
      "total 8\r\n",
      "-rw-r--r-- 1 yoshihiko_s users 209 Sep 11 17:46 log\r\n",
      "-rw-r--r-- 1 yoshihiko_s users 920 Sep 11 17:45 run_datander.sh\r\n"
     ]
    }
   ],
   "source": [
    "!(ls -l datander/)"
   ]
  },
  {
   "cell_type": "code",
   "execution_count": null,
   "metadata": {},
   "outputs": [],
   "source": []
  }
 ],
 "metadata": {
  "kernelspec": {
   "display_name": "Python 3",
   "language": "python",
   "name": "python3"
  },
  "language_info": {
   "codemirror_mode": {
    "name": "ipython",
    "version": 3
   },
   "file_extension": ".py",
   "mimetype": "text/x-python",
   "name": "python",
   "nbconvert_exporter": "python",
   "pygments_lexer": "ipython3",
   "version": "3.7.2+"
  },
  "toc": {
   "base_numbering": 1,
   "nav_menu": {},
   "number_sections": true,
   "sideBar": true,
   "skip_h1_title": false,
   "title_cell": "Table of Contents",
   "title_sidebar": "Contents",
   "toc_cell": false,
   "toc_position": {
    "height": "calc(100% - 180px)",
    "left": "10px",
    "top": "150px",
    "width": "384px"
   },
   "toc_section_display": true,
   "toc_window_display": true
  }
 },
 "nbformat": 4,
 "nbformat_minor": 2
}
