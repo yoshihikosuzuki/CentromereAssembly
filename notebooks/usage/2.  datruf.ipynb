{
 "cells": [
  {
   "cell_type": "code",
   "execution_count": 1,
   "metadata": {},
   "outputs": [
    {
     "data": {
      "text/html": [
       "        <script type=\"text/javascript\">\n",
       "        window.PlotlyConfig = {MathJaxConfig: 'local'};\n",
       "        if (window.MathJax) {MathJax.Hub.Config({SVG: {font: \"STIX-Web\"}});}\n",
       "        if (typeof require !== 'undefined') {\n",
       "        require.undef(\"plotly\");\n",
       "        requirejs.config({\n",
       "            paths: {\n",
       "                'plotly': ['https://cdn.plot.ly/plotly-latest.min']\n",
       "            }\n",
       "        });\n",
       "        require(['plotly'], function(Plotly) {\n",
       "            window._Plotly = Plotly;\n",
       "        });\n",
       "        }\n",
       "        </script>\n",
       "        "
      ]
     },
     "metadata": {},
     "output_type": "display_data"
    }
   ],
   "source": [
    "%matplotlib inline\n",
    "%config InlineBackend.figure_format = \"retina\"\n",
    "from IPython.display import display\n",
    "import plotly.offline as py\n",
    "py.init_notebook_mode(connected=True)\n",
    "import plotly.io as pio\n",
    "pio.templates.default = \"plotly_white\"\n",
    "import logging\n",
    "import logzero\n",
    "logzero.loglevel(logging.INFO)"
   ]
  },
  {
   "cell_type": "markdown",
   "metadata": {},
   "source": [
    "# Move to the data directory"
   ]
  },
  {
   "cell_type": "code",
   "execution_count": 1,
   "metadata": {},
   "outputs": [],
   "source": [
    "dir_fname = \"work/\""
   ]
  },
  {
   "cell_type": "code",
   "execution_count": 2,
   "metadata": {},
   "outputs": [],
   "source": [
    "import os\n",
    "os.chdir(dir_fname)"
   ]
  },
  {
   "cell_type": "code",
   "execution_count": 3,
   "metadata": {},
   "outputs": [
    {
     "name": "stdout",
     "output_type": "stream",
     "text": [
      "total 69320\r\n",
      "drwxr-xr-x 2 yoshihiko_s users       38 Sep 11 17:45 datander\r\n",
      "-rw-r--r-- 1 yoshihiko_s users      250 Sep 11 17:34 DMEL.db\r\n",
      "-rw-r--r-- 1 yoshihiko_s users 70975912 Sep 11 17:46 TAN.DMEL.las\r\n"
     ]
    }
   ],
   "source": [
    "!(ls -l)"
   ]
  },
  {
   "cell_type": "markdown",
   "metadata": {},
   "source": [
    "# Input"
   ]
  },
  {
   "cell_type": "markdown",
   "metadata": {},
   "source": [
    "* DAZZ_DB file of the whole sequenced reads (here `DMEL.db`)\n",
    "* Output `.las` file by datander"
   ]
  },
  {
   "cell_type": "code",
   "execution_count": 4,
   "metadata": {},
   "outputs": [],
   "source": [
    "db_prefix = \"DMEL\"\n",
    "db_fname = f\"{db_prefix}.db\"\n",
    "las_fname = f\"TAN.{db_prefix}.las\""
   ]
  },
  {
   "cell_type": "markdown",
   "metadata": {},
   "source": [
    "# Output"
   ]
  },
  {
   "cell_type": "markdown",
   "metadata": {},
   "source": [
    "* `tr_reads.pkl`: Reads with tandem repeat units detected by datruf"
   ]
  },
  {
   "cell_type": "markdown",
   "metadata": {},
   "source": [
    "# How to run"
   ]
  },
  {
   "cell_type": "code",
   "execution_count": 5,
   "metadata": {},
   "outputs": [],
   "source": [
    "from vca.datruf import DatrufRunner"
   ]
  },
  {
   "cell_type": "markdown",
   "metadata": {},
   "source": [
    "## Docstring"
   ]
  },
  {
   "cell_type": "code",
   "execution_count": 7,
   "metadata": {},
   "outputs": [],
   "source": [
    "DatrufRunner?\n",
    "# following string will be shown in your Notebook"
   ]
  },
  {
   "cell_type": "markdown",
   "metadata": {},
   "source": [
    "```\n",
    "Init signature:\n",
    "DatrufRunner(\n",
    "    db_fname: str,\n",
    "    las_fname: str,\n",
    "    n_core: int = 1,\n",
    "    n_distribute: int = 1,\n",
    "    scheduler: BITS.util.scheduler.Scheduler = None,\n",
    ") -> None\n",
    "Docstring:     \n",
    "Entry point of datruf, which detects units of TRs using the result of datander.\n",
    "\n",
    "Positional arguments:\n",
    "  - db_fname  <str> : DAZZ_DB file\n",
    "  - las_fname <str> : Output of datander. These files must be in CWD\n",
    "\n",
    "Optional arguments:\n",
    "  - n_core       <int>       [1]               : Number of cores used in a single job of datrud\n",
    "  - n_distribute <int>       [1]               : Number of jobs distributed in datruf\n",
    "  - scheduler    <Scheduler> [None]            : Scheduler object\n",
    "```"
   ]
  },
  {
   "cell_type": "markdown",
   "metadata": {},
   "source": [
    "## Options"
   ]
  },
  {
   "cell_type": "code",
   "execution_count": 8,
   "metadata": {},
   "outputs": [],
   "source": [
    "n_core = 6\n",
    "n_distribute = 10"
   ]
  },
  {
   "cell_type": "code",
   "execution_count": 9,
   "metadata": {},
   "outputs": [],
   "source": [
    "from BITS.util.scheduler import Scheduler\n",
    "scheduler = Scheduler(\"sge\", \"qsub\", \"all.q\")   # It is optional; you do not have to use a job scheduler"
   ]
  },
  {
   "cell_type": "markdown",
   "metadata": {},
   "source": [
    "## Execution"
   ]
  },
  {
   "cell_type": "code",
   "execution_count": 10,
   "metadata": {},
   "outputs": [],
   "source": [
    "r = DatrufRunner(db_fname, las_fname, n_core=n_core, n_distribute=n_distribute, scheduler=scheduler)"
   ]
  },
  {
   "cell_type": "code",
   "execution_count": 11,
   "metadata": {
    "scrolled": true
   },
   "outputs": [
    {
     "name": "stderr",
     "output_type": "stream",
     "text": [
      "[I 190911 17:59:12 scheduler:28] Submitting a job: python -m vca.datruf.main DMEL.db TAN.DMEL.las datruf/tr_reads.pkl.01 1 10000 6\n",
      "[I 190911 17:59:12 scheduler:28] Submitting a job: python -m vca.datruf.main DMEL.db TAN.DMEL.las datruf/tr_reads.pkl.02 10001 20000 6\n",
      "[I 190911 17:59:12 scheduler:28] Submitting a job: python -m vca.datruf.main DMEL.db TAN.DMEL.las datruf/tr_reads.pkl.03 20001 30000 6\n",
      "[I 190911 17:59:12 scheduler:28] Submitting a job: python -m vca.datruf.main DMEL.db TAN.DMEL.las datruf/tr_reads.pkl.04 30001 40000 6\n",
      "[I 190911 17:59:12 scheduler:28] Submitting a job: python -m vca.datruf.main DMEL.db TAN.DMEL.las datruf/tr_reads.pkl.05 40001 50000 6\n",
      "[I 190911 17:59:12 scheduler:28] Submitting a job: python -m vca.datruf.main DMEL.db TAN.DMEL.las datruf/tr_reads.pkl.06 50001 60000 6\n",
      "[I 190911 17:59:12 scheduler:28] Submitting a job: python -m vca.datruf.main DMEL.db TAN.DMEL.las datruf/tr_reads.pkl.07 60001 70000 6\n",
      "[I 190911 17:59:12 scheduler:28] Submitting a job: python -m vca.datruf.main DMEL.db TAN.DMEL.las datruf/tr_reads.pkl.08 70001 80000 6\n",
      "[I 190911 17:59:12 scheduler:28] Submitting a job: python -m vca.datruf.main DMEL.db TAN.DMEL.las datruf/tr_reads.pkl.09 80001 90000 6\n",
      "[I 190911 17:59:12 scheduler:28] Submitting a job: python -m vca.datruf.main DMEL.db TAN.DMEL.las datruf/tr_reads.pkl.10 90001 100000 6\n",
      "[I 190911 17:59:12 main:62] Waiting for all distributed jobs to be finished...\n",
      "[I 190911 17:59:12 scheduler:28] Submitting a job: sleep 1s\n"
     ]
    }
   ],
   "source": [
    "r.run()"
   ]
  },
  {
   "cell_type": "markdown",
   "metadata": {},
   "source": [
    "Now `tr_reads.pkl` is generated."
   ]
  },
  {
   "cell_type": "code",
   "execution_count": 12,
   "metadata": {},
   "outputs": [
    {
     "name": "stdout",
     "output_type": "stream",
     "text": [
      "total 244512\r\n",
      "drwxr-xr-x 2 yoshihiko_s users        38 Sep 11 17:45 datander\r\n",
      "drwxr-xr-x 2 yoshihiko_s users      4096 Sep 11 17:59 datruf\r\n",
      "-rw-r--r-- 1 yoshihiko_s users       250 Sep 11 17:34 DMEL.db\r\n",
      "-rw-r--r-- 1 yoshihiko_s users  70975912 Sep 11 17:46 TAN.DMEL.las\r\n",
      "-rw-r--r-- 1 yoshihiko_s users 179390870 Sep 11 18:00 tr_reads.pkl\r\n"
     ]
    }
   ],
   "source": [
    "!(ls -l)"
   ]
  },
  {
   "cell_type": "markdown",
   "metadata": {},
   "source": [
    "And script files used and log files are stored in the `datruf/` directory:"
   ]
  },
  {
   "cell_type": "code",
   "execution_count": 14,
   "metadata": {},
   "outputs": [
    {
     "name": "stdout",
     "output_type": "stream",
     "text": [
      "total 176332\r\n",
      "-rw-r--r-- 1 yoshihiko_s users      216 Sep 11 17:59 gather.sh\r\n",
      "-rw-r--r-- 1 yoshihiko_s users   756794 Sep 11 17:59 log\r\n",
      "-rw-r--r-- 1 yoshihiko_s users      205 Sep 11 17:59 scatter.sh.01\r\n",
      "-rw-r--r-- 1 yoshihiko_s users      209 Sep 11 17:59 scatter.sh.02\r\n",
      "-rw-r--r-- 1 yoshihiko_s users      209 Sep 11 17:59 scatter.sh.03\r\n",
      "-rw-r--r-- 1 yoshihiko_s users      209 Sep 11 17:59 scatter.sh.04\r\n",
      "-rw-r--r-- 1 yoshihiko_s users      209 Sep 11 17:59 scatter.sh.05\r\n",
      "-rw-r--r-- 1 yoshihiko_s users      209 Sep 11 17:59 scatter.sh.06\r\n",
      "-rw-r--r-- 1 yoshihiko_s users      209 Sep 11 17:59 scatter.sh.07\r\n",
      "-rw-r--r-- 1 yoshihiko_s users      209 Sep 11 17:59 scatter.sh.08\r\n",
      "-rw-r--r-- 1 yoshihiko_s users      209 Sep 11 17:59 scatter.sh.09\r\n",
      "-rw-r--r-- 1 yoshihiko_s users      210 Sep 11 17:59 scatter.sh.10\r\n",
      "-rw-r--r-- 1 yoshihiko_s users 18489471 Sep 11 17:59 tr_reads.pkl.01\r\n",
      "-rw-r--r-- 1 yoshihiko_s users 17285696 Sep 11 17:59 tr_reads.pkl.02\r\n",
      "-rw-r--r-- 1 yoshihiko_s users 18097750 Sep 11 17:59 tr_reads.pkl.03\r\n",
      "-rw-r--r-- 1 yoshihiko_s users 17419207 Sep 11 17:59 tr_reads.pkl.04\r\n",
      "-rw-r--r-- 1 yoshihiko_s users 18666548 Sep 11 17:59 tr_reads.pkl.05\r\n",
      "-rw-r--r-- 1 yoshihiko_s users 17984282 Sep 11 17:59 tr_reads.pkl.06\r\n",
      "-rw-r--r-- 1 yoshihiko_s users 18606375 Sep 11 17:59 tr_reads.pkl.07\r\n",
      "-rw-r--r-- 1 yoshihiko_s users 17844090 Sep 11 17:59 tr_reads.pkl.08\r\n",
      "-rw-r--r-- 1 yoshihiko_s users 17193693 Sep 11 17:59 tr_reads.pkl.09\r\n",
      "-rw-r--r-- 1 yoshihiko_s users 17927945 Sep 11 17:59 tr_reads.pkl.10\r\n"
     ]
    }
   ],
   "source": [
    "!(ls -l datruf/)"
   ]
  },
  {
   "cell_type": "markdown",
   "metadata": {},
   "source": [
    "# About the output data: `tr_reads.pkl`"
   ]
  },
  {
   "cell_type": "markdown",
   "metadata": {},
   "source": [
    "Data stored in the Pickle file `tr_reads.pkl` are `List[vca.types.TRRead]`:"
   ]
  },
  {
   "cell_type": "code",
   "execution_count": 15,
   "metadata": {},
   "outputs": [],
   "source": [
    "from BITS.util.io import load_pickle"
   ]
  },
  {
   "cell_type": "code",
   "execution_count": 16,
   "metadata": {},
   "outputs": [
    {
     "data": {
      "text/plain": [
       "list"
      ]
     },
     "execution_count": 16,
     "metadata": {},
     "output_type": "execute_result"
    }
   ],
   "source": [
    "type(load_pickle(\"tr_reads.pkl\"))"
   ]
  },
  {
   "cell_type": "code",
   "execution_count": 17,
   "metadata": {},
   "outputs": [
    {
     "data": {
      "text/plain": [
       "vca.types.TRRead"
      ]
     },
     "execution_count": 17,
     "metadata": {},
     "output_type": "execute_result"
    }
   ],
   "source": [
    "type(load_pickle(\"tr_reads.pkl\")[0])"
   ]
  },
  {
   "cell_type": "code",
   "execution_count": 22,
   "metadata": {},
   "outputs": [
    {
     "data": {
      "text/plain": [
       "TRRead(seq='cacaaagagagatatgtatcgactgaagtccgaaaaacaatagctaatatatggaaatagatagaaattcaattttaaattataaaaatagctaccagatttagtgaccgcaatttattattgatttagaccagatcagaatgggataacagaaatagattgtaaaaaaaaaatattttgttaaatattagtatctataatcaagaaaataataattaaatacatatcgttttctcccttttttttataattatttattaaataataaaatataaaatataaatattttaatttatttttttaattttcgtcgaacttattattattgtttttgtctcgataataagggtcttcatcgtcgctatgcgctggtttttttgtcaaggcaaatacgaacaagaggagacgaagaaattgcacttggcaagttctgtgacgtcgcgctgtgtaaattgtaatatcgtgtgatgtgaaatgggatatgtcgtattatagttatatattgcattgtataattgatgtgatagtgaaatttttggtgattatatgtagtttatatttaataattaattcaattttgtatattgtattgatgttattttagttgaatttaatttacattgtaattgtttgggtattgtatatttttattgaggcccagaaacaaaacagctttagccaggacgatagcagaattttggaagtgtgtatattatagtacaatggttggatattcagcggagcaccgtgagacgaattctggtctcgatgcaagtgctttgtttttgcacttaaaaaaagtaattcatgtggcttgggcgcatgtaattatatattttcaactttcaccttgattacgtggatggcggaaagaatagaactcccccgttggaaaaatcgaaatggcgacccacggacgaattaatttaaagccgtactattttgaattcgaaggagcgctggaggatcagagctcatgctcgaaggaccatgaaattggagtgggcggaagattctgttggtttggttgctgcgcggctgctgaaatttcgcgccgaaattaaaacgcgctgggtggactcactttcgttctttattcacagactgtaaattacaatttcaattaaacactaacagtaagaaatacgcgggaacgcggagtggtgaatacttgcgggaaggagaagcgagagaagagaaggagagggagcagcgggtgctcgaaccgttaggagcttcgagtacagcttggcgttactgagccgcgtcacttttgcgccctttggcgtgaacagggattaatttttcactctataaacatgagagagaaaatcaaggcaatctaaatttctctggctctctctctctctgtcctgattgttattttggtttgcgtgtaatatatagaaagagaatgaaggaagtcattataattcagattaaacggggctataatttttttgattagcagacaatttaaatattatatgctcgttcgtgtccgtgccatttgctttagccaaaaaaacgaaaaagacaatatgttttgcaataactctcgcataaggatattattaaattataagctcatgagtaggtagtatgaaggggcaatctaaatatttcttgctctctctctccatcgtctcattgttatctttggtttggcggtaatataagaagagagattagagacggtcattatattcaaaggcattaacggggcagagaatttttctgatttagcagcaattgtgaatattttagtcatatcgttcgtccgtcgccattttgttttgcaaacaaacgaaagaacatatgtttcattacactcgcatacgggatcattactctatacataagaaaagtgagagcaatctaaatcttctctcctctctctctctcttgtctgcattgtatttggatttgcggtaatataagaaaagaatgaagccagtcatataaattcaagctcgttttcagacggtcatttttttctgcatttaaagggcaataattttttcttgattagcagcaattatgaaatataatctcgttcgtctcgcgccattttgtttgccaaaaagaaaagaaaaatagtgtttcattactgcctcgcatatcgggatcattttcactctataacaagagataaaacagaggcaatataaatatcgtctctgcctctctctctctctgtctcatgttattttgggttttgcggtaaatataagacagagaatgagaggcgggtcattatatattcagcatttaacgggcaataattattttttgattagcacatttgaatatattatcatctcgttcgtcgtcgctcatttttgttgccaaaacctaaagacaatattttgcattatactcgctatacgggaatcatttttcactcataacagtagagagaaaatacagagcaatctaaatactcttggctttctctctctctcgtcctgcattgttattgatttgtttgcggtattgaaacagagaatgagaggcagtcatttatatcagatttaacgggtcaattaatttttcgatagcagacaatttaaaatatacattcatacgtagtgccgtcgcacattttttccaaaaaaatgaaaagaacaatatgtttgcattactcctcgcaaaggattatttaacagctctatacatgaagagagtgtggaggcaatgctaaatacctctgctctcgtctctctctctgtcctcttgttatatatgtttgaccggtaatataagacaagacaatgagaggagtcaatataatcagcttttttcagcggtccatttttttatagcagcattaaaacggggcaatgatttttttcttattagcagaatattgaatatattaatcatctccttcgtggccgtcggcatttgtttgccaaaaacgaaaagaacatattttgcatacctcgattacggatatattacactttattacttgagagagagtgtgagagcaatctaaaatatctctctgctctctcttcctaatctgtcaattgtattttgagttttgcggtaatataagacagaaggaatgagagacgtcgtcattataaatttcaagcatttaacgtcaataattttttgtgattaagcagaatttaatatattataatctcgttcgtatccgtcgcattttgttatgcaaacaaacgaaaataaaataatttgttttgcattctatctcgcatgacggtatatttttccaatcatagacatgagagagaacgtgaggtagcaatctaaagtatctctctcgcgacgtctctctcctctctctcttctgcattgttatattttggtttgcggtatataagacagagaatgtagtaggcagtcattaataatatttcaaacatttagcagggcagataattttttcatgattagcagggcaatttttttaaaatattatcatcttcgttacgtgtccgtcgccatttttggtttgctcaaaagaacgcaaagataaaaaccaatattttgcattatgcgctcattcgattattattcactctataacattgtagagaacgaggtgagaggcaatctaaatatctctcttgctctctctctctctctgtccttgctattgttatttttgggtttctggtaattataaacagacatagagagcagtcatttaataaattcaagcttgttttcaagcggtcatttttttcgtcaattgtaatggggcaaatgattttttttctgtattaggcaggcgaattgaatatattatcttcgtctcgcacggtgcattcttgttggccaaaaaacgaaaaagtaacaatatgtttgcattacatctcgcataatgggatacaaatttttcacttggggtctataaaatgagagaaaaaatgagagcaatctaaatatcgtctctcgcgtctaatctctcttctcctgcattgtttttgggttttgcgtgtatatagacagatgaatgagaggcagtcattatatattaaaagattttaacgggcaatattttattctgtcttagcagcaatttaatatattatcatattcgttcgttgttgccaaaaaaacgaagaacaatatatttgcattactctcgctacgattataatttcatctatatatatgaagagaggtgagaggtcaaattaataattctcttg', id=98, name='L416/6114/0_4190 RQ=0.848', alignments=[SelfAlignment(ab=1609, ae=3695, bb=1336, be=3394), SelfAlignment(ab=1873, ae=3697, bb=1337, be=3104), SelfAlignment(ab=2131, ae=4083, bb=1303, be=3164), SelfAlignment(ab=2396, ae=3685, bb=1301, be=2526), SelfAlignment(ab=2655, ae=4174, bb=1295, be=2698), SelfAlignment(ab=2992, ae=4129, bb=1337, be=2386)], trs=[ReadInterval(start=1295, end=4174)], units=[TRUnit(start=1336, end=1609, complete=True, id=None), TRUnit(start=1609, end=1873, complete=True, id=None), TRUnit(start=1873, end=2161, complete=True, id=None), TRUnit(start=2161, end=2431, complete=True, id=None), TRUnit(start=2431, end=2693, complete=True, id=None), TRUnit(start=2693, end=2992, complete=True, id=None), TRUnit(start=2992, end=3276, complete=True, id=None), TRUnit(start=3276, end=3581, complete=True, id=None)], repr_units=None)"
      ]
     },
     "execution_count": 22,
     "metadata": {},
     "output_type": "execute_result"
    }
   ],
   "source": [
    "load_pickle(\"tr_reads.pkl\")[10]"
   ]
  },
  {
   "cell_type": "code",
   "execution_count": 23,
   "metadata": {},
   "outputs": [],
   "source": [
    "from vca.types import TRRead"
   ]
  },
  {
   "cell_type": "code",
   "execution_count": 24,
   "metadata": {},
   "outputs": [],
   "source": [
    "TRRead?"
   ]
  },
  {
   "cell_type": "markdown",
   "metadata": {},
   "source": [
    "```\n",
    "Init signature:\n",
    "TRRead(\n",
    "    seq: str,\n",
    "    id: int = None,\n",
    "    name: str = None,\n",
    "    alignments: List[vca.types.SelfAlignment] = None,\n",
    "    trs: List[vca.types.ReadInterval] = None,\n",
    "    units: List[vca.types.TRUnit] = None,\n",
    "    repr_units: Dict[int, str] = None,\n",
    ") -> None\n",
    "Docstring:      Class for a read with TRs. Multiple TRs in a read are not distinguished here.\n",
    "```"
   ]
  },
  {
   "cell_type": "code",
   "execution_count": null,
   "metadata": {},
   "outputs": [],
   "source": []
  }
 ],
 "metadata": {
  "kernelspec": {
   "display_name": "Python 3",
   "language": "python",
   "name": "python3"
  },
  "language_info": {
   "codemirror_mode": {
    "name": "ipython",
    "version": 3
   },
   "file_extension": ".py",
   "mimetype": "text/x-python",
   "name": "python",
   "nbconvert_exporter": "python",
   "pygments_lexer": "ipython3",
   "version": "3.7.2+"
  },
  "toc": {
   "base_numbering": 1,
   "nav_menu": {},
   "number_sections": true,
   "sideBar": true,
   "skip_h1_title": false,
   "title_cell": "Table of Contents",
   "title_sidebar": "Contents",
   "toc_cell": false,
   "toc_position": {
    "height": "calc(100% - 180px)",
    "left": "10px",
    "top": "150px",
    "width": "384px"
   },
   "toc_section_display": true,
   "toc_window_display": true
  }
 },
 "nbformat": 4,
 "nbformat_minor": 2
}
