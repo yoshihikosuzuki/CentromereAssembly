{
 "cells": [
  {
   "cell_type": "markdown",
   "metadata": {},
   "source": [
    "どうやってリードをつなげるか？\n",
    "\n",
    "1. 元の配列の類似度を使う\n",
    "2. consensus unit(s) の類似度を使う\n",
    "3. ユニットの variant を含めた配列組成の比較を使う\n",
    "4. `smc.cluster_cons`で置き換えた配列の類似度を使う\n",
    "\n",
    "---\n",
    "\n",
    "1. -> やった。`1.1. AVA centromere read overlap with daligner.ipynb` および `1.2. AVA centromere read overlap with daligner [including low cover rate reads].ipynb`。思った以上に上手くいった。もう少し丁寧にやればユニットを考える必要はない気もするが、他の生物種でも同様とは限らないのと、マッピングやオーバーラップの確率を考える上でやはりユニットと variant は重要か。\n",
    "\n",
    "2. -> composition とあまり変わらない気がする。\n",
    "\n",
    "3. -> Global にはやった。`3.1. Unit base composition-based overlap.ipynb`。もう少し local な特徴を捉えないと overlap には難しそう。\n",
    "\n",
    "4. -> `3.2. Split-merge sequence clustering.ipynb`。全ユニットからユニットモデルを構築するのは計算量的に厳しそう。次の一手は、決定論的なヒューリスティクスを使うか、リードを分割するか、先に大まかなクラスタリングを済ませておくか。\n",
    "\n",
    "---\n",
    "\n",
    "Overlap filtering をする場合、リードから、通常の overlap における (non-repetitive) k-mer seed のような、局所的かつある程度ユニークな特徴量を設計して、all-vs-all から候補を絞る。\n",
    "\n",
    "ユニットを単位とした何かにしたいのだが、、"
   ]
  },
  {
   "cell_type": "code",
   "execution_count": 56,
   "metadata": {},
   "outputs": [
    {
     "data": {
      "text/html": [
       "        <script type=\"text/javascript\">\n",
       "        window.PlotlyConfig = {MathJaxConfig: 'local'};\n",
       "        if (window.MathJax) {MathJax.Hub.Config({SVG: {font: \"STIX-Web\"}});}\n",
       "        if (typeof require !== 'undefined') {\n",
       "        require.undef(\"plotly\");\n",
       "        requirejs.config({\n",
       "            paths: {\n",
       "                'plotly': ['https://cdn.plot.ly/plotly-latest.min']\n",
       "            }\n",
       "        });\n",
       "        require(['plotly'], function(Plotly) {\n",
       "            window._Plotly = Plotly;\n",
       "        });\n",
       "        }\n",
       "        </script>\n",
       "        "
      ]
     },
     "metadata": {},
     "output_type": "display_data"
    }
   ],
   "source": [
    "%matplotlib inline\n",
    "%config InlineBackend.figure_format = 'retina'\n",
    "from IPython.display import display\n",
    "import plotly.offline as py\n",
    "py.init_notebook_mode(connected=True)\n",
    "import plotly.io as pio\n",
    "pio.templates.default = 'plotly_white'\n",
    "import logging\n",
    "import logzero\n",
    "logzero.loglevel(logging.DEBUG)"
   ]
  },
  {
   "cell_type": "code",
   "execution_count": 2,
   "metadata": {},
   "outputs": [],
   "source": [
    "dir_fname = 'work'\n",
    "import os\n",
    "os.chdir(dir_fname)"
   ]
  },
  {
   "cell_type": "code",
   "execution_count": 34,
   "metadata": {},
   "outputs": [],
   "source": [
    "import numpy as np\n",
    "from copy import copy\n",
    "import pandas as pd\n",
    "from BITS.clustering.seq import ClusteringSeq\n",
    "from BITS.seq.align import EdlibRunner\n",
    "from BITS.seq.consed import ConsedRunner\n",
    "from BITS.util.io import save_pickle, load_pickle\n",
    "from BITS.util.io import load_pickle, save_pickle\n",
    "import numpy as np\n",
    "import pandas as pd\n",
    "from BITS.plot.plotly import make_hist, make_scatter, make_layout, show_plot\n",
    "from BITS.clustering.seq import ClusteringSeq\n",
    "import consed\n",
    "from BITS.seq.align import EdlibRunner\n",
    "from collections import Counter, defaultdict\n",
    "from logzero import logger\n",
    "from dataclasses import dataclass\n",
    "from typing import List\n",
    "import random\n",
    "from copy import copy\n",
    "from collections import Counter\n",
    "from dataclasses import dataclass\n",
    "from logzero import logger\n",
    "import numpy as np\n",
    "from vca.types import TRUnit\n",
    "from BITS.clustering.seq import ClusteringSeq\n",
    "from BITS.seq.align import EdlibRunner\n",
    "from BITS.util.io import load_pickle, save_pickle\n",
    "from BITS.util.proc import NoDaemonPool\n",
    "from BITS.seq.utils import revcomp"
   ]
  },
  {
   "cell_type": "code",
   "execution_count": 18,
   "metadata": {},
   "outputs": [],
   "source": [
    "def read_to_forward_units(read):\n",
    "    \"\"\"Return all units contained in <read> so that starnd of every unit is same as the forward master unit.\"\"\"\n",
    "    return [read.seq[unit.start:unit.end] if unit.id == 0 else revcomp(read.seq[unit.start:unit.end])\n",
    "            for unit in read.units]"
   ]
  },
  {
   "cell_type": "code",
   "execution_count": 25,
   "metadata": {},
   "outputs": [],
   "source": [
    "sync_reads = load_pickle(\"centromere_reads_incl_low_cover_rate_all_sync.pkl\")"
   ]
  },
  {
   "cell_type": "code",
   "execution_count": 43,
   "metadata": {},
   "outputs": [
    {
     "data": {
      "text/plain": [
       "1905"
      ]
     },
     "execution_count": 43,
     "metadata": {},
     "output_type": "execute_result"
    }
   ],
   "source": [
    "len(sync_reads)"
   ]
  },
  {
   "cell_type": "code",
   "execution_count": 8,
   "metadata": {},
   "outputs": [],
   "source": [
    "sync_units = []\n",
    "for read in sync_reads:\n",
    "    sync_units += read_to_forward_units(read)"
   ]
  },
  {
   "cell_type": "code",
   "execution_count": 9,
   "metadata": {
    "scrolled": true
   },
   "outputs": [
    {
     "data": {
      "text/plain": [
       "46538"
      ]
     },
     "execution_count": 9,
     "metadata": {},
     "output_type": "execute_result"
    }
   ],
   "source": [
    "len(sync_units)"
   ]
  },
  {
   "cell_type": "code",
   "execution_count": null,
   "metadata": {},
   "outputs": [],
   "source": [
    "centromere_phreds = load_pickle(\"centromere_phreds_incl_low_cover_rate_all_sync.pkl\")"
   ]
  },
  {
   "cell_type": "code",
   "execution_count": null,
   "metadata": {},
   "outputs": [],
   "source": [
    "sync_quals = []\n",
    "for read in sync_reads:\n",
    "    sync_quals += [centromere_phreds[read.name][unit.start:unit.end] if unit.id == 0\n",
    "                   else np.flip(centromere_phreds[read.name][unit.start:unit.end])\n",
    "                   for unit in read.units]"
   ]
  },
  {
   "cell_type": "markdown",
   "metadata": {},
   "source": [
    "-> この数ではクラスタリングも厳しい。"
   ]
  },
  {
   "cell_type": "code",
   "execution_count": null,
   "metadata": {},
   "outputs": [],
   "source": []
  },
  {
   "cell_type": "code",
   "execution_count": 4,
   "metadata": {},
   "outputs": [],
   "source": [
    "db_prefix = \"DMEL_CSS\"\n",
    "db_fname = f\"{db_prefix}.db\"\n",
    "las_fname = f\"TAN.{db_prefix}.las\"\n",
    "from vca import ReadViewer\n",
    "v = ReadViewer(db_fname, las_fname)"
   ]
  },
  {
   "cell_type": "code",
   "execution_count": 26,
   "metadata": {},
   "outputs": [],
   "source": [
    "sync_reads_by_id = {read.id: read for read in sync_reads}"
   ]
  },
  {
   "cell_type": "code",
   "execution_count": 29,
   "metadata": {},
   "outputs": [
    {
     "name": "stderr",
     "output_type": "stream",
     "text": [
      "[I 190919 19:02:33 log:17] Starting distance matrix calculation \n",
      "[I 190919 19:02:33 log:19] Finished distance matrix calculation\n"
     ]
    },
    {
     "data": {
      "application/vnd.plotly.v1+json": {
       "config": {
        "linkText": "Export to plot.ly",
        "plotlyServerURL": "https://plot.ly",
        "showLink": false
       },
       "data": [
        {
         "marker": {
          "size": 5
         },
         "mode": "markers",
         "name": "start",
         "showlegend": true,
         "type": "scatter",
         "x": [
          354,
          709,
          12320,
          1072,
          10558,
          11632,
          12706,
          6269,
          1644,
          2330,
          11990,
          4859,
          1795,
          4843,
          2359,
          7342,
          2717,
          12320,
          3091,
          3236,
          4843,
          3554,
          3912,
          8770,
          12320,
          4629,
          5338,
          10215,
          9456,
          9814,
          12360,
          7835,
          8193,
          11273,
          10215
         ],
         "y": [
          3,
          0,
          11603,
          8,
          9485,
          10558,
          11632,
          4843,
          214,
          900,
          10558,
          3091,
          15,
          2717,
          214,
          4843,
          214,
          9814,
          230,
          38,
          1644,
          0,
          0,
          4843,
          8385,
          0,
          0,
          4858,
          2330,
          2330,
          4854,
          0,
          0,
          2359,
          229
         ]
        },
        {
         "marker": {
          "size": 5
         },
         "mode": "markers",
         "name": "end",
         "showlegend": true,
         "type": "scatter",
         "x": [
          13802,
          12202,
          13814,
          10412,
          11485,
          12233,
          13802,
          11803,
          2215,
          6154,
          13814,
          13814,
          4734,
          13814,
          4734,
          12161,
          7227,
          13814,
          12202,
          4734,
          12233,
          13814,
          8656,
          12161,
          13794,
          12233,
          10085,
          12161,
          13814,
          12233,
          13814,
          12592,
          13758,
          13758,
          13814
         ],
         "y": [
          13447,
          11485,
          13102,
          9338,
          10412,
          11157,
          12734,
          10371,
          786,
          4734,
          12389,
          12030,
          2960,
          11672,
          2602,
          9656,
          4734,
          11313,
          9338,
          1529,
          9011,
          10240,
          4734,
          8227,
          9863,
          7582,
          4734,
          6797,
          6666,
          4734,
          6309,
          4734,
          5543,
          4834,
          3815
         ]
        },
        {
         "hoverinfo": "text",
         "marker": {
          "size": 5
         },
         "mode": "text",
         "name": "TR interval",
         "showlegend": true,
         "text": [
          "1"
         ],
         "textfont": {
          "color": "grey",
          "size": 10
         },
         "textposition": "top right",
         "type": "scatter",
         "x": [
          0
         ],
         "y": [
          0
         ]
        },
        {
         "hoverinfo": "text",
         "marker": {
          "color": [
           "#2094c0",
           "#2075b3",
           "#7acbbc",
           "#289cc1",
           "#2094c0",
           "#53bdc1",
           "#6dc6be",
           "#0d2163",
           "#216bae",
           "#289cc1",
           "#289cc1",
           "#2076b3",
           "#ffffd9",
           "#1e8bbd",
           "#6bc6be",
           "#6dc6be",
           "#2ea3c2",
           "#2262aa",
           "#6dc6be",
           "#289cc1",
           "#1f80b8",
           "#216bae",
           "#6dc6be",
           "#2ea3c2",
           "#2094c0",
           "#2076b3",
           "#61c2bf",
           "#2195c0",
           "#5fc1c0",
           "#289cc1",
           "#2094c0",
           "#2076b3",
           "#2fa4c2",
           "#61c2bf",
           "#1e8abd",
           "#2ea3c2",
           "#2076b3",
           "#dcf1b2",
           "#7acbbc",
           "#b4e2b6",
           "#36abc3",
           "#2ea3c2",
           "#3eb3c4",
           "#2258a5",
           "#d5efb3",
           "#d5efb3",
           "#7acbbc",
           "#cdebb4",
           "#2094c0",
           "#f4fbc1",
           "#6dc6be",
           "#6fc7bd",
           "#b4e2b6",
           "#dcf1b2",
           "#6fc7bd",
           "#b4e2b6",
           "#dcf1b2",
           "#dcf1b2",
           "#89d1ba",
           "#c4e8b4",
           "#a7dcb7",
           "#d5efb3",
           "#53bdc1",
           "#1d8dbe",
           "#6dc6be",
           "#b4e2b6",
           "#b4e2b6",
           "#d5efb3",
           "#2195c0",
           "#36abc3",
           "#97d6b9",
           "#7acbbc",
           "#7acbbc",
           "#3eb3c4",
           "#a7dcb7",
           "#2195c0",
           "#1f82b9",
           "#2195c0",
           "#234da0",
           "#f0f9b8",
           "#97d6b9",
           "#61c2bf",
           "#cdebb4",
           "#2075b3",
           "#e5f5b2",
           "#b4e2b6",
           "#36abc3",
           "#97d6b9",
           "#f0f9b8",
           "#36abc3",
           "#a5dcb7",
           "#cdebb4",
           "#f4fbc1",
           "#3eb3c4",
           "#b4e2b6",
           "#b4e2b6",
           "#f0f9b8",
           "#36abc3",
           "#216daf",
           "#289cc1",
           "#a5dcb7",
           "#b4e2b6",
           "#f0f9b8",
           "#1f82b9",
           "#1e8bbd",
           "#53bdc1",
           "#48b9c3",
           "#6dc6be",
           "#2fa4c2",
           "#89d1ba",
           "#b4e2b6",
           "#cdebb4",
           "#24479d",
           "#36abc3",
           "#61c2bf",
           "#55bec1",
           "#48b9c3",
           "#7acbbc",
           "#6fc7bd",
           "#2262aa",
           "#fcfed1",
           "#2fa4c2",
           "#55bec1",
           "#fcfed1",
           "#2fa4c2",
           "#3eb3c4",
           "#3eb3c4",
           "#edf8b1",
           "#36abc3",
           "#48b9c3",
           "#48b9c3",
           "#cdebb4",
           "#55bec1",
           "#ddf2b2",
           "#2fa4c2",
           "#55bec1",
           "#48b9c3",
           "#63c3bf",
           "#c4e8b4",
           "#2ea3c2",
           "#6dc6be",
           "#1f82b9",
           "#2195c0",
           "#1f82b9",
           "#2195c0",
           "#2260a9",
           "#89d1ba",
           "#a7dcb7",
           "#7acbbc",
           "#89d1ba",
           "#289cc1",
           "#c4e8b4",
           "#7acbbc",
           "#299dc1",
           "#f4fbc1",
           "#89d1ba",
           "#299dc1",
           "#f8fcc9",
           "#a7dcb7",
           "#89d1ba",
           "#289cc1",
           "#fcfed1",
           "#61c2bf",
           "#97d6b9",
           "#2ea3c2",
           "#216daf",
           "#1e8bbd",
           "#f8fcc9",
           "#6dc6be",
           "#97d6b9",
           "#1f78b4",
           "#1e8bbd",
           "#a7dcb7",
           "#61c2bf",
           "#e5f5b2",
           "#48b9c3",
           "#61c2bf",
           "#203089",
           "#1f82b9",
           "#48b9c3",
           "#36abc3",
           "#2195c0",
           "#2094c0",
           "#3eb3c4",
           "#24489d",
           "#7acbbc",
           "#1e8bbd",
           "#289cc1",
           "#7acbbc",
           "#2195c0",
           "#36abc3",
           "#1e8bbd",
           "#7acbbc",
           "#289cc1",
           "#36abc3",
           "#2195c0",
           "#b4e2b6",
           "#a7dcb7",
           "#61c2bf",
           "#2195c0",
           "#3eb3c4",
           "#2195c0",
           "#b4e2b6",
           "#55bec1",
           "#2ea3c2",
           "#2094c0",
           "#1f80b8",
           "#f8fcc9",
           "#253595",
           "#216daf",
           "#2ea3c2",
           "#289cc1",
           "#1f82b9",
           "#53bdc1",
           "#289cc1",
           "#253795",
           "#c4e8b4",
           "#1f82b9",
           "#2076b3",
           "#a7dcb7",
           "#1f82b9",
           "#1e8bbd",
           "#2076b3",
           "#89d1ba",
           "#1e8bbd",
           "#2094c0",
           "#1f82b9",
           "#a7dcb7",
           "#cdebb4",
           "#89d1ba",
           "#1f82b9",
           "#289cc1",
           "#1f82b9",
           "#a7dcb7",
           "#f4fbc1",
           "#1e8bbd",
           "#36abc3",
           "#216daf",
           "#24479d",
           "#1f82b9",
           "#3eb3c4",
           "#36abc3",
           "#2195c0",
           "#6dc6be",
           "#36abc3",
           "#24489d",
           "#c4e8b4",
           "#2195c0",
           "#1e8bbd",
           "#c4e8b4",
           "#2195c0",
           "#289cc1",
           "#1e8bbd",
           "#a7dcb7",
           "#289cc1",
           "#2ea3c2",
           "#2195c0",
           "#c4e8b4",
           "#cdebb4",
           "#a7dcb7",
           "#2195c0",
           "#36abc3",
           "#2195c0",
           "#c4e8b4",
           "#fcfed1",
           "#289cc1",
           "#48b9c3",
           "#1f82b9",
           "#253494",
           "#2075b3",
           "#234fa1",
           "#234fa1",
           "#0d2163",
           "#2260a9",
           "#081d58",
           "#243d98",
           "#2356a4",
           "#243d98",
           "#243d98",
           "#2260a9",
           "#234fa1",
           "#243d98",
           "#243d98",
           "#216aad",
           "#24459c",
           "#24459c",
           "#24459c",
           "#21308b",
           "#243d98",
           "#2260a9",
           "#234fa1",
           "#24459c",
           "#0e2265",
           "#243d98",
           "#234da0",
           "#234fa1",
           "#234da0",
           "#97d6b9",
           "#53bdc1",
           "#cdebb4",
           "#216bae",
           "#dcf1b2",
           "#a7dcb7",
           "#2fa4c2",
           "#7acbbc",
           "#edf8b1",
           "#2fa4c2",
           "#87d0ba",
           "#cdebb4",
           "#f4fbc1",
           "#36abc3",
           "#97d6b9",
           "#97d6b9",
           "#f0f9b8",
           "#2ea3c2",
           "#2259a6",
           "#2094c0",
           "#87d0ba",
           "#b4e2b6",
           "#f0f9b8",
           "#1f78b4",
           "#2076b3",
           "#53bdc1",
           "#3db2c4",
           "#6dc6be",
           "#97d6b9",
           "#97d6b9",
           "#289cc1",
           "#cdebb4",
           "#46b8c3",
           "#55bec1",
           "#97d6b9",
           "#97d6b9",
           "#55bec1",
           "#a7dcb7",
           "#cdebb4",
           "#97d6b9",
           "#6dc6be",
           "#b4e2b6",
           "#c4e8b4",
           "#a7dcb7",
           "#53bdc1",
           "#289cc1",
           "#53bdc1",
           "#a7dcb7",
           "#cdebb4",
           "#a7dcb7",
           "#2fa4c2",
           "#36abc3",
           "#c4e8b4",
           "#7acbbc",
           "#6dc6be",
           "#53bdc1",
           "#289cc1",
           "#89d1ba",
           "#289cc1",
           "#48b9c3",
           "#6fc7bd",
           "#53bdc1",
           "#48b9c3",
           "#7acbbc",
           "#6dc6be",
           "#53bdc1",
           "#48b9c3",
           "#89d1ba",
           "#7acbbc",
           "#61c2bf",
           "#48b9c3",
           "#1d8dbe",
           "#36abc3",
           "#7acbbc",
           "#89d1ba",
           "#61c2bf",
           "#2195c0",
           "#2fa4c2",
           "#6fc7bd",
           "#d5efb3",
           "#48b9c3",
           "#2076b3",
           "#e5f5b2",
           "#53bdc1",
           "#3eb3c4",
           "#7acbbc",
           "#d5efb3",
           "#3eb3c4",
           "#87d0ba",
           "#e5f5b2",
           "#d5efb3",
           "#3eb3c4",
           "#97d6b9",
           "#89d1ba",
           "#dcf1b2",
           "#3eb3c4",
           "#216daf",
           "#36abc3",
           "#87d0ba",
           "#a7dcb7",
           "#dcf1b2",
           "#1d8dbe",
           "#1e8bbd",
           "#53bdc1",
           "#53bdc1",
           "#53bdc1",
           "#1e8bbd",
           "#6bc6be",
           "#6dc6be",
           "#2ea3c2",
           "#2262aa",
           "#6dc6be",
           "#289cc1",
           "#1f80b8",
           "#216bae",
           "#6dc6be",
           "#2ea3c2",
           "#2094c0",
           "#2076b3",
           "#61c2bf",
           "#2195c0",
           "#5fc1c0",
           "#289cc1",
           "#2094c0",
           "#2076b3",
           "#2fa4c2",
           "#61c2bf",
           "#1e8abd",
           "#2ea3c2",
           "#2076b3",
           "#7acbbc",
           "#63c3bf",
           "#b4e2b6",
           "#e5f5b2",
           "#63c3bf",
           "#c4e8b4",
           "#d5efb3",
           "#e5f5b2",
           "#61c2bf",
           "#cdebb4",
           "#97d6b9",
           "#dcf1b2",
           "#48b9c3",
           "#2195c0",
           "#48b9c3",
           "#c4e8b4",
           "#a7dcb7",
           "#dcf1b2",
           "#299dc1",
           "#2fa4c2",
           "#87d0ba",
           "#6dc6be",
           "#87d0ba",
           "#2259a6",
           "#7acbbc",
           "#97d6b9",
           "#2259a6",
           "#7acbbc",
           "#6dc6be",
           "#a7dcb7",
           "#2262aa",
           "#87d0ba",
           "#53bdc1",
           "#97d6b9",
           "#2262aa",
           "#1b2c80",
           "#234fa1",
           "#7acbbc",
           "#53bdc1",
           "#97d6b9",
           "#253795",
           "#243f99",
           "#35aac3",
           "#2094c0",
           "#46b8c3",
           "#289cc1",
           "#48b9c3",
           "#f8fcc9",
           "#289cc1",
           "#36abc3",
           "#36abc3",
           "#e5f5b2",
           "#2fa4c2",
           "#3eb3c4",
           "#3eb3c4",
           "#c4e8b4",
           "#63c3bf",
           "#d5efb3",
           "#289cc1",
           "#48b9c3",
           "#3eb3c4",
           "#55bec1",
           "#b4e2b6",
           "#289cc1",
           "#61c2bf",
           "#2076b3",
           "#7acbbc",
           "#289cc1",
           "#f4fbc1",
           "#97d6b9",
           "#7acbbc",
           "#289cc1",
           "#f8fcc9",
           "#53bdc1",
           "#87d0ba",
           "#2ea3c2",
           "#2163aa",
           "#1e8bbd",
           "#f4fbc1",
           "#61c2bf",
           "#87d0ba",
           "#216daf",
           "#1e8bbd",
           "#97d6b9",
           "#61c2bf",
           "#dcf1b2",
           "#48b9c3",
           "#87d0ba",
           "#d5efb3",
           "#f0f9b8",
           "#55bec1",
           "#97d6b9",
           "#b4e2b6",
           "#edf8b1",
           "#289cc1",
           "#2163aa",
           "#3eb3c4",
           "#87d0ba",
           "#c4e8b4",
           "#edf8b1",
           "#216daf",
           "#1f82b9",
           "#53bdc1",
           "#48b9c3",
           "#53bdc1",
           "#289cc1",
           "#36abc3",
           "#36abc3",
           "#e5f5b2",
           "#2fa4c2",
           "#3eb3c4",
           "#3eb3c4",
           "#c4e8b4",
           "#48b9c3",
           "#d5efb3",
           "#289cc1",
           "#48b9c3",
           "#3eb3c4",
           "#55bec1",
           "#b4e2b6",
           "#289cc1",
           "#61c2bf",
           "#2076b3",
           "#a7dcb7",
           "#87d0ba",
           "#289cc1",
           "#fcfed1",
           "#61c2bf",
           "#97d6b9",
           "#2ea3c2",
           "#216daf",
           "#1e8bbd",
           "#f8fcc9",
           "#6dc6be",
           "#97d6b9",
           "#1f78b4",
           "#1e8bbd",
           "#a7dcb7",
           "#61c2bf",
           "#e5f5b2",
           "#d5efb3",
           "#48b9c3",
           "#b4e2b6",
           "#c4e8b4",
           "#dcf1b2",
           "#48b9c3",
           "#1f82b9",
           "#3eb3c4",
           "#a7dcb7",
           "#d5efb3",
           "#dcf1b2",
           "#299dc1",
           "#2195c0",
           "#97d6b9",
           "#61c2bf",
           "#7acbbc",
           "#3eb3c4",
           "#97d6b9",
           "#a7dcb7",
           "#f4fbc1",
           "#36abc3",
           "#2163aa",
           "#289cc1",
           "#87d0ba",
           "#c4e8b4",
           "#f4fbc1",
           "#1f82b9",
           "#1f82b9",
           "#53bdc1",
           "#3db2c4",
           "#53bdc1",
           "#2ea3c2",
           "#61c2bf",
           "#48b9c3",
           "#a7dcb7",
           "#48b9c3",
           "#e5f5b2",
           "#289cc1",
           "#6dc6be",
           "#48b9c3",
           "#55bec1",
           "#97d6b9",
           "#36abc3",
           "#46b8c3",
           "#2076b3",
           "#6dc6be",
           "#a7dcb7",
           "#36abc3",
           "#1f78b4",
           "#2094c0",
           "#fcfed1",
           "#7acbbc",
           "#a7dcb7",
           "#1f82b9",
           "#2195c0",
           "#b4e2b6",
           "#6fc7bd",
           "#ecf7b1",
           "#b4e2b6",
           "#48b9c3",
           "#1e8bbd",
           "#48b9c3",
           "#61c2bf",
           "#f8fcc9",
           "#b4e2b6",
           "#289cc1",
           "#289cc1",
           "#7acbbc",
           "#6dc6be",
           "#36abc3",
           "#3eb3c4",
           "#216daf",
           "#2ea3c2",
           "#97d6b9",
           "#cdebb4",
           "#ffffd9",
           "#1d8dbe",
           "#1e8bbd",
           "#61c2bf",
           "#48b9c3",
           "#61c2bf",
           "#48b9c3",
           "#87d0ba",
           "#2ea3c2",
           "#61c2bf",
           "#3eb3c4",
           "#6fc7bd",
           "#b4e2b6",
           "#289cc1",
           "#61c2bf",
           "#1f80b8",
           "#48b9c3",
           "#216daf",
           "#2195c0",
           "#216daf",
           "#edf8b1",
           "#c4e8b4",
           "#1f82b9",
           "#216daf",
           "#2259a6",
           "#1e8bbd",
           "#53bdc1",
           "#2ea3c2",
           "#3eb3c4",
           "#97d6b9",
           "#3db2c4",
           "#46b8c3",
           "#2076b3",
           "#6dc6be",
           "#97d6b9",
           "#1f78b4",
           "#1e8bbd",
           "#a7dcb7",
           "#61c2bf",
           "#e5f5b2",
           "#cdebb4",
           "#36abc3",
           "#2ea3c2",
           "#89d1ba",
           "#7acbbc",
           "#3db2c4",
           "#1d8dbe",
           "#1e8bbd",
           "#61c2bf",
           "#48b9c3",
           "#61c2bf",
           "#b4e2b6",
           "#2076b3",
           "#2076b3",
           "#2351a2",
           "#2094c0",
           "#3db2c4",
           "#2076b3",
           "#61c2bf",
           "#cdebb4",
           "#36abc3"
          ],
          "size": 3
         },
         "mode": "markers",
         "showlegend": false,
         "text": [
          "unit 0 vs 1 (6.69% diff)",
          "unit 0 vs 2 (7.52% diff)",
          "unit 0 vs 3 (4.18% diff)",
          "unit 0 vs 4 (6.39% diff)",
          "unit 0 vs 5 (6.67% diff)",
          "unit 0 vs 6 (5.01% diff)",
          "unit 0 vs 7 (4.46% diff)",
          "unit 0 vs 8 (10.58% diff)",
          "unit 0 vs 9 (7.78% diff)",
          "unit 0 vs 10 (6.41% diff)",
          "unit 0 vs 11 (6.39% diff)",
          "unit 0 vs 12 (7.5% diff)",
          "unit 0 vs 13 (0.0% diff)",
          "unit 0 vs 14 (6.94% diff)",
          "unit 0 vs 15 (4.53% diff)",
          "unit 0 vs 16 (4.46% diff)",
          "unit 0 vs 17 (6.11% diff)",
          "unit 0 vs 18 (8.06% diff)",
          "unit 0 vs 19 (4.46% diff)",
          "unit 0 vs 20 (6.39% diff)",
          "unit 0 vs 21 (7.22% diff)",
          "unit 0 vs 22 (7.78% diff)",
          "unit 0 vs 23 (4.47% diff)",
          "unit 0 vs 24 (6.11% diff)",
          "unit 0 vs 25 (6.7% diff)",
          "unit 0 vs 26 (7.5% diff)",
          "unit 0 vs 27 (4.75% diff)",
          "unit 0 vs 28 (6.65% diff)",
          "unit 0 vs 29 (4.76% diff)",
          "unit 0 vs 30 (6.39% diff)",
          "unit 0 vs 31 (6.69% diff)",
          "unit 0 vs 32 (7.5% diff)",
          "unit 0 vs 33 (6.09% diff)",
          "unit 0 vs 34 (4.74% diff)",
          "unit 0 vs 35 (6.96% diff)",
          "unit 0 vs 36 (6.15% diff)",
          "unit 0 vs 37 (7.5% diff)",
          "unit 1 vs 2 (1.96% diff)",
          "unit 1 vs 3 (4.17% diff)",
          "unit 1 vs 4 (3.06% diff)",
          "unit 1 vs 5 (5.82% diff)",
          "unit 1 vs 6 (6.11% diff)",
          "unit 1 vs 7 (5.56% diff)",
          "unit 1 vs 8 (8.36% diff)",
          "unit 1 vs 9 (2.23% diff)",
          "unit 1 vs 10 (2.23% diff)",
          "unit 1 vs 11 (4.18% diff)",
          "unit 1 vs 12 (2.51% diff)",
          "unit 1 vs 13 (6.69% diff)",
          "unit 1 vs 14 (0.84% diff)",
          "unit 1 vs 15 (4.47% diff)",
          "unit 1 vs 16 (4.44% diff)",
          "unit 1 vs 17 (3.07% diff)",
          "unit 1 vs 18 (1.96% diff)",
          "unit 1 vs 19 (4.44% diff)",
          "unit 1 vs 20 (3.07% diff)",
          "unit 1 vs 21 (1.96% diff)",
          "unit 1 vs 22 (1.96% diff)",
          "unit 1 vs 23 (3.9% diff)",
          "unit 1 vs 24 (2.79% diff)",
          "unit 1 vs 25 (3.34% diff)",
          "unit 1 vs 26 (2.23% diff)",
          "unit 1 vs 27 (5.01% diff)",
          "unit 1 vs 28 (6.91% diff)",
          "unit 1 vs 29 (4.46% diff)",
          "unit 1 vs 30 (3.07% diff)",
          "unit 1 vs 31 (3.06% diff)",
          "unit 1 vs 32 (2.23% diff)",
          "unit 1 vs 33 (6.63% diff)",
          "unit 1 vs 34 (5.83% diff)",
          "unit 1 vs 35 (3.63% diff)",
          "unit 1 vs 36 (4.19% diff)",
          "unit 1 vs 37 (4.19% diff)",
          "unit 2 vs 3 (5.54% diff)",
          "unit 2 vs 4 (3.35% diff)",
          "unit 2 vs 5 (6.65% diff)",
          "unit 2 vs 6 (7.2% diff)",
          "unit 2 vs 7 (6.65% diff)",
          "unit 2 vs 8 (8.66% diff)",
          "unit 2 vs 9 (1.12% diff)",
          "unit 2 vs 10 (3.63% diff)",
          "unit 2 vs 11 (4.74% diff)",
          "unit 2 vs 12 (2.51% diff)",
          "unit 2 vs 13 (7.52% diff)",
          "unit 2 vs 14 (1.68% diff)",
          "unit 2 vs 15 (3.08% diff)",
          "unit 2 vs 16 (5.82% diff)",
          "unit 2 vs 17 (3.64% diff)",
          "unit 2 vs 18 (1.12% diff)",
          "unit 2 vs 19 (5.82% diff)",
          "unit 2 vs 20 (3.36% diff)",
          "unit 2 vs 21 (2.51% diff)",
          "unit 2 vs 22 (0.84% diff)",
          "unit 2 vs 23 (5.56% diff)",
          "unit 2 vs 24 (3.08% diff)",
          "unit 2 vs 25 (3.07% diff)",
          "unit 2 vs 26 (1.12% diff)",
          "unit 2 vs 27 (5.83% diff)",
          "unit 2 vs 28 (7.73% diff)",
          "unit 2 vs 29 (6.39% diff)",
          "unit 2 vs 30 (3.36% diff)",
          "unit 2 vs 31 (3.06% diff)",
          "unit 2 vs 32 (1.12% diff)",
          "unit 2 vs 33 (7.18% diff)",
          "unit 2 vs 34 (6.93% diff)",
          "unit 2 vs 35 (5.03% diff)",
          "unit 2 vs 36 (5.29% diff)",
          "unit 2 vs 37 (4.48% diff)",
          "unit 3 vs 4 (6.08% diff)",
          "unit 3 vs 5 (3.89% diff)",
          "unit 3 vs 6 (3.06% diff)",
          "unit 3 vs 7 (2.51% diff)",
          "unit 3 vs 8 (8.89% diff)",
          "unit 3 vs 9 (5.82% diff)",
          "unit 3 vs 10 (4.72% diff)",
          "unit 3 vs 11 (5.0% diff)",
          "unit 3 vs 12 (5.26% diff)",
          "unit 3 vs 13 (4.18% diff)",
          "unit 3 vs 14 (4.43% diff)",
          "unit 3 vs 15 (8.03% diff)",
          "unit 3 vs 16 (0.28% diff)",
          "unit 3 vs 17 (6.09% diff)",
          "unit 3 vs 18 (4.99% diff)",
          "unit 3 vs 19 (0.28% diff)",
          "unit 3 vs 20 (6.09% diff)",
          "unit 3 vs 21 (5.54% diff)",
          "unit 3 vs 22 (5.54% diff)",
          "unit 3 vs 23 (1.39% diff)",
          "unit 3 vs 24 (5.82% diff)",
          "unit 3 vs 25 (5.28% diff)",
          "unit 3 vs 26 (5.26% diff)",
          "unit 3 vs 27 (2.51% diff)",
          "unit 3 vs 28 (4.99% diff)",
          "unit 3 vs 29 (1.95% diff)",
          "unit 3 vs 30 (6.09% diff)",
          "unit 3 vs 31 (5.0% diff)",
          "unit 3 vs 32 (5.26% diff)",
          "unit 3 vs 33 (4.71% diff)",
          "unit 3 vs 34 (2.79% diff)",
          "unit 3 vs 35 (6.11% diff)",
          "unit 3 vs 36 (4.47% diff)",
          "unit 3 vs 37 (7.2% diff)",
          "unit 4 vs 5 (6.65% diff)",
          "unit 4 vs 6 (7.2% diff)",
          "unit 4 vs 7 (6.65% diff)",
          "unit 4 vs 8 (8.1% diff)",
          "unit 4 vs 9 (3.9% diff)",
          "unit 4 vs 10 (3.35% diff)",
          "unit 4 vs 11 (4.17% diff)",
          "unit 4 vs 12 (3.9% diff)",
          "unit 4 vs 13 (6.39% diff)",
          "unit 4 vs 14 (2.79% diff)",
          "unit 4 vs 15 (4.19% diff)",
          "unit 4 vs 16 (6.35% diff)",
          "unit 4 vs 17 (0.84% diff)",
          "unit 4 vs 18 (3.9% diff)",
          "unit 4 vs 19 (6.35% diff)",
          "unit 4 vs 20 (0.56% diff)",
          "unit 4 vs 21 (3.35% diff)",
          "unit 4 vs 22 (3.9% diff)",
          "unit 4 vs 23 (6.37% diff)",
          "unit 4 vs 24 (0.28% diff)",
          "unit 4 vs 25 (4.74% diff)",
          "unit 4 vs 26 (3.62% diff)",
          "unit 4 vs 27 (6.11% diff)",
          "unit 4 vs 28 (7.73% diff)",
          "unit 4 vs 29 (6.93% diff)",
          "unit 4 vs 30 (0.56% diff)",
          "unit 4 vs 31 (4.46% diff)",
          "unit 4 vs 32 (3.62% diff)",
          "unit 4 vs 33 (7.46% diff)",
          "unit 4 vs 34 (6.93% diff)",
          "unit 4 vs 35 (3.35% diff)",
          "unit 4 vs 36 (4.72% diff)",
          "unit 4 vs 37 (1.68% diff)",
          "unit 5 vs 6 (5.28% diff)",
          "unit 5 vs 7 (4.72% diff)",
          "unit 5 vs 8 (9.72% diff)",
          "unit 5 vs 9 (7.2% diff)",
          "unit 5 vs 10 (5.28% diff)",
          "unit 5 vs 11 (5.82% diff)",
          "unit 5 vs 12 (6.65% diff)",
          "unit 5 vs 13 (6.67% diff)",
          "unit 5 vs 14 (5.54% diff)",
          "unit 5 vs 15 (8.86% diff)",
          "unit 5 vs 16 (4.17% diff)",
          "unit 5 vs 17 (6.93% diff)",
          "unit 5 vs 18 (6.37% diff)",
          "unit 5 vs 19 (4.17% diff)",
          "unit 5 vs 20 (6.65% diff)",
          "unit 5 vs 21 (5.82% diff)",
          "unit 5 vs 22 (6.93% diff)",
          "unit 5 vs 23 (4.17% diff)",
          "unit 5 vs 24 (6.37% diff)",
          "unit 5 vs 25 (5.83% diff)",
          "unit 5 vs 26 (6.65% diff)",
          "unit 5 vs 27 (3.06% diff)",
          "unit 5 vs 28 (3.34% diff)",
          "unit 5 vs 29 (4.72% diff)",
          "unit 5 vs 30 (6.65% diff)",
          "unit 5 vs 31 (5.56% diff)",
          "unit 5 vs 32 (6.65% diff)",
          "unit 5 vs 33 (3.06% diff)",
          "unit 5 vs 34 (5.0% diff)",
          "unit 5 vs 35 (6.13% diff)",
          "unit 5 vs 36 (6.67% diff)",
          "unit 5 vs 37 (7.22% diff)",
          "unit 6 vs 7 (0.56% diff)",
          "unit 6 vs 8 (9.44% diff)",
          "unit 6 vs 9 (7.76% diff)",
          "unit 6 vs 10 (6.11% diff)",
          "unit 6 vs 11 (6.37% diff)",
          "unit 6 vs 12 (7.2% diff)",
          "unit 6 vs 13 (5.01% diff)",
          "unit 6 vs 14 (6.37% diff)",
          "unit 6 vs 15 (9.42% diff)",
          "unit 6 vs 16 (2.79% diff)",
          "unit 6 vs 17 (7.2% diff)",
          "unit 6 vs 18 (7.48% diff)",
          "unit 6 vs 19 (3.34% diff)",
          "unit 6 vs 20 (7.2% diff)",
          "unit 6 vs 21 (6.93% diff)",
          "unit 6 vs 22 (7.48% diff)",
          "unit 6 vs 23 (3.9% diff)",
          "unit 6 vs 24 (6.93% diff)",
          "unit 6 vs 25 (6.67% diff)",
          "unit 6 vs 26 (7.2% diff)",
          "unit 6 vs 27 (3.35% diff)",
          "unit 6 vs 28 (2.51% diff)",
          "unit 6 vs 29 (3.9% diff)",
          "unit 6 vs 30 (7.2% diff)",
          "unit 6 vs 31 (6.39% diff)",
          "unit 6 vs 32 (7.2% diff)",
          "unit 6 vs 33 (3.34% diff)",
          "unit 6 vs 34 (0.84% diff)",
          "unit 6 vs 35 (6.94% diff)",
          "unit 6 vs 36 (5.85% diff)",
          "unit 6 vs 37 (7.76% diff)",
          "unit 7 vs 8 (8.89% diff)",
          "unit 7 vs 9 (7.2% diff)",
          "unit 7 vs 10 (5.56% diff)",
          "unit 7 vs 11 (5.82% diff)",
          "unit 7 vs 12 (6.65% diff)",
          "unit 7 vs 13 (4.46% diff)",
          "unit 7 vs 14 (5.82% diff)",
          "unit 7 vs 15 (8.86% diff)",
          "unit 7 vs 16 (2.78% diff)",
          "unit 7 vs 17 (6.65% diff)",
          "unit 7 vs 18 (6.93% diff)",
          "unit 7 vs 19 (2.79% diff)",
          "unit 7 vs 20 (6.65% diff)",
          "unit 7 vs 21 (6.37% diff)",
          "unit 7 vs 22 (6.93% diff)",
          "unit 7 vs 23 (3.34% diff)",
          "unit 7 vs 24 (6.37% diff)",
          "unit 7 vs 25 (6.11% diff)",
          "unit 7 vs 26 (6.65% diff)",
          "unit 7 vs 27 (2.79% diff)",
          "unit 7 vs 28 (2.51% diff)",
          "unit 7 vs 29 (3.34% diff)",
          "unit 7 vs 30 (6.65% diff)",
          "unit 7 vs 31 (5.83% diff)",
          "unit 7 vs 32 (6.65% diff)",
          "unit 7 vs 33 (2.79% diff)",
          "unit 7 vs 34 (0.28% diff)",
          "unit 7 vs 35 (6.39% diff)",
          "unit 7 vs 36 (5.29% diff)",
          "unit 7 vs 37 (7.2% diff)",
          "unit 8 vs 9 (9.47% diff)",
          "unit 8 vs 10 (7.54% diff)",
          "unit 8 vs 11 (8.64% diff)",
          "unit 8 vs 12 (8.64% diff)",
          "unit 8 vs 13 (10.58% diff)",
          "unit 8 vs 14 (8.08% diff)",
          "unit 8 vs 15 (10.86% diff)",
          "unit 8 vs 16 (9.17% diff)",
          "unit 8 vs 17 (8.38% diff)",
          "unit 8 vs 18 (9.19% diff)",
          "unit 8 vs 19 (9.17% diff)",
          "unit 8 vs 20 (8.1% diff)",
          "unit 8 vs 21 (8.64% diff)",
          "unit 8 vs 22 (9.19% diff)",
          "unit 8 vs 23 (9.19% diff)",
          "unit 8 vs 24 (7.82% diff)",
          "unit 8 vs 25 (8.91% diff)",
          "unit 8 vs 26 (8.91% diff)",
          "unit 8 vs 27 (8.91% diff)",
          "unit 8 vs 28 (9.7% diff)",
          "unit 8 vs 29 (9.19% diff)",
          "unit 8 vs 30 (8.1% diff)",
          "unit 8 vs 31 (8.64% diff)",
          "unit 8 vs 32 (8.91% diff)",
          "unit 8 vs 33 (10.53% diff)",
          "unit 8 vs 34 (9.17% diff)",
          "unit 8 vs 35 (8.66% diff)",
          "unit 8 vs 36 (8.64% diff)",
          "unit 8 vs 37 (8.66% diff)",
          "unit 9 vs 10 (3.63% diff)",
          "unit 9 vs 11 (5.01% diff)",
          "unit 9 vs 12 (2.51% diff)",
          "unit 9 vs 13 (7.78% diff)",
          "unit 9 vs 14 (1.96% diff)",
          "unit 9 vs 15 (3.35% diff)",
          "unit 9 vs 16 (6.09% diff)",
          "unit 9 vs 17 (4.19% diff)",
          "unit 9 vs 18 (1.4% diff)",
          "unit 9 vs 19 (6.09% diff)",
          "unit 9 vs 20 (3.91% diff)",
          "unit 9 vs 21 (2.51% diff)",
          "unit 9 vs 22 (0.84% diff)",
          "unit 9 vs 23 (5.83% diff)",
          "unit 9 vs 24 (3.63% diff)",
          "unit 9 vs 25 (3.62% diff)",
          "unit 9 vs 26 (1.12% diff)",
          "unit 9 vs 27 (6.11% diff)",
          "unit 9 vs 28 (8.29% diff)",
          "unit 9 vs 29 (6.67% diff)",
          "unit 9 vs 30 (3.91% diff)",
          "unit 9 vs 31 (3.06% diff)",
          "unit 9 vs 32 (1.12% diff)",
          "unit 9 vs 33 (7.46% diff)",
          "unit 9 vs 34 (7.48% diff)",
          "unit 9 vs 35 (5.03% diff)",
          "unit 9 vs 36 (5.57% diff)",
          "unit 9 vs 37 (4.48% diff)",
          "unit 10 vs 11 (3.61% diff)",
          "unit 10 vs 12 (3.63% diff)",
          "unit 10 vs 13 (6.41% diff)",
          "unit 10 vs 14 (2.51% diff)",
          "unit 10 vs 15 (5.31% diff)",
          "unit 10 vs 16 (5.0% diff)",
          "unit 10 vs 17 (3.63% diff)",
          "unit 10 vs 18 (3.63% diff)",
          "unit 10 vs 19 (5.0% diff)",
          "unit 10 vs 20 (3.35% diff)",
          "unit 10 vs 21 (2.51% diff)",
          "unit 10 vs 22 (3.63% diff)",
          "unit 10 vs 23 (4.46% diff)",
          "unit 10 vs 24 (3.07% diff)",
          "unit 10 vs 25 (2.79% diff)",
          "unit 10 vs 26 (3.35% diff)",
          "unit 10 vs 27 (5.01% diff)",
          "unit 10 vs 28 (6.37% diff)",
          "unit 10 vs 29 (5.01% diff)",
          "unit 10 vs 30 (3.35% diff)",
          "unit 10 vs 31 (2.51% diff)",
          "unit 10 vs 32 (3.35% diff)",
          "unit 10 vs 33 (6.09% diff)",
          "unit 10 vs 34 (5.83% diff)",
          "unit 10 vs 35 (2.79% diff)",
          "unit 10 vs 36 (4.17% diff)",
          "unit 10 vs 37 (4.47% diff)",
          "unit 11 vs 12 (5.01% diff)",
          "unit 11 vs 13 (6.39% diff)",
          "unit 11 vs 14 (3.9% diff)",
          "unit 11 vs 15 (6.39% diff)",
          "unit 11 vs 16 (5.28% diff)",
          "unit 11 vs 17 (4.44% diff)",
          "unit 11 vs 18 (5.01% diff)",
          "unit 11 vs 19 (5.28% diff)",
          "unit 11 vs 20 (4.17% diff)",
          "unit 11 vs 21 (4.46% diff)",
          "unit 11 vs 22 (5.01% diff)",
          "unit 11 vs 23 (5.29% diff)",
          "unit 11 vs 24 (3.89% diff)",
          "unit 11 vs 25 (4.18% diff)",
          "unit 11 vs 26 (4.74% diff)",
          "unit 11 vs 27 (5.28% diff)",
          "unit 11 vs 28 (6.91% diff)",
          "unit 11 vs 29 (5.85% diff)",
          "unit 11 vs 30 (4.17% diff)",
          "unit 11 vs 31 (3.9% diff)",
          "unit 11 vs 32 (4.74% diff)",
          "unit 11 vs 33 (6.63% diff)",
          "unit 11 vs 34 (6.09% diff)",
          "unit 11 vs 35 (4.44% diff)",
          "unit 11 vs 36 (2.23% diff)",
          "unit 11 vs 37 (5.28% diff)",
          "unit 12 vs 13 (7.5% diff)",
          "unit 12 vs 14 (1.68% diff)",
          "unit 12 vs 15 (5.03% diff)",
          "unit 12 vs 16 (5.54% diff)",
          "unit 12 vs 17 (4.19% diff)",
          "unit 12 vs 18 (2.23% diff)",
          "unit 12 vs 19 (5.54% diff)",
          "unit 12 vs 20 (3.91% diff)",
          "unit 12 vs 21 (1.68% diff)",
          "unit 12 vs 22 (2.23% diff)",
          "unit 12 vs 23 (5.56% diff)",
          "unit 12 vs 24 (3.63% diff)",
          "unit 12 vs 25 (3.9% diff)",
          "unit 12 vs 26 (1.96% diff)",
          "unit 12 vs 27 (5.56% diff)",
          "unit 12 vs 28 (7.73% diff)",
          "unit 12 vs 29 (5.83% diff)",
          "unit 12 vs 30 (3.91% diff)",
          "unit 12 vs 31 (3.34% diff)",
          "unit 12 vs 32 (1.96% diff)",
          "unit 12 vs 33 (6.91% diff)",
          "unit 12 vs 34 (6.93% diff)",
          "unit 12 vs 35 (5.03% diff)",
          "unit 12 vs 36 (5.01% diff)",
          "unit 12 vs 37 (5.03% diff)",
          "unit 13 vs 14 (6.94% diff)",
          "unit 13 vs 15 (4.53% diff)",
          "unit 13 vs 16 (4.46% diff)",
          "unit 13 vs 17 (6.11% diff)",
          "unit 13 vs 18 (8.06% diff)",
          "unit 13 vs 19 (4.46% diff)",
          "unit 13 vs 20 (6.39% diff)",
          "unit 13 vs 21 (7.22% diff)",
          "unit 13 vs 22 (7.78% diff)",
          "unit 13 vs 23 (4.47% diff)",
          "unit 13 vs 24 (6.11% diff)",
          "unit 13 vs 25 (6.7% diff)",
          "unit 13 vs 26 (7.5% diff)",
          "unit 13 vs 27 (4.75% diff)",
          "unit 13 vs 28 (6.65% diff)",
          "unit 13 vs 29 (4.76% diff)",
          "unit 13 vs 30 (6.39% diff)",
          "unit 13 vs 31 (6.69% diff)",
          "unit 13 vs 32 (7.5% diff)",
          "unit 13 vs 33 (6.09% diff)",
          "unit 13 vs 34 (4.74% diff)",
          "unit 13 vs 35 (6.96% diff)",
          "unit 13 vs 36 (6.15% diff)",
          "unit 13 vs 37 (7.5% diff)",
          "unit 14 vs 15 (4.19% diff)",
          "unit 14 vs 16 (4.71% diff)",
          "unit 14 vs 17 (3.07% diff)",
          "unit 14 vs 18 (1.68% diff)",
          "unit 14 vs 19 (4.71% diff)",
          "unit 14 vs 20 (2.79% diff)",
          "unit 14 vs 21 (2.23% diff)",
          "unit 14 vs 22 (1.68% diff)",
          "unit 14 vs 23 (4.72% diff)",
          "unit 14 vs 24 (2.51% diff)",
          "unit 14 vs 25 (3.62% diff)",
          "unit 14 vs 26 (1.96% diff)",
          "unit 14 vs 27 (5.28% diff)",
          "unit 14 vs 28 (6.63% diff)",
          "unit 14 vs 29 (5.28% diff)",
          "unit 14 vs 30 (2.79% diff)",
          "unit 14 vs 31 (3.34% diff)",
          "unit 14 vs 32 (1.96% diff)",
          "unit 14 vs 33 (6.35% diff)",
          "unit 14 vs 34 (6.09% diff)",
          "unit 14 vs 35 (3.91% diff)",
          "unit 14 vs 36 (4.46% diff)",
          "unit 14 vs 37 (3.91% diff)",
          "unit 15 vs 16 (8.31% diff)",
          "unit 15 vs 17 (4.19% diff)",
          "unit 15 vs 18 (3.63% diff)",
          "unit 15 vs 19 (8.31% diff)",
          "unit 15 vs 20 (4.19% diff)",
          "unit 15 vs 21 (4.47% diff)",
          "unit 15 vs 22 (3.35% diff)",
          "unit 15 vs 23 (8.06% diff)",
          "unit 15 vs 24 (3.91% diff)",
          "unit 15 vs 25 (5.03% diff)",
          "unit 15 vs 26 (3.63% diff)",
          "unit 15 vs 27 (8.06% diff)",
          "unit 15 vs 28 (9.94% diff)",
          "unit 15 vs 29 (8.64% diff)",
          "unit 15 vs 30 (4.19% diff)",
          "unit 15 vs 31 (5.01% diff)",
          "unit 15 vs 32 (3.63% diff)",
          "unit 15 vs 33 (9.39% diff)",
          "unit 15 vs 34 (9.14% diff)",
          "unit 15 vs 35 (5.87% diff)",
          "unit 15 vs 36 (6.69% diff)",
          "unit 15 vs 37 (5.31% diff)",
          "unit 16 vs 17 (6.37% diff)",
          "unit 16 vs 18 (5.26% diff)",
          "unit 16 vs 19 (0.56% diff)",
          "unit 16 vs 20 (6.37% diff)",
          "unit 16 vs 21 (5.82% diff)",
          "unit 16 vs 22 (5.82% diff)",
          "unit 16 vs 23 (1.67% diff)",
          "unit 16 vs 24 (6.09% diff)",
          "unit 16 vs 25 (5.56% diff)",
          "unit 16 vs 26 (5.54% diff)",
          "unit 16 vs 27 (2.79% diff)",
          "unit 16 vs 28 (4.71% diff)",
          "unit 16 vs 29 (2.23% diff)",
          "unit 16 vs 30 (6.37% diff)",
          "unit 16 vs 31 (5.28% diff)",
          "unit 16 vs 32 (5.54% diff)",
          "unit 16 vs 33 (4.97% diff)",
          "unit 16 vs 34 (3.06% diff)",
          "unit 16 vs 35 (6.39% diff)",
          "unit 16 vs 36 (4.75% diff)",
          "unit 16 vs 37 (7.48% diff)",
          "unit 17 vs 18 (4.19% diff)",
          "unit 17 vs 19 (6.37% diff)",
          "unit 17 vs 20 (0.84% diff)",
          "unit 17 vs 21 (3.63% diff)",
          "unit 17 vs 22 (4.19% diff)",
          "unit 17 vs 23 (6.39% diff)",
          "unit 17 vs 24 (0.56% diff)",
          "unit 17 vs 25 (5.01% diff)",
          "unit 17 vs 26 (3.91% diff)",
          "unit 17 vs 27 (6.11% diff)",
          "unit 17 vs 28 (8.01% diff)",
          "unit 17 vs 29 (6.94% diff)",
          "unit 17 vs 30 (0.84% diff)",
          "unit 17 vs 31 (4.74% diff)",
          "unit 17 vs 32 (3.91% diff)",
          "unit 17 vs 33 (7.73% diff)",
          "unit 17 vs 34 (6.93% diff)",
          "unit 17 vs 35 (3.63% diff)",
          "unit 17 vs 36 (4.72% diff)",
          "unit 17 vs 37 (1.96% diff)",
          "unit 18 vs 19 (5.26% diff)",
          "unit 18 vs 20 (3.91% diff)",
          "unit 18 vs 21 (2.23% diff)",
          "unit 18 vs 22 (1.12% diff)",
          "unit 18 vs 23 (5.0% diff)",
          "unit 18 vs 24 (3.63% diff)",
          "unit 18 vs 25 (3.06% diff)",
          "unit 18 vs 26 (1.4% diff)",
          "unit 18 vs 27 (6.39% diff)",
          "unit 18 vs 28 (8.01% diff)",
          "unit 18 vs 29 (5.56% diff)",
          "unit 18 vs 30 (3.91% diff)",
          "unit 18 vs 31 (2.79% diff)",
          "unit 18 vs 32 (1.4% diff)",
          "unit 18 vs 33 (7.73% diff)",
          "unit 18 vs 34 (7.2% diff)",
          "unit 18 vs 35 (5.03% diff)",
          "unit 18 vs 36 (5.29% diff)",
          "unit 18 vs 37 (5.03% diff)",
          "unit 19 vs 20 (6.37% diff)",
          "unit 19 vs 21 (5.82% diff)",
          "unit 19 vs 22 (5.82% diff)",
          "unit 19 vs 23 (1.67% diff)",
          "unit 19 vs 24 (6.09% diff)",
          "unit 19 vs 25 (5.56% diff)",
          "unit 19 vs 26 (5.54% diff)",
          "unit 19 vs 27 (2.79% diff)",
          "unit 19 vs 28 (5.26% diff)",
          "unit 19 vs 29 (2.23% diff)",
          "unit 19 vs 30 (6.37% diff)",
          "unit 19 vs 31 (5.28% diff)",
          "unit 19 vs 32 (5.54% diff)",
          "unit 19 vs 33 (4.99% diff)",
          "unit 19 vs 34 (3.06% diff)",
          "unit 19 vs 35 (6.39% diff)",
          "unit 19 vs 36 (4.75% diff)",
          "unit 19 vs 37 (7.48% diff)",
          "unit 20 vs 21 (3.35% diff)",
          "unit 20 vs 22 (3.91% diff)",
          "unit 20 vs 23 (6.39% diff)",
          "unit 20 vs 24 (0.28% diff)",
          "unit 20 vs 25 (4.74% diff)",
          "unit 20 vs 26 (3.63% diff)",
          "unit 20 vs 27 (6.11% diff)",
          "unit 20 vs 28 (7.73% diff)",
          "unit 20 vs 29 (6.94% diff)",
          "unit 20 vs 30 (0.56% diff)",
          "unit 20 vs 31 (4.46% diff)",
          "unit 20 vs 32 (3.63% diff)",
          "unit 20 vs 33 (7.46% diff)",
          "unit 20 vs 34 (6.93% diff)",
          "unit 20 vs 35 (3.35% diff)",
          "unit 20 vs 36 (4.72% diff)",
          "unit 20 vs 37 (1.68% diff)",
          "unit 21 vs 22 (2.23% diff)",
          "unit 21 vs 23 (5.28% diff)",
          "unit 21 vs 24 (3.07% diff)",
          "unit 21 vs 25 (2.79% diff)",
          "unit 21 vs 26 (1.96% diff)",
          "unit 21 vs 27 (5.28% diff)",
          "unit 21 vs 28 (7.18% diff)",
          "unit 21 vs 29 (5.56% diff)",
          "unit 21 vs 30 (3.35% diff)",
          "unit 21 vs 31 (2.23% diff)",
          "unit 21 vs 32 (1.96% diff)",
          "unit 21 vs 33 (6.35% diff)",
          "unit 21 vs 34 (6.65% diff)",
          "unit 21 vs 35 (3.63% diff)",
          "unit 21 vs 36 (4.74% diff)",
          "unit 21 vs 37 (4.19% diff)",
          "unit 22 vs 23 (5.56% diff)",
          "unit 22 vs 24 (3.63% diff)",
          "unit 22 vs 25 (3.34% diff)",
          "unit 22 vs 26 (0.84% diff)",
          "unit 22 vs 27 (5.83% diff)",
          "unit 22 vs 28 (8.01% diff)",
          "unit 22 vs 29 (6.39% diff)",
          "unit 22 vs 30 (3.91% diff)",
          "unit 22 vs 31 (2.79% diff)",
          "unit 22 vs 32 (0.84% diff)",
          "unit 22 vs 33 (7.18% diff)",
          "unit 22 vs 34 (7.2% diff)",
          "unit 22 vs 35 (5.03% diff)",
          "unit 22 vs 36 (5.57% diff)",
          "unit 22 vs 37 (5.03% diff)",
          "unit 23 vs 24 (6.11% diff)",
          "unit 23 vs 25 (4.74% diff)",
          "unit 23 vs 26 (5.28% diff)",
          "unit 23 vs 27 (3.35% diff)",
          "unit 23 vs 28 (5.26% diff)",
          "unit 23 vs 29 (1.68% diff)",
          "unit 23 vs 30 (6.39% diff)",
          "unit 23 vs 31 (4.46% diff)",
          "unit 23 vs 32 (5.28% diff)",
          "unit 23 vs 33 (4.99% diff)",
          "unit 23 vs 34 (3.62% diff)",
          "unit 23 vs 35 (5.85% diff)",
          "unit 23 vs 36 (5.31% diff)",
          "unit 23 vs 37 (7.5% diff)",
          "unit 24 vs 25 (4.46% diff)",
          "unit 24 vs 26 (3.35% diff)",
          "unit 24 vs 27 (5.83% diff)",
          "unit 24 vs 28 (7.46% diff)",
          "unit 24 vs 29 (6.67% diff)",
          "unit 24 vs 30 (0.28% diff)",
          "unit 24 vs 31 (4.18% diff)",
          "unit 24 vs 32 (3.35% diff)",
          "unit 24 vs 33 (7.18% diff)",
          "unit 24 vs 34 (6.65% diff)",
          "unit 24 vs 35 (3.07% diff)",
          "unit 24 vs 36 (4.44% diff)",
          "unit 24 vs 37 (1.4% diff)",
          "unit 25 vs 26 (3.06% diff)",
          "unit 25 vs 27 (5.29% diff)",
          "unit 25 vs 28 (6.93% diff)",
          "unit 25 vs 29 (5.29% diff)",
          "unit 25 vs 30 (4.74% diff)",
          "unit 25 vs 31 (0.56% diff)",
          "unit 25 vs 32 (3.06% diff)",
          "unit 25 vs 33 (6.37% diff)",
          "unit 25 vs 34 (6.39% diff)",
          "unit 25 vs 35 (4.18% diff)",
          "unit 25 vs 36 (4.46% diff)",
          "unit 25 vs 37 (5.85% diff)",
          "unit 26 vs 27 (5.56% diff)",
          "unit 26 vs 28 (7.73% diff)",
          "unit 26 vs 29 (6.11% diff)",
          "unit 26 vs 30 (3.63% diff)",
          "unit 26 vs 31 (2.51% diff)",
          "unit 26 vs 32 (0.0% diff)",
          "unit 26 vs 33 (6.91% diff)",
          "unit 26 vs 34 (6.93% diff)",
          "unit 26 vs 35 (4.75% diff)",
          "unit 26 vs 36 (5.29% diff)",
          "unit 26 vs 37 (4.75% diff)",
          "unit 27 vs 28 (5.28% diff)",
          "unit 27 vs 29 (3.91% diff)",
          "unit 27 vs 30 (6.11% diff)",
          "unit 27 vs 31 (4.74% diff)",
          "unit 27 vs 32 (5.56% diff)",
          "unit 27 vs 33 (4.44% diff)",
          "unit 27 vs 34 (3.07% diff)",
          "unit 27 vs 35 (6.41% diff)",
          "unit 27 vs 36 (4.75% diff)",
          "unit 27 vs 37 (7.22% diff)",
          "unit 28 vs 29 (5.26% diff)",
          "unit 28 vs 30 (7.73% diff)",
          "unit 28 vs 31 (6.65% diff)",
          "unit 28 vs 32 (7.73% diff)",
          "unit 28 vs 33 (1.4% diff)",
          "unit 28 vs 34 (2.79% diff)",
          "unit 28 vs 35 (7.2% diff)",
          "unit 28 vs 36 (7.76% diff)",
          "unit 28 vs 37 (8.29% diff)",
          "unit 29 vs 30 (6.94% diff)",
          "unit 29 vs 31 (5.01% diff)",
          "unit 29 vs 32 (6.11% diff)",
          "unit 29 vs 33 (5.54% diff)",
          "unit 29 vs 34 (3.62% diff)",
          "unit 29 vs 35 (5.59% diff)",
          "unit 29 vs 36 (5.32% diff)",
          "unit 29 vs 37 (7.5% diff)",
          "unit 30 vs 31 (4.46% diff)",
          "unit 30 vs 32 (3.63% diff)",
          "unit 30 vs 33 (7.46% diff)",
          "unit 30 vs 34 (6.93% diff)",
          "unit 30 vs 35 (3.35% diff)",
          "unit 30 vs 36 (4.72% diff)",
          "unit 30 vs 37 (1.68% diff)",
          "unit 31 vs 32 (2.51% diff)",
          "unit 31 vs 33 (5.82% diff)",
          "unit 31 vs 34 (6.11% diff)",
          "unit 31 vs 35 (3.9% diff)",
          "unit 31 vs 36 (4.18% diff)",
          "unit 31 vs 37 (5.57% diff)",
          "unit 32 vs 33 (6.91% diff)",
          "unit 32 vs 34 (6.93% diff)",
          "unit 32 vs 35 (4.75% diff)",
          "unit 32 vs 36 (5.29% diff)",
          "unit 32 vs 37 (4.75% diff)",
          "unit 33 vs 34 (3.06% diff)",
          "unit 33 vs 35 (7.48% diff)",
          "unit 33 vs 36 (7.48% diff)",
          "unit 33 vs 37 (8.56% diff)",
          "unit 34 vs 35 (6.67% diff)",
          "unit 34 vs 36 (5.57% diff)",
          "unit 34 vs 37 (7.48% diff)",
          "unit 35 vs 36 (4.74% diff)",
          "unit 35 vs 37 (2.53% diff)",
          "unit 36 vs 37 (5.83% diff)"
         ],
         "type": "scatter",
         "x": [
          362.5,
          362.5,
          362.5,
          362.5,
          362.5,
          362.5,
          362.5,
          362.5,
          362.5,
          362.5,
          362.5,
          362.5,
          362.5,
          362.5,
          362.5,
          362.5,
          362.5,
          362.5,
          362.5,
          362.5,
          362.5,
          362.5,
          362.5,
          362.5,
          362.5,
          362.5,
          362.5,
          362.5,
          362.5,
          362.5,
          362.5,
          362.5,
          362.5,
          362.5,
          362.5,
          362.5,
          362.5,
          716.5,
          716.5,
          716.5,
          716.5,
          716.5,
          716.5,
          716.5,
          716.5,
          716.5,
          716.5,
          716.5,
          716.5,
          716.5,
          716.5,
          716.5,
          716.5,
          716.5,
          716.5,
          716.5,
          716.5,
          716.5,
          716.5,
          716.5,
          716.5,
          716.5,
          716.5,
          716.5,
          716.5,
          716.5,
          716.5,
          716.5,
          716.5,
          716.5,
          716.5,
          716.5,
          716.5,
          1073,
          1073,
          1073,
          1073,
          1073,
          1073,
          1073,
          1073,
          1073,
          1073,
          1073,
          1073,
          1073,
          1073,
          1073,
          1073,
          1073,
          1073,
          1073,
          1073,
          1073,
          1073,
          1073,
          1073,
          1073,
          1073,
          1073,
          1073,
          1073,
          1073,
          1073,
          1073,
          1073,
          1073,
          1073,
          1430,
          1430,
          1430,
          1430,
          1430,
          1430,
          1430,
          1430,
          1430,
          1430,
          1430,
          1430,
          1430,
          1430,
          1430,
          1430,
          1430,
          1430,
          1430,
          1430,
          1430,
          1430,
          1430,
          1430,
          1430,
          1430,
          1430,
          1430,
          1430,
          1430,
          1430,
          1430,
          1430,
          1430,
          1788.5,
          1788.5,
          1788.5,
          1788.5,
          1788.5,
          1788.5,
          1788.5,
          1788.5,
          1788.5,
          1788.5,
          1788.5,
          1788.5,
          1788.5,
          1788.5,
          1788.5,
          1788.5,
          1788.5,
          1788.5,
          1788.5,
          1788.5,
          1788.5,
          1788.5,
          1788.5,
          1788.5,
          1788.5,
          1788.5,
          1788.5,
          1788.5,
          1788.5,
          1788.5,
          1788.5,
          1788.5,
          1788.5,
          2145.5,
          2145.5,
          2145.5,
          2145.5,
          2145.5,
          2145.5,
          2145.5,
          2145.5,
          2145.5,
          2145.5,
          2145.5,
          2145.5,
          2145.5,
          2145.5,
          2145.5,
          2145.5,
          2145.5,
          2145.5,
          2145.5,
          2145.5,
          2145.5,
          2145.5,
          2145.5,
          2145.5,
          2145.5,
          2145.5,
          2145.5,
          2145.5,
          2145.5,
          2145.5,
          2145.5,
          2145.5,
          2503.5,
          2503.5,
          2503.5,
          2503.5,
          2503.5,
          2503.5,
          2503.5,
          2503.5,
          2503.5,
          2503.5,
          2503.5,
          2503.5,
          2503.5,
          2503.5,
          2503.5,
          2503.5,
          2503.5,
          2503.5,
          2503.5,
          2503.5,
          2503.5,
          2503.5,
          2503.5,
          2503.5,
          2503.5,
          2503.5,
          2503.5,
          2503.5,
          2503.5,
          2503.5,
          2503.5,
          2861.5,
          2861.5,
          2861.5,
          2861.5,
          2861.5,
          2861.5,
          2861.5,
          2861.5,
          2861.5,
          2861.5,
          2861.5,
          2861.5,
          2861.5,
          2861.5,
          2861.5,
          2861.5,
          2861.5,
          2861.5,
          2861.5,
          2861.5,
          2861.5,
          2861.5,
          2861.5,
          2861.5,
          2861.5,
          2861.5,
          2861.5,
          2861.5,
          2861.5,
          2861.5,
          3213,
          3213,
          3213,
          3213,
          3213,
          3213,
          3213,
          3213,
          3213,
          3213,
          3213,
          3213,
          3213,
          3213,
          3213,
          3213,
          3213,
          3213,
          3213,
          3213,
          3213,
          3213,
          3213,
          3213,
          3213,
          3213,
          3213,
          3213,
          3213,
          3563,
          3563,
          3563,
          3563,
          3563,
          3563,
          3563,
          3563,
          3563,
          3563,
          3563,
          3563,
          3563,
          3563,
          3563,
          3563,
          3563,
          3563,
          3563,
          3563,
          3563,
          3563,
          3563,
          3563,
          3563,
          3563,
          3563,
          3563,
          3920,
          3920,
          3920,
          3920,
          3920,
          3920,
          3920,
          3920,
          3920,
          3920,
          3920,
          3920,
          3920,
          3920,
          3920,
          3920,
          3920,
          3920,
          3920,
          3920,
          3920,
          3920,
          3920,
          3920,
          3920,
          3920,
          3920,
          4278.5,
          4278.5,
          4278.5,
          4278.5,
          4278.5,
          4278.5,
          4278.5,
          4278.5,
          4278.5,
          4278.5,
          4278.5,
          4278.5,
          4278.5,
          4278.5,
          4278.5,
          4278.5,
          4278.5,
          4278.5,
          4278.5,
          4278.5,
          4278.5,
          4278.5,
          4278.5,
          4278.5,
          4278.5,
          4278.5,
          4637,
          4637,
          4637,
          4637,
          4637,
          4637,
          4637,
          4637,
          4637,
          4637,
          4637,
          4637,
          4637,
          4637,
          4637,
          4637,
          4637,
          4637,
          4637,
          4637,
          4637,
          4637,
          4637,
          4637,
          4637,
          4991.5,
          4991.5,
          4991.5,
          4991.5,
          4991.5,
          4991.5,
          4991.5,
          4991.5,
          4991.5,
          4991.5,
          4991.5,
          4991.5,
          4991.5,
          4991.5,
          4991.5,
          4991.5,
          4991.5,
          4991.5,
          4991.5,
          4991.5,
          4991.5,
          4991.5,
          4991.5,
          4991.5,
          5346,
          5346,
          5346,
          5346,
          5346,
          5346,
          5346,
          5346,
          5346,
          5346,
          5346,
          5346,
          5346,
          5346,
          5346,
          5346,
          5346,
          5346,
          5346,
          5346,
          5346,
          5346,
          5346,
          5700.5,
          5700.5,
          5700.5,
          5700.5,
          5700.5,
          5700.5,
          5700.5,
          5700.5,
          5700.5,
          5700.5,
          5700.5,
          5700.5,
          5700.5,
          5700.5,
          5700.5,
          5700.5,
          5700.5,
          5700.5,
          5700.5,
          5700.5,
          5700.5,
          5700.5,
          6055,
          6055,
          6055,
          6055,
          6055,
          6055,
          6055,
          6055,
          6055,
          6055,
          6055,
          6055,
          6055,
          6055,
          6055,
          6055,
          6055,
          6055,
          6055,
          6055,
          6055,
          6413.5,
          6413.5,
          6413.5,
          6413.5,
          6413.5,
          6413.5,
          6413.5,
          6413.5,
          6413.5,
          6413.5,
          6413.5,
          6413.5,
          6413.5,
          6413.5,
          6413.5,
          6413.5,
          6413.5,
          6413.5,
          6413.5,
          6413.5,
          6771,
          6771,
          6771,
          6771,
          6771,
          6771,
          6771,
          6771,
          6771,
          6771,
          6771,
          6771,
          6771,
          6771,
          6771,
          6771,
          6771,
          6771,
          6771,
          7128.5,
          7128.5,
          7128.5,
          7128.5,
          7128.5,
          7128.5,
          7128.5,
          7128.5,
          7128.5,
          7128.5,
          7128.5,
          7128.5,
          7128.5,
          7128.5,
          7128.5,
          7128.5,
          7128.5,
          7128.5,
          7486,
          7486,
          7486,
          7486,
          7486,
          7486,
          7486,
          7486,
          7486,
          7486,
          7486,
          7486,
          7486,
          7486,
          7486,
          7486,
          7486,
          7843,
          7843,
          7843,
          7843,
          7843,
          7843,
          7843,
          7843,
          7843,
          7843,
          7843,
          7843,
          7843,
          7843,
          7843,
          7843,
          8201,
          8201,
          8201,
          8201,
          8201,
          8201,
          8201,
          8201,
          8201,
          8201,
          8201,
          8201,
          8201,
          8201,
          8201,
          8558,
          8558,
          8558,
          8558,
          8558,
          8558,
          8558,
          8558,
          8558,
          8558,
          8558,
          8558,
          8558,
          8558,
          8914.5,
          8914.5,
          8914.5,
          8914.5,
          8914.5,
          8914.5,
          8914.5,
          8914.5,
          8914.5,
          8914.5,
          8914.5,
          8914.5,
          8914.5,
          9272,
          9272,
          9272,
          9272,
          9272,
          9272,
          9272,
          9272,
          9272,
          9272,
          9272,
          9272,
          9630,
          9630,
          9630,
          9630,
          9630,
          9630,
          9630,
          9630,
          9630,
          9630,
          9630,
          9987,
          9987,
          9987,
          9987,
          9987,
          9987,
          9987,
          9987,
          9987,
          9987,
          10345,
          10345,
          10345,
          10345,
          10345,
          10345,
          10345,
          10345,
          10345,
          10703.5,
          10703.5,
          10703.5,
          10703.5,
          10703.5,
          10703.5,
          10703.5,
          10703.5,
          11060.5,
          11060.5,
          11060.5,
          11060.5,
          11060.5,
          11060.5,
          11060.5,
          11418.5,
          11418.5,
          11418.5,
          11418.5,
          11418.5,
          11418.5,
          11777,
          11777,
          11777,
          11777,
          11777,
          12135,
          12135,
          12135,
          12135,
          12493.5,
          12493.5,
          12493.5,
          12851,
          12851,
          13207
         ],
         "y": [
          716.5,
          1073,
          1430,
          1788.5,
          2145.5,
          2503.5,
          2861.5,
          3213,
          3563,
          3920,
          4278.5,
          4637,
          4991.5,
          5346,
          5700.5,
          6055,
          6413.5,
          6771,
          7128.5,
          7486,
          7843,
          8201,
          8558,
          8914.5,
          9272,
          9630,
          9987,
          10345,
          10703.5,
          11060.5,
          11418.5,
          11777,
          12135,
          12493.5,
          12851,
          13207,
          13563,
          1073,
          1430,
          1788.5,
          2145.5,
          2503.5,
          2861.5,
          3213,
          3563,
          3920,
          4278.5,
          4637,
          4991.5,
          5346,
          5700.5,
          6055,
          6413.5,
          6771,
          7128.5,
          7486,
          7843,
          8201,
          8558,
          8914.5,
          9272,
          9630,
          9987,
          10345,
          10703.5,
          11060.5,
          11418.5,
          11777,
          12135,
          12493.5,
          12851,
          13207,
          13563,
          1430,
          1788.5,
          2145.5,
          2503.5,
          2861.5,
          3213,
          3563,
          3920,
          4278.5,
          4637,
          4991.5,
          5346,
          5700.5,
          6055,
          6413.5,
          6771,
          7128.5,
          7486,
          7843,
          8201,
          8558,
          8914.5,
          9272,
          9630,
          9987,
          10345,
          10703.5,
          11060.5,
          11418.5,
          11777,
          12135,
          12493.5,
          12851,
          13207,
          13563,
          1788.5,
          2145.5,
          2503.5,
          2861.5,
          3213,
          3563,
          3920,
          4278.5,
          4637,
          4991.5,
          5346,
          5700.5,
          6055,
          6413.5,
          6771,
          7128.5,
          7486,
          7843,
          8201,
          8558,
          8914.5,
          9272,
          9630,
          9987,
          10345,
          10703.5,
          11060.5,
          11418.5,
          11777,
          12135,
          12493.5,
          12851,
          13207,
          13563,
          2145.5,
          2503.5,
          2861.5,
          3213,
          3563,
          3920,
          4278.5,
          4637,
          4991.5,
          5346,
          5700.5,
          6055,
          6413.5,
          6771,
          7128.5,
          7486,
          7843,
          8201,
          8558,
          8914.5,
          9272,
          9630,
          9987,
          10345,
          10703.5,
          11060.5,
          11418.5,
          11777,
          12135,
          12493.5,
          12851,
          13207,
          13563,
          2503.5,
          2861.5,
          3213,
          3563,
          3920,
          4278.5,
          4637,
          4991.5,
          5346,
          5700.5,
          6055,
          6413.5,
          6771,
          7128.5,
          7486,
          7843,
          8201,
          8558,
          8914.5,
          9272,
          9630,
          9987,
          10345,
          10703.5,
          11060.5,
          11418.5,
          11777,
          12135,
          12493.5,
          12851,
          13207,
          13563,
          2861.5,
          3213,
          3563,
          3920,
          4278.5,
          4637,
          4991.5,
          5346,
          5700.5,
          6055,
          6413.5,
          6771,
          7128.5,
          7486,
          7843,
          8201,
          8558,
          8914.5,
          9272,
          9630,
          9987,
          10345,
          10703.5,
          11060.5,
          11418.5,
          11777,
          12135,
          12493.5,
          12851,
          13207,
          13563,
          3213,
          3563,
          3920,
          4278.5,
          4637,
          4991.5,
          5346,
          5700.5,
          6055,
          6413.5,
          6771,
          7128.5,
          7486,
          7843,
          8201,
          8558,
          8914.5,
          9272,
          9630,
          9987,
          10345,
          10703.5,
          11060.5,
          11418.5,
          11777,
          12135,
          12493.5,
          12851,
          13207,
          13563,
          3563,
          3920,
          4278.5,
          4637,
          4991.5,
          5346,
          5700.5,
          6055,
          6413.5,
          6771,
          7128.5,
          7486,
          7843,
          8201,
          8558,
          8914.5,
          9272,
          9630,
          9987,
          10345,
          10703.5,
          11060.5,
          11418.5,
          11777,
          12135,
          12493.5,
          12851,
          13207,
          13563,
          3920,
          4278.5,
          4637,
          4991.5,
          5346,
          5700.5,
          6055,
          6413.5,
          6771,
          7128.5,
          7486,
          7843,
          8201,
          8558,
          8914.5,
          9272,
          9630,
          9987,
          10345,
          10703.5,
          11060.5,
          11418.5,
          11777,
          12135,
          12493.5,
          12851,
          13207,
          13563,
          4278.5,
          4637,
          4991.5,
          5346,
          5700.5,
          6055,
          6413.5,
          6771,
          7128.5,
          7486,
          7843,
          8201,
          8558,
          8914.5,
          9272,
          9630,
          9987,
          10345,
          10703.5,
          11060.5,
          11418.5,
          11777,
          12135,
          12493.5,
          12851,
          13207,
          13563,
          4637,
          4991.5,
          5346,
          5700.5,
          6055,
          6413.5,
          6771,
          7128.5,
          7486,
          7843,
          8201,
          8558,
          8914.5,
          9272,
          9630,
          9987,
          10345,
          10703.5,
          11060.5,
          11418.5,
          11777,
          12135,
          12493.5,
          12851,
          13207,
          13563,
          4991.5,
          5346,
          5700.5,
          6055,
          6413.5,
          6771,
          7128.5,
          7486,
          7843,
          8201,
          8558,
          8914.5,
          9272,
          9630,
          9987,
          10345,
          10703.5,
          11060.5,
          11418.5,
          11777,
          12135,
          12493.5,
          12851,
          13207,
          13563,
          5346,
          5700.5,
          6055,
          6413.5,
          6771,
          7128.5,
          7486,
          7843,
          8201,
          8558,
          8914.5,
          9272,
          9630,
          9987,
          10345,
          10703.5,
          11060.5,
          11418.5,
          11777,
          12135,
          12493.5,
          12851,
          13207,
          13563,
          5700.5,
          6055,
          6413.5,
          6771,
          7128.5,
          7486,
          7843,
          8201,
          8558,
          8914.5,
          9272,
          9630,
          9987,
          10345,
          10703.5,
          11060.5,
          11418.5,
          11777,
          12135,
          12493.5,
          12851,
          13207,
          13563,
          6055,
          6413.5,
          6771,
          7128.5,
          7486,
          7843,
          8201,
          8558,
          8914.5,
          9272,
          9630,
          9987,
          10345,
          10703.5,
          11060.5,
          11418.5,
          11777,
          12135,
          12493.5,
          12851,
          13207,
          13563,
          6413.5,
          6771,
          7128.5,
          7486,
          7843,
          8201,
          8558,
          8914.5,
          9272,
          9630,
          9987,
          10345,
          10703.5,
          11060.5,
          11418.5,
          11777,
          12135,
          12493.5,
          12851,
          13207,
          13563,
          6771,
          7128.5,
          7486,
          7843,
          8201,
          8558,
          8914.5,
          9272,
          9630,
          9987,
          10345,
          10703.5,
          11060.5,
          11418.5,
          11777,
          12135,
          12493.5,
          12851,
          13207,
          13563,
          7128.5,
          7486,
          7843,
          8201,
          8558,
          8914.5,
          9272,
          9630,
          9987,
          10345,
          10703.5,
          11060.5,
          11418.5,
          11777,
          12135,
          12493.5,
          12851,
          13207,
          13563,
          7486,
          7843,
          8201,
          8558,
          8914.5,
          9272,
          9630,
          9987,
          10345,
          10703.5,
          11060.5,
          11418.5,
          11777,
          12135,
          12493.5,
          12851,
          13207,
          13563,
          7843,
          8201,
          8558,
          8914.5,
          9272,
          9630,
          9987,
          10345,
          10703.5,
          11060.5,
          11418.5,
          11777,
          12135,
          12493.5,
          12851,
          13207,
          13563,
          8201,
          8558,
          8914.5,
          9272,
          9630,
          9987,
          10345,
          10703.5,
          11060.5,
          11418.5,
          11777,
          12135,
          12493.5,
          12851,
          13207,
          13563,
          8558,
          8914.5,
          9272,
          9630,
          9987,
          10345,
          10703.5,
          11060.5,
          11418.5,
          11777,
          12135,
          12493.5,
          12851,
          13207,
          13563,
          8914.5,
          9272,
          9630,
          9987,
          10345,
          10703.5,
          11060.5,
          11418.5,
          11777,
          12135,
          12493.5,
          12851,
          13207,
          13563,
          9272,
          9630,
          9987,
          10345,
          10703.5,
          11060.5,
          11418.5,
          11777,
          12135,
          12493.5,
          12851,
          13207,
          13563,
          9630,
          9987,
          10345,
          10703.5,
          11060.5,
          11418.5,
          11777,
          12135,
          12493.5,
          12851,
          13207,
          13563,
          9987,
          10345,
          10703.5,
          11060.5,
          11418.5,
          11777,
          12135,
          12493.5,
          12851,
          13207,
          13563,
          10345,
          10703.5,
          11060.5,
          11418.5,
          11777,
          12135,
          12493.5,
          12851,
          13207,
          13563,
          10703.5,
          11060.5,
          11418.5,
          11777,
          12135,
          12493.5,
          12851,
          13207,
          13563,
          11060.5,
          11418.5,
          11777,
          12135,
          12493.5,
          12851,
          13207,
          13563,
          11418.5,
          11777,
          12135,
          12493.5,
          12851,
          13207,
          13563,
          11777,
          12135,
          12493.5,
          12851,
          13207,
          13563,
          12135,
          12493.5,
          12851,
          13207,
          13563,
          12493.5,
          12851,
          13207,
          13563,
          12851,
          13207,
          13563,
          13207,
          13563,
          13563
         ]
        },
        {
         "hoverinfo": "text",
         "marker": {
          "size": 5
         },
         "mode": "text",
         "name": "TR unit",
         "showlegend": true,
         "text": [
          "0 ",
          "1 ",
          "2 ",
          "3 ",
          "4 ",
          "5 ",
          "6 ",
          "7 ",
          "8 ",
          "9 ",
          "10 ",
          "11 ",
          "12 ",
          "13 ",
          "14 ",
          "15 ",
          "16 ",
          "17 ",
          "18 ",
          "19 ",
          "20 ",
          "21 ",
          "22 ",
          "23 ",
          "24 ",
          "25 ",
          "26 ",
          "27 ",
          "28 ",
          "29 ",
          "30 ",
          "31 ",
          "32 ",
          "33 ",
          "34 ",
          "35 ",
          "36 ",
          "37 "
         ],
         "textfont": {
          "color": "black",
          "size": 10
         },
         "textposition": "bottom left",
         "type": "scatter",
         "x": [
          187,
          538,
          895,
          1251,
          1610,
          1967,
          2325,
          2683,
          3041,
          3385,
          3741,
          4099,
          4458,
          4816,
          5167,
          5525,
          5876,
          6235,
          6592,
          6950,
          7308,
          7664,
          8022,
          8380,
          8736,
          9093,
          9451,
          9809,
          10166,
          10525,
          10882,
          11239,
          11598,
          11956,
          12315,
          12673,
          13029,
          13386
         ],
         "y": [
          187,
          538,
          895,
          1251,
          1610,
          1967,
          2325,
          2683,
          3041,
          3385,
          3741,
          4099,
          4458,
          4816,
          5167,
          5525,
          5876,
          6235,
          6592,
          6950,
          7308,
          7664,
          8022,
          8380,
          8736,
          9093,
          9451,
          9809,
          10166,
          10525,
          10882,
          11239,
          11598,
          11956,
          12315,
          12673,
          13029,
          13386
         ]
        },
        {
         "hoverinfo": "text",
         "marker": {
          "color": [
           "black",
           "black",
           "black",
           "black",
           "black",
           "black",
           "black",
           "black",
           "black",
           "black",
           "black",
           "black",
           "black",
           "black",
           "black",
           "black",
           "black",
           "black",
           "black",
           "black",
           "black",
           "black",
           "black",
           "black",
           "black",
           "black",
           "black",
           "black",
           "black",
           "black",
           "black",
           "black",
           "black",
           "black",
           "black",
           "black",
           "black",
           "black"
          ],
          "size": 5
         },
         "mode": "markers",
         "showlegend": false,
         "text": [
          "unit 0 (id=1)<br>[187:538] (351 bp)",
          "unit 1 (id=1)<br>[538:895] (357 bp)",
          "unit 2 (id=1)<br>[895:1251] (356 bp)",
          "unit 3 (id=1)<br>[1251:1609] (358 bp)",
          "unit 4 (id=1)<br>[1610:1967] (357 bp)",
          "unit 5 (id=1)<br>[1967:2324] (357 bp)",
          "unit 6 (id=1)<br>[2325:2682] (357 bp)",
          "unit 7 (id=1)<br>[2683:3040] (357 bp)",
          "unit 8 (id=1)<br>[3041:3385] (344 bp)",
          "unit 9 (id=1)<br>[3385:3741] (356 bp)",
          "unit 10 (id=1)<br>[3741:4099] (358 bp)",
          "unit 11 (id=1)<br>[4099:4458] (359 bp)",
          "unit 12 (id=1)<br>[4458:4816] (358 bp)",
          "unit 13 (id=1)<br>[4816:5167] (351 bp)",
          "unit 14 (id=1)<br>[5167:5525] (358 bp)",
          "unit 15 (id=1)<br>[5525:5876] (351 bp)",
          "unit 16 (id=1)<br>[5876:6234] (358 bp)",
          "unit 17 (id=1)<br>[6235:6592] (357 bp)",
          "unit 18 (id=1)<br>[6592:6950] (358 bp)",
          "unit 19 (id=1)<br>[6950:7307] (357 bp)",
          "unit 20 (id=1)<br>[7308:7664] (356 bp)",
          "unit 21 (id=1)<br>[7664:8022] (358 bp)",
          "unit 22 (id=1)<br>[8022:8380] (358 bp)",
          "unit 23 (id=1)<br>[8380:8736] (356 bp)",
          "unit 24 (id=1)<br>[8736:9093] (357 bp)",
          "unit 25 (id=1)<br>[9093:9451] (358 bp)",
          "unit 26 (id=1)<br>[9451:9809] (358 bp)",
          "unit 27 (id=1)<br>[9809:10165] (356 bp)",
          "unit 28 (id=1)<br>[10166:10524] (358 bp)",
          "unit 29 (id=1)<br>[10525:10882] (357 bp)",
          "unit 30 (id=1)<br>[10882:11239] (357 bp)",
          "unit 31 (id=1)<br>[11239:11598] (359 bp)",
          "unit 32 (id=1)<br>[11598:11956] (358 bp)",
          "unit 33 (id=1)<br>[11956:12314] (358 bp)",
          "unit 34 (id=1)<br>[12315:12672] (357 bp)",
          "unit 35 (id=1)<br>[12673:13029] (356 bp)",
          "unit 36 (id=1)<br>[13029:13385] (356 bp)",
          "unit 37 (id=1)<br>[13386:13740] (354 bp)"
         ],
         "type": "scatter",
         "x": [
          187,
          538,
          895,
          1251,
          1610,
          1967,
          2325,
          2683,
          3041,
          3385,
          3741,
          4099,
          4458,
          4816,
          5167,
          5525,
          5876,
          6235,
          6592,
          6950,
          7308,
          7664,
          8022,
          8380,
          8736,
          9093,
          9451,
          9809,
          10166,
          10525,
          10882,
          11239,
          11598,
          11956,
          12315,
          12673,
          13029,
          13386
         ],
         "y": [
          187,
          538,
          895,
          1251,
          1610,
          1967,
          2325,
          2683,
          3041,
          3385,
          3741,
          4099,
          4458,
          4816,
          5167,
          5525,
          5876,
          6235,
          6592,
          6950,
          7308,
          7664,
          8022,
          8380,
          8736,
          9093,
          9451,
          9809,
          10166,
          10525,
          10882,
          11239,
          11598,
          11956,
          12315,
          12673,
          13029,
          13386
         ]
        }
       ],
       "layout": {
        "height": 800,
        "hovermode": "closest",
        "shapes": [
         {
          "layer": "below",
          "line": {
           "color": "grey",
           "width": 3
          },
          "type": "line",
          "x0": 0,
          "x1": 13814,
          "xref": "x",
          "y0": 0,
          "y1": 13814,
          "yref": "y"
         },
         {
          "layer": "below",
          "line": {
           "color": "black",
           "width": 3
          },
          "type": "line",
          "x0": 0,
          "x1": 13814,
          "xref": "x",
          "y0": 0,
          "y1": 13814,
          "yref": "y"
         },
         {
          "layer": "below",
          "line": {
           "color": "purple",
           "width": 3
          },
          "type": "line",
          "x0": 354,
          "x1": 13802,
          "xref": "x",
          "y0": 3,
          "y1": 13447,
          "yref": "y"
         },
         {
          "layer": "below",
          "line": {
           "color": "black",
           "width": 1
          },
          "type": "line",
          "x0": 709,
          "x1": 12202,
          "xref": "x",
          "y0": 0,
          "y1": 11485,
          "yref": "y"
         },
         {
          "layer": "below",
          "line": {
           "color": "black",
           "width": 1
          },
          "type": "line",
          "x0": 12320,
          "x1": 13814,
          "xref": "x",
          "y0": 11603,
          "y1": 13102,
          "yref": "y"
         },
         {
          "layer": "below",
          "line": {
           "color": "black",
           "width": 1
          },
          "type": "line",
          "x0": 1072,
          "x1": 10412,
          "xref": "x",
          "y0": 8,
          "y1": 9338,
          "yref": "y"
         },
         {
          "layer": "below",
          "line": {
           "color": "black",
           "width": 1
          },
          "type": "line",
          "x0": 10558,
          "x1": 11485,
          "xref": "x",
          "y0": 9485,
          "y1": 10412,
          "yref": "y"
         },
         {
          "layer": "below",
          "line": {
           "color": "black",
           "width": 1
          },
          "type": "line",
          "x0": 11632,
          "x1": 12233,
          "xref": "x",
          "y0": 10558,
          "y1": 11157,
          "yref": "y"
         },
         {
          "layer": "below",
          "line": {
           "color": "black",
           "width": 1
          },
          "type": "line",
          "x0": 12706,
          "x1": 13802,
          "xref": "x",
          "y0": 11632,
          "y1": 12734,
          "yref": "y"
         },
         {
          "layer": "below",
          "line": {
           "color": "black",
           "width": 1
          },
          "type": "line",
          "x0": 6269,
          "x1": 11803,
          "xref": "x",
          "y0": 4843,
          "y1": 10371,
          "yref": "y"
         },
         {
          "layer": "below",
          "line": {
           "color": "black",
           "width": 1
          },
          "type": "line",
          "x0": 1644,
          "x1": 2215,
          "xref": "x",
          "y0": 214,
          "y1": 786,
          "yref": "y"
         },
         {
          "layer": "below",
          "line": {
           "color": "black",
           "width": 1
          },
          "type": "line",
          "x0": 2330,
          "x1": 6154,
          "xref": "x",
          "y0": 900,
          "y1": 4734,
          "yref": "y"
         },
         {
          "layer": "below",
          "line": {
           "color": "black",
           "width": 1
          },
          "type": "line",
          "x0": 11990,
          "x1": 13814,
          "xref": "x",
          "y0": 10558,
          "y1": 12389,
          "yref": "y"
         },
         {
          "layer": "below",
          "line": {
           "color": "black",
           "width": 1
          },
          "type": "line",
          "x0": 4859,
          "x1": 13814,
          "xref": "x",
          "y0": 3091,
          "y1": 12030,
          "yref": "y"
         },
         {
          "layer": "below",
          "line": {
           "color": "black",
           "width": 1
          },
          "type": "line",
          "x0": 1795,
          "x1": 4734,
          "xref": "x",
          "y0": 15,
          "y1": 2960,
          "yref": "y"
         },
         {
          "layer": "below",
          "line": {
           "color": "black",
           "width": 1
          },
          "type": "line",
          "x0": 4843,
          "x1": 13814,
          "xref": "x",
          "y0": 2717,
          "y1": 11672,
          "yref": "y"
         },
         {
          "layer": "below",
          "line": {
           "color": "black",
           "width": 1
          },
          "type": "line",
          "x0": 2359,
          "x1": 4734,
          "xref": "x",
          "y0": 214,
          "y1": 2602,
          "yref": "y"
         },
         {
          "layer": "below",
          "line": {
           "color": "black",
           "width": 1
          },
          "type": "line",
          "x0": 7342,
          "x1": 12161,
          "xref": "x",
          "y0": 4843,
          "y1": 9656,
          "yref": "y"
         },
         {
          "layer": "below",
          "line": {
           "color": "black",
           "width": 1
          },
          "type": "line",
          "x0": 2717,
          "x1": 7227,
          "xref": "x",
          "y0": 214,
          "y1": 4734,
          "yref": "y"
         },
         {
          "layer": "below",
          "line": {
           "color": "black",
           "width": 1
          },
          "type": "line",
          "x0": 12320,
          "x1": 13814,
          "xref": "x",
          "y0": 9814,
          "y1": 11313,
          "yref": "y"
         },
         {
          "layer": "below",
          "line": {
           "color": "black",
           "width": 1
          },
          "type": "line",
          "x0": 3091,
          "x1": 12202,
          "xref": "x",
          "y0": 230,
          "y1": 9338,
          "yref": "y"
         },
         {
          "layer": "below",
          "line": {
           "color": "black",
           "width": 1
          },
          "type": "line",
          "x0": 3236,
          "x1": 4734,
          "xref": "x",
          "y0": 38,
          "y1": 1529,
          "yref": "y"
         },
         {
          "layer": "below",
          "line": {
           "color": "black",
           "width": 1
          },
          "type": "line",
          "x0": 4843,
          "x1": 12233,
          "xref": "x",
          "y0": 1644,
          "y1": 9011,
          "yref": "y"
         },
         {
          "layer": "below",
          "line": {
           "color": "black",
           "width": 1
          },
          "type": "line",
          "x0": 3554,
          "x1": 13814,
          "xref": "x",
          "y0": 0,
          "y1": 10240,
          "yref": "y"
         },
         {
          "layer": "below",
          "line": {
           "color": "black",
           "width": 1
          },
          "type": "line",
          "x0": 3912,
          "x1": 8656,
          "xref": "x",
          "y0": 0,
          "y1": 4734,
          "yref": "y"
         },
         {
          "layer": "below",
          "line": {
           "color": "black",
           "width": 1
          },
          "type": "line",
          "x0": 8770,
          "x1": 12161,
          "xref": "x",
          "y0": 4843,
          "y1": 8227,
          "yref": "y"
         },
         {
          "layer": "below",
          "line": {
           "color": "black",
           "width": 1
          },
          "type": "line",
          "x0": 12320,
          "x1": 13794,
          "xref": "x",
          "y0": 8385,
          "y1": 9863,
          "yref": "y"
         },
         {
          "layer": "below",
          "line": {
           "color": "black",
           "width": 1
          },
          "type": "line",
          "x0": 4629,
          "x1": 12233,
          "xref": "x",
          "y0": 0,
          "y1": 7582,
          "yref": "y"
         },
         {
          "layer": "below",
          "line": {
           "color": "black",
           "width": 1
          },
          "type": "line",
          "x0": 5338,
          "x1": 10085,
          "xref": "x",
          "y0": 0,
          "y1": 4734,
          "yref": "y"
         },
         {
          "layer": "below",
          "line": {
           "color": "black",
           "width": 1
          },
          "type": "line",
          "x0": 10215,
          "x1": 12161,
          "xref": "x",
          "y0": 4858,
          "y1": 6797,
          "yref": "y"
         },
         {
          "layer": "below",
          "line": {
           "color": "black",
           "width": 1
          },
          "type": "line",
          "x0": 9456,
          "x1": 13814,
          "xref": "x",
          "y0": 2330,
          "y1": 6666,
          "yref": "y"
         },
         {
          "layer": "below",
          "line": {
           "color": "black",
           "width": 1
          },
          "type": "line",
          "x0": 9814,
          "x1": 12233,
          "xref": "x",
          "y0": 2330,
          "y1": 4734,
          "yref": "y"
         },
         {
          "layer": "below",
          "line": {
           "color": "black",
           "width": 1
          },
          "type": "line",
          "x0": 12360,
          "x1": 13814,
          "xref": "x",
          "y0": 4854,
          "y1": 6309,
          "yref": "y"
         },
         {
          "layer": "below",
          "line": {
           "color": "black",
           "width": 1
          },
          "type": "line",
          "x0": 7835,
          "x1": 12592,
          "xref": "x",
          "y0": 0,
          "y1": 4734,
          "yref": "y"
         },
         {
          "layer": "below",
          "line": {
           "color": "black",
           "width": 1
          },
          "type": "line",
          "x0": 8193,
          "x1": 13758,
          "xref": "x",
          "y0": 0,
          "y1": 5543,
          "yref": "y"
         },
         {
          "layer": "below",
          "line": {
           "color": "black",
           "width": 1
          },
          "type": "line",
          "x0": 11273,
          "x1": 13758,
          "xref": "x",
          "y0": 2359,
          "y1": 4834,
          "yref": "y"
         },
         {
          "layer": "below",
          "line": {
           "color": "black",
           "width": 1
          },
          "type": "line",
          "x0": 10215,
          "x1": 13814,
          "xref": "x",
          "y0": 229,
          "y1": 3815,
          "yref": "y"
         },
         {
          "fillcolor": "#2094c0",
          "layer": "below",
          "line": {
           "width": 0
          },
          "opacity": 1,
          "type": "rect",
          "x0": 187,
          "x1": 538,
          "xref": "x",
          "y0": 538,
          "y1": 895,
          "yref": "y"
         },
         {
          "fillcolor": "#2075b3",
          "layer": "below",
          "line": {
           "width": 0
          },
          "opacity": 1,
          "type": "rect",
          "x0": 187,
          "x1": 538,
          "xref": "x",
          "y0": 895,
          "y1": 1251,
          "yref": "y"
         },
         {
          "fillcolor": "#7acbbc",
          "layer": "below",
          "line": {
           "width": 0
          },
          "opacity": 1,
          "type": "rect",
          "x0": 187,
          "x1": 538,
          "xref": "x",
          "y0": 1251,
          "y1": 1609,
          "yref": "y"
         },
         {
          "fillcolor": "#289cc1",
          "layer": "below",
          "line": {
           "width": 0
          },
          "opacity": 1,
          "type": "rect",
          "x0": 187,
          "x1": 538,
          "xref": "x",
          "y0": 1610,
          "y1": 1967,
          "yref": "y"
         },
         {
          "fillcolor": "#2094c0",
          "layer": "below",
          "line": {
           "width": 0
          },
          "opacity": 1,
          "type": "rect",
          "x0": 187,
          "x1": 538,
          "xref": "x",
          "y0": 1967,
          "y1": 2324,
          "yref": "y"
         },
         {
          "fillcolor": "#53bdc1",
          "layer": "below",
          "line": {
           "width": 0
          },
          "opacity": 1,
          "type": "rect",
          "x0": 187,
          "x1": 538,
          "xref": "x",
          "y0": 2325,
          "y1": 2682,
          "yref": "y"
         },
         {
          "fillcolor": "#6dc6be",
          "layer": "below",
          "line": {
           "width": 0
          },
          "opacity": 1,
          "type": "rect",
          "x0": 187,
          "x1": 538,
          "xref": "x",
          "y0": 2683,
          "y1": 3040,
          "yref": "y"
         },
         {
          "fillcolor": "#0d2163",
          "layer": "below",
          "line": {
           "width": 0
          },
          "opacity": 1,
          "type": "rect",
          "x0": 187,
          "x1": 538,
          "xref": "x",
          "y0": 3041,
          "y1": 3385,
          "yref": "y"
         },
         {
          "fillcolor": "#216bae",
          "layer": "below",
          "line": {
           "width": 0
          },
          "opacity": 1,
          "type": "rect",
          "x0": 187,
          "x1": 538,
          "xref": "x",
          "y0": 3385,
          "y1": 3741,
          "yref": "y"
         },
         {
          "fillcolor": "#289cc1",
          "layer": "below",
          "line": {
           "width": 0
          },
          "opacity": 1,
          "type": "rect",
          "x0": 187,
          "x1": 538,
          "xref": "x",
          "y0": 3741,
          "y1": 4099,
          "yref": "y"
         },
         {
          "fillcolor": "#289cc1",
          "layer": "below",
          "line": {
           "width": 0
          },
          "opacity": 1,
          "type": "rect",
          "x0": 187,
          "x1": 538,
          "xref": "x",
          "y0": 4099,
          "y1": 4458,
          "yref": "y"
         },
         {
          "fillcolor": "#2076b3",
          "layer": "below",
          "line": {
           "width": 0
          },
          "opacity": 1,
          "type": "rect",
          "x0": 187,
          "x1": 538,
          "xref": "x",
          "y0": 4458,
          "y1": 4816,
          "yref": "y"
         },
         {
          "fillcolor": "#ffffd9",
          "layer": "below",
          "line": {
           "width": 0
          },
          "opacity": 1,
          "type": "rect",
          "x0": 187,
          "x1": 538,
          "xref": "x",
          "y0": 4816,
          "y1": 5167,
          "yref": "y"
         },
         {
          "fillcolor": "#1e8bbd",
          "layer": "below",
          "line": {
           "width": 0
          },
          "opacity": 1,
          "type": "rect",
          "x0": 187,
          "x1": 538,
          "xref": "x",
          "y0": 5167,
          "y1": 5525,
          "yref": "y"
         },
         {
          "fillcolor": "#6bc6be",
          "layer": "below",
          "line": {
           "width": 0
          },
          "opacity": 1,
          "type": "rect",
          "x0": 187,
          "x1": 538,
          "xref": "x",
          "y0": 5525,
          "y1": 5876,
          "yref": "y"
         },
         {
          "fillcolor": "#6dc6be",
          "layer": "below",
          "line": {
           "width": 0
          },
          "opacity": 1,
          "type": "rect",
          "x0": 187,
          "x1": 538,
          "xref": "x",
          "y0": 5876,
          "y1": 6234,
          "yref": "y"
         },
         {
          "fillcolor": "#2ea3c2",
          "layer": "below",
          "line": {
           "width": 0
          },
          "opacity": 1,
          "type": "rect",
          "x0": 187,
          "x1": 538,
          "xref": "x",
          "y0": 6235,
          "y1": 6592,
          "yref": "y"
         },
         {
          "fillcolor": "#2262aa",
          "layer": "below",
          "line": {
           "width": 0
          },
          "opacity": 1,
          "type": "rect",
          "x0": 187,
          "x1": 538,
          "xref": "x",
          "y0": 6592,
          "y1": 6950,
          "yref": "y"
         },
         {
          "fillcolor": "#6dc6be",
          "layer": "below",
          "line": {
           "width": 0
          },
          "opacity": 1,
          "type": "rect",
          "x0": 187,
          "x1": 538,
          "xref": "x",
          "y0": 6950,
          "y1": 7307,
          "yref": "y"
         },
         {
          "fillcolor": "#289cc1",
          "layer": "below",
          "line": {
           "width": 0
          },
          "opacity": 1,
          "type": "rect",
          "x0": 187,
          "x1": 538,
          "xref": "x",
          "y0": 7308,
          "y1": 7664,
          "yref": "y"
         },
         {
          "fillcolor": "#1f80b8",
          "layer": "below",
          "line": {
           "width": 0
          },
          "opacity": 1,
          "type": "rect",
          "x0": 187,
          "x1": 538,
          "xref": "x",
          "y0": 7664,
          "y1": 8022,
          "yref": "y"
         },
         {
          "fillcolor": "#216bae",
          "layer": "below",
          "line": {
           "width": 0
          },
          "opacity": 1,
          "type": "rect",
          "x0": 187,
          "x1": 538,
          "xref": "x",
          "y0": 8022,
          "y1": 8380,
          "yref": "y"
         },
         {
          "fillcolor": "#6dc6be",
          "layer": "below",
          "line": {
           "width": 0
          },
          "opacity": 1,
          "type": "rect",
          "x0": 187,
          "x1": 538,
          "xref": "x",
          "y0": 8380,
          "y1": 8736,
          "yref": "y"
         },
         {
          "fillcolor": "#2ea3c2",
          "layer": "below",
          "line": {
           "width": 0
          },
          "opacity": 1,
          "type": "rect",
          "x0": 187,
          "x1": 538,
          "xref": "x",
          "y0": 8736,
          "y1": 9093,
          "yref": "y"
         },
         {
          "fillcolor": "#2094c0",
          "layer": "below",
          "line": {
           "width": 0
          },
          "opacity": 1,
          "type": "rect",
          "x0": 187,
          "x1": 538,
          "xref": "x",
          "y0": 9093,
          "y1": 9451,
          "yref": "y"
         },
         {
          "fillcolor": "#2076b3",
          "layer": "below",
          "line": {
           "width": 0
          },
          "opacity": 1,
          "type": "rect",
          "x0": 187,
          "x1": 538,
          "xref": "x",
          "y0": 9451,
          "y1": 9809,
          "yref": "y"
         },
         {
          "fillcolor": "#61c2bf",
          "layer": "below",
          "line": {
           "width": 0
          },
          "opacity": 1,
          "type": "rect",
          "x0": 187,
          "x1": 538,
          "xref": "x",
          "y0": 9809,
          "y1": 10165,
          "yref": "y"
         },
         {
          "fillcolor": "#2195c0",
          "layer": "below",
          "line": {
           "width": 0
          },
          "opacity": 1,
          "type": "rect",
          "x0": 187,
          "x1": 538,
          "xref": "x",
          "y0": 10166,
          "y1": 10524,
          "yref": "y"
         },
         {
          "fillcolor": "#5fc1c0",
          "layer": "below",
          "line": {
           "width": 0
          },
          "opacity": 1,
          "type": "rect",
          "x0": 187,
          "x1": 538,
          "xref": "x",
          "y0": 10525,
          "y1": 10882,
          "yref": "y"
         },
         {
          "fillcolor": "#289cc1",
          "layer": "below",
          "line": {
           "width": 0
          },
          "opacity": 1,
          "type": "rect",
          "x0": 187,
          "x1": 538,
          "xref": "x",
          "y0": 10882,
          "y1": 11239,
          "yref": "y"
         },
         {
          "fillcolor": "#2094c0",
          "layer": "below",
          "line": {
           "width": 0
          },
          "opacity": 1,
          "type": "rect",
          "x0": 187,
          "x1": 538,
          "xref": "x",
          "y0": 11239,
          "y1": 11598,
          "yref": "y"
         },
         {
          "fillcolor": "#2076b3",
          "layer": "below",
          "line": {
           "width": 0
          },
          "opacity": 1,
          "type": "rect",
          "x0": 187,
          "x1": 538,
          "xref": "x",
          "y0": 11598,
          "y1": 11956,
          "yref": "y"
         },
         {
          "fillcolor": "#2fa4c2",
          "layer": "below",
          "line": {
           "width": 0
          },
          "opacity": 1,
          "type": "rect",
          "x0": 187,
          "x1": 538,
          "xref": "x",
          "y0": 11956,
          "y1": 12314,
          "yref": "y"
         },
         {
          "fillcolor": "#61c2bf",
          "layer": "below",
          "line": {
           "width": 0
          },
          "opacity": 1,
          "type": "rect",
          "x0": 187,
          "x1": 538,
          "xref": "x",
          "y0": 12315,
          "y1": 12672,
          "yref": "y"
         },
         {
          "fillcolor": "#1e8abd",
          "layer": "below",
          "line": {
           "width": 0
          },
          "opacity": 1,
          "type": "rect",
          "x0": 187,
          "x1": 538,
          "xref": "x",
          "y0": 12673,
          "y1": 13029,
          "yref": "y"
         },
         {
          "fillcolor": "#2ea3c2",
          "layer": "below",
          "line": {
           "width": 0
          },
          "opacity": 1,
          "type": "rect",
          "x0": 187,
          "x1": 538,
          "xref": "x",
          "y0": 13029,
          "y1": 13385,
          "yref": "y"
         },
         {
          "fillcolor": "#2076b3",
          "layer": "below",
          "line": {
           "width": 0
          },
          "opacity": 1,
          "type": "rect",
          "x0": 187,
          "x1": 538,
          "xref": "x",
          "y0": 13386,
          "y1": 13740,
          "yref": "y"
         },
         {
          "fillcolor": "#dcf1b2",
          "layer": "below",
          "line": {
           "width": 0
          },
          "opacity": 1,
          "type": "rect",
          "x0": 538,
          "x1": 895,
          "xref": "x",
          "y0": 895,
          "y1": 1251,
          "yref": "y"
         },
         {
          "fillcolor": "#7acbbc",
          "layer": "below",
          "line": {
           "width": 0
          },
          "opacity": 1,
          "type": "rect",
          "x0": 538,
          "x1": 895,
          "xref": "x",
          "y0": 1251,
          "y1": 1609,
          "yref": "y"
         },
         {
          "fillcolor": "#b4e2b6",
          "layer": "below",
          "line": {
           "width": 0
          },
          "opacity": 1,
          "type": "rect",
          "x0": 538,
          "x1": 895,
          "xref": "x",
          "y0": 1610,
          "y1": 1967,
          "yref": "y"
         },
         {
          "fillcolor": "#36abc3",
          "layer": "below",
          "line": {
           "width": 0
          },
          "opacity": 1,
          "type": "rect",
          "x0": 538,
          "x1": 895,
          "xref": "x",
          "y0": 1967,
          "y1": 2324,
          "yref": "y"
         },
         {
          "fillcolor": "#2ea3c2",
          "layer": "below",
          "line": {
           "width": 0
          },
          "opacity": 1,
          "type": "rect",
          "x0": 538,
          "x1": 895,
          "xref": "x",
          "y0": 2325,
          "y1": 2682,
          "yref": "y"
         },
         {
          "fillcolor": "#3eb3c4",
          "layer": "below",
          "line": {
           "width": 0
          },
          "opacity": 1,
          "type": "rect",
          "x0": 538,
          "x1": 895,
          "xref": "x",
          "y0": 2683,
          "y1": 3040,
          "yref": "y"
         },
         {
          "fillcolor": "#2258a5",
          "layer": "below",
          "line": {
           "width": 0
          },
          "opacity": 1,
          "type": "rect",
          "x0": 538,
          "x1": 895,
          "xref": "x",
          "y0": 3041,
          "y1": 3385,
          "yref": "y"
         },
         {
          "fillcolor": "#d5efb3",
          "layer": "below",
          "line": {
           "width": 0
          },
          "opacity": 1,
          "type": "rect",
          "x0": 538,
          "x1": 895,
          "xref": "x",
          "y0": 3385,
          "y1": 3741,
          "yref": "y"
         },
         {
          "fillcolor": "#d5efb3",
          "layer": "below",
          "line": {
           "width": 0
          },
          "opacity": 1,
          "type": "rect",
          "x0": 538,
          "x1": 895,
          "xref": "x",
          "y0": 3741,
          "y1": 4099,
          "yref": "y"
         },
         {
          "fillcolor": "#7acbbc",
          "layer": "below",
          "line": {
           "width": 0
          },
          "opacity": 1,
          "type": "rect",
          "x0": 538,
          "x1": 895,
          "xref": "x",
          "y0": 4099,
          "y1": 4458,
          "yref": "y"
         },
         {
          "fillcolor": "#cdebb4",
          "layer": "below",
          "line": {
           "width": 0
          },
          "opacity": 1,
          "type": "rect",
          "x0": 538,
          "x1": 895,
          "xref": "x",
          "y0": 4458,
          "y1": 4816,
          "yref": "y"
         },
         {
          "fillcolor": "#2094c0",
          "layer": "below",
          "line": {
           "width": 0
          },
          "opacity": 1,
          "type": "rect",
          "x0": 538,
          "x1": 895,
          "xref": "x",
          "y0": 4816,
          "y1": 5167,
          "yref": "y"
         },
         {
          "fillcolor": "#f4fbc1",
          "layer": "below",
          "line": {
           "width": 0
          },
          "opacity": 1,
          "type": "rect",
          "x0": 538,
          "x1": 895,
          "xref": "x",
          "y0": 5167,
          "y1": 5525,
          "yref": "y"
         },
         {
          "fillcolor": "#6dc6be",
          "layer": "below",
          "line": {
           "width": 0
          },
          "opacity": 1,
          "type": "rect",
          "x0": 538,
          "x1": 895,
          "xref": "x",
          "y0": 5525,
          "y1": 5876,
          "yref": "y"
         },
         {
          "fillcolor": "#6fc7bd",
          "layer": "below",
          "line": {
           "width": 0
          },
          "opacity": 1,
          "type": "rect",
          "x0": 538,
          "x1": 895,
          "xref": "x",
          "y0": 5876,
          "y1": 6234,
          "yref": "y"
         },
         {
          "fillcolor": "#b4e2b6",
          "layer": "below",
          "line": {
           "width": 0
          },
          "opacity": 1,
          "type": "rect",
          "x0": 538,
          "x1": 895,
          "xref": "x",
          "y0": 6235,
          "y1": 6592,
          "yref": "y"
         },
         {
          "fillcolor": "#dcf1b2",
          "layer": "below",
          "line": {
           "width": 0
          },
          "opacity": 1,
          "type": "rect",
          "x0": 538,
          "x1": 895,
          "xref": "x",
          "y0": 6592,
          "y1": 6950,
          "yref": "y"
         },
         {
          "fillcolor": "#6fc7bd",
          "layer": "below",
          "line": {
           "width": 0
          },
          "opacity": 1,
          "type": "rect",
          "x0": 538,
          "x1": 895,
          "xref": "x",
          "y0": 6950,
          "y1": 7307,
          "yref": "y"
         },
         {
          "fillcolor": "#b4e2b6",
          "layer": "below",
          "line": {
           "width": 0
          },
          "opacity": 1,
          "type": "rect",
          "x0": 538,
          "x1": 895,
          "xref": "x",
          "y0": 7308,
          "y1": 7664,
          "yref": "y"
         },
         {
          "fillcolor": "#dcf1b2",
          "layer": "below",
          "line": {
           "width": 0
          },
          "opacity": 1,
          "type": "rect",
          "x0": 538,
          "x1": 895,
          "xref": "x",
          "y0": 7664,
          "y1": 8022,
          "yref": "y"
         },
         {
          "fillcolor": "#dcf1b2",
          "layer": "below",
          "line": {
           "width": 0
          },
          "opacity": 1,
          "type": "rect",
          "x0": 538,
          "x1": 895,
          "xref": "x",
          "y0": 8022,
          "y1": 8380,
          "yref": "y"
         },
         {
          "fillcolor": "#89d1ba",
          "layer": "below",
          "line": {
           "width": 0
          },
          "opacity": 1,
          "type": "rect",
          "x0": 538,
          "x1": 895,
          "xref": "x",
          "y0": 8380,
          "y1": 8736,
          "yref": "y"
         },
         {
          "fillcolor": "#c4e8b4",
          "layer": "below",
          "line": {
           "width": 0
          },
          "opacity": 1,
          "type": "rect",
          "x0": 538,
          "x1": 895,
          "xref": "x",
          "y0": 8736,
          "y1": 9093,
          "yref": "y"
         },
         {
          "fillcolor": "#a7dcb7",
          "layer": "below",
          "line": {
           "width": 0
          },
          "opacity": 1,
          "type": "rect",
          "x0": 538,
          "x1": 895,
          "xref": "x",
          "y0": 9093,
          "y1": 9451,
          "yref": "y"
         },
         {
          "fillcolor": "#d5efb3",
          "layer": "below",
          "line": {
           "width": 0
          },
          "opacity": 1,
          "type": "rect",
          "x0": 538,
          "x1": 895,
          "xref": "x",
          "y0": 9451,
          "y1": 9809,
          "yref": "y"
         },
         {
          "fillcolor": "#53bdc1",
          "layer": "below",
          "line": {
           "width": 0
          },
          "opacity": 1,
          "type": "rect",
          "x0": 538,
          "x1": 895,
          "xref": "x",
          "y0": 9809,
          "y1": 10165,
          "yref": "y"
         },
         {
          "fillcolor": "#1d8dbe",
          "layer": "below",
          "line": {
           "width": 0
          },
          "opacity": 1,
          "type": "rect",
          "x0": 538,
          "x1": 895,
          "xref": "x",
          "y0": 10166,
          "y1": 10524,
          "yref": "y"
         },
         {
          "fillcolor": "#6dc6be",
          "layer": "below",
          "line": {
           "width": 0
          },
          "opacity": 1,
          "type": "rect",
          "x0": 538,
          "x1": 895,
          "xref": "x",
          "y0": 10525,
          "y1": 10882,
          "yref": "y"
         },
         {
          "fillcolor": "#b4e2b6",
          "layer": "below",
          "line": {
           "width": 0
          },
          "opacity": 1,
          "type": "rect",
          "x0": 538,
          "x1": 895,
          "xref": "x",
          "y0": 10882,
          "y1": 11239,
          "yref": "y"
         },
         {
          "fillcolor": "#b4e2b6",
          "layer": "below",
          "line": {
           "width": 0
          },
          "opacity": 1,
          "type": "rect",
          "x0": 538,
          "x1": 895,
          "xref": "x",
          "y0": 11239,
          "y1": 11598,
          "yref": "y"
         },
         {
          "fillcolor": "#d5efb3",
          "layer": "below",
          "line": {
           "width": 0
          },
          "opacity": 1,
          "type": "rect",
          "x0": 538,
          "x1": 895,
          "xref": "x",
          "y0": 11598,
          "y1": 11956,
          "yref": "y"
         },
         {
          "fillcolor": "#2195c0",
          "layer": "below",
          "line": {
           "width": 0
          },
          "opacity": 1,
          "type": "rect",
          "x0": 538,
          "x1": 895,
          "xref": "x",
          "y0": 11956,
          "y1": 12314,
          "yref": "y"
         },
         {
          "fillcolor": "#36abc3",
          "layer": "below",
          "line": {
           "width": 0
          },
          "opacity": 1,
          "type": "rect",
          "x0": 538,
          "x1": 895,
          "xref": "x",
          "y0": 12315,
          "y1": 12672,
          "yref": "y"
         },
         {
          "fillcolor": "#97d6b9",
          "layer": "below",
          "line": {
           "width": 0
          },
          "opacity": 1,
          "type": "rect",
          "x0": 538,
          "x1": 895,
          "xref": "x",
          "y0": 12673,
          "y1": 13029,
          "yref": "y"
         },
         {
          "fillcolor": "#7acbbc",
          "layer": "below",
          "line": {
           "width": 0
          },
          "opacity": 1,
          "type": "rect",
          "x0": 538,
          "x1": 895,
          "xref": "x",
          "y0": 13029,
          "y1": 13385,
          "yref": "y"
         },
         {
          "fillcolor": "#7acbbc",
          "layer": "below",
          "line": {
           "width": 0
          },
          "opacity": 1,
          "type": "rect",
          "x0": 538,
          "x1": 895,
          "xref": "x",
          "y0": 13386,
          "y1": 13740,
          "yref": "y"
         },
         {
          "fillcolor": "#3eb3c4",
          "layer": "below",
          "line": {
           "width": 0
          },
          "opacity": 1,
          "type": "rect",
          "x0": 895,
          "x1": 1251,
          "xref": "x",
          "y0": 1251,
          "y1": 1609,
          "yref": "y"
         },
         {
          "fillcolor": "#a7dcb7",
          "layer": "below",
          "line": {
           "width": 0
          },
          "opacity": 1,
          "type": "rect",
          "x0": 895,
          "x1": 1251,
          "xref": "x",
          "y0": 1610,
          "y1": 1967,
          "yref": "y"
         },
         {
          "fillcolor": "#2195c0",
          "layer": "below",
          "line": {
           "width": 0
          },
          "opacity": 1,
          "type": "rect",
          "x0": 895,
          "x1": 1251,
          "xref": "x",
          "y0": 1967,
          "y1": 2324,
          "yref": "y"
         },
         {
          "fillcolor": "#1f82b9",
          "layer": "below",
          "line": {
           "width": 0
          },
          "opacity": 1,
          "type": "rect",
          "x0": 895,
          "x1": 1251,
          "xref": "x",
          "y0": 2325,
          "y1": 2682,
          "yref": "y"
         },
         {
          "fillcolor": "#2195c0",
          "layer": "below",
          "line": {
           "width": 0
          },
          "opacity": 1,
          "type": "rect",
          "x0": 895,
          "x1": 1251,
          "xref": "x",
          "y0": 2683,
          "y1": 3040,
          "yref": "y"
         },
         {
          "fillcolor": "#234da0",
          "layer": "below",
          "line": {
           "width": 0
          },
          "opacity": 1,
          "type": "rect",
          "x0": 895,
          "x1": 1251,
          "xref": "x",
          "y0": 3041,
          "y1": 3385,
          "yref": "y"
         },
         {
          "fillcolor": "#f0f9b8",
          "layer": "below",
          "line": {
           "width": 0
          },
          "opacity": 1,
          "type": "rect",
          "x0": 895,
          "x1": 1251,
          "xref": "x",
          "y0": 3385,
          "y1": 3741,
          "yref": "y"
         },
         {
          "fillcolor": "#97d6b9",
          "layer": "below",
          "line": {
           "width": 0
          },
          "opacity": 1,
          "type": "rect",
          "x0": 895,
          "x1": 1251,
          "xref": "x",
          "y0": 3741,
          "y1": 4099,
          "yref": "y"
         },
         {
          "fillcolor": "#61c2bf",
          "layer": "below",
          "line": {
           "width": 0
          },
          "opacity": 1,
          "type": "rect",
          "x0": 895,
          "x1": 1251,
          "xref": "x",
          "y0": 4099,
          "y1": 4458,
          "yref": "y"
         },
         {
          "fillcolor": "#cdebb4",
          "layer": "below",
          "line": {
           "width": 0
          },
          "opacity": 1,
          "type": "rect",
          "x0": 895,
          "x1": 1251,
          "xref": "x",
          "y0": 4458,
          "y1": 4816,
          "yref": "y"
         },
         {
          "fillcolor": "#2075b3",
          "layer": "below",
          "line": {
           "width": 0
          },
          "opacity": 1,
          "type": "rect",
          "x0": 895,
          "x1": 1251,
          "xref": "x",
          "y0": 4816,
          "y1": 5167,
          "yref": "y"
         },
         {
          "fillcolor": "#e5f5b2",
          "layer": "below",
          "line": {
           "width": 0
          },
          "opacity": 1,
          "type": "rect",
          "x0": 895,
          "x1": 1251,
          "xref": "x",
          "y0": 5167,
          "y1": 5525,
          "yref": "y"
         },
         {
          "fillcolor": "#b4e2b6",
          "layer": "below",
          "line": {
           "width": 0
          },
          "opacity": 1,
          "type": "rect",
          "x0": 895,
          "x1": 1251,
          "xref": "x",
          "y0": 5525,
          "y1": 5876,
          "yref": "y"
         },
         {
          "fillcolor": "#36abc3",
          "layer": "below",
          "line": {
           "width": 0
          },
          "opacity": 1,
          "type": "rect",
          "x0": 895,
          "x1": 1251,
          "xref": "x",
          "y0": 5876,
          "y1": 6234,
          "yref": "y"
         },
         {
          "fillcolor": "#97d6b9",
          "layer": "below",
          "line": {
           "width": 0
          },
          "opacity": 1,
          "type": "rect",
          "x0": 895,
          "x1": 1251,
          "xref": "x",
          "y0": 6235,
          "y1": 6592,
          "yref": "y"
         },
         {
          "fillcolor": "#f0f9b8",
          "layer": "below",
          "line": {
           "width": 0
          },
          "opacity": 1,
          "type": "rect",
          "x0": 895,
          "x1": 1251,
          "xref": "x",
          "y0": 6592,
          "y1": 6950,
          "yref": "y"
         },
         {
          "fillcolor": "#36abc3",
          "layer": "below",
          "line": {
           "width": 0
          },
          "opacity": 1,
          "type": "rect",
          "x0": 895,
          "x1": 1251,
          "xref": "x",
          "y0": 6950,
          "y1": 7307,
          "yref": "y"
         },
         {
          "fillcolor": "#a5dcb7",
          "layer": "below",
          "line": {
           "width": 0
          },
          "opacity": 1,
          "type": "rect",
          "x0": 895,
          "x1": 1251,
          "xref": "x",
          "y0": 7308,
          "y1": 7664,
          "yref": "y"
         },
         {
          "fillcolor": "#cdebb4",
          "layer": "below",
          "line": {
           "width": 0
          },
          "opacity": 1,
          "type": "rect",
          "x0": 895,
          "x1": 1251,
          "xref": "x",
          "y0": 7664,
          "y1": 8022,
          "yref": "y"
         },
         {
          "fillcolor": "#f4fbc1",
          "layer": "below",
          "line": {
           "width": 0
          },
          "opacity": 1,
          "type": "rect",
          "x0": 895,
          "x1": 1251,
          "xref": "x",
          "y0": 8022,
          "y1": 8380,
          "yref": "y"
         },
         {
          "fillcolor": "#3eb3c4",
          "layer": "below",
          "line": {
           "width": 0
          },
          "opacity": 1,
          "type": "rect",
          "x0": 895,
          "x1": 1251,
          "xref": "x",
          "y0": 8380,
          "y1": 8736,
          "yref": "y"
         },
         {
          "fillcolor": "#b4e2b6",
          "layer": "below",
          "line": {
           "width": 0
          },
          "opacity": 1,
          "type": "rect",
          "x0": 895,
          "x1": 1251,
          "xref": "x",
          "y0": 8736,
          "y1": 9093,
          "yref": "y"
         },
         {
          "fillcolor": "#b4e2b6",
          "layer": "below",
          "line": {
           "width": 0
          },
          "opacity": 1,
          "type": "rect",
          "x0": 895,
          "x1": 1251,
          "xref": "x",
          "y0": 9093,
          "y1": 9451,
          "yref": "y"
         },
         {
          "fillcolor": "#f0f9b8",
          "layer": "below",
          "line": {
           "width": 0
          },
          "opacity": 1,
          "type": "rect",
          "x0": 895,
          "x1": 1251,
          "xref": "x",
          "y0": 9451,
          "y1": 9809,
          "yref": "y"
         },
         {
          "fillcolor": "#36abc3",
          "layer": "below",
          "line": {
           "width": 0
          },
          "opacity": 1,
          "type": "rect",
          "x0": 895,
          "x1": 1251,
          "xref": "x",
          "y0": 9809,
          "y1": 10165,
          "yref": "y"
         },
         {
          "fillcolor": "#216daf",
          "layer": "below",
          "line": {
           "width": 0
          },
          "opacity": 1,
          "type": "rect",
          "x0": 895,
          "x1": 1251,
          "xref": "x",
          "y0": 10166,
          "y1": 10524,
          "yref": "y"
         },
         {
          "fillcolor": "#289cc1",
          "layer": "below",
          "line": {
           "width": 0
          },
          "opacity": 1,
          "type": "rect",
          "x0": 895,
          "x1": 1251,
          "xref": "x",
          "y0": 10525,
          "y1": 10882,
          "yref": "y"
         },
         {
          "fillcolor": "#a5dcb7",
          "layer": "below",
          "line": {
           "width": 0
          },
          "opacity": 1,
          "type": "rect",
          "x0": 895,
          "x1": 1251,
          "xref": "x",
          "y0": 10882,
          "y1": 11239,
          "yref": "y"
         },
         {
          "fillcolor": "#b4e2b6",
          "layer": "below",
          "line": {
           "width": 0
          },
          "opacity": 1,
          "type": "rect",
          "x0": 895,
          "x1": 1251,
          "xref": "x",
          "y0": 11239,
          "y1": 11598,
          "yref": "y"
         },
         {
          "fillcolor": "#f0f9b8",
          "layer": "below",
          "line": {
           "width": 0
          },
          "opacity": 1,
          "type": "rect",
          "x0": 895,
          "x1": 1251,
          "xref": "x",
          "y0": 11598,
          "y1": 11956,
          "yref": "y"
         },
         {
          "fillcolor": "#1f82b9",
          "layer": "below",
          "line": {
           "width": 0
          },
          "opacity": 1,
          "type": "rect",
          "x0": 895,
          "x1": 1251,
          "xref": "x",
          "y0": 11956,
          "y1": 12314,
          "yref": "y"
         },
         {
          "fillcolor": "#1e8bbd",
          "layer": "below",
          "line": {
           "width": 0
          },
          "opacity": 1,
          "type": "rect",
          "x0": 895,
          "x1": 1251,
          "xref": "x",
          "y0": 12315,
          "y1": 12672,
          "yref": "y"
         },
         {
          "fillcolor": "#53bdc1",
          "layer": "below",
          "line": {
           "width": 0
          },
          "opacity": 1,
          "type": "rect",
          "x0": 895,
          "x1": 1251,
          "xref": "x",
          "y0": 12673,
          "y1": 13029,
          "yref": "y"
         },
         {
          "fillcolor": "#48b9c3",
          "layer": "below",
          "line": {
           "width": 0
          },
          "opacity": 1,
          "type": "rect",
          "x0": 895,
          "x1": 1251,
          "xref": "x",
          "y0": 13029,
          "y1": 13385,
          "yref": "y"
         },
         {
          "fillcolor": "#6dc6be",
          "layer": "below",
          "line": {
           "width": 0
          },
          "opacity": 1,
          "type": "rect",
          "x0": 895,
          "x1": 1251,
          "xref": "x",
          "y0": 13386,
          "y1": 13740,
          "yref": "y"
         },
         {
          "fillcolor": "#2fa4c2",
          "layer": "below",
          "line": {
           "width": 0
          },
          "opacity": 1,
          "type": "rect",
          "x0": 1251,
          "x1": 1609,
          "xref": "x",
          "y0": 1610,
          "y1": 1967,
          "yref": "y"
         },
         {
          "fillcolor": "#89d1ba",
          "layer": "below",
          "line": {
           "width": 0
          },
          "opacity": 1,
          "type": "rect",
          "x0": 1251,
          "x1": 1609,
          "xref": "x",
          "y0": 1967,
          "y1": 2324,
          "yref": "y"
         },
         {
          "fillcolor": "#b4e2b6",
          "layer": "below",
          "line": {
           "width": 0
          },
          "opacity": 1,
          "type": "rect",
          "x0": 1251,
          "x1": 1609,
          "xref": "x",
          "y0": 2325,
          "y1": 2682,
          "yref": "y"
         },
         {
          "fillcolor": "#cdebb4",
          "layer": "below",
          "line": {
           "width": 0
          },
          "opacity": 1,
          "type": "rect",
          "x0": 1251,
          "x1": 1609,
          "xref": "x",
          "y0": 2683,
          "y1": 3040,
          "yref": "y"
         },
         {
          "fillcolor": "#24479d",
          "layer": "below",
          "line": {
           "width": 0
          },
          "opacity": 1,
          "type": "rect",
          "x0": 1251,
          "x1": 1609,
          "xref": "x",
          "y0": 3041,
          "y1": 3385,
          "yref": "y"
         },
         {
          "fillcolor": "#36abc3",
          "layer": "below",
          "line": {
           "width": 0
          },
          "opacity": 1,
          "type": "rect",
          "x0": 1251,
          "x1": 1609,
          "xref": "x",
          "y0": 3385,
          "y1": 3741,
          "yref": "y"
         },
         {
          "fillcolor": "#61c2bf",
          "layer": "below",
          "line": {
           "width": 0
          },
          "opacity": 1,
          "type": "rect",
          "x0": 1251,
          "x1": 1609,
          "xref": "x",
          "y0": 3741,
          "y1": 4099,
          "yref": "y"
         },
         {
          "fillcolor": "#55bec1",
          "layer": "below",
          "line": {
           "width": 0
          },
          "opacity": 1,
          "type": "rect",
          "x0": 1251,
          "x1": 1609,
          "xref": "x",
          "y0": 4099,
          "y1": 4458,
          "yref": "y"
         },
         {
          "fillcolor": "#48b9c3",
          "layer": "below",
          "line": {
           "width": 0
          },
          "opacity": 1,
          "type": "rect",
          "x0": 1251,
          "x1": 1609,
          "xref": "x",
          "y0": 4458,
          "y1": 4816,
          "yref": "y"
         },
         {
          "fillcolor": "#7acbbc",
          "layer": "below",
          "line": {
           "width": 0
          },
          "opacity": 1,
          "type": "rect",
          "x0": 1251,
          "x1": 1609,
          "xref": "x",
          "y0": 4816,
          "y1": 5167,
          "yref": "y"
         },
         {
          "fillcolor": "#6fc7bd",
          "layer": "below",
          "line": {
           "width": 0
          },
          "opacity": 1,
          "type": "rect",
          "x0": 1251,
          "x1": 1609,
          "xref": "x",
          "y0": 5167,
          "y1": 5525,
          "yref": "y"
         },
         {
          "fillcolor": "#2262aa",
          "layer": "below",
          "line": {
           "width": 0
          },
          "opacity": 1,
          "type": "rect",
          "x0": 1251,
          "x1": 1609,
          "xref": "x",
          "y0": 5525,
          "y1": 5876,
          "yref": "y"
         },
         {
          "fillcolor": "#fcfed1",
          "layer": "below",
          "line": {
           "width": 0
          },
          "opacity": 1,
          "type": "rect",
          "x0": 1251,
          "x1": 1609,
          "xref": "x",
          "y0": 5876,
          "y1": 6234,
          "yref": "y"
         },
         {
          "fillcolor": "#2fa4c2",
          "layer": "below",
          "line": {
           "width": 0
          },
          "opacity": 1,
          "type": "rect",
          "x0": 1251,
          "x1": 1609,
          "xref": "x",
          "y0": 6235,
          "y1": 6592,
          "yref": "y"
         },
         {
          "fillcolor": "#55bec1",
          "layer": "below",
          "line": {
           "width": 0
          },
          "opacity": 1,
          "type": "rect",
          "x0": 1251,
          "x1": 1609,
          "xref": "x",
          "y0": 6592,
          "y1": 6950,
          "yref": "y"
         },
         {
          "fillcolor": "#fcfed1",
          "layer": "below",
          "line": {
           "width": 0
          },
          "opacity": 1,
          "type": "rect",
          "x0": 1251,
          "x1": 1609,
          "xref": "x",
          "y0": 6950,
          "y1": 7307,
          "yref": "y"
         },
         {
          "fillcolor": "#2fa4c2",
          "layer": "below",
          "line": {
           "width": 0
          },
          "opacity": 1,
          "type": "rect",
          "x0": 1251,
          "x1": 1609,
          "xref": "x",
          "y0": 7308,
          "y1": 7664,
          "yref": "y"
         },
         {
          "fillcolor": "#3eb3c4",
          "layer": "below",
          "line": {
           "width": 0
          },
          "opacity": 1,
          "type": "rect",
          "x0": 1251,
          "x1": 1609,
          "xref": "x",
          "y0": 7664,
          "y1": 8022,
          "yref": "y"
         },
         {
          "fillcolor": "#3eb3c4",
          "layer": "below",
          "line": {
           "width": 0
          },
          "opacity": 1,
          "type": "rect",
          "x0": 1251,
          "x1": 1609,
          "xref": "x",
          "y0": 8022,
          "y1": 8380,
          "yref": "y"
         },
         {
          "fillcolor": "#edf8b1",
          "layer": "below",
          "line": {
           "width": 0
          },
          "opacity": 1,
          "type": "rect",
          "x0": 1251,
          "x1": 1609,
          "xref": "x",
          "y0": 8380,
          "y1": 8736,
          "yref": "y"
         },
         {
          "fillcolor": "#36abc3",
          "layer": "below",
          "line": {
           "width": 0
          },
          "opacity": 1,
          "type": "rect",
          "x0": 1251,
          "x1": 1609,
          "xref": "x",
          "y0": 8736,
          "y1": 9093,
          "yref": "y"
         },
         {
          "fillcolor": "#48b9c3",
          "layer": "below",
          "line": {
           "width": 0
          },
          "opacity": 1,
          "type": "rect",
          "x0": 1251,
          "x1": 1609,
          "xref": "x",
          "y0": 9093,
          "y1": 9451,
          "yref": "y"
         },
         {
          "fillcolor": "#48b9c3",
          "layer": "below",
          "line": {
           "width": 0
          },
          "opacity": 1,
          "type": "rect",
          "x0": 1251,
          "x1": 1609,
          "xref": "x",
          "y0": 9451,
          "y1": 9809,
          "yref": "y"
         },
         {
          "fillcolor": "#cdebb4",
          "layer": "below",
          "line": {
           "width": 0
          },
          "opacity": 1,
          "type": "rect",
          "x0": 1251,
          "x1": 1609,
          "xref": "x",
          "y0": 9809,
          "y1": 10165,
          "yref": "y"
         },
         {
          "fillcolor": "#55bec1",
          "layer": "below",
          "line": {
           "width": 0
          },
          "opacity": 1,
          "type": "rect",
          "x0": 1251,
          "x1": 1609,
          "xref": "x",
          "y0": 10166,
          "y1": 10524,
          "yref": "y"
         },
         {
          "fillcolor": "#ddf2b2",
          "layer": "below",
          "line": {
           "width": 0
          },
          "opacity": 1,
          "type": "rect",
          "x0": 1251,
          "x1": 1609,
          "xref": "x",
          "y0": 10525,
          "y1": 10882,
          "yref": "y"
         },
         {
          "fillcolor": "#2fa4c2",
          "layer": "below",
          "line": {
           "width": 0
          },
          "opacity": 1,
          "type": "rect",
          "x0": 1251,
          "x1": 1609,
          "xref": "x",
          "y0": 10882,
          "y1": 11239,
          "yref": "y"
         },
         {
          "fillcolor": "#55bec1",
          "layer": "below",
          "line": {
           "width": 0
          },
          "opacity": 1,
          "type": "rect",
          "x0": 1251,
          "x1": 1609,
          "xref": "x",
          "y0": 11239,
          "y1": 11598,
          "yref": "y"
         },
         {
          "fillcolor": "#48b9c3",
          "layer": "below",
          "line": {
           "width": 0
          },
          "opacity": 1,
          "type": "rect",
          "x0": 1251,
          "x1": 1609,
          "xref": "x",
          "y0": 11598,
          "y1": 11956,
          "yref": "y"
         },
         {
          "fillcolor": "#63c3bf",
          "layer": "below",
          "line": {
           "width": 0
          },
          "opacity": 1,
          "type": "rect",
          "x0": 1251,
          "x1": 1609,
          "xref": "x",
          "y0": 11956,
          "y1": 12314,
          "yref": "y"
         },
         {
          "fillcolor": "#c4e8b4",
          "layer": "below",
          "line": {
           "width": 0
          },
          "opacity": 1,
          "type": "rect",
          "x0": 1251,
          "x1": 1609,
          "xref": "x",
          "y0": 12315,
          "y1": 12672,
          "yref": "y"
         },
         {
          "fillcolor": "#2ea3c2",
          "layer": "below",
          "line": {
           "width": 0
          },
          "opacity": 1,
          "type": "rect",
          "x0": 1251,
          "x1": 1609,
          "xref": "x",
          "y0": 12673,
          "y1": 13029,
          "yref": "y"
         },
         {
          "fillcolor": "#6dc6be",
          "layer": "below",
          "line": {
           "width": 0
          },
          "opacity": 1,
          "type": "rect",
          "x0": 1251,
          "x1": 1609,
          "xref": "x",
          "y0": 13029,
          "y1": 13385,
          "yref": "y"
         },
         {
          "fillcolor": "#1f82b9",
          "layer": "below",
          "line": {
           "width": 0
          },
          "opacity": 1,
          "type": "rect",
          "x0": 1251,
          "x1": 1609,
          "xref": "x",
          "y0": 13386,
          "y1": 13740,
          "yref": "y"
         },
         {
          "fillcolor": "#2195c0",
          "layer": "below",
          "line": {
           "width": 0
          },
          "opacity": 1,
          "type": "rect",
          "x0": 1610,
          "x1": 1967,
          "xref": "x",
          "y0": 1967,
          "y1": 2324,
          "yref": "y"
         },
         {
          "fillcolor": "#1f82b9",
          "layer": "below",
          "line": {
           "width": 0
          },
          "opacity": 1,
          "type": "rect",
          "x0": 1610,
          "x1": 1967,
          "xref": "x",
          "y0": 2325,
          "y1": 2682,
          "yref": "y"
         },
         {
          "fillcolor": "#2195c0",
          "layer": "below",
          "line": {
           "width": 0
          },
          "opacity": 1,
          "type": "rect",
          "x0": 1610,
          "x1": 1967,
          "xref": "x",
          "y0": 2683,
          "y1": 3040,
          "yref": "y"
         },
         {
          "fillcolor": "#2260a9",
          "layer": "below",
          "line": {
           "width": 0
          },
          "opacity": 1,
          "type": "rect",
          "x0": 1610,
          "x1": 1967,
          "xref": "x",
          "y0": 3041,
          "y1": 3385,
          "yref": "y"
         },
         {
          "fillcolor": "#89d1ba",
          "layer": "below",
          "line": {
           "width": 0
          },
          "opacity": 1,
          "type": "rect",
          "x0": 1610,
          "x1": 1967,
          "xref": "x",
          "y0": 3385,
          "y1": 3741,
          "yref": "y"
         },
         {
          "fillcolor": "#a7dcb7",
          "layer": "below",
          "line": {
           "width": 0
          },
          "opacity": 1,
          "type": "rect",
          "x0": 1610,
          "x1": 1967,
          "xref": "x",
          "y0": 3741,
          "y1": 4099,
          "yref": "y"
         },
         {
          "fillcolor": "#7acbbc",
          "layer": "below",
          "line": {
           "width": 0
          },
          "opacity": 1,
          "type": "rect",
          "x0": 1610,
          "x1": 1967,
          "xref": "x",
          "y0": 4099,
          "y1": 4458,
          "yref": "y"
         },
         {
          "fillcolor": "#89d1ba",
          "layer": "below",
          "line": {
           "width": 0
          },
          "opacity": 1,
          "type": "rect",
          "x0": 1610,
          "x1": 1967,
          "xref": "x",
          "y0": 4458,
          "y1": 4816,
          "yref": "y"
         },
         {
          "fillcolor": "#289cc1",
          "layer": "below",
          "line": {
           "width": 0
          },
          "opacity": 1,
          "type": "rect",
          "x0": 1610,
          "x1": 1967,
          "xref": "x",
          "y0": 4816,
          "y1": 5167,
          "yref": "y"
         },
         {
          "fillcolor": "#c4e8b4",
          "layer": "below",
          "line": {
           "width": 0
          },
          "opacity": 1,
          "type": "rect",
          "x0": 1610,
          "x1": 1967,
          "xref": "x",
          "y0": 5167,
          "y1": 5525,
          "yref": "y"
         },
         {
          "fillcolor": "#7acbbc",
          "layer": "below",
          "line": {
           "width": 0
          },
          "opacity": 1,
          "type": "rect",
          "x0": 1610,
          "x1": 1967,
          "xref": "x",
          "y0": 5525,
          "y1": 5876,
          "yref": "y"
         },
         {
          "fillcolor": "#299dc1",
          "layer": "below",
          "line": {
           "width": 0
          },
          "opacity": 1,
          "type": "rect",
          "x0": 1610,
          "x1": 1967,
          "xref": "x",
          "y0": 5876,
          "y1": 6234,
          "yref": "y"
         },
         {
          "fillcolor": "#f4fbc1",
          "layer": "below",
          "line": {
           "width": 0
          },
          "opacity": 1,
          "type": "rect",
          "x0": 1610,
          "x1": 1967,
          "xref": "x",
          "y0": 6235,
          "y1": 6592,
          "yref": "y"
         },
         {
          "fillcolor": "#89d1ba",
          "layer": "below",
          "line": {
           "width": 0
          },
          "opacity": 1,
          "type": "rect",
          "x0": 1610,
          "x1": 1967,
          "xref": "x",
          "y0": 6592,
          "y1": 6950,
          "yref": "y"
         },
         {
          "fillcolor": "#299dc1",
          "layer": "below",
          "line": {
           "width": 0
          },
          "opacity": 1,
          "type": "rect",
          "x0": 1610,
          "x1": 1967,
          "xref": "x",
          "y0": 6950,
          "y1": 7307,
          "yref": "y"
         },
         {
          "fillcolor": "#f8fcc9",
          "layer": "below",
          "line": {
           "width": 0
          },
          "opacity": 1,
          "type": "rect",
          "x0": 1610,
          "x1": 1967,
          "xref": "x",
          "y0": 7308,
          "y1": 7664,
          "yref": "y"
         },
         {
          "fillcolor": "#a7dcb7",
          "layer": "below",
          "line": {
           "width": 0
          },
          "opacity": 1,
          "type": "rect",
          "x0": 1610,
          "x1": 1967,
          "xref": "x",
          "y0": 7664,
          "y1": 8022,
          "yref": "y"
         },
         {
          "fillcolor": "#89d1ba",
          "layer": "below",
          "line": {
           "width": 0
          },
          "opacity": 1,
          "type": "rect",
          "x0": 1610,
          "x1": 1967,
          "xref": "x",
          "y0": 8022,
          "y1": 8380,
          "yref": "y"
         },
         {
          "fillcolor": "#289cc1",
          "layer": "below",
          "line": {
           "width": 0
          },
          "opacity": 1,
          "type": "rect",
          "x0": 1610,
          "x1": 1967,
          "xref": "x",
          "y0": 8380,
          "y1": 8736,
          "yref": "y"
         },
         {
          "fillcolor": "#fcfed1",
          "layer": "below",
          "line": {
           "width": 0
          },
          "opacity": 1,
          "type": "rect",
          "x0": 1610,
          "x1": 1967,
          "xref": "x",
          "y0": 8736,
          "y1": 9093,
          "yref": "y"
         },
         {
          "fillcolor": "#61c2bf",
          "layer": "below",
          "line": {
           "width": 0
          },
          "opacity": 1,
          "type": "rect",
          "x0": 1610,
          "x1": 1967,
          "xref": "x",
          "y0": 9093,
          "y1": 9451,
          "yref": "y"
         },
         {
          "fillcolor": "#97d6b9",
          "layer": "below",
          "line": {
           "width": 0
          },
          "opacity": 1,
          "type": "rect",
          "x0": 1610,
          "x1": 1967,
          "xref": "x",
          "y0": 9451,
          "y1": 9809,
          "yref": "y"
         },
         {
          "fillcolor": "#2ea3c2",
          "layer": "below",
          "line": {
           "width": 0
          },
          "opacity": 1,
          "type": "rect",
          "x0": 1610,
          "x1": 1967,
          "xref": "x",
          "y0": 9809,
          "y1": 10165,
          "yref": "y"
         },
         {
          "fillcolor": "#216daf",
          "layer": "below",
          "line": {
           "width": 0
          },
          "opacity": 1,
          "type": "rect",
          "x0": 1610,
          "x1": 1967,
          "xref": "x",
          "y0": 10166,
          "y1": 10524,
          "yref": "y"
         },
         {
          "fillcolor": "#1e8bbd",
          "layer": "below",
          "line": {
           "width": 0
          },
          "opacity": 1,
          "type": "rect",
          "x0": 1610,
          "x1": 1967,
          "xref": "x",
          "y0": 10525,
          "y1": 10882,
          "yref": "y"
         },
         {
          "fillcolor": "#f8fcc9",
          "layer": "below",
          "line": {
           "width": 0
          },
          "opacity": 1,
          "type": "rect",
          "x0": 1610,
          "x1": 1967,
          "xref": "x",
          "y0": 10882,
          "y1": 11239,
          "yref": "y"
         },
         {
          "fillcolor": "#6dc6be",
          "layer": "below",
          "line": {
           "width": 0
          },
          "opacity": 1,
          "type": "rect",
          "x0": 1610,
          "x1": 1967,
          "xref": "x",
          "y0": 11239,
          "y1": 11598,
          "yref": "y"
         },
         {
          "fillcolor": "#97d6b9",
          "layer": "below",
          "line": {
           "width": 0
          },
          "opacity": 1,
          "type": "rect",
          "x0": 1610,
          "x1": 1967,
          "xref": "x",
          "y0": 11598,
          "y1": 11956,
          "yref": "y"
         },
         {
          "fillcolor": "#1f78b4",
          "layer": "below",
          "line": {
           "width": 0
          },
          "opacity": 1,
          "type": "rect",
          "x0": 1610,
          "x1": 1967,
          "xref": "x",
          "y0": 11956,
          "y1": 12314,
          "yref": "y"
         },
         {
          "fillcolor": "#1e8bbd",
          "layer": "below",
          "line": {
           "width": 0
          },
          "opacity": 1,
          "type": "rect",
          "x0": 1610,
          "x1": 1967,
          "xref": "x",
          "y0": 12315,
          "y1": 12672,
          "yref": "y"
         },
         {
          "fillcolor": "#a7dcb7",
          "layer": "below",
          "line": {
           "width": 0
          },
          "opacity": 1,
          "type": "rect",
          "x0": 1610,
          "x1": 1967,
          "xref": "x",
          "y0": 12673,
          "y1": 13029,
          "yref": "y"
         },
         {
          "fillcolor": "#61c2bf",
          "layer": "below",
          "line": {
           "width": 0
          },
          "opacity": 1,
          "type": "rect",
          "x0": 1610,
          "x1": 1967,
          "xref": "x",
          "y0": 13029,
          "y1": 13385,
          "yref": "y"
         },
         {
          "fillcolor": "#e5f5b2",
          "layer": "below",
          "line": {
           "width": 0
          },
          "opacity": 1,
          "type": "rect",
          "x0": 1610,
          "x1": 1967,
          "xref": "x",
          "y0": 13386,
          "y1": 13740,
          "yref": "y"
         },
         {
          "fillcolor": "#48b9c3",
          "layer": "below",
          "line": {
           "width": 0
          },
          "opacity": 1,
          "type": "rect",
          "x0": 1967,
          "x1": 2324,
          "xref": "x",
          "y0": 2325,
          "y1": 2682,
          "yref": "y"
         },
         {
          "fillcolor": "#61c2bf",
          "layer": "below",
          "line": {
           "width": 0
          },
          "opacity": 1,
          "type": "rect",
          "x0": 1967,
          "x1": 2324,
          "xref": "x",
          "y0": 2683,
          "y1": 3040,
          "yref": "y"
         },
         {
          "fillcolor": "#203089",
          "layer": "below",
          "line": {
           "width": 0
          },
          "opacity": 1,
          "type": "rect",
          "x0": 1967,
          "x1": 2324,
          "xref": "x",
          "y0": 3041,
          "y1": 3385,
          "yref": "y"
         },
         {
          "fillcolor": "#1f82b9",
          "layer": "below",
          "line": {
           "width": 0
          },
          "opacity": 1,
          "type": "rect",
          "x0": 1967,
          "x1": 2324,
          "xref": "x",
          "y0": 3385,
          "y1": 3741,
          "yref": "y"
         },
         {
          "fillcolor": "#48b9c3",
          "layer": "below",
          "line": {
           "width": 0
          },
          "opacity": 1,
          "type": "rect",
          "x0": 1967,
          "x1": 2324,
          "xref": "x",
          "y0": 3741,
          "y1": 4099,
          "yref": "y"
         },
         {
          "fillcolor": "#36abc3",
          "layer": "below",
          "line": {
           "width": 0
          },
          "opacity": 1,
          "type": "rect",
          "x0": 1967,
          "x1": 2324,
          "xref": "x",
          "y0": 4099,
          "y1": 4458,
          "yref": "y"
         },
         {
          "fillcolor": "#2195c0",
          "layer": "below",
          "line": {
           "width": 0
          },
          "opacity": 1,
          "type": "rect",
          "x0": 1967,
          "x1": 2324,
          "xref": "x",
          "y0": 4458,
          "y1": 4816,
          "yref": "y"
         },
         {
          "fillcolor": "#2094c0",
          "layer": "below",
          "line": {
           "width": 0
          },
          "opacity": 1,
          "type": "rect",
          "x0": 1967,
          "x1": 2324,
          "xref": "x",
          "y0": 4816,
          "y1": 5167,
          "yref": "y"
         },
         {
          "fillcolor": "#3eb3c4",
          "layer": "below",
          "line": {
           "width": 0
          },
          "opacity": 1,
          "type": "rect",
          "x0": 1967,
          "x1": 2324,
          "xref": "x",
          "y0": 5167,
          "y1": 5525,
          "yref": "y"
         },
         {
          "fillcolor": "#24489d",
          "layer": "below",
          "line": {
           "width": 0
          },
          "opacity": 1,
          "type": "rect",
          "x0": 1967,
          "x1": 2324,
          "xref": "x",
          "y0": 5525,
          "y1": 5876,
          "yref": "y"
         },
         {
          "fillcolor": "#7acbbc",
          "layer": "below",
          "line": {
           "width": 0
          },
          "opacity": 1,
          "type": "rect",
          "x0": 1967,
          "x1": 2324,
          "xref": "x",
          "y0": 5876,
          "y1": 6234,
          "yref": "y"
         },
         {
          "fillcolor": "#1e8bbd",
          "layer": "below",
          "line": {
           "width": 0
          },
          "opacity": 1,
          "type": "rect",
          "x0": 1967,
          "x1": 2324,
          "xref": "x",
          "y0": 6235,
          "y1": 6592,
          "yref": "y"
         },
         {
          "fillcolor": "#289cc1",
          "layer": "below",
          "line": {
           "width": 0
          },
          "opacity": 1,
          "type": "rect",
          "x0": 1967,
          "x1": 2324,
          "xref": "x",
          "y0": 6592,
          "y1": 6950,
          "yref": "y"
         },
         {
          "fillcolor": "#7acbbc",
          "layer": "below",
          "line": {
           "width": 0
          },
          "opacity": 1,
          "type": "rect",
          "x0": 1967,
          "x1": 2324,
          "xref": "x",
          "y0": 6950,
          "y1": 7307,
          "yref": "y"
         },
         {
          "fillcolor": "#2195c0",
          "layer": "below",
          "line": {
           "width": 0
          },
          "opacity": 1,
          "type": "rect",
          "x0": 1967,
          "x1": 2324,
          "xref": "x",
          "y0": 7308,
          "y1": 7664,
          "yref": "y"
         },
         {
          "fillcolor": "#36abc3",
          "layer": "below",
          "line": {
           "width": 0
          },
          "opacity": 1,
          "type": "rect",
          "x0": 1967,
          "x1": 2324,
          "xref": "x",
          "y0": 7664,
          "y1": 8022,
          "yref": "y"
         },
         {
          "fillcolor": "#1e8bbd",
          "layer": "below",
          "line": {
           "width": 0
          },
          "opacity": 1,
          "type": "rect",
          "x0": 1967,
          "x1": 2324,
          "xref": "x",
          "y0": 8022,
          "y1": 8380,
          "yref": "y"
         },
         {
          "fillcolor": "#7acbbc",
          "layer": "below",
          "line": {
           "width": 0
          },
          "opacity": 1,
          "type": "rect",
          "x0": 1967,
          "x1": 2324,
          "xref": "x",
          "y0": 8380,
          "y1": 8736,
          "yref": "y"
         },
         {
          "fillcolor": "#289cc1",
          "layer": "below",
          "line": {
           "width": 0
          },
          "opacity": 1,
          "type": "rect",
          "x0": 1967,
          "x1": 2324,
          "xref": "x",
          "y0": 8736,
          "y1": 9093,
          "yref": "y"
         },
         {
          "fillcolor": "#36abc3",
          "layer": "below",
          "line": {
           "width": 0
          },
          "opacity": 1,
          "type": "rect",
          "x0": 1967,
          "x1": 2324,
          "xref": "x",
          "y0": 9093,
          "y1": 9451,
          "yref": "y"
         },
         {
          "fillcolor": "#2195c0",
          "layer": "below",
          "line": {
           "width": 0
          },
          "opacity": 1,
          "type": "rect",
          "x0": 1967,
          "x1": 2324,
          "xref": "x",
          "y0": 9451,
          "y1": 9809,
          "yref": "y"
         },
         {
          "fillcolor": "#b4e2b6",
          "layer": "below",
          "line": {
           "width": 0
          },
          "opacity": 1,
          "type": "rect",
          "x0": 1967,
          "x1": 2324,
          "xref": "x",
          "y0": 9809,
          "y1": 10165,
          "yref": "y"
         },
         {
          "fillcolor": "#a7dcb7",
          "layer": "below",
          "line": {
           "width": 0
          },
          "opacity": 1,
          "type": "rect",
          "x0": 1967,
          "x1": 2324,
          "xref": "x",
          "y0": 10166,
          "y1": 10524,
          "yref": "y"
         },
         {
          "fillcolor": "#61c2bf",
          "layer": "below",
          "line": {
           "width": 0
          },
          "opacity": 1,
          "type": "rect",
          "x0": 1967,
          "x1": 2324,
          "xref": "x",
          "y0": 10525,
          "y1": 10882,
          "yref": "y"
         },
         {
          "fillcolor": "#2195c0",
          "layer": "below",
          "line": {
           "width": 0
          },
          "opacity": 1,
          "type": "rect",
          "x0": 1967,
          "x1": 2324,
          "xref": "x",
          "y0": 10882,
          "y1": 11239,
          "yref": "y"
         },
         {
          "fillcolor": "#3eb3c4",
          "layer": "below",
          "line": {
           "width": 0
          },
          "opacity": 1,
          "type": "rect",
          "x0": 1967,
          "x1": 2324,
          "xref": "x",
          "y0": 11239,
          "y1": 11598,
          "yref": "y"
         },
         {
          "fillcolor": "#2195c0",
          "layer": "below",
          "line": {
           "width": 0
          },
          "opacity": 1,
          "type": "rect",
          "x0": 1967,
          "x1": 2324,
          "xref": "x",
          "y0": 11598,
          "y1": 11956,
          "yref": "y"
         },
         {
          "fillcolor": "#b4e2b6",
          "layer": "below",
          "line": {
           "width": 0
          },
          "opacity": 1,
          "type": "rect",
          "x0": 1967,
          "x1": 2324,
          "xref": "x",
          "y0": 11956,
          "y1": 12314,
          "yref": "y"
         },
         {
          "fillcolor": "#55bec1",
          "layer": "below",
          "line": {
           "width": 0
          },
          "opacity": 1,
          "type": "rect",
          "x0": 1967,
          "x1": 2324,
          "xref": "x",
          "y0": 12315,
          "y1": 12672,
          "yref": "y"
         },
         {
          "fillcolor": "#2ea3c2",
          "layer": "below",
          "line": {
           "width": 0
          },
          "opacity": 1,
          "type": "rect",
          "x0": 1967,
          "x1": 2324,
          "xref": "x",
          "y0": 12673,
          "y1": 13029,
          "yref": "y"
         },
         {
          "fillcolor": "#2094c0",
          "layer": "below",
          "line": {
           "width": 0
          },
          "opacity": 1,
          "type": "rect",
          "x0": 1967,
          "x1": 2324,
          "xref": "x",
          "y0": 13029,
          "y1": 13385,
          "yref": "y"
         },
         {
          "fillcolor": "#1f80b8",
          "layer": "below",
          "line": {
           "width": 0
          },
          "opacity": 1,
          "type": "rect",
          "x0": 1967,
          "x1": 2324,
          "xref": "x",
          "y0": 13386,
          "y1": 13740,
          "yref": "y"
         },
         {
          "fillcolor": "#f8fcc9",
          "layer": "below",
          "line": {
           "width": 0
          },
          "opacity": 1,
          "type": "rect",
          "x0": 2325,
          "x1": 2682,
          "xref": "x",
          "y0": 2683,
          "y1": 3040,
          "yref": "y"
         },
         {
          "fillcolor": "#253595",
          "layer": "below",
          "line": {
           "width": 0
          },
          "opacity": 1,
          "type": "rect",
          "x0": 2325,
          "x1": 2682,
          "xref": "x",
          "y0": 3041,
          "y1": 3385,
          "yref": "y"
         },
         {
          "fillcolor": "#216daf",
          "layer": "below",
          "line": {
           "width": 0
          },
          "opacity": 1,
          "type": "rect",
          "x0": 2325,
          "x1": 2682,
          "xref": "x",
          "y0": 3385,
          "y1": 3741,
          "yref": "y"
         },
         {
          "fillcolor": "#2ea3c2",
          "layer": "below",
          "line": {
           "width": 0
          },
          "opacity": 1,
          "type": "rect",
          "x0": 2325,
          "x1": 2682,
          "xref": "x",
          "y0": 3741,
          "y1": 4099,
          "yref": "y"
         },
         {
          "fillcolor": "#289cc1",
          "layer": "below",
          "line": {
           "width": 0
          },
          "opacity": 1,
          "type": "rect",
          "x0": 2325,
          "x1": 2682,
          "xref": "x",
          "y0": 4099,
          "y1": 4458,
          "yref": "y"
         },
         {
          "fillcolor": "#1f82b9",
          "layer": "below",
          "line": {
           "width": 0
          },
          "opacity": 1,
          "type": "rect",
          "x0": 2325,
          "x1": 2682,
          "xref": "x",
          "y0": 4458,
          "y1": 4816,
          "yref": "y"
         },
         {
          "fillcolor": "#53bdc1",
          "layer": "below",
          "line": {
           "width": 0
          },
          "opacity": 1,
          "type": "rect",
          "x0": 2325,
          "x1": 2682,
          "xref": "x",
          "y0": 4816,
          "y1": 5167,
          "yref": "y"
         },
         {
          "fillcolor": "#289cc1",
          "layer": "below",
          "line": {
           "width": 0
          },
          "opacity": 1,
          "type": "rect",
          "x0": 2325,
          "x1": 2682,
          "xref": "x",
          "y0": 5167,
          "y1": 5525,
          "yref": "y"
         },
         {
          "fillcolor": "#253795",
          "layer": "below",
          "line": {
           "width": 0
          },
          "opacity": 1,
          "type": "rect",
          "x0": 2325,
          "x1": 2682,
          "xref": "x",
          "y0": 5525,
          "y1": 5876,
          "yref": "y"
         },
         {
          "fillcolor": "#c4e8b4",
          "layer": "below",
          "line": {
           "width": 0
          },
          "opacity": 1,
          "type": "rect",
          "x0": 2325,
          "x1": 2682,
          "xref": "x",
          "y0": 5876,
          "y1": 6234,
          "yref": "y"
         },
         {
          "fillcolor": "#1f82b9",
          "layer": "below",
          "line": {
           "width": 0
          },
          "opacity": 1,
          "type": "rect",
          "x0": 2325,
          "x1": 2682,
          "xref": "x",
          "y0": 6235,
          "y1": 6592,
          "yref": "y"
         },
         {
          "fillcolor": "#2076b3",
          "layer": "below",
          "line": {
           "width": 0
          },
          "opacity": 1,
          "type": "rect",
          "x0": 2325,
          "x1": 2682,
          "xref": "x",
          "y0": 6592,
          "y1": 6950,
          "yref": "y"
         },
         {
          "fillcolor": "#a7dcb7",
          "layer": "below",
          "line": {
           "width": 0
          },
          "opacity": 1,
          "type": "rect",
          "x0": 2325,
          "x1": 2682,
          "xref": "x",
          "y0": 6950,
          "y1": 7307,
          "yref": "y"
         },
         {
          "fillcolor": "#1f82b9",
          "layer": "below",
          "line": {
           "width": 0
          },
          "opacity": 1,
          "type": "rect",
          "x0": 2325,
          "x1": 2682,
          "xref": "x",
          "y0": 7308,
          "y1": 7664,
          "yref": "y"
         },
         {
          "fillcolor": "#1e8bbd",
          "layer": "below",
          "line": {
           "width": 0
          },
          "opacity": 1,
          "type": "rect",
          "x0": 2325,
          "x1": 2682,
          "xref": "x",
          "y0": 7664,
          "y1": 8022,
          "yref": "y"
         },
         {
          "fillcolor": "#2076b3",
          "layer": "below",
          "line": {
           "width": 0
          },
          "opacity": 1,
          "type": "rect",
          "x0": 2325,
          "x1": 2682,
          "xref": "x",
          "y0": 8022,
          "y1": 8380,
          "yref": "y"
         },
         {
          "fillcolor": "#89d1ba",
          "layer": "below",
          "line": {
           "width": 0
          },
          "opacity": 1,
          "type": "rect",
          "x0": 2325,
          "x1": 2682,
          "xref": "x",
          "y0": 8380,
          "y1": 8736,
          "yref": "y"
         },
         {
          "fillcolor": "#1e8bbd",
          "layer": "below",
          "line": {
           "width": 0
          },
          "opacity": 1,
          "type": "rect",
          "x0": 2325,
          "x1": 2682,
          "xref": "x",
          "y0": 8736,
          "y1": 9093,
          "yref": "y"
         },
         {
          "fillcolor": "#2094c0",
          "layer": "below",
          "line": {
           "width": 0
          },
          "opacity": 1,
          "type": "rect",
          "x0": 2325,
          "x1": 2682,
          "xref": "x",
          "y0": 9093,
          "y1": 9451,
          "yref": "y"
         },
         {
          "fillcolor": "#1f82b9",
          "layer": "below",
          "line": {
           "width": 0
          },
          "opacity": 1,
          "type": "rect",
          "x0": 2325,
          "x1": 2682,
          "xref": "x",
          "y0": 9451,
          "y1": 9809,
          "yref": "y"
         },
         {
          "fillcolor": "#a7dcb7",
          "layer": "below",
          "line": {
           "width": 0
          },
          "opacity": 1,
          "type": "rect",
          "x0": 2325,
          "x1": 2682,
          "xref": "x",
          "y0": 9809,
          "y1": 10165,
          "yref": "y"
         },
         {
          "fillcolor": "#cdebb4",
          "layer": "below",
          "line": {
           "width": 0
          },
          "opacity": 1,
          "type": "rect",
          "x0": 2325,
          "x1": 2682,
          "xref": "x",
          "y0": 10166,
          "y1": 10524,
          "yref": "y"
         },
         {
          "fillcolor": "#89d1ba",
          "layer": "below",
          "line": {
           "width": 0
          },
          "opacity": 1,
          "type": "rect",
          "x0": 2325,
          "x1": 2682,
          "xref": "x",
          "y0": 10525,
          "y1": 10882,
          "yref": "y"
         },
         {
          "fillcolor": "#1f82b9",
          "layer": "below",
          "line": {
           "width": 0
          },
          "opacity": 1,
          "type": "rect",
          "x0": 2325,
          "x1": 2682,
          "xref": "x",
          "y0": 10882,
          "y1": 11239,
          "yref": "y"
         },
         {
          "fillcolor": "#289cc1",
          "layer": "below",
          "line": {
           "width": 0
          },
          "opacity": 1,
          "type": "rect",
          "x0": 2325,
          "x1": 2682,
          "xref": "x",
          "y0": 11239,
          "y1": 11598,
          "yref": "y"
         },
         {
          "fillcolor": "#1f82b9",
          "layer": "below",
          "line": {
           "width": 0
          },
          "opacity": 1,
          "type": "rect",
          "x0": 2325,
          "x1": 2682,
          "xref": "x",
          "y0": 11598,
          "y1": 11956,
          "yref": "y"
         },
         {
          "fillcolor": "#a7dcb7",
          "layer": "below",
          "line": {
           "width": 0
          },
          "opacity": 1,
          "type": "rect",
          "x0": 2325,
          "x1": 2682,
          "xref": "x",
          "y0": 11956,
          "y1": 12314,
          "yref": "y"
         },
         {
          "fillcolor": "#f4fbc1",
          "layer": "below",
          "line": {
           "width": 0
          },
          "opacity": 1,
          "type": "rect",
          "x0": 2325,
          "x1": 2682,
          "xref": "x",
          "y0": 12315,
          "y1": 12672,
          "yref": "y"
         },
         {
          "fillcolor": "#1e8bbd",
          "layer": "below",
          "line": {
           "width": 0
          },
          "opacity": 1,
          "type": "rect",
          "x0": 2325,
          "x1": 2682,
          "xref": "x",
          "y0": 12673,
          "y1": 13029,
          "yref": "y"
         },
         {
          "fillcolor": "#36abc3",
          "layer": "below",
          "line": {
           "width": 0
          },
          "opacity": 1,
          "type": "rect",
          "x0": 2325,
          "x1": 2682,
          "xref": "x",
          "y0": 13029,
          "y1": 13385,
          "yref": "y"
         },
         {
          "fillcolor": "#216daf",
          "layer": "below",
          "line": {
           "width": 0
          },
          "opacity": 1,
          "type": "rect",
          "x0": 2325,
          "x1": 2682,
          "xref": "x",
          "y0": 13386,
          "y1": 13740,
          "yref": "y"
         },
         {
          "fillcolor": "#24479d",
          "layer": "below",
          "line": {
           "width": 0
          },
          "opacity": 1,
          "type": "rect",
          "x0": 2683,
          "x1": 3040,
          "xref": "x",
          "y0": 3041,
          "y1": 3385,
          "yref": "y"
         },
         {
          "fillcolor": "#1f82b9",
          "layer": "below",
          "line": {
           "width": 0
          },
          "opacity": 1,
          "type": "rect",
          "x0": 2683,
          "x1": 3040,
          "xref": "x",
          "y0": 3385,
          "y1": 3741,
          "yref": "y"
         },
         {
          "fillcolor": "#3eb3c4",
          "layer": "below",
          "line": {
           "width": 0
          },
          "opacity": 1,
          "type": "rect",
          "x0": 2683,
          "x1": 3040,
          "xref": "x",
          "y0": 3741,
          "y1": 4099,
          "yref": "y"
         },
         {
          "fillcolor": "#36abc3",
          "layer": "below",
          "line": {
           "width": 0
          },
          "opacity": 1,
          "type": "rect",
          "x0": 2683,
          "x1": 3040,
          "xref": "x",
          "y0": 4099,
          "y1": 4458,
          "yref": "y"
         },
         {
          "fillcolor": "#2195c0",
          "layer": "below",
          "line": {
           "width": 0
          },
          "opacity": 1,
          "type": "rect",
          "x0": 2683,
          "x1": 3040,
          "xref": "x",
          "y0": 4458,
          "y1": 4816,
          "yref": "y"
         },
         {
          "fillcolor": "#6dc6be",
          "layer": "below",
          "line": {
           "width": 0
          },
          "opacity": 1,
          "type": "rect",
          "x0": 2683,
          "x1": 3040,
          "xref": "x",
          "y0": 4816,
          "y1": 5167,
          "yref": "y"
         },
         {
          "fillcolor": "#36abc3",
          "layer": "below",
          "line": {
           "width": 0
          },
          "opacity": 1,
          "type": "rect",
          "x0": 2683,
          "x1": 3040,
          "xref": "x",
          "y0": 5167,
          "y1": 5525,
          "yref": "y"
         },
         {
          "fillcolor": "#24489d",
          "layer": "below",
          "line": {
           "width": 0
          },
          "opacity": 1,
          "type": "rect",
          "x0": 2683,
          "x1": 3040,
          "xref": "x",
          "y0": 5525,
          "y1": 5876,
          "yref": "y"
         },
         {
          "fillcolor": "#c4e8b4",
          "layer": "below",
          "line": {
           "width": 0
          },
          "opacity": 1,
          "type": "rect",
          "x0": 2683,
          "x1": 3040,
          "xref": "x",
          "y0": 5876,
          "y1": 6234,
          "yref": "y"
         },
         {
          "fillcolor": "#2195c0",
          "layer": "below",
          "line": {
           "width": 0
          },
          "opacity": 1,
          "type": "rect",
          "x0": 2683,
          "x1": 3040,
          "xref": "x",
          "y0": 6235,
          "y1": 6592,
          "yref": "y"
         },
         {
          "fillcolor": "#1e8bbd",
          "layer": "below",
          "line": {
           "width": 0
          },
          "opacity": 1,
          "type": "rect",
          "x0": 2683,
          "x1": 3040,
          "xref": "x",
          "y0": 6592,
          "y1": 6950,
          "yref": "y"
         },
         {
          "fillcolor": "#c4e8b4",
          "layer": "below",
          "line": {
           "width": 0
          },
          "opacity": 1,
          "type": "rect",
          "x0": 2683,
          "x1": 3040,
          "xref": "x",
          "y0": 6950,
          "y1": 7307,
          "yref": "y"
         },
         {
          "fillcolor": "#2195c0",
          "layer": "below",
          "line": {
           "width": 0
          },
          "opacity": 1,
          "type": "rect",
          "x0": 2683,
          "x1": 3040,
          "xref": "x",
          "y0": 7308,
          "y1": 7664,
          "yref": "y"
         },
         {
          "fillcolor": "#289cc1",
          "layer": "below",
          "line": {
           "width": 0
          },
          "opacity": 1,
          "type": "rect",
          "x0": 2683,
          "x1": 3040,
          "xref": "x",
          "y0": 7664,
          "y1": 8022,
          "yref": "y"
         },
         {
          "fillcolor": "#1e8bbd",
          "layer": "below",
          "line": {
           "width": 0
          },
          "opacity": 1,
          "type": "rect",
          "x0": 2683,
          "x1": 3040,
          "xref": "x",
          "y0": 8022,
          "y1": 8380,
          "yref": "y"
         },
         {
          "fillcolor": "#a7dcb7",
          "layer": "below",
          "line": {
           "width": 0
          },
          "opacity": 1,
          "type": "rect",
          "x0": 2683,
          "x1": 3040,
          "xref": "x",
          "y0": 8380,
          "y1": 8736,
          "yref": "y"
         },
         {
          "fillcolor": "#289cc1",
          "layer": "below",
          "line": {
           "width": 0
          },
          "opacity": 1,
          "type": "rect",
          "x0": 2683,
          "x1": 3040,
          "xref": "x",
          "y0": 8736,
          "y1": 9093,
          "yref": "y"
         },
         {
          "fillcolor": "#2ea3c2",
          "layer": "below",
          "line": {
           "width": 0
          },
          "opacity": 1,
          "type": "rect",
          "x0": 2683,
          "x1": 3040,
          "xref": "x",
          "y0": 9093,
          "y1": 9451,
          "yref": "y"
         },
         {
          "fillcolor": "#2195c0",
          "layer": "below",
          "line": {
           "width": 0
          },
          "opacity": 1,
          "type": "rect",
          "x0": 2683,
          "x1": 3040,
          "xref": "x",
          "y0": 9451,
          "y1": 9809,
          "yref": "y"
         },
         {
          "fillcolor": "#c4e8b4",
          "layer": "below",
          "line": {
           "width": 0
          },
          "opacity": 1,
          "type": "rect",
          "x0": 2683,
          "x1": 3040,
          "xref": "x",
          "y0": 9809,
          "y1": 10165,
          "yref": "y"
         },
         {
          "fillcolor": "#cdebb4",
          "layer": "below",
          "line": {
           "width": 0
          },
          "opacity": 1,
          "type": "rect",
          "x0": 2683,
          "x1": 3040,
          "xref": "x",
          "y0": 10166,
          "y1": 10524,
          "yref": "y"
         },
         {
          "fillcolor": "#a7dcb7",
          "layer": "below",
          "line": {
           "width": 0
          },
          "opacity": 1,
          "type": "rect",
          "x0": 2683,
          "x1": 3040,
          "xref": "x",
          "y0": 10525,
          "y1": 10882,
          "yref": "y"
         },
         {
          "fillcolor": "#2195c0",
          "layer": "below",
          "line": {
           "width": 0
          },
          "opacity": 1,
          "type": "rect",
          "x0": 2683,
          "x1": 3040,
          "xref": "x",
          "y0": 10882,
          "y1": 11239,
          "yref": "y"
         },
         {
          "fillcolor": "#36abc3",
          "layer": "below",
          "line": {
           "width": 0
          },
          "opacity": 1,
          "type": "rect",
          "x0": 2683,
          "x1": 3040,
          "xref": "x",
          "y0": 11239,
          "y1": 11598,
          "yref": "y"
         },
         {
          "fillcolor": "#2195c0",
          "layer": "below",
          "line": {
           "width": 0
          },
          "opacity": 1,
          "type": "rect",
          "x0": 2683,
          "x1": 3040,
          "xref": "x",
          "y0": 11598,
          "y1": 11956,
          "yref": "y"
         },
         {
          "fillcolor": "#c4e8b4",
          "layer": "below",
          "line": {
           "width": 0
          },
          "opacity": 1,
          "type": "rect",
          "x0": 2683,
          "x1": 3040,
          "xref": "x",
          "y0": 11956,
          "y1": 12314,
          "yref": "y"
         },
         {
          "fillcolor": "#fcfed1",
          "layer": "below",
          "line": {
           "width": 0
          },
          "opacity": 1,
          "type": "rect",
          "x0": 2683,
          "x1": 3040,
          "xref": "x",
          "y0": 12315,
          "y1": 12672,
          "yref": "y"
         },
         {
          "fillcolor": "#289cc1",
          "layer": "below",
          "line": {
           "width": 0
          },
          "opacity": 1,
          "type": "rect",
          "x0": 2683,
          "x1": 3040,
          "xref": "x",
          "y0": 12673,
          "y1": 13029,
          "yref": "y"
         },
         {
          "fillcolor": "#48b9c3",
          "layer": "below",
          "line": {
           "width": 0
          },
          "opacity": 1,
          "type": "rect",
          "x0": 2683,
          "x1": 3040,
          "xref": "x",
          "y0": 13029,
          "y1": 13385,
          "yref": "y"
         },
         {
          "fillcolor": "#1f82b9",
          "layer": "below",
          "line": {
           "width": 0
          },
          "opacity": 1,
          "type": "rect",
          "x0": 2683,
          "x1": 3040,
          "xref": "x",
          "y0": 13386,
          "y1": 13740,
          "yref": "y"
         },
         {
          "fillcolor": "#253494",
          "layer": "below",
          "line": {
           "width": 0
          },
          "opacity": 1,
          "type": "rect",
          "x0": 3041,
          "x1": 3385,
          "xref": "x",
          "y0": 3385,
          "y1": 3741,
          "yref": "y"
         },
         {
          "fillcolor": "#2075b3",
          "layer": "below",
          "line": {
           "width": 0
          },
          "opacity": 1,
          "type": "rect",
          "x0": 3041,
          "x1": 3385,
          "xref": "x",
          "y0": 3741,
          "y1": 4099,
          "yref": "y"
         },
         {
          "fillcolor": "#234fa1",
          "layer": "below",
          "line": {
           "width": 0
          },
          "opacity": 1,
          "type": "rect",
          "x0": 3041,
          "x1": 3385,
          "xref": "x",
          "y0": 4099,
          "y1": 4458,
          "yref": "y"
         },
         {
          "fillcolor": "#234fa1",
          "layer": "below",
          "line": {
           "width": 0
          },
          "opacity": 1,
          "type": "rect",
          "x0": 3041,
          "x1": 3385,
          "xref": "x",
          "y0": 4458,
          "y1": 4816,
          "yref": "y"
         },
         {
          "fillcolor": "#0d2163",
          "layer": "below",
          "line": {
           "width": 0
          },
          "opacity": 1,
          "type": "rect",
          "x0": 3041,
          "x1": 3385,
          "xref": "x",
          "y0": 4816,
          "y1": 5167,
          "yref": "y"
         },
         {
          "fillcolor": "#2260a9",
          "layer": "below",
          "line": {
           "width": 0
          },
          "opacity": 1,
          "type": "rect",
          "x0": 3041,
          "x1": 3385,
          "xref": "x",
          "y0": 5167,
          "y1": 5525,
          "yref": "y"
         },
         {
          "fillcolor": "#081d58",
          "layer": "below",
          "line": {
           "width": 0
          },
          "opacity": 1,
          "type": "rect",
          "x0": 3041,
          "x1": 3385,
          "xref": "x",
          "y0": 5525,
          "y1": 5876,
          "yref": "y"
         },
         {
          "fillcolor": "#243d98",
          "layer": "below",
          "line": {
           "width": 0
          },
          "opacity": 1,
          "type": "rect",
          "x0": 3041,
          "x1": 3385,
          "xref": "x",
          "y0": 5876,
          "y1": 6234,
          "yref": "y"
         },
         {
          "fillcolor": "#2356a4",
          "layer": "below",
          "line": {
           "width": 0
          },
          "opacity": 1,
          "type": "rect",
          "x0": 3041,
          "x1": 3385,
          "xref": "x",
          "y0": 6235,
          "y1": 6592,
          "yref": "y"
         },
         {
          "fillcolor": "#243d98",
          "layer": "below",
          "line": {
           "width": 0
          },
          "opacity": 1,
          "type": "rect",
          "x0": 3041,
          "x1": 3385,
          "xref": "x",
          "y0": 6592,
          "y1": 6950,
          "yref": "y"
         },
         {
          "fillcolor": "#243d98",
          "layer": "below",
          "line": {
           "width": 0
          },
          "opacity": 1,
          "type": "rect",
          "x0": 3041,
          "x1": 3385,
          "xref": "x",
          "y0": 6950,
          "y1": 7307,
          "yref": "y"
         },
         {
          "fillcolor": "#2260a9",
          "layer": "below",
          "line": {
           "width": 0
          },
          "opacity": 1,
          "type": "rect",
          "x0": 3041,
          "x1": 3385,
          "xref": "x",
          "y0": 7308,
          "y1": 7664,
          "yref": "y"
         },
         {
          "fillcolor": "#234fa1",
          "layer": "below",
          "line": {
           "width": 0
          },
          "opacity": 1,
          "type": "rect",
          "x0": 3041,
          "x1": 3385,
          "xref": "x",
          "y0": 7664,
          "y1": 8022,
          "yref": "y"
         },
         {
          "fillcolor": "#243d98",
          "layer": "below",
          "line": {
           "width": 0
          },
          "opacity": 1,
          "type": "rect",
          "x0": 3041,
          "x1": 3385,
          "xref": "x",
          "y0": 8022,
          "y1": 8380,
          "yref": "y"
         },
         {
          "fillcolor": "#243d98",
          "layer": "below",
          "line": {
           "width": 0
          },
          "opacity": 1,
          "type": "rect",
          "x0": 3041,
          "x1": 3385,
          "xref": "x",
          "y0": 8380,
          "y1": 8736,
          "yref": "y"
         },
         {
          "fillcolor": "#216aad",
          "layer": "below",
          "line": {
           "width": 0
          },
          "opacity": 1,
          "type": "rect",
          "x0": 3041,
          "x1": 3385,
          "xref": "x",
          "y0": 8736,
          "y1": 9093,
          "yref": "y"
         },
         {
          "fillcolor": "#24459c",
          "layer": "below",
          "line": {
           "width": 0
          },
          "opacity": 1,
          "type": "rect",
          "x0": 3041,
          "x1": 3385,
          "xref": "x",
          "y0": 9093,
          "y1": 9451,
          "yref": "y"
         },
         {
          "fillcolor": "#24459c",
          "layer": "below",
          "line": {
           "width": 0
          },
          "opacity": 1,
          "type": "rect",
          "x0": 3041,
          "x1": 3385,
          "xref": "x",
          "y0": 9451,
          "y1": 9809,
          "yref": "y"
         },
         {
          "fillcolor": "#24459c",
          "layer": "below",
          "line": {
           "width": 0
          },
          "opacity": 1,
          "type": "rect",
          "x0": 3041,
          "x1": 3385,
          "xref": "x",
          "y0": 9809,
          "y1": 10165,
          "yref": "y"
         },
         {
          "fillcolor": "#21308b",
          "layer": "below",
          "line": {
           "width": 0
          },
          "opacity": 1,
          "type": "rect",
          "x0": 3041,
          "x1": 3385,
          "xref": "x",
          "y0": 10166,
          "y1": 10524,
          "yref": "y"
         },
         {
          "fillcolor": "#243d98",
          "layer": "below",
          "line": {
           "width": 0
          },
          "opacity": 1,
          "type": "rect",
          "x0": 3041,
          "x1": 3385,
          "xref": "x",
          "y0": 10525,
          "y1": 10882,
          "yref": "y"
         },
         {
          "fillcolor": "#2260a9",
          "layer": "below",
          "line": {
           "width": 0
          },
          "opacity": 1,
          "type": "rect",
          "x0": 3041,
          "x1": 3385,
          "xref": "x",
          "y0": 10882,
          "y1": 11239,
          "yref": "y"
         },
         {
          "fillcolor": "#234fa1",
          "layer": "below",
          "line": {
           "width": 0
          },
          "opacity": 1,
          "type": "rect",
          "x0": 3041,
          "x1": 3385,
          "xref": "x",
          "y0": 11239,
          "y1": 11598,
          "yref": "y"
         },
         {
          "fillcolor": "#24459c",
          "layer": "below",
          "line": {
           "width": 0
          },
          "opacity": 1,
          "type": "rect",
          "x0": 3041,
          "x1": 3385,
          "xref": "x",
          "y0": 11598,
          "y1": 11956,
          "yref": "y"
         },
         {
          "fillcolor": "#0e2265",
          "layer": "below",
          "line": {
           "width": 0
          },
          "opacity": 1,
          "type": "rect",
          "x0": 3041,
          "x1": 3385,
          "xref": "x",
          "y0": 11956,
          "y1": 12314,
          "yref": "y"
         },
         {
          "fillcolor": "#243d98",
          "layer": "below",
          "line": {
           "width": 0
          },
          "opacity": 1,
          "type": "rect",
          "x0": 3041,
          "x1": 3385,
          "xref": "x",
          "y0": 12315,
          "y1": 12672,
          "yref": "y"
         },
         {
          "fillcolor": "#234da0",
          "layer": "below",
          "line": {
           "width": 0
          },
          "opacity": 1,
          "type": "rect",
          "x0": 3041,
          "x1": 3385,
          "xref": "x",
          "y0": 12673,
          "y1": 13029,
          "yref": "y"
         },
         {
          "fillcolor": "#234fa1",
          "layer": "below",
          "line": {
           "width": 0
          },
          "opacity": 1,
          "type": "rect",
          "x0": 3041,
          "x1": 3385,
          "xref": "x",
          "y0": 13029,
          "y1": 13385,
          "yref": "y"
         },
         {
          "fillcolor": "#234da0",
          "layer": "below",
          "line": {
           "width": 0
          },
          "opacity": 1,
          "type": "rect",
          "x0": 3041,
          "x1": 3385,
          "xref": "x",
          "y0": 13386,
          "y1": 13740,
          "yref": "y"
         },
         {
          "fillcolor": "#97d6b9",
          "layer": "below",
          "line": {
           "width": 0
          },
          "opacity": 1,
          "type": "rect",
          "x0": 3385,
          "x1": 3741,
          "xref": "x",
          "y0": 3741,
          "y1": 4099,
          "yref": "y"
         },
         {
          "fillcolor": "#53bdc1",
          "layer": "below",
          "line": {
           "width": 0
          },
          "opacity": 1,
          "type": "rect",
          "x0": 3385,
          "x1": 3741,
          "xref": "x",
          "y0": 4099,
          "y1": 4458,
          "yref": "y"
         },
         {
          "fillcolor": "#cdebb4",
          "layer": "below",
          "line": {
           "width": 0
          },
          "opacity": 1,
          "type": "rect",
          "x0": 3385,
          "x1": 3741,
          "xref": "x",
          "y0": 4458,
          "y1": 4816,
          "yref": "y"
         },
         {
          "fillcolor": "#216bae",
          "layer": "below",
          "line": {
           "width": 0
          },
          "opacity": 1,
          "type": "rect",
          "x0": 3385,
          "x1": 3741,
          "xref": "x",
          "y0": 4816,
          "y1": 5167,
          "yref": "y"
         },
         {
          "fillcolor": "#dcf1b2",
          "layer": "below",
          "line": {
           "width": 0
          },
          "opacity": 1,
          "type": "rect",
          "x0": 3385,
          "x1": 3741,
          "xref": "x",
          "y0": 5167,
          "y1": 5525,
          "yref": "y"
         },
         {
          "fillcolor": "#a7dcb7",
          "layer": "below",
          "line": {
           "width": 0
          },
          "opacity": 1,
          "type": "rect",
          "x0": 3385,
          "x1": 3741,
          "xref": "x",
          "y0": 5525,
          "y1": 5876,
          "yref": "y"
         },
         {
          "fillcolor": "#2fa4c2",
          "layer": "below",
          "line": {
           "width": 0
          },
          "opacity": 1,
          "type": "rect",
          "x0": 3385,
          "x1": 3741,
          "xref": "x",
          "y0": 5876,
          "y1": 6234,
          "yref": "y"
         },
         {
          "fillcolor": "#7acbbc",
          "layer": "below",
          "line": {
           "width": 0
          },
          "opacity": 1,
          "type": "rect",
          "x0": 3385,
          "x1": 3741,
          "xref": "x",
          "y0": 6235,
          "y1": 6592,
          "yref": "y"
         },
         {
          "fillcolor": "#edf8b1",
          "layer": "below",
          "line": {
           "width": 0
          },
          "opacity": 1,
          "type": "rect",
          "x0": 3385,
          "x1": 3741,
          "xref": "x",
          "y0": 6592,
          "y1": 6950,
          "yref": "y"
         },
         {
          "fillcolor": "#2fa4c2",
          "layer": "below",
          "line": {
           "width": 0
          },
          "opacity": 1,
          "type": "rect",
          "x0": 3385,
          "x1": 3741,
          "xref": "x",
          "y0": 6950,
          "y1": 7307,
          "yref": "y"
         },
         {
          "fillcolor": "#87d0ba",
          "layer": "below",
          "line": {
           "width": 0
          },
          "opacity": 1,
          "type": "rect",
          "x0": 3385,
          "x1": 3741,
          "xref": "x",
          "y0": 7308,
          "y1": 7664,
          "yref": "y"
         },
         {
          "fillcolor": "#cdebb4",
          "layer": "below",
          "line": {
           "width": 0
          },
          "opacity": 1,
          "type": "rect",
          "x0": 3385,
          "x1": 3741,
          "xref": "x",
          "y0": 7664,
          "y1": 8022,
          "yref": "y"
         },
         {
          "fillcolor": "#f4fbc1",
          "layer": "below",
          "line": {
           "width": 0
          },
          "opacity": 1,
          "type": "rect",
          "x0": 3385,
          "x1": 3741,
          "xref": "x",
          "y0": 8022,
          "y1": 8380,
          "yref": "y"
         },
         {
          "fillcolor": "#36abc3",
          "layer": "below",
          "line": {
           "width": 0
          },
          "opacity": 1,
          "type": "rect",
          "x0": 3385,
          "x1": 3741,
          "xref": "x",
          "y0": 8380,
          "y1": 8736,
          "yref": "y"
         },
         {
          "fillcolor": "#97d6b9",
          "layer": "below",
          "line": {
           "width": 0
          },
          "opacity": 1,
          "type": "rect",
          "x0": 3385,
          "x1": 3741,
          "xref": "x",
          "y0": 8736,
          "y1": 9093,
          "yref": "y"
         },
         {
          "fillcolor": "#97d6b9",
          "layer": "below",
          "line": {
           "width": 0
          },
          "opacity": 1,
          "type": "rect",
          "x0": 3385,
          "x1": 3741,
          "xref": "x",
          "y0": 9093,
          "y1": 9451,
          "yref": "y"
         },
         {
          "fillcolor": "#f0f9b8",
          "layer": "below",
          "line": {
           "width": 0
          },
          "opacity": 1,
          "type": "rect",
          "x0": 3385,
          "x1": 3741,
          "xref": "x",
          "y0": 9451,
          "y1": 9809,
          "yref": "y"
         },
         {
          "fillcolor": "#2ea3c2",
          "layer": "below",
          "line": {
           "width": 0
          },
          "opacity": 1,
          "type": "rect",
          "x0": 3385,
          "x1": 3741,
          "xref": "x",
          "y0": 9809,
          "y1": 10165,
          "yref": "y"
         },
         {
          "fillcolor": "#2259a6",
          "layer": "below",
          "line": {
           "width": 0
          },
          "opacity": 1,
          "type": "rect",
          "x0": 3385,
          "x1": 3741,
          "xref": "x",
          "y0": 10166,
          "y1": 10524,
          "yref": "y"
         },
         {
          "fillcolor": "#2094c0",
          "layer": "below",
          "line": {
           "width": 0
          },
          "opacity": 1,
          "type": "rect",
          "x0": 3385,
          "x1": 3741,
          "xref": "x",
          "y0": 10525,
          "y1": 10882,
          "yref": "y"
         },
         {
          "fillcolor": "#87d0ba",
          "layer": "below",
          "line": {
           "width": 0
          },
          "opacity": 1,
          "type": "rect",
          "x0": 3385,
          "x1": 3741,
          "xref": "x",
          "y0": 10882,
          "y1": 11239,
          "yref": "y"
         },
         {
          "fillcolor": "#b4e2b6",
          "layer": "below",
          "line": {
           "width": 0
          },
          "opacity": 1,
          "type": "rect",
          "x0": 3385,
          "x1": 3741,
          "xref": "x",
          "y0": 11239,
          "y1": 11598,
          "yref": "y"
         },
         {
          "fillcolor": "#f0f9b8",
          "layer": "below",
          "line": {
           "width": 0
          },
          "opacity": 1,
          "type": "rect",
          "x0": 3385,
          "x1": 3741,
          "xref": "x",
          "y0": 11598,
          "y1": 11956,
          "yref": "y"
         },
         {
          "fillcolor": "#1f78b4",
          "layer": "below",
          "line": {
           "width": 0
          },
          "opacity": 1,
          "type": "rect",
          "x0": 3385,
          "x1": 3741,
          "xref": "x",
          "y0": 11956,
          "y1": 12314,
          "yref": "y"
         },
         {
          "fillcolor": "#2076b3",
          "layer": "below",
          "line": {
           "width": 0
          },
          "opacity": 1,
          "type": "rect",
          "x0": 3385,
          "x1": 3741,
          "xref": "x",
          "y0": 12315,
          "y1": 12672,
          "yref": "y"
         },
         {
          "fillcolor": "#53bdc1",
          "layer": "below",
          "line": {
           "width": 0
          },
          "opacity": 1,
          "type": "rect",
          "x0": 3385,
          "x1": 3741,
          "xref": "x",
          "y0": 12673,
          "y1": 13029,
          "yref": "y"
         },
         {
          "fillcolor": "#3db2c4",
          "layer": "below",
          "line": {
           "width": 0
          },
          "opacity": 1,
          "type": "rect",
          "x0": 3385,
          "x1": 3741,
          "xref": "x",
          "y0": 13029,
          "y1": 13385,
          "yref": "y"
         },
         {
          "fillcolor": "#6dc6be",
          "layer": "below",
          "line": {
           "width": 0
          },
          "opacity": 1,
          "type": "rect",
          "x0": 3385,
          "x1": 3741,
          "xref": "x",
          "y0": 13386,
          "y1": 13740,
          "yref": "y"
         },
         {
          "fillcolor": "#97d6b9",
          "layer": "below",
          "line": {
           "width": 0
          },
          "opacity": 1,
          "type": "rect",
          "x0": 3741,
          "x1": 4099,
          "xref": "x",
          "y0": 4099,
          "y1": 4458,
          "yref": "y"
         },
         {
          "fillcolor": "#97d6b9",
          "layer": "below",
          "line": {
           "width": 0
          },
          "opacity": 1,
          "type": "rect",
          "x0": 3741,
          "x1": 4099,
          "xref": "x",
          "y0": 4458,
          "y1": 4816,
          "yref": "y"
         },
         {
          "fillcolor": "#289cc1",
          "layer": "below",
          "line": {
           "width": 0
          },
          "opacity": 1,
          "type": "rect",
          "x0": 3741,
          "x1": 4099,
          "xref": "x",
          "y0": 4816,
          "y1": 5167,
          "yref": "y"
         },
         {
          "fillcolor": "#cdebb4",
          "layer": "below",
          "line": {
           "width": 0
          },
          "opacity": 1,
          "type": "rect",
          "x0": 3741,
          "x1": 4099,
          "xref": "x",
          "y0": 5167,
          "y1": 5525,
          "yref": "y"
         },
         {
          "fillcolor": "#46b8c3",
          "layer": "below",
          "line": {
           "width": 0
          },
          "opacity": 1,
          "type": "rect",
          "x0": 3741,
          "x1": 4099,
          "xref": "x",
          "y0": 5525,
          "y1": 5876,
          "yref": "y"
         },
         {
          "fillcolor": "#55bec1",
          "layer": "below",
          "line": {
           "width": 0
          },
          "opacity": 1,
          "type": "rect",
          "x0": 3741,
          "x1": 4099,
          "xref": "x",
          "y0": 5876,
          "y1": 6234,
          "yref": "y"
         },
         {
          "fillcolor": "#97d6b9",
          "layer": "below",
          "line": {
           "width": 0
          },
          "opacity": 1,
          "type": "rect",
          "x0": 3741,
          "x1": 4099,
          "xref": "x",
          "y0": 6235,
          "y1": 6592,
          "yref": "y"
         },
         {
          "fillcolor": "#97d6b9",
          "layer": "below",
          "line": {
           "width": 0
          },
          "opacity": 1,
          "type": "rect",
          "x0": 3741,
          "x1": 4099,
          "xref": "x",
          "y0": 6592,
          "y1": 6950,
          "yref": "y"
         },
         {
          "fillcolor": "#55bec1",
          "layer": "below",
          "line": {
           "width": 0
          },
          "opacity": 1,
          "type": "rect",
          "x0": 3741,
          "x1": 4099,
          "xref": "x",
          "y0": 6950,
          "y1": 7307,
          "yref": "y"
         },
         {
          "fillcolor": "#a7dcb7",
          "layer": "below",
          "line": {
           "width": 0
          },
          "opacity": 1,
          "type": "rect",
          "x0": 3741,
          "x1": 4099,
          "xref": "x",
          "y0": 7308,
          "y1": 7664,
          "yref": "y"
         },
         {
          "fillcolor": "#cdebb4",
          "layer": "below",
          "line": {
           "width": 0
          },
          "opacity": 1,
          "type": "rect",
          "x0": 3741,
          "x1": 4099,
          "xref": "x",
          "y0": 7664,
          "y1": 8022,
          "yref": "y"
         },
         {
          "fillcolor": "#97d6b9",
          "layer": "below",
          "line": {
           "width": 0
          },
          "opacity": 1,
          "type": "rect",
          "x0": 3741,
          "x1": 4099,
          "xref": "x",
          "y0": 8022,
          "y1": 8380,
          "yref": "y"
         },
         {
          "fillcolor": "#6dc6be",
          "layer": "below",
          "line": {
           "width": 0
          },
          "opacity": 1,
          "type": "rect",
          "x0": 3741,
          "x1": 4099,
          "xref": "x",
          "y0": 8380,
          "y1": 8736,
          "yref": "y"
         },
         {
          "fillcolor": "#b4e2b6",
          "layer": "below",
          "line": {
           "width": 0
          },
          "opacity": 1,
          "type": "rect",
          "x0": 3741,
          "x1": 4099,
          "xref": "x",
          "y0": 8736,
          "y1": 9093,
          "yref": "y"
         },
         {
          "fillcolor": "#c4e8b4",
          "layer": "below",
          "line": {
           "width": 0
          },
          "opacity": 1,
          "type": "rect",
          "x0": 3741,
          "x1": 4099,
          "xref": "x",
          "y0": 9093,
          "y1": 9451,
          "yref": "y"
         },
         {
          "fillcolor": "#a7dcb7",
          "layer": "below",
          "line": {
           "width": 0
          },
          "opacity": 1,
          "type": "rect",
          "x0": 3741,
          "x1": 4099,
          "xref": "x",
          "y0": 9451,
          "y1": 9809,
          "yref": "y"
         },
         {
          "fillcolor": "#53bdc1",
          "layer": "below",
          "line": {
           "width": 0
          },
          "opacity": 1,
          "type": "rect",
          "x0": 3741,
          "x1": 4099,
          "xref": "x",
          "y0": 9809,
          "y1": 10165,
          "yref": "y"
         },
         {
          "fillcolor": "#289cc1",
          "layer": "below",
          "line": {
           "width": 0
          },
          "opacity": 1,
          "type": "rect",
          "x0": 3741,
          "x1": 4099,
          "xref": "x",
          "y0": 10166,
          "y1": 10524,
          "yref": "y"
         },
         {
          "fillcolor": "#53bdc1",
          "layer": "below",
          "line": {
           "width": 0
          },
          "opacity": 1,
          "type": "rect",
          "x0": 3741,
          "x1": 4099,
          "xref": "x",
          "y0": 10525,
          "y1": 10882,
          "yref": "y"
         },
         {
          "fillcolor": "#a7dcb7",
          "layer": "below",
          "line": {
           "width": 0
          },
          "opacity": 1,
          "type": "rect",
          "x0": 3741,
          "x1": 4099,
          "xref": "x",
          "y0": 10882,
          "y1": 11239,
          "yref": "y"
         },
         {
          "fillcolor": "#cdebb4",
          "layer": "below",
          "line": {
           "width": 0
          },
          "opacity": 1,
          "type": "rect",
          "x0": 3741,
          "x1": 4099,
          "xref": "x",
          "y0": 11239,
          "y1": 11598,
          "yref": "y"
         },
         {
          "fillcolor": "#a7dcb7",
          "layer": "below",
          "line": {
           "width": 0
          },
          "opacity": 1,
          "type": "rect",
          "x0": 3741,
          "x1": 4099,
          "xref": "x",
          "y0": 11598,
          "y1": 11956,
          "yref": "y"
         },
         {
          "fillcolor": "#2fa4c2",
          "layer": "below",
          "line": {
           "width": 0
          },
          "opacity": 1,
          "type": "rect",
          "x0": 3741,
          "x1": 4099,
          "xref": "x",
          "y0": 11956,
          "y1": 12314,
          "yref": "y"
         },
         {
          "fillcolor": "#36abc3",
          "layer": "below",
          "line": {
           "width": 0
          },
          "opacity": 1,
          "type": "rect",
          "x0": 3741,
          "x1": 4099,
          "xref": "x",
          "y0": 12315,
          "y1": 12672,
          "yref": "y"
         },
         {
          "fillcolor": "#c4e8b4",
          "layer": "below",
          "line": {
           "width": 0
          },
          "opacity": 1,
          "type": "rect",
          "x0": 3741,
          "x1": 4099,
          "xref": "x",
          "y0": 12673,
          "y1": 13029,
          "yref": "y"
         },
         {
          "fillcolor": "#7acbbc",
          "layer": "below",
          "line": {
           "width": 0
          },
          "opacity": 1,
          "type": "rect",
          "x0": 3741,
          "x1": 4099,
          "xref": "x",
          "y0": 13029,
          "y1": 13385,
          "yref": "y"
         },
         {
          "fillcolor": "#6dc6be",
          "layer": "below",
          "line": {
           "width": 0
          },
          "opacity": 1,
          "type": "rect",
          "x0": 3741,
          "x1": 4099,
          "xref": "x",
          "y0": 13386,
          "y1": 13740,
          "yref": "y"
         },
         {
          "fillcolor": "#53bdc1",
          "layer": "below",
          "line": {
           "width": 0
          },
          "opacity": 1,
          "type": "rect",
          "x0": 4099,
          "x1": 4458,
          "xref": "x",
          "y0": 4458,
          "y1": 4816,
          "yref": "y"
         },
         {
          "fillcolor": "#289cc1",
          "layer": "below",
          "line": {
           "width": 0
          },
          "opacity": 1,
          "type": "rect",
          "x0": 4099,
          "x1": 4458,
          "xref": "x",
          "y0": 4816,
          "y1": 5167,
          "yref": "y"
         },
         {
          "fillcolor": "#89d1ba",
          "layer": "below",
          "line": {
           "width": 0
          },
          "opacity": 1,
          "type": "rect",
          "x0": 4099,
          "x1": 4458,
          "xref": "x",
          "y0": 5167,
          "y1": 5525,
          "yref": "y"
         },
         {
          "fillcolor": "#289cc1",
          "layer": "below",
          "line": {
           "width": 0
          },
          "opacity": 1,
          "type": "rect",
          "x0": 4099,
          "x1": 4458,
          "xref": "x",
          "y0": 5525,
          "y1": 5876,
          "yref": "y"
         },
         {
          "fillcolor": "#48b9c3",
          "layer": "below",
          "line": {
           "width": 0
          },
          "opacity": 1,
          "type": "rect",
          "x0": 4099,
          "x1": 4458,
          "xref": "x",
          "y0": 5876,
          "y1": 6234,
          "yref": "y"
         },
         {
          "fillcolor": "#6fc7bd",
          "layer": "below",
          "line": {
           "width": 0
          },
          "opacity": 1,
          "type": "rect",
          "x0": 4099,
          "x1": 4458,
          "xref": "x",
          "y0": 6235,
          "y1": 6592,
          "yref": "y"
         },
         {
          "fillcolor": "#53bdc1",
          "layer": "below",
          "line": {
           "width": 0
          },
          "opacity": 1,
          "type": "rect",
          "x0": 4099,
          "x1": 4458,
          "xref": "x",
          "y0": 6592,
          "y1": 6950,
          "yref": "y"
         },
         {
          "fillcolor": "#48b9c3",
          "layer": "below",
          "line": {
           "width": 0
          },
          "opacity": 1,
          "type": "rect",
          "x0": 4099,
          "x1": 4458,
          "xref": "x",
          "y0": 6950,
          "y1": 7307,
          "yref": "y"
         },
         {
          "fillcolor": "#7acbbc",
          "layer": "below",
          "line": {
           "width": 0
          },
          "opacity": 1,
          "type": "rect",
          "x0": 4099,
          "x1": 4458,
          "xref": "x",
          "y0": 7308,
          "y1": 7664,
          "yref": "y"
         },
         {
          "fillcolor": "#6dc6be",
          "layer": "below",
          "line": {
           "width": 0
          },
          "opacity": 1,
          "type": "rect",
          "x0": 4099,
          "x1": 4458,
          "xref": "x",
          "y0": 7664,
          "y1": 8022,
          "yref": "y"
         },
         {
          "fillcolor": "#53bdc1",
          "layer": "below",
          "line": {
           "width": 0
          },
          "opacity": 1,
          "type": "rect",
          "x0": 4099,
          "x1": 4458,
          "xref": "x",
          "y0": 8022,
          "y1": 8380,
          "yref": "y"
         },
         {
          "fillcolor": "#48b9c3",
          "layer": "below",
          "line": {
           "width": 0
          },
          "opacity": 1,
          "type": "rect",
          "x0": 4099,
          "x1": 4458,
          "xref": "x",
          "y0": 8380,
          "y1": 8736,
          "yref": "y"
         },
         {
          "fillcolor": "#89d1ba",
          "layer": "below",
          "line": {
           "width": 0
          },
          "opacity": 1,
          "type": "rect",
          "x0": 4099,
          "x1": 4458,
          "xref": "x",
          "y0": 8736,
          "y1": 9093,
          "yref": "y"
         },
         {
          "fillcolor": "#7acbbc",
          "layer": "below",
          "line": {
           "width": 0
          },
          "opacity": 1,
          "type": "rect",
          "x0": 4099,
          "x1": 4458,
          "xref": "x",
          "y0": 9093,
          "y1": 9451,
          "yref": "y"
         },
         {
          "fillcolor": "#61c2bf",
          "layer": "below",
          "line": {
           "width": 0
          },
          "opacity": 1,
          "type": "rect",
          "x0": 4099,
          "x1": 4458,
          "xref": "x",
          "y0": 9451,
          "y1": 9809,
          "yref": "y"
         },
         {
          "fillcolor": "#48b9c3",
          "layer": "below",
          "line": {
           "width": 0
          },
          "opacity": 1,
          "type": "rect",
          "x0": 4099,
          "x1": 4458,
          "xref": "x",
          "y0": 9809,
          "y1": 10165,
          "yref": "y"
         },
         {
          "fillcolor": "#1d8dbe",
          "layer": "below",
          "line": {
           "width": 0
          },
          "opacity": 1,
          "type": "rect",
          "x0": 4099,
          "x1": 4458,
          "xref": "x",
          "y0": 10166,
          "y1": 10524,
          "yref": "y"
         },
         {
          "fillcolor": "#36abc3",
          "layer": "below",
          "line": {
           "width": 0
          },
          "opacity": 1,
          "type": "rect",
          "x0": 4099,
          "x1": 4458,
          "xref": "x",
          "y0": 10525,
          "y1": 10882,
          "yref": "y"
         },
         {
          "fillcolor": "#7acbbc",
          "layer": "below",
          "line": {
           "width": 0
          },
          "opacity": 1,
          "type": "rect",
          "x0": 4099,
          "x1": 4458,
          "xref": "x",
          "y0": 10882,
          "y1": 11239,
          "yref": "y"
         },
         {
          "fillcolor": "#89d1ba",
          "layer": "below",
          "line": {
           "width": 0
          },
          "opacity": 1,
          "type": "rect",
          "x0": 4099,
          "x1": 4458,
          "xref": "x",
          "y0": 11239,
          "y1": 11598,
          "yref": "y"
         },
         {
          "fillcolor": "#61c2bf",
          "layer": "below",
          "line": {
           "width": 0
          },
          "opacity": 1,
          "type": "rect",
          "x0": 4099,
          "x1": 4458,
          "xref": "x",
          "y0": 11598,
          "y1": 11956,
          "yref": "y"
         },
         {
          "fillcolor": "#2195c0",
          "layer": "below",
          "line": {
           "width": 0
          },
          "opacity": 1,
          "type": "rect",
          "x0": 4099,
          "x1": 4458,
          "xref": "x",
          "y0": 11956,
          "y1": 12314,
          "yref": "y"
         },
         {
          "fillcolor": "#2fa4c2",
          "layer": "below",
          "line": {
           "width": 0
          },
          "opacity": 1,
          "type": "rect",
          "x0": 4099,
          "x1": 4458,
          "xref": "x",
          "y0": 12315,
          "y1": 12672,
          "yref": "y"
         },
         {
          "fillcolor": "#6fc7bd",
          "layer": "below",
          "line": {
           "width": 0
          },
          "opacity": 1,
          "type": "rect",
          "x0": 4099,
          "x1": 4458,
          "xref": "x",
          "y0": 12673,
          "y1": 13029,
          "yref": "y"
         },
         {
          "fillcolor": "#d5efb3",
          "layer": "below",
          "line": {
           "width": 0
          },
          "opacity": 1,
          "type": "rect",
          "x0": 4099,
          "x1": 4458,
          "xref": "x",
          "y0": 13029,
          "y1": 13385,
          "yref": "y"
         },
         {
          "fillcolor": "#48b9c3",
          "layer": "below",
          "line": {
           "width": 0
          },
          "opacity": 1,
          "type": "rect",
          "x0": 4099,
          "x1": 4458,
          "xref": "x",
          "y0": 13386,
          "y1": 13740,
          "yref": "y"
         },
         {
          "fillcolor": "#2076b3",
          "layer": "below",
          "line": {
           "width": 0
          },
          "opacity": 1,
          "type": "rect",
          "x0": 4458,
          "x1": 4816,
          "xref": "x",
          "y0": 4816,
          "y1": 5167,
          "yref": "y"
         },
         {
          "fillcolor": "#e5f5b2",
          "layer": "below",
          "line": {
           "width": 0
          },
          "opacity": 1,
          "type": "rect",
          "x0": 4458,
          "x1": 4816,
          "xref": "x",
          "y0": 5167,
          "y1": 5525,
          "yref": "y"
         },
         {
          "fillcolor": "#53bdc1",
          "layer": "below",
          "line": {
           "width": 0
          },
          "opacity": 1,
          "type": "rect",
          "x0": 4458,
          "x1": 4816,
          "xref": "x",
          "y0": 5525,
          "y1": 5876,
          "yref": "y"
         },
         {
          "fillcolor": "#3eb3c4",
          "layer": "below",
          "line": {
           "width": 0
          },
          "opacity": 1,
          "type": "rect",
          "x0": 4458,
          "x1": 4816,
          "xref": "x",
          "y0": 5876,
          "y1": 6234,
          "yref": "y"
         },
         {
          "fillcolor": "#7acbbc",
          "layer": "below",
          "line": {
           "width": 0
          },
          "opacity": 1,
          "type": "rect",
          "x0": 4458,
          "x1": 4816,
          "xref": "x",
          "y0": 6235,
          "y1": 6592,
          "yref": "y"
         },
         {
          "fillcolor": "#d5efb3",
          "layer": "below",
          "line": {
           "width": 0
          },
          "opacity": 1,
          "type": "rect",
          "x0": 4458,
          "x1": 4816,
          "xref": "x",
          "y0": 6592,
          "y1": 6950,
          "yref": "y"
         },
         {
          "fillcolor": "#3eb3c4",
          "layer": "below",
          "line": {
           "width": 0
          },
          "opacity": 1,
          "type": "rect",
          "x0": 4458,
          "x1": 4816,
          "xref": "x",
          "y0": 6950,
          "y1": 7307,
          "yref": "y"
         },
         {
          "fillcolor": "#87d0ba",
          "layer": "below",
          "line": {
           "width": 0
          },
          "opacity": 1,
          "type": "rect",
          "x0": 4458,
          "x1": 4816,
          "xref": "x",
          "y0": 7308,
          "y1": 7664,
          "yref": "y"
         },
         {
          "fillcolor": "#e5f5b2",
          "layer": "below",
          "line": {
           "width": 0
          },
          "opacity": 1,
          "type": "rect",
          "x0": 4458,
          "x1": 4816,
          "xref": "x",
          "y0": 7664,
          "y1": 8022,
          "yref": "y"
         },
         {
          "fillcolor": "#d5efb3",
          "layer": "below",
          "line": {
           "width": 0
          },
          "opacity": 1,
          "type": "rect",
          "x0": 4458,
          "x1": 4816,
          "xref": "x",
          "y0": 8022,
          "y1": 8380,
          "yref": "y"
         },
         {
          "fillcolor": "#3eb3c4",
          "layer": "below",
          "line": {
           "width": 0
          },
          "opacity": 1,
          "type": "rect",
          "x0": 4458,
          "x1": 4816,
          "xref": "x",
          "y0": 8380,
          "y1": 8736,
          "yref": "y"
         },
         {
          "fillcolor": "#97d6b9",
          "layer": "below",
          "line": {
           "width": 0
          },
          "opacity": 1,
          "type": "rect",
          "x0": 4458,
          "x1": 4816,
          "xref": "x",
          "y0": 8736,
          "y1": 9093,
          "yref": "y"
         },
         {
          "fillcolor": "#89d1ba",
          "layer": "below",
          "line": {
           "width": 0
          },
          "opacity": 1,
          "type": "rect",
          "x0": 4458,
          "x1": 4816,
          "xref": "x",
          "y0": 9093,
          "y1": 9451,
          "yref": "y"
         },
         {
          "fillcolor": "#dcf1b2",
          "layer": "below",
          "line": {
           "width": 0
          },
          "opacity": 1,
          "type": "rect",
          "x0": 4458,
          "x1": 4816,
          "xref": "x",
          "y0": 9451,
          "y1": 9809,
          "yref": "y"
         },
         {
          "fillcolor": "#3eb3c4",
          "layer": "below",
          "line": {
           "width": 0
          },
          "opacity": 1,
          "type": "rect",
          "x0": 4458,
          "x1": 4816,
          "xref": "x",
          "y0": 9809,
          "y1": 10165,
          "yref": "y"
         },
         {
          "fillcolor": "#216daf",
          "layer": "below",
          "line": {
           "width": 0
          },
          "opacity": 1,
          "type": "rect",
          "x0": 4458,
          "x1": 4816,
          "xref": "x",
          "y0": 10166,
          "y1": 10524,
          "yref": "y"
         },
         {
          "fillcolor": "#36abc3",
          "layer": "below",
          "line": {
           "width": 0
          },
          "opacity": 1,
          "type": "rect",
          "x0": 4458,
          "x1": 4816,
          "xref": "x",
          "y0": 10525,
          "y1": 10882,
          "yref": "y"
         },
         {
          "fillcolor": "#87d0ba",
          "layer": "below",
          "line": {
           "width": 0
          },
          "opacity": 1,
          "type": "rect",
          "x0": 4458,
          "x1": 4816,
          "xref": "x",
          "y0": 10882,
          "y1": 11239,
          "yref": "y"
         },
         {
          "fillcolor": "#a7dcb7",
          "layer": "below",
          "line": {
           "width": 0
          },
          "opacity": 1,
          "type": "rect",
          "x0": 4458,
          "x1": 4816,
          "xref": "x",
          "y0": 11239,
          "y1": 11598,
          "yref": "y"
         },
         {
          "fillcolor": "#dcf1b2",
          "layer": "below",
          "line": {
           "width": 0
          },
          "opacity": 1,
          "type": "rect",
          "x0": 4458,
          "x1": 4816,
          "xref": "x",
          "y0": 11598,
          "y1": 11956,
          "yref": "y"
         },
         {
          "fillcolor": "#1d8dbe",
          "layer": "below",
          "line": {
           "width": 0
          },
          "opacity": 1,
          "type": "rect",
          "x0": 4458,
          "x1": 4816,
          "xref": "x",
          "y0": 11956,
          "y1": 12314,
          "yref": "y"
         },
         {
          "fillcolor": "#1e8bbd",
          "layer": "below",
          "line": {
           "width": 0
          },
          "opacity": 1,
          "type": "rect",
          "x0": 4458,
          "x1": 4816,
          "xref": "x",
          "y0": 12315,
          "y1": 12672,
          "yref": "y"
         },
         {
          "fillcolor": "#53bdc1",
          "layer": "below",
          "line": {
           "width": 0
          },
          "opacity": 1,
          "type": "rect",
          "x0": 4458,
          "x1": 4816,
          "xref": "x",
          "y0": 12673,
          "y1": 13029,
          "yref": "y"
         },
         {
          "fillcolor": "#53bdc1",
          "layer": "below",
          "line": {
           "width": 0
          },
          "opacity": 1,
          "type": "rect",
          "x0": 4458,
          "x1": 4816,
          "xref": "x",
          "y0": 13029,
          "y1": 13385,
          "yref": "y"
         },
         {
          "fillcolor": "#53bdc1",
          "layer": "below",
          "line": {
           "width": 0
          },
          "opacity": 1,
          "type": "rect",
          "x0": 4458,
          "x1": 4816,
          "xref": "x",
          "y0": 13386,
          "y1": 13740,
          "yref": "y"
         },
         {
          "fillcolor": "#1e8bbd",
          "layer": "below",
          "line": {
           "width": 0
          },
          "opacity": 1,
          "type": "rect",
          "x0": 4816,
          "x1": 5167,
          "xref": "x",
          "y0": 5167,
          "y1": 5525,
          "yref": "y"
         },
         {
          "fillcolor": "#6bc6be",
          "layer": "below",
          "line": {
           "width": 0
          },
          "opacity": 1,
          "type": "rect",
          "x0": 4816,
          "x1": 5167,
          "xref": "x",
          "y0": 5525,
          "y1": 5876,
          "yref": "y"
         },
         {
          "fillcolor": "#6dc6be",
          "layer": "below",
          "line": {
           "width": 0
          },
          "opacity": 1,
          "type": "rect",
          "x0": 4816,
          "x1": 5167,
          "xref": "x",
          "y0": 5876,
          "y1": 6234,
          "yref": "y"
         },
         {
          "fillcolor": "#2ea3c2",
          "layer": "below",
          "line": {
           "width": 0
          },
          "opacity": 1,
          "type": "rect",
          "x0": 4816,
          "x1": 5167,
          "xref": "x",
          "y0": 6235,
          "y1": 6592,
          "yref": "y"
         },
         {
          "fillcolor": "#2262aa",
          "layer": "below",
          "line": {
           "width": 0
          },
          "opacity": 1,
          "type": "rect",
          "x0": 4816,
          "x1": 5167,
          "xref": "x",
          "y0": 6592,
          "y1": 6950,
          "yref": "y"
         },
         {
          "fillcolor": "#6dc6be",
          "layer": "below",
          "line": {
           "width": 0
          },
          "opacity": 1,
          "type": "rect",
          "x0": 4816,
          "x1": 5167,
          "xref": "x",
          "y0": 6950,
          "y1": 7307,
          "yref": "y"
         },
         {
          "fillcolor": "#289cc1",
          "layer": "below",
          "line": {
           "width": 0
          },
          "opacity": 1,
          "type": "rect",
          "x0": 4816,
          "x1": 5167,
          "xref": "x",
          "y0": 7308,
          "y1": 7664,
          "yref": "y"
         },
         {
          "fillcolor": "#1f80b8",
          "layer": "below",
          "line": {
           "width": 0
          },
          "opacity": 1,
          "type": "rect",
          "x0": 4816,
          "x1": 5167,
          "xref": "x",
          "y0": 7664,
          "y1": 8022,
          "yref": "y"
         },
         {
          "fillcolor": "#216bae",
          "layer": "below",
          "line": {
           "width": 0
          },
          "opacity": 1,
          "type": "rect",
          "x0": 4816,
          "x1": 5167,
          "xref": "x",
          "y0": 8022,
          "y1": 8380,
          "yref": "y"
         },
         {
          "fillcolor": "#6dc6be",
          "layer": "below",
          "line": {
           "width": 0
          },
          "opacity": 1,
          "type": "rect",
          "x0": 4816,
          "x1": 5167,
          "xref": "x",
          "y0": 8380,
          "y1": 8736,
          "yref": "y"
         },
         {
          "fillcolor": "#2ea3c2",
          "layer": "below",
          "line": {
           "width": 0
          },
          "opacity": 1,
          "type": "rect",
          "x0": 4816,
          "x1": 5167,
          "xref": "x",
          "y0": 8736,
          "y1": 9093,
          "yref": "y"
         },
         {
          "fillcolor": "#2094c0",
          "layer": "below",
          "line": {
           "width": 0
          },
          "opacity": 1,
          "type": "rect",
          "x0": 4816,
          "x1": 5167,
          "xref": "x",
          "y0": 9093,
          "y1": 9451,
          "yref": "y"
         },
         {
          "fillcolor": "#2076b3",
          "layer": "below",
          "line": {
           "width": 0
          },
          "opacity": 1,
          "type": "rect",
          "x0": 4816,
          "x1": 5167,
          "xref": "x",
          "y0": 9451,
          "y1": 9809,
          "yref": "y"
         },
         {
          "fillcolor": "#61c2bf",
          "layer": "below",
          "line": {
           "width": 0
          },
          "opacity": 1,
          "type": "rect",
          "x0": 4816,
          "x1": 5167,
          "xref": "x",
          "y0": 9809,
          "y1": 10165,
          "yref": "y"
         },
         {
          "fillcolor": "#2195c0",
          "layer": "below",
          "line": {
           "width": 0
          },
          "opacity": 1,
          "type": "rect",
          "x0": 4816,
          "x1": 5167,
          "xref": "x",
          "y0": 10166,
          "y1": 10524,
          "yref": "y"
         },
         {
          "fillcolor": "#5fc1c0",
          "layer": "below",
          "line": {
           "width": 0
          },
          "opacity": 1,
          "type": "rect",
          "x0": 4816,
          "x1": 5167,
          "xref": "x",
          "y0": 10525,
          "y1": 10882,
          "yref": "y"
         },
         {
          "fillcolor": "#289cc1",
          "layer": "below",
          "line": {
           "width": 0
          },
          "opacity": 1,
          "type": "rect",
          "x0": 4816,
          "x1": 5167,
          "xref": "x",
          "y0": 10882,
          "y1": 11239,
          "yref": "y"
         },
         {
          "fillcolor": "#2094c0",
          "layer": "below",
          "line": {
           "width": 0
          },
          "opacity": 1,
          "type": "rect",
          "x0": 4816,
          "x1": 5167,
          "xref": "x",
          "y0": 11239,
          "y1": 11598,
          "yref": "y"
         },
         {
          "fillcolor": "#2076b3",
          "layer": "below",
          "line": {
           "width": 0
          },
          "opacity": 1,
          "type": "rect",
          "x0": 4816,
          "x1": 5167,
          "xref": "x",
          "y0": 11598,
          "y1": 11956,
          "yref": "y"
         },
         {
          "fillcolor": "#2fa4c2",
          "layer": "below",
          "line": {
           "width": 0
          },
          "opacity": 1,
          "type": "rect",
          "x0": 4816,
          "x1": 5167,
          "xref": "x",
          "y0": 11956,
          "y1": 12314,
          "yref": "y"
         },
         {
          "fillcolor": "#61c2bf",
          "layer": "below",
          "line": {
           "width": 0
          },
          "opacity": 1,
          "type": "rect",
          "x0": 4816,
          "x1": 5167,
          "xref": "x",
          "y0": 12315,
          "y1": 12672,
          "yref": "y"
         },
         {
          "fillcolor": "#1e8abd",
          "layer": "below",
          "line": {
           "width": 0
          },
          "opacity": 1,
          "type": "rect",
          "x0": 4816,
          "x1": 5167,
          "xref": "x",
          "y0": 12673,
          "y1": 13029,
          "yref": "y"
         },
         {
          "fillcolor": "#2ea3c2",
          "layer": "below",
          "line": {
           "width": 0
          },
          "opacity": 1,
          "type": "rect",
          "x0": 4816,
          "x1": 5167,
          "xref": "x",
          "y0": 13029,
          "y1": 13385,
          "yref": "y"
         },
         {
          "fillcolor": "#2076b3",
          "layer": "below",
          "line": {
           "width": 0
          },
          "opacity": 1,
          "type": "rect",
          "x0": 4816,
          "x1": 5167,
          "xref": "x",
          "y0": 13386,
          "y1": 13740,
          "yref": "y"
         },
         {
          "fillcolor": "#7acbbc",
          "layer": "below",
          "line": {
           "width": 0
          },
          "opacity": 1,
          "type": "rect",
          "x0": 5167,
          "x1": 5525,
          "xref": "x",
          "y0": 5525,
          "y1": 5876,
          "yref": "y"
         },
         {
          "fillcolor": "#63c3bf",
          "layer": "below",
          "line": {
           "width": 0
          },
          "opacity": 1,
          "type": "rect",
          "x0": 5167,
          "x1": 5525,
          "xref": "x",
          "y0": 5876,
          "y1": 6234,
          "yref": "y"
         },
         {
          "fillcolor": "#b4e2b6",
          "layer": "below",
          "line": {
           "width": 0
          },
          "opacity": 1,
          "type": "rect",
          "x0": 5167,
          "x1": 5525,
          "xref": "x",
          "y0": 6235,
          "y1": 6592,
          "yref": "y"
         },
         {
          "fillcolor": "#e5f5b2",
          "layer": "below",
          "line": {
           "width": 0
          },
          "opacity": 1,
          "type": "rect",
          "x0": 5167,
          "x1": 5525,
          "xref": "x",
          "y0": 6592,
          "y1": 6950,
          "yref": "y"
         },
         {
          "fillcolor": "#63c3bf",
          "layer": "below",
          "line": {
           "width": 0
          },
          "opacity": 1,
          "type": "rect",
          "x0": 5167,
          "x1": 5525,
          "xref": "x",
          "y0": 6950,
          "y1": 7307,
          "yref": "y"
         },
         {
          "fillcolor": "#c4e8b4",
          "layer": "below",
          "line": {
           "width": 0
          },
          "opacity": 1,
          "type": "rect",
          "x0": 5167,
          "x1": 5525,
          "xref": "x",
          "y0": 7308,
          "y1": 7664,
          "yref": "y"
         },
         {
          "fillcolor": "#d5efb3",
          "layer": "below",
          "line": {
           "width": 0
          },
          "opacity": 1,
          "type": "rect",
          "x0": 5167,
          "x1": 5525,
          "xref": "x",
          "y0": 7664,
          "y1": 8022,
          "yref": "y"
         },
         {
          "fillcolor": "#e5f5b2",
          "layer": "below",
          "line": {
           "width": 0
          },
          "opacity": 1,
          "type": "rect",
          "x0": 5167,
          "x1": 5525,
          "xref": "x",
          "y0": 8022,
          "y1": 8380,
          "yref": "y"
         },
         {
          "fillcolor": "#61c2bf",
          "layer": "below",
          "line": {
           "width": 0
          },
          "opacity": 1,
          "type": "rect",
          "x0": 5167,
          "x1": 5525,
          "xref": "x",
          "y0": 8380,
          "y1": 8736,
          "yref": "y"
         },
         {
          "fillcolor": "#cdebb4",
          "layer": "below",
          "line": {
           "width": 0
          },
          "opacity": 1,
          "type": "rect",
          "x0": 5167,
          "x1": 5525,
          "xref": "x",
          "y0": 8736,
          "y1": 9093,
          "yref": "y"
         },
         {
          "fillcolor": "#97d6b9",
          "layer": "below",
          "line": {
           "width": 0
          },
          "opacity": 1,
          "type": "rect",
          "x0": 5167,
          "x1": 5525,
          "xref": "x",
          "y0": 9093,
          "y1": 9451,
          "yref": "y"
         },
         {
          "fillcolor": "#dcf1b2",
          "layer": "below",
          "line": {
           "width": 0
          },
          "opacity": 1,
          "type": "rect",
          "x0": 5167,
          "x1": 5525,
          "xref": "x",
          "y0": 9451,
          "y1": 9809,
          "yref": "y"
         },
         {
          "fillcolor": "#48b9c3",
          "layer": "below",
          "line": {
           "width": 0
          },
          "opacity": 1,
          "type": "rect",
          "x0": 5167,
          "x1": 5525,
          "xref": "x",
          "y0": 9809,
          "y1": 10165,
          "yref": "y"
         },
         {
          "fillcolor": "#2195c0",
          "layer": "below",
          "line": {
           "width": 0
          },
          "opacity": 1,
          "type": "rect",
          "x0": 5167,
          "x1": 5525,
          "xref": "x",
          "y0": 10166,
          "y1": 10524,
          "yref": "y"
         },
         {
          "fillcolor": "#48b9c3",
          "layer": "below",
          "line": {
           "width": 0
          },
          "opacity": 1,
          "type": "rect",
          "x0": 5167,
          "x1": 5525,
          "xref": "x",
          "y0": 10525,
          "y1": 10882,
          "yref": "y"
         },
         {
          "fillcolor": "#c4e8b4",
          "layer": "below",
          "line": {
           "width": 0
          },
          "opacity": 1,
          "type": "rect",
          "x0": 5167,
          "x1": 5525,
          "xref": "x",
          "y0": 10882,
          "y1": 11239,
          "yref": "y"
         },
         {
          "fillcolor": "#a7dcb7",
          "layer": "below",
          "line": {
           "width": 0
          },
          "opacity": 1,
          "type": "rect",
          "x0": 5167,
          "x1": 5525,
          "xref": "x",
          "y0": 11239,
          "y1": 11598,
          "yref": "y"
         },
         {
          "fillcolor": "#dcf1b2",
          "layer": "below",
          "line": {
           "width": 0
          },
          "opacity": 1,
          "type": "rect",
          "x0": 5167,
          "x1": 5525,
          "xref": "x",
          "y0": 11598,
          "y1": 11956,
          "yref": "y"
         },
         {
          "fillcolor": "#299dc1",
          "layer": "below",
          "line": {
           "width": 0
          },
          "opacity": 1,
          "type": "rect",
          "x0": 5167,
          "x1": 5525,
          "xref": "x",
          "y0": 11956,
          "y1": 12314,
          "yref": "y"
         },
         {
          "fillcolor": "#2fa4c2",
          "layer": "below",
          "line": {
           "width": 0
          },
          "opacity": 1,
          "type": "rect",
          "x0": 5167,
          "x1": 5525,
          "xref": "x",
          "y0": 12315,
          "y1": 12672,
          "yref": "y"
         },
         {
          "fillcolor": "#87d0ba",
          "layer": "below",
          "line": {
           "width": 0
          },
          "opacity": 1,
          "type": "rect",
          "x0": 5167,
          "x1": 5525,
          "xref": "x",
          "y0": 12673,
          "y1": 13029,
          "yref": "y"
         },
         {
          "fillcolor": "#6dc6be",
          "layer": "below",
          "line": {
           "width": 0
          },
          "opacity": 1,
          "type": "rect",
          "x0": 5167,
          "x1": 5525,
          "xref": "x",
          "y0": 13029,
          "y1": 13385,
          "yref": "y"
         },
         {
          "fillcolor": "#87d0ba",
          "layer": "below",
          "line": {
           "width": 0
          },
          "opacity": 1,
          "type": "rect",
          "x0": 5167,
          "x1": 5525,
          "xref": "x",
          "y0": 13386,
          "y1": 13740,
          "yref": "y"
         },
         {
          "fillcolor": "#2259a6",
          "layer": "below",
          "line": {
           "width": 0
          },
          "opacity": 1,
          "type": "rect",
          "x0": 5525,
          "x1": 5876,
          "xref": "x",
          "y0": 5876,
          "y1": 6234,
          "yref": "y"
         },
         {
          "fillcolor": "#7acbbc",
          "layer": "below",
          "line": {
           "width": 0
          },
          "opacity": 1,
          "type": "rect",
          "x0": 5525,
          "x1": 5876,
          "xref": "x",
          "y0": 6235,
          "y1": 6592,
          "yref": "y"
         },
         {
          "fillcolor": "#97d6b9",
          "layer": "below",
          "line": {
           "width": 0
          },
          "opacity": 1,
          "type": "rect",
          "x0": 5525,
          "x1": 5876,
          "xref": "x",
          "y0": 6592,
          "y1": 6950,
          "yref": "y"
         },
         {
          "fillcolor": "#2259a6",
          "layer": "below",
          "line": {
           "width": 0
          },
          "opacity": 1,
          "type": "rect",
          "x0": 5525,
          "x1": 5876,
          "xref": "x",
          "y0": 6950,
          "y1": 7307,
          "yref": "y"
         },
         {
          "fillcolor": "#7acbbc",
          "layer": "below",
          "line": {
           "width": 0
          },
          "opacity": 1,
          "type": "rect",
          "x0": 5525,
          "x1": 5876,
          "xref": "x",
          "y0": 7308,
          "y1": 7664,
          "yref": "y"
         },
         {
          "fillcolor": "#6dc6be",
          "layer": "below",
          "line": {
           "width": 0
          },
          "opacity": 1,
          "type": "rect",
          "x0": 5525,
          "x1": 5876,
          "xref": "x",
          "y0": 7664,
          "y1": 8022,
          "yref": "y"
         },
         {
          "fillcolor": "#a7dcb7",
          "layer": "below",
          "line": {
           "width": 0
          },
          "opacity": 1,
          "type": "rect",
          "x0": 5525,
          "x1": 5876,
          "xref": "x",
          "y0": 8022,
          "y1": 8380,
          "yref": "y"
         },
         {
          "fillcolor": "#2262aa",
          "layer": "below",
          "line": {
           "width": 0
          },
          "opacity": 1,
          "type": "rect",
          "x0": 5525,
          "x1": 5876,
          "xref": "x",
          "y0": 8380,
          "y1": 8736,
          "yref": "y"
         },
         {
          "fillcolor": "#87d0ba",
          "layer": "below",
          "line": {
           "width": 0
          },
          "opacity": 1,
          "type": "rect",
          "x0": 5525,
          "x1": 5876,
          "xref": "x",
          "y0": 8736,
          "y1": 9093,
          "yref": "y"
         },
         {
          "fillcolor": "#53bdc1",
          "layer": "below",
          "line": {
           "width": 0
          },
          "opacity": 1,
          "type": "rect",
          "x0": 5525,
          "x1": 5876,
          "xref": "x",
          "y0": 9093,
          "y1": 9451,
          "yref": "y"
         },
         {
          "fillcolor": "#97d6b9",
          "layer": "below",
          "line": {
           "width": 0
          },
          "opacity": 1,
          "type": "rect",
          "x0": 5525,
          "x1": 5876,
          "xref": "x",
          "y0": 9451,
          "y1": 9809,
          "yref": "y"
         },
         {
          "fillcolor": "#2262aa",
          "layer": "below",
          "line": {
           "width": 0
          },
          "opacity": 1,
          "type": "rect",
          "x0": 5525,
          "x1": 5876,
          "xref": "x",
          "y0": 9809,
          "y1": 10165,
          "yref": "y"
         },
         {
          "fillcolor": "#1b2c80",
          "layer": "below",
          "line": {
           "width": 0
          },
          "opacity": 1,
          "type": "rect",
          "x0": 5525,
          "x1": 5876,
          "xref": "x",
          "y0": 10166,
          "y1": 10524,
          "yref": "y"
         },
         {
          "fillcolor": "#234fa1",
          "layer": "below",
          "line": {
           "width": 0
          },
          "opacity": 1,
          "type": "rect",
          "x0": 5525,
          "x1": 5876,
          "xref": "x",
          "y0": 10525,
          "y1": 10882,
          "yref": "y"
         },
         {
          "fillcolor": "#7acbbc",
          "layer": "below",
          "line": {
           "width": 0
          },
          "opacity": 1,
          "type": "rect",
          "x0": 5525,
          "x1": 5876,
          "xref": "x",
          "y0": 10882,
          "y1": 11239,
          "yref": "y"
         },
         {
          "fillcolor": "#53bdc1",
          "layer": "below",
          "line": {
           "width": 0
          },
          "opacity": 1,
          "type": "rect",
          "x0": 5525,
          "x1": 5876,
          "xref": "x",
          "y0": 11239,
          "y1": 11598,
          "yref": "y"
         },
         {
          "fillcolor": "#97d6b9",
          "layer": "below",
          "line": {
           "width": 0
          },
          "opacity": 1,
          "type": "rect",
          "x0": 5525,
          "x1": 5876,
          "xref": "x",
          "y0": 11598,
          "y1": 11956,
          "yref": "y"
         },
         {
          "fillcolor": "#253795",
          "layer": "below",
          "line": {
           "width": 0
          },
          "opacity": 1,
          "type": "rect",
          "x0": 5525,
          "x1": 5876,
          "xref": "x",
          "y0": 11956,
          "y1": 12314,
          "yref": "y"
         },
         {
          "fillcolor": "#243f99",
          "layer": "below",
          "line": {
           "width": 0
          },
          "opacity": 1,
          "type": "rect",
          "x0": 5525,
          "x1": 5876,
          "xref": "x",
          "y0": 12315,
          "y1": 12672,
          "yref": "y"
         },
         {
          "fillcolor": "#35aac3",
          "layer": "below",
          "line": {
           "width": 0
          },
          "opacity": 1,
          "type": "rect",
          "x0": 5525,
          "x1": 5876,
          "xref": "x",
          "y0": 12673,
          "y1": 13029,
          "yref": "y"
         },
         {
          "fillcolor": "#2094c0",
          "layer": "below",
          "line": {
           "width": 0
          },
          "opacity": 1,
          "type": "rect",
          "x0": 5525,
          "x1": 5876,
          "xref": "x",
          "y0": 13029,
          "y1": 13385,
          "yref": "y"
         },
         {
          "fillcolor": "#46b8c3",
          "layer": "below",
          "line": {
           "width": 0
          },
          "opacity": 1,
          "type": "rect",
          "x0": 5525,
          "x1": 5876,
          "xref": "x",
          "y0": 13386,
          "y1": 13740,
          "yref": "y"
         },
         {
          "fillcolor": "#289cc1",
          "layer": "below",
          "line": {
           "width": 0
          },
          "opacity": 1,
          "type": "rect",
          "x0": 5876,
          "x1": 6234,
          "xref": "x",
          "y0": 6235,
          "y1": 6592,
          "yref": "y"
         },
         {
          "fillcolor": "#48b9c3",
          "layer": "below",
          "line": {
           "width": 0
          },
          "opacity": 1,
          "type": "rect",
          "x0": 5876,
          "x1": 6234,
          "xref": "x",
          "y0": 6592,
          "y1": 6950,
          "yref": "y"
         },
         {
          "fillcolor": "#f8fcc9",
          "layer": "below",
          "line": {
           "width": 0
          },
          "opacity": 1,
          "type": "rect",
          "x0": 5876,
          "x1": 6234,
          "xref": "x",
          "y0": 6950,
          "y1": 7307,
          "yref": "y"
         },
         {
          "fillcolor": "#289cc1",
          "layer": "below",
          "line": {
           "width": 0
          },
          "opacity": 1,
          "type": "rect",
          "x0": 5876,
          "x1": 6234,
          "xref": "x",
          "y0": 7308,
          "y1": 7664,
          "yref": "y"
         },
         {
          "fillcolor": "#36abc3",
          "layer": "below",
          "line": {
           "width": 0
          },
          "opacity": 1,
          "type": "rect",
          "x0": 5876,
          "x1": 6234,
          "xref": "x",
          "y0": 7664,
          "y1": 8022,
          "yref": "y"
         },
         {
          "fillcolor": "#36abc3",
          "layer": "below",
          "line": {
           "width": 0
          },
          "opacity": 1,
          "type": "rect",
          "x0": 5876,
          "x1": 6234,
          "xref": "x",
          "y0": 8022,
          "y1": 8380,
          "yref": "y"
         },
         {
          "fillcolor": "#e5f5b2",
          "layer": "below",
          "line": {
           "width": 0
          },
          "opacity": 1,
          "type": "rect",
          "x0": 5876,
          "x1": 6234,
          "xref": "x",
          "y0": 8380,
          "y1": 8736,
          "yref": "y"
         },
         {
          "fillcolor": "#2fa4c2",
          "layer": "below",
          "line": {
           "width": 0
          },
          "opacity": 1,
          "type": "rect",
          "x0": 5876,
          "x1": 6234,
          "xref": "x",
          "y0": 8736,
          "y1": 9093,
          "yref": "y"
         },
         {
          "fillcolor": "#3eb3c4",
          "layer": "below",
          "line": {
           "width": 0
          },
          "opacity": 1,
          "type": "rect",
          "x0": 5876,
          "x1": 6234,
          "xref": "x",
          "y0": 9093,
          "y1": 9451,
          "yref": "y"
         },
         {
          "fillcolor": "#3eb3c4",
          "layer": "below",
          "line": {
           "width": 0
          },
          "opacity": 1,
          "type": "rect",
          "x0": 5876,
          "x1": 6234,
          "xref": "x",
          "y0": 9451,
          "y1": 9809,
          "yref": "y"
         },
         {
          "fillcolor": "#c4e8b4",
          "layer": "below",
          "line": {
           "width": 0
          },
          "opacity": 1,
          "type": "rect",
          "x0": 5876,
          "x1": 6234,
          "xref": "x",
          "y0": 9809,
          "y1": 10165,
          "yref": "y"
         },
         {
          "fillcolor": "#63c3bf",
          "layer": "below",
          "line": {
           "width": 0
          },
          "opacity": 1,
          "type": "rect",
          "x0": 5876,
          "x1": 6234,
          "xref": "x",
          "y0": 10166,
          "y1": 10524,
          "yref": "y"
         },
         {
          "fillcolor": "#d5efb3",
          "layer": "below",
          "line": {
           "width": 0
          },
          "opacity": 1,
          "type": "rect",
          "x0": 5876,
          "x1": 6234,
          "xref": "x",
          "y0": 10525,
          "y1": 10882,
          "yref": "y"
         },
         {
          "fillcolor": "#289cc1",
          "layer": "below",
          "line": {
           "width": 0
          },
          "opacity": 1,
          "type": "rect",
          "x0": 5876,
          "x1": 6234,
          "xref": "x",
          "y0": 10882,
          "y1": 11239,
          "yref": "y"
         },
         {
          "fillcolor": "#48b9c3",
          "layer": "below",
          "line": {
           "width": 0
          },
          "opacity": 1,
          "type": "rect",
          "x0": 5876,
          "x1": 6234,
          "xref": "x",
          "y0": 11239,
          "y1": 11598,
          "yref": "y"
         },
         {
          "fillcolor": "#3eb3c4",
          "layer": "below",
          "line": {
           "width": 0
          },
          "opacity": 1,
          "type": "rect",
          "x0": 5876,
          "x1": 6234,
          "xref": "x",
          "y0": 11598,
          "y1": 11956,
          "yref": "y"
         },
         {
          "fillcolor": "#55bec1",
          "layer": "below",
          "line": {
           "width": 0
          },
          "opacity": 1,
          "type": "rect",
          "x0": 5876,
          "x1": 6234,
          "xref": "x",
          "y0": 11956,
          "y1": 12314,
          "yref": "y"
         },
         {
          "fillcolor": "#b4e2b6",
          "layer": "below",
          "line": {
           "width": 0
          },
          "opacity": 1,
          "type": "rect",
          "x0": 5876,
          "x1": 6234,
          "xref": "x",
          "y0": 12315,
          "y1": 12672,
          "yref": "y"
         },
         {
          "fillcolor": "#289cc1",
          "layer": "below",
          "line": {
           "width": 0
          },
          "opacity": 1,
          "type": "rect",
          "x0": 5876,
          "x1": 6234,
          "xref": "x",
          "y0": 12673,
          "y1": 13029,
          "yref": "y"
         },
         {
          "fillcolor": "#61c2bf",
          "layer": "below",
          "line": {
           "width": 0
          },
          "opacity": 1,
          "type": "rect",
          "x0": 5876,
          "x1": 6234,
          "xref": "x",
          "y0": 13029,
          "y1": 13385,
          "yref": "y"
         },
         {
          "fillcolor": "#2076b3",
          "layer": "below",
          "line": {
           "width": 0
          },
          "opacity": 1,
          "type": "rect",
          "x0": 5876,
          "x1": 6234,
          "xref": "x",
          "y0": 13386,
          "y1": 13740,
          "yref": "y"
         },
         {
          "fillcolor": "#7acbbc",
          "layer": "below",
          "line": {
           "width": 0
          },
          "opacity": 1,
          "type": "rect",
          "x0": 6235,
          "x1": 6592,
          "xref": "x",
          "y0": 6592,
          "y1": 6950,
          "yref": "y"
         },
         {
          "fillcolor": "#289cc1",
          "layer": "below",
          "line": {
           "width": 0
          },
          "opacity": 1,
          "type": "rect",
          "x0": 6235,
          "x1": 6592,
          "xref": "x",
          "y0": 6950,
          "y1": 7307,
          "yref": "y"
         },
         {
          "fillcolor": "#f4fbc1",
          "layer": "below",
          "line": {
           "width": 0
          },
          "opacity": 1,
          "type": "rect",
          "x0": 6235,
          "x1": 6592,
          "xref": "x",
          "y0": 7308,
          "y1": 7664,
          "yref": "y"
         },
         {
          "fillcolor": "#97d6b9",
          "layer": "below",
          "line": {
           "width": 0
          },
          "opacity": 1,
          "type": "rect",
          "x0": 6235,
          "x1": 6592,
          "xref": "x",
          "y0": 7664,
          "y1": 8022,
          "yref": "y"
         },
         {
          "fillcolor": "#7acbbc",
          "layer": "below",
          "line": {
           "width": 0
          },
          "opacity": 1,
          "type": "rect",
          "x0": 6235,
          "x1": 6592,
          "xref": "x",
          "y0": 8022,
          "y1": 8380,
          "yref": "y"
         },
         {
          "fillcolor": "#289cc1",
          "layer": "below",
          "line": {
           "width": 0
          },
          "opacity": 1,
          "type": "rect",
          "x0": 6235,
          "x1": 6592,
          "xref": "x",
          "y0": 8380,
          "y1": 8736,
          "yref": "y"
         },
         {
          "fillcolor": "#f8fcc9",
          "layer": "below",
          "line": {
           "width": 0
          },
          "opacity": 1,
          "type": "rect",
          "x0": 6235,
          "x1": 6592,
          "xref": "x",
          "y0": 8736,
          "y1": 9093,
          "yref": "y"
         },
         {
          "fillcolor": "#53bdc1",
          "layer": "below",
          "line": {
           "width": 0
          },
          "opacity": 1,
          "type": "rect",
          "x0": 6235,
          "x1": 6592,
          "xref": "x",
          "y0": 9093,
          "y1": 9451,
          "yref": "y"
         },
         {
          "fillcolor": "#87d0ba",
          "layer": "below",
          "line": {
           "width": 0
          },
          "opacity": 1,
          "type": "rect",
          "x0": 6235,
          "x1": 6592,
          "xref": "x",
          "y0": 9451,
          "y1": 9809,
          "yref": "y"
         },
         {
          "fillcolor": "#2ea3c2",
          "layer": "below",
          "line": {
           "width": 0
          },
          "opacity": 1,
          "type": "rect",
          "x0": 6235,
          "x1": 6592,
          "xref": "x",
          "y0": 9809,
          "y1": 10165,
          "yref": "y"
         },
         {
          "fillcolor": "#2163aa",
          "layer": "below",
          "line": {
           "width": 0
          },
          "opacity": 1,
          "type": "rect",
          "x0": 6235,
          "x1": 6592,
          "xref": "x",
          "y0": 10166,
          "y1": 10524,
          "yref": "y"
         },
         {
          "fillcolor": "#1e8bbd",
          "layer": "below",
          "line": {
           "width": 0
          },
          "opacity": 1,
          "type": "rect",
          "x0": 6235,
          "x1": 6592,
          "xref": "x",
          "y0": 10525,
          "y1": 10882,
          "yref": "y"
         },
         {
          "fillcolor": "#f4fbc1",
          "layer": "below",
          "line": {
           "width": 0
          },
          "opacity": 1,
          "type": "rect",
          "x0": 6235,
          "x1": 6592,
          "xref": "x",
          "y0": 10882,
          "y1": 11239,
          "yref": "y"
         },
         {
          "fillcolor": "#61c2bf",
          "layer": "below",
          "line": {
           "width": 0
          },
          "opacity": 1,
          "type": "rect",
          "x0": 6235,
          "x1": 6592,
          "xref": "x",
          "y0": 11239,
          "y1": 11598,
          "yref": "y"
         },
         {
          "fillcolor": "#87d0ba",
          "layer": "below",
          "line": {
           "width": 0
          },
          "opacity": 1,
          "type": "rect",
          "x0": 6235,
          "x1": 6592,
          "xref": "x",
          "y0": 11598,
          "y1": 11956,
          "yref": "y"
         },
         {
          "fillcolor": "#216daf",
          "layer": "below",
          "line": {
           "width": 0
          },
          "opacity": 1,
          "type": "rect",
          "x0": 6235,
          "x1": 6592,
          "xref": "x",
          "y0": 11956,
          "y1": 12314,
          "yref": "y"
         },
         {
          "fillcolor": "#1e8bbd",
          "layer": "below",
          "line": {
           "width": 0
          },
          "opacity": 1,
          "type": "rect",
          "x0": 6235,
          "x1": 6592,
          "xref": "x",
          "y0": 12315,
          "y1": 12672,
          "yref": "y"
         },
         {
          "fillcolor": "#97d6b9",
          "layer": "below",
          "line": {
           "width": 0
          },
          "opacity": 1,
          "type": "rect",
          "x0": 6235,
          "x1": 6592,
          "xref": "x",
          "y0": 12673,
          "y1": 13029,
          "yref": "y"
         },
         {
          "fillcolor": "#61c2bf",
          "layer": "below",
          "line": {
           "width": 0
          },
          "opacity": 1,
          "type": "rect",
          "x0": 6235,
          "x1": 6592,
          "xref": "x",
          "y0": 13029,
          "y1": 13385,
          "yref": "y"
         },
         {
          "fillcolor": "#dcf1b2",
          "layer": "below",
          "line": {
           "width": 0
          },
          "opacity": 1,
          "type": "rect",
          "x0": 6235,
          "x1": 6592,
          "xref": "x",
          "y0": 13386,
          "y1": 13740,
          "yref": "y"
         },
         {
          "fillcolor": "#48b9c3",
          "layer": "below",
          "line": {
           "width": 0
          },
          "opacity": 1,
          "type": "rect",
          "x0": 6592,
          "x1": 6950,
          "xref": "x",
          "y0": 6950,
          "y1": 7307,
          "yref": "y"
         },
         {
          "fillcolor": "#87d0ba",
          "layer": "below",
          "line": {
           "width": 0
          },
          "opacity": 1,
          "type": "rect",
          "x0": 6592,
          "x1": 6950,
          "xref": "x",
          "y0": 7308,
          "y1": 7664,
          "yref": "y"
         },
         {
          "fillcolor": "#d5efb3",
          "layer": "below",
          "line": {
           "width": 0
          },
          "opacity": 1,
          "type": "rect",
          "x0": 6592,
          "x1": 6950,
          "xref": "x",
          "y0": 7664,
          "y1": 8022,
          "yref": "y"
         },
         {
          "fillcolor": "#f0f9b8",
          "layer": "below",
          "line": {
           "width": 0
          },
          "opacity": 1,
          "type": "rect",
          "x0": 6592,
          "x1": 6950,
          "xref": "x",
          "y0": 8022,
          "y1": 8380,
          "yref": "y"
         },
         {
          "fillcolor": "#55bec1",
          "layer": "below",
          "line": {
           "width": 0
          },
          "opacity": 1,
          "type": "rect",
          "x0": 6592,
          "x1": 6950,
          "xref": "x",
          "y0": 8380,
          "y1": 8736,
          "yref": "y"
         },
         {
          "fillcolor": "#97d6b9",
          "layer": "below",
          "line": {
           "width": 0
          },
          "opacity": 1,
          "type": "rect",
          "x0": 6592,
          "x1": 6950,
          "xref": "x",
          "y0": 8736,
          "y1": 9093,
          "yref": "y"
         },
         {
          "fillcolor": "#b4e2b6",
          "layer": "below",
          "line": {
           "width": 0
          },
          "opacity": 1,
          "type": "rect",
          "x0": 6592,
          "x1": 6950,
          "xref": "x",
          "y0": 9093,
          "y1": 9451,
          "yref": "y"
         },
         {
          "fillcolor": "#edf8b1",
          "layer": "below",
          "line": {
           "width": 0
          },
          "opacity": 1,
          "type": "rect",
          "x0": 6592,
          "x1": 6950,
          "xref": "x",
          "y0": 9451,
          "y1": 9809,
          "yref": "y"
         },
         {
          "fillcolor": "#289cc1",
          "layer": "below",
          "line": {
           "width": 0
          },
          "opacity": 1,
          "type": "rect",
          "x0": 6592,
          "x1": 6950,
          "xref": "x",
          "y0": 9809,
          "y1": 10165,
          "yref": "y"
         },
         {
          "fillcolor": "#2163aa",
          "layer": "below",
          "line": {
           "width": 0
          },
          "opacity": 1,
          "type": "rect",
          "x0": 6592,
          "x1": 6950,
          "xref": "x",
          "y0": 10166,
          "y1": 10524,
          "yref": "y"
         },
         {
          "fillcolor": "#3eb3c4",
          "layer": "below",
          "line": {
           "width": 0
          },
          "opacity": 1,
          "type": "rect",
          "x0": 6592,
          "x1": 6950,
          "xref": "x",
          "y0": 10525,
          "y1": 10882,
          "yref": "y"
         },
         {
          "fillcolor": "#87d0ba",
          "layer": "below",
          "line": {
           "width": 0
          },
          "opacity": 1,
          "type": "rect",
          "x0": 6592,
          "x1": 6950,
          "xref": "x",
          "y0": 10882,
          "y1": 11239,
          "yref": "y"
         },
         {
          "fillcolor": "#c4e8b4",
          "layer": "below",
          "line": {
           "width": 0
          },
          "opacity": 1,
          "type": "rect",
          "x0": 6592,
          "x1": 6950,
          "xref": "x",
          "y0": 11239,
          "y1": 11598,
          "yref": "y"
         },
         {
          "fillcolor": "#edf8b1",
          "layer": "below",
          "line": {
           "width": 0
          },
          "opacity": 1,
          "type": "rect",
          "x0": 6592,
          "x1": 6950,
          "xref": "x",
          "y0": 11598,
          "y1": 11956,
          "yref": "y"
         },
         {
          "fillcolor": "#216daf",
          "layer": "below",
          "line": {
           "width": 0
          },
          "opacity": 1,
          "type": "rect",
          "x0": 6592,
          "x1": 6950,
          "xref": "x",
          "y0": 11956,
          "y1": 12314,
          "yref": "y"
         },
         {
          "fillcolor": "#1f82b9",
          "layer": "below",
          "line": {
           "width": 0
          },
          "opacity": 1,
          "type": "rect",
          "x0": 6592,
          "x1": 6950,
          "xref": "x",
          "y0": 12315,
          "y1": 12672,
          "yref": "y"
         },
         {
          "fillcolor": "#53bdc1",
          "layer": "below",
          "line": {
           "width": 0
          },
          "opacity": 1,
          "type": "rect",
          "x0": 6592,
          "x1": 6950,
          "xref": "x",
          "y0": 12673,
          "y1": 13029,
          "yref": "y"
         },
         {
          "fillcolor": "#48b9c3",
          "layer": "below",
          "line": {
           "width": 0
          },
          "opacity": 1,
          "type": "rect",
          "x0": 6592,
          "x1": 6950,
          "xref": "x",
          "y0": 13029,
          "y1": 13385,
          "yref": "y"
         },
         {
          "fillcolor": "#53bdc1",
          "layer": "below",
          "line": {
           "width": 0
          },
          "opacity": 1,
          "type": "rect",
          "x0": 6592,
          "x1": 6950,
          "xref": "x",
          "y0": 13386,
          "y1": 13740,
          "yref": "y"
         },
         {
          "fillcolor": "#289cc1",
          "layer": "below",
          "line": {
           "width": 0
          },
          "opacity": 1,
          "type": "rect",
          "x0": 6950,
          "x1": 7307,
          "xref": "x",
          "y0": 7308,
          "y1": 7664,
          "yref": "y"
         },
         {
          "fillcolor": "#36abc3",
          "layer": "below",
          "line": {
           "width": 0
          },
          "opacity": 1,
          "type": "rect",
          "x0": 6950,
          "x1": 7307,
          "xref": "x",
          "y0": 7664,
          "y1": 8022,
          "yref": "y"
         },
         {
          "fillcolor": "#36abc3",
          "layer": "below",
          "line": {
           "width": 0
          },
          "opacity": 1,
          "type": "rect",
          "x0": 6950,
          "x1": 7307,
          "xref": "x",
          "y0": 8022,
          "y1": 8380,
          "yref": "y"
         },
         {
          "fillcolor": "#e5f5b2",
          "layer": "below",
          "line": {
           "width": 0
          },
          "opacity": 1,
          "type": "rect",
          "x0": 6950,
          "x1": 7307,
          "xref": "x",
          "y0": 8380,
          "y1": 8736,
          "yref": "y"
         },
         {
          "fillcolor": "#2fa4c2",
          "layer": "below",
          "line": {
           "width": 0
          },
          "opacity": 1,
          "type": "rect",
          "x0": 6950,
          "x1": 7307,
          "xref": "x",
          "y0": 8736,
          "y1": 9093,
          "yref": "y"
         },
         {
          "fillcolor": "#3eb3c4",
          "layer": "below",
          "line": {
           "width": 0
          },
          "opacity": 1,
          "type": "rect",
          "x0": 6950,
          "x1": 7307,
          "xref": "x",
          "y0": 9093,
          "y1": 9451,
          "yref": "y"
         },
         {
          "fillcolor": "#3eb3c4",
          "layer": "below",
          "line": {
           "width": 0
          },
          "opacity": 1,
          "type": "rect",
          "x0": 6950,
          "x1": 7307,
          "xref": "x",
          "y0": 9451,
          "y1": 9809,
          "yref": "y"
         },
         {
          "fillcolor": "#c4e8b4",
          "layer": "below",
          "line": {
           "width": 0
          },
          "opacity": 1,
          "type": "rect",
          "x0": 6950,
          "x1": 7307,
          "xref": "x",
          "y0": 9809,
          "y1": 10165,
          "yref": "y"
         },
         {
          "fillcolor": "#48b9c3",
          "layer": "below",
          "line": {
           "width": 0
          },
          "opacity": 1,
          "type": "rect",
          "x0": 6950,
          "x1": 7307,
          "xref": "x",
          "y0": 10166,
          "y1": 10524,
          "yref": "y"
         },
         {
          "fillcolor": "#d5efb3",
          "layer": "below",
          "line": {
           "width": 0
          },
          "opacity": 1,
          "type": "rect",
          "x0": 6950,
          "x1": 7307,
          "xref": "x",
          "y0": 10525,
          "y1": 10882,
          "yref": "y"
         },
         {
          "fillcolor": "#289cc1",
          "layer": "below",
          "line": {
           "width": 0
          },
          "opacity": 1,
          "type": "rect",
          "x0": 6950,
          "x1": 7307,
          "xref": "x",
          "y0": 10882,
          "y1": 11239,
          "yref": "y"
         },
         {
          "fillcolor": "#48b9c3",
          "layer": "below",
          "line": {
           "width": 0
          },
          "opacity": 1,
          "type": "rect",
          "x0": 6950,
          "x1": 7307,
          "xref": "x",
          "y0": 11239,
          "y1": 11598,
          "yref": "y"
         },
         {
          "fillcolor": "#3eb3c4",
          "layer": "below",
          "line": {
           "width": 0
          },
          "opacity": 1,
          "type": "rect",
          "x0": 6950,
          "x1": 7307,
          "xref": "x",
          "y0": 11598,
          "y1": 11956,
          "yref": "y"
         },
         {
          "fillcolor": "#55bec1",
          "layer": "below",
          "line": {
           "width": 0
          },
          "opacity": 1,
          "type": "rect",
          "x0": 6950,
          "x1": 7307,
          "xref": "x",
          "y0": 11956,
          "y1": 12314,
          "yref": "y"
         },
         {
          "fillcolor": "#b4e2b6",
          "layer": "below",
          "line": {
           "width": 0
          },
          "opacity": 1,
          "type": "rect",
          "x0": 6950,
          "x1": 7307,
          "xref": "x",
          "y0": 12315,
          "y1": 12672,
          "yref": "y"
         },
         {
          "fillcolor": "#289cc1",
          "layer": "below",
          "line": {
           "width": 0
          },
          "opacity": 1,
          "type": "rect",
          "x0": 6950,
          "x1": 7307,
          "xref": "x",
          "y0": 12673,
          "y1": 13029,
          "yref": "y"
         },
         {
          "fillcolor": "#61c2bf",
          "layer": "below",
          "line": {
           "width": 0
          },
          "opacity": 1,
          "type": "rect",
          "x0": 6950,
          "x1": 7307,
          "xref": "x",
          "y0": 13029,
          "y1": 13385,
          "yref": "y"
         },
         {
          "fillcolor": "#2076b3",
          "layer": "below",
          "line": {
           "width": 0
          },
          "opacity": 1,
          "type": "rect",
          "x0": 6950,
          "x1": 7307,
          "xref": "x",
          "y0": 13386,
          "y1": 13740,
          "yref": "y"
         },
         {
          "fillcolor": "#a7dcb7",
          "layer": "below",
          "line": {
           "width": 0
          },
          "opacity": 1,
          "type": "rect",
          "x0": 7308,
          "x1": 7664,
          "xref": "x",
          "y0": 7664,
          "y1": 8022,
          "yref": "y"
         },
         {
          "fillcolor": "#87d0ba",
          "layer": "below",
          "line": {
           "width": 0
          },
          "opacity": 1,
          "type": "rect",
          "x0": 7308,
          "x1": 7664,
          "xref": "x",
          "y0": 8022,
          "y1": 8380,
          "yref": "y"
         },
         {
          "fillcolor": "#289cc1",
          "layer": "below",
          "line": {
           "width": 0
          },
          "opacity": 1,
          "type": "rect",
          "x0": 7308,
          "x1": 7664,
          "xref": "x",
          "y0": 8380,
          "y1": 8736,
          "yref": "y"
         },
         {
          "fillcolor": "#fcfed1",
          "layer": "below",
          "line": {
           "width": 0
          },
          "opacity": 1,
          "type": "rect",
          "x0": 7308,
          "x1": 7664,
          "xref": "x",
          "y0": 8736,
          "y1": 9093,
          "yref": "y"
         },
         {
          "fillcolor": "#61c2bf",
          "layer": "below",
          "line": {
           "width": 0
          },
          "opacity": 1,
          "type": "rect",
          "x0": 7308,
          "x1": 7664,
          "xref": "x",
          "y0": 9093,
          "y1": 9451,
          "yref": "y"
         },
         {
          "fillcolor": "#97d6b9",
          "layer": "below",
          "line": {
           "width": 0
          },
          "opacity": 1,
          "type": "rect",
          "x0": 7308,
          "x1": 7664,
          "xref": "x",
          "y0": 9451,
          "y1": 9809,
          "yref": "y"
         },
         {
          "fillcolor": "#2ea3c2",
          "layer": "below",
          "line": {
           "width": 0
          },
          "opacity": 1,
          "type": "rect",
          "x0": 7308,
          "x1": 7664,
          "xref": "x",
          "y0": 9809,
          "y1": 10165,
          "yref": "y"
         },
         {
          "fillcolor": "#216daf",
          "layer": "below",
          "line": {
           "width": 0
          },
          "opacity": 1,
          "type": "rect",
          "x0": 7308,
          "x1": 7664,
          "xref": "x",
          "y0": 10166,
          "y1": 10524,
          "yref": "y"
         },
         {
          "fillcolor": "#1e8bbd",
          "layer": "below",
          "line": {
           "width": 0
          },
          "opacity": 1,
          "type": "rect",
          "x0": 7308,
          "x1": 7664,
          "xref": "x",
          "y0": 10525,
          "y1": 10882,
          "yref": "y"
         },
         {
          "fillcolor": "#f8fcc9",
          "layer": "below",
          "line": {
           "width": 0
          },
          "opacity": 1,
          "type": "rect",
          "x0": 7308,
          "x1": 7664,
          "xref": "x",
          "y0": 10882,
          "y1": 11239,
          "yref": "y"
         },
         {
          "fillcolor": "#6dc6be",
          "layer": "below",
          "line": {
           "width": 0
          },
          "opacity": 1,
          "type": "rect",
          "x0": 7308,
          "x1": 7664,
          "xref": "x",
          "y0": 11239,
          "y1": 11598,
          "yref": "y"
         },
         {
          "fillcolor": "#97d6b9",
          "layer": "below",
          "line": {
           "width": 0
          },
          "opacity": 1,
          "type": "rect",
          "x0": 7308,
          "x1": 7664,
          "xref": "x",
          "y0": 11598,
          "y1": 11956,
          "yref": "y"
         },
         {
          "fillcolor": "#1f78b4",
          "layer": "below",
          "line": {
           "width": 0
          },
          "opacity": 1,
          "type": "rect",
          "x0": 7308,
          "x1": 7664,
          "xref": "x",
          "y0": 11956,
          "y1": 12314,
          "yref": "y"
         },
         {
          "fillcolor": "#1e8bbd",
          "layer": "below",
          "line": {
           "width": 0
          },
          "opacity": 1,
          "type": "rect",
          "x0": 7308,
          "x1": 7664,
          "xref": "x",
          "y0": 12315,
          "y1": 12672,
          "yref": "y"
         },
         {
          "fillcolor": "#a7dcb7",
          "layer": "below",
          "line": {
           "width": 0
          },
          "opacity": 1,
          "type": "rect",
          "x0": 7308,
          "x1": 7664,
          "xref": "x",
          "y0": 12673,
          "y1": 13029,
          "yref": "y"
         },
         {
          "fillcolor": "#61c2bf",
          "layer": "below",
          "line": {
           "width": 0
          },
          "opacity": 1,
          "type": "rect",
          "x0": 7308,
          "x1": 7664,
          "xref": "x",
          "y0": 13029,
          "y1": 13385,
          "yref": "y"
         },
         {
          "fillcolor": "#e5f5b2",
          "layer": "below",
          "line": {
           "width": 0
          },
          "opacity": 1,
          "type": "rect",
          "x0": 7308,
          "x1": 7664,
          "xref": "x",
          "y0": 13386,
          "y1": 13740,
          "yref": "y"
         },
         {
          "fillcolor": "#d5efb3",
          "layer": "below",
          "line": {
           "width": 0
          },
          "opacity": 1,
          "type": "rect",
          "x0": 7664,
          "x1": 8022,
          "xref": "x",
          "y0": 8022,
          "y1": 8380,
          "yref": "y"
         },
         {
          "fillcolor": "#48b9c3",
          "layer": "below",
          "line": {
           "width": 0
          },
          "opacity": 1,
          "type": "rect",
          "x0": 7664,
          "x1": 8022,
          "xref": "x",
          "y0": 8380,
          "y1": 8736,
          "yref": "y"
         },
         {
          "fillcolor": "#b4e2b6",
          "layer": "below",
          "line": {
           "width": 0
          },
          "opacity": 1,
          "type": "rect",
          "x0": 7664,
          "x1": 8022,
          "xref": "x",
          "y0": 8736,
          "y1": 9093,
          "yref": "y"
         },
         {
          "fillcolor": "#c4e8b4",
          "layer": "below",
          "line": {
           "width": 0
          },
          "opacity": 1,
          "type": "rect",
          "x0": 7664,
          "x1": 8022,
          "xref": "x",
          "y0": 9093,
          "y1": 9451,
          "yref": "y"
         },
         {
          "fillcolor": "#dcf1b2",
          "layer": "below",
          "line": {
           "width": 0
          },
          "opacity": 1,
          "type": "rect",
          "x0": 7664,
          "x1": 8022,
          "xref": "x",
          "y0": 9451,
          "y1": 9809,
          "yref": "y"
         },
         {
          "fillcolor": "#48b9c3",
          "layer": "below",
          "line": {
           "width": 0
          },
          "opacity": 1,
          "type": "rect",
          "x0": 7664,
          "x1": 8022,
          "xref": "x",
          "y0": 9809,
          "y1": 10165,
          "yref": "y"
         },
         {
          "fillcolor": "#1f82b9",
          "layer": "below",
          "line": {
           "width": 0
          },
          "opacity": 1,
          "type": "rect",
          "x0": 7664,
          "x1": 8022,
          "xref": "x",
          "y0": 10166,
          "y1": 10524,
          "yref": "y"
         },
         {
          "fillcolor": "#3eb3c4",
          "layer": "below",
          "line": {
           "width": 0
          },
          "opacity": 1,
          "type": "rect",
          "x0": 7664,
          "x1": 8022,
          "xref": "x",
          "y0": 10525,
          "y1": 10882,
          "yref": "y"
         },
         {
          "fillcolor": "#a7dcb7",
          "layer": "below",
          "line": {
           "width": 0
          },
          "opacity": 1,
          "type": "rect",
          "x0": 7664,
          "x1": 8022,
          "xref": "x",
          "y0": 10882,
          "y1": 11239,
          "yref": "y"
         },
         {
          "fillcolor": "#d5efb3",
          "layer": "below",
          "line": {
           "width": 0
          },
          "opacity": 1,
          "type": "rect",
          "x0": 7664,
          "x1": 8022,
          "xref": "x",
          "y0": 11239,
          "y1": 11598,
          "yref": "y"
         },
         {
          "fillcolor": "#dcf1b2",
          "layer": "below",
          "line": {
           "width": 0
          },
          "opacity": 1,
          "type": "rect",
          "x0": 7664,
          "x1": 8022,
          "xref": "x",
          "y0": 11598,
          "y1": 11956,
          "yref": "y"
         },
         {
          "fillcolor": "#299dc1",
          "layer": "below",
          "line": {
           "width": 0
          },
          "opacity": 1,
          "type": "rect",
          "x0": 7664,
          "x1": 8022,
          "xref": "x",
          "y0": 11956,
          "y1": 12314,
          "yref": "y"
         },
         {
          "fillcolor": "#2195c0",
          "layer": "below",
          "line": {
           "width": 0
          },
          "opacity": 1,
          "type": "rect",
          "x0": 7664,
          "x1": 8022,
          "xref": "x",
          "y0": 12315,
          "y1": 12672,
          "yref": "y"
         },
         {
          "fillcolor": "#97d6b9",
          "layer": "below",
          "line": {
           "width": 0
          },
          "opacity": 1,
          "type": "rect",
          "x0": 7664,
          "x1": 8022,
          "xref": "x",
          "y0": 12673,
          "y1": 13029,
          "yref": "y"
         },
         {
          "fillcolor": "#61c2bf",
          "layer": "below",
          "line": {
           "width": 0
          },
          "opacity": 1,
          "type": "rect",
          "x0": 7664,
          "x1": 8022,
          "xref": "x",
          "y0": 13029,
          "y1": 13385,
          "yref": "y"
         },
         {
          "fillcolor": "#7acbbc",
          "layer": "below",
          "line": {
           "width": 0
          },
          "opacity": 1,
          "type": "rect",
          "x0": 7664,
          "x1": 8022,
          "xref": "x",
          "y0": 13386,
          "y1": 13740,
          "yref": "y"
         },
         {
          "fillcolor": "#3eb3c4",
          "layer": "below",
          "line": {
           "width": 0
          },
          "opacity": 1,
          "type": "rect",
          "x0": 8022,
          "x1": 8380,
          "xref": "x",
          "y0": 8380,
          "y1": 8736,
          "yref": "y"
         },
         {
          "fillcolor": "#97d6b9",
          "layer": "below",
          "line": {
           "width": 0
          },
          "opacity": 1,
          "type": "rect",
          "x0": 8022,
          "x1": 8380,
          "xref": "x",
          "y0": 8736,
          "y1": 9093,
          "yref": "y"
         },
         {
          "fillcolor": "#a7dcb7",
          "layer": "below",
          "line": {
           "width": 0
          },
          "opacity": 1,
          "type": "rect",
          "x0": 8022,
          "x1": 8380,
          "xref": "x",
          "y0": 9093,
          "y1": 9451,
          "yref": "y"
         },
         {
          "fillcolor": "#f4fbc1",
          "layer": "below",
          "line": {
           "width": 0
          },
          "opacity": 1,
          "type": "rect",
          "x0": 8022,
          "x1": 8380,
          "xref": "x",
          "y0": 9451,
          "y1": 9809,
          "yref": "y"
         },
         {
          "fillcolor": "#36abc3",
          "layer": "below",
          "line": {
           "width": 0
          },
          "opacity": 1,
          "type": "rect",
          "x0": 8022,
          "x1": 8380,
          "xref": "x",
          "y0": 9809,
          "y1": 10165,
          "yref": "y"
         },
         {
          "fillcolor": "#2163aa",
          "layer": "below",
          "line": {
           "width": 0
          },
          "opacity": 1,
          "type": "rect",
          "x0": 8022,
          "x1": 8380,
          "xref": "x",
          "y0": 10166,
          "y1": 10524,
          "yref": "y"
         },
         {
          "fillcolor": "#289cc1",
          "layer": "below",
          "line": {
           "width": 0
          },
          "opacity": 1,
          "type": "rect",
          "x0": 8022,
          "x1": 8380,
          "xref": "x",
          "y0": 10525,
          "y1": 10882,
          "yref": "y"
         },
         {
          "fillcolor": "#87d0ba",
          "layer": "below",
          "line": {
           "width": 0
          },
          "opacity": 1,
          "type": "rect",
          "x0": 8022,
          "x1": 8380,
          "xref": "x",
          "y0": 10882,
          "y1": 11239,
          "yref": "y"
         },
         {
          "fillcolor": "#c4e8b4",
          "layer": "below",
          "line": {
           "width": 0
          },
          "opacity": 1,
          "type": "rect",
          "x0": 8022,
          "x1": 8380,
          "xref": "x",
          "y0": 11239,
          "y1": 11598,
          "yref": "y"
         },
         {
          "fillcolor": "#f4fbc1",
          "layer": "below",
          "line": {
           "width": 0
          },
          "opacity": 1,
          "type": "rect",
          "x0": 8022,
          "x1": 8380,
          "xref": "x",
          "y0": 11598,
          "y1": 11956,
          "yref": "y"
         },
         {
          "fillcolor": "#1f82b9",
          "layer": "below",
          "line": {
           "width": 0
          },
          "opacity": 1,
          "type": "rect",
          "x0": 8022,
          "x1": 8380,
          "xref": "x",
          "y0": 11956,
          "y1": 12314,
          "yref": "y"
         },
         {
          "fillcolor": "#1f82b9",
          "layer": "below",
          "line": {
           "width": 0
          },
          "opacity": 1,
          "type": "rect",
          "x0": 8022,
          "x1": 8380,
          "xref": "x",
          "y0": 12315,
          "y1": 12672,
          "yref": "y"
         },
         {
          "fillcolor": "#53bdc1",
          "layer": "below",
          "line": {
           "width": 0
          },
          "opacity": 1,
          "type": "rect",
          "x0": 8022,
          "x1": 8380,
          "xref": "x",
          "y0": 12673,
          "y1": 13029,
          "yref": "y"
         },
         {
          "fillcolor": "#3db2c4",
          "layer": "below",
          "line": {
           "width": 0
          },
          "opacity": 1,
          "type": "rect",
          "x0": 8022,
          "x1": 8380,
          "xref": "x",
          "y0": 13029,
          "y1": 13385,
          "yref": "y"
         },
         {
          "fillcolor": "#53bdc1",
          "layer": "below",
          "line": {
           "width": 0
          },
          "opacity": 1,
          "type": "rect",
          "x0": 8022,
          "x1": 8380,
          "xref": "x",
          "y0": 13386,
          "y1": 13740,
          "yref": "y"
         },
         {
          "fillcolor": "#2ea3c2",
          "layer": "below",
          "line": {
           "width": 0
          },
          "opacity": 1,
          "type": "rect",
          "x0": 8380,
          "x1": 8736,
          "xref": "x",
          "y0": 8736,
          "y1": 9093,
          "yref": "y"
         },
         {
          "fillcolor": "#61c2bf",
          "layer": "below",
          "line": {
           "width": 0
          },
          "opacity": 1,
          "type": "rect",
          "x0": 8380,
          "x1": 8736,
          "xref": "x",
          "y0": 9093,
          "y1": 9451,
          "yref": "y"
         },
         {
          "fillcolor": "#48b9c3",
          "layer": "below",
          "line": {
           "width": 0
          },
          "opacity": 1,
          "type": "rect",
          "x0": 8380,
          "x1": 8736,
          "xref": "x",
          "y0": 9451,
          "y1": 9809,
          "yref": "y"
         },
         {
          "fillcolor": "#a7dcb7",
          "layer": "below",
          "line": {
           "width": 0
          },
          "opacity": 1,
          "type": "rect",
          "x0": 8380,
          "x1": 8736,
          "xref": "x",
          "y0": 9809,
          "y1": 10165,
          "yref": "y"
         },
         {
          "fillcolor": "#48b9c3",
          "layer": "below",
          "line": {
           "width": 0
          },
          "opacity": 1,
          "type": "rect",
          "x0": 8380,
          "x1": 8736,
          "xref": "x",
          "y0": 10166,
          "y1": 10524,
          "yref": "y"
         },
         {
          "fillcolor": "#e5f5b2",
          "layer": "below",
          "line": {
           "width": 0
          },
          "opacity": 1,
          "type": "rect",
          "x0": 8380,
          "x1": 8736,
          "xref": "x",
          "y0": 10525,
          "y1": 10882,
          "yref": "y"
         },
         {
          "fillcolor": "#289cc1",
          "layer": "below",
          "line": {
           "width": 0
          },
          "opacity": 1,
          "type": "rect",
          "x0": 8380,
          "x1": 8736,
          "xref": "x",
          "y0": 10882,
          "y1": 11239,
          "yref": "y"
         },
         {
          "fillcolor": "#6dc6be",
          "layer": "below",
          "line": {
           "width": 0
          },
          "opacity": 1,
          "type": "rect",
          "x0": 8380,
          "x1": 8736,
          "xref": "x",
          "y0": 11239,
          "y1": 11598,
          "yref": "y"
         },
         {
          "fillcolor": "#48b9c3",
          "layer": "below",
          "line": {
           "width": 0
          },
          "opacity": 1,
          "type": "rect",
          "x0": 8380,
          "x1": 8736,
          "xref": "x",
          "y0": 11598,
          "y1": 11956,
          "yref": "y"
         },
         {
          "fillcolor": "#55bec1",
          "layer": "below",
          "line": {
           "width": 0
          },
          "opacity": 1,
          "type": "rect",
          "x0": 8380,
          "x1": 8736,
          "xref": "x",
          "y0": 11956,
          "y1": 12314,
          "yref": "y"
         },
         {
          "fillcolor": "#97d6b9",
          "layer": "below",
          "line": {
           "width": 0
          },
          "opacity": 1,
          "type": "rect",
          "x0": 8380,
          "x1": 8736,
          "xref": "x",
          "y0": 12315,
          "y1": 12672,
          "yref": "y"
         },
         {
          "fillcolor": "#36abc3",
          "layer": "below",
          "line": {
           "width": 0
          },
          "opacity": 1,
          "type": "rect",
          "x0": 8380,
          "x1": 8736,
          "xref": "x",
          "y0": 12673,
          "y1": 13029,
          "yref": "y"
         },
         {
          "fillcolor": "#46b8c3",
          "layer": "below",
          "line": {
           "width": 0
          },
          "opacity": 1,
          "type": "rect",
          "x0": 8380,
          "x1": 8736,
          "xref": "x",
          "y0": 13029,
          "y1": 13385,
          "yref": "y"
         },
         {
          "fillcolor": "#2076b3",
          "layer": "below",
          "line": {
           "width": 0
          },
          "opacity": 1,
          "type": "rect",
          "x0": 8380,
          "x1": 8736,
          "xref": "x",
          "y0": 13386,
          "y1": 13740,
          "yref": "y"
         },
         {
          "fillcolor": "#6dc6be",
          "layer": "below",
          "line": {
           "width": 0
          },
          "opacity": 1,
          "type": "rect",
          "x0": 8736,
          "x1": 9093,
          "xref": "x",
          "y0": 9093,
          "y1": 9451,
          "yref": "y"
         },
         {
          "fillcolor": "#a7dcb7",
          "layer": "below",
          "line": {
           "width": 0
          },
          "opacity": 1,
          "type": "rect",
          "x0": 8736,
          "x1": 9093,
          "xref": "x",
          "y0": 9451,
          "y1": 9809,
          "yref": "y"
         },
         {
          "fillcolor": "#36abc3",
          "layer": "below",
          "line": {
           "width": 0
          },
          "opacity": 1,
          "type": "rect",
          "x0": 8736,
          "x1": 9093,
          "xref": "x",
          "y0": 9809,
          "y1": 10165,
          "yref": "y"
         },
         {
          "fillcolor": "#1f78b4",
          "layer": "below",
          "line": {
           "width": 0
          },
          "opacity": 1,
          "type": "rect",
          "x0": 8736,
          "x1": 9093,
          "xref": "x",
          "y0": 10166,
          "y1": 10524,
          "yref": "y"
         },
         {
          "fillcolor": "#2094c0",
          "layer": "below",
          "line": {
           "width": 0
          },
          "opacity": 1,
          "type": "rect",
          "x0": 8736,
          "x1": 9093,
          "xref": "x",
          "y0": 10525,
          "y1": 10882,
          "yref": "y"
         },
         {
          "fillcolor": "#fcfed1",
          "layer": "below",
          "line": {
           "width": 0
          },
          "opacity": 1,
          "type": "rect",
          "x0": 8736,
          "x1": 9093,
          "xref": "x",
          "y0": 10882,
          "y1": 11239,
          "yref": "y"
         },
         {
          "fillcolor": "#7acbbc",
          "layer": "below",
          "line": {
           "width": 0
          },
          "opacity": 1,
          "type": "rect",
          "x0": 8736,
          "x1": 9093,
          "xref": "x",
          "y0": 11239,
          "y1": 11598,
          "yref": "y"
         },
         {
          "fillcolor": "#a7dcb7",
          "layer": "below",
          "line": {
           "width": 0
          },
          "opacity": 1,
          "type": "rect",
          "x0": 8736,
          "x1": 9093,
          "xref": "x",
          "y0": 11598,
          "y1": 11956,
          "yref": "y"
         },
         {
          "fillcolor": "#1f82b9",
          "layer": "below",
          "line": {
           "width": 0
          },
          "opacity": 1,
          "type": "rect",
          "x0": 8736,
          "x1": 9093,
          "xref": "x",
          "y0": 11956,
          "y1": 12314,
          "yref": "y"
         },
         {
          "fillcolor": "#2195c0",
          "layer": "below",
          "line": {
           "width": 0
          },
          "opacity": 1,
          "type": "rect",
          "x0": 8736,
          "x1": 9093,
          "xref": "x",
          "y0": 12315,
          "y1": 12672,
          "yref": "y"
         },
         {
          "fillcolor": "#b4e2b6",
          "layer": "below",
          "line": {
           "width": 0
          },
          "opacity": 1,
          "type": "rect",
          "x0": 8736,
          "x1": 9093,
          "xref": "x",
          "y0": 12673,
          "y1": 13029,
          "yref": "y"
         },
         {
          "fillcolor": "#6fc7bd",
          "layer": "below",
          "line": {
           "width": 0
          },
          "opacity": 1,
          "type": "rect",
          "x0": 8736,
          "x1": 9093,
          "xref": "x",
          "y0": 13029,
          "y1": 13385,
          "yref": "y"
         },
         {
          "fillcolor": "#ecf7b1",
          "layer": "below",
          "line": {
           "width": 0
          },
          "opacity": 1,
          "type": "rect",
          "x0": 8736,
          "x1": 9093,
          "xref": "x",
          "y0": 13386,
          "y1": 13740,
          "yref": "y"
         },
         {
          "fillcolor": "#b4e2b6",
          "layer": "below",
          "line": {
           "width": 0
          },
          "opacity": 1,
          "type": "rect",
          "x0": 9093,
          "x1": 9451,
          "xref": "x",
          "y0": 9451,
          "y1": 9809,
          "yref": "y"
         },
         {
          "fillcolor": "#48b9c3",
          "layer": "below",
          "line": {
           "width": 0
          },
          "opacity": 1,
          "type": "rect",
          "x0": 9093,
          "x1": 9451,
          "xref": "x",
          "y0": 9809,
          "y1": 10165,
          "yref": "y"
         },
         {
          "fillcolor": "#1e8bbd",
          "layer": "below",
          "line": {
           "width": 0
          },
          "opacity": 1,
          "type": "rect",
          "x0": 9093,
          "x1": 9451,
          "xref": "x",
          "y0": 10166,
          "y1": 10524,
          "yref": "y"
         },
         {
          "fillcolor": "#48b9c3",
          "layer": "below",
          "line": {
           "width": 0
          },
          "opacity": 1,
          "type": "rect",
          "x0": 9093,
          "x1": 9451,
          "xref": "x",
          "y0": 10525,
          "y1": 10882,
          "yref": "y"
         },
         {
          "fillcolor": "#61c2bf",
          "layer": "below",
          "line": {
           "width": 0
          },
          "opacity": 1,
          "type": "rect",
          "x0": 9093,
          "x1": 9451,
          "xref": "x",
          "y0": 10882,
          "y1": 11239,
          "yref": "y"
         },
         {
          "fillcolor": "#f8fcc9",
          "layer": "below",
          "line": {
           "width": 0
          },
          "opacity": 1,
          "type": "rect",
          "x0": 9093,
          "x1": 9451,
          "xref": "x",
          "y0": 11239,
          "y1": 11598,
          "yref": "y"
         },
         {
          "fillcolor": "#b4e2b6",
          "layer": "below",
          "line": {
           "width": 0
          },
          "opacity": 1,
          "type": "rect",
          "x0": 9093,
          "x1": 9451,
          "xref": "x",
          "y0": 11598,
          "y1": 11956,
          "yref": "y"
         },
         {
          "fillcolor": "#289cc1",
          "layer": "below",
          "line": {
           "width": 0
          },
          "opacity": 1,
          "type": "rect",
          "x0": 9093,
          "x1": 9451,
          "xref": "x",
          "y0": 11956,
          "y1": 12314,
          "yref": "y"
         },
         {
          "fillcolor": "#289cc1",
          "layer": "below",
          "line": {
           "width": 0
          },
          "opacity": 1,
          "type": "rect",
          "x0": 9093,
          "x1": 9451,
          "xref": "x",
          "y0": 12315,
          "y1": 12672,
          "yref": "y"
         },
         {
          "fillcolor": "#7acbbc",
          "layer": "below",
          "line": {
           "width": 0
          },
          "opacity": 1,
          "type": "rect",
          "x0": 9093,
          "x1": 9451,
          "xref": "x",
          "y0": 12673,
          "y1": 13029,
          "yref": "y"
         },
         {
          "fillcolor": "#6dc6be",
          "layer": "below",
          "line": {
           "width": 0
          },
          "opacity": 1,
          "type": "rect",
          "x0": 9093,
          "x1": 9451,
          "xref": "x",
          "y0": 13029,
          "y1": 13385,
          "yref": "y"
         },
         {
          "fillcolor": "#36abc3",
          "layer": "below",
          "line": {
           "width": 0
          },
          "opacity": 1,
          "type": "rect",
          "x0": 9093,
          "x1": 9451,
          "xref": "x",
          "y0": 13386,
          "y1": 13740,
          "yref": "y"
         },
         {
          "fillcolor": "#3eb3c4",
          "layer": "below",
          "line": {
           "width": 0
          },
          "opacity": 1,
          "type": "rect",
          "x0": 9451,
          "x1": 9809,
          "xref": "x",
          "y0": 9809,
          "y1": 10165,
          "yref": "y"
         },
         {
          "fillcolor": "#216daf",
          "layer": "below",
          "line": {
           "width": 0
          },
          "opacity": 1,
          "type": "rect",
          "x0": 9451,
          "x1": 9809,
          "xref": "x",
          "y0": 10166,
          "y1": 10524,
          "yref": "y"
         },
         {
          "fillcolor": "#2ea3c2",
          "layer": "below",
          "line": {
           "width": 0
          },
          "opacity": 1,
          "type": "rect",
          "x0": 9451,
          "x1": 9809,
          "xref": "x",
          "y0": 10525,
          "y1": 10882,
          "yref": "y"
         },
         {
          "fillcolor": "#97d6b9",
          "layer": "below",
          "line": {
           "width": 0
          },
          "opacity": 1,
          "type": "rect",
          "x0": 9451,
          "x1": 9809,
          "xref": "x",
          "y0": 10882,
          "y1": 11239,
          "yref": "y"
         },
         {
          "fillcolor": "#cdebb4",
          "layer": "below",
          "line": {
           "width": 0
          },
          "opacity": 1,
          "type": "rect",
          "x0": 9451,
          "x1": 9809,
          "xref": "x",
          "y0": 11239,
          "y1": 11598,
          "yref": "y"
         },
         {
          "fillcolor": "#ffffd9",
          "layer": "below",
          "line": {
           "width": 0
          },
          "opacity": 1,
          "type": "rect",
          "x0": 9451,
          "x1": 9809,
          "xref": "x",
          "y0": 11598,
          "y1": 11956,
          "yref": "y"
         },
         {
          "fillcolor": "#1d8dbe",
          "layer": "below",
          "line": {
           "width": 0
          },
          "opacity": 1,
          "type": "rect",
          "x0": 9451,
          "x1": 9809,
          "xref": "x",
          "y0": 11956,
          "y1": 12314,
          "yref": "y"
         },
         {
          "fillcolor": "#1e8bbd",
          "layer": "below",
          "line": {
           "width": 0
          },
          "opacity": 1,
          "type": "rect",
          "x0": 9451,
          "x1": 9809,
          "xref": "x",
          "y0": 12315,
          "y1": 12672,
          "yref": "y"
         },
         {
          "fillcolor": "#61c2bf",
          "layer": "below",
          "line": {
           "width": 0
          },
          "opacity": 1,
          "type": "rect",
          "x0": 9451,
          "x1": 9809,
          "xref": "x",
          "y0": 12673,
          "y1": 13029,
          "yref": "y"
         },
         {
          "fillcolor": "#48b9c3",
          "layer": "below",
          "line": {
           "width": 0
          },
          "opacity": 1,
          "type": "rect",
          "x0": 9451,
          "x1": 9809,
          "xref": "x",
          "y0": 13029,
          "y1": 13385,
          "yref": "y"
         },
         {
          "fillcolor": "#61c2bf",
          "layer": "below",
          "line": {
           "width": 0
          },
          "opacity": 1,
          "type": "rect",
          "x0": 9451,
          "x1": 9809,
          "xref": "x",
          "y0": 13386,
          "y1": 13740,
          "yref": "y"
         },
         {
          "fillcolor": "#48b9c3",
          "layer": "below",
          "line": {
           "width": 0
          },
          "opacity": 1,
          "type": "rect",
          "x0": 9809,
          "x1": 10165,
          "xref": "x",
          "y0": 10166,
          "y1": 10524,
          "yref": "y"
         },
         {
          "fillcolor": "#87d0ba",
          "layer": "below",
          "line": {
           "width": 0
          },
          "opacity": 1,
          "type": "rect",
          "x0": 9809,
          "x1": 10165,
          "xref": "x",
          "y0": 10525,
          "y1": 10882,
          "yref": "y"
         },
         {
          "fillcolor": "#2ea3c2",
          "layer": "below",
          "line": {
           "width": 0
          },
          "opacity": 1,
          "type": "rect",
          "x0": 9809,
          "x1": 10165,
          "xref": "x",
          "y0": 10882,
          "y1": 11239,
          "yref": "y"
         },
         {
          "fillcolor": "#61c2bf",
          "layer": "below",
          "line": {
           "width": 0
          },
          "opacity": 1,
          "type": "rect",
          "x0": 9809,
          "x1": 10165,
          "xref": "x",
          "y0": 11239,
          "y1": 11598,
          "yref": "y"
         },
         {
          "fillcolor": "#3eb3c4",
          "layer": "below",
          "line": {
           "width": 0
          },
          "opacity": 1,
          "type": "rect",
          "x0": 9809,
          "x1": 10165,
          "xref": "x",
          "y0": 11598,
          "y1": 11956,
          "yref": "y"
         },
         {
          "fillcolor": "#6fc7bd",
          "layer": "below",
          "line": {
           "width": 0
          },
          "opacity": 1,
          "type": "rect",
          "x0": 9809,
          "x1": 10165,
          "xref": "x",
          "y0": 11956,
          "y1": 12314,
          "yref": "y"
         },
         {
          "fillcolor": "#b4e2b6",
          "layer": "below",
          "line": {
           "width": 0
          },
          "opacity": 1,
          "type": "rect",
          "x0": 9809,
          "x1": 10165,
          "xref": "x",
          "y0": 12315,
          "y1": 12672,
          "yref": "y"
         },
         {
          "fillcolor": "#289cc1",
          "layer": "below",
          "line": {
           "width": 0
          },
          "opacity": 1,
          "type": "rect",
          "x0": 9809,
          "x1": 10165,
          "xref": "x",
          "y0": 12673,
          "y1": 13029,
          "yref": "y"
         },
         {
          "fillcolor": "#61c2bf",
          "layer": "below",
          "line": {
           "width": 0
          },
          "opacity": 1,
          "type": "rect",
          "x0": 9809,
          "x1": 10165,
          "xref": "x",
          "y0": 13029,
          "y1": 13385,
          "yref": "y"
         },
         {
          "fillcolor": "#1f80b8",
          "layer": "below",
          "line": {
           "width": 0
          },
          "opacity": 1,
          "type": "rect",
          "x0": 9809,
          "x1": 10165,
          "xref": "x",
          "y0": 13386,
          "y1": 13740,
          "yref": "y"
         },
         {
          "fillcolor": "#48b9c3",
          "layer": "below",
          "line": {
           "width": 0
          },
          "opacity": 1,
          "type": "rect",
          "x0": 10166,
          "x1": 10524,
          "xref": "x",
          "y0": 10525,
          "y1": 10882,
          "yref": "y"
         },
         {
          "fillcolor": "#216daf",
          "layer": "below",
          "line": {
           "width": 0
          },
          "opacity": 1,
          "type": "rect",
          "x0": 10166,
          "x1": 10524,
          "xref": "x",
          "y0": 10882,
          "y1": 11239,
          "yref": "y"
         },
         {
          "fillcolor": "#2195c0",
          "layer": "below",
          "line": {
           "width": 0
          },
          "opacity": 1,
          "type": "rect",
          "x0": 10166,
          "x1": 10524,
          "xref": "x",
          "y0": 11239,
          "y1": 11598,
          "yref": "y"
         },
         {
          "fillcolor": "#216daf",
          "layer": "below",
          "line": {
           "width": 0
          },
          "opacity": 1,
          "type": "rect",
          "x0": 10166,
          "x1": 10524,
          "xref": "x",
          "y0": 11598,
          "y1": 11956,
          "yref": "y"
         },
         {
          "fillcolor": "#edf8b1",
          "layer": "below",
          "line": {
           "width": 0
          },
          "opacity": 1,
          "type": "rect",
          "x0": 10166,
          "x1": 10524,
          "xref": "x",
          "y0": 11956,
          "y1": 12314,
          "yref": "y"
         },
         {
          "fillcolor": "#c4e8b4",
          "layer": "below",
          "line": {
           "width": 0
          },
          "opacity": 1,
          "type": "rect",
          "x0": 10166,
          "x1": 10524,
          "xref": "x",
          "y0": 12315,
          "y1": 12672,
          "yref": "y"
         },
         {
          "fillcolor": "#1f82b9",
          "layer": "below",
          "line": {
           "width": 0
          },
          "opacity": 1,
          "type": "rect",
          "x0": 10166,
          "x1": 10524,
          "xref": "x",
          "y0": 12673,
          "y1": 13029,
          "yref": "y"
         },
         {
          "fillcolor": "#216daf",
          "layer": "below",
          "line": {
           "width": 0
          },
          "opacity": 1,
          "type": "rect",
          "x0": 10166,
          "x1": 10524,
          "xref": "x",
          "y0": 13029,
          "y1": 13385,
          "yref": "y"
         },
         {
          "fillcolor": "#2259a6",
          "layer": "below",
          "line": {
           "width": 0
          },
          "opacity": 1,
          "type": "rect",
          "x0": 10166,
          "x1": 10524,
          "xref": "x",
          "y0": 13386,
          "y1": 13740,
          "yref": "y"
         },
         {
          "fillcolor": "#1e8bbd",
          "layer": "below",
          "line": {
           "width": 0
          },
          "opacity": 1,
          "type": "rect",
          "x0": 10525,
          "x1": 10882,
          "xref": "x",
          "y0": 10882,
          "y1": 11239,
          "yref": "y"
         },
         {
          "fillcolor": "#53bdc1",
          "layer": "below",
          "line": {
           "width": 0
          },
          "opacity": 1,
          "type": "rect",
          "x0": 10525,
          "x1": 10882,
          "xref": "x",
          "y0": 11239,
          "y1": 11598,
          "yref": "y"
         },
         {
          "fillcolor": "#2ea3c2",
          "layer": "below",
          "line": {
           "width": 0
          },
          "opacity": 1,
          "type": "rect",
          "x0": 10525,
          "x1": 10882,
          "xref": "x",
          "y0": 11598,
          "y1": 11956,
          "yref": "y"
         },
         {
          "fillcolor": "#3eb3c4",
          "layer": "below",
          "line": {
           "width": 0
          },
          "opacity": 1,
          "type": "rect",
          "x0": 10525,
          "x1": 10882,
          "xref": "x",
          "y0": 11956,
          "y1": 12314,
          "yref": "y"
         },
         {
          "fillcolor": "#97d6b9",
          "layer": "below",
          "line": {
           "width": 0
          },
          "opacity": 1,
          "type": "rect",
          "x0": 10525,
          "x1": 10882,
          "xref": "x",
          "y0": 12315,
          "y1": 12672,
          "yref": "y"
         },
         {
          "fillcolor": "#3db2c4",
          "layer": "below",
          "line": {
           "width": 0
          },
          "opacity": 1,
          "type": "rect",
          "x0": 10525,
          "x1": 10882,
          "xref": "x",
          "y0": 12673,
          "y1": 13029,
          "yref": "y"
         },
         {
          "fillcolor": "#46b8c3",
          "layer": "below",
          "line": {
           "width": 0
          },
          "opacity": 1,
          "type": "rect",
          "x0": 10525,
          "x1": 10882,
          "xref": "x",
          "y0": 13029,
          "y1": 13385,
          "yref": "y"
         },
         {
          "fillcolor": "#2076b3",
          "layer": "below",
          "line": {
           "width": 0
          },
          "opacity": 1,
          "type": "rect",
          "x0": 10525,
          "x1": 10882,
          "xref": "x",
          "y0": 13386,
          "y1": 13740,
          "yref": "y"
         },
         {
          "fillcolor": "#6dc6be",
          "layer": "below",
          "line": {
           "width": 0
          },
          "opacity": 1,
          "type": "rect",
          "x0": 10882,
          "x1": 11239,
          "xref": "x",
          "y0": 11239,
          "y1": 11598,
          "yref": "y"
         },
         {
          "fillcolor": "#97d6b9",
          "layer": "below",
          "line": {
           "width": 0
          },
          "opacity": 1,
          "type": "rect",
          "x0": 10882,
          "x1": 11239,
          "xref": "x",
          "y0": 11598,
          "y1": 11956,
          "yref": "y"
         },
         {
          "fillcolor": "#1f78b4",
          "layer": "below",
          "line": {
           "width": 0
          },
          "opacity": 1,
          "type": "rect",
          "x0": 10882,
          "x1": 11239,
          "xref": "x",
          "y0": 11956,
          "y1": 12314,
          "yref": "y"
         },
         {
          "fillcolor": "#1e8bbd",
          "layer": "below",
          "line": {
           "width": 0
          },
          "opacity": 1,
          "type": "rect",
          "x0": 10882,
          "x1": 11239,
          "xref": "x",
          "y0": 12315,
          "y1": 12672,
          "yref": "y"
         },
         {
          "fillcolor": "#a7dcb7",
          "layer": "below",
          "line": {
           "width": 0
          },
          "opacity": 1,
          "type": "rect",
          "x0": 10882,
          "x1": 11239,
          "xref": "x",
          "y0": 12673,
          "y1": 13029,
          "yref": "y"
         },
         {
          "fillcolor": "#61c2bf",
          "layer": "below",
          "line": {
           "width": 0
          },
          "opacity": 1,
          "type": "rect",
          "x0": 10882,
          "x1": 11239,
          "xref": "x",
          "y0": 13029,
          "y1": 13385,
          "yref": "y"
         },
         {
          "fillcolor": "#e5f5b2",
          "layer": "below",
          "line": {
           "width": 0
          },
          "opacity": 1,
          "type": "rect",
          "x0": 10882,
          "x1": 11239,
          "xref": "x",
          "y0": 13386,
          "y1": 13740,
          "yref": "y"
         },
         {
          "fillcolor": "#cdebb4",
          "layer": "below",
          "line": {
           "width": 0
          },
          "opacity": 1,
          "type": "rect",
          "x0": 11239,
          "x1": 11598,
          "xref": "x",
          "y0": 11598,
          "y1": 11956,
          "yref": "y"
         },
         {
          "fillcolor": "#36abc3",
          "layer": "below",
          "line": {
           "width": 0
          },
          "opacity": 1,
          "type": "rect",
          "x0": 11239,
          "x1": 11598,
          "xref": "x",
          "y0": 11956,
          "y1": 12314,
          "yref": "y"
         },
         {
          "fillcolor": "#2ea3c2",
          "layer": "below",
          "line": {
           "width": 0
          },
          "opacity": 1,
          "type": "rect",
          "x0": 11239,
          "x1": 11598,
          "xref": "x",
          "y0": 12315,
          "y1": 12672,
          "yref": "y"
         },
         {
          "fillcolor": "#89d1ba",
          "layer": "below",
          "line": {
           "width": 0
          },
          "opacity": 1,
          "type": "rect",
          "x0": 11239,
          "x1": 11598,
          "xref": "x",
          "y0": 12673,
          "y1": 13029,
          "yref": "y"
         },
         {
          "fillcolor": "#7acbbc",
          "layer": "below",
          "line": {
           "width": 0
          },
          "opacity": 1,
          "type": "rect",
          "x0": 11239,
          "x1": 11598,
          "xref": "x",
          "y0": 13029,
          "y1": 13385,
          "yref": "y"
         },
         {
          "fillcolor": "#3db2c4",
          "layer": "below",
          "line": {
           "width": 0
          },
          "opacity": 1,
          "type": "rect",
          "x0": 11239,
          "x1": 11598,
          "xref": "x",
          "y0": 13386,
          "y1": 13740,
          "yref": "y"
         },
         {
          "fillcolor": "#1d8dbe",
          "layer": "below",
          "line": {
           "width": 0
          },
          "opacity": 1,
          "type": "rect",
          "x0": 11598,
          "x1": 11956,
          "xref": "x",
          "y0": 11956,
          "y1": 12314,
          "yref": "y"
         },
         {
          "fillcolor": "#1e8bbd",
          "layer": "below",
          "line": {
           "width": 0
          },
          "opacity": 1,
          "type": "rect",
          "x0": 11598,
          "x1": 11956,
          "xref": "x",
          "y0": 12315,
          "y1": 12672,
          "yref": "y"
         },
         {
          "fillcolor": "#61c2bf",
          "layer": "below",
          "line": {
           "width": 0
          },
          "opacity": 1,
          "type": "rect",
          "x0": 11598,
          "x1": 11956,
          "xref": "x",
          "y0": 12673,
          "y1": 13029,
          "yref": "y"
         },
         {
          "fillcolor": "#48b9c3",
          "layer": "below",
          "line": {
           "width": 0
          },
          "opacity": 1,
          "type": "rect",
          "x0": 11598,
          "x1": 11956,
          "xref": "x",
          "y0": 13029,
          "y1": 13385,
          "yref": "y"
         },
         {
          "fillcolor": "#61c2bf",
          "layer": "below",
          "line": {
           "width": 0
          },
          "opacity": 1,
          "type": "rect",
          "x0": 11598,
          "x1": 11956,
          "xref": "x",
          "y0": 13386,
          "y1": 13740,
          "yref": "y"
         },
         {
          "fillcolor": "#b4e2b6",
          "layer": "below",
          "line": {
           "width": 0
          },
          "opacity": 1,
          "type": "rect",
          "x0": 11956,
          "x1": 12314,
          "xref": "x",
          "y0": 12315,
          "y1": 12672,
          "yref": "y"
         },
         {
          "fillcolor": "#2076b3",
          "layer": "below",
          "line": {
           "width": 0
          },
          "opacity": 1,
          "type": "rect",
          "x0": 11956,
          "x1": 12314,
          "xref": "x",
          "y0": 12673,
          "y1": 13029,
          "yref": "y"
         },
         {
          "fillcolor": "#2076b3",
          "layer": "below",
          "line": {
           "width": 0
          },
          "opacity": 1,
          "type": "rect",
          "x0": 11956,
          "x1": 12314,
          "xref": "x",
          "y0": 13029,
          "y1": 13385,
          "yref": "y"
         },
         {
          "fillcolor": "#2351a2",
          "layer": "below",
          "line": {
           "width": 0
          },
          "opacity": 1,
          "type": "rect",
          "x0": 11956,
          "x1": 12314,
          "xref": "x",
          "y0": 13386,
          "y1": 13740,
          "yref": "y"
         },
         {
          "fillcolor": "#2094c0",
          "layer": "below",
          "line": {
           "width": 0
          },
          "opacity": 1,
          "type": "rect",
          "x0": 12315,
          "x1": 12672,
          "xref": "x",
          "y0": 12673,
          "y1": 13029,
          "yref": "y"
         },
         {
          "fillcolor": "#3db2c4",
          "layer": "below",
          "line": {
           "width": 0
          },
          "opacity": 1,
          "type": "rect",
          "x0": 12315,
          "x1": 12672,
          "xref": "x",
          "y0": 13029,
          "y1": 13385,
          "yref": "y"
         },
         {
          "fillcolor": "#2076b3",
          "layer": "below",
          "line": {
           "width": 0
          },
          "opacity": 1,
          "type": "rect",
          "x0": 12315,
          "x1": 12672,
          "xref": "x",
          "y0": 13386,
          "y1": 13740,
          "yref": "y"
         },
         {
          "fillcolor": "#61c2bf",
          "layer": "below",
          "line": {
           "width": 0
          },
          "opacity": 1,
          "type": "rect",
          "x0": 12673,
          "x1": 13029,
          "xref": "x",
          "y0": 13029,
          "y1": 13385,
          "yref": "y"
         },
         {
          "fillcolor": "#cdebb4",
          "layer": "below",
          "line": {
           "width": 0
          },
          "opacity": 1,
          "type": "rect",
          "x0": 12673,
          "x1": 13029,
          "xref": "x",
          "y0": 13386,
          "y1": 13740,
          "yref": "y"
         },
         {
          "fillcolor": "#36abc3",
          "layer": "below",
          "line": {
           "width": 0
          },
          "opacity": 1,
          "type": "rect",
          "x0": 13029,
          "x1": 13385,
          "xref": "x",
          "y0": 13386,
          "y1": 13740,
          "yref": "y"
         },
         {
          "layer": "below",
          "line": {
           "color": "black",
           "width": 5
          },
          "type": "line",
          "x0": 187,
          "x1": 538,
          "xref": "x",
          "y0": 187,
          "y1": 538,
          "yref": "y"
         },
         {
          "layer": "below",
          "line": {
           "color": "black",
           "width": 5
          },
          "type": "line",
          "x0": 538,
          "x1": 895,
          "xref": "x",
          "y0": 538,
          "y1": 895,
          "yref": "y"
         },
         {
          "layer": "below",
          "line": {
           "color": "black",
           "width": 5
          },
          "type": "line",
          "x0": 895,
          "x1": 1251,
          "xref": "x",
          "y0": 895,
          "y1": 1251,
          "yref": "y"
         },
         {
          "layer": "below",
          "line": {
           "color": "black",
           "width": 5
          },
          "type": "line",
          "x0": 1251,
          "x1": 1609,
          "xref": "x",
          "y0": 1251,
          "y1": 1609,
          "yref": "y"
         },
         {
          "layer": "below",
          "line": {
           "color": "black",
           "width": 5
          },
          "type": "line",
          "x0": 1610,
          "x1": 1967,
          "xref": "x",
          "y0": 1610,
          "y1": 1967,
          "yref": "y"
         },
         {
          "layer": "below",
          "line": {
           "color": "black",
           "width": 5
          },
          "type": "line",
          "x0": 1967,
          "x1": 2324,
          "xref": "x",
          "y0": 1967,
          "y1": 2324,
          "yref": "y"
         },
         {
          "layer": "below",
          "line": {
           "color": "black",
           "width": 5
          },
          "type": "line",
          "x0": 2325,
          "x1": 2682,
          "xref": "x",
          "y0": 2325,
          "y1": 2682,
          "yref": "y"
         },
         {
          "layer": "below",
          "line": {
           "color": "black",
           "width": 5
          },
          "type": "line",
          "x0": 2683,
          "x1": 3040,
          "xref": "x",
          "y0": 2683,
          "y1": 3040,
          "yref": "y"
         },
         {
          "layer": "below",
          "line": {
           "color": "black",
           "width": 5
          },
          "type": "line",
          "x0": 3041,
          "x1": 3385,
          "xref": "x",
          "y0": 3041,
          "y1": 3385,
          "yref": "y"
         },
         {
          "layer": "below",
          "line": {
           "color": "black",
           "width": 5
          },
          "type": "line",
          "x0": 3385,
          "x1": 3741,
          "xref": "x",
          "y0": 3385,
          "y1": 3741,
          "yref": "y"
         },
         {
          "layer": "below",
          "line": {
           "color": "black",
           "width": 5
          },
          "type": "line",
          "x0": 3741,
          "x1": 4099,
          "xref": "x",
          "y0": 3741,
          "y1": 4099,
          "yref": "y"
         },
         {
          "layer": "below",
          "line": {
           "color": "black",
           "width": 5
          },
          "type": "line",
          "x0": 4099,
          "x1": 4458,
          "xref": "x",
          "y0": 4099,
          "y1": 4458,
          "yref": "y"
         },
         {
          "layer": "below",
          "line": {
           "color": "black",
           "width": 5
          },
          "type": "line",
          "x0": 4458,
          "x1": 4816,
          "xref": "x",
          "y0": 4458,
          "y1": 4816,
          "yref": "y"
         },
         {
          "layer": "below",
          "line": {
           "color": "black",
           "width": 5
          },
          "type": "line",
          "x0": 4816,
          "x1": 5167,
          "xref": "x",
          "y0": 4816,
          "y1": 5167,
          "yref": "y"
         },
         {
          "layer": "below",
          "line": {
           "color": "black",
           "width": 5
          },
          "type": "line",
          "x0": 5167,
          "x1": 5525,
          "xref": "x",
          "y0": 5167,
          "y1": 5525,
          "yref": "y"
         },
         {
          "layer": "below",
          "line": {
           "color": "black",
           "width": 5
          },
          "type": "line",
          "x0": 5525,
          "x1": 5876,
          "xref": "x",
          "y0": 5525,
          "y1": 5876,
          "yref": "y"
         },
         {
          "layer": "below",
          "line": {
           "color": "black",
           "width": 5
          },
          "type": "line",
          "x0": 5876,
          "x1": 6234,
          "xref": "x",
          "y0": 5876,
          "y1": 6234,
          "yref": "y"
         },
         {
          "layer": "below",
          "line": {
           "color": "black",
           "width": 5
          },
          "type": "line",
          "x0": 6235,
          "x1": 6592,
          "xref": "x",
          "y0": 6235,
          "y1": 6592,
          "yref": "y"
         },
         {
          "layer": "below",
          "line": {
           "color": "black",
           "width": 5
          },
          "type": "line",
          "x0": 6592,
          "x1": 6950,
          "xref": "x",
          "y0": 6592,
          "y1": 6950,
          "yref": "y"
         },
         {
          "layer": "below",
          "line": {
           "color": "black",
           "width": 5
          },
          "type": "line",
          "x0": 6950,
          "x1": 7307,
          "xref": "x",
          "y0": 6950,
          "y1": 7307,
          "yref": "y"
         },
         {
          "layer": "below",
          "line": {
           "color": "black",
           "width": 5
          },
          "type": "line",
          "x0": 7308,
          "x1": 7664,
          "xref": "x",
          "y0": 7308,
          "y1": 7664,
          "yref": "y"
         },
         {
          "layer": "below",
          "line": {
           "color": "black",
           "width": 5
          },
          "type": "line",
          "x0": 7664,
          "x1": 8022,
          "xref": "x",
          "y0": 7664,
          "y1": 8022,
          "yref": "y"
         },
         {
          "layer": "below",
          "line": {
           "color": "black",
           "width": 5
          },
          "type": "line",
          "x0": 8022,
          "x1": 8380,
          "xref": "x",
          "y0": 8022,
          "y1": 8380,
          "yref": "y"
         },
         {
          "layer": "below",
          "line": {
           "color": "black",
           "width": 5
          },
          "type": "line",
          "x0": 8380,
          "x1": 8736,
          "xref": "x",
          "y0": 8380,
          "y1": 8736,
          "yref": "y"
         },
         {
          "layer": "below",
          "line": {
           "color": "black",
           "width": 5
          },
          "type": "line",
          "x0": 8736,
          "x1": 9093,
          "xref": "x",
          "y0": 8736,
          "y1": 9093,
          "yref": "y"
         },
         {
          "layer": "below",
          "line": {
           "color": "black",
           "width": 5
          },
          "type": "line",
          "x0": 9093,
          "x1": 9451,
          "xref": "x",
          "y0": 9093,
          "y1": 9451,
          "yref": "y"
         },
         {
          "layer": "below",
          "line": {
           "color": "black",
           "width": 5
          },
          "type": "line",
          "x0": 9451,
          "x1": 9809,
          "xref": "x",
          "y0": 9451,
          "y1": 9809,
          "yref": "y"
         },
         {
          "layer": "below",
          "line": {
           "color": "black",
           "width": 5
          },
          "type": "line",
          "x0": 9809,
          "x1": 10165,
          "xref": "x",
          "y0": 9809,
          "y1": 10165,
          "yref": "y"
         },
         {
          "layer": "below",
          "line": {
           "color": "black",
           "width": 5
          },
          "type": "line",
          "x0": 10166,
          "x1": 10524,
          "xref": "x",
          "y0": 10166,
          "y1": 10524,
          "yref": "y"
         },
         {
          "layer": "below",
          "line": {
           "color": "black",
           "width": 5
          },
          "type": "line",
          "x0": 10525,
          "x1": 10882,
          "xref": "x",
          "y0": 10525,
          "y1": 10882,
          "yref": "y"
         },
         {
          "layer": "below",
          "line": {
           "color": "black",
           "width": 5
          },
          "type": "line",
          "x0": 10882,
          "x1": 11239,
          "xref": "x",
          "y0": 10882,
          "y1": 11239,
          "yref": "y"
         },
         {
          "layer": "below",
          "line": {
           "color": "black",
           "width": 5
          },
          "type": "line",
          "x0": 11239,
          "x1": 11598,
          "xref": "x",
          "y0": 11239,
          "y1": 11598,
          "yref": "y"
         },
         {
          "layer": "below",
          "line": {
           "color": "black",
           "width": 5
          },
          "type": "line",
          "x0": 11598,
          "x1": 11956,
          "xref": "x",
          "y0": 11598,
          "y1": 11956,
          "yref": "y"
         },
         {
          "layer": "below",
          "line": {
           "color": "black",
           "width": 5
          },
          "type": "line",
          "x0": 11956,
          "x1": 12314,
          "xref": "x",
          "y0": 11956,
          "y1": 12314,
          "yref": "y"
         },
         {
          "layer": "below",
          "line": {
           "color": "black",
           "width": 5
          },
          "type": "line",
          "x0": 12315,
          "x1": 12672,
          "xref": "x",
          "y0": 12315,
          "y1": 12672,
          "yref": "y"
         },
         {
          "layer": "below",
          "line": {
           "color": "black",
           "width": 5
          },
          "type": "line",
          "x0": 12673,
          "x1": 13029,
          "xref": "x",
          "y0": 12673,
          "y1": 13029,
          "yref": "y"
         },
         {
          "layer": "below",
          "line": {
           "color": "black",
           "width": 5
          },
          "type": "line",
          "x0": 13029,
          "x1": 13385,
          "xref": "x",
          "y0": 13029,
          "y1": 13385,
          "yref": "y"
         },
         {
          "layer": "below",
          "line": {
           "color": "black",
           "width": 5
          },
          "type": "line",
          "x0": 13386,
          "x1": 13740,
          "xref": "x",
          "y0": 13386,
          "y1": 13740,
          "yref": "y"
         }
        ],
        "template": {
         "data": {
          "bar": [
           {
            "error_x": {
             "color": "#2a3f5f"
            },
            "error_y": {
             "color": "#2a3f5f"
            },
            "marker": {
             "line": {
              "color": "white",
              "width": 0.5
             }
            },
            "type": "bar"
           }
          ],
          "barpolar": [
           {
            "marker": {
             "line": {
              "color": "white",
              "width": 0.5
             }
            },
            "type": "barpolar"
           }
          ],
          "carpet": [
           {
            "aaxis": {
             "endlinecolor": "#2a3f5f",
             "gridcolor": "#C8D4E3",
             "linecolor": "#C8D4E3",
             "minorgridcolor": "#C8D4E3",
             "startlinecolor": "#2a3f5f"
            },
            "baxis": {
             "endlinecolor": "#2a3f5f",
             "gridcolor": "#C8D4E3",
             "linecolor": "#C8D4E3",
             "minorgridcolor": "#C8D4E3",
             "startlinecolor": "#2a3f5f"
            },
            "type": "carpet"
           }
          ],
          "choropleth": [
           {
            "colorbar": {
             "outlinewidth": 0,
             "ticks": ""
            },
            "type": "choropleth"
           }
          ],
          "contour": [
           {
            "colorbar": {
             "outlinewidth": 0,
             "ticks": ""
            },
            "colorscale": [
             [
              0,
              "#0d0887"
             ],
             [
              0.1111111111111111,
              "#46039f"
             ],
             [
              0.2222222222222222,
              "#7201a8"
             ],
             [
              0.3333333333333333,
              "#9c179e"
             ],
             [
              0.4444444444444444,
              "#bd3786"
             ],
             [
              0.5555555555555556,
              "#d8576b"
             ],
             [
              0.6666666666666666,
              "#ed7953"
             ],
             [
              0.7777777777777778,
              "#fb9f3a"
             ],
             [
              0.8888888888888888,
              "#fdca26"
             ],
             [
              1,
              "#f0f921"
             ]
            ],
            "type": "contour"
           }
          ],
          "contourcarpet": [
           {
            "colorbar": {
             "outlinewidth": 0,
             "ticks": ""
            },
            "type": "contourcarpet"
           }
          ],
          "heatmap": [
           {
            "colorbar": {
             "outlinewidth": 0,
             "ticks": ""
            },
            "colorscale": [
             [
              0,
              "#0d0887"
             ],
             [
              0.1111111111111111,
              "#46039f"
             ],
             [
              0.2222222222222222,
              "#7201a8"
             ],
             [
              0.3333333333333333,
              "#9c179e"
             ],
             [
              0.4444444444444444,
              "#bd3786"
             ],
             [
              0.5555555555555556,
              "#d8576b"
             ],
             [
              0.6666666666666666,
              "#ed7953"
             ],
             [
              0.7777777777777778,
              "#fb9f3a"
             ],
             [
              0.8888888888888888,
              "#fdca26"
             ],
             [
              1,
              "#f0f921"
             ]
            ],
            "type": "heatmap"
           }
          ],
          "heatmapgl": [
           {
            "colorbar": {
             "outlinewidth": 0,
             "ticks": ""
            },
            "colorscale": [
             [
              0,
              "#0d0887"
             ],
             [
              0.1111111111111111,
              "#46039f"
             ],
             [
              0.2222222222222222,
              "#7201a8"
             ],
             [
              0.3333333333333333,
              "#9c179e"
             ],
             [
              0.4444444444444444,
              "#bd3786"
             ],
             [
              0.5555555555555556,
              "#d8576b"
             ],
             [
              0.6666666666666666,
              "#ed7953"
             ],
             [
              0.7777777777777778,
              "#fb9f3a"
             ],
             [
              0.8888888888888888,
              "#fdca26"
             ],
             [
              1,
              "#f0f921"
             ]
            ],
            "type": "heatmapgl"
           }
          ],
          "histogram": [
           {
            "marker": {
             "colorbar": {
              "outlinewidth": 0,
              "ticks": ""
             }
            },
            "type": "histogram"
           }
          ],
          "histogram2d": [
           {
            "colorbar": {
             "outlinewidth": 0,
             "ticks": ""
            },
            "colorscale": [
             [
              0,
              "#0d0887"
             ],
             [
              0.1111111111111111,
              "#46039f"
             ],
             [
              0.2222222222222222,
              "#7201a8"
             ],
             [
              0.3333333333333333,
              "#9c179e"
             ],
             [
              0.4444444444444444,
              "#bd3786"
             ],
             [
              0.5555555555555556,
              "#d8576b"
             ],
             [
              0.6666666666666666,
              "#ed7953"
             ],
             [
              0.7777777777777778,
              "#fb9f3a"
             ],
             [
              0.8888888888888888,
              "#fdca26"
             ],
             [
              1,
              "#f0f921"
             ]
            ],
            "type": "histogram2d"
           }
          ],
          "histogram2dcontour": [
           {
            "colorbar": {
             "outlinewidth": 0,
             "ticks": ""
            },
            "colorscale": [
             [
              0,
              "#0d0887"
             ],
             [
              0.1111111111111111,
              "#46039f"
             ],
             [
              0.2222222222222222,
              "#7201a8"
             ],
             [
              0.3333333333333333,
              "#9c179e"
             ],
             [
              0.4444444444444444,
              "#bd3786"
             ],
             [
              0.5555555555555556,
              "#d8576b"
             ],
             [
              0.6666666666666666,
              "#ed7953"
             ],
             [
              0.7777777777777778,
              "#fb9f3a"
             ],
             [
              0.8888888888888888,
              "#fdca26"
             ],
             [
              1,
              "#f0f921"
             ]
            ],
            "type": "histogram2dcontour"
           }
          ],
          "mesh3d": [
           {
            "colorbar": {
             "outlinewidth": 0,
             "ticks": ""
            },
            "type": "mesh3d"
           }
          ],
          "parcoords": [
           {
            "line": {
             "colorbar": {
              "outlinewidth": 0,
              "ticks": ""
             }
            },
            "type": "parcoords"
           }
          ],
          "scatter": [
           {
            "marker": {
             "colorbar": {
              "outlinewidth": 0,
              "ticks": ""
             }
            },
            "type": "scatter"
           }
          ],
          "scatter3d": [
           {
            "line": {
             "colorbar": {
              "outlinewidth": 0,
              "ticks": ""
             }
            },
            "marker": {
             "colorbar": {
              "outlinewidth": 0,
              "ticks": ""
             }
            },
            "type": "scatter3d"
           }
          ],
          "scattercarpet": [
           {
            "marker": {
             "colorbar": {
              "outlinewidth": 0,
              "ticks": ""
             }
            },
            "type": "scattercarpet"
           }
          ],
          "scattergeo": [
           {
            "marker": {
             "colorbar": {
              "outlinewidth": 0,
              "ticks": ""
             }
            },
            "type": "scattergeo"
           }
          ],
          "scattergl": [
           {
            "marker": {
             "colorbar": {
              "outlinewidth": 0,
              "ticks": ""
             }
            },
            "type": "scattergl"
           }
          ],
          "scattermapbox": [
           {
            "marker": {
             "colorbar": {
              "outlinewidth": 0,
              "ticks": ""
             }
            },
            "type": "scattermapbox"
           }
          ],
          "scatterpolar": [
           {
            "marker": {
             "colorbar": {
              "outlinewidth": 0,
              "ticks": ""
             }
            },
            "type": "scatterpolar"
           }
          ],
          "scatterpolargl": [
           {
            "marker": {
             "colorbar": {
              "outlinewidth": 0,
              "ticks": ""
             }
            },
            "type": "scatterpolargl"
           }
          ],
          "scatterternary": [
           {
            "marker": {
             "colorbar": {
              "outlinewidth": 0,
              "ticks": ""
             }
            },
            "type": "scatterternary"
           }
          ],
          "surface": [
           {
            "colorbar": {
             "outlinewidth": 0,
             "ticks": ""
            },
            "colorscale": [
             [
              0,
              "#0d0887"
             ],
             [
              0.1111111111111111,
              "#46039f"
             ],
             [
              0.2222222222222222,
              "#7201a8"
             ],
             [
              0.3333333333333333,
              "#9c179e"
             ],
             [
              0.4444444444444444,
              "#bd3786"
             ],
             [
              0.5555555555555556,
              "#d8576b"
             ],
             [
              0.6666666666666666,
              "#ed7953"
             ],
             [
              0.7777777777777778,
              "#fb9f3a"
             ],
             [
              0.8888888888888888,
              "#fdca26"
             ],
             [
              1,
              "#f0f921"
             ]
            ],
            "type": "surface"
           }
          ],
          "table": [
           {
            "cells": {
             "fill": {
              "color": "#EBF0F8"
             },
             "line": {
              "color": "white"
             }
            },
            "header": {
             "fill": {
              "color": "#C8D4E3"
             },
             "line": {
              "color": "white"
             }
            },
            "type": "table"
           }
          ]
         },
         "layout": {
          "annotationdefaults": {
           "arrowcolor": "#2a3f5f",
           "arrowhead": 0,
           "arrowwidth": 1
          },
          "colorscale": {
           "diverging": [
            [
             0,
             "#8e0152"
            ],
            [
             0.1,
             "#c51b7d"
            ],
            [
             0.2,
             "#de77ae"
            ],
            [
             0.3,
             "#f1b6da"
            ],
            [
             0.4,
             "#fde0ef"
            ],
            [
             0.5,
             "#f7f7f7"
            ],
            [
             0.6,
             "#e6f5d0"
            ],
            [
             0.7,
             "#b8e186"
            ],
            [
             0.8,
             "#7fbc41"
            ],
            [
             0.9,
             "#4d9221"
            ],
            [
             1,
             "#276419"
            ]
           ],
           "sequential": [
            [
             0,
             "#0d0887"
            ],
            [
             0.1111111111111111,
             "#46039f"
            ],
            [
             0.2222222222222222,
             "#7201a8"
            ],
            [
             0.3333333333333333,
             "#9c179e"
            ],
            [
             0.4444444444444444,
             "#bd3786"
            ],
            [
             0.5555555555555556,
             "#d8576b"
            ],
            [
             0.6666666666666666,
             "#ed7953"
            ],
            [
             0.7777777777777778,
             "#fb9f3a"
            ],
            [
             0.8888888888888888,
             "#fdca26"
            ],
            [
             1,
             "#f0f921"
            ]
           ],
           "sequentialminus": [
            [
             0,
             "#0d0887"
            ],
            [
             0.1111111111111111,
             "#46039f"
            ],
            [
             0.2222222222222222,
             "#7201a8"
            ],
            [
             0.3333333333333333,
             "#9c179e"
            ],
            [
             0.4444444444444444,
             "#bd3786"
            ],
            [
             0.5555555555555556,
             "#d8576b"
            ],
            [
             0.6666666666666666,
             "#ed7953"
            ],
            [
             0.7777777777777778,
             "#fb9f3a"
            ],
            [
             0.8888888888888888,
             "#fdca26"
            ],
            [
             1,
             "#f0f921"
            ]
           ]
          },
          "colorway": [
           "#636efa",
           "#EF553B",
           "#00cc96",
           "#ab63fa",
           "#FFA15A",
           "#19d3f3",
           "#FF6692",
           "#B6E880",
           "#FF97FF",
           "#FECB52"
          ],
          "font": {
           "color": "#2a3f5f"
          },
          "geo": {
           "bgcolor": "white",
           "lakecolor": "white",
           "landcolor": "white",
           "showlakes": true,
           "showland": true,
           "subunitcolor": "#C8D4E3"
          },
          "hoverlabel": {
           "align": "left"
          },
          "hovermode": "closest",
          "mapbox": {
           "style": "light"
          },
          "paper_bgcolor": "white",
          "plot_bgcolor": "white",
          "polar": {
           "angularaxis": {
            "gridcolor": "#EBF0F8",
            "linecolor": "#EBF0F8",
            "ticks": ""
           },
           "bgcolor": "white",
           "radialaxis": {
            "gridcolor": "#EBF0F8",
            "linecolor": "#EBF0F8",
            "ticks": ""
           }
          },
          "scene": {
           "xaxis": {
            "backgroundcolor": "white",
            "gridcolor": "#DFE8F3",
            "gridwidth": 2,
            "linecolor": "#EBF0F8",
            "showbackground": true,
            "ticks": "",
            "zerolinecolor": "#EBF0F8"
           },
           "yaxis": {
            "backgroundcolor": "white",
            "gridcolor": "#DFE8F3",
            "gridwidth": 2,
            "linecolor": "#EBF0F8",
            "showbackground": true,
            "ticks": "",
            "zerolinecolor": "#EBF0F8"
           },
           "zaxis": {
            "backgroundcolor": "white",
            "gridcolor": "#DFE8F3",
            "gridwidth": 2,
            "linecolor": "#EBF0F8",
            "showbackground": true,
            "ticks": "",
            "zerolinecolor": "#EBF0F8"
           }
          },
          "shapedefaults": {
           "line": {
            "color": "#2a3f5f"
           }
          },
          "ternary": {
           "aaxis": {
            "gridcolor": "#DFE8F3",
            "linecolor": "#A2B1C6",
            "ticks": ""
           },
           "baxis": {
            "gridcolor": "#DFE8F3",
            "linecolor": "#A2B1C6",
            "ticks": ""
           },
           "bgcolor": "white",
           "caxis": {
            "gridcolor": "#DFE8F3",
            "linecolor": "#A2B1C6",
            "ticks": ""
           }
          },
          "title": {
           "x": 0.05
          },
          "xaxis": {
           "automargin": true,
           "gridcolor": "#EBF0F8",
           "linecolor": "#EBF0F8",
           "ticks": "",
           "zerolinecolor": "#EBF0F8",
           "zerolinewidth": 2
          },
          "yaxis": {
           "automargin": true,
           "gridcolor": "#EBF0F8",
           "linecolor": "#EBF0F8",
           "ticks": "",
           "zerolinecolor": "#EBF0F8",
           "zerolinewidth": 2
          }
         }
        },
        "title": {
         "text": "73"
        },
        "width": 800,
        "xaxis": {
         "range": [
          -690.7,
          13914
         ],
         "showgrid": false
        },
        "yaxis": {
         "autorange": "reversed",
         "range": [
          0,
          13814
         ],
         "showgrid": false
        }
       }
      },
      "text/html": [
       "<div>\n",
       "        \n",
       "        \n",
       "            <div id=\"f8c43b28-0179-462c-ae6c-cb91cb57697d\" class=\"plotly-graph-div\" style=\"height:800px; width:800px;\"></div>\n",
       "            <script type=\"text/javascript\">\n",
       "                require([\"plotly\"], function(Plotly) {\n",
       "                    window.PLOTLYENV=window.PLOTLYENV || {};\n",
       "                    \n",
       "                if (document.getElementById(\"f8c43b28-0179-462c-ae6c-cb91cb57697d\")) {\n",
       "                    Plotly.newPlot(\n",
       "                        'f8c43b28-0179-462c-ae6c-cb91cb57697d',\n",
       "                        [{\"marker\": {\"size\": 5}, \"mode\": \"markers\", \"name\": \"start\", \"showlegend\": true, \"type\": \"scatter\", \"x\": [354, 709, 12320, 1072, 10558, 11632, 12706, 6269, 1644, 2330, 11990, 4859, 1795, 4843, 2359, 7342, 2717, 12320, 3091, 3236, 4843, 3554, 3912, 8770, 12320, 4629, 5338, 10215, 9456, 9814, 12360, 7835, 8193, 11273, 10215], \"y\": [3, 0, 11603, 8, 9485, 10558, 11632, 4843, 214, 900, 10558, 3091, 15, 2717, 214, 4843, 214, 9814, 230, 38, 1644, 0, 0, 4843, 8385, 0, 0, 4858, 2330, 2330, 4854, 0, 0, 2359, 229]}, {\"marker\": {\"size\": 5}, \"mode\": \"markers\", \"name\": \"end\", \"showlegend\": true, \"type\": \"scatter\", \"x\": [13802, 12202, 13814, 10412, 11485, 12233, 13802, 11803, 2215, 6154, 13814, 13814, 4734, 13814, 4734, 12161, 7227, 13814, 12202, 4734, 12233, 13814, 8656, 12161, 13794, 12233, 10085, 12161, 13814, 12233, 13814, 12592, 13758, 13758, 13814], \"y\": [13447, 11485, 13102, 9338, 10412, 11157, 12734, 10371, 786, 4734, 12389, 12030, 2960, 11672, 2602, 9656, 4734, 11313, 9338, 1529, 9011, 10240, 4734, 8227, 9863, 7582, 4734, 6797, 6666, 4734, 6309, 4734, 5543, 4834, 3815]}, {\"hoverinfo\": \"text\", \"marker\": {\"size\": 5}, \"mode\": \"text\", \"name\": \"TR interval\", \"showlegend\": true, \"text\": [\"1\"], \"textfont\": {\"color\": \"grey\", \"size\": 10}, \"textposition\": \"top right\", \"type\": \"scatter\", \"x\": [0], \"y\": [0]}, {\"hoverinfo\": \"text\", \"marker\": {\"color\": [\"#2094c0\", \"#2075b3\", \"#7acbbc\", \"#289cc1\", \"#2094c0\", \"#53bdc1\", \"#6dc6be\", \"#0d2163\", \"#216bae\", \"#289cc1\", \"#289cc1\", \"#2076b3\", \"#ffffd9\", \"#1e8bbd\", \"#6bc6be\", \"#6dc6be\", \"#2ea3c2\", \"#2262aa\", \"#6dc6be\", \"#289cc1\", \"#1f80b8\", \"#216bae\", \"#6dc6be\", \"#2ea3c2\", \"#2094c0\", \"#2076b3\", \"#61c2bf\", \"#2195c0\", \"#5fc1c0\", \"#289cc1\", \"#2094c0\", \"#2076b3\", \"#2fa4c2\", \"#61c2bf\", \"#1e8abd\", \"#2ea3c2\", \"#2076b3\", \"#dcf1b2\", \"#7acbbc\", \"#b4e2b6\", \"#36abc3\", \"#2ea3c2\", \"#3eb3c4\", \"#2258a5\", \"#d5efb3\", \"#d5efb3\", \"#7acbbc\", \"#cdebb4\", \"#2094c0\", \"#f4fbc1\", \"#6dc6be\", \"#6fc7bd\", \"#b4e2b6\", \"#dcf1b2\", \"#6fc7bd\", \"#b4e2b6\", \"#dcf1b2\", \"#dcf1b2\", \"#89d1ba\", \"#c4e8b4\", \"#a7dcb7\", \"#d5efb3\", \"#53bdc1\", \"#1d8dbe\", \"#6dc6be\", \"#b4e2b6\", \"#b4e2b6\", \"#d5efb3\", \"#2195c0\", \"#36abc3\", \"#97d6b9\", \"#7acbbc\", \"#7acbbc\", \"#3eb3c4\", \"#a7dcb7\", \"#2195c0\", \"#1f82b9\", \"#2195c0\", \"#234da0\", \"#f0f9b8\", \"#97d6b9\", \"#61c2bf\", \"#cdebb4\", \"#2075b3\", \"#e5f5b2\", \"#b4e2b6\", \"#36abc3\", \"#97d6b9\", \"#f0f9b8\", \"#36abc3\", \"#a5dcb7\", \"#cdebb4\", \"#f4fbc1\", \"#3eb3c4\", \"#b4e2b6\", \"#b4e2b6\", \"#f0f9b8\", \"#36abc3\", \"#216daf\", \"#289cc1\", \"#a5dcb7\", \"#b4e2b6\", \"#f0f9b8\", \"#1f82b9\", \"#1e8bbd\", \"#53bdc1\", \"#48b9c3\", \"#6dc6be\", \"#2fa4c2\", \"#89d1ba\", \"#b4e2b6\", \"#cdebb4\", \"#24479d\", \"#36abc3\", \"#61c2bf\", \"#55bec1\", \"#48b9c3\", \"#7acbbc\", \"#6fc7bd\", \"#2262aa\", \"#fcfed1\", \"#2fa4c2\", \"#55bec1\", \"#fcfed1\", \"#2fa4c2\", \"#3eb3c4\", \"#3eb3c4\", \"#edf8b1\", \"#36abc3\", \"#48b9c3\", \"#48b9c3\", \"#cdebb4\", \"#55bec1\", \"#ddf2b2\", \"#2fa4c2\", \"#55bec1\", \"#48b9c3\", \"#63c3bf\", \"#c4e8b4\", \"#2ea3c2\", \"#6dc6be\", \"#1f82b9\", \"#2195c0\", \"#1f82b9\", \"#2195c0\", \"#2260a9\", \"#89d1ba\", \"#a7dcb7\", \"#7acbbc\", \"#89d1ba\", \"#289cc1\", \"#c4e8b4\", \"#7acbbc\", \"#299dc1\", \"#f4fbc1\", \"#89d1ba\", \"#299dc1\", \"#f8fcc9\", \"#a7dcb7\", \"#89d1ba\", \"#289cc1\", \"#fcfed1\", \"#61c2bf\", \"#97d6b9\", \"#2ea3c2\", \"#216daf\", \"#1e8bbd\", \"#f8fcc9\", \"#6dc6be\", \"#97d6b9\", \"#1f78b4\", \"#1e8bbd\", \"#a7dcb7\", \"#61c2bf\", \"#e5f5b2\", \"#48b9c3\", \"#61c2bf\", \"#203089\", \"#1f82b9\", \"#48b9c3\", \"#36abc3\", \"#2195c0\", \"#2094c0\", \"#3eb3c4\", \"#24489d\", \"#7acbbc\", \"#1e8bbd\", \"#289cc1\", \"#7acbbc\", \"#2195c0\", \"#36abc3\", \"#1e8bbd\", \"#7acbbc\", \"#289cc1\", \"#36abc3\", \"#2195c0\", \"#b4e2b6\", \"#a7dcb7\", \"#61c2bf\", \"#2195c0\", \"#3eb3c4\", \"#2195c0\", \"#b4e2b6\", \"#55bec1\", \"#2ea3c2\", \"#2094c0\", \"#1f80b8\", \"#f8fcc9\", \"#253595\", \"#216daf\", \"#2ea3c2\", \"#289cc1\", \"#1f82b9\", \"#53bdc1\", \"#289cc1\", \"#253795\", \"#c4e8b4\", \"#1f82b9\", \"#2076b3\", \"#a7dcb7\", \"#1f82b9\", \"#1e8bbd\", \"#2076b3\", \"#89d1ba\", \"#1e8bbd\", \"#2094c0\", \"#1f82b9\", \"#a7dcb7\", \"#cdebb4\", \"#89d1ba\", \"#1f82b9\", \"#289cc1\", \"#1f82b9\", \"#a7dcb7\", \"#f4fbc1\", \"#1e8bbd\", \"#36abc3\", \"#216daf\", \"#24479d\", \"#1f82b9\", \"#3eb3c4\", \"#36abc3\", \"#2195c0\", \"#6dc6be\", \"#36abc3\", \"#24489d\", \"#c4e8b4\", \"#2195c0\", \"#1e8bbd\", \"#c4e8b4\", \"#2195c0\", \"#289cc1\", \"#1e8bbd\", \"#a7dcb7\", \"#289cc1\", \"#2ea3c2\", \"#2195c0\", \"#c4e8b4\", \"#cdebb4\", \"#a7dcb7\", \"#2195c0\", \"#36abc3\", \"#2195c0\", \"#c4e8b4\", \"#fcfed1\", \"#289cc1\", \"#48b9c3\", \"#1f82b9\", \"#253494\", \"#2075b3\", \"#234fa1\", \"#234fa1\", \"#0d2163\", \"#2260a9\", \"#081d58\", \"#243d98\", \"#2356a4\", \"#243d98\", \"#243d98\", \"#2260a9\", \"#234fa1\", \"#243d98\", \"#243d98\", \"#216aad\", \"#24459c\", \"#24459c\", \"#24459c\", \"#21308b\", \"#243d98\", \"#2260a9\", \"#234fa1\", \"#24459c\", \"#0e2265\", \"#243d98\", \"#234da0\", \"#234fa1\", \"#234da0\", \"#97d6b9\", \"#53bdc1\", \"#cdebb4\", \"#216bae\", \"#dcf1b2\", \"#a7dcb7\", \"#2fa4c2\", \"#7acbbc\", \"#edf8b1\", \"#2fa4c2\", \"#87d0ba\", \"#cdebb4\", \"#f4fbc1\", \"#36abc3\", \"#97d6b9\", \"#97d6b9\", \"#f0f9b8\", \"#2ea3c2\", \"#2259a6\", \"#2094c0\", \"#87d0ba\", \"#b4e2b6\", \"#f0f9b8\", \"#1f78b4\", \"#2076b3\", \"#53bdc1\", \"#3db2c4\", \"#6dc6be\", \"#97d6b9\", \"#97d6b9\", \"#289cc1\", \"#cdebb4\", \"#46b8c3\", \"#55bec1\", \"#97d6b9\", \"#97d6b9\", \"#55bec1\", \"#a7dcb7\", \"#cdebb4\", \"#97d6b9\", \"#6dc6be\", \"#b4e2b6\", \"#c4e8b4\", \"#a7dcb7\", \"#53bdc1\", \"#289cc1\", \"#53bdc1\", \"#a7dcb7\", \"#cdebb4\", \"#a7dcb7\", \"#2fa4c2\", \"#36abc3\", \"#c4e8b4\", \"#7acbbc\", \"#6dc6be\", \"#53bdc1\", \"#289cc1\", \"#89d1ba\", \"#289cc1\", \"#48b9c3\", \"#6fc7bd\", \"#53bdc1\", \"#48b9c3\", \"#7acbbc\", \"#6dc6be\", \"#53bdc1\", \"#48b9c3\", \"#89d1ba\", \"#7acbbc\", \"#61c2bf\", \"#48b9c3\", \"#1d8dbe\", \"#36abc3\", \"#7acbbc\", \"#89d1ba\", \"#61c2bf\", \"#2195c0\", \"#2fa4c2\", \"#6fc7bd\", \"#d5efb3\", \"#48b9c3\", \"#2076b3\", \"#e5f5b2\", \"#53bdc1\", \"#3eb3c4\", \"#7acbbc\", \"#d5efb3\", \"#3eb3c4\", \"#87d0ba\", \"#e5f5b2\", \"#d5efb3\", \"#3eb3c4\", \"#97d6b9\", \"#89d1ba\", \"#dcf1b2\", \"#3eb3c4\", \"#216daf\", \"#36abc3\", \"#87d0ba\", \"#a7dcb7\", \"#dcf1b2\", \"#1d8dbe\", \"#1e8bbd\", \"#53bdc1\", \"#53bdc1\", \"#53bdc1\", \"#1e8bbd\", \"#6bc6be\", \"#6dc6be\", \"#2ea3c2\", \"#2262aa\", \"#6dc6be\", \"#289cc1\", \"#1f80b8\", \"#216bae\", \"#6dc6be\", \"#2ea3c2\", \"#2094c0\", \"#2076b3\", \"#61c2bf\", \"#2195c0\", \"#5fc1c0\", \"#289cc1\", \"#2094c0\", \"#2076b3\", \"#2fa4c2\", \"#61c2bf\", \"#1e8abd\", \"#2ea3c2\", \"#2076b3\", \"#7acbbc\", \"#63c3bf\", \"#b4e2b6\", \"#e5f5b2\", \"#63c3bf\", \"#c4e8b4\", \"#d5efb3\", \"#e5f5b2\", \"#61c2bf\", \"#cdebb4\", \"#97d6b9\", \"#dcf1b2\", \"#48b9c3\", \"#2195c0\", \"#48b9c3\", \"#c4e8b4\", \"#a7dcb7\", \"#dcf1b2\", \"#299dc1\", \"#2fa4c2\", \"#87d0ba\", \"#6dc6be\", \"#87d0ba\", \"#2259a6\", \"#7acbbc\", \"#97d6b9\", \"#2259a6\", \"#7acbbc\", \"#6dc6be\", \"#a7dcb7\", \"#2262aa\", \"#87d0ba\", \"#53bdc1\", \"#97d6b9\", \"#2262aa\", \"#1b2c80\", \"#234fa1\", \"#7acbbc\", \"#53bdc1\", \"#97d6b9\", \"#253795\", \"#243f99\", \"#35aac3\", \"#2094c0\", \"#46b8c3\", \"#289cc1\", \"#48b9c3\", \"#f8fcc9\", \"#289cc1\", \"#36abc3\", \"#36abc3\", \"#e5f5b2\", \"#2fa4c2\", \"#3eb3c4\", \"#3eb3c4\", \"#c4e8b4\", \"#63c3bf\", \"#d5efb3\", \"#289cc1\", \"#48b9c3\", \"#3eb3c4\", \"#55bec1\", \"#b4e2b6\", \"#289cc1\", \"#61c2bf\", \"#2076b3\", \"#7acbbc\", \"#289cc1\", \"#f4fbc1\", \"#97d6b9\", \"#7acbbc\", \"#289cc1\", \"#f8fcc9\", \"#53bdc1\", \"#87d0ba\", \"#2ea3c2\", \"#2163aa\", \"#1e8bbd\", \"#f4fbc1\", \"#61c2bf\", \"#87d0ba\", \"#216daf\", \"#1e8bbd\", \"#97d6b9\", \"#61c2bf\", \"#dcf1b2\", \"#48b9c3\", \"#87d0ba\", \"#d5efb3\", \"#f0f9b8\", \"#55bec1\", \"#97d6b9\", \"#b4e2b6\", \"#edf8b1\", \"#289cc1\", \"#2163aa\", \"#3eb3c4\", \"#87d0ba\", \"#c4e8b4\", \"#edf8b1\", \"#216daf\", \"#1f82b9\", \"#53bdc1\", \"#48b9c3\", \"#53bdc1\", \"#289cc1\", \"#36abc3\", \"#36abc3\", \"#e5f5b2\", \"#2fa4c2\", \"#3eb3c4\", \"#3eb3c4\", \"#c4e8b4\", \"#48b9c3\", \"#d5efb3\", \"#289cc1\", \"#48b9c3\", \"#3eb3c4\", \"#55bec1\", \"#b4e2b6\", \"#289cc1\", \"#61c2bf\", \"#2076b3\", \"#a7dcb7\", \"#87d0ba\", \"#289cc1\", \"#fcfed1\", \"#61c2bf\", \"#97d6b9\", \"#2ea3c2\", \"#216daf\", \"#1e8bbd\", \"#f8fcc9\", \"#6dc6be\", \"#97d6b9\", \"#1f78b4\", \"#1e8bbd\", \"#a7dcb7\", \"#61c2bf\", \"#e5f5b2\", \"#d5efb3\", \"#48b9c3\", \"#b4e2b6\", \"#c4e8b4\", \"#dcf1b2\", \"#48b9c3\", \"#1f82b9\", \"#3eb3c4\", \"#a7dcb7\", \"#d5efb3\", \"#dcf1b2\", \"#299dc1\", \"#2195c0\", \"#97d6b9\", \"#61c2bf\", \"#7acbbc\", \"#3eb3c4\", \"#97d6b9\", \"#a7dcb7\", \"#f4fbc1\", \"#36abc3\", \"#2163aa\", \"#289cc1\", \"#87d0ba\", \"#c4e8b4\", \"#f4fbc1\", \"#1f82b9\", \"#1f82b9\", \"#53bdc1\", \"#3db2c4\", \"#53bdc1\", \"#2ea3c2\", \"#61c2bf\", \"#48b9c3\", \"#a7dcb7\", \"#48b9c3\", \"#e5f5b2\", \"#289cc1\", \"#6dc6be\", \"#48b9c3\", \"#55bec1\", \"#97d6b9\", \"#36abc3\", \"#46b8c3\", \"#2076b3\", \"#6dc6be\", \"#a7dcb7\", \"#36abc3\", \"#1f78b4\", \"#2094c0\", \"#fcfed1\", \"#7acbbc\", \"#a7dcb7\", \"#1f82b9\", \"#2195c0\", \"#b4e2b6\", \"#6fc7bd\", \"#ecf7b1\", \"#b4e2b6\", \"#48b9c3\", \"#1e8bbd\", \"#48b9c3\", \"#61c2bf\", \"#f8fcc9\", \"#b4e2b6\", \"#289cc1\", \"#289cc1\", \"#7acbbc\", \"#6dc6be\", \"#36abc3\", \"#3eb3c4\", \"#216daf\", \"#2ea3c2\", \"#97d6b9\", \"#cdebb4\", \"#ffffd9\", \"#1d8dbe\", \"#1e8bbd\", \"#61c2bf\", \"#48b9c3\", \"#61c2bf\", \"#48b9c3\", \"#87d0ba\", \"#2ea3c2\", \"#61c2bf\", \"#3eb3c4\", \"#6fc7bd\", \"#b4e2b6\", \"#289cc1\", \"#61c2bf\", \"#1f80b8\", \"#48b9c3\", \"#216daf\", \"#2195c0\", \"#216daf\", \"#edf8b1\", \"#c4e8b4\", \"#1f82b9\", \"#216daf\", \"#2259a6\", \"#1e8bbd\", \"#53bdc1\", \"#2ea3c2\", \"#3eb3c4\", \"#97d6b9\", \"#3db2c4\", \"#46b8c3\", \"#2076b3\", \"#6dc6be\", \"#97d6b9\", \"#1f78b4\", \"#1e8bbd\", \"#a7dcb7\", \"#61c2bf\", \"#e5f5b2\", \"#cdebb4\", \"#36abc3\", \"#2ea3c2\", \"#89d1ba\", \"#7acbbc\", \"#3db2c4\", \"#1d8dbe\", \"#1e8bbd\", \"#61c2bf\", \"#48b9c3\", \"#61c2bf\", \"#b4e2b6\", \"#2076b3\", \"#2076b3\", \"#2351a2\", \"#2094c0\", \"#3db2c4\", \"#2076b3\", \"#61c2bf\", \"#cdebb4\", \"#36abc3\"], \"size\": 3}, \"mode\": \"markers\", \"showlegend\": false, \"text\": [\"unit 0 vs 1 (6.69% diff)\", \"unit 0 vs 2 (7.52% diff)\", \"unit 0 vs 3 (4.18% diff)\", \"unit 0 vs 4 (6.39% diff)\", \"unit 0 vs 5 (6.67% diff)\", \"unit 0 vs 6 (5.01% diff)\", \"unit 0 vs 7 (4.46% diff)\", \"unit 0 vs 8 (10.58% diff)\", \"unit 0 vs 9 (7.78% diff)\", \"unit 0 vs 10 (6.41% diff)\", \"unit 0 vs 11 (6.39% diff)\", \"unit 0 vs 12 (7.5% diff)\", \"unit 0 vs 13 (0.0% diff)\", \"unit 0 vs 14 (6.94% diff)\", \"unit 0 vs 15 (4.53% diff)\", \"unit 0 vs 16 (4.46% diff)\", \"unit 0 vs 17 (6.11% diff)\", \"unit 0 vs 18 (8.06% diff)\", \"unit 0 vs 19 (4.46% diff)\", \"unit 0 vs 20 (6.39% diff)\", \"unit 0 vs 21 (7.22% diff)\", \"unit 0 vs 22 (7.78% diff)\", \"unit 0 vs 23 (4.47% diff)\", \"unit 0 vs 24 (6.11% diff)\", \"unit 0 vs 25 (6.7% diff)\", \"unit 0 vs 26 (7.5% diff)\", \"unit 0 vs 27 (4.75% diff)\", \"unit 0 vs 28 (6.65% diff)\", \"unit 0 vs 29 (4.76% diff)\", \"unit 0 vs 30 (6.39% diff)\", \"unit 0 vs 31 (6.69% diff)\", \"unit 0 vs 32 (7.5% diff)\", \"unit 0 vs 33 (6.09% diff)\", \"unit 0 vs 34 (4.74% diff)\", \"unit 0 vs 35 (6.96% diff)\", \"unit 0 vs 36 (6.15% diff)\", \"unit 0 vs 37 (7.5% diff)\", \"unit 1 vs 2 (1.96% diff)\", \"unit 1 vs 3 (4.17% diff)\", \"unit 1 vs 4 (3.06% diff)\", \"unit 1 vs 5 (5.82% diff)\", \"unit 1 vs 6 (6.11% diff)\", \"unit 1 vs 7 (5.56% diff)\", \"unit 1 vs 8 (8.36% diff)\", \"unit 1 vs 9 (2.23% diff)\", \"unit 1 vs 10 (2.23% diff)\", \"unit 1 vs 11 (4.18% diff)\", \"unit 1 vs 12 (2.51% diff)\", \"unit 1 vs 13 (6.69% diff)\", \"unit 1 vs 14 (0.84% diff)\", \"unit 1 vs 15 (4.47% diff)\", \"unit 1 vs 16 (4.44% diff)\", \"unit 1 vs 17 (3.07% diff)\", \"unit 1 vs 18 (1.96% diff)\", \"unit 1 vs 19 (4.44% diff)\", \"unit 1 vs 20 (3.07% diff)\", \"unit 1 vs 21 (1.96% diff)\", \"unit 1 vs 22 (1.96% diff)\", \"unit 1 vs 23 (3.9% diff)\", \"unit 1 vs 24 (2.79% diff)\", \"unit 1 vs 25 (3.34% diff)\", \"unit 1 vs 26 (2.23% diff)\", \"unit 1 vs 27 (5.01% diff)\", \"unit 1 vs 28 (6.91% diff)\", \"unit 1 vs 29 (4.46% diff)\", \"unit 1 vs 30 (3.07% diff)\", \"unit 1 vs 31 (3.06% diff)\", \"unit 1 vs 32 (2.23% diff)\", \"unit 1 vs 33 (6.63% diff)\", \"unit 1 vs 34 (5.83% diff)\", \"unit 1 vs 35 (3.63% diff)\", \"unit 1 vs 36 (4.19% diff)\", \"unit 1 vs 37 (4.19% diff)\", \"unit 2 vs 3 (5.54% diff)\", \"unit 2 vs 4 (3.35% diff)\", \"unit 2 vs 5 (6.65% diff)\", \"unit 2 vs 6 (7.2% diff)\", \"unit 2 vs 7 (6.65% diff)\", \"unit 2 vs 8 (8.66% diff)\", \"unit 2 vs 9 (1.12% diff)\", \"unit 2 vs 10 (3.63% diff)\", \"unit 2 vs 11 (4.74% diff)\", \"unit 2 vs 12 (2.51% diff)\", \"unit 2 vs 13 (7.52% diff)\", \"unit 2 vs 14 (1.68% diff)\", \"unit 2 vs 15 (3.08% diff)\", \"unit 2 vs 16 (5.82% diff)\", \"unit 2 vs 17 (3.64% diff)\", \"unit 2 vs 18 (1.12% diff)\", \"unit 2 vs 19 (5.82% diff)\", \"unit 2 vs 20 (3.36% diff)\", \"unit 2 vs 21 (2.51% diff)\", \"unit 2 vs 22 (0.84% diff)\", \"unit 2 vs 23 (5.56% diff)\", \"unit 2 vs 24 (3.08% diff)\", \"unit 2 vs 25 (3.07% diff)\", \"unit 2 vs 26 (1.12% diff)\", \"unit 2 vs 27 (5.83% diff)\", \"unit 2 vs 28 (7.73% diff)\", \"unit 2 vs 29 (6.39% diff)\", \"unit 2 vs 30 (3.36% diff)\", \"unit 2 vs 31 (3.06% diff)\", \"unit 2 vs 32 (1.12% diff)\", \"unit 2 vs 33 (7.18% diff)\", \"unit 2 vs 34 (6.93% diff)\", \"unit 2 vs 35 (5.03% diff)\", \"unit 2 vs 36 (5.29% diff)\", \"unit 2 vs 37 (4.48% diff)\", \"unit 3 vs 4 (6.08% diff)\", \"unit 3 vs 5 (3.89% diff)\", \"unit 3 vs 6 (3.06% diff)\", \"unit 3 vs 7 (2.51% diff)\", \"unit 3 vs 8 (8.89% diff)\", \"unit 3 vs 9 (5.82% diff)\", \"unit 3 vs 10 (4.72% diff)\", \"unit 3 vs 11 (5.0% diff)\", \"unit 3 vs 12 (5.26% diff)\", \"unit 3 vs 13 (4.18% diff)\", \"unit 3 vs 14 (4.43% diff)\", \"unit 3 vs 15 (8.03% diff)\", \"unit 3 vs 16 (0.28% diff)\", \"unit 3 vs 17 (6.09% diff)\", \"unit 3 vs 18 (4.99% diff)\", \"unit 3 vs 19 (0.28% diff)\", \"unit 3 vs 20 (6.09% diff)\", \"unit 3 vs 21 (5.54% diff)\", \"unit 3 vs 22 (5.54% diff)\", \"unit 3 vs 23 (1.39% diff)\", \"unit 3 vs 24 (5.82% diff)\", \"unit 3 vs 25 (5.28% diff)\", \"unit 3 vs 26 (5.26% diff)\", \"unit 3 vs 27 (2.51% diff)\", \"unit 3 vs 28 (4.99% diff)\", \"unit 3 vs 29 (1.95% diff)\", \"unit 3 vs 30 (6.09% diff)\", \"unit 3 vs 31 (5.0% diff)\", \"unit 3 vs 32 (5.26% diff)\", \"unit 3 vs 33 (4.71% diff)\", \"unit 3 vs 34 (2.79% diff)\", \"unit 3 vs 35 (6.11% diff)\", \"unit 3 vs 36 (4.47% diff)\", \"unit 3 vs 37 (7.2% diff)\", \"unit 4 vs 5 (6.65% diff)\", \"unit 4 vs 6 (7.2% diff)\", \"unit 4 vs 7 (6.65% diff)\", \"unit 4 vs 8 (8.1% diff)\", \"unit 4 vs 9 (3.9% diff)\", \"unit 4 vs 10 (3.35% diff)\", \"unit 4 vs 11 (4.17% diff)\", \"unit 4 vs 12 (3.9% diff)\", \"unit 4 vs 13 (6.39% diff)\", \"unit 4 vs 14 (2.79% diff)\", \"unit 4 vs 15 (4.19% diff)\", \"unit 4 vs 16 (6.35% diff)\", \"unit 4 vs 17 (0.84% diff)\", \"unit 4 vs 18 (3.9% diff)\", \"unit 4 vs 19 (6.35% diff)\", \"unit 4 vs 20 (0.56% diff)\", \"unit 4 vs 21 (3.35% diff)\", \"unit 4 vs 22 (3.9% diff)\", \"unit 4 vs 23 (6.37% diff)\", \"unit 4 vs 24 (0.28% diff)\", \"unit 4 vs 25 (4.74% diff)\", \"unit 4 vs 26 (3.62% diff)\", \"unit 4 vs 27 (6.11% diff)\", \"unit 4 vs 28 (7.73% diff)\", \"unit 4 vs 29 (6.93% diff)\", \"unit 4 vs 30 (0.56% diff)\", \"unit 4 vs 31 (4.46% diff)\", \"unit 4 vs 32 (3.62% diff)\", \"unit 4 vs 33 (7.46% diff)\", \"unit 4 vs 34 (6.93% diff)\", \"unit 4 vs 35 (3.35% diff)\", \"unit 4 vs 36 (4.72% diff)\", \"unit 4 vs 37 (1.68% diff)\", \"unit 5 vs 6 (5.28% diff)\", \"unit 5 vs 7 (4.72% diff)\", \"unit 5 vs 8 (9.72% diff)\", \"unit 5 vs 9 (7.2% diff)\", \"unit 5 vs 10 (5.28% diff)\", \"unit 5 vs 11 (5.82% diff)\", \"unit 5 vs 12 (6.65% diff)\", \"unit 5 vs 13 (6.67% diff)\", \"unit 5 vs 14 (5.54% diff)\", \"unit 5 vs 15 (8.86% diff)\", \"unit 5 vs 16 (4.17% diff)\", \"unit 5 vs 17 (6.93% diff)\", \"unit 5 vs 18 (6.37% diff)\", \"unit 5 vs 19 (4.17% diff)\", \"unit 5 vs 20 (6.65% diff)\", \"unit 5 vs 21 (5.82% diff)\", \"unit 5 vs 22 (6.93% diff)\", \"unit 5 vs 23 (4.17% diff)\", \"unit 5 vs 24 (6.37% diff)\", \"unit 5 vs 25 (5.83% diff)\", \"unit 5 vs 26 (6.65% diff)\", \"unit 5 vs 27 (3.06% diff)\", \"unit 5 vs 28 (3.34% diff)\", \"unit 5 vs 29 (4.72% diff)\", \"unit 5 vs 30 (6.65% diff)\", \"unit 5 vs 31 (5.56% diff)\", \"unit 5 vs 32 (6.65% diff)\", \"unit 5 vs 33 (3.06% diff)\", \"unit 5 vs 34 (5.0% diff)\", \"unit 5 vs 35 (6.13% diff)\", \"unit 5 vs 36 (6.67% diff)\", \"unit 5 vs 37 (7.22% diff)\", \"unit 6 vs 7 (0.56% diff)\", \"unit 6 vs 8 (9.44% diff)\", \"unit 6 vs 9 (7.76% diff)\", \"unit 6 vs 10 (6.11% diff)\", \"unit 6 vs 11 (6.37% diff)\", \"unit 6 vs 12 (7.2% diff)\", \"unit 6 vs 13 (5.01% diff)\", \"unit 6 vs 14 (6.37% diff)\", \"unit 6 vs 15 (9.42% diff)\", \"unit 6 vs 16 (2.79% diff)\", \"unit 6 vs 17 (7.2% diff)\", \"unit 6 vs 18 (7.48% diff)\", \"unit 6 vs 19 (3.34% diff)\", \"unit 6 vs 20 (7.2% diff)\", \"unit 6 vs 21 (6.93% diff)\", \"unit 6 vs 22 (7.48% diff)\", \"unit 6 vs 23 (3.9% diff)\", \"unit 6 vs 24 (6.93% diff)\", \"unit 6 vs 25 (6.67% diff)\", \"unit 6 vs 26 (7.2% diff)\", \"unit 6 vs 27 (3.35% diff)\", \"unit 6 vs 28 (2.51% diff)\", \"unit 6 vs 29 (3.9% diff)\", \"unit 6 vs 30 (7.2% diff)\", \"unit 6 vs 31 (6.39% diff)\", \"unit 6 vs 32 (7.2% diff)\", \"unit 6 vs 33 (3.34% diff)\", \"unit 6 vs 34 (0.84% diff)\", \"unit 6 vs 35 (6.94% diff)\", \"unit 6 vs 36 (5.85% diff)\", \"unit 6 vs 37 (7.76% diff)\", \"unit 7 vs 8 (8.89% diff)\", \"unit 7 vs 9 (7.2% diff)\", \"unit 7 vs 10 (5.56% diff)\", \"unit 7 vs 11 (5.82% diff)\", \"unit 7 vs 12 (6.65% diff)\", \"unit 7 vs 13 (4.46% diff)\", \"unit 7 vs 14 (5.82% diff)\", \"unit 7 vs 15 (8.86% diff)\", \"unit 7 vs 16 (2.78% diff)\", \"unit 7 vs 17 (6.65% diff)\", \"unit 7 vs 18 (6.93% diff)\", \"unit 7 vs 19 (2.79% diff)\", \"unit 7 vs 20 (6.65% diff)\", \"unit 7 vs 21 (6.37% diff)\", \"unit 7 vs 22 (6.93% diff)\", \"unit 7 vs 23 (3.34% diff)\", \"unit 7 vs 24 (6.37% diff)\", \"unit 7 vs 25 (6.11% diff)\", \"unit 7 vs 26 (6.65% diff)\", \"unit 7 vs 27 (2.79% diff)\", \"unit 7 vs 28 (2.51% diff)\", \"unit 7 vs 29 (3.34% diff)\", \"unit 7 vs 30 (6.65% diff)\", \"unit 7 vs 31 (5.83% diff)\", \"unit 7 vs 32 (6.65% diff)\", \"unit 7 vs 33 (2.79% diff)\", \"unit 7 vs 34 (0.28% diff)\", \"unit 7 vs 35 (6.39% diff)\", \"unit 7 vs 36 (5.29% diff)\", \"unit 7 vs 37 (7.2% diff)\", \"unit 8 vs 9 (9.47% diff)\", \"unit 8 vs 10 (7.54% diff)\", \"unit 8 vs 11 (8.64% diff)\", \"unit 8 vs 12 (8.64% diff)\", \"unit 8 vs 13 (10.58% diff)\", \"unit 8 vs 14 (8.08% diff)\", \"unit 8 vs 15 (10.86% diff)\", \"unit 8 vs 16 (9.17% diff)\", \"unit 8 vs 17 (8.38% diff)\", \"unit 8 vs 18 (9.19% diff)\", \"unit 8 vs 19 (9.17% diff)\", \"unit 8 vs 20 (8.1% diff)\", \"unit 8 vs 21 (8.64% diff)\", \"unit 8 vs 22 (9.19% diff)\", \"unit 8 vs 23 (9.19% diff)\", \"unit 8 vs 24 (7.82% diff)\", \"unit 8 vs 25 (8.91% diff)\", \"unit 8 vs 26 (8.91% diff)\", \"unit 8 vs 27 (8.91% diff)\", \"unit 8 vs 28 (9.7% diff)\", \"unit 8 vs 29 (9.19% diff)\", \"unit 8 vs 30 (8.1% diff)\", \"unit 8 vs 31 (8.64% diff)\", \"unit 8 vs 32 (8.91% diff)\", \"unit 8 vs 33 (10.53% diff)\", \"unit 8 vs 34 (9.17% diff)\", \"unit 8 vs 35 (8.66% diff)\", \"unit 8 vs 36 (8.64% diff)\", \"unit 8 vs 37 (8.66% diff)\", \"unit 9 vs 10 (3.63% diff)\", \"unit 9 vs 11 (5.01% diff)\", \"unit 9 vs 12 (2.51% diff)\", \"unit 9 vs 13 (7.78% diff)\", \"unit 9 vs 14 (1.96% diff)\", \"unit 9 vs 15 (3.35% diff)\", \"unit 9 vs 16 (6.09% diff)\", \"unit 9 vs 17 (4.19% diff)\", \"unit 9 vs 18 (1.4% diff)\", \"unit 9 vs 19 (6.09% diff)\", \"unit 9 vs 20 (3.91% diff)\", \"unit 9 vs 21 (2.51% diff)\", \"unit 9 vs 22 (0.84% diff)\", \"unit 9 vs 23 (5.83% diff)\", \"unit 9 vs 24 (3.63% diff)\", \"unit 9 vs 25 (3.62% diff)\", \"unit 9 vs 26 (1.12% diff)\", \"unit 9 vs 27 (6.11% diff)\", \"unit 9 vs 28 (8.29% diff)\", \"unit 9 vs 29 (6.67% diff)\", \"unit 9 vs 30 (3.91% diff)\", \"unit 9 vs 31 (3.06% diff)\", \"unit 9 vs 32 (1.12% diff)\", \"unit 9 vs 33 (7.46% diff)\", \"unit 9 vs 34 (7.48% diff)\", \"unit 9 vs 35 (5.03% diff)\", \"unit 9 vs 36 (5.57% diff)\", \"unit 9 vs 37 (4.48% diff)\", \"unit 10 vs 11 (3.61% diff)\", \"unit 10 vs 12 (3.63% diff)\", \"unit 10 vs 13 (6.41% diff)\", \"unit 10 vs 14 (2.51% diff)\", \"unit 10 vs 15 (5.31% diff)\", \"unit 10 vs 16 (5.0% diff)\", \"unit 10 vs 17 (3.63% diff)\", \"unit 10 vs 18 (3.63% diff)\", \"unit 10 vs 19 (5.0% diff)\", \"unit 10 vs 20 (3.35% diff)\", \"unit 10 vs 21 (2.51% diff)\", \"unit 10 vs 22 (3.63% diff)\", \"unit 10 vs 23 (4.46% diff)\", \"unit 10 vs 24 (3.07% diff)\", \"unit 10 vs 25 (2.79% diff)\", \"unit 10 vs 26 (3.35% diff)\", \"unit 10 vs 27 (5.01% diff)\", \"unit 10 vs 28 (6.37% diff)\", \"unit 10 vs 29 (5.01% diff)\", \"unit 10 vs 30 (3.35% diff)\", \"unit 10 vs 31 (2.51% diff)\", \"unit 10 vs 32 (3.35% diff)\", \"unit 10 vs 33 (6.09% diff)\", \"unit 10 vs 34 (5.83% diff)\", \"unit 10 vs 35 (2.79% diff)\", \"unit 10 vs 36 (4.17% diff)\", \"unit 10 vs 37 (4.47% diff)\", \"unit 11 vs 12 (5.01% diff)\", \"unit 11 vs 13 (6.39% diff)\", \"unit 11 vs 14 (3.9% diff)\", \"unit 11 vs 15 (6.39% diff)\", \"unit 11 vs 16 (5.28% diff)\", \"unit 11 vs 17 (4.44% diff)\", \"unit 11 vs 18 (5.01% diff)\", \"unit 11 vs 19 (5.28% diff)\", \"unit 11 vs 20 (4.17% diff)\", \"unit 11 vs 21 (4.46% diff)\", \"unit 11 vs 22 (5.01% diff)\", \"unit 11 vs 23 (5.29% diff)\", \"unit 11 vs 24 (3.89% diff)\", \"unit 11 vs 25 (4.18% diff)\", \"unit 11 vs 26 (4.74% diff)\", \"unit 11 vs 27 (5.28% diff)\", \"unit 11 vs 28 (6.91% diff)\", \"unit 11 vs 29 (5.85% diff)\", \"unit 11 vs 30 (4.17% diff)\", \"unit 11 vs 31 (3.9% diff)\", \"unit 11 vs 32 (4.74% diff)\", \"unit 11 vs 33 (6.63% diff)\", \"unit 11 vs 34 (6.09% diff)\", \"unit 11 vs 35 (4.44% diff)\", \"unit 11 vs 36 (2.23% diff)\", \"unit 11 vs 37 (5.28% diff)\", \"unit 12 vs 13 (7.5% diff)\", \"unit 12 vs 14 (1.68% diff)\", \"unit 12 vs 15 (5.03% diff)\", \"unit 12 vs 16 (5.54% diff)\", \"unit 12 vs 17 (4.19% diff)\", \"unit 12 vs 18 (2.23% diff)\", \"unit 12 vs 19 (5.54% diff)\", \"unit 12 vs 20 (3.91% diff)\", \"unit 12 vs 21 (1.68% diff)\", \"unit 12 vs 22 (2.23% diff)\", \"unit 12 vs 23 (5.56% diff)\", \"unit 12 vs 24 (3.63% diff)\", \"unit 12 vs 25 (3.9% diff)\", \"unit 12 vs 26 (1.96% diff)\", \"unit 12 vs 27 (5.56% diff)\", \"unit 12 vs 28 (7.73% diff)\", \"unit 12 vs 29 (5.83% diff)\", \"unit 12 vs 30 (3.91% diff)\", \"unit 12 vs 31 (3.34% diff)\", \"unit 12 vs 32 (1.96% diff)\", \"unit 12 vs 33 (6.91% diff)\", \"unit 12 vs 34 (6.93% diff)\", \"unit 12 vs 35 (5.03% diff)\", \"unit 12 vs 36 (5.01% diff)\", \"unit 12 vs 37 (5.03% diff)\", \"unit 13 vs 14 (6.94% diff)\", \"unit 13 vs 15 (4.53% diff)\", \"unit 13 vs 16 (4.46% diff)\", \"unit 13 vs 17 (6.11% diff)\", \"unit 13 vs 18 (8.06% diff)\", \"unit 13 vs 19 (4.46% diff)\", \"unit 13 vs 20 (6.39% diff)\", \"unit 13 vs 21 (7.22% diff)\", \"unit 13 vs 22 (7.78% diff)\", \"unit 13 vs 23 (4.47% diff)\", \"unit 13 vs 24 (6.11% diff)\", \"unit 13 vs 25 (6.7% diff)\", \"unit 13 vs 26 (7.5% diff)\", \"unit 13 vs 27 (4.75% diff)\", \"unit 13 vs 28 (6.65% diff)\", \"unit 13 vs 29 (4.76% diff)\", \"unit 13 vs 30 (6.39% diff)\", \"unit 13 vs 31 (6.69% diff)\", \"unit 13 vs 32 (7.5% diff)\", \"unit 13 vs 33 (6.09% diff)\", \"unit 13 vs 34 (4.74% diff)\", \"unit 13 vs 35 (6.96% diff)\", \"unit 13 vs 36 (6.15% diff)\", \"unit 13 vs 37 (7.5% diff)\", \"unit 14 vs 15 (4.19% diff)\", \"unit 14 vs 16 (4.71% diff)\", \"unit 14 vs 17 (3.07% diff)\", \"unit 14 vs 18 (1.68% diff)\", \"unit 14 vs 19 (4.71% diff)\", \"unit 14 vs 20 (2.79% diff)\", \"unit 14 vs 21 (2.23% diff)\", \"unit 14 vs 22 (1.68% diff)\", \"unit 14 vs 23 (4.72% diff)\", \"unit 14 vs 24 (2.51% diff)\", \"unit 14 vs 25 (3.62% diff)\", \"unit 14 vs 26 (1.96% diff)\", \"unit 14 vs 27 (5.28% diff)\", \"unit 14 vs 28 (6.63% diff)\", \"unit 14 vs 29 (5.28% diff)\", \"unit 14 vs 30 (2.79% diff)\", \"unit 14 vs 31 (3.34% diff)\", \"unit 14 vs 32 (1.96% diff)\", \"unit 14 vs 33 (6.35% diff)\", \"unit 14 vs 34 (6.09% diff)\", \"unit 14 vs 35 (3.91% diff)\", \"unit 14 vs 36 (4.46% diff)\", \"unit 14 vs 37 (3.91% diff)\", \"unit 15 vs 16 (8.31% diff)\", \"unit 15 vs 17 (4.19% diff)\", \"unit 15 vs 18 (3.63% diff)\", \"unit 15 vs 19 (8.31% diff)\", \"unit 15 vs 20 (4.19% diff)\", \"unit 15 vs 21 (4.47% diff)\", \"unit 15 vs 22 (3.35% diff)\", \"unit 15 vs 23 (8.06% diff)\", \"unit 15 vs 24 (3.91% diff)\", \"unit 15 vs 25 (5.03% diff)\", \"unit 15 vs 26 (3.63% diff)\", \"unit 15 vs 27 (8.06% diff)\", \"unit 15 vs 28 (9.94% diff)\", \"unit 15 vs 29 (8.64% diff)\", \"unit 15 vs 30 (4.19% diff)\", \"unit 15 vs 31 (5.01% diff)\", \"unit 15 vs 32 (3.63% diff)\", \"unit 15 vs 33 (9.39% diff)\", \"unit 15 vs 34 (9.14% diff)\", \"unit 15 vs 35 (5.87% diff)\", \"unit 15 vs 36 (6.69% diff)\", \"unit 15 vs 37 (5.31% diff)\", \"unit 16 vs 17 (6.37% diff)\", \"unit 16 vs 18 (5.26% diff)\", \"unit 16 vs 19 (0.56% diff)\", \"unit 16 vs 20 (6.37% diff)\", \"unit 16 vs 21 (5.82% diff)\", \"unit 16 vs 22 (5.82% diff)\", \"unit 16 vs 23 (1.67% diff)\", \"unit 16 vs 24 (6.09% diff)\", \"unit 16 vs 25 (5.56% diff)\", \"unit 16 vs 26 (5.54% diff)\", \"unit 16 vs 27 (2.79% diff)\", \"unit 16 vs 28 (4.71% diff)\", \"unit 16 vs 29 (2.23% diff)\", \"unit 16 vs 30 (6.37% diff)\", \"unit 16 vs 31 (5.28% diff)\", \"unit 16 vs 32 (5.54% diff)\", \"unit 16 vs 33 (4.97% diff)\", \"unit 16 vs 34 (3.06% diff)\", \"unit 16 vs 35 (6.39% diff)\", \"unit 16 vs 36 (4.75% diff)\", \"unit 16 vs 37 (7.48% diff)\", \"unit 17 vs 18 (4.19% diff)\", \"unit 17 vs 19 (6.37% diff)\", \"unit 17 vs 20 (0.84% diff)\", \"unit 17 vs 21 (3.63% diff)\", \"unit 17 vs 22 (4.19% diff)\", \"unit 17 vs 23 (6.39% diff)\", \"unit 17 vs 24 (0.56% diff)\", \"unit 17 vs 25 (5.01% diff)\", \"unit 17 vs 26 (3.91% diff)\", \"unit 17 vs 27 (6.11% diff)\", \"unit 17 vs 28 (8.01% diff)\", \"unit 17 vs 29 (6.94% diff)\", \"unit 17 vs 30 (0.84% diff)\", \"unit 17 vs 31 (4.74% diff)\", \"unit 17 vs 32 (3.91% diff)\", \"unit 17 vs 33 (7.73% diff)\", \"unit 17 vs 34 (6.93% diff)\", \"unit 17 vs 35 (3.63% diff)\", \"unit 17 vs 36 (4.72% diff)\", \"unit 17 vs 37 (1.96% diff)\", \"unit 18 vs 19 (5.26% diff)\", \"unit 18 vs 20 (3.91% diff)\", \"unit 18 vs 21 (2.23% diff)\", \"unit 18 vs 22 (1.12% diff)\", \"unit 18 vs 23 (5.0% diff)\", \"unit 18 vs 24 (3.63% diff)\", \"unit 18 vs 25 (3.06% diff)\", \"unit 18 vs 26 (1.4% diff)\", \"unit 18 vs 27 (6.39% diff)\", \"unit 18 vs 28 (8.01% diff)\", \"unit 18 vs 29 (5.56% diff)\", \"unit 18 vs 30 (3.91% diff)\", \"unit 18 vs 31 (2.79% diff)\", \"unit 18 vs 32 (1.4% diff)\", \"unit 18 vs 33 (7.73% diff)\", \"unit 18 vs 34 (7.2% diff)\", \"unit 18 vs 35 (5.03% diff)\", \"unit 18 vs 36 (5.29% diff)\", \"unit 18 vs 37 (5.03% diff)\", \"unit 19 vs 20 (6.37% diff)\", \"unit 19 vs 21 (5.82% diff)\", \"unit 19 vs 22 (5.82% diff)\", \"unit 19 vs 23 (1.67% diff)\", \"unit 19 vs 24 (6.09% diff)\", \"unit 19 vs 25 (5.56% diff)\", \"unit 19 vs 26 (5.54% diff)\", \"unit 19 vs 27 (2.79% diff)\", \"unit 19 vs 28 (5.26% diff)\", \"unit 19 vs 29 (2.23% diff)\", \"unit 19 vs 30 (6.37% diff)\", \"unit 19 vs 31 (5.28% diff)\", \"unit 19 vs 32 (5.54% diff)\", \"unit 19 vs 33 (4.99% diff)\", \"unit 19 vs 34 (3.06% diff)\", \"unit 19 vs 35 (6.39% diff)\", \"unit 19 vs 36 (4.75% diff)\", \"unit 19 vs 37 (7.48% diff)\", \"unit 20 vs 21 (3.35% diff)\", \"unit 20 vs 22 (3.91% diff)\", \"unit 20 vs 23 (6.39% diff)\", \"unit 20 vs 24 (0.28% diff)\", \"unit 20 vs 25 (4.74% diff)\", \"unit 20 vs 26 (3.63% diff)\", \"unit 20 vs 27 (6.11% diff)\", \"unit 20 vs 28 (7.73% diff)\", \"unit 20 vs 29 (6.94% diff)\", \"unit 20 vs 30 (0.56% diff)\", \"unit 20 vs 31 (4.46% diff)\", \"unit 20 vs 32 (3.63% diff)\", \"unit 20 vs 33 (7.46% diff)\", \"unit 20 vs 34 (6.93% diff)\", \"unit 20 vs 35 (3.35% diff)\", \"unit 20 vs 36 (4.72% diff)\", \"unit 20 vs 37 (1.68% diff)\", \"unit 21 vs 22 (2.23% diff)\", \"unit 21 vs 23 (5.28% diff)\", \"unit 21 vs 24 (3.07% diff)\", \"unit 21 vs 25 (2.79% diff)\", \"unit 21 vs 26 (1.96% diff)\", \"unit 21 vs 27 (5.28% diff)\", \"unit 21 vs 28 (7.18% diff)\", \"unit 21 vs 29 (5.56% diff)\", \"unit 21 vs 30 (3.35% diff)\", \"unit 21 vs 31 (2.23% diff)\", \"unit 21 vs 32 (1.96% diff)\", \"unit 21 vs 33 (6.35% diff)\", \"unit 21 vs 34 (6.65% diff)\", \"unit 21 vs 35 (3.63% diff)\", \"unit 21 vs 36 (4.74% diff)\", \"unit 21 vs 37 (4.19% diff)\", \"unit 22 vs 23 (5.56% diff)\", \"unit 22 vs 24 (3.63% diff)\", \"unit 22 vs 25 (3.34% diff)\", \"unit 22 vs 26 (0.84% diff)\", \"unit 22 vs 27 (5.83% diff)\", \"unit 22 vs 28 (8.01% diff)\", \"unit 22 vs 29 (6.39% diff)\", \"unit 22 vs 30 (3.91% diff)\", \"unit 22 vs 31 (2.79% diff)\", \"unit 22 vs 32 (0.84% diff)\", \"unit 22 vs 33 (7.18% diff)\", \"unit 22 vs 34 (7.2% diff)\", \"unit 22 vs 35 (5.03% diff)\", \"unit 22 vs 36 (5.57% diff)\", \"unit 22 vs 37 (5.03% diff)\", \"unit 23 vs 24 (6.11% diff)\", \"unit 23 vs 25 (4.74% diff)\", \"unit 23 vs 26 (5.28% diff)\", \"unit 23 vs 27 (3.35% diff)\", \"unit 23 vs 28 (5.26% diff)\", \"unit 23 vs 29 (1.68% diff)\", \"unit 23 vs 30 (6.39% diff)\", \"unit 23 vs 31 (4.46% diff)\", \"unit 23 vs 32 (5.28% diff)\", \"unit 23 vs 33 (4.99% diff)\", \"unit 23 vs 34 (3.62% diff)\", \"unit 23 vs 35 (5.85% diff)\", \"unit 23 vs 36 (5.31% diff)\", \"unit 23 vs 37 (7.5% diff)\", \"unit 24 vs 25 (4.46% diff)\", \"unit 24 vs 26 (3.35% diff)\", \"unit 24 vs 27 (5.83% diff)\", \"unit 24 vs 28 (7.46% diff)\", \"unit 24 vs 29 (6.67% diff)\", \"unit 24 vs 30 (0.28% diff)\", \"unit 24 vs 31 (4.18% diff)\", \"unit 24 vs 32 (3.35% diff)\", \"unit 24 vs 33 (7.18% diff)\", \"unit 24 vs 34 (6.65% diff)\", \"unit 24 vs 35 (3.07% diff)\", \"unit 24 vs 36 (4.44% diff)\", \"unit 24 vs 37 (1.4% diff)\", \"unit 25 vs 26 (3.06% diff)\", \"unit 25 vs 27 (5.29% diff)\", \"unit 25 vs 28 (6.93% diff)\", \"unit 25 vs 29 (5.29% diff)\", \"unit 25 vs 30 (4.74% diff)\", \"unit 25 vs 31 (0.56% diff)\", \"unit 25 vs 32 (3.06% diff)\", \"unit 25 vs 33 (6.37% diff)\", \"unit 25 vs 34 (6.39% diff)\", \"unit 25 vs 35 (4.18% diff)\", \"unit 25 vs 36 (4.46% diff)\", \"unit 25 vs 37 (5.85% diff)\", \"unit 26 vs 27 (5.56% diff)\", \"unit 26 vs 28 (7.73% diff)\", \"unit 26 vs 29 (6.11% diff)\", \"unit 26 vs 30 (3.63% diff)\", \"unit 26 vs 31 (2.51% diff)\", \"unit 26 vs 32 (0.0% diff)\", \"unit 26 vs 33 (6.91% diff)\", \"unit 26 vs 34 (6.93% diff)\", \"unit 26 vs 35 (4.75% diff)\", \"unit 26 vs 36 (5.29% diff)\", \"unit 26 vs 37 (4.75% diff)\", \"unit 27 vs 28 (5.28% diff)\", \"unit 27 vs 29 (3.91% diff)\", \"unit 27 vs 30 (6.11% diff)\", \"unit 27 vs 31 (4.74% diff)\", \"unit 27 vs 32 (5.56% diff)\", \"unit 27 vs 33 (4.44% diff)\", \"unit 27 vs 34 (3.07% diff)\", \"unit 27 vs 35 (6.41% diff)\", \"unit 27 vs 36 (4.75% diff)\", \"unit 27 vs 37 (7.22% diff)\", \"unit 28 vs 29 (5.26% diff)\", \"unit 28 vs 30 (7.73% diff)\", \"unit 28 vs 31 (6.65% diff)\", \"unit 28 vs 32 (7.73% diff)\", \"unit 28 vs 33 (1.4% diff)\", \"unit 28 vs 34 (2.79% diff)\", \"unit 28 vs 35 (7.2% diff)\", \"unit 28 vs 36 (7.76% diff)\", \"unit 28 vs 37 (8.29% diff)\", \"unit 29 vs 30 (6.94% diff)\", \"unit 29 vs 31 (5.01% diff)\", \"unit 29 vs 32 (6.11% diff)\", \"unit 29 vs 33 (5.54% diff)\", \"unit 29 vs 34 (3.62% diff)\", \"unit 29 vs 35 (5.59% diff)\", \"unit 29 vs 36 (5.32% diff)\", \"unit 29 vs 37 (7.5% diff)\", \"unit 30 vs 31 (4.46% diff)\", \"unit 30 vs 32 (3.63% diff)\", \"unit 30 vs 33 (7.46% diff)\", \"unit 30 vs 34 (6.93% diff)\", \"unit 30 vs 35 (3.35% diff)\", \"unit 30 vs 36 (4.72% diff)\", \"unit 30 vs 37 (1.68% diff)\", \"unit 31 vs 32 (2.51% diff)\", \"unit 31 vs 33 (5.82% diff)\", \"unit 31 vs 34 (6.11% diff)\", \"unit 31 vs 35 (3.9% diff)\", \"unit 31 vs 36 (4.18% diff)\", \"unit 31 vs 37 (5.57% diff)\", \"unit 32 vs 33 (6.91% diff)\", \"unit 32 vs 34 (6.93% diff)\", \"unit 32 vs 35 (4.75% diff)\", \"unit 32 vs 36 (5.29% diff)\", \"unit 32 vs 37 (4.75% diff)\", \"unit 33 vs 34 (3.06% diff)\", \"unit 33 vs 35 (7.48% diff)\", \"unit 33 vs 36 (7.48% diff)\", \"unit 33 vs 37 (8.56% diff)\", \"unit 34 vs 35 (6.67% diff)\", \"unit 34 vs 36 (5.57% diff)\", \"unit 34 vs 37 (7.48% diff)\", \"unit 35 vs 36 (4.74% diff)\", \"unit 35 vs 37 (2.53% diff)\", \"unit 36 vs 37 (5.83% diff)\"], \"type\": \"scatter\", \"x\": [362.5, 362.5, 362.5, 362.5, 362.5, 362.5, 362.5, 362.5, 362.5, 362.5, 362.5, 362.5, 362.5, 362.5, 362.5, 362.5, 362.5, 362.5, 362.5, 362.5, 362.5, 362.5, 362.5, 362.5, 362.5, 362.5, 362.5, 362.5, 362.5, 362.5, 362.5, 362.5, 362.5, 362.5, 362.5, 362.5, 362.5, 716.5, 716.5, 716.5, 716.5, 716.5, 716.5, 716.5, 716.5, 716.5, 716.5, 716.5, 716.5, 716.5, 716.5, 716.5, 716.5, 716.5, 716.5, 716.5, 716.5, 716.5, 716.5, 716.5, 716.5, 716.5, 716.5, 716.5, 716.5, 716.5, 716.5, 716.5, 716.5, 716.5, 716.5, 716.5, 716.5, 1073.0, 1073.0, 1073.0, 1073.0, 1073.0, 1073.0, 1073.0, 1073.0, 1073.0, 1073.0, 1073.0, 1073.0, 1073.0, 1073.0, 1073.0, 1073.0, 1073.0, 1073.0, 1073.0, 1073.0, 1073.0, 1073.0, 1073.0, 1073.0, 1073.0, 1073.0, 1073.0, 1073.0, 1073.0, 1073.0, 1073.0, 1073.0, 1073.0, 1073.0, 1073.0, 1430.0, 1430.0, 1430.0, 1430.0, 1430.0, 1430.0, 1430.0, 1430.0, 1430.0, 1430.0, 1430.0, 1430.0, 1430.0, 1430.0, 1430.0, 1430.0, 1430.0, 1430.0, 1430.0, 1430.0, 1430.0, 1430.0, 1430.0, 1430.0, 1430.0, 1430.0, 1430.0, 1430.0, 1430.0, 1430.0, 1430.0, 1430.0, 1430.0, 1430.0, 1788.5, 1788.5, 1788.5, 1788.5, 1788.5, 1788.5, 1788.5, 1788.5, 1788.5, 1788.5, 1788.5, 1788.5, 1788.5, 1788.5, 1788.5, 1788.5, 1788.5, 1788.5, 1788.5, 1788.5, 1788.5, 1788.5, 1788.5, 1788.5, 1788.5, 1788.5, 1788.5, 1788.5, 1788.5, 1788.5, 1788.5, 1788.5, 1788.5, 2145.5, 2145.5, 2145.5, 2145.5, 2145.5, 2145.5, 2145.5, 2145.5, 2145.5, 2145.5, 2145.5, 2145.5, 2145.5, 2145.5, 2145.5, 2145.5, 2145.5, 2145.5, 2145.5, 2145.5, 2145.5, 2145.5, 2145.5, 2145.5, 2145.5, 2145.5, 2145.5, 2145.5, 2145.5, 2145.5, 2145.5, 2145.5, 2503.5, 2503.5, 2503.5, 2503.5, 2503.5, 2503.5, 2503.5, 2503.5, 2503.5, 2503.5, 2503.5, 2503.5, 2503.5, 2503.5, 2503.5, 2503.5, 2503.5, 2503.5, 2503.5, 2503.5, 2503.5, 2503.5, 2503.5, 2503.5, 2503.5, 2503.5, 2503.5, 2503.5, 2503.5, 2503.5, 2503.5, 2861.5, 2861.5, 2861.5, 2861.5, 2861.5, 2861.5, 2861.5, 2861.5, 2861.5, 2861.5, 2861.5, 2861.5, 2861.5, 2861.5, 2861.5, 2861.5, 2861.5, 2861.5, 2861.5, 2861.5, 2861.5, 2861.5, 2861.5, 2861.5, 2861.5, 2861.5, 2861.5, 2861.5, 2861.5, 2861.5, 3213.0, 3213.0, 3213.0, 3213.0, 3213.0, 3213.0, 3213.0, 3213.0, 3213.0, 3213.0, 3213.0, 3213.0, 3213.0, 3213.0, 3213.0, 3213.0, 3213.0, 3213.0, 3213.0, 3213.0, 3213.0, 3213.0, 3213.0, 3213.0, 3213.0, 3213.0, 3213.0, 3213.0, 3213.0, 3563.0, 3563.0, 3563.0, 3563.0, 3563.0, 3563.0, 3563.0, 3563.0, 3563.0, 3563.0, 3563.0, 3563.0, 3563.0, 3563.0, 3563.0, 3563.0, 3563.0, 3563.0, 3563.0, 3563.0, 3563.0, 3563.0, 3563.0, 3563.0, 3563.0, 3563.0, 3563.0, 3563.0, 3920.0, 3920.0, 3920.0, 3920.0, 3920.0, 3920.0, 3920.0, 3920.0, 3920.0, 3920.0, 3920.0, 3920.0, 3920.0, 3920.0, 3920.0, 3920.0, 3920.0, 3920.0, 3920.0, 3920.0, 3920.0, 3920.0, 3920.0, 3920.0, 3920.0, 3920.0, 3920.0, 4278.5, 4278.5, 4278.5, 4278.5, 4278.5, 4278.5, 4278.5, 4278.5, 4278.5, 4278.5, 4278.5, 4278.5, 4278.5, 4278.5, 4278.5, 4278.5, 4278.5, 4278.5, 4278.5, 4278.5, 4278.5, 4278.5, 4278.5, 4278.5, 4278.5, 4278.5, 4637.0, 4637.0, 4637.0, 4637.0, 4637.0, 4637.0, 4637.0, 4637.0, 4637.0, 4637.0, 4637.0, 4637.0, 4637.0, 4637.0, 4637.0, 4637.0, 4637.0, 4637.0, 4637.0, 4637.0, 4637.0, 4637.0, 4637.0, 4637.0, 4637.0, 4991.5, 4991.5, 4991.5, 4991.5, 4991.5, 4991.5, 4991.5, 4991.5, 4991.5, 4991.5, 4991.5, 4991.5, 4991.5, 4991.5, 4991.5, 4991.5, 4991.5, 4991.5, 4991.5, 4991.5, 4991.5, 4991.5, 4991.5, 4991.5, 5346.0, 5346.0, 5346.0, 5346.0, 5346.0, 5346.0, 5346.0, 5346.0, 5346.0, 5346.0, 5346.0, 5346.0, 5346.0, 5346.0, 5346.0, 5346.0, 5346.0, 5346.0, 5346.0, 5346.0, 5346.0, 5346.0, 5346.0, 5700.5, 5700.5, 5700.5, 5700.5, 5700.5, 5700.5, 5700.5, 5700.5, 5700.5, 5700.5, 5700.5, 5700.5, 5700.5, 5700.5, 5700.5, 5700.5, 5700.5, 5700.5, 5700.5, 5700.5, 5700.5, 5700.5, 6055.0, 6055.0, 6055.0, 6055.0, 6055.0, 6055.0, 6055.0, 6055.0, 6055.0, 6055.0, 6055.0, 6055.0, 6055.0, 6055.0, 6055.0, 6055.0, 6055.0, 6055.0, 6055.0, 6055.0, 6055.0, 6413.5, 6413.5, 6413.5, 6413.5, 6413.5, 6413.5, 6413.5, 6413.5, 6413.5, 6413.5, 6413.5, 6413.5, 6413.5, 6413.5, 6413.5, 6413.5, 6413.5, 6413.5, 6413.5, 6413.5, 6771.0, 6771.0, 6771.0, 6771.0, 6771.0, 6771.0, 6771.0, 6771.0, 6771.0, 6771.0, 6771.0, 6771.0, 6771.0, 6771.0, 6771.0, 6771.0, 6771.0, 6771.0, 6771.0, 7128.5, 7128.5, 7128.5, 7128.5, 7128.5, 7128.5, 7128.5, 7128.5, 7128.5, 7128.5, 7128.5, 7128.5, 7128.5, 7128.5, 7128.5, 7128.5, 7128.5, 7128.5, 7486.0, 7486.0, 7486.0, 7486.0, 7486.0, 7486.0, 7486.0, 7486.0, 7486.0, 7486.0, 7486.0, 7486.0, 7486.0, 7486.0, 7486.0, 7486.0, 7486.0, 7843.0, 7843.0, 7843.0, 7843.0, 7843.0, 7843.0, 7843.0, 7843.0, 7843.0, 7843.0, 7843.0, 7843.0, 7843.0, 7843.0, 7843.0, 7843.0, 8201.0, 8201.0, 8201.0, 8201.0, 8201.0, 8201.0, 8201.0, 8201.0, 8201.0, 8201.0, 8201.0, 8201.0, 8201.0, 8201.0, 8201.0, 8558.0, 8558.0, 8558.0, 8558.0, 8558.0, 8558.0, 8558.0, 8558.0, 8558.0, 8558.0, 8558.0, 8558.0, 8558.0, 8558.0, 8914.5, 8914.5, 8914.5, 8914.5, 8914.5, 8914.5, 8914.5, 8914.5, 8914.5, 8914.5, 8914.5, 8914.5, 8914.5, 9272.0, 9272.0, 9272.0, 9272.0, 9272.0, 9272.0, 9272.0, 9272.0, 9272.0, 9272.0, 9272.0, 9272.0, 9630.0, 9630.0, 9630.0, 9630.0, 9630.0, 9630.0, 9630.0, 9630.0, 9630.0, 9630.0, 9630.0, 9987.0, 9987.0, 9987.0, 9987.0, 9987.0, 9987.0, 9987.0, 9987.0, 9987.0, 9987.0, 10345.0, 10345.0, 10345.0, 10345.0, 10345.0, 10345.0, 10345.0, 10345.0, 10345.0, 10703.5, 10703.5, 10703.5, 10703.5, 10703.5, 10703.5, 10703.5, 10703.5, 11060.5, 11060.5, 11060.5, 11060.5, 11060.5, 11060.5, 11060.5, 11418.5, 11418.5, 11418.5, 11418.5, 11418.5, 11418.5, 11777.0, 11777.0, 11777.0, 11777.0, 11777.0, 12135.0, 12135.0, 12135.0, 12135.0, 12493.5, 12493.5, 12493.5, 12851.0, 12851.0, 13207.0], \"y\": [716.5, 1073.0, 1430.0, 1788.5, 2145.5, 2503.5, 2861.5, 3213.0, 3563.0, 3920.0, 4278.5, 4637.0, 4991.5, 5346.0, 5700.5, 6055.0, 6413.5, 6771.0, 7128.5, 7486.0, 7843.0, 8201.0, 8558.0, 8914.5, 9272.0, 9630.0, 9987.0, 10345.0, 10703.5, 11060.5, 11418.5, 11777.0, 12135.0, 12493.5, 12851.0, 13207.0, 13563.0, 1073.0, 1430.0, 1788.5, 2145.5, 2503.5, 2861.5, 3213.0, 3563.0, 3920.0, 4278.5, 4637.0, 4991.5, 5346.0, 5700.5, 6055.0, 6413.5, 6771.0, 7128.5, 7486.0, 7843.0, 8201.0, 8558.0, 8914.5, 9272.0, 9630.0, 9987.0, 10345.0, 10703.5, 11060.5, 11418.5, 11777.0, 12135.0, 12493.5, 12851.0, 13207.0, 13563.0, 1430.0, 1788.5, 2145.5, 2503.5, 2861.5, 3213.0, 3563.0, 3920.0, 4278.5, 4637.0, 4991.5, 5346.0, 5700.5, 6055.0, 6413.5, 6771.0, 7128.5, 7486.0, 7843.0, 8201.0, 8558.0, 8914.5, 9272.0, 9630.0, 9987.0, 10345.0, 10703.5, 11060.5, 11418.5, 11777.0, 12135.0, 12493.5, 12851.0, 13207.0, 13563.0, 1788.5, 2145.5, 2503.5, 2861.5, 3213.0, 3563.0, 3920.0, 4278.5, 4637.0, 4991.5, 5346.0, 5700.5, 6055.0, 6413.5, 6771.0, 7128.5, 7486.0, 7843.0, 8201.0, 8558.0, 8914.5, 9272.0, 9630.0, 9987.0, 10345.0, 10703.5, 11060.5, 11418.5, 11777.0, 12135.0, 12493.5, 12851.0, 13207.0, 13563.0, 2145.5, 2503.5, 2861.5, 3213.0, 3563.0, 3920.0, 4278.5, 4637.0, 4991.5, 5346.0, 5700.5, 6055.0, 6413.5, 6771.0, 7128.5, 7486.0, 7843.0, 8201.0, 8558.0, 8914.5, 9272.0, 9630.0, 9987.0, 10345.0, 10703.5, 11060.5, 11418.5, 11777.0, 12135.0, 12493.5, 12851.0, 13207.0, 13563.0, 2503.5, 2861.5, 3213.0, 3563.0, 3920.0, 4278.5, 4637.0, 4991.5, 5346.0, 5700.5, 6055.0, 6413.5, 6771.0, 7128.5, 7486.0, 7843.0, 8201.0, 8558.0, 8914.5, 9272.0, 9630.0, 9987.0, 10345.0, 10703.5, 11060.5, 11418.5, 11777.0, 12135.0, 12493.5, 12851.0, 13207.0, 13563.0, 2861.5, 3213.0, 3563.0, 3920.0, 4278.5, 4637.0, 4991.5, 5346.0, 5700.5, 6055.0, 6413.5, 6771.0, 7128.5, 7486.0, 7843.0, 8201.0, 8558.0, 8914.5, 9272.0, 9630.0, 9987.0, 10345.0, 10703.5, 11060.5, 11418.5, 11777.0, 12135.0, 12493.5, 12851.0, 13207.0, 13563.0, 3213.0, 3563.0, 3920.0, 4278.5, 4637.0, 4991.5, 5346.0, 5700.5, 6055.0, 6413.5, 6771.0, 7128.5, 7486.0, 7843.0, 8201.0, 8558.0, 8914.5, 9272.0, 9630.0, 9987.0, 10345.0, 10703.5, 11060.5, 11418.5, 11777.0, 12135.0, 12493.5, 12851.0, 13207.0, 13563.0, 3563.0, 3920.0, 4278.5, 4637.0, 4991.5, 5346.0, 5700.5, 6055.0, 6413.5, 6771.0, 7128.5, 7486.0, 7843.0, 8201.0, 8558.0, 8914.5, 9272.0, 9630.0, 9987.0, 10345.0, 10703.5, 11060.5, 11418.5, 11777.0, 12135.0, 12493.5, 12851.0, 13207.0, 13563.0, 3920.0, 4278.5, 4637.0, 4991.5, 5346.0, 5700.5, 6055.0, 6413.5, 6771.0, 7128.5, 7486.0, 7843.0, 8201.0, 8558.0, 8914.5, 9272.0, 9630.0, 9987.0, 10345.0, 10703.5, 11060.5, 11418.5, 11777.0, 12135.0, 12493.5, 12851.0, 13207.0, 13563.0, 4278.5, 4637.0, 4991.5, 5346.0, 5700.5, 6055.0, 6413.5, 6771.0, 7128.5, 7486.0, 7843.0, 8201.0, 8558.0, 8914.5, 9272.0, 9630.0, 9987.0, 10345.0, 10703.5, 11060.5, 11418.5, 11777.0, 12135.0, 12493.5, 12851.0, 13207.0, 13563.0, 4637.0, 4991.5, 5346.0, 5700.5, 6055.0, 6413.5, 6771.0, 7128.5, 7486.0, 7843.0, 8201.0, 8558.0, 8914.5, 9272.0, 9630.0, 9987.0, 10345.0, 10703.5, 11060.5, 11418.5, 11777.0, 12135.0, 12493.5, 12851.0, 13207.0, 13563.0, 4991.5, 5346.0, 5700.5, 6055.0, 6413.5, 6771.0, 7128.5, 7486.0, 7843.0, 8201.0, 8558.0, 8914.5, 9272.0, 9630.0, 9987.0, 10345.0, 10703.5, 11060.5, 11418.5, 11777.0, 12135.0, 12493.5, 12851.0, 13207.0, 13563.0, 5346.0, 5700.5, 6055.0, 6413.5, 6771.0, 7128.5, 7486.0, 7843.0, 8201.0, 8558.0, 8914.5, 9272.0, 9630.0, 9987.0, 10345.0, 10703.5, 11060.5, 11418.5, 11777.0, 12135.0, 12493.5, 12851.0, 13207.0, 13563.0, 5700.5, 6055.0, 6413.5, 6771.0, 7128.5, 7486.0, 7843.0, 8201.0, 8558.0, 8914.5, 9272.0, 9630.0, 9987.0, 10345.0, 10703.5, 11060.5, 11418.5, 11777.0, 12135.0, 12493.5, 12851.0, 13207.0, 13563.0, 6055.0, 6413.5, 6771.0, 7128.5, 7486.0, 7843.0, 8201.0, 8558.0, 8914.5, 9272.0, 9630.0, 9987.0, 10345.0, 10703.5, 11060.5, 11418.5, 11777.0, 12135.0, 12493.5, 12851.0, 13207.0, 13563.0, 6413.5, 6771.0, 7128.5, 7486.0, 7843.0, 8201.0, 8558.0, 8914.5, 9272.0, 9630.0, 9987.0, 10345.0, 10703.5, 11060.5, 11418.5, 11777.0, 12135.0, 12493.5, 12851.0, 13207.0, 13563.0, 6771.0, 7128.5, 7486.0, 7843.0, 8201.0, 8558.0, 8914.5, 9272.0, 9630.0, 9987.0, 10345.0, 10703.5, 11060.5, 11418.5, 11777.0, 12135.0, 12493.5, 12851.0, 13207.0, 13563.0, 7128.5, 7486.0, 7843.0, 8201.0, 8558.0, 8914.5, 9272.0, 9630.0, 9987.0, 10345.0, 10703.5, 11060.5, 11418.5, 11777.0, 12135.0, 12493.5, 12851.0, 13207.0, 13563.0, 7486.0, 7843.0, 8201.0, 8558.0, 8914.5, 9272.0, 9630.0, 9987.0, 10345.0, 10703.5, 11060.5, 11418.5, 11777.0, 12135.0, 12493.5, 12851.0, 13207.0, 13563.0, 7843.0, 8201.0, 8558.0, 8914.5, 9272.0, 9630.0, 9987.0, 10345.0, 10703.5, 11060.5, 11418.5, 11777.0, 12135.0, 12493.5, 12851.0, 13207.0, 13563.0, 8201.0, 8558.0, 8914.5, 9272.0, 9630.0, 9987.0, 10345.0, 10703.5, 11060.5, 11418.5, 11777.0, 12135.0, 12493.5, 12851.0, 13207.0, 13563.0, 8558.0, 8914.5, 9272.0, 9630.0, 9987.0, 10345.0, 10703.5, 11060.5, 11418.5, 11777.0, 12135.0, 12493.5, 12851.0, 13207.0, 13563.0, 8914.5, 9272.0, 9630.0, 9987.0, 10345.0, 10703.5, 11060.5, 11418.5, 11777.0, 12135.0, 12493.5, 12851.0, 13207.0, 13563.0, 9272.0, 9630.0, 9987.0, 10345.0, 10703.5, 11060.5, 11418.5, 11777.0, 12135.0, 12493.5, 12851.0, 13207.0, 13563.0, 9630.0, 9987.0, 10345.0, 10703.5, 11060.5, 11418.5, 11777.0, 12135.0, 12493.5, 12851.0, 13207.0, 13563.0, 9987.0, 10345.0, 10703.5, 11060.5, 11418.5, 11777.0, 12135.0, 12493.5, 12851.0, 13207.0, 13563.0, 10345.0, 10703.5, 11060.5, 11418.5, 11777.0, 12135.0, 12493.5, 12851.0, 13207.0, 13563.0, 10703.5, 11060.5, 11418.5, 11777.0, 12135.0, 12493.5, 12851.0, 13207.0, 13563.0, 11060.5, 11418.5, 11777.0, 12135.0, 12493.5, 12851.0, 13207.0, 13563.0, 11418.5, 11777.0, 12135.0, 12493.5, 12851.0, 13207.0, 13563.0, 11777.0, 12135.0, 12493.5, 12851.0, 13207.0, 13563.0, 12135.0, 12493.5, 12851.0, 13207.0, 13563.0, 12493.5, 12851.0, 13207.0, 13563.0, 12851.0, 13207.0, 13563.0, 13207.0, 13563.0, 13563.0]}, {\"hoverinfo\": \"text\", \"marker\": {\"size\": 5}, \"mode\": \"text\", \"name\": \"TR unit\", \"showlegend\": true, \"text\": [\"0 \", \"1 \", \"2 \", \"3 \", \"4 \", \"5 \", \"6 \", \"7 \", \"8 \", \"9 \", \"10 \", \"11 \", \"12 \", \"13 \", \"14 \", \"15 \", \"16 \", \"17 \", \"18 \", \"19 \", \"20 \", \"21 \", \"22 \", \"23 \", \"24 \", \"25 \", \"26 \", \"27 \", \"28 \", \"29 \", \"30 \", \"31 \", \"32 \", \"33 \", \"34 \", \"35 \", \"36 \", \"37 \"], \"textfont\": {\"color\": \"black\", \"size\": 10}, \"textposition\": \"bottom left\", \"type\": \"scatter\", \"x\": [187, 538, 895, 1251, 1610, 1967, 2325, 2683, 3041, 3385, 3741, 4099, 4458, 4816, 5167, 5525, 5876, 6235, 6592, 6950, 7308, 7664, 8022, 8380, 8736, 9093, 9451, 9809, 10166, 10525, 10882, 11239, 11598, 11956, 12315, 12673, 13029, 13386], \"y\": [187, 538, 895, 1251, 1610, 1967, 2325, 2683, 3041, 3385, 3741, 4099, 4458, 4816, 5167, 5525, 5876, 6235, 6592, 6950, 7308, 7664, 8022, 8380, 8736, 9093, 9451, 9809, 10166, 10525, 10882, 11239, 11598, 11956, 12315, 12673, 13029, 13386]}, {\"hoverinfo\": \"text\", \"marker\": {\"color\": [\"black\", \"black\", \"black\", \"black\", \"black\", \"black\", \"black\", \"black\", \"black\", \"black\", \"black\", \"black\", \"black\", \"black\", \"black\", \"black\", \"black\", \"black\", \"black\", \"black\", \"black\", \"black\", \"black\", \"black\", \"black\", \"black\", \"black\", \"black\", \"black\", \"black\", \"black\", \"black\", \"black\", \"black\", \"black\", \"black\", \"black\", \"black\"], \"size\": 5}, \"mode\": \"markers\", \"showlegend\": false, \"text\": [\"unit 0 (id=1)<br>[187:538] (351 bp)\", \"unit 1 (id=1)<br>[538:895] (357 bp)\", \"unit 2 (id=1)<br>[895:1251] (356 bp)\", \"unit 3 (id=1)<br>[1251:1609] (358 bp)\", \"unit 4 (id=1)<br>[1610:1967] (357 bp)\", \"unit 5 (id=1)<br>[1967:2324] (357 bp)\", \"unit 6 (id=1)<br>[2325:2682] (357 bp)\", \"unit 7 (id=1)<br>[2683:3040] (357 bp)\", \"unit 8 (id=1)<br>[3041:3385] (344 bp)\", \"unit 9 (id=1)<br>[3385:3741] (356 bp)\", \"unit 10 (id=1)<br>[3741:4099] (358 bp)\", \"unit 11 (id=1)<br>[4099:4458] (359 bp)\", \"unit 12 (id=1)<br>[4458:4816] (358 bp)\", \"unit 13 (id=1)<br>[4816:5167] (351 bp)\", \"unit 14 (id=1)<br>[5167:5525] (358 bp)\", \"unit 15 (id=1)<br>[5525:5876] (351 bp)\", \"unit 16 (id=1)<br>[5876:6234] (358 bp)\", \"unit 17 (id=1)<br>[6235:6592] (357 bp)\", \"unit 18 (id=1)<br>[6592:6950] (358 bp)\", \"unit 19 (id=1)<br>[6950:7307] (357 bp)\", \"unit 20 (id=1)<br>[7308:7664] (356 bp)\", \"unit 21 (id=1)<br>[7664:8022] (358 bp)\", \"unit 22 (id=1)<br>[8022:8380] (358 bp)\", \"unit 23 (id=1)<br>[8380:8736] (356 bp)\", \"unit 24 (id=1)<br>[8736:9093] (357 bp)\", \"unit 25 (id=1)<br>[9093:9451] (358 bp)\", \"unit 26 (id=1)<br>[9451:9809] (358 bp)\", \"unit 27 (id=1)<br>[9809:10165] (356 bp)\", \"unit 28 (id=1)<br>[10166:10524] (358 bp)\", \"unit 29 (id=1)<br>[10525:10882] (357 bp)\", \"unit 30 (id=1)<br>[10882:11239] (357 bp)\", \"unit 31 (id=1)<br>[11239:11598] (359 bp)\", \"unit 32 (id=1)<br>[11598:11956] (358 bp)\", \"unit 33 (id=1)<br>[11956:12314] (358 bp)\", \"unit 34 (id=1)<br>[12315:12672] (357 bp)\", \"unit 35 (id=1)<br>[12673:13029] (356 bp)\", \"unit 36 (id=1)<br>[13029:13385] (356 bp)\", \"unit 37 (id=1)<br>[13386:13740] (354 bp)\"], \"type\": \"scatter\", \"x\": [187, 538, 895, 1251, 1610, 1967, 2325, 2683, 3041, 3385, 3741, 4099, 4458, 4816, 5167, 5525, 5876, 6235, 6592, 6950, 7308, 7664, 8022, 8380, 8736, 9093, 9451, 9809, 10166, 10525, 10882, 11239, 11598, 11956, 12315, 12673, 13029, 13386], \"y\": [187, 538, 895, 1251, 1610, 1967, 2325, 2683, 3041, 3385, 3741, 4099, 4458, 4816, 5167, 5525, 5876, 6235, 6592, 6950, 7308, 7664, 8022, 8380, 8736, 9093, 9451, 9809, 10166, 10525, 10882, 11239, 11598, 11956, 12315, 12673, 13029, 13386]}],\n",
       "                        {\"height\": 800, \"hovermode\": \"closest\", \"shapes\": [{\"layer\": \"below\", \"line\": {\"color\": \"grey\", \"width\": 3}, \"type\": \"line\", \"x0\": 0, \"x1\": 13814, \"xref\": \"x\", \"y0\": 0, \"y1\": 13814, \"yref\": \"y\"}, {\"layer\": \"below\", \"line\": {\"color\": \"black\", \"width\": 3}, \"type\": \"line\", \"x0\": 0, \"x1\": 13814, \"xref\": \"x\", \"y0\": 0, \"y1\": 13814, \"yref\": \"y\"}, {\"layer\": \"below\", \"line\": {\"color\": \"purple\", \"width\": 3}, \"type\": \"line\", \"x0\": 354, \"x1\": 13802, \"xref\": \"x\", \"y0\": 3, \"y1\": 13447, \"yref\": \"y\"}, {\"layer\": \"below\", \"line\": {\"color\": \"black\", \"width\": 1}, \"type\": \"line\", \"x0\": 709, \"x1\": 12202, \"xref\": \"x\", \"y0\": 0, \"y1\": 11485, \"yref\": \"y\"}, {\"layer\": \"below\", \"line\": {\"color\": \"black\", \"width\": 1}, \"type\": \"line\", \"x0\": 12320, \"x1\": 13814, \"xref\": \"x\", \"y0\": 11603, \"y1\": 13102, \"yref\": \"y\"}, {\"layer\": \"below\", \"line\": {\"color\": \"black\", \"width\": 1}, \"type\": \"line\", \"x0\": 1072, \"x1\": 10412, \"xref\": \"x\", \"y0\": 8, \"y1\": 9338, \"yref\": \"y\"}, {\"layer\": \"below\", \"line\": {\"color\": \"black\", \"width\": 1}, \"type\": \"line\", \"x0\": 10558, \"x1\": 11485, \"xref\": \"x\", \"y0\": 9485, \"y1\": 10412, \"yref\": \"y\"}, {\"layer\": \"below\", \"line\": {\"color\": \"black\", \"width\": 1}, \"type\": \"line\", \"x0\": 11632, \"x1\": 12233, \"xref\": \"x\", \"y0\": 10558, \"y1\": 11157, \"yref\": \"y\"}, {\"layer\": \"below\", \"line\": {\"color\": \"black\", \"width\": 1}, \"type\": \"line\", \"x0\": 12706, \"x1\": 13802, \"xref\": \"x\", \"y0\": 11632, \"y1\": 12734, \"yref\": \"y\"}, {\"layer\": \"below\", \"line\": {\"color\": \"black\", \"width\": 1}, \"type\": \"line\", \"x0\": 6269, \"x1\": 11803, \"xref\": \"x\", \"y0\": 4843, \"y1\": 10371, \"yref\": \"y\"}, {\"layer\": \"below\", \"line\": {\"color\": \"black\", \"width\": 1}, \"type\": \"line\", \"x0\": 1644, \"x1\": 2215, \"xref\": \"x\", \"y0\": 214, \"y1\": 786, \"yref\": \"y\"}, {\"layer\": \"below\", \"line\": {\"color\": \"black\", \"width\": 1}, \"type\": \"line\", \"x0\": 2330, \"x1\": 6154, \"xref\": \"x\", \"y0\": 900, \"y1\": 4734, \"yref\": \"y\"}, {\"layer\": \"below\", \"line\": {\"color\": \"black\", \"width\": 1}, \"type\": \"line\", \"x0\": 11990, \"x1\": 13814, \"xref\": \"x\", \"y0\": 10558, \"y1\": 12389, \"yref\": \"y\"}, {\"layer\": \"below\", \"line\": {\"color\": \"black\", \"width\": 1}, \"type\": \"line\", \"x0\": 4859, \"x1\": 13814, \"xref\": \"x\", \"y0\": 3091, \"y1\": 12030, \"yref\": \"y\"}, {\"layer\": \"below\", \"line\": {\"color\": \"black\", \"width\": 1}, \"type\": \"line\", \"x0\": 1795, \"x1\": 4734, \"xref\": \"x\", \"y0\": 15, \"y1\": 2960, \"yref\": \"y\"}, {\"layer\": \"below\", \"line\": {\"color\": \"black\", \"width\": 1}, \"type\": \"line\", \"x0\": 4843, \"x1\": 13814, \"xref\": \"x\", \"y0\": 2717, \"y1\": 11672, \"yref\": \"y\"}, {\"layer\": \"below\", \"line\": {\"color\": \"black\", \"width\": 1}, \"type\": \"line\", \"x0\": 2359, \"x1\": 4734, \"xref\": \"x\", \"y0\": 214, \"y1\": 2602, \"yref\": \"y\"}, {\"layer\": \"below\", \"line\": {\"color\": \"black\", \"width\": 1}, \"type\": \"line\", \"x0\": 7342, \"x1\": 12161, \"xref\": \"x\", \"y0\": 4843, \"y1\": 9656, \"yref\": \"y\"}, {\"layer\": \"below\", \"line\": {\"color\": \"black\", \"width\": 1}, \"type\": \"line\", \"x0\": 2717, \"x1\": 7227, \"xref\": \"x\", \"y0\": 214, \"y1\": 4734, \"yref\": \"y\"}, {\"layer\": \"below\", \"line\": {\"color\": \"black\", \"width\": 1}, \"type\": \"line\", \"x0\": 12320, \"x1\": 13814, \"xref\": \"x\", \"y0\": 9814, \"y1\": 11313, \"yref\": \"y\"}, {\"layer\": \"below\", \"line\": {\"color\": \"black\", \"width\": 1}, \"type\": \"line\", \"x0\": 3091, \"x1\": 12202, \"xref\": \"x\", \"y0\": 230, \"y1\": 9338, \"yref\": \"y\"}, {\"layer\": \"below\", \"line\": {\"color\": \"black\", \"width\": 1}, \"type\": \"line\", \"x0\": 3236, \"x1\": 4734, \"xref\": \"x\", \"y0\": 38, \"y1\": 1529, \"yref\": \"y\"}, {\"layer\": \"below\", \"line\": {\"color\": \"black\", \"width\": 1}, \"type\": \"line\", \"x0\": 4843, \"x1\": 12233, \"xref\": \"x\", \"y0\": 1644, \"y1\": 9011, \"yref\": \"y\"}, {\"layer\": \"below\", \"line\": {\"color\": \"black\", \"width\": 1}, \"type\": \"line\", \"x0\": 3554, \"x1\": 13814, \"xref\": \"x\", \"y0\": 0, \"y1\": 10240, \"yref\": \"y\"}, {\"layer\": \"below\", \"line\": {\"color\": \"black\", \"width\": 1}, \"type\": \"line\", \"x0\": 3912, \"x1\": 8656, \"xref\": \"x\", \"y0\": 0, \"y1\": 4734, \"yref\": \"y\"}, {\"layer\": \"below\", \"line\": {\"color\": \"black\", \"width\": 1}, \"type\": \"line\", \"x0\": 8770, \"x1\": 12161, \"xref\": \"x\", \"y0\": 4843, \"y1\": 8227, \"yref\": \"y\"}, {\"layer\": \"below\", \"line\": {\"color\": \"black\", \"width\": 1}, \"type\": \"line\", \"x0\": 12320, \"x1\": 13794, \"xref\": \"x\", \"y0\": 8385, \"y1\": 9863, \"yref\": \"y\"}, {\"layer\": \"below\", \"line\": {\"color\": \"black\", \"width\": 1}, \"type\": \"line\", \"x0\": 4629, \"x1\": 12233, \"xref\": \"x\", \"y0\": 0, \"y1\": 7582, \"yref\": \"y\"}, {\"layer\": \"below\", \"line\": {\"color\": \"black\", \"width\": 1}, \"type\": \"line\", \"x0\": 5338, \"x1\": 10085, \"xref\": \"x\", \"y0\": 0, \"y1\": 4734, \"yref\": \"y\"}, {\"layer\": \"below\", \"line\": {\"color\": \"black\", \"width\": 1}, \"type\": \"line\", \"x0\": 10215, \"x1\": 12161, \"xref\": \"x\", \"y0\": 4858, \"y1\": 6797, \"yref\": \"y\"}, {\"layer\": \"below\", \"line\": {\"color\": \"black\", \"width\": 1}, \"type\": \"line\", \"x0\": 9456, \"x1\": 13814, \"xref\": \"x\", \"y0\": 2330, \"y1\": 6666, \"yref\": \"y\"}, {\"layer\": \"below\", \"line\": {\"color\": \"black\", \"width\": 1}, \"type\": \"line\", \"x0\": 9814, \"x1\": 12233, \"xref\": \"x\", \"y0\": 2330, \"y1\": 4734, \"yref\": \"y\"}, {\"layer\": \"below\", \"line\": {\"color\": \"black\", \"width\": 1}, \"type\": \"line\", \"x0\": 12360, \"x1\": 13814, \"xref\": \"x\", \"y0\": 4854, \"y1\": 6309, \"yref\": \"y\"}, {\"layer\": \"below\", \"line\": {\"color\": \"black\", \"width\": 1}, \"type\": \"line\", \"x0\": 7835, \"x1\": 12592, \"xref\": \"x\", \"y0\": 0, \"y1\": 4734, \"yref\": \"y\"}, {\"layer\": \"below\", \"line\": {\"color\": \"black\", \"width\": 1}, \"type\": \"line\", \"x0\": 8193, \"x1\": 13758, \"xref\": \"x\", \"y0\": 0, \"y1\": 5543, \"yref\": \"y\"}, {\"layer\": \"below\", \"line\": {\"color\": \"black\", \"width\": 1}, \"type\": \"line\", \"x0\": 11273, \"x1\": 13758, \"xref\": \"x\", \"y0\": 2359, \"y1\": 4834, \"yref\": \"y\"}, {\"layer\": \"below\", \"line\": {\"color\": \"black\", \"width\": 1}, \"type\": \"line\", \"x0\": 10215, \"x1\": 13814, \"xref\": \"x\", \"y0\": 229, \"y1\": 3815, \"yref\": \"y\"}, {\"fillcolor\": \"#2094c0\", \"layer\": \"below\", \"line\": {\"width\": 0}, \"opacity\": 1.0, \"type\": \"rect\", \"x0\": 187, \"x1\": 538, \"xref\": \"x\", \"y0\": 538, \"y1\": 895, \"yref\": \"y\"}, {\"fillcolor\": \"#2075b3\", \"layer\": \"below\", \"line\": {\"width\": 0}, \"opacity\": 1.0, \"type\": \"rect\", \"x0\": 187, \"x1\": 538, \"xref\": \"x\", \"y0\": 895, \"y1\": 1251, \"yref\": \"y\"}, {\"fillcolor\": \"#7acbbc\", \"layer\": \"below\", \"line\": {\"width\": 0}, \"opacity\": 1.0, \"type\": \"rect\", \"x0\": 187, \"x1\": 538, \"xref\": \"x\", \"y0\": 1251, \"y1\": 1609, \"yref\": \"y\"}, {\"fillcolor\": \"#289cc1\", \"layer\": \"below\", \"line\": {\"width\": 0}, \"opacity\": 1.0, \"type\": \"rect\", \"x0\": 187, \"x1\": 538, \"xref\": \"x\", \"y0\": 1610, \"y1\": 1967, \"yref\": \"y\"}, {\"fillcolor\": \"#2094c0\", \"layer\": \"below\", \"line\": {\"width\": 0}, \"opacity\": 1.0, \"type\": \"rect\", \"x0\": 187, \"x1\": 538, \"xref\": \"x\", \"y0\": 1967, \"y1\": 2324, \"yref\": \"y\"}, {\"fillcolor\": \"#53bdc1\", \"layer\": \"below\", \"line\": {\"width\": 0}, \"opacity\": 1.0, \"type\": \"rect\", \"x0\": 187, \"x1\": 538, \"xref\": \"x\", \"y0\": 2325, \"y1\": 2682, \"yref\": \"y\"}, {\"fillcolor\": \"#6dc6be\", \"layer\": \"below\", \"line\": {\"width\": 0}, \"opacity\": 1.0, \"type\": \"rect\", \"x0\": 187, \"x1\": 538, \"xref\": \"x\", \"y0\": 2683, \"y1\": 3040, \"yref\": \"y\"}, {\"fillcolor\": \"#0d2163\", \"layer\": \"below\", \"line\": {\"width\": 0}, \"opacity\": 1.0, \"type\": \"rect\", \"x0\": 187, \"x1\": 538, \"xref\": \"x\", \"y0\": 3041, \"y1\": 3385, \"yref\": \"y\"}, {\"fillcolor\": \"#216bae\", \"layer\": \"below\", \"line\": {\"width\": 0}, \"opacity\": 1.0, \"type\": \"rect\", \"x0\": 187, \"x1\": 538, \"xref\": \"x\", \"y0\": 3385, \"y1\": 3741, \"yref\": \"y\"}, {\"fillcolor\": \"#289cc1\", \"layer\": \"below\", \"line\": {\"width\": 0}, \"opacity\": 1.0, \"type\": \"rect\", \"x0\": 187, \"x1\": 538, \"xref\": \"x\", \"y0\": 3741, \"y1\": 4099, \"yref\": \"y\"}, {\"fillcolor\": \"#289cc1\", \"layer\": \"below\", \"line\": {\"width\": 0}, \"opacity\": 1.0, \"type\": \"rect\", \"x0\": 187, \"x1\": 538, \"xref\": \"x\", \"y0\": 4099, \"y1\": 4458, \"yref\": \"y\"}, {\"fillcolor\": \"#2076b3\", \"layer\": \"below\", \"line\": {\"width\": 0}, \"opacity\": 1.0, \"type\": \"rect\", \"x0\": 187, \"x1\": 538, \"xref\": \"x\", \"y0\": 4458, \"y1\": 4816, \"yref\": \"y\"}, {\"fillcolor\": \"#ffffd9\", \"layer\": \"below\", \"line\": {\"width\": 0}, \"opacity\": 1.0, \"type\": \"rect\", \"x0\": 187, \"x1\": 538, \"xref\": \"x\", \"y0\": 4816, \"y1\": 5167, \"yref\": \"y\"}, {\"fillcolor\": \"#1e8bbd\", \"layer\": \"below\", \"line\": {\"width\": 0}, \"opacity\": 1.0, \"type\": \"rect\", \"x0\": 187, \"x1\": 538, \"xref\": \"x\", \"y0\": 5167, \"y1\": 5525, \"yref\": \"y\"}, {\"fillcolor\": \"#6bc6be\", \"layer\": \"below\", \"line\": {\"width\": 0}, \"opacity\": 1.0, \"type\": \"rect\", \"x0\": 187, \"x1\": 538, \"xref\": \"x\", \"y0\": 5525, \"y1\": 5876, \"yref\": \"y\"}, {\"fillcolor\": \"#6dc6be\", \"layer\": \"below\", \"line\": {\"width\": 0}, \"opacity\": 1.0, \"type\": \"rect\", \"x0\": 187, \"x1\": 538, \"xref\": \"x\", \"y0\": 5876, \"y1\": 6234, \"yref\": \"y\"}, {\"fillcolor\": \"#2ea3c2\", \"layer\": \"below\", \"line\": {\"width\": 0}, \"opacity\": 1.0, \"type\": \"rect\", \"x0\": 187, \"x1\": 538, \"xref\": \"x\", \"y0\": 6235, \"y1\": 6592, \"yref\": \"y\"}, {\"fillcolor\": \"#2262aa\", \"layer\": \"below\", \"line\": {\"width\": 0}, \"opacity\": 1.0, \"type\": \"rect\", \"x0\": 187, \"x1\": 538, \"xref\": \"x\", \"y0\": 6592, \"y1\": 6950, \"yref\": \"y\"}, {\"fillcolor\": \"#6dc6be\", \"layer\": \"below\", \"line\": {\"width\": 0}, \"opacity\": 1.0, \"type\": \"rect\", \"x0\": 187, \"x1\": 538, \"xref\": \"x\", \"y0\": 6950, \"y1\": 7307, \"yref\": \"y\"}, {\"fillcolor\": \"#289cc1\", \"layer\": \"below\", \"line\": {\"width\": 0}, \"opacity\": 1.0, \"type\": \"rect\", \"x0\": 187, \"x1\": 538, \"xref\": \"x\", \"y0\": 7308, \"y1\": 7664, \"yref\": \"y\"}, {\"fillcolor\": \"#1f80b8\", \"layer\": \"below\", \"line\": {\"width\": 0}, \"opacity\": 1.0, \"type\": \"rect\", \"x0\": 187, \"x1\": 538, \"xref\": \"x\", \"y0\": 7664, \"y1\": 8022, \"yref\": \"y\"}, {\"fillcolor\": \"#216bae\", \"layer\": \"below\", \"line\": {\"width\": 0}, \"opacity\": 1.0, \"type\": \"rect\", \"x0\": 187, \"x1\": 538, \"xref\": \"x\", \"y0\": 8022, \"y1\": 8380, \"yref\": \"y\"}, {\"fillcolor\": \"#6dc6be\", \"layer\": \"below\", \"line\": {\"width\": 0}, \"opacity\": 1.0, \"type\": \"rect\", \"x0\": 187, \"x1\": 538, \"xref\": \"x\", \"y0\": 8380, \"y1\": 8736, \"yref\": \"y\"}, {\"fillcolor\": \"#2ea3c2\", \"layer\": \"below\", \"line\": {\"width\": 0}, \"opacity\": 1.0, \"type\": \"rect\", \"x0\": 187, \"x1\": 538, \"xref\": \"x\", \"y0\": 8736, \"y1\": 9093, \"yref\": \"y\"}, {\"fillcolor\": \"#2094c0\", \"layer\": \"below\", \"line\": {\"width\": 0}, \"opacity\": 1.0, \"type\": \"rect\", \"x0\": 187, \"x1\": 538, \"xref\": \"x\", \"y0\": 9093, \"y1\": 9451, \"yref\": \"y\"}, {\"fillcolor\": \"#2076b3\", \"layer\": \"below\", \"line\": {\"width\": 0}, \"opacity\": 1.0, \"type\": \"rect\", \"x0\": 187, \"x1\": 538, \"xref\": \"x\", \"y0\": 9451, \"y1\": 9809, \"yref\": \"y\"}, {\"fillcolor\": \"#61c2bf\", \"layer\": \"below\", \"line\": {\"width\": 0}, \"opacity\": 1.0, \"type\": \"rect\", \"x0\": 187, \"x1\": 538, \"xref\": \"x\", \"y0\": 9809, \"y1\": 10165, \"yref\": \"y\"}, {\"fillcolor\": \"#2195c0\", \"layer\": \"below\", \"line\": {\"width\": 0}, \"opacity\": 1.0, \"type\": \"rect\", \"x0\": 187, \"x1\": 538, \"xref\": \"x\", \"y0\": 10166, \"y1\": 10524, \"yref\": \"y\"}, {\"fillcolor\": \"#5fc1c0\", \"layer\": \"below\", \"line\": {\"width\": 0}, \"opacity\": 1.0, \"type\": \"rect\", \"x0\": 187, \"x1\": 538, \"xref\": \"x\", \"y0\": 10525, \"y1\": 10882, \"yref\": \"y\"}, {\"fillcolor\": \"#289cc1\", \"layer\": \"below\", \"line\": {\"width\": 0}, \"opacity\": 1.0, \"type\": \"rect\", \"x0\": 187, \"x1\": 538, \"xref\": \"x\", \"y0\": 10882, \"y1\": 11239, \"yref\": \"y\"}, {\"fillcolor\": \"#2094c0\", \"layer\": \"below\", \"line\": {\"width\": 0}, \"opacity\": 1.0, \"type\": \"rect\", \"x0\": 187, \"x1\": 538, \"xref\": \"x\", \"y0\": 11239, \"y1\": 11598, \"yref\": \"y\"}, {\"fillcolor\": \"#2076b3\", \"layer\": \"below\", \"line\": {\"width\": 0}, \"opacity\": 1.0, \"type\": \"rect\", \"x0\": 187, \"x1\": 538, \"xref\": \"x\", \"y0\": 11598, \"y1\": 11956, \"yref\": \"y\"}, {\"fillcolor\": \"#2fa4c2\", \"layer\": \"below\", \"line\": {\"width\": 0}, \"opacity\": 1.0, \"type\": \"rect\", \"x0\": 187, \"x1\": 538, \"xref\": \"x\", \"y0\": 11956, \"y1\": 12314, \"yref\": \"y\"}, {\"fillcolor\": \"#61c2bf\", \"layer\": \"below\", \"line\": {\"width\": 0}, \"opacity\": 1.0, \"type\": \"rect\", \"x0\": 187, \"x1\": 538, \"xref\": \"x\", \"y0\": 12315, \"y1\": 12672, \"yref\": \"y\"}, {\"fillcolor\": \"#1e8abd\", \"layer\": \"below\", \"line\": {\"width\": 0}, \"opacity\": 1.0, \"type\": \"rect\", \"x0\": 187, \"x1\": 538, \"xref\": \"x\", \"y0\": 12673, \"y1\": 13029, \"yref\": \"y\"}, {\"fillcolor\": \"#2ea3c2\", \"layer\": \"below\", \"line\": {\"width\": 0}, \"opacity\": 1.0, \"type\": \"rect\", \"x0\": 187, \"x1\": 538, \"xref\": \"x\", \"y0\": 13029, \"y1\": 13385, \"yref\": \"y\"}, {\"fillcolor\": \"#2076b3\", \"layer\": \"below\", \"line\": {\"width\": 0}, \"opacity\": 1.0, \"type\": \"rect\", \"x0\": 187, \"x1\": 538, \"xref\": \"x\", \"y0\": 13386, \"y1\": 13740, \"yref\": \"y\"}, {\"fillcolor\": \"#dcf1b2\", \"layer\": \"below\", \"line\": {\"width\": 0}, \"opacity\": 1.0, \"type\": \"rect\", \"x0\": 538, \"x1\": 895, \"xref\": \"x\", \"y0\": 895, \"y1\": 1251, \"yref\": \"y\"}, {\"fillcolor\": \"#7acbbc\", \"layer\": \"below\", \"line\": {\"width\": 0}, \"opacity\": 1.0, \"type\": \"rect\", \"x0\": 538, \"x1\": 895, \"xref\": \"x\", \"y0\": 1251, \"y1\": 1609, \"yref\": \"y\"}, {\"fillcolor\": \"#b4e2b6\", \"layer\": \"below\", \"line\": {\"width\": 0}, \"opacity\": 1.0, \"type\": \"rect\", \"x0\": 538, \"x1\": 895, \"xref\": \"x\", \"y0\": 1610, \"y1\": 1967, \"yref\": \"y\"}, {\"fillcolor\": \"#36abc3\", \"layer\": \"below\", \"line\": {\"width\": 0}, \"opacity\": 1.0, \"type\": \"rect\", \"x0\": 538, \"x1\": 895, \"xref\": \"x\", \"y0\": 1967, \"y1\": 2324, \"yref\": \"y\"}, {\"fillcolor\": \"#2ea3c2\", \"layer\": \"below\", \"line\": {\"width\": 0}, \"opacity\": 1.0, \"type\": \"rect\", \"x0\": 538, \"x1\": 895, \"xref\": \"x\", \"y0\": 2325, \"y1\": 2682, \"yref\": \"y\"}, {\"fillcolor\": \"#3eb3c4\", \"layer\": \"below\", \"line\": {\"width\": 0}, \"opacity\": 1.0, \"type\": \"rect\", \"x0\": 538, \"x1\": 895, \"xref\": \"x\", \"y0\": 2683, \"y1\": 3040, \"yref\": \"y\"}, {\"fillcolor\": \"#2258a5\", \"layer\": \"below\", \"line\": {\"width\": 0}, \"opacity\": 1.0, \"type\": \"rect\", \"x0\": 538, \"x1\": 895, \"xref\": \"x\", \"y0\": 3041, \"y1\": 3385, \"yref\": \"y\"}, {\"fillcolor\": \"#d5efb3\", \"layer\": \"below\", \"line\": {\"width\": 0}, \"opacity\": 1.0, \"type\": \"rect\", \"x0\": 538, \"x1\": 895, \"xref\": \"x\", \"y0\": 3385, \"y1\": 3741, \"yref\": \"y\"}, {\"fillcolor\": \"#d5efb3\", \"layer\": \"below\", \"line\": {\"width\": 0}, \"opacity\": 1.0, \"type\": \"rect\", \"x0\": 538, \"x1\": 895, \"xref\": \"x\", \"y0\": 3741, \"y1\": 4099, \"yref\": \"y\"}, {\"fillcolor\": \"#7acbbc\", \"layer\": \"below\", \"line\": {\"width\": 0}, \"opacity\": 1.0, \"type\": \"rect\", \"x0\": 538, \"x1\": 895, \"xref\": \"x\", \"y0\": 4099, \"y1\": 4458, \"yref\": \"y\"}, {\"fillcolor\": \"#cdebb4\", \"layer\": \"below\", \"line\": {\"width\": 0}, \"opacity\": 1.0, \"type\": \"rect\", \"x0\": 538, \"x1\": 895, \"xref\": \"x\", \"y0\": 4458, \"y1\": 4816, \"yref\": \"y\"}, {\"fillcolor\": \"#2094c0\", \"layer\": \"below\", \"line\": {\"width\": 0}, \"opacity\": 1.0, \"type\": \"rect\", \"x0\": 538, \"x1\": 895, \"xref\": \"x\", \"y0\": 4816, \"y1\": 5167, \"yref\": \"y\"}, {\"fillcolor\": \"#f4fbc1\", \"layer\": \"below\", \"line\": {\"width\": 0}, \"opacity\": 1.0, \"type\": \"rect\", \"x0\": 538, \"x1\": 895, \"xref\": \"x\", \"y0\": 5167, \"y1\": 5525, \"yref\": \"y\"}, {\"fillcolor\": \"#6dc6be\", \"layer\": \"below\", \"line\": {\"width\": 0}, \"opacity\": 1.0, \"type\": \"rect\", \"x0\": 538, \"x1\": 895, \"xref\": \"x\", \"y0\": 5525, \"y1\": 5876, \"yref\": \"y\"}, {\"fillcolor\": \"#6fc7bd\", \"layer\": \"below\", \"line\": {\"width\": 0}, \"opacity\": 1.0, \"type\": \"rect\", \"x0\": 538, \"x1\": 895, \"xref\": \"x\", \"y0\": 5876, \"y1\": 6234, \"yref\": \"y\"}, {\"fillcolor\": \"#b4e2b6\", \"layer\": \"below\", \"line\": {\"width\": 0}, \"opacity\": 1.0, \"type\": \"rect\", \"x0\": 538, \"x1\": 895, \"xref\": \"x\", \"y0\": 6235, \"y1\": 6592, \"yref\": \"y\"}, {\"fillcolor\": \"#dcf1b2\", \"layer\": \"below\", \"line\": {\"width\": 0}, \"opacity\": 1.0, \"type\": \"rect\", \"x0\": 538, \"x1\": 895, \"xref\": \"x\", \"y0\": 6592, \"y1\": 6950, \"yref\": \"y\"}, {\"fillcolor\": \"#6fc7bd\", \"layer\": \"below\", \"line\": {\"width\": 0}, \"opacity\": 1.0, \"type\": \"rect\", \"x0\": 538, \"x1\": 895, \"xref\": \"x\", \"y0\": 6950, \"y1\": 7307, \"yref\": \"y\"}, {\"fillcolor\": \"#b4e2b6\", \"layer\": \"below\", \"line\": {\"width\": 0}, \"opacity\": 1.0, \"type\": \"rect\", \"x0\": 538, \"x1\": 895, \"xref\": \"x\", \"y0\": 7308, \"y1\": 7664, \"yref\": \"y\"}, {\"fillcolor\": \"#dcf1b2\", \"layer\": \"below\", \"line\": {\"width\": 0}, \"opacity\": 1.0, \"type\": \"rect\", \"x0\": 538, \"x1\": 895, \"xref\": \"x\", \"y0\": 7664, \"y1\": 8022, \"yref\": \"y\"}, {\"fillcolor\": \"#dcf1b2\", \"layer\": \"below\", \"line\": {\"width\": 0}, \"opacity\": 1.0, \"type\": \"rect\", \"x0\": 538, \"x1\": 895, \"xref\": \"x\", \"y0\": 8022, \"y1\": 8380, \"yref\": \"y\"}, {\"fillcolor\": \"#89d1ba\", \"layer\": \"below\", \"line\": {\"width\": 0}, \"opacity\": 1.0, \"type\": \"rect\", \"x0\": 538, \"x1\": 895, \"xref\": \"x\", \"y0\": 8380, \"y1\": 8736, \"yref\": \"y\"}, {\"fillcolor\": \"#c4e8b4\", \"layer\": \"below\", \"line\": {\"width\": 0}, \"opacity\": 1.0, \"type\": \"rect\", \"x0\": 538, \"x1\": 895, \"xref\": \"x\", \"y0\": 8736, \"y1\": 9093, \"yref\": \"y\"}, {\"fillcolor\": \"#a7dcb7\", \"layer\": \"below\", \"line\": {\"width\": 0}, \"opacity\": 1.0, \"type\": \"rect\", \"x0\": 538, \"x1\": 895, \"xref\": \"x\", \"y0\": 9093, \"y1\": 9451, \"yref\": \"y\"}, {\"fillcolor\": \"#d5efb3\", \"layer\": \"below\", \"line\": {\"width\": 0}, \"opacity\": 1.0, \"type\": \"rect\", \"x0\": 538, \"x1\": 895, \"xref\": \"x\", \"y0\": 9451, \"y1\": 9809, \"yref\": \"y\"}, {\"fillcolor\": \"#53bdc1\", \"layer\": \"below\", \"line\": {\"width\": 0}, \"opacity\": 1.0, \"type\": \"rect\", \"x0\": 538, \"x1\": 895, \"xref\": \"x\", \"y0\": 9809, \"y1\": 10165, \"yref\": \"y\"}, {\"fillcolor\": \"#1d8dbe\", \"layer\": \"below\", \"line\": {\"width\": 0}, \"opacity\": 1.0, \"type\": \"rect\", \"x0\": 538, \"x1\": 895, \"xref\": \"x\", \"y0\": 10166, \"y1\": 10524, \"yref\": \"y\"}, {\"fillcolor\": \"#6dc6be\", \"layer\": \"below\", \"line\": {\"width\": 0}, \"opacity\": 1.0, \"type\": \"rect\", \"x0\": 538, \"x1\": 895, \"xref\": \"x\", \"y0\": 10525, \"y1\": 10882, \"yref\": \"y\"}, {\"fillcolor\": \"#b4e2b6\", \"layer\": \"below\", \"line\": {\"width\": 0}, \"opacity\": 1.0, \"type\": \"rect\", \"x0\": 538, \"x1\": 895, \"xref\": \"x\", \"y0\": 10882, \"y1\": 11239, \"yref\": \"y\"}, {\"fillcolor\": \"#b4e2b6\", \"layer\": \"below\", \"line\": {\"width\": 0}, \"opacity\": 1.0, \"type\": \"rect\", \"x0\": 538, \"x1\": 895, \"xref\": \"x\", \"y0\": 11239, \"y1\": 11598, \"yref\": \"y\"}, {\"fillcolor\": \"#d5efb3\", \"layer\": \"below\", \"line\": {\"width\": 0}, \"opacity\": 1.0, \"type\": \"rect\", \"x0\": 538, \"x1\": 895, \"xref\": \"x\", \"y0\": 11598, \"y1\": 11956, \"yref\": \"y\"}, {\"fillcolor\": \"#2195c0\", \"layer\": \"below\", \"line\": {\"width\": 0}, \"opacity\": 1.0, \"type\": \"rect\", \"x0\": 538, \"x1\": 895, \"xref\": \"x\", \"y0\": 11956, \"y1\": 12314, \"yref\": \"y\"}, {\"fillcolor\": \"#36abc3\", \"layer\": \"below\", \"line\": {\"width\": 0}, \"opacity\": 1.0, \"type\": \"rect\", \"x0\": 538, \"x1\": 895, \"xref\": \"x\", \"y0\": 12315, \"y1\": 12672, \"yref\": \"y\"}, {\"fillcolor\": \"#97d6b9\", \"layer\": \"below\", \"line\": {\"width\": 0}, \"opacity\": 1.0, \"type\": \"rect\", \"x0\": 538, \"x1\": 895, \"xref\": \"x\", \"y0\": 12673, \"y1\": 13029, \"yref\": \"y\"}, {\"fillcolor\": \"#7acbbc\", \"layer\": \"below\", \"line\": {\"width\": 0}, \"opacity\": 1.0, \"type\": \"rect\", \"x0\": 538, \"x1\": 895, \"xref\": \"x\", \"y0\": 13029, \"y1\": 13385, \"yref\": \"y\"}, {\"fillcolor\": \"#7acbbc\", \"layer\": \"below\", \"line\": {\"width\": 0}, \"opacity\": 1.0, \"type\": \"rect\", \"x0\": 538, \"x1\": 895, \"xref\": \"x\", \"y0\": 13386, \"y1\": 13740, \"yref\": \"y\"}, {\"fillcolor\": \"#3eb3c4\", \"layer\": \"below\", \"line\": {\"width\": 0}, \"opacity\": 1.0, \"type\": \"rect\", \"x0\": 895, \"x1\": 1251, \"xref\": \"x\", \"y0\": 1251, \"y1\": 1609, \"yref\": \"y\"}, {\"fillcolor\": \"#a7dcb7\", \"layer\": \"below\", \"line\": {\"width\": 0}, \"opacity\": 1.0, \"type\": \"rect\", \"x0\": 895, \"x1\": 1251, \"xref\": \"x\", \"y0\": 1610, \"y1\": 1967, \"yref\": \"y\"}, {\"fillcolor\": \"#2195c0\", \"layer\": \"below\", \"line\": {\"width\": 0}, \"opacity\": 1.0, \"type\": \"rect\", \"x0\": 895, \"x1\": 1251, \"xref\": \"x\", \"y0\": 1967, \"y1\": 2324, \"yref\": \"y\"}, {\"fillcolor\": \"#1f82b9\", \"layer\": \"below\", \"line\": {\"width\": 0}, \"opacity\": 1.0, \"type\": \"rect\", \"x0\": 895, \"x1\": 1251, \"xref\": \"x\", \"y0\": 2325, \"y1\": 2682, \"yref\": \"y\"}, {\"fillcolor\": \"#2195c0\", \"layer\": \"below\", \"line\": {\"width\": 0}, \"opacity\": 1.0, \"type\": \"rect\", \"x0\": 895, \"x1\": 1251, \"xref\": \"x\", \"y0\": 2683, \"y1\": 3040, \"yref\": \"y\"}, {\"fillcolor\": \"#234da0\", \"layer\": \"below\", \"line\": {\"width\": 0}, \"opacity\": 1.0, \"type\": \"rect\", \"x0\": 895, \"x1\": 1251, \"xref\": \"x\", \"y0\": 3041, \"y1\": 3385, \"yref\": \"y\"}, {\"fillcolor\": \"#f0f9b8\", \"layer\": \"below\", \"line\": {\"width\": 0}, \"opacity\": 1.0, \"type\": \"rect\", \"x0\": 895, \"x1\": 1251, \"xref\": \"x\", \"y0\": 3385, \"y1\": 3741, \"yref\": \"y\"}, {\"fillcolor\": \"#97d6b9\", \"layer\": \"below\", \"line\": {\"width\": 0}, \"opacity\": 1.0, \"type\": \"rect\", \"x0\": 895, \"x1\": 1251, \"xref\": \"x\", \"y0\": 3741, \"y1\": 4099, \"yref\": \"y\"}, {\"fillcolor\": \"#61c2bf\", \"layer\": \"below\", \"line\": {\"width\": 0}, \"opacity\": 1.0, \"type\": \"rect\", \"x0\": 895, \"x1\": 1251, \"xref\": \"x\", \"y0\": 4099, \"y1\": 4458, \"yref\": \"y\"}, {\"fillcolor\": \"#cdebb4\", \"layer\": \"below\", \"line\": {\"width\": 0}, \"opacity\": 1.0, \"type\": \"rect\", \"x0\": 895, \"x1\": 1251, \"xref\": \"x\", \"y0\": 4458, \"y1\": 4816, \"yref\": \"y\"}, {\"fillcolor\": \"#2075b3\", \"layer\": \"below\", \"line\": {\"width\": 0}, \"opacity\": 1.0, \"type\": \"rect\", \"x0\": 895, \"x1\": 1251, \"xref\": \"x\", \"y0\": 4816, \"y1\": 5167, \"yref\": \"y\"}, {\"fillcolor\": \"#e5f5b2\", \"layer\": \"below\", \"line\": {\"width\": 0}, \"opacity\": 1.0, \"type\": \"rect\", \"x0\": 895, \"x1\": 1251, \"xref\": \"x\", \"y0\": 5167, \"y1\": 5525, \"yref\": \"y\"}, {\"fillcolor\": \"#b4e2b6\", \"layer\": \"below\", \"line\": {\"width\": 0}, \"opacity\": 1.0, \"type\": \"rect\", \"x0\": 895, \"x1\": 1251, \"xref\": \"x\", \"y0\": 5525, \"y1\": 5876, \"yref\": \"y\"}, {\"fillcolor\": \"#36abc3\", \"layer\": \"below\", \"line\": {\"width\": 0}, \"opacity\": 1.0, \"type\": \"rect\", \"x0\": 895, \"x1\": 1251, \"xref\": \"x\", \"y0\": 5876, \"y1\": 6234, \"yref\": \"y\"}, {\"fillcolor\": \"#97d6b9\", \"layer\": \"below\", \"line\": {\"width\": 0}, \"opacity\": 1.0, \"type\": \"rect\", \"x0\": 895, \"x1\": 1251, \"xref\": \"x\", \"y0\": 6235, \"y1\": 6592, \"yref\": \"y\"}, {\"fillcolor\": \"#f0f9b8\", \"layer\": \"below\", \"line\": {\"width\": 0}, \"opacity\": 1.0, \"type\": \"rect\", \"x0\": 895, \"x1\": 1251, \"xref\": \"x\", \"y0\": 6592, \"y1\": 6950, \"yref\": \"y\"}, {\"fillcolor\": \"#36abc3\", \"layer\": \"below\", \"line\": {\"width\": 0}, \"opacity\": 1.0, \"type\": \"rect\", \"x0\": 895, \"x1\": 1251, \"xref\": \"x\", \"y0\": 6950, \"y1\": 7307, \"yref\": \"y\"}, {\"fillcolor\": \"#a5dcb7\", \"layer\": \"below\", \"line\": {\"width\": 0}, \"opacity\": 1.0, \"type\": \"rect\", \"x0\": 895, \"x1\": 1251, \"xref\": \"x\", \"y0\": 7308, \"y1\": 7664, \"yref\": \"y\"}, {\"fillcolor\": \"#cdebb4\", \"layer\": \"below\", \"line\": {\"width\": 0}, \"opacity\": 1.0, \"type\": \"rect\", \"x0\": 895, \"x1\": 1251, \"xref\": \"x\", \"y0\": 7664, \"y1\": 8022, \"yref\": \"y\"}, {\"fillcolor\": \"#f4fbc1\", \"layer\": \"below\", \"line\": {\"width\": 0}, \"opacity\": 1.0, \"type\": \"rect\", \"x0\": 895, \"x1\": 1251, \"xref\": \"x\", \"y0\": 8022, \"y1\": 8380, \"yref\": \"y\"}, {\"fillcolor\": \"#3eb3c4\", \"layer\": \"below\", \"line\": {\"width\": 0}, \"opacity\": 1.0, \"type\": \"rect\", \"x0\": 895, \"x1\": 1251, \"xref\": \"x\", \"y0\": 8380, \"y1\": 8736, \"yref\": \"y\"}, {\"fillcolor\": \"#b4e2b6\", \"layer\": \"below\", \"line\": {\"width\": 0}, \"opacity\": 1.0, \"type\": \"rect\", \"x0\": 895, \"x1\": 1251, \"xref\": \"x\", \"y0\": 8736, \"y1\": 9093, \"yref\": \"y\"}, {\"fillcolor\": \"#b4e2b6\", \"layer\": \"below\", \"line\": {\"width\": 0}, \"opacity\": 1.0, \"type\": \"rect\", \"x0\": 895, \"x1\": 1251, \"xref\": \"x\", \"y0\": 9093, \"y1\": 9451, \"yref\": \"y\"}, {\"fillcolor\": \"#f0f9b8\", \"layer\": \"below\", \"line\": {\"width\": 0}, \"opacity\": 1.0, \"type\": \"rect\", \"x0\": 895, \"x1\": 1251, \"xref\": \"x\", \"y0\": 9451, \"y1\": 9809, \"yref\": \"y\"}, {\"fillcolor\": \"#36abc3\", \"layer\": \"below\", \"line\": {\"width\": 0}, \"opacity\": 1.0, \"type\": \"rect\", \"x0\": 895, \"x1\": 1251, \"xref\": \"x\", \"y0\": 9809, \"y1\": 10165, \"yref\": \"y\"}, {\"fillcolor\": \"#216daf\", \"layer\": \"below\", \"line\": {\"width\": 0}, \"opacity\": 1.0, \"type\": \"rect\", \"x0\": 895, \"x1\": 1251, \"xref\": \"x\", \"y0\": 10166, \"y1\": 10524, \"yref\": \"y\"}, {\"fillcolor\": \"#289cc1\", \"layer\": \"below\", \"line\": {\"width\": 0}, \"opacity\": 1.0, \"type\": \"rect\", \"x0\": 895, \"x1\": 1251, \"xref\": \"x\", \"y0\": 10525, \"y1\": 10882, \"yref\": \"y\"}, {\"fillcolor\": \"#a5dcb7\", \"layer\": \"below\", \"line\": {\"width\": 0}, \"opacity\": 1.0, \"type\": \"rect\", \"x0\": 895, \"x1\": 1251, \"xref\": \"x\", \"y0\": 10882, \"y1\": 11239, \"yref\": \"y\"}, {\"fillcolor\": \"#b4e2b6\", \"layer\": \"below\", \"line\": {\"width\": 0}, \"opacity\": 1.0, \"type\": \"rect\", \"x0\": 895, \"x1\": 1251, \"xref\": \"x\", \"y0\": 11239, \"y1\": 11598, \"yref\": \"y\"}, {\"fillcolor\": \"#f0f9b8\", \"layer\": \"below\", \"line\": {\"width\": 0}, \"opacity\": 1.0, \"type\": \"rect\", \"x0\": 895, \"x1\": 1251, \"xref\": \"x\", \"y0\": 11598, \"y1\": 11956, \"yref\": \"y\"}, {\"fillcolor\": \"#1f82b9\", \"layer\": \"below\", \"line\": {\"width\": 0}, \"opacity\": 1.0, \"type\": \"rect\", \"x0\": 895, \"x1\": 1251, \"xref\": \"x\", \"y0\": 11956, \"y1\": 12314, \"yref\": \"y\"}, {\"fillcolor\": \"#1e8bbd\", \"layer\": \"below\", \"line\": {\"width\": 0}, \"opacity\": 1.0, \"type\": \"rect\", \"x0\": 895, \"x1\": 1251, \"xref\": \"x\", \"y0\": 12315, \"y1\": 12672, \"yref\": \"y\"}, {\"fillcolor\": \"#53bdc1\", \"layer\": \"below\", \"line\": {\"width\": 0}, \"opacity\": 1.0, \"type\": \"rect\", \"x0\": 895, \"x1\": 1251, \"xref\": \"x\", \"y0\": 12673, \"y1\": 13029, \"yref\": \"y\"}, {\"fillcolor\": \"#48b9c3\", \"layer\": \"below\", \"line\": {\"width\": 0}, \"opacity\": 1.0, \"type\": \"rect\", \"x0\": 895, \"x1\": 1251, \"xref\": \"x\", \"y0\": 13029, \"y1\": 13385, \"yref\": \"y\"}, {\"fillcolor\": \"#6dc6be\", \"layer\": \"below\", \"line\": {\"width\": 0}, \"opacity\": 1.0, \"type\": \"rect\", \"x0\": 895, \"x1\": 1251, \"xref\": \"x\", \"y0\": 13386, \"y1\": 13740, \"yref\": \"y\"}, {\"fillcolor\": \"#2fa4c2\", \"layer\": \"below\", \"line\": {\"width\": 0}, \"opacity\": 1.0, \"type\": \"rect\", \"x0\": 1251, \"x1\": 1609, \"xref\": \"x\", \"y0\": 1610, \"y1\": 1967, \"yref\": \"y\"}, {\"fillcolor\": \"#89d1ba\", \"layer\": \"below\", \"line\": {\"width\": 0}, \"opacity\": 1.0, \"type\": \"rect\", \"x0\": 1251, \"x1\": 1609, \"xref\": \"x\", \"y0\": 1967, \"y1\": 2324, \"yref\": \"y\"}, {\"fillcolor\": \"#b4e2b6\", \"layer\": \"below\", \"line\": {\"width\": 0}, \"opacity\": 1.0, \"type\": \"rect\", \"x0\": 1251, \"x1\": 1609, \"xref\": \"x\", \"y0\": 2325, \"y1\": 2682, \"yref\": \"y\"}, {\"fillcolor\": \"#cdebb4\", \"layer\": \"below\", \"line\": {\"width\": 0}, \"opacity\": 1.0, \"type\": \"rect\", \"x0\": 1251, \"x1\": 1609, \"xref\": \"x\", \"y0\": 2683, \"y1\": 3040, \"yref\": \"y\"}, {\"fillcolor\": \"#24479d\", \"layer\": \"below\", \"line\": {\"width\": 0}, \"opacity\": 1.0, \"type\": \"rect\", \"x0\": 1251, \"x1\": 1609, \"xref\": \"x\", \"y0\": 3041, \"y1\": 3385, \"yref\": \"y\"}, {\"fillcolor\": \"#36abc3\", \"layer\": \"below\", \"line\": {\"width\": 0}, \"opacity\": 1.0, \"type\": \"rect\", \"x0\": 1251, \"x1\": 1609, \"xref\": \"x\", \"y0\": 3385, \"y1\": 3741, \"yref\": \"y\"}, {\"fillcolor\": \"#61c2bf\", \"layer\": \"below\", \"line\": {\"width\": 0}, \"opacity\": 1.0, \"type\": \"rect\", \"x0\": 1251, \"x1\": 1609, \"xref\": \"x\", \"y0\": 3741, \"y1\": 4099, \"yref\": \"y\"}, {\"fillcolor\": \"#55bec1\", \"layer\": \"below\", \"line\": {\"width\": 0}, \"opacity\": 1.0, \"type\": \"rect\", \"x0\": 1251, \"x1\": 1609, \"xref\": \"x\", \"y0\": 4099, \"y1\": 4458, \"yref\": \"y\"}, {\"fillcolor\": \"#48b9c3\", \"layer\": \"below\", \"line\": {\"width\": 0}, \"opacity\": 1.0, \"type\": \"rect\", \"x0\": 1251, \"x1\": 1609, \"xref\": \"x\", \"y0\": 4458, \"y1\": 4816, \"yref\": \"y\"}, {\"fillcolor\": \"#7acbbc\", \"layer\": \"below\", \"line\": {\"width\": 0}, \"opacity\": 1.0, \"type\": \"rect\", \"x0\": 1251, \"x1\": 1609, \"xref\": \"x\", \"y0\": 4816, \"y1\": 5167, \"yref\": \"y\"}, {\"fillcolor\": \"#6fc7bd\", \"layer\": \"below\", \"line\": {\"width\": 0}, \"opacity\": 1.0, \"type\": \"rect\", \"x0\": 1251, \"x1\": 1609, \"xref\": \"x\", \"y0\": 5167, \"y1\": 5525, \"yref\": \"y\"}, {\"fillcolor\": \"#2262aa\", \"layer\": \"below\", \"line\": {\"width\": 0}, \"opacity\": 1.0, \"type\": \"rect\", \"x0\": 1251, \"x1\": 1609, \"xref\": \"x\", \"y0\": 5525, \"y1\": 5876, \"yref\": \"y\"}, {\"fillcolor\": \"#fcfed1\", \"layer\": \"below\", \"line\": {\"width\": 0}, \"opacity\": 1.0, \"type\": \"rect\", \"x0\": 1251, \"x1\": 1609, \"xref\": \"x\", \"y0\": 5876, \"y1\": 6234, \"yref\": \"y\"}, {\"fillcolor\": \"#2fa4c2\", \"layer\": \"below\", \"line\": {\"width\": 0}, \"opacity\": 1.0, \"type\": \"rect\", \"x0\": 1251, \"x1\": 1609, \"xref\": \"x\", \"y0\": 6235, \"y1\": 6592, \"yref\": \"y\"}, {\"fillcolor\": \"#55bec1\", \"layer\": \"below\", \"line\": {\"width\": 0}, \"opacity\": 1.0, \"type\": \"rect\", \"x0\": 1251, \"x1\": 1609, \"xref\": \"x\", \"y0\": 6592, \"y1\": 6950, \"yref\": \"y\"}, {\"fillcolor\": \"#fcfed1\", \"layer\": \"below\", \"line\": {\"width\": 0}, \"opacity\": 1.0, \"type\": \"rect\", \"x0\": 1251, \"x1\": 1609, \"xref\": \"x\", \"y0\": 6950, \"y1\": 7307, \"yref\": \"y\"}, {\"fillcolor\": \"#2fa4c2\", \"layer\": \"below\", \"line\": {\"width\": 0}, \"opacity\": 1.0, \"type\": \"rect\", \"x0\": 1251, \"x1\": 1609, \"xref\": \"x\", \"y0\": 7308, \"y1\": 7664, \"yref\": \"y\"}, {\"fillcolor\": \"#3eb3c4\", \"layer\": \"below\", \"line\": {\"width\": 0}, \"opacity\": 1.0, \"type\": \"rect\", \"x0\": 1251, \"x1\": 1609, \"xref\": \"x\", \"y0\": 7664, \"y1\": 8022, \"yref\": \"y\"}, {\"fillcolor\": \"#3eb3c4\", \"layer\": \"below\", \"line\": {\"width\": 0}, \"opacity\": 1.0, \"type\": \"rect\", \"x0\": 1251, \"x1\": 1609, \"xref\": \"x\", \"y0\": 8022, \"y1\": 8380, \"yref\": \"y\"}, {\"fillcolor\": \"#edf8b1\", \"layer\": \"below\", \"line\": {\"width\": 0}, \"opacity\": 1.0, \"type\": \"rect\", \"x0\": 1251, \"x1\": 1609, \"xref\": \"x\", \"y0\": 8380, \"y1\": 8736, \"yref\": \"y\"}, {\"fillcolor\": \"#36abc3\", \"layer\": \"below\", \"line\": {\"width\": 0}, \"opacity\": 1.0, \"type\": \"rect\", \"x0\": 1251, \"x1\": 1609, \"xref\": \"x\", \"y0\": 8736, \"y1\": 9093, \"yref\": \"y\"}, {\"fillcolor\": \"#48b9c3\", \"layer\": \"below\", \"line\": {\"width\": 0}, \"opacity\": 1.0, \"type\": \"rect\", \"x0\": 1251, \"x1\": 1609, \"xref\": \"x\", \"y0\": 9093, \"y1\": 9451, \"yref\": \"y\"}, {\"fillcolor\": \"#48b9c3\", \"layer\": \"below\", \"line\": {\"width\": 0}, \"opacity\": 1.0, \"type\": \"rect\", \"x0\": 1251, \"x1\": 1609, \"xref\": \"x\", \"y0\": 9451, \"y1\": 9809, \"yref\": \"y\"}, {\"fillcolor\": \"#cdebb4\", \"layer\": \"below\", \"line\": {\"width\": 0}, \"opacity\": 1.0, \"type\": \"rect\", \"x0\": 1251, \"x1\": 1609, \"xref\": \"x\", \"y0\": 9809, \"y1\": 10165, \"yref\": \"y\"}, {\"fillcolor\": \"#55bec1\", \"layer\": \"below\", \"line\": {\"width\": 0}, \"opacity\": 1.0, \"type\": \"rect\", \"x0\": 1251, \"x1\": 1609, \"xref\": \"x\", \"y0\": 10166, \"y1\": 10524, \"yref\": \"y\"}, {\"fillcolor\": \"#ddf2b2\", \"layer\": \"below\", \"line\": {\"width\": 0}, \"opacity\": 1.0, \"type\": \"rect\", \"x0\": 1251, \"x1\": 1609, \"xref\": \"x\", \"y0\": 10525, \"y1\": 10882, \"yref\": \"y\"}, {\"fillcolor\": \"#2fa4c2\", \"layer\": \"below\", \"line\": {\"width\": 0}, \"opacity\": 1.0, \"type\": \"rect\", \"x0\": 1251, \"x1\": 1609, \"xref\": \"x\", \"y0\": 10882, \"y1\": 11239, \"yref\": \"y\"}, {\"fillcolor\": \"#55bec1\", \"layer\": \"below\", \"line\": {\"width\": 0}, \"opacity\": 1.0, \"type\": \"rect\", \"x0\": 1251, \"x1\": 1609, \"xref\": \"x\", \"y0\": 11239, \"y1\": 11598, \"yref\": \"y\"}, {\"fillcolor\": \"#48b9c3\", \"layer\": \"below\", \"line\": {\"width\": 0}, \"opacity\": 1.0, \"type\": \"rect\", \"x0\": 1251, \"x1\": 1609, \"xref\": \"x\", \"y0\": 11598, \"y1\": 11956, \"yref\": \"y\"}, {\"fillcolor\": \"#63c3bf\", \"layer\": \"below\", \"line\": {\"width\": 0}, \"opacity\": 1.0, \"type\": \"rect\", \"x0\": 1251, \"x1\": 1609, \"xref\": \"x\", \"y0\": 11956, \"y1\": 12314, \"yref\": \"y\"}, {\"fillcolor\": \"#c4e8b4\", \"layer\": \"below\", \"line\": {\"width\": 0}, \"opacity\": 1.0, \"type\": \"rect\", \"x0\": 1251, \"x1\": 1609, \"xref\": \"x\", \"y0\": 12315, \"y1\": 12672, \"yref\": \"y\"}, {\"fillcolor\": \"#2ea3c2\", \"layer\": \"below\", \"line\": {\"width\": 0}, \"opacity\": 1.0, \"type\": \"rect\", \"x0\": 1251, \"x1\": 1609, \"xref\": \"x\", \"y0\": 12673, \"y1\": 13029, \"yref\": \"y\"}, {\"fillcolor\": \"#6dc6be\", \"layer\": \"below\", \"line\": {\"width\": 0}, \"opacity\": 1.0, \"type\": \"rect\", \"x0\": 1251, \"x1\": 1609, \"xref\": \"x\", \"y0\": 13029, \"y1\": 13385, \"yref\": \"y\"}, {\"fillcolor\": \"#1f82b9\", \"layer\": \"below\", \"line\": {\"width\": 0}, \"opacity\": 1.0, \"type\": \"rect\", \"x0\": 1251, \"x1\": 1609, \"xref\": \"x\", \"y0\": 13386, \"y1\": 13740, \"yref\": \"y\"}, {\"fillcolor\": \"#2195c0\", \"layer\": \"below\", \"line\": {\"width\": 0}, \"opacity\": 1.0, \"type\": \"rect\", \"x0\": 1610, \"x1\": 1967, \"xref\": \"x\", \"y0\": 1967, \"y1\": 2324, \"yref\": \"y\"}, {\"fillcolor\": \"#1f82b9\", \"layer\": \"below\", \"line\": {\"width\": 0}, \"opacity\": 1.0, \"type\": \"rect\", \"x0\": 1610, \"x1\": 1967, \"xref\": \"x\", \"y0\": 2325, \"y1\": 2682, \"yref\": \"y\"}, {\"fillcolor\": \"#2195c0\", \"layer\": \"below\", \"line\": {\"width\": 0}, \"opacity\": 1.0, \"type\": \"rect\", \"x0\": 1610, \"x1\": 1967, \"xref\": \"x\", \"y0\": 2683, \"y1\": 3040, \"yref\": \"y\"}, {\"fillcolor\": \"#2260a9\", \"layer\": \"below\", \"line\": {\"width\": 0}, \"opacity\": 1.0, \"type\": \"rect\", \"x0\": 1610, \"x1\": 1967, \"xref\": \"x\", \"y0\": 3041, \"y1\": 3385, \"yref\": \"y\"}, {\"fillcolor\": \"#89d1ba\", \"layer\": \"below\", \"line\": {\"width\": 0}, \"opacity\": 1.0, \"type\": \"rect\", \"x0\": 1610, \"x1\": 1967, \"xref\": \"x\", \"y0\": 3385, \"y1\": 3741, \"yref\": \"y\"}, {\"fillcolor\": \"#a7dcb7\", \"layer\": \"below\", \"line\": {\"width\": 0}, \"opacity\": 1.0, \"type\": \"rect\", \"x0\": 1610, \"x1\": 1967, \"xref\": \"x\", \"y0\": 3741, \"y1\": 4099, \"yref\": \"y\"}, {\"fillcolor\": \"#7acbbc\", \"layer\": \"below\", \"line\": {\"width\": 0}, \"opacity\": 1.0, \"type\": \"rect\", \"x0\": 1610, \"x1\": 1967, \"xref\": \"x\", \"y0\": 4099, \"y1\": 4458, \"yref\": \"y\"}, {\"fillcolor\": \"#89d1ba\", \"layer\": \"below\", \"line\": {\"width\": 0}, \"opacity\": 1.0, \"type\": \"rect\", \"x0\": 1610, \"x1\": 1967, \"xref\": \"x\", \"y0\": 4458, \"y1\": 4816, \"yref\": \"y\"}, {\"fillcolor\": \"#289cc1\", \"layer\": \"below\", \"line\": {\"width\": 0}, \"opacity\": 1.0, \"type\": \"rect\", \"x0\": 1610, \"x1\": 1967, \"xref\": \"x\", \"y0\": 4816, \"y1\": 5167, \"yref\": \"y\"}, {\"fillcolor\": \"#c4e8b4\", \"layer\": \"below\", \"line\": {\"width\": 0}, \"opacity\": 1.0, \"type\": \"rect\", \"x0\": 1610, \"x1\": 1967, \"xref\": \"x\", \"y0\": 5167, \"y1\": 5525, \"yref\": \"y\"}, {\"fillcolor\": \"#7acbbc\", \"layer\": \"below\", \"line\": {\"width\": 0}, \"opacity\": 1.0, \"type\": \"rect\", \"x0\": 1610, \"x1\": 1967, \"xref\": \"x\", \"y0\": 5525, \"y1\": 5876, \"yref\": \"y\"}, {\"fillcolor\": \"#299dc1\", \"layer\": \"below\", \"line\": {\"width\": 0}, \"opacity\": 1.0, \"type\": \"rect\", \"x0\": 1610, \"x1\": 1967, \"xref\": \"x\", \"y0\": 5876, \"y1\": 6234, \"yref\": \"y\"}, {\"fillcolor\": \"#f4fbc1\", \"layer\": \"below\", \"line\": {\"width\": 0}, \"opacity\": 1.0, \"type\": \"rect\", \"x0\": 1610, \"x1\": 1967, \"xref\": \"x\", \"y0\": 6235, \"y1\": 6592, \"yref\": \"y\"}, {\"fillcolor\": \"#89d1ba\", \"layer\": \"below\", \"line\": {\"width\": 0}, \"opacity\": 1.0, \"type\": \"rect\", \"x0\": 1610, \"x1\": 1967, \"xref\": \"x\", \"y0\": 6592, \"y1\": 6950, \"yref\": \"y\"}, {\"fillcolor\": \"#299dc1\", \"layer\": \"below\", \"line\": {\"width\": 0}, \"opacity\": 1.0, \"type\": \"rect\", \"x0\": 1610, \"x1\": 1967, \"xref\": \"x\", \"y0\": 6950, \"y1\": 7307, \"yref\": \"y\"}, {\"fillcolor\": \"#f8fcc9\", \"layer\": \"below\", \"line\": {\"width\": 0}, \"opacity\": 1.0, \"type\": \"rect\", \"x0\": 1610, \"x1\": 1967, \"xref\": \"x\", \"y0\": 7308, \"y1\": 7664, \"yref\": \"y\"}, {\"fillcolor\": \"#a7dcb7\", \"layer\": \"below\", \"line\": {\"width\": 0}, \"opacity\": 1.0, \"type\": \"rect\", \"x0\": 1610, \"x1\": 1967, \"xref\": \"x\", \"y0\": 7664, \"y1\": 8022, \"yref\": \"y\"}, {\"fillcolor\": \"#89d1ba\", \"layer\": \"below\", \"line\": {\"width\": 0}, \"opacity\": 1.0, \"type\": \"rect\", \"x0\": 1610, \"x1\": 1967, \"xref\": \"x\", \"y0\": 8022, \"y1\": 8380, \"yref\": \"y\"}, {\"fillcolor\": \"#289cc1\", \"layer\": \"below\", \"line\": {\"width\": 0}, \"opacity\": 1.0, \"type\": \"rect\", \"x0\": 1610, \"x1\": 1967, \"xref\": \"x\", \"y0\": 8380, \"y1\": 8736, \"yref\": \"y\"}, {\"fillcolor\": \"#fcfed1\", \"layer\": \"below\", \"line\": {\"width\": 0}, \"opacity\": 1.0, \"type\": \"rect\", \"x0\": 1610, \"x1\": 1967, \"xref\": \"x\", \"y0\": 8736, \"y1\": 9093, \"yref\": \"y\"}, {\"fillcolor\": \"#61c2bf\", \"layer\": \"below\", \"line\": {\"width\": 0}, \"opacity\": 1.0, \"type\": \"rect\", \"x0\": 1610, \"x1\": 1967, \"xref\": \"x\", \"y0\": 9093, \"y1\": 9451, \"yref\": \"y\"}, {\"fillcolor\": \"#97d6b9\", \"layer\": \"below\", \"line\": {\"width\": 0}, \"opacity\": 1.0, \"type\": \"rect\", \"x0\": 1610, \"x1\": 1967, \"xref\": \"x\", \"y0\": 9451, \"y1\": 9809, \"yref\": \"y\"}, {\"fillcolor\": \"#2ea3c2\", \"layer\": \"below\", \"line\": {\"width\": 0}, \"opacity\": 1.0, \"type\": \"rect\", \"x0\": 1610, \"x1\": 1967, \"xref\": \"x\", \"y0\": 9809, \"y1\": 10165, \"yref\": \"y\"}, {\"fillcolor\": \"#216daf\", \"layer\": \"below\", \"line\": {\"width\": 0}, \"opacity\": 1.0, \"type\": \"rect\", \"x0\": 1610, \"x1\": 1967, \"xref\": \"x\", \"y0\": 10166, \"y1\": 10524, \"yref\": \"y\"}, {\"fillcolor\": \"#1e8bbd\", \"layer\": \"below\", \"line\": {\"width\": 0}, \"opacity\": 1.0, \"type\": \"rect\", \"x0\": 1610, \"x1\": 1967, \"xref\": \"x\", \"y0\": 10525, \"y1\": 10882, \"yref\": \"y\"}, {\"fillcolor\": \"#f8fcc9\", \"layer\": \"below\", \"line\": {\"width\": 0}, \"opacity\": 1.0, \"type\": \"rect\", \"x0\": 1610, \"x1\": 1967, \"xref\": \"x\", \"y0\": 10882, \"y1\": 11239, \"yref\": \"y\"}, {\"fillcolor\": \"#6dc6be\", \"layer\": \"below\", \"line\": {\"width\": 0}, \"opacity\": 1.0, \"type\": \"rect\", \"x0\": 1610, \"x1\": 1967, \"xref\": \"x\", \"y0\": 11239, \"y1\": 11598, \"yref\": \"y\"}, {\"fillcolor\": \"#97d6b9\", \"layer\": \"below\", \"line\": {\"width\": 0}, \"opacity\": 1.0, \"type\": \"rect\", \"x0\": 1610, \"x1\": 1967, \"xref\": \"x\", \"y0\": 11598, \"y1\": 11956, \"yref\": \"y\"}, {\"fillcolor\": \"#1f78b4\", \"layer\": \"below\", \"line\": {\"width\": 0}, \"opacity\": 1.0, \"type\": \"rect\", \"x0\": 1610, \"x1\": 1967, \"xref\": \"x\", \"y0\": 11956, \"y1\": 12314, \"yref\": \"y\"}, {\"fillcolor\": \"#1e8bbd\", \"layer\": \"below\", \"line\": {\"width\": 0}, \"opacity\": 1.0, \"type\": \"rect\", \"x0\": 1610, \"x1\": 1967, \"xref\": \"x\", \"y0\": 12315, \"y1\": 12672, \"yref\": \"y\"}, {\"fillcolor\": \"#a7dcb7\", \"layer\": \"below\", \"line\": {\"width\": 0}, \"opacity\": 1.0, \"type\": \"rect\", \"x0\": 1610, \"x1\": 1967, \"xref\": \"x\", \"y0\": 12673, \"y1\": 13029, \"yref\": \"y\"}, {\"fillcolor\": \"#61c2bf\", \"layer\": \"below\", \"line\": {\"width\": 0}, \"opacity\": 1.0, \"type\": \"rect\", \"x0\": 1610, \"x1\": 1967, \"xref\": \"x\", \"y0\": 13029, \"y1\": 13385, \"yref\": \"y\"}, {\"fillcolor\": \"#e5f5b2\", \"layer\": \"below\", \"line\": {\"width\": 0}, \"opacity\": 1.0, \"type\": \"rect\", \"x0\": 1610, \"x1\": 1967, \"xref\": \"x\", \"y0\": 13386, \"y1\": 13740, \"yref\": \"y\"}, {\"fillcolor\": \"#48b9c3\", \"layer\": \"below\", \"line\": {\"width\": 0}, \"opacity\": 1.0, \"type\": \"rect\", \"x0\": 1967, \"x1\": 2324, \"xref\": \"x\", \"y0\": 2325, \"y1\": 2682, \"yref\": \"y\"}, {\"fillcolor\": \"#61c2bf\", \"layer\": \"below\", \"line\": {\"width\": 0}, \"opacity\": 1.0, \"type\": \"rect\", \"x0\": 1967, \"x1\": 2324, \"xref\": \"x\", \"y0\": 2683, \"y1\": 3040, \"yref\": \"y\"}, {\"fillcolor\": \"#203089\", \"layer\": \"below\", \"line\": {\"width\": 0}, \"opacity\": 1.0, \"type\": \"rect\", \"x0\": 1967, \"x1\": 2324, \"xref\": \"x\", \"y0\": 3041, \"y1\": 3385, \"yref\": \"y\"}, {\"fillcolor\": \"#1f82b9\", \"layer\": \"below\", \"line\": {\"width\": 0}, \"opacity\": 1.0, \"type\": \"rect\", \"x0\": 1967, \"x1\": 2324, \"xref\": \"x\", \"y0\": 3385, \"y1\": 3741, \"yref\": \"y\"}, {\"fillcolor\": \"#48b9c3\", \"layer\": \"below\", \"line\": {\"width\": 0}, \"opacity\": 1.0, \"type\": \"rect\", \"x0\": 1967, \"x1\": 2324, \"xref\": \"x\", \"y0\": 3741, \"y1\": 4099, \"yref\": \"y\"}, {\"fillcolor\": \"#36abc3\", \"layer\": \"below\", \"line\": {\"width\": 0}, \"opacity\": 1.0, \"type\": \"rect\", \"x0\": 1967, \"x1\": 2324, \"xref\": \"x\", \"y0\": 4099, \"y1\": 4458, \"yref\": \"y\"}, {\"fillcolor\": \"#2195c0\", \"layer\": \"below\", \"line\": {\"width\": 0}, \"opacity\": 1.0, \"type\": \"rect\", \"x0\": 1967, \"x1\": 2324, \"xref\": \"x\", \"y0\": 4458, \"y1\": 4816, \"yref\": \"y\"}, {\"fillcolor\": \"#2094c0\", \"layer\": \"below\", \"line\": {\"width\": 0}, \"opacity\": 1.0, \"type\": \"rect\", \"x0\": 1967, \"x1\": 2324, \"xref\": \"x\", \"y0\": 4816, \"y1\": 5167, \"yref\": \"y\"}, {\"fillcolor\": \"#3eb3c4\", \"layer\": \"below\", \"line\": {\"width\": 0}, \"opacity\": 1.0, \"type\": \"rect\", \"x0\": 1967, \"x1\": 2324, \"xref\": \"x\", \"y0\": 5167, \"y1\": 5525, \"yref\": \"y\"}, {\"fillcolor\": \"#24489d\", \"layer\": \"below\", \"line\": {\"width\": 0}, \"opacity\": 1.0, \"type\": \"rect\", \"x0\": 1967, \"x1\": 2324, \"xref\": \"x\", \"y0\": 5525, \"y1\": 5876, \"yref\": \"y\"}, {\"fillcolor\": \"#7acbbc\", \"layer\": \"below\", \"line\": {\"width\": 0}, \"opacity\": 1.0, \"type\": \"rect\", \"x0\": 1967, \"x1\": 2324, \"xref\": \"x\", \"y0\": 5876, \"y1\": 6234, \"yref\": \"y\"}, {\"fillcolor\": \"#1e8bbd\", \"layer\": \"below\", \"line\": {\"width\": 0}, \"opacity\": 1.0, \"type\": \"rect\", \"x0\": 1967, \"x1\": 2324, \"xref\": \"x\", \"y0\": 6235, \"y1\": 6592, \"yref\": \"y\"}, {\"fillcolor\": \"#289cc1\", \"layer\": \"below\", \"line\": {\"width\": 0}, \"opacity\": 1.0, \"type\": \"rect\", \"x0\": 1967, \"x1\": 2324, \"xref\": \"x\", \"y0\": 6592, \"y1\": 6950, \"yref\": \"y\"}, {\"fillcolor\": \"#7acbbc\", \"layer\": \"below\", \"line\": {\"width\": 0}, \"opacity\": 1.0, \"type\": \"rect\", \"x0\": 1967, \"x1\": 2324, \"xref\": \"x\", \"y0\": 6950, \"y1\": 7307, \"yref\": \"y\"}, {\"fillcolor\": \"#2195c0\", \"layer\": \"below\", \"line\": {\"width\": 0}, \"opacity\": 1.0, \"type\": \"rect\", \"x0\": 1967, \"x1\": 2324, \"xref\": \"x\", \"y0\": 7308, \"y1\": 7664, \"yref\": \"y\"}, {\"fillcolor\": \"#36abc3\", \"layer\": \"below\", \"line\": {\"width\": 0}, \"opacity\": 1.0, \"type\": \"rect\", \"x0\": 1967, \"x1\": 2324, \"xref\": \"x\", \"y0\": 7664, \"y1\": 8022, \"yref\": \"y\"}, {\"fillcolor\": \"#1e8bbd\", \"layer\": \"below\", \"line\": {\"width\": 0}, \"opacity\": 1.0, \"type\": \"rect\", \"x0\": 1967, \"x1\": 2324, \"xref\": \"x\", \"y0\": 8022, \"y1\": 8380, \"yref\": \"y\"}, {\"fillcolor\": \"#7acbbc\", \"layer\": \"below\", \"line\": {\"width\": 0}, \"opacity\": 1.0, \"type\": \"rect\", \"x0\": 1967, \"x1\": 2324, \"xref\": \"x\", \"y0\": 8380, \"y1\": 8736, \"yref\": \"y\"}, {\"fillcolor\": \"#289cc1\", \"layer\": \"below\", \"line\": {\"width\": 0}, \"opacity\": 1.0, \"type\": \"rect\", \"x0\": 1967, \"x1\": 2324, \"xref\": \"x\", \"y0\": 8736, \"y1\": 9093, \"yref\": \"y\"}, {\"fillcolor\": \"#36abc3\", \"layer\": \"below\", \"line\": {\"width\": 0}, \"opacity\": 1.0, \"type\": \"rect\", \"x0\": 1967, \"x1\": 2324, \"xref\": \"x\", \"y0\": 9093, \"y1\": 9451, \"yref\": \"y\"}, {\"fillcolor\": \"#2195c0\", \"layer\": \"below\", \"line\": {\"width\": 0}, \"opacity\": 1.0, \"type\": \"rect\", \"x0\": 1967, \"x1\": 2324, \"xref\": \"x\", \"y0\": 9451, \"y1\": 9809, \"yref\": \"y\"}, {\"fillcolor\": \"#b4e2b6\", \"layer\": \"below\", \"line\": {\"width\": 0}, \"opacity\": 1.0, \"type\": \"rect\", \"x0\": 1967, \"x1\": 2324, \"xref\": \"x\", \"y0\": 9809, \"y1\": 10165, \"yref\": \"y\"}, {\"fillcolor\": \"#a7dcb7\", \"layer\": \"below\", \"line\": {\"width\": 0}, \"opacity\": 1.0, \"type\": \"rect\", \"x0\": 1967, \"x1\": 2324, \"xref\": \"x\", \"y0\": 10166, \"y1\": 10524, \"yref\": \"y\"}, {\"fillcolor\": \"#61c2bf\", \"layer\": \"below\", \"line\": {\"width\": 0}, \"opacity\": 1.0, \"type\": \"rect\", \"x0\": 1967, \"x1\": 2324, \"xref\": \"x\", \"y0\": 10525, \"y1\": 10882, \"yref\": \"y\"}, {\"fillcolor\": \"#2195c0\", \"layer\": \"below\", \"line\": {\"width\": 0}, \"opacity\": 1.0, \"type\": \"rect\", \"x0\": 1967, \"x1\": 2324, \"xref\": \"x\", \"y0\": 10882, \"y1\": 11239, \"yref\": \"y\"}, {\"fillcolor\": \"#3eb3c4\", \"layer\": \"below\", \"line\": {\"width\": 0}, \"opacity\": 1.0, \"type\": \"rect\", \"x0\": 1967, \"x1\": 2324, \"xref\": \"x\", \"y0\": 11239, \"y1\": 11598, \"yref\": \"y\"}, {\"fillcolor\": \"#2195c0\", \"layer\": \"below\", \"line\": {\"width\": 0}, \"opacity\": 1.0, \"type\": \"rect\", \"x0\": 1967, \"x1\": 2324, \"xref\": \"x\", \"y0\": 11598, \"y1\": 11956, \"yref\": \"y\"}, {\"fillcolor\": \"#b4e2b6\", \"layer\": \"below\", \"line\": {\"width\": 0}, \"opacity\": 1.0, \"type\": \"rect\", \"x0\": 1967, \"x1\": 2324, \"xref\": \"x\", \"y0\": 11956, \"y1\": 12314, \"yref\": \"y\"}, {\"fillcolor\": \"#55bec1\", \"layer\": \"below\", \"line\": {\"width\": 0}, \"opacity\": 1.0, \"type\": \"rect\", \"x0\": 1967, \"x1\": 2324, \"xref\": \"x\", \"y0\": 12315, \"y1\": 12672, \"yref\": \"y\"}, {\"fillcolor\": \"#2ea3c2\", \"layer\": \"below\", \"line\": {\"width\": 0}, \"opacity\": 1.0, \"type\": \"rect\", \"x0\": 1967, \"x1\": 2324, \"xref\": \"x\", \"y0\": 12673, \"y1\": 13029, \"yref\": \"y\"}, {\"fillcolor\": \"#2094c0\", \"layer\": \"below\", \"line\": {\"width\": 0}, \"opacity\": 1.0, \"type\": \"rect\", \"x0\": 1967, \"x1\": 2324, \"xref\": \"x\", \"y0\": 13029, \"y1\": 13385, \"yref\": \"y\"}, {\"fillcolor\": \"#1f80b8\", \"layer\": \"below\", \"line\": {\"width\": 0}, \"opacity\": 1.0, \"type\": \"rect\", \"x0\": 1967, \"x1\": 2324, \"xref\": \"x\", \"y0\": 13386, \"y1\": 13740, \"yref\": \"y\"}, {\"fillcolor\": \"#f8fcc9\", \"layer\": \"below\", \"line\": {\"width\": 0}, \"opacity\": 1.0, \"type\": \"rect\", \"x0\": 2325, \"x1\": 2682, \"xref\": \"x\", \"y0\": 2683, \"y1\": 3040, \"yref\": \"y\"}, {\"fillcolor\": \"#253595\", \"layer\": \"below\", \"line\": {\"width\": 0}, \"opacity\": 1.0, \"type\": \"rect\", \"x0\": 2325, \"x1\": 2682, \"xref\": \"x\", \"y0\": 3041, \"y1\": 3385, \"yref\": \"y\"}, {\"fillcolor\": \"#216daf\", \"layer\": \"below\", \"line\": {\"width\": 0}, \"opacity\": 1.0, \"type\": \"rect\", \"x0\": 2325, \"x1\": 2682, \"xref\": \"x\", \"y0\": 3385, \"y1\": 3741, \"yref\": \"y\"}, {\"fillcolor\": \"#2ea3c2\", \"layer\": \"below\", \"line\": {\"width\": 0}, \"opacity\": 1.0, \"type\": \"rect\", \"x0\": 2325, \"x1\": 2682, \"xref\": \"x\", \"y0\": 3741, \"y1\": 4099, \"yref\": \"y\"}, {\"fillcolor\": \"#289cc1\", \"layer\": \"below\", \"line\": {\"width\": 0}, \"opacity\": 1.0, \"type\": \"rect\", \"x0\": 2325, \"x1\": 2682, \"xref\": \"x\", \"y0\": 4099, \"y1\": 4458, \"yref\": \"y\"}, {\"fillcolor\": \"#1f82b9\", \"layer\": \"below\", \"line\": {\"width\": 0}, \"opacity\": 1.0, \"type\": \"rect\", \"x0\": 2325, \"x1\": 2682, \"xref\": \"x\", \"y0\": 4458, \"y1\": 4816, \"yref\": \"y\"}, {\"fillcolor\": \"#53bdc1\", \"layer\": \"below\", \"line\": {\"width\": 0}, \"opacity\": 1.0, \"type\": \"rect\", \"x0\": 2325, \"x1\": 2682, \"xref\": \"x\", \"y0\": 4816, \"y1\": 5167, \"yref\": \"y\"}, {\"fillcolor\": \"#289cc1\", \"layer\": \"below\", \"line\": {\"width\": 0}, \"opacity\": 1.0, \"type\": \"rect\", \"x0\": 2325, \"x1\": 2682, \"xref\": \"x\", \"y0\": 5167, \"y1\": 5525, \"yref\": \"y\"}, {\"fillcolor\": \"#253795\", \"layer\": \"below\", \"line\": {\"width\": 0}, \"opacity\": 1.0, \"type\": \"rect\", \"x0\": 2325, \"x1\": 2682, \"xref\": \"x\", \"y0\": 5525, \"y1\": 5876, \"yref\": \"y\"}, {\"fillcolor\": \"#c4e8b4\", \"layer\": \"below\", \"line\": {\"width\": 0}, \"opacity\": 1.0, \"type\": \"rect\", \"x0\": 2325, \"x1\": 2682, \"xref\": \"x\", \"y0\": 5876, \"y1\": 6234, \"yref\": \"y\"}, {\"fillcolor\": \"#1f82b9\", \"layer\": \"below\", \"line\": {\"width\": 0}, \"opacity\": 1.0, \"type\": \"rect\", \"x0\": 2325, \"x1\": 2682, \"xref\": \"x\", \"y0\": 6235, \"y1\": 6592, \"yref\": \"y\"}, {\"fillcolor\": \"#2076b3\", \"layer\": \"below\", \"line\": {\"width\": 0}, \"opacity\": 1.0, \"type\": \"rect\", \"x0\": 2325, \"x1\": 2682, \"xref\": \"x\", \"y0\": 6592, \"y1\": 6950, \"yref\": \"y\"}, {\"fillcolor\": \"#a7dcb7\", \"layer\": \"below\", \"line\": {\"width\": 0}, \"opacity\": 1.0, \"type\": \"rect\", \"x0\": 2325, \"x1\": 2682, \"xref\": \"x\", \"y0\": 6950, \"y1\": 7307, \"yref\": \"y\"}, {\"fillcolor\": \"#1f82b9\", \"layer\": \"below\", \"line\": {\"width\": 0}, \"opacity\": 1.0, \"type\": \"rect\", \"x0\": 2325, \"x1\": 2682, \"xref\": \"x\", \"y0\": 7308, \"y1\": 7664, \"yref\": \"y\"}, {\"fillcolor\": \"#1e8bbd\", \"layer\": \"below\", \"line\": {\"width\": 0}, \"opacity\": 1.0, \"type\": \"rect\", \"x0\": 2325, \"x1\": 2682, \"xref\": \"x\", \"y0\": 7664, \"y1\": 8022, \"yref\": \"y\"}, {\"fillcolor\": \"#2076b3\", \"layer\": \"below\", \"line\": {\"width\": 0}, \"opacity\": 1.0, \"type\": \"rect\", \"x0\": 2325, \"x1\": 2682, \"xref\": \"x\", \"y0\": 8022, \"y1\": 8380, \"yref\": \"y\"}, {\"fillcolor\": \"#89d1ba\", \"layer\": \"below\", \"line\": {\"width\": 0}, \"opacity\": 1.0, \"type\": \"rect\", \"x0\": 2325, \"x1\": 2682, \"xref\": \"x\", \"y0\": 8380, \"y1\": 8736, \"yref\": \"y\"}, {\"fillcolor\": \"#1e8bbd\", \"layer\": \"below\", \"line\": {\"width\": 0}, \"opacity\": 1.0, \"type\": \"rect\", \"x0\": 2325, \"x1\": 2682, \"xref\": \"x\", \"y0\": 8736, \"y1\": 9093, \"yref\": \"y\"}, {\"fillcolor\": \"#2094c0\", \"layer\": \"below\", \"line\": {\"width\": 0}, \"opacity\": 1.0, \"type\": \"rect\", \"x0\": 2325, \"x1\": 2682, \"xref\": \"x\", \"y0\": 9093, \"y1\": 9451, \"yref\": \"y\"}, {\"fillcolor\": \"#1f82b9\", \"layer\": \"below\", \"line\": {\"width\": 0}, \"opacity\": 1.0, \"type\": \"rect\", \"x0\": 2325, \"x1\": 2682, \"xref\": \"x\", \"y0\": 9451, \"y1\": 9809, \"yref\": \"y\"}, {\"fillcolor\": \"#a7dcb7\", \"layer\": \"below\", \"line\": {\"width\": 0}, \"opacity\": 1.0, \"type\": \"rect\", \"x0\": 2325, \"x1\": 2682, \"xref\": \"x\", \"y0\": 9809, \"y1\": 10165, \"yref\": \"y\"}, {\"fillcolor\": \"#cdebb4\", \"layer\": \"below\", \"line\": {\"width\": 0}, \"opacity\": 1.0, \"type\": \"rect\", \"x0\": 2325, \"x1\": 2682, \"xref\": \"x\", \"y0\": 10166, \"y1\": 10524, \"yref\": \"y\"}, {\"fillcolor\": \"#89d1ba\", \"layer\": \"below\", \"line\": {\"width\": 0}, \"opacity\": 1.0, \"type\": \"rect\", \"x0\": 2325, \"x1\": 2682, \"xref\": \"x\", \"y0\": 10525, \"y1\": 10882, \"yref\": \"y\"}, {\"fillcolor\": \"#1f82b9\", \"layer\": \"below\", \"line\": {\"width\": 0}, \"opacity\": 1.0, \"type\": \"rect\", \"x0\": 2325, \"x1\": 2682, \"xref\": \"x\", \"y0\": 10882, \"y1\": 11239, \"yref\": \"y\"}, {\"fillcolor\": \"#289cc1\", \"layer\": \"below\", \"line\": {\"width\": 0}, \"opacity\": 1.0, \"type\": \"rect\", \"x0\": 2325, \"x1\": 2682, \"xref\": \"x\", \"y0\": 11239, \"y1\": 11598, \"yref\": \"y\"}, {\"fillcolor\": \"#1f82b9\", \"layer\": \"below\", \"line\": {\"width\": 0}, \"opacity\": 1.0, \"type\": \"rect\", \"x0\": 2325, \"x1\": 2682, \"xref\": \"x\", \"y0\": 11598, \"y1\": 11956, \"yref\": \"y\"}, {\"fillcolor\": \"#a7dcb7\", \"layer\": \"below\", \"line\": {\"width\": 0}, \"opacity\": 1.0, \"type\": \"rect\", \"x0\": 2325, \"x1\": 2682, \"xref\": \"x\", \"y0\": 11956, \"y1\": 12314, \"yref\": \"y\"}, {\"fillcolor\": \"#f4fbc1\", \"layer\": \"below\", \"line\": {\"width\": 0}, \"opacity\": 1.0, \"type\": \"rect\", \"x0\": 2325, \"x1\": 2682, \"xref\": \"x\", \"y0\": 12315, \"y1\": 12672, \"yref\": \"y\"}, {\"fillcolor\": \"#1e8bbd\", \"layer\": \"below\", \"line\": {\"width\": 0}, \"opacity\": 1.0, \"type\": \"rect\", \"x0\": 2325, \"x1\": 2682, \"xref\": \"x\", \"y0\": 12673, \"y1\": 13029, \"yref\": \"y\"}, {\"fillcolor\": \"#36abc3\", \"layer\": \"below\", \"line\": {\"width\": 0}, \"opacity\": 1.0, \"type\": \"rect\", \"x0\": 2325, \"x1\": 2682, \"xref\": \"x\", \"y0\": 13029, \"y1\": 13385, \"yref\": \"y\"}, {\"fillcolor\": \"#216daf\", \"layer\": \"below\", \"line\": {\"width\": 0}, \"opacity\": 1.0, \"type\": \"rect\", \"x0\": 2325, \"x1\": 2682, \"xref\": \"x\", \"y0\": 13386, \"y1\": 13740, \"yref\": \"y\"}, {\"fillcolor\": \"#24479d\", \"layer\": \"below\", \"line\": {\"width\": 0}, \"opacity\": 1.0, \"type\": \"rect\", \"x0\": 2683, \"x1\": 3040, \"xref\": \"x\", \"y0\": 3041, \"y1\": 3385, \"yref\": \"y\"}, {\"fillcolor\": \"#1f82b9\", \"layer\": \"below\", \"line\": {\"width\": 0}, \"opacity\": 1.0, \"type\": \"rect\", \"x0\": 2683, \"x1\": 3040, \"xref\": \"x\", \"y0\": 3385, \"y1\": 3741, \"yref\": \"y\"}, {\"fillcolor\": \"#3eb3c4\", \"layer\": \"below\", \"line\": {\"width\": 0}, \"opacity\": 1.0, \"type\": \"rect\", \"x0\": 2683, \"x1\": 3040, \"xref\": \"x\", \"y0\": 3741, \"y1\": 4099, \"yref\": \"y\"}, {\"fillcolor\": \"#36abc3\", \"layer\": \"below\", \"line\": {\"width\": 0}, \"opacity\": 1.0, \"type\": \"rect\", \"x0\": 2683, \"x1\": 3040, \"xref\": \"x\", \"y0\": 4099, \"y1\": 4458, \"yref\": \"y\"}, {\"fillcolor\": \"#2195c0\", \"layer\": \"below\", \"line\": {\"width\": 0}, \"opacity\": 1.0, \"type\": \"rect\", \"x0\": 2683, \"x1\": 3040, \"xref\": \"x\", \"y0\": 4458, \"y1\": 4816, \"yref\": \"y\"}, {\"fillcolor\": \"#6dc6be\", \"layer\": \"below\", \"line\": {\"width\": 0}, \"opacity\": 1.0, \"type\": \"rect\", \"x0\": 2683, \"x1\": 3040, \"xref\": \"x\", \"y0\": 4816, \"y1\": 5167, \"yref\": \"y\"}, {\"fillcolor\": \"#36abc3\", \"layer\": \"below\", \"line\": {\"width\": 0}, \"opacity\": 1.0, \"type\": \"rect\", \"x0\": 2683, \"x1\": 3040, \"xref\": \"x\", \"y0\": 5167, \"y1\": 5525, \"yref\": \"y\"}, {\"fillcolor\": \"#24489d\", \"layer\": \"below\", \"line\": {\"width\": 0}, \"opacity\": 1.0, \"type\": \"rect\", \"x0\": 2683, \"x1\": 3040, \"xref\": \"x\", \"y0\": 5525, \"y1\": 5876, \"yref\": \"y\"}, {\"fillcolor\": \"#c4e8b4\", \"layer\": \"below\", \"line\": {\"width\": 0}, \"opacity\": 1.0, \"type\": \"rect\", \"x0\": 2683, \"x1\": 3040, \"xref\": \"x\", \"y0\": 5876, \"y1\": 6234, \"yref\": \"y\"}, {\"fillcolor\": \"#2195c0\", \"layer\": \"below\", \"line\": {\"width\": 0}, \"opacity\": 1.0, \"type\": \"rect\", \"x0\": 2683, \"x1\": 3040, \"xref\": \"x\", \"y0\": 6235, \"y1\": 6592, \"yref\": \"y\"}, {\"fillcolor\": \"#1e8bbd\", \"layer\": \"below\", \"line\": {\"width\": 0}, \"opacity\": 1.0, \"type\": \"rect\", \"x0\": 2683, \"x1\": 3040, \"xref\": \"x\", \"y0\": 6592, \"y1\": 6950, \"yref\": \"y\"}, {\"fillcolor\": \"#c4e8b4\", \"layer\": \"below\", \"line\": {\"width\": 0}, \"opacity\": 1.0, \"type\": \"rect\", \"x0\": 2683, \"x1\": 3040, \"xref\": \"x\", \"y0\": 6950, \"y1\": 7307, \"yref\": \"y\"}, {\"fillcolor\": \"#2195c0\", \"layer\": \"below\", \"line\": {\"width\": 0}, \"opacity\": 1.0, \"type\": \"rect\", \"x0\": 2683, \"x1\": 3040, \"xref\": \"x\", \"y0\": 7308, \"y1\": 7664, \"yref\": \"y\"}, {\"fillcolor\": \"#289cc1\", \"layer\": \"below\", \"line\": {\"width\": 0}, \"opacity\": 1.0, \"type\": \"rect\", \"x0\": 2683, \"x1\": 3040, \"xref\": \"x\", \"y0\": 7664, \"y1\": 8022, \"yref\": \"y\"}, {\"fillcolor\": \"#1e8bbd\", \"layer\": \"below\", \"line\": {\"width\": 0}, \"opacity\": 1.0, \"type\": \"rect\", \"x0\": 2683, \"x1\": 3040, \"xref\": \"x\", \"y0\": 8022, \"y1\": 8380, \"yref\": \"y\"}, {\"fillcolor\": \"#a7dcb7\", \"layer\": \"below\", \"line\": {\"width\": 0}, \"opacity\": 1.0, \"type\": \"rect\", \"x0\": 2683, \"x1\": 3040, \"xref\": \"x\", \"y0\": 8380, \"y1\": 8736, \"yref\": \"y\"}, {\"fillcolor\": \"#289cc1\", \"layer\": \"below\", \"line\": {\"width\": 0}, \"opacity\": 1.0, \"type\": \"rect\", \"x0\": 2683, \"x1\": 3040, \"xref\": \"x\", \"y0\": 8736, \"y1\": 9093, \"yref\": \"y\"}, {\"fillcolor\": \"#2ea3c2\", \"layer\": \"below\", \"line\": {\"width\": 0}, \"opacity\": 1.0, \"type\": \"rect\", \"x0\": 2683, \"x1\": 3040, \"xref\": \"x\", \"y0\": 9093, \"y1\": 9451, \"yref\": \"y\"}, {\"fillcolor\": \"#2195c0\", \"layer\": \"below\", \"line\": {\"width\": 0}, \"opacity\": 1.0, \"type\": \"rect\", \"x0\": 2683, \"x1\": 3040, \"xref\": \"x\", \"y0\": 9451, \"y1\": 9809, \"yref\": \"y\"}, {\"fillcolor\": \"#c4e8b4\", \"layer\": \"below\", \"line\": {\"width\": 0}, \"opacity\": 1.0, \"type\": \"rect\", \"x0\": 2683, \"x1\": 3040, \"xref\": \"x\", \"y0\": 9809, \"y1\": 10165, \"yref\": \"y\"}, {\"fillcolor\": \"#cdebb4\", \"layer\": \"below\", \"line\": {\"width\": 0}, \"opacity\": 1.0, \"type\": \"rect\", \"x0\": 2683, \"x1\": 3040, \"xref\": \"x\", \"y0\": 10166, \"y1\": 10524, \"yref\": \"y\"}, {\"fillcolor\": \"#a7dcb7\", \"layer\": \"below\", \"line\": {\"width\": 0}, \"opacity\": 1.0, \"type\": \"rect\", \"x0\": 2683, \"x1\": 3040, \"xref\": \"x\", \"y0\": 10525, \"y1\": 10882, \"yref\": \"y\"}, {\"fillcolor\": \"#2195c0\", \"layer\": \"below\", \"line\": {\"width\": 0}, \"opacity\": 1.0, \"type\": \"rect\", \"x0\": 2683, \"x1\": 3040, \"xref\": \"x\", \"y0\": 10882, \"y1\": 11239, \"yref\": \"y\"}, {\"fillcolor\": \"#36abc3\", \"layer\": \"below\", \"line\": {\"width\": 0}, \"opacity\": 1.0, \"type\": \"rect\", \"x0\": 2683, \"x1\": 3040, \"xref\": \"x\", \"y0\": 11239, \"y1\": 11598, \"yref\": \"y\"}, {\"fillcolor\": \"#2195c0\", \"layer\": \"below\", \"line\": {\"width\": 0}, \"opacity\": 1.0, \"type\": \"rect\", \"x0\": 2683, \"x1\": 3040, \"xref\": \"x\", \"y0\": 11598, \"y1\": 11956, \"yref\": \"y\"}, {\"fillcolor\": \"#c4e8b4\", \"layer\": \"below\", \"line\": {\"width\": 0}, \"opacity\": 1.0, \"type\": \"rect\", \"x0\": 2683, \"x1\": 3040, \"xref\": \"x\", \"y0\": 11956, \"y1\": 12314, \"yref\": \"y\"}, {\"fillcolor\": \"#fcfed1\", \"layer\": \"below\", \"line\": {\"width\": 0}, \"opacity\": 1.0, \"type\": \"rect\", \"x0\": 2683, \"x1\": 3040, \"xref\": \"x\", \"y0\": 12315, \"y1\": 12672, \"yref\": \"y\"}, {\"fillcolor\": \"#289cc1\", \"layer\": \"below\", \"line\": {\"width\": 0}, \"opacity\": 1.0, \"type\": \"rect\", \"x0\": 2683, \"x1\": 3040, \"xref\": \"x\", \"y0\": 12673, \"y1\": 13029, \"yref\": \"y\"}, {\"fillcolor\": \"#48b9c3\", \"layer\": \"below\", \"line\": {\"width\": 0}, \"opacity\": 1.0, \"type\": \"rect\", \"x0\": 2683, \"x1\": 3040, \"xref\": \"x\", \"y0\": 13029, \"y1\": 13385, \"yref\": \"y\"}, {\"fillcolor\": \"#1f82b9\", \"layer\": \"below\", \"line\": {\"width\": 0}, \"opacity\": 1.0, \"type\": \"rect\", \"x0\": 2683, \"x1\": 3040, \"xref\": \"x\", \"y0\": 13386, \"y1\": 13740, \"yref\": \"y\"}, {\"fillcolor\": \"#253494\", \"layer\": \"below\", \"line\": {\"width\": 0}, \"opacity\": 1.0, \"type\": \"rect\", \"x0\": 3041, \"x1\": 3385, \"xref\": \"x\", \"y0\": 3385, \"y1\": 3741, \"yref\": \"y\"}, {\"fillcolor\": \"#2075b3\", \"layer\": \"below\", \"line\": {\"width\": 0}, \"opacity\": 1.0, \"type\": \"rect\", \"x0\": 3041, \"x1\": 3385, \"xref\": \"x\", \"y0\": 3741, \"y1\": 4099, \"yref\": \"y\"}, {\"fillcolor\": \"#234fa1\", \"layer\": \"below\", \"line\": {\"width\": 0}, \"opacity\": 1.0, \"type\": \"rect\", \"x0\": 3041, \"x1\": 3385, \"xref\": \"x\", \"y0\": 4099, \"y1\": 4458, \"yref\": \"y\"}, {\"fillcolor\": \"#234fa1\", \"layer\": \"below\", \"line\": {\"width\": 0}, \"opacity\": 1.0, \"type\": \"rect\", \"x0\": 3041, \"x1\": 3385, \"xref\": \"x\", \"y0\": 4458, \"y1\": 4816, \"yref\": \"y\"}, {\"fillcolor\": \"#0d2163\", \"layer\": \"below\", \"line\": {\"width\": 0}, \"opacity\": 1.0, \"type\": \"rect\", \"x0\": 3041, \"x1\": 3385, \"xref\": \"x\", \"y0\": 4816, \"y1\": 5167, \"yref\": \"y\"}, {\"fillcolor\": \"#2260a9\", \"layer\": \"below\", \"line\": {\"width\": 0}, \"opacity\": 1.0, \"type\": \"rect\", \"x0\": 3041, \"x1\": 3385, \"xref\": \"x\", \"y0\": 5167, \"y1\": 5525, \"yref\": \"y\"}, {\"fillcolor\": \"#081d58\", \"layer\": \"below\", \"line\": {\"width\": 0}, \"opacity\": 1.0, \"type\": \"rect\", \"x0\": 3041, \"x1\": 3385, \"xref\": \"x\", \"y0\": 5525, \"y1\": 5876, \"yref\": \"y\"}, {\"fillcolor\": \"#243d98\", \"layer\": \"below\", \"line\": {\"width\": 0}, \"opacity\": 1.0, \"type\": \"rect\", \"x0\": 3041, \"x1\": 3385, \"xref\": \"x\", \"y0\": 5876, \"y1\": 6234, \"yref\": \"y\"}, {\"fillcolor\": \"#2356a4\", \"layer\": \"below\", \"line\": {\"width\": 0}, \"opacity\": 1.0, \"type\": \"rect\", \"x0\": 3041, \"x1\": 3385, \"xref\": \"x\", \"y0\": 6235, \"y1\": 6592, \"yref\": \"y\"}, {\"fillcolor\": \"#243d98\", \"layer\": \"below\", \"line\": {\"width\": 0}, \"opacity\": 1.0, \"type\": \"rect\", \"x0\": 3041, \"x1\": 3385, \"xref\": \"x\", \"y0\": 6592, \"y1\": 6950, \"yref\": \"y\"}, {\"fillcolor\": \"#243d98\", \"layer\": \"below\", \"line\": {\"width\": 0}, \"opacity\": 1.0, \"type\": \"rect\", \"x0\": 3041, \"x1\": 3385, \"xref\": \"x\", \"y0\": 6950, \"y1\": 7307, \"yref\": \"y\"}, {\"fillcolor\": \"#2260a9\", \"layer\": \"below\", \"line\": {\"width\": 0}, \"opacity\": 1.0, \"type\": \"rect\", \"x0\": 3041, \"x1\": 3385, \"xref\": \"x\", \"y0\": 7308, \"y1\": 7664, \"yref\": \"y\"}, {\"fillcolor\": \"#234fa1\", \"layer\": \"below\", \"line\": {\"width\": 0}, \"opacity\": 1.0, \"type\": \"rect\", \"x0\": 3041, \"x1\": 3385, \"xref\": \"x\", \"y0\": 7664, \"y1\": 8022, \"yref\": \"y\"}, {\"fillcolor\": \"#243d98\", \"layer\": \"below\", \"line\": {\"width\": 0}, \"opacity\": 1.0, \"type\": \"rect\", \"x0\": 3041, \"x1\": 3385, \"xref\": \"x\", \"y0\": 8022, \"y1\": 8380, \"yref\": \"y\"}, {\"fillcolor\": \"#243d98\", \"layer\": \"below\", \"line\": {\"width\": 0}, \"opacity\": 1.0, \"type\": \"rect\", \"x0\": 3041, \"x1\": 3385, \"xref\": \"x\", \"y0\": 8380, \"y1\": 8736, \"yref\": \"y\"}, {\"fillcolor\": \"#216aad\", \"layer\": \"below\", \"line\": {\"width\": 0}, \"opacity\": 1.0, \"type\": \"rect\", \"x0\": 3041, \"x1\": 3385, \"xref\": \"x\", \"y0\": 8736, \"y1\": 9093, \"yref\": \"y\"}, {\"fillcolor\": \"#24459c\", \"layer\": \"below\", \"line\": {\"width\": 0}, \"opacity\": 1.0, \"type\": \"rect\", \"x0\": 3041, \"x1\": 3385, \"xref\": \"x\", \"y0\": 9093, \"y1\": 9451, \"yref\": \"y\"}, {\"fillcolor\": \"#24459c\", \"layer\": \"below\", \"line\": {\"width\": 0}, \"opacity\": 1.0, \"type\": \"rect\", \"x0\": 3041, \"x1\": 3385, \"xref\": \"x\", \"y0\": 9451, \"y1\": 9809, \"yref\": \"y\"}, {\"fillcolor\": \"#24459c\", \"layer\": \"below\", \"line\": {\"width\": 0}, \"opacity\": 1.0, \"type\": \"rect\", \"x0\": 3041, \"x1\": 3385, \"xref\": \"x\", \"y0\": 9809, \"y1\": 10165, \"yref\": \"y\"}, {\"fillcolor\": \"#21308b\", \"layer\": \"below\", \"line\": {\"width\": 0}, \"opacity\": 1.0, \"type\": \"rect\", \"x0\": 3041, \"x1\": 3385, \"xref\": \"x\", \"y0\": 10166, \"y1\": 10524, \"yref\": \"y\"}, {\"fillcolor\": \"#243d98\", \"layer\": \"below\", \"line\": {\"width\": 0}, \"opacity\": 1.0, \"type\": \"rect\", \"x0\": 3041, \"x1\": 3385, \"xref\": \"x\", \"y0\": 10525, \"y1\": 10882, \"yref\": \"y\"}, {\"fillcolor\": \"#2260a9\", \"layer\": \"below\", \"line\": {\"width\": 0}, \"opacity\": 1.0, \"type\": \"rect\", \"x0\": 3041, \"x1\": 3385, \"xref\": \"x\", \"y0\": 10882, \"y1\": 11239, \"yref\": \"y\"}, {\"fillcolor\": \"#234fa1\", \"layer\": \"below\", \"line\": {\"width\": 0}, \"opacity\": 1.0, \"type\": \"rect\", \"x0\": 3041, \"x1\": 3385, \"xref\": \"x\", \"y0\": 11239, \"y1\": 11598, \"yref\": \"y\"}, {\"fillcolor\": \"#24459c\", \"layer\": \"below\", \"line\": {\"width\": 0}, \"opacity\": 1.0, \"type\": \"rect\", \"x0\": 3041, \"x1\": 3385, \"xref\": \"x\", \"y0\": 11598, \"y1\": 11956, \"yref\": \"y\"}, {\"fillcolor\": \"#0e2265\", \"layer\": \"below\", \"line\": {\"width\": 0}, \"opacity\": 1.0, \"type\": \"rect\", \"x0\": 3041, \"x1\": 3385, \"xref\": \"x\", \"y0\": 11956, \"y1\": 12314, \"yref\": \"y\"}, {\"fillcolor\": \"#243d98\", \"layer\": \"below\", \"line\": {\"width\": 0}, \"opacity\": 1.0, \"type\": \"rect\", \"x0\": 3041, \"x1\": 3385, \"xref\": \"x\", \"y0\": 12315, \"y1\": 12672, \"yref\": \"y\"}, {\"fillcolor\": \"#234da0\", \"layer\": \"below\", \"line\": {\"width\": 0}, \"opacity\": 1.0, \"type\": \"rect\", \"x0\": 3041, \"x1\": 3385, \"xref\": \"x\", \"y0\": 12673, \"y1\": 13029, \"yref\": \"y\"}, {\"fillcolor\": \"#234fa1\", \"layer\": \"below\", \"line\": {\"width\": 0}, \"opacity\": 1.0, \"type\": \"rect\", \"x0\": 3041, \"x1\": 3385, \"xref\": \"x\", \"y0\": 13029, \"y1\": 13385, \"yref\": \"y\"}, {\"fillcolor\": \"#234da0\", \"layer\": \"below\", \"line\": {\"width\": 0}, \"opacity\": 1.0, \"type\": \"rect\", \"x0\": 3041, \"x1\": 3385, \"xref\": \"x\", \"y0\": 13386, \"y1\": 13740, \"yref\": \"y\"}, {\"fillcolor\": \"#97d6b9\", \"layer\": \"below\", \"line\": {\"width\": 0}, \"opacity\": 1.0, \"type\": \"rect\", \"x0\": 3385, \"x1\": 3741, \"xref\": \"x\", \"y0\": 3741, \"y1\": 4099, \"yref\": \"y\"}, {\"fillcolor\": \"#53bdc1\", \"layer\": \"below\", \"line\": {\"width\": 0}, \"opacity\": 1.0, \"type\": \"rect\", \"x0\": 3385, \"x1\": 3741, \"xref\": \"x\", \"y0\": 4099, \"y1\": 4458, \"yref\": \"y\"}, {\"fillcolor\": \"#cdebb4\", \"layer\": \"below\", \"line\": {\"width\": 0}, \"opacity\": 1.0, \"type\": \"rect\", \"x0\": 3385, \"x1\": 3741, \"xref\": \"x\", \"y0\": 4458, \"y1\": 4816, \"yref\": \"y\"}, {\"fillcolor\": \"#216bae\", \"layer\": \"below\", \"line\": {\"width\": 0}, \"opacity\": 1.0, \"type\": \"rect\", \"x0\": 3385, \"x1\": 3741, \"xref\": \"x\", \"y0\": 4816, \"y1\": 5167, \"yref\": \"y\"}, {\"fillcolor\": \"#dcf1b2\", \"layer\": \"below\", \"line\": {\"width\": 0}, \"opacity\": 1.0, \"type\": \"rect\", \"x0\": 3385, \"x1\": 3741, \"xref\": \"x\", \"y0\": 5167, \"y1\": 5525, \"yref\": \"y\"}, {\"fillcolor\": \"#a7dcb7\", \"layer\": \"below\", \"line\": {\"width\": 0}, \"opacity\": 1.0, \"type\": \"rect\", \"x0\": 3385, \"x1\": 3741, \"xref\": \"x\", \"y0\": 5525, \"y1\": 5876, \"yref\": \"y\"}, {\"fillcolor\": \"#2fa4c2\", \"layer\": \"below\", \"line\": {\"width\": 0}, \"opacity\": 1.0, \"type\": \"rect\", \"x0\": 3385, \"x1\": 3741, \"xref\": \"x\", \"y0\": 5876, \"y1\": 6234, \"yref\": \"y\"}, {\"fillcolor\": \"#7acbbc\", \"layer\": \"below\", \"line\": {\"width\": 0}, \"opacity\": 1.0, \"type\": \"rect\", \"x0\": 3385, \"x1\": 3741, \"xref\": \"x\", \"y0\": 6235, \"y1\": 6592, \"yref\": \"y\"}, {\"fillcolor\": \"#edf8b1\", \"layer\": \"below\", \"line\": {\"width\": 0}, \"opacity\": 1.0, \"type\": \"rect\", \"x0\": 3385, \"x1\": 3741, \"xref\": \"x\", \"y0\": 6592, \"y1\": 6950, \"yref\": \"y\"}, {\"fillcolor\": \"#2fa4c2\", \"layer\": \"below\", \"line\": {\"width\": 0}, \"opacity\": 1.0, \"type\": \"rect\", \"x0\": 3385, \"x1\": 3741, \"xref\": \"x\", \"y0\": 6950, \"y1\": 7307, \"yref\": \"y\"}, {\"fillcolor\": \"#87d0ba\", \"layer\": \"below\", \"line\": {\"width\": 0}, \"opacity\": 1.0, \"type\": \"rect\", \"x0\": 3385, \"x1\": 3741, \"xref\": \"x\", \"y0\": 7308, \"y1\": 7664, \"yref\": \"y\"}, {\"fillcolor\": \"#cdebb4\", \"layer\": \"below\", \"line\": {\"width\": 0}, \"opacity\": 1.0, \"type\": \"rect\", \"x0\": 3385, \"x1\": 3741, \"xref\": \"x\", \"y0\": 7664, \"y1\": 8022, \"yref\": \"y\"}, {\"fillcolor\": \"#f4fbc1\", \"layer\": \"below\", \"line\": {\"width\": 0}, \"opacity\": 1.0, \"type\": \"rect\", \"x0\": 3385, \"x1\": 3741, \"xref\": \"x\", \"y0\": 8022, \"y1\": 8380, \"yref\": \"y\"}, {\"fillcolor\": \"#36abc3\", \"layer\": \"below\", \"line\": {\"width\": 0}, \"opacity\": 1.0, \"type\": \"rect\", \"x0\": 3385, \"x1\": 3741, \"xref\": \"x\", \"y0\": 8380, \"y1\": 8736, \"yref\": \"y\"}, {\"fillcolor\": \"#97d6b9\", \"layer\": \"below\", \"line\": {\"width\": 0}, \"opacity\": 1.0, \"type\": \"rect\", \"x0\": 3385, \"x1\": 3741, \"xref\": \"x\", \"y0\": 8736, \"y1\": 9093, \"yref\": \"y\"}, {\"fillcolor\": \"#97d6b9\", \"layer\": \"below\", \"line\": {\"width\": 0}, \"opacity\": 1.0, \"type\": \"rect\", \"x0\": 3385, \"x1\": 3741, \"xref\": \"x\", \"y0\": 9093, \"y1\": 9451, \"yref\": \"y\"}, {\"fillcolor\": \"#f0f9b8\", \"layer\": \"below\", \"line\": {\"width\": 0}, \"opacity\": 1.0, \"type\": \"rect\", \"x0\": 3385, \"x1\": 3741, \"xref\": \"x\", \"y0\": 9451, \"y1\": 9809, \"yref\": \"y\"}, {\"fillcolor\": \"#2ea3c2\", \"layer\": \"below\", \"line\": {\"width\": 0}, \"opacity\": 1.0, \"type\": \"rect\", \"x0\": 3385, \"x1\": 3741, \"xref\": \"x\", \"y0\": 9809, \"y1\": 10165, \"yref\": \"y\"}, {\"fillcolor\": \"#2259a6\", \"layer\": \"below\", \"line\": {\"width\": 0}, \"opacity\": 1.0, \"type\": \"rect\", \"x0\": 3385, \"x1\": 3741, \"xref\": \"x\", \"y0\": 10166, \"y1\": 10524, \"yref\": \"y\"}, {\"fillcolor\": \"#2094c0\", \"layer\": \"below\", \"line\": {\"width\": 0}, \"opacity\": 1.0, \"type\": \"rect\", \"x0\": 3385, \"x1\": 3741, \"xref\": \"x\", \"y0\": 10525, \"y1\": 10882, \"yref\": \"y\"}, {\"fillcolor\": \"#87d0ba\", \"layer\": \"below\", \"line\": {\"width\": 0}, \"opacity\": 1.0, \"type\": \"rect\", \"x0\": 3385, \"x1\": 3741, \"xref\": \"x\", \"y0\": 10882, \"y1\": 11239, \"yref\": \"y\"}, {\"fillcolor\": \"#b4e2b6\", \"layer\": \"below\", \"line\": {\"width\": 0}, \"opacity\": 1.0, \"type\": \"rect\", \"x0\": 3385, \"x1\": 3741, \"xref\": \"x\", \"y0\": 11239, \"y1\": 11598, \"yref\": \"y\"}, {\"fillcolor\": \"#f0f9b8\", \"layer\": \"below\", \"line\": {\"width\": 0}, \"opacity\": 1.0, \"type\": \"rect\", \"x0\": 3385, \"x1\": 3741, \"xref\": \"x\", \"y0\": 11598, \"y1\": 11956, \"yref\": \"y\"}, {\"fillcolor\": \"#1f78b4\", \"layer\": \"below\", \"line\": {\"width\": 0}, \"opacity\": 1.0, \"type\": \"rect\", \"x0\": 3385, \"x1\": 3741, \"xref\": \"x\", \"y0\": 11956, \"y1\": 12314, \"yref\": \"y\"}, {\"fillcolor\": \"#2076b3\", \"layer\": \"below\", \"line\": {\"width\": 0}, \"opacity\": 1.0, \"type\": \"rect\", \"x0\": 3385, \"x1\": 3741, \"xref\": \"x\", \"y0\": 12315, \"y1\": 12672, \"yref\": \"y\"}, {\"fillcolor\": \"#53bdc1\", \"layer\": \"below\", \"line\": {\"width\": 0}, \"opacity\": 1.0, \"type\": \"rect\", \"x0\": 3385, \"x1\": 3741, \"xref\": \"x\", \"y0\": 12673, \"y1\": 13029, \"yref\": \"y\"}, {\"fillcolor\": \"#3db2c4\", \"layer\": \"below\", \"line\": {\"width\": 0}, \"opacity\": 1.0, \"type\": \"rect\", \"x0\": 3385, \"x1\": 3741, \"xref\": \"x\", \"y0\": 13029, \"y1\": 13385, \"yref\": \"y\"}, {\"fillcolor\": \"#6dc6be\", \"layer\": \"below\", \"line\": {\"width\": 0}, \"opacity\": 1.0, \"type\": \"rect\", \"x0\": 3385, \"x1\": 3741, \"xref\": \"x\", \"y0\": 13386, \"y1\": 13740, \"yref\": \"y\"}, {\"fillcolor\": \"#97d6b9\", \"layer\": \"below\", \"line\": {\"width\": 0}, \"opacity\": 1.0, \"type\": \"rect\", \"x0\": 3741, \"x1\": 4099, \"xref\": \"x\", \"y0\": 4099, \"y1\": 4458, \"yref\": \"y\"}, {\"fillcolor\": \"#97d6b9\", \"layer\": \"below\", \"line\": {\"width\": 0}, \"opacity\": 1.0, \"type\": \"rect\", \"x0\": 3741, \"x1\": 4099, \"xref\": \"x\", \"y0\": 4458, \"y1\": 4816, \"yref\": \"y\"}, {\"fillcolor\": \"#289cc1\", \"layer\": \"below\", \"line\": {\"width\": 0}, \"opacity\": 1.0, \"type\": \"rect\", \"x0\": 3741, \"x1\": 4099, \"xref\": \"x\", \"y0\": 4816, \"y1\": 5167, \"yref\": \"y\"}, {\"fillcolor\": \"#cdebb4\", \"layer\": \"below\", \"line\": {\"width\": 0}, \"opacity\": 1.0, \"type\": \"rect\", \"x0\": 3741, \"x1\": 4099, \"xref\": \"x\", \"y0\": 5167, \"y1\": 5525, \"yref\": \"y\"}, {\"fillcolor\": \"#46b8c3\", \"layer\": \"below\", \"line\": {\"width\": 0}, \"opacity\": 1.0, \"type\": \"rect\", \"x0\": 3741, \"x1\": 4099, \"xref\": \"x\", \"y0\": 5525, \"y1\": 5876, \"yref\": \"y\"}, {\"fillcolor\": \"#55bec1\", \"layer\": \"below\", \"line\": {\"width\": 0}, \"opacity\": 1.0, \"type\": \"rect\", \"x0\": 3741, \"x1\": 4099, \"xref\": \"x\", \"y0\": 5876, \"y1\": 6234, \"yref\": \"y\"}, {\"fillcolor\": \"#97d6b9\", \"layer\": \"below\", \"line\": {\"width\": 0}, \"opacity\": 1.0, \"type\": \"rect\", \"x0\": 3741, \"x1\": 4099, \"xref\": \"x\", \"y0\": 6235, \"y1\": 6592, \"yref\": \"y\"}, {\"fillcolor\": \"#97d6b9\", \"layer\": \"below\", \"line\": {\"width\": 0}, \"opacity\": 1.0, \"type\": \"rect\", \"x0\": 3741, \"x1\": 4099, \"xref\": \"x\", \"y0\": 6592, \"y1\": 6950, \"yref\": \"y\"}, {\"fillcolor\": \"#55bec1\", \"layer\": \"below\", \"line\": {\"width\": 0}, \"opacity\": 1.0, \"type\": \"rect\", \"x0\": 3741, \"x1\": 4099, \"xref\": \"x\", \"y0\": 6950, \"y1\": 7307, \"yref\": \"y\"}, {\"fillcolor\": \"#a7dcb7\", \"layer\": \"below\", \"line\": {\"width\": 0}, \"opacity\": 1.0, \"type\": \"rect\", \"x0\": 3741, \"x1\": 4099, \"xref\": \"x\", \"y0\": 7308, \"y1\": 7664, \"yref\": \"y\"}, {\"fillcolor\": \"#cdebb4\", \"layer\": \"below\", \"line\": {\"width\": 0}, \"opacity\": 1.0, \"type\": \"rect\", \"x0\": 3741, \"x1\": 4099, \"xref\": \"x\", \"y0\": 7664, \"y1\": 8022, \"yref\": \"y\"}, {\"fillcolor\": \"#97d6b9\", \"layer\": \"below\", \"line\": {\"width\": 0}, \"opacity\": 1.0, \"type\": \"rect\", \"x0\": 3741, \"x1\": 4099, \"xref\": \"x\", \"y0\": 8022, \"y1\": 8380, \"yref\": \"y\"}, {\"fillcolor\": \"#6dc6be\", \"layer\": \"below\", \"line\": {\"width\": 0}, \"opacity\": 1.0, \"type\": \"rect\", \"x0\": 3741, \"x1\": 4099, \"xref\": \"x\", \"y0\": 8380, \"y1\": 8736, \"yref\": \"y\"}, {\"fillcolor\": \"#b4e2b6\", \"layer\": \"below\", \"line\": {\"width\": 0}, \"opacity\": 1.0, \"type\": \"rect\", \"x0\": 3741, \"x1\": 4099, \"xref\": \"x\", \"y0\": 8736, \"y1\": 9093, \"yref\": \"y\"}, {\"fillcolor\": \"#c4e8b4\", \"layer\": \"below\", \"line\": {\"width\": 0}, \"opacity\": 1.0, \"type\": \"rect\", \"x0\": 3741, \"x1\": 4099, \"xref\": \"x\", \"y0\": 9093, \"y1\": 9451, \"yref\": \"y\"}, {\"fillcolor\": \"#a7dcb7\", \"layer\": \"below\", \"line\": {\"width\": 0}, \"opacity\": 1.0, \"type\": \"rect\", \"x0\": 3741, \"x1\": 4099, \"xref\": \"x\", \"y0\": 9451, \"y1\": 9809, \"yref\": \"y\"}, {\"fillcolor\": \"#53bdc1\", \"layer\": \"below\", \"line\": {\"width\": 0}, \"opacity\": 1.0, \"type\": \"rect\", \"x0\": 3741, \"x1\": 4099, \"xref\": \"x\", \"y0\": 9809, \"y1\": 10165, \"yref\": \"y\"}, {\"fillcolor\": \"#289cc1\", \"layer\": \"below\", \"line\": {\"width\": 0}, \"opacity\": 1.0, \"type\": \"rect\", \"x0\": 3741, \"x1\": 4099, \"xref\": \"x\", \"y0\": 10166, \"y1\": 10524, \"yref\": \"y\"}, {\"fillcolor\": \"#53bdc1\", \"layer\": \"below\", \"line\": {\"width\": 0}, \"opacity\": 1.0, \"type\": \"rect\", \"x0\": 3741, \"x1\": 4099, \"xref\": \"x\", \"y0\": 10525, \"y1\": 10882, \"yref\": \"y\"}, {\"fillcolor\": \"#a7dcb7\", \"layer\": \"below\", \"line\": {\"width\": 0}, \"opacity\": 1.0, \"type\": \"rect\", \"x0\": 3741, \"x1\": 4099, \"xref\": \"x\", \"y0\": 10882, \"y1\": 11239, \"yref\": \"y\"}, {\"fillcolor\": \"#cdebb4\", \"layer\": \"below\", \"line\": {\"width\": 0}, \"opacity\": 1.0, \"type\": \"rect\", \"x0\": 3741, \"x1\": 4099, \"xref\": \"x\", \"y0\": 11239, \"y1\": 11598, \"yref\": \"y\"}, {\"fillcolor\": \"#a7dcb7\", \"layer\": \"below\", \"line\": {\"width\": 0}, \"opacity\": 1.0, \"type\": \"rect\", \"x0\": 3741, \"x1\": 4099, \"xref\": \"x\", \"y0\": 11598, \"y1\": 11956, \"yref\": \"y\"}, {\"fillcolor\": \"#2fa4c2\", \"layer\": \"below\", \"line\": {\"width\": 0}, \"opacity\": 1.0, \"type\": \"rect\", \"x0\": 3741, \"x1\": 4099, \"xref\": \"x\", \"y0\": 11956, \"y1\": 12314, \"yref\": \"y\"}, {\"fillcolor\": \"#36abc3\", \"layer\": \"below\", \"line\": {\"width\": 0}, \"opacity\": 1.0, \"type\": \"rect\", \"x0\": 3741, \"x1\": 4099, \"xref\": \"x\", \"y0\": 12315, \"y1\": 12672, \"yref\": \"y\"}, {\"fillcolor\": \"#c4e8b4\", \"layer\": \"below\", \"line\": {\"width\": 0}, \"opacity\": 1.0, \"type\": \"rect\", \"x0\": 3741, \"x1\": 4099, \"xref\": \"x\", \"y0\": 12673, \"y1\": 13029, \"yref\": \"y\"}, {\"fillcolor\": \"#7acbbc\", \"layer\": \"below\", \"line\": {\"width\": 0}, \"opacity\": 1.0, \"type\": \"rect\", \"x0\": 3741, \"x1\": 4099, \"xref\": \"x\", \"y0\": 13029, \"y1\": 13385, \"yref\": \"y\"}, {\"fillcolor\": \"#6dc6be\", \"layer\": \"below\", \"line\": {\"width\": 0}, \"opacity\": 1.0, \"type\": \"rect\", \"x0\": 3741, \"x1\": 4099, \"xref\": \"x\", \"y0\": 13386, \"y1\": 13740, \"yref\": \"y\"}, {\"fillcolor\": \"#53bdc1\", \"layer\": \"below\", \"line\": {\"width\": 0}, \"opacity\": 1.0, \"type\": \"rect\", \"x0\": 4099, \"x1\": 4458, \"xref\": \"x\", \"y0\": 4458, \"y1\": 4816, \"yref\": \"y\"}, {\"fillcolor\": \"#289cc1\", \"layer\": \"below\", \"line\": {\"width\": 0}, \"opacity\": 1.0, \"type\": \"rect\", \"x0\": 4099, \"x1\": 4458, \"xref\": \"x\", \"y0\": 4816, \"y1\": 5167, \"yref\": \"y\"}, {\"fillcolor\": \"#89d1ba\", \"layer\": \"below\", \"line\": {\"width\": 0}, \"opacity\": 1.0, \"type\": \"rect\", \"x0\": 4099, \"x1\": 4458, \"xref\": \"x\", \"y0\": 5167, \"y1\": 5525, \"yref\": \"y\"}, {\"fillcolor\": \"#289cc1\", \"layer\": \"below\", \"line\": {\"width\": 0}, \"opacity\": 1.0, \"type\": \"rect\", \"x0\": 4099, \"x1\": 4458, \"xref\": \"x\", \"y0\": 5525, \"y1\": 5876, \"yref\": \"y\"}, {\"fillcolor\": \"#48b9c3\", \"layer\": \"below\", \"line\": {\"width\": 0}, \"opacity\": 1.0, \"type\": \"rect\", \"x0\": 4099, \"x1\": 4458, \"xref\": \"x\", \"y0\": 5876, \"y1\": 6234, \"yref\": \"y\"}, {\"fillcolor\": \"#6fc7bd\", \"layer\": \"below\", \"line\": {\"width\": 0}, \"opacity\": 1.0, \"type\": \"rect\", \"x0\": 4099, \"x1\": 4458, \"xref\": \"x\", \"y0\": 6235, \"y1\": 6592, \"yref\": \"y\"}, {\"fillcolor\": \"#53bdc1\", \"layer\": \"below\", \"line\": {\"width\": 0}, \"opacity\": 1.0, \"type\": \"rect\", \"x0\": 4099, \"x1\": 4458, \"xref\": \"x\", \"y0\": 6592, \"y1\": 6950, \"yref\": \"y\"}, {\"fillcolor\": \"#48b9c3\", \"layer\": \"below\", \"line\": {\"width\": 0}, \"opacity\": 1.0, \"type\": \"rect\", \"x0\": 4099, \"x1\": 4458, \"xref\": \"x\", \"y0\": 6950, \"y1\": 7307, \"yref\": \"y\"}, {\"fillcolor\": \"#7acbbc\", \"layer\": \"below\", \"line\": {\"width\": 0}, \"opacity\": 1.0, \"type\": \"rect\", \"x0\": 4099, \"x1\": 4458, \"xref\": \"x\", \"y0\": 7308, \"y1\": 7664, \"yref\": \"y\"}, {\"fillcolor\": \"#6dc6be\", \"layer\": \"below\", \"line\": {\"width\": 0}, \"opacity\": 1.0, \"type\": \"rect\", \"x0\": 4099, \"x1\": 4458, \"xref\": \"x\", \"y0\": 7664, \"y1\": 8022, \"yref\": \"y\"}, {\"fillcolor\": \"#53bdc1\", \"layer\": \"below\", \"line\": {\"width\": 0}, \"opacity\": 1.0, \"type\": \"rect\", \"x0\": 4099, \"x1\": 4458, \"xref\": \"x\", \"y0\": 8022, \"y1\": 8380, \"yref\": \"y\"}, {\"fillcolor\": \"#48b9c3\", \"layer\": \"below\", \"line\": {\"width\": 0}, \"opacity\": 1.0, \"type\": \"rect\", \"x0\": 4099, \"x1\": 4458, \"xref\": \"x\", \"y0\": 8380, \"y1\": 8736, \"yref\": \"y\"}, {\"fillcolor\": \"#89d1ba\", \"layer\": \"below\", \"line\": {\"width\": 0}, \"opacity\": 1.0, \"type\": \"rect\", \"x0\": 4099, \"x1\": 4458, \"xref\": \"x\", \"y0\": 8736, \"y1\": 9093, \"yref\": \"y\"}, {\"fillcolor\": \"#7acbbc\", \"layer\": \"below\", \"line\": {\"width\": 0}, \"opacity\": 1.0, \"type\": \"rect\", \"x0\": 4099, \"x1\": 4458, \"xref\": \"x\", \"y0\": 9093, \"y1\": 9451, \"yref\": \"y\"}, {\"fillcolor\": \"#61c2bf\", \"layer\": \"below\", \"line\": {\"width\": 0}, \"opacity\": 1.0, \"type\": \"rect\", \"x0\": 4099, \"x1\": 4458, \"xref\": \"x\", \"y0\": 9451, \"y1\": 9809, \"yref\": \"y\"}, {\"fillcolor\": \"#48b9c3\", \"layer\": \"below\", \"line\": {\"width\": 0}, \"opacity\": 1.0, \"type\": \"rect\", \"x0\": 4099, \"x1\": 4458, \"xref\": \"x\", \"y0\": 9809, \"y1\": 10165, \"yref\": \"y\"}, {\"fillcolor\": \"#1d8dbe\", \"layer\": \"below\", \"line\": {\"width\": 0}, \"opacity\": 1.0, \"type\": \"rect\", \"x0\": 4099, \"x1\": 4458, \"xref\": \"x\", \"y0\": 10166, \"y1\": 10524, \"yref\": \"y\"}, {\"fillcolor\": \"#36abc3\", \"layer\": \"below\", \"line\": {\"width\": 0}, \"opacity\": 1.0, \"type\": \"rect\", \"x0\": 4099, \"x1\": 4458, \"xref\": \"x\", \"y0\": 10525, \"y1\": 10882, \"yref\": \"y\"}, {\"fillcolor\": \"#7acbbc\", \"layer\": \"below\", \"line\": {\"width\": 0}, \"opacity\": 1.0, \"type\": \"rect\", \"x0\": 4099, \"x1\": 4458, \"xref\": \"x\", \"y0\": 10882, \"y1\": 11239, \"yref\": \"y\"}, {\"fillcolor\": \"#89d1ba\", \"layer\": \"below\", \"line\": {\"width\": 0}, \"opacity\": 1.0, \"type\": \"rect\", \"x0\": 4099, \"x1\": 4458, \"xref\": \"x\", \"y0\": 11239, \"y1\": 11598, \"yref\": \"y\"}, {\"fillcolor\": \"#61c2bf\", \"layer\": \"below\", \"line\": {\"width\": 0}, \"opacity\": 1.0, \"type\": \"rect\", \"x0\": 4099, \"x1\": 4458, \"xref\": \"x\", \"y0\": 11598, \"y1\": 11956, \"yref\": \"y\"}, {\"fillcolor\": \"#2195c0\", \"layer\": \"below\", \"line\": {\"width\": 0}, \"opacity\": 1.0, \"type\": \"rect\", \"x0\": 4099, \"x1\": 4458, \"xref\": \"x\", \"y0\": 11956, \"y1\": 12314, \"yref\": \"y\"}, {\"fillcolor\": \"#2fa4c2\", \"layer\": \"below\", \"line\": {\"width\": 0}, \"opacity\": 1.0, \"type\": \"rect\", \"x0\": 4099, \"x1\": 4458, \"xref\": \"x\", \"y0\": 12315, \"y1\": 12672, \"yref\": \"y\"}, {\"fillcolor\": \"#6fc7bd\", \"layer\": \"below\", \"line\": {\"width\": 0}, \"opacity\": 1.0, \"type\": \"rect\", \"x0\": 4099, \"x1\": 4458, \"xref\": \"x\", \"y0\": 12673, \"y1\": 13029, \"yref\": \"y\"}, {\"fillcolor\": \"#d5efb3\", \"layer\": \"below\", \"line\": {\"width\": 0}, \"opacity\": 1.0, \"type\": \"rect\", \"x0\": 4099, \"x1\": 4458, \"xref\": \"x\", \"y0\": 13029, \"y1\": 13385, \"yref\": \"y\"}, {\"fillcolor\": \"#48b9c3\", \"layer\": \"below\", \"line\": {\"width\": 0}, \"opacity\": 1.0, \"type\": \"rect\", \"x0\": 4099, \"x1\": 4458, \"xref\": \"x\", \"y0\": 13386, \"y1\": 13740, \"yref\": \"y\"}, {\"fillcolor\": \"#2076b3\", \"layer\": \"below\", \"line\": {\"width\": 0}, \"opacity\": 1.0, \"type\": \"rect\", \"x0\": 4458, \"x1\": 4816, \"xref\": \"x\", \"y0\": 4816, \"y1\": 5167, \"yref\": \"y\"}, {\"fillcolor\": \"#e5f5b2\", \"layer\": \"below\", \"line\": {\"width\": 0}, \"opacity\": 1.0, \"type\": \"rect\", \"x0\": 4458, \"x1\": 4816, \"xref\": \"x\", \"y0\": 5167, \"y1\": 5525, \"yref\": \"y\"}, {\"fillcolor\": \"#53bdc1\", \"layer\": \"below\", \"line\": {\"width\": 0}, \"opacity\": 1.0, \"type\": \"rect\", \"x0\": 4458, \"x1\": 4816, \"xref\": \"x\", \"y0\": 5525, \"y1\": 5876, \"yref\": \"y\"}, {\"fillcolor\": \"#3eb3c4\", \"layer\": \"below\", \"line\": {\"width\": 0}, \"opacity\": 1.0, \"type\": \"rect\", \"x0\": 4458, \"x1\": 4816, \"xref\": \"x\", \"y0\": 5876, \"y1\": 6234, \"yref\": \"y\"}, {\"fillcolor\": \"#7acbbc\", \"layer\": \"below\", \"line\": {\"width\": 0}, \"opacity\": 1.0, \"type\": \"rect\", \"x0\": 4458, \"x1\": 4816, \"xref\": \"x\", \"y0\": 6235, \"y1\": 6592, \"yref\": \"y\"}, {\"fillcolor\": \"#d5efb3\", \"layer\": \"below\", \"line\": {\"width\": 0}, \"opacity\": 1.0, \"type\": \"rect\", \"x0\": 4458, \"x1\": 4816, \"xref\": \"x\", \"y0\": 6592, \"y1\": 6950, \"yref\": \"y\"}, {\"fillcolor\": \"#3eb3c4\", \"layer\": \"below\", \"line\": {\"width\": 0}, \"opacity\": 1.0, \"type\": \"rect\", \"x0\": 4458, \"x1\": 4816, \"xref\": \"x\", \"y0\": 6950, \"y1\": 7307, \"yref\": \"y\"}, {\"fillcolor\": \"#87d0ba\", \"layer\": \"below\", \"line\": {\"width\": 0}, \"opacity\": 1.0, \"type\": \"rect\", \"x0\": 4458, \"x1\": 4816, \"xref\": \"x\", \"y0\": 7308, \"y1\": 7664, \"yref\": \"y\"}, {\"fillcolor\": \"#e5f5b2\", \"layer\": \"below\", \"line\": {\"width\": 0}, \"opacity\": 1.0, \"type\": \"rect\", \"x0\": 4458, \"x1\": 4816, \"xref\": \"x\", \"y0\": 7664, \"y1\": 8022, \"yref\": \"y\"}, {\"fillcolor\": \"#d5efb3\", \"layer\": \"below\", \"line\": {\"width\": 0}, \"opacity\": 1.0, \"type\": \"rect\", \"x0\": 4458, \"x1\": 4816, \"xref\": \"x\", \"y0\": 8022, \"y1\": 8380, \"yref\": \"y\"}, {\"fillcolor\": \"#3eb3c4\", \"layer\": \"below\", \"line\": {\"width\": 0}, \"opacity\": 1.0, \"type\": \"rect\", \"x0\": 4458, \"x1\": 4816, \"xref\": \"x\", \"y0\": 8380, \"y1\": 8736, \"yref\": \"y\"}, {\"fillcolor\": \"#97d6b9\", \"layer\": \"below\", \"line\": {\"width\": 0}, \"opacity\": 1.0, \"type\": \"rect\", \"x0\": 4458, \"x1\": 4816, \"xref\": \"x\", \"y0\": 8736, \"y1\": 9093, \"yref\": \"y\"}, {\"fillcolor\": \"#89d1ba\", \"layer\": \"below\", \"line\": {\"width\": 0}, \"opacity\": 1.0, \"type\": \"rect\", \"x0\": 4458, \"x1\": 4816, \"xref\": \"x\", \"y0\": 9093, \"y1\": 9451, \"yref\": \"y\"}, {\"fillcolor\": \"#dcf1b2\", \"layer\": \"below\", \"line\": {\"width\": 0}, \"opacity\": 1.0, \"type\": \"rect\", \"x0\": 4458, \"x1\": 4816, \"xref\": \"x\", \"y0\": 9451, \"y1\": 9809, \"yref\": \"y\"}, {\"fillcolor\": \"#3eb3c4\", \"layer\": \"below\", \"line\": {\"width\": 0}, \"opacity\": 1.0, \"type\": \"rect\", \"x0\": 4458, \"x1\": 4816, \"xref\": \"x\", \"y0\": 9809, \"y1\": 10165, \"yref\": \"y\"}, {\"fillcolor\": \"#216daf\", \"layer\": \"below\", \"line\": {\"width\": 0}, \"opacity\": 1.0, \"type\": \"rect\", \"x0\": 4458, \"x1\": 4816, \"xref\": \"x\", \"y0\": 10166, \"y1\": 10524, \"yref\": \"y\"}, {\"fillcolor\": \"#36abc3\", \"layer\": \"below\", \"line\": {\"width\": 0}, \"opacity\": 1.0, \"type\": \"rect\", \"x0\": 4458, \"x1\": 4816, \"xref\": \"x\", \"y0\": 10525, \"y1\": 10882, \"yref\": \"y\"}, {\"fillcolor\": \"#87d0ba\", \"layer\": \"below\", \"line\": {\"width\": 0}, \"opacity\": 1.0, \"type\": \"rect\", \"x0\": 4458, \"x1\": 4816, \"xref\": \"x\", \"y0\": 10882, \"y1\": 11239, \"yref\": \"y\"}, {\"fillcolor\": \"#a7dcb7\", \"layer\": \"below\", \"line\": {\"width\": 0}, \"opacity\": 1.0, \"type\": \"rect\", \"x0\": 4458, \"x1\": 4816, \"xref\": \"x\", \"y0\": 11239, \"y1\": 11598, \"yref\": \"y\"}, {\"fillcolor\": \"#dcf1b2\", \"layer\": \"below\", \"line\": {\"width\": 0}, \"opacity\": 1.0, \"type\": \"rect\", \"x0\": 4458, \"x1\": 4816, \"xref\": \"x\", \"y0\": 11598, \"y1\": 11956, \"yref\": \"y\"}, {\"fillcolor\": \"#1d8dbe\", \"layer\": \"below\", \"line\": {\"width\": 0}, \"opacity\": 1.0, \"type\": \"rect\", \"x0\": 4458, \"x1\": 4816, \"xref\": \"x\", \"y0\": 11956, \"y1\": 12314, \"yref\": \"y\"}, {\"fillcolor\": \"#1e8bbd\", \"layer\": \"below\", \"line\": {\"width\": 0}, \"opacity\": 1.0, \"type\": \"rect\", \"x0\": 4458, \"x1\": 4816, \"xref\": \"x\", \"y0\": 12315, \"y1\": 12672, \"yref\": \"y\"}, {\"fillcolor\": \"#53bdc1\", \"layer\": \"below\", \"line\": {\"width\": 0}, \"opacity\": 1.0, \"type\": \"rect\", \"x0\": 4458, \"x1\": 4816, \"xref\": \"x\", \"y0\": 12673, \"y1\": 13029, \"yref\": \"y\"}, {\"fillcolor\": \"#53bdc1\", \"layer\": \"below\", \"line\": {\"width\": 0}, \"opacity\": 1.0, \"type\": \"rect\", \"x0\": 4458, \"x1\": 4816, \"xref\": \"x\", \"y0\": 13029, \"y1\": 13385, \"yref\": \"y\"}, {\"fillcolor\": \"#53bdc1\", \"layer\": \"below\", \"line\": {\"width\": 0}, \"opacity\": 1.0, \"type\": \"rect\", \"x0\": 4458, \"x1\": 4816, \"xref\": \"x\", \"y0\": 13386, \"y1\": 13740, \"yref\": \"y\"}, {\"fillcolor\": \"#1e8bbd\", \"layer\": \"below\", \"line\": {\"width\": 0}, \"opacity\": 1.0, \"type\": \"rect\", \"x0\": 4816, \"x1\": 5167, \"xref\": \"x\", \"y0\": 5167, \"y1\": 5525, \"yref\": \"y\"}, {\"fillcolor\": \"#6bc6be\", \"layer\": \"below\", \"line\": {\"width\": 0}, \"opacity\": 1.0, \"type\": \"rect\", \"x0\": 4816, \"x1\": 5167, \"xref\": \"x\", \"y0\": 5525, \"y1\": 5876, \"yref\": \"y\"}, {\"fillcolor\": \"#6dc6be\", \"layer\": \"below\", \"line\": {\"width\": 0}, \"opacity\": 1.0, \"type\": \"rect\", \"x0\": 4816, \"x1\": 5167, \"xref\": \"x\", \"y0\": 5876, \"y1\": 6234, \"yref\": \"y\"}, {\"fillcolor\": \"#2ea3c2\", \"layer\": \"below\", \"line\": {\"width\": 0}, \"opacity\": 1.0, \"type\": \"rect\", \"x0\": 4816, \"x1\": 5167, \"xref\": \"x\", \"y0\": 6235, \"y1\": 6592, \"yref\": \"y\"}, {\"fillcolor\": \"#2262aa\", \"layer\": \"below\", \"line\": {\"width\": 0}, \"opacity\": 1.0, \"type\": \"rect\", \"x0\": 4816, \"x1\": 5167, \"xref\": \"x\", \"y0\": 6592, \"y1\": 6950, \"yref\": \"y\"}, {\"fillcolor\": \"#6dc6be\", \"layer\": \"below\", \"line\": {\"width\": 0}, \"opacity\": 1.0, \"type\": \"rect\", \"x0\": 4816, \"x1\": 5167, \"xref\": \"x\", \"y0\": 6950, \"y1\": 7307, \"yref\": \"y\"}, {\"fillcolor\": \"#289cc1\", \"layer\": \"below\", \"line\": {\"width\": 0}, \"opacity\": 1.0, \"type\": \"rect\", \"x0\": 4816, \"x1\": 5167, \"xref\": \"x\", \"y0\": 7308, \"y1\": 7664, \"yref\": \"y\"}, {\"fillcolor\": \"#1f80b8\", \"layer\": \"below\", \"line\": {\"width\": 0}, \"opacity\": 1.0, \"type\": \"rect\", \"x0\": 4816, \"x1\": 5167, \"xref\": \"x\", \"y0\": 7664, \"y1\": 8022, \"yref\": \"y\"}, {\"fillcolor\": \"#216bae\", \"layer\": \"below\", \"line\": {\"width\": 0}, \"opacity\": 1.0, \"type\": \"rect\", \"x0\": 4816, \"x1\": 5167, \"xref\": \"x\", \"y0\": 8022, \"y1\": 8380, \"yref\": \"y\"}, {\"fillcolor\": \"#6dc6be\", \"layer\": \"below\", \"line\": {\"width\": 0}, \"opacity\": 1.0, \"type\": \"rect\", \"x0\": 4816, \"x1\": 5167, \"xref\": \"x\", \"y0\": 8380, \"y1\": 8736, \"yref\": \"y\"}, {\"fillcolor\": \"#2ea3c2\", \"layer\": \"below\", \"line\": {\"width\": 0}, \"opacity\": 1.0, \"type\": \"rect\", \"x0\": 4816, \"x1\": 5167, \"xref\": \"x\", \"y0\": 8736, \"y1\": 9093, \"yref\": \"y\"}, {\"fillcolor\": \"#2094c0\", \"layer\": \"below\", \"line\": {\"width\": 0}, \"opacity\": 1.0, \"type\": \"rect\", \"x0\": 4816, \"x1\": 5167, \"xref\": \"x\", \"y0\": 9093, \"y1\": 9451, \"yref\": \"y\"}, {\"fillcolor\": \"#2076b3\", \"layer\": \"below\", \"line\": {\"width\": 0}, \"opacity\": 1.0, \"type\": \"rect\", \"x0\": 4816, \"x1\": 5167, \"xref\": \"x\", \"y0\": 9451, \"y1\": 9809, \"yref\": \"y\"}, {\"fillcolor\": \"#61c2bf\", \"layer\": \"below\", \"line\": {\"width\": 0}, \"opacity\": 1.0, \"type\": \"rect\", \"x0\": 4816, \"x1\": 5167, \"xref\": \"x\", \"y0\": 9809, \"y1\": 10165, \"yref\": \"y\"}, {\"fillcolor\": \"#2195c0\", \"layer\": \"below\", \"line\": {\"width\": 0}, \"opacity\": 1.0, \"type\": \"rect\", \"x0\": 4816, \"x1\": 5167, \"xref\": \"x\", \"y0\": 10166, \"y1\": 10524, \"yref\": \"y\"}, {\"fillcolor\": \"#5fc1c0\", \"layer\": \"below\", \"line\": {\"width\": 0}, \"opacity\": 1.0, \"type\": \"rect\", \"x0\": 4816, \"x1\": 5167, \"xref\": \"x\", \"y0\": 10525, \"y1\": 10882, \"yref\": \"y\"}, {\"fillcolor\": \"#289cc1\", \"layer\": \"below\", \"line\": {\"width\": 0}, \"opacity\": 1.0, \"type\": \"rect\", \"x0\": 4816, \"x1\": 5167, \"xref\": \"x\", \"y0\": 10882, \"y1\": 11239, \"yref\": \"y\"}, {\"fillcolor\": \"#2094c0\", \"layer\": \"below\", \"line\": {\"width\": 0}, \"opacity\": 1.0, \"type\": \"rect\", \"x0\": 4816, \"x1\": 5167, \"xref\": \"x\", \"y0\": 11239, \"y1\": 11598, \"yref\": \"y\"}, {\"fillcolor\": \"#2076b3\", \"layer\": \"below\", \"line\": {\"width\": 0}, \"opacity\": 1.0, \"type\": \"rect\", \"x0\": 4816, \"x1\": 5167, \"xref\": \"x\", \"y0\": 11598, \"y1\": 11956, \"yref\": \"y\"}, {\"fillcolor\": \"#2fa4c2\", \"layer\": \"below\", \"line\": {\"width\": 0}, \"opacity\": 1.0, \"type\": \"rect\", \"x0\": 4816, \"x1\": 5167, \"xref\": \"x\", \"y0\": 11956, \"y1\": 12314, \"yref\": \"y\"}, {\"fillcolor\": \"#61c2bf\", \"layer\": \"below\", \"line\": {\"width\": 0}, \"opacity\": 1.0, \"type\": \"rect\", \"x0\": 4816, \"x1\": 5167, \"xref\": \"x\", \"y0\": 12315, \"y1\": 12672, \"yref\": \"y\"}, {\"fillcolor\": \"#1e8abd\", \"layer\": \"below\", \"line\": {\"width\": 0}, \"opacity\": 1.0, \"type\": \"rect\", \"x0\": 4816, \"x1\": 5167, \"xref\": \"x\", \"y0\": 12673, \"y1\": 13029, \"yref\": \"y\"}, {\"fillcolor\": \"#2ea3c2\", \"layer\": \"below\", \"line\": {\"width\": 0}, \"opacity\": 1.0, \"type\": \"rect\", \"x0\": 4816, \"x1\": 5167, \"xref\": \"x\", \"y0\": 13029, \"y1\": 13385, \"yref\": \"y\"}, {\"fillcolor\": \"#2076b3\", \"layer\": \"below\", \"line\": {\"width\": 0}, \"opacity\": 1.0, \"type\": \"rect\", \"x0\": 4816, \"x1\": 5167, \"xref\": \"x\", \"y0\": 13386, \"y1\": 13740, \"yref\": \"y\"}, {\"fillcolor\": \"#7acbbc\", \"layer\": \"below\", \"line\": {\"width\": 0}, \"opacity\": 1.0, \"type\": \"rect\", \"x0\": 5167, \"x1\": 5525, \"xref\": \"x\", \"y0\": 5525, \"y1\": 5876, \"yref\": \"y\"}, {\"fillcolor\": \"#63c3bf\", \"layer\": \"below\", \"line\": {\"width\": 0}, \"opacity\": 1.0, \"type\": \"rect\", \"x0\": 5167, \"x1\": 5525, \"xref\": \"x\", \"y0\": 5876, \"y1\": 6234, \"yref\": \"y\"}, {\"fillcolor\": \"#b4e2b6\", \"layer\": \"below\", \"line\": {\"width\": 0}, \"opacity\": 1.0, \"type\": \"rect\", \"x0\": 5167, \"x1\": 5525, \"xref\": \"x\", \"y0\": 6235, \"y1\": 6592, \"yref\": \"y\"}, {\"fillcolor\": \"#e5f5b2\", \"layer\": \"below\", \"line\": {\"width\": 0}, \"opacity\": 1.0, \"type\": \"rect\", \"x0\": 5167, \"x1\": 5525, \"xref\": \"x\", \"y0\": 6592, \"y1\": 6950, \"yref\": \"y\"}, {\"fillcolor\": \"#63c3bf\", \"layer\": \"below\", \"line\": {\"width\": 0}, \"opacity\": 1.0, \"type\": \"rect\", \"x0\": 5167, \"x1\": 5525, \"xref\": \"x\", \"y0\": 6950, \"y1\": 7307, \"yref\": \"y\"}, {\"fillcolor\": \"#c4e8b4\", \"layer\": \"below\", \"line\": {\"width\": 0}, \"opacity\": 1.0, \"type\": \"rect\", \"x0\": 5167, \"x1\": 5525, \"xref\": \"x\", \"y0\": 7308, \"y1\": 7664, \"yref\": \"y\"}, {\"fillcolor\": \"#d5efb3\", \"layer\": \"below\", \"line\": {\"width\": 0}, \"opacity\": 1.0, \"type\": \"rect\", \"x0\": 5167, \"x1\": 5525, \"xref\": \"x\", \"y0\": 7664, \"y1\": 8022, \"yref\": \"y\"}, {\"fillcolor\": \"#e5f5b2\", \"layer\": \"below\", \"line\": {\"width\": 0}, \"opacity\": 1.0, \"type\": \"rect\", \"x0\": 5167, \"x1\": 5525, \"xref\": \"x\", \"y0\": 8022, \"y1\": 8380, \"yref\": \"y\"}, {\"fillcolor\": \"#61c2bf\", \"layer\": \"below\", \"line\": {\"width\": 0}, \"opacity\": 1.0, \"type\": \"rect\", \"x0\": 5167, \"x1\": 5525, \"xref\": \"x\", \"y0\": 8380, \"y1\": 8736, \"yref\": \"y\"}, {\"fillcolor\": \"#cdebb4\", \"layer\": \"below\", \"line\": {\"width\": 0}, \"opacity\": 1.0, \"type\": \"rect\", \"x0\": 5167, \"x1\": 5525, \"xref\": \"x\", \"y0\": 8736, \"y1\": 9093, \"yref\": \"y\"}, {\"fillcolor\": \"#97d6b9\", \"layer\": \"below\", \"line\": {\"width\": 0}, \"opacity\": 1.0, \"type\": \"rect\", \"x0\": 5167, \"x1\": 5525, \"xref\": \"x\", \"y0\": 9093, \"y1\": 9451, \"yref\": \"y\"}, {\"fillcolor\": \"#dcf1b2\", \"layer\": \"below\", \"line\": {\"width\": 0}, \"opacity\": 1.0, \"type\": \"rect\", \"x0\": 5167, \"x1\": 5525, \"xref\": \"x\", \"y0\": 9451, \"y1\": 9809, \"yref\": \"y\"}, {\"fillcolor\": \"#48b9c3\", \"layer\": \"below\", \"line\": {\"width\": 0}, \"opacity\": 1.0, \"type\": \"rect\", \"x0\": 5167, \"x1\": 5525, \"xref\": \"x\", \"y0\": 9809, \"y1\": 10165, \"yref\": \"y\"}, {\"fillcolor\": \"#2195c0\", \"layer\": \"below\", \"line\": {\"width\": 0}, \"opacity\": 1.0, \"type\": \"rect\", \"x0\": 5167, \"x1\": 5525, \"xref\": \"x\", \"y0\": 10166, \"y1\": 10524, \"yref\": \"y\"}, {\"fillcolor\": \"#48b9c3\", \"layer\": \"below\", \"line\": {\"width\": 0}, \"opacity\": 1.0, \"type\": \"rect\", \"x0\": 5167, \"x1\": 5525, \"xref\": \"x\", \"y0\": 10525, \"y1\": 10882, \"yref\": \"y\"}, {\"fillcolor\": \"#c4e8b4\", \"layer\": \"below\", \"line\": {\"width\": 0}, \"opacity\": 1.0, \"type\": \"rect\", \"x0\": 5167, \"x1\": 5525, \"xref\": \"x\", \"y0\": 10882, \"y1\": 11239, \"yref\": \"y\"}, {\"fillcolor\": \"#a7dcb7\", \"layer\": \"below\", \"line\": {\"width\": 0}, \"opacity\": 1.0, \"type\": \"rect\", \"x0\": 5167, \"x1\": 5525, \"xref\": \"x\", \"y0\": 11239, \"y1\": 11598, \"yref\": \"y\"}, {\"fillcolor\": \"#dcf1b2\", \"layer\": \"below\", \"line\": {\"width\": 0}, \"opacity\": 1.0, \"type\": \"rect\", \"x0\": 5167, \"x1\": 5525, \"xref\": \"x\", \"y0\": 11598, \"y1\": 11956, \"yref\": \"y\"}, {\"fillcolor\": \"#299dc1\", \"layer\": \"below\", \"line\": {\"width\": 0}, \"opacity\": 1.0, \"type\": \"rect\", \"x0\": 5167, \"x1\": 5525, \"xref\": \"x\", \"y0\": 11956, \"y1\": 12314, \"yref\": \"y\"}, {\"fillcolor\": \"#2fa4c2\", \"layer\": \"below\", \"line\": {\"width\": 0}, \"opacity\": 1.0, \"type\": \"rect\", \"x0\": 5167, \"x1\": 5525, \"xref\": \"x\", \"y0\": 12315, \"y1\": 12672, \"yref\": \"y\"}, {\"fillcolor\": \"#87d0ba\", \"layer\": \"below\", \"line\": {\"width\": 0}, \"opacity\": 1.0, \"type\": \"rect\", \"x0\": 5167, \"x1\": 5525, \"xref\": \"x\", \"y0\": 12673, \"y1\": 13029, \"yref\": \"y\"}, {\"fillcolor\": \"#6dc6be\", \"layer\": \"below\", \"line\": {\"width\": 0}, \"opacity\": 1.0, \"type\": \"rect\", \"x0\": 5167, \"x1\": 5525, \"xref\": \"x\", \"y0\": 13029, \"y1\": 13385, \"yref\": \"y\"}, {\"fillcolor\": \"#87d0ba\", \"layer\": \"below\", \"line\": {\"width\": 0}, \"opacity\": 1.0, \"type\": \"rect\", \"x0\": 5167, \"x1\": 5525, \"xref\": \"x\", \"y0\": 13386, \"y1\": 13740, \"yref\": \"y\"}, {\"fillcolor\": \"#2259a6\", \"layer\": \"below\", \"line\": {\"width\": 0}, \"opacity\": 1.0, \"type\": \"rect\", \"x0\": 5525, \"x1\": 5876, \"xref\": \"x\", \"y0\": 5876, \"y1\": 6234, \"yref\": \"y\"}, {\"fillcolor\": \"#7acbbc\", \"layer\": \"below\", \"line\": {\"width\": 0}, \"opacity\": 1.0, \"type\": \"rect\", \"x0\": 5525, \"x1\": 5876, \"xref\": \"x\", \"y0\": 6235, \"y1\": 6592, \"yref\": \"y\"}, {\"fillcolor\": \"#97d6b9\", \"layer\": \"below\", \"line\": {\"width\": 0}, \"opacity\": 1.0, \"type\": \"rect\", \"x0\": 5525, \"x1\": 5876, \"xref\": \"x\", \"y0\": 6592, \"y1\": 6950, \"yref\": \"y\"}, {\"fillcolor\": \"#2259a6\", \"layer\": \"below\", \"line\": {\"width\": 0}, \"opacity\": 1.0, \"type\": \"rect\", \"x0\": 5525, \"x1\": 5876, \"xref\": \"x\", \"y0\": 6950, \"y1\": 7307, \"yref\": \"y\"}, {\"fillcolor\": \"#7acbbc\", \"layer\": \"below\", \"line\": {\"width\": 0}, \"opacity\": 1.0, \"type\": \"rect\", \"x0\": 5525, \"x1\": 5876, \"xref\": \"x\", \"y0\": 7308, \"y1\": 7664, \"yref\": \"y\"}, {\"fillcolor\": \"#6dc6be\", \"layer\": \"below\", \"line\": {\"width\": 0}, \"opacity\": 1.0, \"type\": \"rect\", \"x0\": 5525, \"x1\": 5876, \"xref\": \"x\", \"y0\": 7664, \"y1\": 8022, \"yref\": \"y\"}, {\"fillcolor\": \"#a7dcb7\", \"layer\": \"below\", \"line\": {\"width\": 0}, \"opacity\": 1.0, \"type\": \"rect\", \"x0\": 5525, \"x1\": 5876, \"xref\": \"x\", \"y0\": 8022, \"y1\": 8380, \"yref\": \"y\"}, {\"fillcolor\": \"#2262aa\", \"layer\": \"below\", \"line\": {\"width\": 0}, \"opacity\": 1.0, \"type\": \"rect\", \"x0\": 5525, \"x1\": 5876, \"xref\": \"x\", \"y0\": 8380, \"y1\": 8736, \"yref\": \"y\"}, {\"fillcolor\": \"#87d0ba\", \"layer\": \"below\", \"line\": {\"width\": 0}, \"opacity\": 1.0, \"type\": \"rect\", \"x0\": 5525, \"x1\": 5876, \"xref\": \"x\", \"y0\": 8736, \"y1\": 9093, \"yref\": \"y\"}, {\"fillcolor\": \"#53bdc1\", \"layer\": \"below\", \"line\": {\"width\": 0}, \"opacity\": 1.0, \"type\": \"rect\", \"x0\": 5525, \"x1\": 5876, \"xref\": \"x\", \"y0\": 9093, \"y1\": 9451, \"yref\": \"y\"}, {\"fillcolor\": \"#97d6b9\", \"layer\": \"below\", \"line\": {\"width\": 0}, \"opacity\": 1.0, \"type\": \"rect\", \"x0\": 5525, \"x1\": 5876, \"xref\": \"x\", \"y0\": 9451, \"y1\": 9809, \"yref\": \"y\"}, {\"fillcolor\": \"#2262aa\", \"layer\": \"below\", \"line\": {\"width\": 0}, \"opacity\": 1.0, \"type\": \"rect\", \"x0\": 5525, \"x1\": 5876, \"xref\": \"x\", \"y0\": 9809, \"y1\": 10165, \"yref\": \"y\"}, {\"fillcolor\": \"#1b2c80\", \"layer\": \"below\", \"line\": {\"width\": 0}, \"opacity\": 1.0, \"type\": \"rect\", \"x0\": 5525, \"x1\": 5876, \"xref\": \"x\", \"y0\": 10166, \"y1\": 10524, \"yref\": \"y\"}, {\"fillcolor\": \"#234fa1\", \"layer\": \"below\", \"line\": {\"width\": 0}, \"opacity\": 1.0, \"type\": \"rect\", \"x0\": 5525, \"x1\": 5876, \"xref\": \"x\", \"y0\": 10525, \"y1\": 10882, \"yref\": \"y\"}, {\"fillcolor\": \"#7acbbc\", \"layer\": \"below\", \"line\": {\"width\": 0}, \"opacity\": 1.0, \"type\": \"rect\", \"x0\": 5525, \"x1\": 5876, \"xref\": \"x\", \"y0\": 10882, \"y1\": 11239, \"yref\": \"y\"}, {\"fillcolor\": \"#53bdc1\", \"layer\": \"below\", \"line\": {\"width\": 0}, \"opacity\": 1.0, \"type\": \"rect\", \"x0\": 5525, \"x1\": 5876, \"xref\": \"x\", \"y0\": 11239, \"y1\": 11598, \"yref\": \"y\"}, {\"fillcolor\": \"#97d6b9\", \"layer\": \"below\", \"line\": {\"width\": 0}, \"opacity\": 1.0, \"type\": \"rect\", \"x0\": 5525, \"x1\": 5876, \"xref\": \"x\", \"y0\": 11598, \"y1\": 11956, \"yref\": \"y\"}, {\"fillcolor\": \"#253795\", \"layer\": \"below\", \"line\": {\"width\": 0}, \"opacity\": 1.0, \"type\": \"rect\", \"x0\": 5525, \"x1\": 5876, \"xref\": \"x\", \"y0\": 11956, \"y1\": 12314, \"yref\": \"y\"}, {\"fillcolor\": \"#243f99\", \"layer\": \"below\", \"line\": {\"width\": 0}, \"opacity\": 1.0, \"type\": \"rect\", \"x0\": 5525, \"x1\": 5876, \"xref\": \"x\", \"y0\": 12315, \"y1\": 12672, \"yref\": \"y\"}, {\"fillcolor\": \"#35aac3\", \"layer\": \"below\", \"line\": {\"width\": 0}, \"opacity\": 1.0, \"type\": \"rect\", \"x0\": 5525, \"x1\": 5876, \"xref\": \"x\", \"y0\": 12673, \"y1\": 13029, \"yref\": \"y\"}, {\"fillcolor\": \"#2094c0\", \"layer\": \"below\", \"line\": {\"width\": 0}, \"opacity\": 1.0, \"type\": \"rect\", \"x0\": 5525, \"x1\": 5876, \"xref\": \"x\", \"y0\": 13029, \"y1\": 13385, \"yref\": \"y\"}, {\"fillcolor\": \"#46b8c3\", \"layer\": \"below\", \"line\": {\"width\": 0}, \"opacity\": 1.0, \"type\": \"rect\", \"x0\": 5525, \"x1\": 5876, \"xref\": \"x\", \"y0\": 13386, \"y1\": 13740, \"yref\": \"y\"}, {\"fillcolor\": \"#289cc1\", \"layer\": \"below\", \"line\": {\"width\": 0}, \"opacity\": 1.0, \"type\": \"rect\", \"x0\": 5876, \"x1\": 6234, \"xref\": \"x\", \"y0\": 6235, \"y1\": 6592, \"yref\": \"y\"}, {\"fillcolor\": \"#48b9c3\", \"layer\": \"below\", \"line\": {\"width\": 0}, \"opacity\": 1.0, \"type\": \"rect\", \"x0\": 5876, \"x1\": 6234, \"xref\": \"x\", \"y0\": 6592, \"y1\": 6950, \"yref\": \"y\"}, {\"fillcolor\": \"#f8fcc9\", \"layer\": \"below\", \"line\": {\"width\": 0}, \"opacity\": 1.0, \"type\": \"rect\", \"x0\": 5876, \"x1\": 6234, \"xref\": \"x\", \"y0\": 6950, \"y1\": 7307, \"yref\": \"y\"}, {\"fillcolor\": \"#289cc1\", \"layer\": \"below\", \"line\": {\"width\": 0}, \"opacity\": 1.0, \"type\": \"rect\", \"x0\": 5876, \"x1\": 6234, \"xref\": \"x\", \"y0\": 7308, \"y1\": 7664, \"yref\": \"y\"}, {\"fillcolor\": \"#36abc3\", \"layer\": \"below\", \"line\": {\"width\": 0}, \"opacity\": 1.0, \"type\": \"rect\", \"x0\": 5876, \"x1\": 6234, \"xref\": \"x\", \"y0\": 7664, \"y1\": 8022, \"yref\": \"y\"}, {\"fillcolor\": \"#36abc3\", \"layer\": \"below\", \"line\": {\"width\": 0}, \"opacity\": 1.0, \"type\": \"rect\", \"x0\": 5876, \"x1\": 6234, \"xref\": \"x\", \"y0\": 8022, \"y1\": 8380, \"yref\": \"y\"}, {\"fillcolor\": \"#e5f5b2\", \"layer\": \"below\", \"line\": {\"width\": 0}, \"opacity\": 1.0, \"type\": \"rect\", \"x0\": 5876, \"x1\": 6234, \"xref\": \"x\", \"y0\": 8380, \"y1\": 8736, \"yref\": \"y\"}, {\"fillcolor\": \"#2fa4c2\", \"layer\": \"below\", \"line\": {\"width\": 0}, \"opacity\": 1.0, \"type\": \"rect\", \"x0\": 5876, \"x1\": 6234, \"xref\": \"x\", \"y0\": 8736, \"y1\": 9093, \"yref\": \"y\"}, {\"fillcolor\": \"#3eb3c4\", \"layer\": \"below\", \"line\": {\"width\": 0}, \"opacity\": 1.0, \"type\": \"rect\", \"x0\": 5876, \"x1\": 6234, \"xref\": \"x\", \"y0\": 9093, \"y1\": 9451, \"yref\": \"y\"}, {\"fillcolor\": \"#3eb3c4\", \"layer\": \"below\", \"line\": {\"width\": 0}, \"opacity\": 1.0, \"type\": \"rect\", \"x0\": 5876, \"x1\": 6234, \"xref\": \"x\", \"y0\": 9451, \"y1\": 9809, \"yref\": \"y\"}, {\"fillcolor\": \"#c4e8b4\", \"layer\": \"below\", \"line\": {\"width\": 0}, \"opacity\": 1.0, \"type\": \"rect\", \"x0\": 5876, \"x1\": 6234, \"xref\": \"x\", \"y0\": 9809, \"y1\": 10165, \"yref\": \"y\"}, {\"fillcolor\": \"#63c3bf\", \"layer\": \"below\", \"line\": {\"width\": 0}, \"opacity\": 1.0, \"type\": \"rect\", \"x0\": 5876, \"x1\": 6234, \"xref\": \"x\", \"y0\": 10166, \"y1\": 10524, \"yref\": \"y\"}, {\"fillcolor\": \"#d5efb3\", \"layer\": \"below\", \"line\": {\"width\": 0}, \"opacity\": 1.0, \"type\": \"rect\", \"x0\": 5876, \"x1\": 6234, \"xref\": \"x\", \"y0\": 10525, \"y1\": 10882, \"yref\": \"y\"}, {\"fillcolor\": \"#289cc1\", \"layer\": \"below\", \"line\": {\"width\": 0}, \"opacity\": 1.0, \"type\": \"rect\", \"x0\": 5876, \"x1\": 6234, \"xref\": \"x\", \"y0\": 10882, \"y1\": 11239, \"yref\": \"y\"}, {\"fillcolor\": \"#48b9c3\", \"layer\": \"below\", \"line\": {\"width\": 0}, \"opacity\": 1.0, \"type\": \"rect\", \"x0\": 5876, \"x1\": 6234, \"xref\": \"x\", \"y0\": 11239, \"y1\": 11598, \"yref\": \"y\"}, {\"fillcolor\": \"#3eb3c4\", \"layer\": \"below\", \"line\": {\"width\": 0}, \"opacity\": 1.0, \"type\": \"rect\", \"x0\": 5876, \"x1\": 6234, \"xref\": \"x\", \"y0\": 11598, \"y1\": 11956, \"yref\": \"y\"}, {\"fillcolor\": \"#55bec1\", \"layer\": \"below\", \"line\": {\"width\": 0}, \"opacity\": 1.0, \"type\": \"rect\", \"x0\": 5876, \"x1\": 6234, \"xref\": \"x\", \"y0\": 11956, \"y1\": 12314, \"yref\": \"y\"}, {\"fillcolor\": \"#b4e2b6\", \"layer\": \"below\", \"line\": {\"width\": 0}, \"opacity\": 1.0, \"type\": \"rect\", \"x0\": 5876, \"x1\": 6234, \"xref\": \"x\", \"y0\": 12315, \"y1\": 12672, \"yref\": \"y\"}, {\"fillcolor\": \"#289cc1\", \"layer\": \"below\", \"line\": {\"width\": 0}, \"opacity\": 1.0, \"type\": \"rect\", \"x0\": 5876, \"x1\": 6234, \"xref\": \"x\", \"y0\": 12673, \"y1\": 13029, \"yref\": \"y\"}, {\"fillcolor\": \"#61c2bf\", \"layer\": \"below\", \"line\": {\"width\": 0}, \"opacity\": 1.0, \"type\": \"rect\", \"x0\": 5876, \"x1\": 6234, \"xref\": \"x\", \"y0\": 13029, \"y1\": 13385, \"yref\": \"y\"}, {\"fillcolor\": \"#2076b3\", \"layer\": \"below\", \"line\": {\"width\": 0}, \"opacity\": 1.0, \"type\": \"rect\", \"x0\": 5876, \"x1\": 6234, \"xref\": \"x\", \"y0\": 13386, \"y1\": 13740, \"yref\": \"y\"}, {\"fillcolor\": \"#7acbbc\", \"layer\": \"below\", \"line\": {\"width\": 0}, \"opacity\": 1.0, \"type\": \"rect\", \"x0\": 6235, \"x1\": 6592, \"xref\": \"x\", \"y0\": 6592, \"y1\": 6950, \"yref\": \"y\"}, {\"fillcolor\": \"#289cc1\", \"layer\": \"below\", \"line\": {\"width\": 0}, \"opacity\": 1.0, \"type\": \"rect\", \"x0\": 6235, \"x1\": 6592, \"xref\": \"x\", \"y0\": 6950, \"y1\": 7307, \"yref\": \"y\"}, {\"fillcolor\": \"#f4fbc1\", \"layer\": \"below\", \"line\": {\"width\": 0}, \"opacity\": 1.0, \"type\": \"rect\", \"x0\": 6235, \"x1\": 6592, \"xref\": \"x\", \"y0\": 7308, \"y1\": 7664, \"yref\": \"y\"}, {\"fillcolor\": \"#97d6b9\", \"layer\": \"below\", \"line\": {\"width\": 0}, \"opacity\": 1.0, \"type\": \"rect\", \"x0\": 6235, \"x1\": 6592, \"xref\": \"x\", \"y0\": 7664, \"y1\": 8022, \"yref\": \"y\"}, {\"fillcolor\": \"#7acbbc\", \"layer\": \"below\", \"line\": {\"width\": 0}, \"opacity\": 1.0, \"type\": \"rect\", \"x0\": 6235, \"x1\": 6592, \"xref\": \"x\", \"y0\": 8022, \"y1\": 8380, \"yref\": \"y\"}, {\"fillcolor\": \"#289cc1\", \"layer\": \"below\", \"line\": {\"width\": 0}, \"opacity\": 1.0, \"type\": \"rect\", \"x0\": 6235, \"x1\": 6592, \"xref\": \"x\", \"y0\": 8380, \"y1\": 8736, \"yref\": \"y\"}, {\"fillcolor\": \"#f8fcc9\", \"layer\": \"below\", \"line\": {\"width\": 0}, \"opacity\": 1.0, \"type\": \"rect\", \"x0\": 6235, \"x1\": 6592, \"xref\": \"x\", \"y0\": 8736, \"y1\": 9093, \"yref\": \"y\"}, {\"fillcolor\": \"#53bdc1\", \"layer\": \"below\", \"line\": {\"width\": 0}, \"opacity\": 1.0, \"type\": \"rect\", \"x0\": 6235, \"x1\": 6592, \"xref\": \"x\", \"y0\": 9093, \"y1\": 9451, \"yref\": \"y\"}, {\"fillcolor\": \"#87d0ba\", \"layer\": \"below\", \"line\": {\"width\": 0}, \"opacity\": 1.0, \"type\": \"rect\", \"x0\": 6235, \"x1\": 6592, \"xref\": \"x\", \"y0\": 9451, \"y1\": 9809, \"yref\": \"y\"}, {\"fillcolor\": \"#2ea3c2\", \"layer\": \"below\", \"line\": {\"width\": 0}, \"opacity\": 1.0, \"type\": \"rect\", \"x0\": 6235, \"x1\": 6592, \"xref\": \"x\", \"y0\": 9809, \"y1\": 10165, \"yref\": \"y\"}, {\"fillcolor\": \"#2163aa\", \"layer\": \"below\", \"line\": {\"width\": 0}, \"opacity\": 1.0, \"type\": \"rect\", \"x0\": 6235, \"x1\": 6592, \"xref\": \"x\", \"y0\": 10166, \"y1\": 10524, \"yref\": \"y\"}, {\"fillcolor\": \"#1e8bbd\", \"layer\": \"below\", \"line\": {\"width\": 0}, \"opacity\": 1.0, \"type\": \"rect\", \"x0\": 6235, \"x1\": 6592, \"xref\": \"x\", \"y0\": 10525, \"y1\": 10882, \"yref\": \"y\"}, {\"fillcolor\": \"#f4fbc1\", \"layer\": \"below\", \"line\": {\"width\": 0}, \"opacity\": 1.0, \"type\": \"rect\", \"x0\": 6235, \"x1\": 6592, \"xref\": \"x\", \"y0\": 10882, \"y1\": 11239, \"yref\": \"y\"}, {\"fillcolor\": \"#61c2bf\", \"layer\": \"below\", \"line\": {\"width\": 0}, \"opacity\": 1.0, \"type\": \"rect\", \"x0\": 6235, \"x1\": 6592, \"xref\": \"x\", \"y0\": 11239, \"y1\": 11598, \"yref\": \"y\"}, {\"fillcolor\": \"#87d0ba\", \"layer\": \"below\", \"line\": {\"width\": 0}, \"opacity\": 1.0, \"type\": \"rect\", \"x0\": 6235, \"x1\": 6592, \"xref\": \"x\", \"y0\": 11598, \"y1\": 11956, \"yref\": \"y\"}, {\"fillcolor\": \"#216daf\", \"layer\": \"below\", \"line\": {\"width\": 0}, \"opacity\": 1.0, \"type\": \"rect\", \"x0\": 6235, \"x1\": 6592, \"xref\": \"x\", \"y0\": 11956, \"y1\": 12314, \"yref\": \"y\"}, {\"fillcolor\": \"#1e8bbd\", \"layer\": \"below\", \"line\": {\"width\": 0}, \"opacity\": 1.0, \"type\": \"rect\", \"x0\": 6235, \"x1\": 6592, \"xref\": \"x\", \"y0\": 12315, \"y1\": 12672, \"yref\": \"y\"}, {\"fillcolor\": \"#97d6b9\", \"layer\": \"below\", \"line\": {\"width\": 0}, \"opacity\": 1.0, \"type\": \"rect\", \"x0\": 6235, \"x1\": 6592, \"xref\": \"x\", \"y0\": 12673, \"y1\": 13029, \"yref\": \"y\"}, {\"fillcolor\": \"#61c2bf\", \"layer\": \"below\", \"line\": {\"width\": 0}, \"opacity\": 1.0, \"type\": \"rect\", \"x0\": 6235, \"x1\": 6592, \"xref\": \"x\", \"y0\": 13029, \"y1\": 13385, \"yref\": \"y\"}, {\"fillcolor\": \"#dcf1b2\", \"layer\": \"below\", \"line\": {\"width\": 0}, \"opacity\": 1.0, \"type\": \"rect\", \"x0\": 6235, \"x1\": 6592, \"xref\": \"x\", \"y0\": 13386, \"y1\": 13740, \"yref\": \"y\"}, {\"fillcolor\": \"#48b9c3\", \"layer\": \"below\", \"line\": {\"width\": 0}, \"opacity\": 1.0, \"type\": \"rect\", \"x0\": 6592, \"x1\": 6950, \"xref\": \"x\", \"y0\": 6950, \"y1\": 7307, \"yref\": \"y\"}, {\"fillcolor\": \"#87d0ba\", \"layer\": \"below\", \"line\": {\"width\": 0}, \"opacity\": 1.0, \"type\": \"rect\", \"x0\": 6592, \"x1\": 6950, \"xref\": \"x\", \"y0\": 7308, \"y1\": 7664, \"yref\": \"y\"}, {\"fillcolor\": \"#d5efb3\", \"layer\": \"below\", \"line\": {\"width\": 0}, \"opacity\": 1.0, \"type\": \"rect\", \"x0\": 6592, \"x1\": 6950, \"xref\": \"x\", \"y0\": 7664, \"y1\": 8022, \"yref\": \"y\"}, {\"fillcolor\": \"#f0f9b8\", \"layer\": \"below\", \"line\": {\"width\": 0}, \"opacity\": 1.0, \"type\": \"rect\", \"x0\": 6592, \"x1\": 6950, \"xref\": \"x\", \"y0\": 8022, \"y1\": 8380, \"yref\": \"y\"}, {\"fillcolor\": \"#55bec1\", \"layer\": \"below\", \"line\": {\"width\": 0}, \"opacity\": 1.0, \"type\": \"rect\", \"x0\": 6592, \"x1\": 6950, \"xref\": \"x\", \"y0\": 8380, \"y1\": 8736, \"yref\": \"y\"}, {\"fillcolor\": \"#97d6b9\", \"layer\": \"below\", \"line\": {\"width\": 0}, \"opacity\": 1.0, \"type\": \"rect\", \"x0\": 6592, \"x1\": 6950, \"xref\": \"x\", \"y0\": 8736, \"y1\": 9093, \"yref\": \"y\"}, {\"fillcolor\": \"#b4e2b6\", \"layer\": \"below\", \"line\": {\"width\": 0}, \"opacity\": 1.0, \"type\": \"rect\", \"x0\": 6592, \"x1\": 6950, \"xref\": \"x\", \"y0\": 9093, \"y1\": 9451, \"yref\": \"y\"}, {\"fillcolor\": \"#edf8b1\", \"layer\": \"below\", \"line\": {\"width\": 0}, \"opacity\": 1.0, \"type\": \"rect\", \"x0\": 6592, \"x1\": 6950, \"xref\": \"x\", \"y0\": 9451, \"y1\": 9809, \"yref\": \"y\"}, {\"fillcolor\": \"#289cc1\", \"layer\": \"below\", \"line\": {\"width\": 0}, \"opacity\": 1.0, \"type\": \"rect\", \"x0\": 6592, \"x1\": 6950, \"xref\": \"x\", \"y0\": 9809, \"y1\": 10165, \"yref\": \"y\"}, {\"fillcolor\": \"#2163aa\", \"layer\": \"below\", \"line\": {\"width\": 0}, \"opacity\": 1.0, \"type\": \"rect\", \"x0\": 6592, \"x1\": 6950, \"xref\": \"x\", \"y0\": 10166, \"y1\": 10524, \"yref\": \"y\"}, {\"fillcolor\": \"#3eb3c4\", \"layer\": \"below\", \"line\": {\"width\": 0}, \"opacity\": 1.0, \"type\": \"rect\", \"x0\": 6592, \"x1\": 6950, \"xref\": \"x\", \"y0\": 10525, \"y1\": 10882, \"yref\": \"y\"}, {\"fillcolor\": \"#87d0ba\", \"layer\": \"below\", \"line\": {\"width\": 0}, \"opacity\": 1.0, \"type\": \"rect\", \"x0\": 6592, \"x1\": 6950, \"xref\": \"x\", \"y0\": 10882, \"y1\": 11239, \"yref\": \"y\"}, {\"fillcolor\": \"#c4e8b4\", \"layer\": \"below\", \"line\": {\"width\": 0}, \"opacity\": 1.0, \"type\": \"rect\", \"x0\": 6592, \"x1\": 6950, \"xref\": \"x\", \"y0\": 11239, \"y1\": 11598, \"yref\": \"y\"}, {\"fillcolor\": \"#edf8b1\", \"layer\": \"below\", \"line\": {\"width\": 0}, \"opacity\": 1.0, \"type\": \"rect\", \"x0\": 6592, \"x1\": 6950, \"xref\": \"x\", \"y0\": 11598, \"y1\": 11956, \"yref\": \"y\"}, {\"fillcolor\": \"#216daf\", \"layer\": \"below\", \"line\": {\"width\": 0}, \"opacity\": 1.0, \"type\": \"rect\", \"x0\": 6592, \"x1\": 6950, \"xref\": \"x\", \"y0\": 11956, \"y1\": 12314, \"yref\": \"y\"}, {\"fillcolor\": \"#1f82b9\", \"layer\": \"below\", \"line\": {\"width\": 0}, \"opacity\": 1.0, \"type\": \"rect\", \"x0\": 6592, \"x1\": 6950, \"xref\": \"x\", \"y0\": 12315, \"y1\": 12672, \"yref\": \"y\"}, {\"fillcolor\": \"#53bdc1\", \"layer\": \"below\", \"line\": {\"width\": 0}, \"opacity\": 1.0, \"type\": \"rect\", \"x0\": 6592, \"x1\": 6950, \"xref\": \"x\", \"y0\": 12673, \"y1\": 13029, \"yref\": \"y\"}, {\"fillcolor\": \"#48b9c3\", \"layer\": \"below\", \"line\": {\"width\": 0}, \"opacity\": 1.0, \"type\": \"rect\", \"x0\": 6592, \"x1\": 6950, \"xref\": \"x\", \"y0\": 13029, \"y1\": 13385, \"yref\": \"y\"}, {\"fillcolor\": \"#53bdc1\", \"layer\": \"below\", \"line\": {\"width\": 0}, \"opacity\": 1.0, \"type\": \"rect\", \"x0\": 6592, \"x1\": 6950, \"xref\": \"x\", \"y0\": 13386, \"y1\": 13740, \"yref\": \"y\"}, {\"fillcolor\": \"#289cc1\", \"layer\": \"below\", \"line\": {\"width\": 0}, \"opacity\": 1.0, \"type\": \"rect\", \"x0\": 6950, \"x1\": 7307, \"xref\": \"x\", \"y0\": 7308, \"y1\": 7664, \"yref\": \"y\"}, {\"fillcolor\": \"#36abc3\", \"layer\": \"below\", \"line\": {\"width\": 0}, \"opacity\": 1.0, \"type\": \"rect\", \"x0\": 6950, \"x1\": 7307, \"xref\": \"x\", \"y0\": 7664, \"y1\": 8022, \"yref\": \"y\"}, {\"fillcolor\": \"#36abc3\", \"layer\": \"below\", \"line\": {\"width\": 0}, \"opacity\": 1.0, \"type\": \"rect\", \"x0\": 6950, \"x1\": 7307, \"xref\": \"x\", \"y0\": 8022, \"y1\": 8380, \"yref\": \"y\"}, {\"fillcolor\": \"#e5f5b2\", \"layer\": \"below\", \"line\": {\"width\": 0}, \"opacity\": 1.0, \"type\": \"rect\", \"x0\": 6950, \"x1\": 7307, \"xref\": \"x\", \"y0\": 8380, \"y1\": 8736, \"yref\": \"y\"}, {\"fillcolor\": \"#2fa4c2\", \"layer\": \"below\", \"line\": {\"width\": 0}, \"opacity\": 1.0, \"type\": \"rect\", \"x0\": 6950, \"x1\": 7307, \"xref\": \"x\", \"y0\": 8736, \"y1\": 9093, \"yref\": \"y\"}, {\"fillcolor\": \"#3eb3c4\", \"layer\": \"below\", \"line\": {\"width\": 0}, \"opacity\": 1.0, \"type\": \"rect\", \"x0\": 6950, \"x1\": 7307, \"xref\": \"x\", \"y0\": 9093, \"y1\": 9451, \"yref\": \"y\"}, {\"fillcolor\": \"#3eb3c4\", \"layer\": \"below\", \"line\": {\"width\": 0}, \"opacity\": 1.0, \"type\": \"rect\", \"x0\": 6950, \"x1\": 7307, \"xref\": \"x\", \"y0\": 9451, \"y1\": 9809, \"yref\": \"y\"}, {\"fillcolor\": \"#c4e8b4\", \"layer\": \"below\", \"line\": {\"width\": 0}, \"opacity\": 1.0, \"type\": \"rect\", \"x0\": 6950, \"x1\": 7307, \"xref\": \"x\", \"y0\": 9809, \"y1\": 10165, \"yref\": \"y\"}, {\"fillcolor\": \"#48b9c3\", \"layer\": \"below\", \"line\": {\"width\": 0}, \"opacity\": 1.0, \"type\": \"rect\", \"x0\": 6950, \"x1\": 7307, \"xref\": \"x\", \"y0\": 10166, \"y1\": 10524, \"yref\": \"y\"}, {\"fillcolor\": \"#d5efb3\", \"layer\": \"below\", \"line\": {\"width\": 0}, \"opacity\": 1.0, \"type\": \"rect\", \"x0\": 6950, \"x1\": 7307, \"xref\": \"x\", \"y0\": 10525, \"y1\": 10882, \"yref\": \"y\"}, {\"fillcolor\": \"#289cc1\", \"layer\": \"below\", \"line\": {\"width\": 0}, \"opacity\": 1.0, \"type\": \"rect\", \"x0\": 6950, \"x1\": 7307, \"xref\": \"x\", \"y0\": 10882, \"y1\": 11239, \"yref\": \"y\"}, {\"fillcolor\": \"#48b9c3\", \"layer\": \"below\", \"line\": {\"width\": 0}, \"opacity\": 1.0, \"type\": \"rect\", \"x0\": 6950, \"x1\": 7307, \"xref\": \"x\", \"y0\": 11239, \"y1\": 11598, \"yref\": \"y\"}, {\"fillcolor\": \"#3eb3c4\", \"layer\": \"below\", \"line\": {\"width\": 0}, \"opacity\": 1.0, \"type\": \"rect\", \"x0\": 6950, \"x1\": 7307, \"xref\": \"x\", \"y0\": 11598, \"y1\": 11956, \"yref\": \"y\"}, {\"fillcolor\": \"#55bec1\", \"layer\": \"below\", \"line\": {\"width\": 0}, \"opacity\": 1.0, \"type\": \"rect\", \"x0\": 6950, \"x1\": 7307, \"xref\": \"x\", \"y0\": 11956, \"y1\": 12314, \"yref\": \"y\"}, {\"fillcolor\": \"#b4e2b6\", \"layer\": \"below\", \"line\": {\"width\": 0}, \"opacity\": 1.0, \"type\": \"rect\", \"x0\": 6950, \"x1\": 7307, \"xref\": \"x\", \"y0\": 12315, \"y1\": 12672, \"yref\": \"y\"}, {\"fillcolor\": \"#289cc1\", \"layer\": \"below\", \"line\": {\"width\": 0}, \"opacity\": 1.0, \"type\": \"rect\", \"x0\": 6950, \"x1\": 7307, \"xref\": \"x\", \"y0\": 12673, \"y1\": 13029, \"yref\": \"y\"}, {\"fillcolor\": \"#61c2bf\", \"layer\": \"below\", \"line\": {\"width\": 0}, \"opacity\": 1.0, \"type\": \"rect\", \"x0\": 6950, \"x1\": 7307, \"xref\": \"x\", \"y0\": 13029, \"y1\": 13385, \"yref\": \"y\"}, {\"fillcolor\": \"#2076b3\", \"layer\": \"below\", \"line\": {\"width\": 0}, \"opacity\": 1.0, \"type\": \"rect\", \"x0\": 6950, \"x1\": 7307, \"xref\": \"x\", \"y0\": 13386, \"y1\": 13740, \"yref\": \"y\"}, {\"fillcolor\": \"#a7dcb7\", \"layer\": \"below\", \"line\": {\"width\": 0}, \"opacity\": 1.0, \"type\": \"rect\", \"x0\": 7308, \"x1\": 7664, \"xref\": \"x\", \"y0\": 7664, \"y1\": 8022, \"yref\": \"y\"}, {\"fillcolor\": \"#87d0ba\", \"layer\": \"below\", \"line\": {\"width\": 0}, \"opacity\": 1.0, \"type\": \"rect\", \"x0\": 7308, \"x1\": 7664, \"xref\": \"x\", \"y0\": 8022, \"y1\": 8380, \"yref\": \"y\"}, {\"fillcolor\": \"#289cc1\", \"layer\": \"below\", \"line\": {\"width\": 0}, \"opacity\": 1.0, \"type\": \"rect\", \"x0\": 7308, \"x1\": 7664, \"xref\": \"x\", \"y0\": 8380, \"y1\": 8736, \"yref\": \"y\"}, {\"fillcolor\": \"#fcfed1\", \"layer\": \"below\", \"line\": {\"width\": 0}, \"opacity\": 1.0, \"type\": \"rect\", \"x0\": 7308, \"x1\": 7664, \"xref\": \"x\", \"y0\": 8736, \"y1\": 9093, \"yref\": \"y\"}, {\"fillcolor\": \"#61c2bf\", \"layer\": \"below\", \"line\": {\"width\": 0}, \"opacity\": 1.0, \"type\": \"rect\", \"x0\": 7308, \"x1\": 7664, \"xref\": \"x\", \"y0\": 9093, \"y1\": 9451, \"yref\": \"y\"}, {\"fillcolor\": \"#97d6b9\", \"layer\": \"below\", \"line\": {\"width\": 0}, \"opacity\": 1.0, \"type\": \"rect\", \"x0\": 7308, \"x1\": 7664, \"xref\": \"x\", \"y0\": 9451, \"y1\": 9809, \"yref\": \"y\"}, {\"fillcolor\": \"#2ea3c2\", \"layer\": \"below\", \"line\": {\"width\": 0}, \"opacity\": 1.0, \"type\": \"rect\", \"x0\": 7308, \"x1\": 7664, \"xref\": \"x\", \"y0\": 9809, \"y1\": 10165, \"yref\": \"y\"}, {\"fillcolor\": \"#216daf\", \"layer\": \"below\", \"line\": {\"width\": 0}, \"opacity\": 1.0, \"type\": \"rect\", \"x0\": 7308, \"x1\": 7664, \"xref\": \"x\", \"y0\": 10166, \"y1\": 10524, \"yref\": \"y\"}, {\"fillcolor\": \"#1e8bbd\", \"layer\": \"below\", \"line\": {\"width\": 0}, \"opacity\": 1.0, \"type\": \"rect\", \"x0\": 7308, \"x1\": 7664, \"xref\": \"x\", \"y0\": 10525, \"y1\": 10882, \"yref\": \"y\"}, {\"fillcolor\": \"#f8fcc9\", \"layer\": \"below\", \"line\": {\"width\": 0}, \"opacity\": 1.0, \"type\": \"rect\", \"x0\": 7308, \"x1\": 7664, \"xref\": \"x\", \"y0\": 10882, \"y1\": 11239, \"yref\": \"y\"}, {\"fillcolor\": \"#6dc6be\", \"layer\": \"below\", \"line\": {\"width\": 0}, \"opacity\": 1.0, \"type\": \"rect\", \"x0\": 7308, \"x1\": 7664, \"xref\": \"x\", \"y0\": 11239, \"y1\": 11598, \"yref\": \"y\"}, {\"fillcolor\": \"#97d6b9\", \"layer\": \"below\", \"line\": {\"width\": 0}, \"opacity\": 1.0, \"type\": \"rect\", \"x0\": 7308, \"x1\": 7664, \"xref\": \"x\", \"y0\": 11598, \"y1\": 11956, \"yref\": \"y\"}, {\"fillcolor\": \"#1f78b4\", \"layer\": \"below\", \"line\": {\"width\": 0}, \"opacity\": 1.0, \"type\": \"rect\", \"x0\": 7308, \"x1\": 7664, \"xref\": \"x\", \"y0\": 11956, \"y1\": 12314, \"yref\": \"y\"}, {\"fillcolor\": \"#1e8bbd\", \"layer\": \"below\", \"line\": {\"width\": 0}, \"opacity\": 1.0, \"type\": \"rect\", \"x0\": 7308, \"x1\": 7664, \"xref\": \"x\", \"y0\": 12315, \"y1\": 12672, \"yref\": \"y\"}, {\"fillcolor\": \"#a7dcb7\", \"layer\": \"below\", \"line\": {\"width\": 0}, \"opacity\": 1.0, \"type\": \"rect\", \"x0\": 7308, \"x1\": 7664, \"xref\": \"x\", \"y0\": 12673, \"y1\": 13029, \"yref\": \"y\"}, {\"fillcolor\": \"#61c2bf\", \"layer\": \"below\", \"line\": {\"width\": 0}, \"opacity\": 1.0, \"type\": \"rect\", \"x0\": 7308, \"x1\": 7664, \"xref\": \"x\", \"y0\": 13029, \"y1\": 13385, \"yref\": \"y\"}, {\"fillcolor\": \"#e5f5b2\", \"layer\": \"below\", \"line\": {\"width\": 0}, \"opacity\": 1.0, \"type\": \"rect\", \"x0\": 7308, \"x1\": 7664, \"xref\": \"x\", \"y0\": 13386, \"y1\": 13740, \"yref\": \"y\"}, {\"fillcolor\": \"#d5efb3\", \"layer\": \"below\", \"line\": {\"width\": 0}, \"opacity\": 1.0, \"type\": \"rect\", \"x0\": 7664, \"x1\": 8022, \"xref\": \"x\", \"y0\": 8022, \"y1\": 8380, \"yref\": \"y\"}, {\"fillcolor\": \"#48b9c3\", \"layer\": \"below\", \"line\": {\"width\": 0}, \"opacity\": 1.0, \"type\": \"rect\", \"x0\": 7664, \"x1\": 8022, \"xref\": \"x\", \"y0\": 8380, \"y1\": 8736, \"yref\": \"y\"}, {\"fillcolor\": \"#b4e2b6\", \"layer\": \"below\", \"line\": {\"width\": 0}, \"opacity\": 1.0, \"type\": \"rect\", \"x0\": 7664, \"x1\": 8022, \"xref\": \"x\", \"y0\": 8736, \"y1\": 9093, \"yref\": \"y\"}, {\"fillcolor\": \"#c4e8b4\", \"layer\": \"below\", \"line\": {\"width\": 0}, \"opacity\": 1.0, \"type\": \"rect\", \"x0\": 7664, \"x1\": 8022, \"xref\": \"x\", \"y0\": 9093, \"y1\": 9451, \"yref\": \"y\"}, {\"fillcolor\": \"#dcf1b2\", \"layer\": \"below\", \"line\": {\"width\": 0}, \"opacity\": 1.0, \"type\": \"rect\", \"x0\": 7664, \"x1\": 8022, \"xref\": \"x\", \"y0\": 9451, \"y1\": 9809, \"yref\": \"y\"}, {\"fillcolor\": \"#48b9c3\", \"layer\": \"below\", \"line\": {\"width\": 0}, \"opacity\": 1.0, \"type\": \"rect\", \"x0\": 7664, \"x1\": 8022, \"xref\": \"x\", \"y0\": 9809, \"y1\": 10165, \"yref\": \"y\"}, {\"fillcolor\": \"#1f82b9\", \"layer\": \"below\", \"line\": {\"width\": 0}, \"opacity\": 1.0, \"type\": \"rect\", \"x0\": 7664, \"x1\": 8022, \"xref\": \"x\", \"y0\": 10166, \"y1\": 10524, \"yref\": \"y\"}, {\"fillcolor\": \"#3eb3c4\", \"layer\": \"below\", \"line\": {\"width\": 0}, \"opacity\": 1.0, \"type\": \"rect\", \"x0\": 7664, \"x1\": 8022, \"xref\": \"x\", \"y0\": 10525, \"y1\": 10882, \"yref\": \"y\"}, {\"fillcolor\": \"#a7dcb7\", \"layer\": \"below\", \"line\": {\"width\": 0}, \"opacity\": 1.0, \"type\": \"rect\", \"x0\": 7664, \"x1\": 8022, \"xref\": \"x\", \"y0\": 10882, \"y1\": 11239, \"yref\": \"y\"}, {\"fillcolor\": \"#d5efb3\", \"layer\": \"below\", \"line\": {\"width\": 0}, \"opacity\": 1.0, \"type\": \"rect\", \"x0\": 7664, \"x1\": 8022, \"xref\": \"x\", \"y0\": 11239, \"y1\": 11598, \"yref\": \"y\"}, {\"fillcolor\": \"#dcf1b2\", \"layer\": \"below\", \"line\": {\"width\": 0}, \"opacity\": 1.0, \"type\": \"rect\", \"x0\": 7664, \"x1\": 8022, \"xref\": \"x\", \"y0\": 11598, \"y1\": 11956, \"yref\": \"y\"}, {\"fillcolor\": \"#299dc1\", \"layer\": \"below\", \"line\": {\"width\": 0}, \"opacity\": 1.0, \"type\": \"rect\", \"x0\": 7664, \"x1\": 8022, \"xref\": \"x\", \"y0\": 11956, \"y1\": 12314, \"yref\": \"y\"}, {\"fillcolor\": \"#2195c0\", \"layer\": \"below\", \"line\": {\"width\": 0}, \"opacity\": 1.0, \"type\": \"rect\", \"x0\": 7664, \"x1\": 8022, \"xref\": \"x\", \"y0\": 12315, \"y1\": 12672, \"yref\": \"y\"}, {\"fillcolor\": \"#97d6b9\", \"layer\": \"below\", \"line\": {\"width\": 0}, \"opacity\": 1.0, \"type\": \"rect\", \"x0\": 7664, \"x1\": 8022, \"xref\": \"x\", \"y0\": 12673, \"y1\": 13029, \"yref\": \"y\"}, {\"fillcolor\": \"#61c2bf\", \"layer\": \"below\", \"line\": {\"width\": 0}, \"opacity\": 1.0, \"type\": \"rect\", \"x0\": 7664, \"x1\": 8022, \"xref\": \"x\", \"y0\": 13029, \"y1\": 13385, \"yref\": \"y\"}, {\"fillcolor\": \"#7acbbc\", \"layer\": \"below\", \"line\": {\"width\": 0}, \"opacity\": 1.0, \"type\": \"rect\", \"x0\": 7664, \"x1\": 8022, \"xref\": \"x\", \"y0\": 13386, \"y1\": 13740, \"yref\": \"y\"}, {\"fillcolor\": \"#3eb3c4\", \"layer\": \"below\", \"line\": {\"width\": 0}, \"opacity\": 1.0, \"type\": \"rect\", \"x0\": 8022, \"x1\": 8380, \"xref\": \"x\", \"y0\": 8380, \"y1\": 8736, \"yref\": \"y\"}, {\"fillcolor\": \"#97d6b9\", \"layer\": \"below\", \"line\": {\"width\": 0}, \"opacity\": 1.0, \"type\": \"rect\", \"x0\": 8022, \"x1\": 8380, \"xref\": \"x\", \"y0\": 8736, \"y1\": 9093, \"yref\": \"y\"}, {\"fillcolor\": \"#a7dcb7\", \"layer\": \"below\", \"line\": {\"width\": 0}, \"opacity\": 1.0, \"type\": \"rect\", \"x0\": 8022, \"x1\": 8380, \"xref\": \"x\", \"y0\": 9093, \"y1\": 9451, \"yref\": \"y\"}, {\"fillcolor\": \"#f4fbc1\", \"layer\": \"below\", \"line\": {\"width\": 0}, \"opacity\": 1.0, \"type\": \"rect\", \"x0\": 8022, \"x1\": 8380, \"xref\": \"x\", \"y0\": 9451, \"y1\": 9809, \"yref\": \"y\"}, {\"fillcolor\": \"#36abc3\", \"layer\": \"below\", \"line\": {\"width\": 0}, \"opacity\": 1.0, \"type\": \"rect\", \"x0\": 8022, \"x1\": 8380, \"xref\": \"x\", \"y0\": 9809, \"y1\": 10165, \"yref\": \"y\"}, {\"fillcolor\": \"#2163aa\", \"layer\": \"below\", \"line\": {\"width\": 0}, \"opacity\": 1.0, \"type\": \"rect\", \"x0\": 8022, \"x1\": 8380, \"xref\": \"x\", \"y0\": 10166, \"y1\": 10524, \"yref\": \"y\"}, {\"fillcolor\": \"#289cc1\", \"layer\": \"below\", \"line\": {\"width\": 0}, \"opacity\": 1.0, \"type\": \"rect\", \"x0\": 8022, \"x1\": 8380, \"xref\": \"x\", \"y0\": 10525, \"y1\": 10882, \"yref\": \"y\"}, {\"fillcolor\": \"#87d0ba\", \"layer\": \"below\", \"line\": {\"width\": 0}, \"opacity\": 1.0, \"type\": \"rect\", \"x0\": 8022, \"x1\": 8380, \"xref\": \"x\", \"y0\": 10882, \"y1\": 11239, \"yref\": \"y\"}, {\"fillcolor\": \"#c4e8b4\", \"layer\": \"below\", \"line\": {\"width\": 0}, \"opacity\": 1.0, \"type\": \"rect\", \"x0\": 8022, \"x1\": 8380, \"xref\": \"x\", \"y0\": 11239, \"y1\": 11598, \"yref\": \"y\"}, {\"fillcolor\": \"#f4fbc1\", \"layer\": \"below\", \"line\": {\"width\": 0}, \"opacity\": 1.0, \"type\": \"rect\", \"x0\": 8022, \"x1\": 8380, \"xref\": \"x\", \"y0\": 11598, \"y1\": 11956, \"yref\": \"y\"}, {\"fillcolor\": \"#1f82b9\", \"layer\": \"below\", \"line\": {\"width\": 0}, \"opacity\": 1.0, \"type\": \"rect\", \"x0\": 8022, \"x1\": 8380, \"xref\": \"x\", \"y0\": 11956, \"y1\": 12314, \"yref\": \"y\"}, {\"fillcolor\": \"#1f82b9\", \"layer\": \"below\", \"line\": {\"width\": 0}, \"opacity\": 1.0, \"type\": \"rect\", \"x0\": 8022, \"x1\": 8380, \"xref\": \"x\", \"y0\": 12315, \"y1\": 12672, \"yref\": \"y\"}, {\"fillcolor\": \"#53bdc1\", \"layer\": \"below\", \"line\": {\"width\": 0}, \"opacity\": 1.0, \"type\": \"rect\", \"x0\": 8022, \"x1\": 8380, \"xref\": \"x\", \"y0\": 12673, \"y1\": 13029, \"yref\": \"y\"}, {\"fillcolor\": \"#3db2c4\", \"layer\": \"below\", \"line\": {\"width\": 0}, \"opacity\": 1.0, \"type\": \"rect\", \"x0\": 8022, \"x1\": 8380, \"xref\": \"x\", \"y0\": 13029, \"y1\": 13385, \"yref\": \"y\"}, {\"fillcolor\": \"#53bdc1\", \"layer\": \"below\", \"line\": {\"width\": 0}, \"opacity\": 1.0, \"type\": \"rect\", \"x0\": 8022, \"x1\": 8380, \"xref\": \"x\", \"y0\": 13386, \"y1\": 13740, \"yref\": \"y\"}, {\"fillcolor\": \"#2ea3c2\", \"layer\": \"below\", \"line\": {\"width\": 0}, \"opacity\": 1.0, \"type\": \"rect\", \"x0\": 8380, \"x1\": 8736, \"xref\": \"x\", \"y0\": 8736, \"y1\": 9093, \"yref\": \"y\"}, {\"fillcolor\": \"#61c2bf\", \"layer\": \"below\", \"line\": {\"width\": 0}, \"opacity\": 1.0, \"type\": \"rect\", \"x0\": 8380, \"x1\": 8736, \"xref\": \"x\", \"y0\": 9093, \"y1\": 9451, \"yref\": \"y\"}, {\"fillcolor\": \"#48b9c3\", \"layer\": \"below\", \"line\": {\"width\": 0}, \"opacity\": 1.0, \"type\": \"rect\", \"x0\": 8380, \"x1\": 8736, \"xref\": \"x\", \"y0\": 9451, \"y1\": 9809, \"yref\": \"y\"}, {\"fillcolor\": \"#a7dcb7\", \"layer\": \"below\", \"line\": {\"width\": 0}, \"opacity\": 1.0, \"type\": \"rect\", \"x0\": 8380, \"x1\": 8736, \"xref\": \"x\", \"y0\": 9809, \"y1\": 10165, \"yref\": \"y\"}, {\"fillcolor\": \"#48b9c3\", \"layer\": \"below\", \"line\": {\"width\": 0}, \"opacity\": 1.0, \"type\": \"rect\", \"x0\": 8380, \"x1\": 8736, \"xref\": \"x\", \"y0\": 10166, \"y1\": 10524, \"yref\": \"y\"}, {\"fillcolor\": \"#e5f5b2\", \"layer\": \"below\", \"line\": {\"width\": 0}, \"opacity\": 1.0, \"type\": \"rect\", \"x0\": 8380, \"x1\": 8736, \"xref\": \"x\", \"y0\": 10525, \"y1\": 10882, \"yref\": \"y\"}, {\"fillcolor\": \"#289cc1\", \"layer\": \"below\", \"line\": {\"width\": 0}, \"opacity\": 1.0, \"type\": \"rect\", \"x0\": 8380, \"x1\": 8736, \"xref\": \"x\", \"y0\": 10882, \"y1\": 11239, \"yref\": \"y\"}, {\"fillcolor\": \"#6dc6be\", \"layer\": \"below\", \"line\": {\"width\": 0}, \"opacity\": 1.0, \"type\": \"rect\", \"x0\": 8380, \"x1\": 8736, \"xref\": \"x\", \"y0\": 11239, \"y1\": 11598, \"yref\": \"y\"}, {\"fillcolor\": \"#48b9c3\", \"layer\": \"below\", \"line\": {\"width\": 0}, \"opacity\": 1.0, \"type\": \"rect\", \"x0\": 8380, \"x1\": 8736, \"xref\": \"x\", \"y0\": 11598, \"y1\": 11956, \"yref\": \"y\"}, {\"fillcolor\": \"#55bec1\", \"layer\": \"below\", \"line\": {\"width\": 0}, \"opacity\": 1.0, \"type\": \"rect\", \"x0\": 8380, \"x1\": 8736, \"xref\": \"x\", \"y0\": 11956, \"y1\": 12314, \"yref\": \"y\"}, {\"fillcolor\": \"#97d6b9\", \"layer\": \"below\", \"line\": {\"width\": 0}, \"opacity\": 1.0, \"type\": \"rect\", \"x0\": 8380, \"x1\": 8736, \"xref\": \"x\", \"y0\": 12315, \"y1\": 12672, \"yref\": \"y\"}, {\"fillcolor\": \"#36abc3\", \"layer\": \"below\", \"line\": {\"width\": 0}, \"opacity\": 1.0, \"type\": \"rect\", \"x0\": 8380, \"x1\": 8736, \"xref\": \"x\", \"y0\": 12673, \"y1\": 13029, \"yref\": \"y\"}, {\"fillcolor\": \"#46b8c3\", \"layer\": \"below\", \"line\": {\"width\": 0}, \"opacity\": 1.0, \"type\": \"rect\", \"x0\": 8380, \"x1\": 8736, \"xref\": \"x\", \"y0\": 13029, \"y1\": 13385, \"yref\": \"y\"}, {\"fillcolor\": \"#2076b3\", \"layer\": \"below\", \"line\": {\"width\": 0}, \"opacity\": 1.0, \"type\": \"rect\", \"x0\": 8380, \"x1\": 8736, \"xref\": \"x\", \"y0\": 13386, \"y1\": 13740, \"yref\": \"y\"}, {\"fillcolor\": \"#6dc6be\", \"layer\": \"below\", \"line\": {\"width\": 0}, \"opacity\": 1.0, \"type\": \"rect\", \"x0\": 8736, \"x1\": 9093, \"xref\": \"x\", \"y0\": 9093, \"y1\": 9451, \"yref\": \"y\"}, {\"fillcolor\": \"#a7dcb7\", \"layer\": \"below\", \"line\": {\"width\": 0}, \"opacity\": 1.0, \"type\": \"rect\", \"x0\": 8736, \"x1\": 9093, \"xref\": \"x\", \"y0\": 9451, \"y1\": 9809, \"yref\": \"y\"}, {\"fillcolor\": \"#36abc3\", \"layer\": \"below\", \"line\": {\"width\": 0}, \"opacity\": 1.0, \"type\": \"rect\", \"x0\": 8736, \"x1\": 9093, \"xref\": \"x\", \"y0\": 9809, \"y1\": 10165, \"yref\": \"y\"}, {\"fillcolor\": \"#1f78b4\", \"layer\": \"below\", \"line\": {\"width\": 0}, \"opacity\": 1.0, \"type\": \"rect\", \"x0\": 8736, \"x1\": 9093, \"xref\": \"x\", \"y0\": 10166, \"y1\": 10524, \"yref\": \"y\"}, {\"fillcolor\": \"#2094c0\", \"layer\": \"below\", \"line\": {\"width\": 0}, \"opacity\": 1.0, \"type\": \"rect\", \"x0\": 8736, \"x1\": 9093, \"xref\": \"x\", \"y0\": 10525, \"y1\": 10882, \"yref\": \"y\"}, {\"fillcolor\": \"#fcfed1\", \"layer\": \"below\", \"line\": {\"width\": 0}, \"opacity\": 1.0, \"type\": \"rect\", \"x0\": 8736, \"x1\": 9093, \"xref\": \"x\", \"y0\": 10882, \"y1\": 11239, \"yref\": \"y\"}, {\"fillcolor\": \"#7acbbc\", \"layer\": \"below\", \"line\": {\"width\": 0}, \"opacity\": 1.0, \"type\": \"rect\", \"x0\": 8736, \"x1\": 9093, \"xref\": \"x\", \"y0\": 11239, \"y1\": 11598, \"yref\": \"y\"}, {\"fillcolor\": \"#a7dcb7\", \"layer\": \"below\", \"line\": {\"width\": 0}, \"opacity\": 1.0, \"type\": \"rect\", \"x0\": 8736, \"x1\": 9093, \"xref\": \"x\", \"y0\": 11598, \"y1\": 11956, \"yref\": \"y\"}, {\"fillcolor\": \"#1f82b9\", \"layer\": \"below\", \"line\": {\"width\": 0}, \"opacity\": 1.0, \"type\": \"rect\", \"x0\": 8736, \"x1\": 9093, \"xref\": \"x\", \"y0\": 11956, \"y1\": 12314, \"yref\": \"y\"}, {\"fillcolor\": \"#2195c0\", \"layer\": \"below\", \"line\": {\"width\": 0}, \"opacity\": 1.0, \"type\": \"rect\", \"x0\": 8736, \"x1\": 9093, \"xref\": \"x\", \"y0\": 12315, \"y1\": 12672, \"yref\": \"y\"}, {\"fillcolor\": \"#b4e2b6\", \"layer\": \"below\", \"line\": {\"width\": 0}, \"opacity\": 1.0, \"type\": \"rect\", \"x0\": 8736, \"x1\": 9093, \"xref\": \"x\", \"y0\": 12673, \"y1\": 13029, \"yref\": \"y\"}, {\"fillcolor\": \"#6fc7bd\", \"layer\": \"below\", \"line\": {\"width\": 0}, \"opacity\": 1.0, \"type\": \"rect\", \"x0\": 8736, \"x1\": 9093, \"xref\": \"x\", \"y0\": 13029, \"y1\": 13385, \"yref\": \"y\"}, {\"fillcolor\": \"#ecf7b1\", \"layer\": \"below\", \"line\": {\"width\": 0}, \"opacity\": 1.0, \"type\": \"rect\", \"x0\": 8736, \"x1\": 9093, \"xref\": \"x\", \"y0\": 13386, \"y1\": 13740, \"yref\": \"y\"}, {\"fillcolor\": \"#b4e2b6\", \"layer\": \"below\", \"line\": {\"width\": 0}, \"opacity\": 1.0, \"type\": \"rect\", \"x0\": 9093, \"x1\": 9451, \"xref\": \"x\", \"y0\": 9451, \"y1\": 9809, \"yref\": \"y\"}, {\"fillcolor\": \"#48b9c3\", \"layer\": \"below\", \"line\": {\"width\": 0}, \"opacity\": 1.0, \"type\": \"rect\", \"x0\": 9093, \"x1\": 9451, \"xref\": \"x\", \"y0\": 9809, \"y1\": 10165, \"yref\": \"y\"}, {\"fillcolor\": \"#1e8bbd\", \"layer\": \"below\", \"line\": {\"width\": 0}, \"opacity\": 1.0, \"type\": \"rect\", \"x0\": 9093, \"x1\": 9451, \"xref\": \"x\", \"y0\": 10166, \"y1\": 10524, \"yref\": \"y\"}, {\"fillcolor\": \"#48b9c3\", \"layer\": \"below\", \"line\": {\"width\": 0}, \"opacity\": 1.0, \"type\": \"rect\", \"x0\": 9093, \"x1\": 9451, \"xref\": \"x\", \"y0\": 10525, \"y1\": 10882, \"yref\": \"y\"}, {\"fillcolor\": \"#61c2bf\", \"layer\": \"below\", \"line\": {\"width\": 0}, \"opacity\": 1.0, \"type\": \"rect\", \"x0\": 9093, \"x1\": 9451, \"xref\": \"x\", \"y0\": 10882, \"y1\": 11239, \"yref\": \"y\"}, {\"fillcolor\": \"#f8fcc9\", \"layer\": \"below\", \"line\": {\"width\": 0}, \"opacity\": 1.0, \"type\": \"rect\", \"x0\": 9093, \"x1\": 9451, \"xref\": \"x\", \"y0\": 11239, \"y1\": 11598, \"yref\": \"y\"}, {\"fillcolor\": \"#b4e2b6\", \"layer\": \"below\", \"line\": {\"width\": 0}, \"opacity\": 1.0, \"type\": \"rect\", \"x0\": 9093, \"x1\": 9451, \"xref\": \"x\", \"y0\": 11598, \"y1\": 11956, \"yref\": \"y\"}, {\"fillcolor\": \"#289cc1\", \"layer\": \"below\", \"line\": {\"width\": 0}, \"opacity\": 1.0, \"type\": \"rect\", \"x0\": 9093, \"x1\": 9451, \"xref\": \"x\", \"y0\": 11956, \"y1\": 12314, \"yref\": \"y\"}, {\"fillcolor\": \"#289cc1\", \"layer\": \"below\", \"line\": {\"width\": 0}, \"opacity\": 1.0, \"type\": \"rect\", \"x0\": 9093, \"x1\": 9451, \"xref\": \"x\", \"y0\": 12315, \"y1\": 12672, \"yref\": \"y\"}, {\"fillcolor\": \"#7acbbc\", \"layer\": \"below\", \"line\": {\"width\": 0}, \"opacity\": 1.0, \"type\": \"rect\", \"x0\": 9093, \"x1\": 9451, \"xref\": \"x\", \"y0\": 12673, \"y1\": 13029, \"yref\": \"y\"}, {\"fillcolor\": \"#6dc6be\", \"layer\": \"below\", \"line\": {\"width\": 0}, \"opacity\": 1.0, \"type\": \"rect\", \"x0\": 9093, \"x1\": 9451, \"xref\": \"x\", \"y0\": 13029, \"y1\": 13385, \"yref\": \"y\"}, {\"fillcolor\": \"#36abc3\", \"layer\": \"below\", \"line\": {\"width\": 0}, \"opacity\": 1.0, \"type\": \"rect\", \"x0\": 9093, \"x1\": 9451, \"xref\": \"x\", \"y0\": 13386, \"y1\": 13740, \"yref\": \"y\"}, {\"fillcolor\": \"#3eb3c4\", \"layer\": \"below\", \"line\": {\"width\": 0}, \"opacity\": 1.0, \"type\": \"rect\", \"x0\": 9451, \"x1\": 9809, \"xref\": \"x\", \"y0\": 9809, \"y1\": 10165, \"yref\": \"y\"}, {\"fillcolor\": \"#216daf\", \"layer\": \"below\", \"line\": {\"width\": 0}, \"opacity\": 1.0, \"type\": \"rect\", \"x0\": 9451, \"x1\": 9809, \"xref\": \"x\", \"y0\": 10166, \"y1\": 10524, \"yref\": \"y\"}, {\"fillcolor\": \"#2ea3c2\", \"layer\": \"below\", \"line\": {\"width\": 0}, \"opacity\": 1.0, \"type\": \"rect\", \"x0\": 9451, \"x1\": 9809, \"xref\": \"x\", \"y0\": 10525, \"y1\": 10882, \"yref\": \"y\"}, {\"fillcolor\": \"#97d6b9\", \"layer\": \"below\", \"line\": {\"width\": 0}, \"opacity\": 1.0, \"type\": \"rect\", \"x0\": 9451, \"x1\": 9809, \"xref\": \"x\", \"y0\": 10882, \"y1\": 11239, \"yref\": \"y\"}, {\"fillcolor\": \"#cdebb4\", \"layer\": \"below\", \"line\": {\"width\": 0}, \"opacity\": 1.0, \"type\": \"rect\", \"x0\": 9451, \"x1\": 9809, \"xref\": \"x\", \"y0\": 11239, \"y1\": 11598, \"yref\": \"y\"}, {\"fillcolor\": \"#ffffd9\", \"layer\": \"below\", \"line\": {\"width\": 0}, \"opacity\": 1.0, \"type\": \"rect\", \"x0\": 9451, \"x1\": 9809, \"xref\": \"x\", \"y0\": 11598, \"y1\": 11956, \"yref\": \"y\"}, {\"fillcolor\": \"#1d8dbe\", \"layer\": \"below\", \"line\": {\"width\": 0}, \"opacity\": 1.0, \"type\": \"rect\", \"x0\": 9451, \"x1\": 9809, \"xref\": \"x\", \"y0\": 11956, \"y1\": 12314, \"yref\": \"y\"}, {\"fillcolor\": \"#1e8bbd\", \"layer\": \"below\", \"line\": {\"width\": 0}, \"opacity\": 1.0, \"type\": \"rect\", \"x0\": 9451, \"x1\": 9809, \"xref\": \"x\", \"y0\": 12315, \"y1\": 12672, \"yref\": \"y\"}, {\"fillcolor\": \"#61c2bf\", \"layer\": \"below\", \"line\": {\"width\": 0}, \"opacity\": 1.0, \"type\": \"rect\", \"x0\": 9451, \"x1\": 9809, \"xref\": \"x\", \"y0\": 12673, \"y1\": 13029, \"yref\": \"y\"}, {\"fillcolor\": \"#48b9c3\", \"layer\": \"below\", \"line\": {\"width\": 0}, \"opacity\": 1.0, \"type\": \"rect\", \"x0\": 9451, \"x1\": 9809, \"xref\": \"x\", \"y0\": 13029, \"y1\": 13385, \"yref\": \"y\"}, {\"fillcolor\": \"#61c2bf\", \"layer\": \"below\", \"line\": {\"width\": 0}, \"opacity\": 1.0, \"type\": \"rect\", \"x0\": 9451, \"x1\": 9809, \"xref\": \"x\", \"y0\": 13386, \"y1\": 13740, \"yref\": \"y\"}, {\"fillcolor\": \"#48b9c3\", \"layer\": \"below\", \"line\": {\"width\": 0}, \"opacity\": 1.0, \"type\": \"rect\", \"x0\": 9809, \"x1\": 10165, \"xref\": \"x\", \"y0\": 10166, \"y1\": 10524, \"yref\": \"y\"}, {\"fillcolor\": \"#87d0ba\", \"layer\": \"below\", \"line\": {\"width\": 0}, \"opacity\": 1.0, \"type\": \"rect\", \"x0\": 9809, \"x1\": 10165, \"xref\": \"x\", \"y0\": 10525, \"y1\": 10882, \"yref\": \"y\"}, {\"fillcolor\": \"#2ea3c2\", \"layer\": \"below\", \"line\": {\"width\": 0}, \"opacity\": 1.0, \"type\": \"rect\", \"x0\": 9809, \"x1\": 10165, \"xref\": \"x\", \"y0\": 10882, \"y1\": 11239, \"yref\": \"y\"}, {\"fillcolor\": \"#61c2bf\", \"layer\": \"below\", \"line\": {\"width\": 0}, \"opacity\": 1.0, \"type\": \"rect\", \"x0\": 9809, \"x1\": 10165, \"xref\": \"x\", \"y0\": 11239, \"y1\": 11598, \"yref\": \"y\"}, {\"fillcolor\": \"#3eb3c4\", \"layer\": \"below\", \"line\": {\"width\": 0}, \"opacity\": 1.0, \"type\": \"rect\", \"x0\": 9809, \"x1\": 10165, \"xref\": \"x\", \"y0\": 11598, \"y1\": 11956, \"yref\": \"y\"}, {\"fillcolor\": \"#6fc7bd\", \"layer\": \"below\", \"line\": {\"width\": 0}, \"opacity\": 1.0, \"type\": \"rect\", \"x0\": 9809, \"x1\": 10165, \"xref\": \"x\", \"y0\": 11956, \"y1\": 12314, \"yref\": \"y\"}, {\"fillcolor\": \"#b4e2b6\", \"layer\": \"below\", \"line\": {\"width\": 0}, \"opacity\": 1.0, \"type\": \"rect\", \"x0\": 9809, \"x1\": 10165, \"xref\": \"x\", \"y0\": 12315, \"y1\": 12672, \"yref\": \"y\"}, {\"fillcolor\": \"#289cc1\", \"layer\": \"below\", \"line\": {\"width\": 0}, \"opacity\": 1.0, \"type\": \"rect\", \"x0\": 9809, \"x1\": 10165, \"xref\": \"x\", \"y0\": 12673, \"y1\": 13029, \"yref\": \"y\"}, {\"fillcolor\": \"#61c2bf\", \"layer\": \"below\", \"line\": {\"width\": 0}, \"opacity\": 1.0, \"type\": \"rect\", \"x0\": 9809, \"x1\": 10165, \"xref\": \"x\", \"y0\": 13029, \"y1\": 13385, \"yref\": \"y\"}, {\"fillcolor\": \"#1f80b8\", \"layer\": \"below\", \"line\": {\"width\": 0}, \"opacity\": 1.0, \"type\": \"rect\", \"x0\": 9809, \"x1\": 10165, \"xref\": \"x\", \"y0\": 13386, \"y1\": 13740, \"yref\": \"y\"}, {\"fillcolor\": \"#48b9c3\", \"layer\": \"below\", \"line\": {\"width\": 0}, \"opacity\": 1.0, \"type\": \"rect\", \"x0\": 10166, \"x1\": 10524, \"xref\": \"x\", \"y0\": 10525, \"y1\": 10882, \"yref\": \"y\"}, {\"fillcolor\": \"#216daf\", \"layer\": \"below\", \"line\": {\"width\": 0}, \"opacity\": 1.0, \"type\": \"rect\", \"x0\": 10166, \"x1\": 10524, \"xref\": \"x\", \"y0\": 10882, \"y1\": 11239, \"yref\": \"y\"}, {\"fillcolor\": \"#2195c0\", \"layer\": \"below\", \"line\": {\"width\": 0}, \"opacity\": 1.0, \"type\": \"rect\", \"x0\": 10166, \"x1\": 10524, \"xref\": \"x\", \"y0\": 11239, \"y1\": 11598, \"yref\": \"y\"}, {\"fillcolor\": \"#216daf\", \"layer\": \"below\", \"line\": {\"width\": 0}, \"opacity\": 1.0, \"type\": \"rect\", \"x0\": 10166, \"x1\": 10524, \"xref\": \"x\", \"y0\": 11598, \"y1\": 11956, \"yref\": \"y\"}, {\"fillcolor\": \"#edf8b1\", \"layer\": \"below\", \"line\": {\"width\": 0}, \"opacity\": 1.0, \"type\": \"rect\", \"x0\": 10166, \"x1\": 10524, \"xref\": \"x\", \"y0\": 11956, \"y1\": 12314, \"yref\": \"y\"}, {\"fillcolor\": \"#c4e8b4\", \"layer\": \"below\", \"line\": {\"width\": 0}, \"opacity\": 1.0, \"type\": \"rect\", \"x0\": 10166, \"x1\": 10524, \"xref\": \"x\", \"y0\": 12315, \"y1\": 12672, \"yref\": \"y\"}, {\"fillcolor\": \"#1f82b9\", \"layer\": \"below\", \"line\": {\"width\": 0}, \"opacity\": 1.0, \"type\": \"rect\", \"x0\": 10166, \"x1\": 10524, \"xref\": \"x\", \"y0\": 12673, \"y1\": 13029, \"yref\": \"y\"}, {\"fillcolor\": \"#216daf\", \"layer\": \"below\", \"line\": {\"width\": 0}, \"opacity\": 1.0, \"type\": \"rect\", \"x0\": 10166, \"x1\": 10524, \"xref\": \"x\", \"y0\": 13029, \"y1\": 13385, \"yref\": \"y\"}, {\"fillcolor\": \"#2259a6\", \"layer\": \"below\", \"line\": {\"width\": 0}, \"opacity\": 1.0, \"type\": \"rect\", \"x0\": 10166, \"x1\": 10524, \"xref\": \"x\", \"y0\": 13386, \"y1\": 13740, \"yref\": \"y\"}, {\"fillcolor\": \"#1e8bbd\", \"layer\": \"below\", \"line\": {\"width\": 0}, \"opacity\": 1.0, \"type\": \"rect\", \"x0\": 10525, \"x1\": 10882, \"xref\": \"x\", \"y0\": 10882, \"y1\": 11239, \"yref\": \"y\"}, {\"fillcolor\": \"#53bdc1\", \"layer\": \"below\", \"line\": {\"width\": 0}, \"opacity\": 1.0, \"type\": \"rect\", \"x0\": 10525, \"x1\": 10882, \"xref\": \"x\", \"y0\": 11239, \"y1\": 11598, \"yref\": \"y\"}, {\"fillcolor\": \"#2ea3c2\", \"layer\": \"below\", \"line\": {\"width\": 0}, \"opacity\": 1.0, \"type\": \"rect\", \"x0\": 10525, \"x1\": 10882, \"xref\": \"x\", \"y0\": 11598, \"y1\": 11956, \"yref\": \"y\"}, {\"fillcolor\": \"#3eb3c4\", \"layer\": \"below\", \"line\": {\"width\": 0}, \"opacity\": 1.0, \"type\": \"rect\", \"x0\": 10525, \"x1\": 10882, \"xref\": \"x\", \"y0\": 11956, \"y1\": 12314, \"yref\": \"y\"}, {\"fillcolor\": \"#97d6b9\", \"layer\": \"below\", \"line\": {\"width\": 0}, \"opacity\": 1.0, \"type\": \"rect\", \"x0\": 10525, \"x1\": 10882, \"xref\": \"x\", \"y0\": 12315, \"y1\": 12672, \"yref\": \"y\"}, {\"fillcolor\": \"#3db2c4\", \"layer\": \"below\", \"line\": {\"width\": 0}, \"opacity\": 1.0, \"type\": \"rect\", \"x0\": 10525, \"x1\": 10882, \"xref\": \"x\", \"y0\": 12673, \"y1\": 13029, \"yref\": \"y\"}, {\"fillcolor\": \"#46b8c3\", \"layer\": \"below\", \"line\": {\"width\": 0}, \"opacity\": 1.0, \"type\": \"rect\", \"x0\": 10525, \"x1\": 10882, \"xref\": \"x\", \"y0\": 13029, \"y1\": 13385, \"yref\": \"y\"}, {\"fillcolor\": \"#2076b3\", \"layer\": \"below\", \"line\": {\"width\": 0}, \"opacity\": 1.0, \"type\": \"rect\", \"x0\": 10525, \"x1\": 10882, \"xref\": \"x\", \"y0\": 13386, \"y1\": 13740, \"yref\": \"y\"}, {\"fillcolor\": \"#6dc6be\", \"layer\": \"below\", \"line\": {\"width\": 0}, \"opacity\": 1.0, \"type\": \"rect\", \"x0\": 10882, \"x1\": 11239, \"xref\": \"x\", \"y0\": 11239, \"y1\": 11598, \"yref\": \"y\"}, {\"fillcolor\": \"#97d6b9\", \"layer\": \"below\", \"line\": {\"width\": 0}, \"opacity\": 1.0, \"type\": \"rect\", \"x0\": 10882, \"x1\": 11239, \"xref\": \"x\", \"y0\": 11598, \"y1\": 11956, \"yref\": \"y\"}, {\"fillcolor\": \"#1f78b4\", \"layer\": \"below\", \"line\": {\"width\": 0}, \"opacity\": 1.0, \"type\": \"rect\", \"x0\": 10882, \"x1\": 11239, \"xref\": \"x\", \"y0\": 11956, \"y1\": 12314, \"yref\": \"y\"}, {\"fillcolor\": \"#1e8bbd\", \"layer\": \"below\", \"line\": {\"width\": 0}, \"opacity\": 1.0, \"type\": \"rect\", \"x0\": 10882, \"x1\": 11239, \"xref\": \"x\", \"y0\": 12315, \"y1\": 12672, \"yref\": \"y\"}, {\"fillcolor\": \"#a7dcb7\", \"layer\": \"below\", \"line\": {\"width\": 0}, \"opacity\": 1.0, \"type\": \"rect\", \"x0\": 10882, \"x1\": 11239, \"xref\": \"x\", \"y0\": 12673, \"y1\": 13029, \"yref\": \"y\"}, {\"fillcolor\": \"#61c2bf\", \"layer\": \"below\", \"line\": {\"width\": 0}, \"opacity\": 1.0, \"type\": \"rect\", \"x0\": 10882, \"x1\": 11239, \"xref\": \"x\", \"y0\": 13029, \"y1\": 13385, \"yref\": \"y\"}, {\"fillcolor\": \"#e5f5b2\", \"layer\": \"below\", \"line\": {\"width\": 0}, \"opacity\": 1.0, \"type\": \"rect\", \"x0\": 10882, \"x1\": 11239, \"xref\": \"x\", \"y0\": 13386, \"y1\": 13740, \"yref\": \"y\"}, {\"fillcolor\": \"#cdebb4\", \"layer\": \"below\", \"line\": {\"width\": 0}, \"opacity\": 1.0, \"type\": \"rect\", \"x0\": 11239, \"x1\": 11598, \"xref\": \"x\", \"y0\": 11598, \"y1\": 11956, \"yref\": \"y\"}, {\"fillcolor\": \"#36abc3\", \"layer\": \"below\", \"line\": {\"width\": 0}, \"opacity\": 1.0, \"type\": \"rect\", \"x0\": 11239, \"x1\": 11598, \"xref\": \"x\", \"y0\": 11956, \"y1\": 12314, \"yref\": \"y\"}, {\"fillcolor\": \"#2ea3c2\", \"layer\": \"below\", \"line\": {\"width\": 0}, \"opacity\": 1.0, \"type\": \"rect\", \"x0\": 11239, \"x1\": 11598, \"xref\": \"x\", \"y0\": 12315, \"y1\": 12672, \"yref\": \"y\"}, {\"fillcolor\": \"#89d1ba\", \"layer\": \"below\", \"line\": {\"width\": 0}, \"opacity\": 1.0, \"type\": \"rect\", \"x0\": 11239, \"x1\": 11598, \"xref\": \"x\", \"y0\": 12673, \"y1\": 13029, \"yref\": \"y\"}, {\"fillcolor\": \"#7acbbc\", \"layer\": \"below\", \"line\": {\"width\": 0}, \"opacity\": 1.0, \"type\": \"rect\", \"x0\": 11239, \"x1\": 11598, \"xref\": \"x\", \"y0\": 13029, \"y1\": 13385, \"yref\": \"y\"}, {\"fillcolor\": \"#3db2c4\", \"layer\": \"below\", \"line\": {\"width\": 0}, \"opacity\": 1.0, \"type\": \"rect\", \"x0\": 11239, \"x1\": 11598, \"xref\": \"x\", \"y0\": 13386, \"y1\": 13740, \"yref\": \"y\"}, {\"fillcolor\": \"#1d8dbe\", \"layer\": \"below\", \"line\": {\"width\": 0}, \"opacity\": 1.0, \"type\": \"rect\", \"x0\": 11598, \"x1\": 11956, \"xref\": \"x\", \"y0\": 11956, \"y1\": 12314, \"yref\": \"y\"}, {\"fillcolor\": \"#1e8bbd\", \"layer\": \"below\", \"line\": {\"width\": 0}, \"opacity\": 1.0, \"type\": \"rect\", \"x0\": 11598, \"x1\": 11956, \"xref\": \"x\", \"y0\": 12315, \"y1\": 12672, \"yref\": \"y\"}, {\"fillcolor\": \"#61c2bf\", \"layer\": \"below\", \"line\": {\"width\": 0}, \"opacity\": 1.0, \"type\": \"rect\", \"x0\": 11598, \"x1\": 11956, \"xref\": \"x\", \"y0\": 12673, \"y1\": 13029, \"yref\": \"y\"}, {\"fillcolor\": \"#48b9c3\", \"layer\": \"below\", \"line\": {\"width\": 0}, \"opacity\": 1.0, \"type\": \"rect\", \"x0\": 11598, \"x1\": 11956, \"xref\": \"x\", \"y0\": 13029, \"y1\": 13385, \"yref\": \"y\"}, {\"fillcolor\": \"#61c2bf\", \"layer\": \"below\", \"line\": {\"width\": 0}, \"opacity\": 1.0, \"type\": \"rect\", \"x0\": 11598, \"x1\": 11956, \"xref\": \"x\", \"y0\": 13386, \"y1\": 13740, \"yref\": \"y\"}, {\"fillcolor\": \"#b4e2b6\", \"layer\": \"below\", \"line\": {\"width\": 0}, \"opacity\": 1.0, \"type\": \"rect\", \"x0\": 11956, \"x1\": 12314, \"xref\": \"x\", \"y0\": 12315, \"y1\": 12672, \"yref\": \"y\"}, {\"fillcolor\": \"#2076b3\", \"layer\": \"below\", \"line\": {\"width\": 0}, \"opacity\": 1.0, \"type\": \"rect\", \"x0\": 11956, \"x1\": 12314, \"xref\": \"x\", \"y0\": 12673, \"y1\": 13029, \"yref\": \"y\"}, {\"fillcolor\": \"#2076b3\", \"layer\": \"below\", \"line\": {\"width\": 0}, \"opacity\": 1.0, \"type\": \"rect\", \"x0\": 11956, \"x1\": 12314, \"xref\": \"x\", \"y0\": 13029, \"y1\": 13385, \"yref\": \"y\"}, {\"fillcolor\": \"#2351a2\", \"layer\": \"below\", \"line\": {\"width\": 0}, \"opacity\": 1.0, \"type\": \"rect\", \"x0\": 11956, \"x1\": 12314, \"xref\": \"x\", \"y0\": 13386, \"y1\": 13740, \"yref\": \"y\"}, {\"fillcolor\": \"#2094c0\", \"layer\": \"below\", \"line\": {\"width\": 0}, \"opacity\": 1.0, \"type\": \"rect\", \"x0\": 12315, \"x1\": 12672, \"xref\": \"x\", \"y0\": 12673, \"y1\": 13029, \"yref\": \"y\"}, {\"fillcolor\": \"#3db2c4\", \"layer\": \"below\", \"line\": {\"width\": 0}, \"opacity\": 1.0, \"type\": \"rect\", \"x0\": 12315, \"x1\": 12672, \"xref\": \"x\", \"y0\": 13029, \"y1\": 13385, \"yref\": \"y\"}, {\"fillcolor\": \"#2076b3\", \"layer\": \"below\", \"line\": {\"width\": 0}, \"opacity\": 1.0, \"type\": \"rect\", \"x0\": 12315, \"x1\": 12672, \"xref\": \"x\", \"y0\": 13386, \"y1\": 13740, \"yref\": \"y\"}, {\"fillcolor\": \"#61c2bf\", \"layer\": \"below\", \"line\": {\"width\": 0}, \"opacity\": 1.0, \"type\": \"rect\", \"x0\": 12673, \"x1\": 13029, \"xref\": \"x\", \"y0\": 13029, \"y1\": 13385, \"yref\": \"y\"}, {\"fillcolor\": \"#cdebb4\", \"layer\": \"below\", \"line\": {\"width\": 0}, \"opacity\": 1.0, \"type\": \"rect\", \"x0\": 12673, \"x1\": 13029, \"xref\": \"x\", \"y0\": 13386, \"y1\": 13740, \"yref\": \"y\"}, {\"fillcolor\": \"#36abc3\", \"layer\": \"below\", \"line\": {\"width\": 0}, \"opacity\": 1.0, \"type\": \"rect\", \"x0\": 13029, \"x1\": 13385, \"xref\": \"x\", \"y0\": 13386, \"y1\": 13740, \"yref\": \"y\"}, {\"layer\": \"below\", \"line\": {\"color\": \"black\", \"width\": 5}, \"type\": \"line\", \"x0\": 187, \"x1\": 538, \"xref\": \"x\", \"y0\": 187, \"y1\": 538, \"yref\": \"y\"}, {\"layer\": \"below\", \"line\": {\"color\": \"black\", \"width\": 5}, \"type\": \"line\", \"x0\": 538, \"x1\": 895, \"xref\": \"x\", \"y0\": 538, \"y1\": 895, \"yref\": \"y\"}, {\"layer\": \"below\", \"line\": {\"color\": \"black\", \"width\": 5}, \"type\": \"line\", \"x0\": 895, \"x1\": 1251, \"xref\": \"x\", \"y0\": 895, \"y1\": 1251, \"yref\": \"y\"}, {\"layer\": \"below\", \"line\": {\"color\": \"black\", \"width\": 5}, \"type\": \"line\", \"x0\": 1251, \"x1\": 1609, \"xref\": \"x\", \"y0\": 1251, \"y1\": 1609, \"yref\": \"y\"}, {\"layer\": \"below\", \"line\": {\"color\": \"black\", \"width\": 5}, \"type\": \"line\", \"x0\": 1610, \"x1\": 1967, \"xref\": \"x\", \"y0\": 1610, \"y1\": 1967, \"yref\": \"y\"}, {\"layer\": \"below\", \"line\": {\"color\": \"black\", \"width\": 5}, \"type\": \"line\", \"x0\": 1967, \"x1\": 2324, \"xref\": \"x\", \"y0\": 1967, \"y1\": 2324, \"yref\": \"y\"}, {\"layer\": \"below\", \"line\": {\"color\": \"black\", \"width\": 5}, \"type\": \"line\", \"x0\": 2325, \"x1\": 2682, \"xref\": \"x\", \"y0\": 2325, \"y1\": 2682, \"yref\": \"y\"}, {\"layer\": \"below\", \"line\": {\"color\": \"black\", \"width\": 5}, \"type\": \"line\", \"x0\": 2683, \"x1\": 3040, \"xref\": \"x\", \"y0\": 2683, \"y1\": 3040, \"yref\": \"y\"}, {\"layer\": \"below\", \"line\": {\"color\": \"black\", \"width\": 5}, \"type\": \"line\", \"x0\": 3041, \"x1\": 3385, \"xref\": \"x\", \"y0\": 3041, \"y1\": 3385, \"yref\": \"y\"}, {\"layer\": \"below\", \"line\": {\"color\": \"black\", \"width\": 5}, \"type\": \"line\", \"x0\": 3385, \"x1\": 3741, \"xref\": \"x\", \"y0\": 3385, \"y1\": 3741, \"yref\": \"y\"}, {\"layer\": \"below\", \"line\": {\"color\": \"black\", \"width\": 5}, \"type\": \"line\", \"x0\": 3741, \"x1\": 4099, \"xref\": \"x\", \"y0\": 3741, \"y1\": 4099, \"yref\": \"y\"}, {\"layer\": \"below\", \"line\": {\"color\": \"black\", \"width\": 5}, \"type\": \"line\", \"x0\": 4099, \"x1\": 4458, \"xref\": \"x\", \"y0\": 4099, \"y1\": 4458, \"yref\": \"y\"}, {\"layer\": \"below\", \"line\": {\"color\": \"black\", \"width\": 5}, \"type\": \"line\", \"x0\": 4458, \"x1\": 4816, \"xref\": \"x\", \"y0\": 4458, \"y1\": 4816, \"yref\": \"y\"}, {\"layer\": \"below\", \"line\": {\"color\": \"black\", \"width\": 5}, \"type\": \"line\", \"x0\": 4816, \"x1\": 5167, \"xref\": \"x\", \"y0\": 4816, \"y1\": 5167, \"yref\": \"y\"}, {\"layer\": \"below\", \"line\": {\"color\": \"black\", \"width\": 5}, \"type\": \"line\", \"x0\": 5167, \"x1\": 5525, \"xref\": \"x\", \"y0\": 5167, \"y1\": 5525, \"yref\": \"y\"}, {\"layer\": \"below\", \"line\": {\"color\": \"black\", \"width\": 5}, \"type\": \"line\", \"x0\": 5525, \"x1\": 5876, \"xref\": \"x\", \"y0\": 5525, \"y1\": 5876, \"yref\": \"y\"}, {\"layer\": \"below\", \"line\": {\"color\": \"black\", \"width\": 5}, \"type\": \"line\", \"x0\": 5876, \"x1\": 6234, \"xref\": \"x\", \"y0\": 5876, \"y1\": 6234, \"yref\": \"y\"}, {\"layer\": \"below\", \"line\": {\"color\": \"black\", \"width\": 5}, \"type\": \"line\", \"x0\": 6235, \"x1\": 6592, \"xref\": \"x\", \"y0\": 6235, \"y1\": 6592, \"yref\": \"y\"}, {\"layer\": \"below\", \"line\": {\"color\": \"black\", \"width\": 5}, \"type\": \"line\", \"x0\": 6592, \"x1\": 6950, \"xref\": \"x\", \"y0\": 6592, \"y1\": 6950, \"yref\": \"y\"}, {\"layer\": \"below\", \"line\": {\"color\": \"black\", \"width\": 5}, \"type\": \"line\", \"x0\": 6950, \"x1\": 7307, \"xref\": \"x\", \"y0\": 6950, \"y1\": 7307, \"yref\": \"y\"}, {\"layer\": \"below\", \"line\": {\"color\": \"black\", \"width\": 5}, \"type\": \"line\", \"x0\": 7308, \"x1\": 7664, \"xref\": \"x\", \"y0\": 7308, \"y1\": 7664, \"yref\": \"y\"}, {\"layer\": \"below\", \"line\": {\"color\": \"black\", \"width\": 5}, \"type\": \"line\", \"x0\": 7664, \"x1\": 8022, \"xref\": \"x\", \"y0\": 7664, \"y1\": 8022, \"yref\": \"y\"}, {\"layer\": \"below\", \"line\": {\"color\": \"black\", \"width\": 5}, \"type\": \"line\", \"x0\": 8022, \"x1\": 8380, \"xref\": \"x\", \"y0\": 8022, \"y1\": 8380, \"yref\": \"y\"}, {\"layer\": \"below\", \"line\": {\"color\": \"black\", \"width\": 5}, \"type\": \"line\", \"x0\": 8380, \"x1\": 8736, \"xref\": \"x\", \"y0\": 8380, \"y1\": 8736, \"yref\": \"y\"}, {\"layer\": \"below\", \"line\": {\"color\": \"black\", \"width\": 5}, \"type\": \"line\", \"x0\": 8736, \"x1\": 9093, \"xref\": \"x\", \"y0\": 8736, \"y1\": 9093, \"yref\": \"y\"}, {\"layer\": \"below\", \"line\": {\"color\": \"black\", \"width\": 5}, \"type\": \"line\", \"x0\": 9093, \"x1\": 9451, \"xref\": \"x\", \"y0\": 9093, \"y1\": 9451, \"yref\": \"y\"}, {\"layer\": \"below\", \"line\": {\"color\": \"black\", \"width\": 5}, \"type\": \"line\", \"x0\": 9451, \"x1\": 9809, \"xref\": \"x\", \"y0\": 9451, \"y1\": 9809, \"yref\": \"y\"}, {\"layer\": \"below\", \"line\": {\"color\": \"black\", \"width\": 5}, \"type\": \"line\", \"x0\": 9809, \"x1\": 10165, \"xref\": \"x\", \"y0\": 9809, \"y1\": 10165, \"yref\": \"y\"}, {\"layer\": \"below\", \"line\": {\"color\": \"black\", \"width\": 5}, \"type\": \"line\", \"x0\": 10166, \"x1\": 10524, \"xref\": \"x\", \"y0\": 10166, \"y1\": 10524, \"yref\": \"y\"}, {\"layer\": \"below\", \"line\": {\"color\": \"black\", \"width\": 5}, \"type\": \"line\", \"x0\": 10525, \"x1\": 10882, \"xref\": \"x\", \"y0\": 10525, \"y1\": 10882, \"yref\": \"y\"}, {\"layer\": \"below\", \"line\": {\"color\": \"black\", \"width\": 5}, \"type\": \"line\", \"x0\": 10882, \"x1\": 11239, \"xref\": \"x\", \"y0\": 10882, \"y1\": 11239, \"yref\": \"y\"}, {\"layer\": \"below\", \"line\": {\"color\": \"black\", \"width\": 5}, \"type\": \"line\", \"x0\": 11239, \"x1\": 11598, \"xref\": \"x\", \"y0\": 11239, \"y1\": 11598, \"yref\": \"y\"}, {\"layer\": \"below\", \"line\": {\"color\": \"black\", \"width\": 5}, \"type\": \"line\", \"x0\": 11598, \"x1\": 11956, \"xref\": \"x\", \"y0\": 11598, \"y1\": 11956, \"yref\": \"y\"}, {\"layer\": \"below\", \"line\": {\"color\": \"black\", \"width\": 5}, \"type\": \"line\", \"x0\": 11956, \"x1\": 12314, \"xref\": \"x\", \"y0\": 11956, \"y1\": 12314, \"yref\": \"y\"}, {\"layer\": \"below\", \"line\": {\"color\": \"black\", \"width\": 5}, \"type\": \"line\", \"x0\": 12315, \"x1\": 12672, \"xref\": \"x\", \"y0\": 12315, \"y1\": 12672, \"yref\": \"y\"}, {\"layer\": \"below\", \"line\": {\"color\": \"black\", \"width\": 5}, \"type\": \"line\", \"x0\": 12673, \"x1\": 13029, \"xref\": \"x\", \"y0\": 12673, \"y1\": 13029, \"yref\": \"y\"}, {\"layer\": \"below\", \"line\": {\"color\": \"black\", \"width\": 5}, \"type\": \"line\", \"x0\": 13029, \"x1\": 13385, \"xref\": \"x\", \"y0\": 13029, \"y1\": 13385, \"yref\": \"y\"}, {\"layer\": \"below\", \"line\": {\"color\": \"black\", \"width\": 5}, \"type\": \"line\", \"x0\": 13386, \"x1\": 13740, \"xref\": \"x\", \"y0\": 13386, \"y1\": 13740, \"yref\": \"y\"}], \"template\": {\"data\": {\"bar\": [{\"error_x\": {\"color\": \"#2a3f5f\"}, \"error_y\": {\"color\": \"#2a3f5f\"}, \"marker\": {\"line\": {\"color\": \"white\", \"width\": 0.5}}, \"type\": \"bar\"}], \"barpolar\": [{\"marker\": {\"line\": {\"color\": \"white\", \"width\": 0.5}}, \"type\": \"barpolar\"}], \"carpet\": [{\"aaxis\": {\"endlinecolor\": \"#2a3f5f\", \"gridcolor\": \"#C8D4E3\", \"linecolor\": \"#C8D4E3\", \"minorgridcolor\": \"#C8D4E3\", \"startlinecolor\": \"#2a3f5f\"}, \"baxis\": {\"endlinecolor\": \"#2a3f5f\", \"gridcolor\": \"#C8D4E3\", \"linecolor\": \"#C8D4E3\", \"minorgridcolor\": \"#C8D4E3\", \"startlinecolor\": \"#2a3f5f\"}, \"type\": \"carpet\"}], \"choropleth\": [{\"colorbar\": {\"outlinewidth\": 0, \"ticks\": \"\"}, \"type\": \"choropleth\"}], \"contour\": [{\"colorbar\": {\"outlinewidth\": 0, \"ticks\": \"\"}, \"colorscale\": [[0.0, \"#0d0887\"], [0.1111111111111111, \"#46039f\"], [0.2222222222222222, \"#7201a8\"], [0.3333333333333333, \"#9c179e\"], [0.4444444444444444, \"#bd3786\"], [0.5555555555555556, \"#d8576b\"], [0.6666666666666666, \"#ed7953\"], [0.7777777777777778, \"#fb9f3a\"], [0.8888888888888888, \"#fdca26\"], [1.0, \"#f0f921\"]], \"type\": \"contour\"}], \"contourcarpet\": [{\"colorbar\": {\"outlinewidth\": 0, \"ticks\": \"\"}, \"type\": \"contourcarpet\"}], \"heatmap\": [{\"colorbar\": {\"outlinewidth\": 0, \"ticks\": \"\"}, \"colorscale\": [[0.0, \"#0d0887\"], [0.1111111111111111, \"#46039f\"], [0.2222222222222222, \"#7201a8\"], [0.3333333333333333, \"#9c179e\"], [0.4444444444444444, \"#bd3786\"], [0.5555555555555556, \"#d8576b\"], [0.6666666666666666, \"#ed7953\"], [0.7777777777777778, \"#fb9f3a\"], [0.8888888888888888, \"#fdca26\"], [1.0, \"#f0f921\"]], \"type\": \"heatmap\"}], \"heatmapgl\": [{\"colorbar\": {\"outlinewidth\": 0, \"ticks\": \"\"}, \"colorscale\": [[0.0, \"#0d0887\"], [0.1111111111111111, \"#46039f\"], [0.2222222222222222, \"#7201a8\"], [0.3333333333333333, \"#9c179e\"], [0.4444444444444444, \"#bd3786\"], [0.5555555555555556, \"#d8576b\"], [0.6666666666666666, \"#ed7953\"], [0.7777777777777778, \"#fb9f3a\"], [0.8888888888888888, \"#fdca26\"], [1.0, \"#f0f921\"]], \"type\": \"heatmapgl\"}], \"histogram\": [{\"marker\": {\"colorbar\": {\"outlinewidth\": 0, \"ticks\": \"\"}}, \"type\": \"histogram\"}], \"histogram2d\": [{\"colorbar\": {\"outlinewidth\": 0, \"ticks\": \"\"}, \"colorscale\": [[0.0, \"#0d0887\"], [0.1111111111111111, \"#46039f\"], [0.2222222222222222, \"#7201a8\"], [0.3333333333333333, \"#9c179e\"], [0.4444444444444444, \"#bd3786\"], [0.5555555555555556, \"#d8576b\"], [0.6666666666666666, \"#ed7953\"], [0.7777777777777778, \"#fb9f3a\"], [0.8888888888888888, \"#fdca26\"], [1.0, \"#f0f921\"]], \"type\": \"histogram2d\"}], \"histogram2dcontour\": [{\"colorbar\": {\"outlinewidth\": 0, \"ticks\": \"\"}, \"colorscale\": [[0.0, \"#0d0887\"], [0.1111111111111111, \"#46039f\"], [0.2222222222222222, \"#7201a8\"], [0.3333333333333333, \"#9c179e\"], [0.4444444444444444, \"#bd3786\"], [0.5555555555555556, \"#d8576b\"], [0.6666666666666666, \"#ed7953\"], [0.7777777777777778, \"#fb9f3a\"], [0.8888888888888888, \"#fdca26\"], [1.0, \"#f0f921\"]], \"type\": \"histogram2dcontour\"}], \"mesh3d\": [{\"colorbar\": {\"outlinewidth\": 0, \"ticks\": \"\"}, \"type\": \"mesh3d\"}], \"parcoords\": [{\"line\": {\"colorbar\": {\"outlinewidth\": 0, \"ticks\": \"\"}}, \"type\": \"parcoords\"}], \"scatter\": [{\"marker\": {\"colorbar\": {\"outlinewidth\": 0, \"ticks\": \"\"}}, \"type\": \"scatter\"}], \"scatter3d\": [{\"line\": {\"colorbar\": {\"outlinewidth\": 0, \"ticks\": \"\"}}, \"marker\": {\"colorbar\": {\"outlinewidth\": 0, \"ticks\": \"\"}}, \"type\": \"scatter3d\"}], \"scattercarpet\": [{\"marker\": {\"colorbar\": {\"outlinewidth\": 0, \"ticks\": \"\"}}, \"type\": \"scattercarpet\"}], \"scattergeo\": [{\"marker\": {\"colorbar\": {\"outlinewidth\": 0, \"ticks\": \"\"}}, \"type\": \"scattergeo\"}], \"scattergl\": [{\"marker\": {\"colorbar\": {\"outlinewidth\": 0, \"ticks\": \"\"}}, \"type\": \"scattergl\"}], \"scattermapbox\": [{\"marker\": {\"colorbar\": {\"outlinewidth\": 0, \"ticks\": \"\"}}, \"type\": \"scattermapbox\"}], \"scatterpolar\": [{\"marker\": {\"colorbar\": {\"outlinewidth\": 0, \"ticks\": \"\"}}, \"type\": \"scatterpolar\"}], \"scatterpolargl\": [{\"marker\": {\"colorbar\": {\"outlinewidth\": 0, \"ticks\": \"\"}}, \"type\": \"scatterpolargl\"}], \"scatterternary\": [{\"marker\": {\"colorbar\": {\"outlinewidth\": 0, \"ticks\": \"\"}}, \"type\": \"scatterternary\"}], \"surface\": [{\"colorbar\": {\"outlinewidth\": 0, \"ticks\": \"\"}, \"colorscale\": [[0.0, \"#0d0887\"], [0.1111111111111111, \"#46039f\"], [0.2222222222222222, \"#7201a8\"], [0.3333333333333333, \"#9c179e\"], [0.4444444444444444, \"#bd3786\"], [0.5555555555555556, \"#d8576b\"], [0.6666666666666666, \"#ed7953\"], [0.7777777777777778, \"#fb9f3a\"], [0.8888888888888888, \"#fdca26\"], [1.0, \"#f0f921\"]], \"type\": \"surface\"}], \"table\": [{\"cells\": {\"fill\": {\"color\": \"#EBF0F8\"}, \"line\": {\"color\": \"white\"}}, \"header\": {\"fill\": {\"color\": \"#C8D4E3\"}, \"line\": {\"color\": \"white\"}}, \"type\": \"table\"}]}, \"layout\": {\"annotationdefaults\": {\"arrowcolor\": \"#2a3f5f\", \"arrowhead\": 0, \"arrowwidth\": 1}, \"colorscale\": {\"diverging\": [[0, \"#8e0152\"], [0.1, \"#c51b7d\"], [0.2, \"#de77ae\"], [0.3, \"#f1b6da\"], [0.4, \"#fde0ef\"], [0.5, \"#f7f7f7\"], [0.6, \"#e6f5d0\"], [0.7, \"#b8e186\"], [0.8, \"#7fbc41\"], [0.9, \"#4d9221\"], [1, \"#276419\"]], \"sequential\": [[0.0, \"#0d0887\"], [0.1111111111111111, \"#46039f\"], [0.2222222222222222, \"#7201a8\"], [0.3333333333333333, \"#9c179e\"], [0.4444444444444444, \"#bd3786\"], [0.5555555555555556, \"#d8576b\"], [0.6666666666666666, \"#ed7953\"], [0.7777777777777778, \"#fb9f3a\"], [0.8888888888888888, \"#fdca26\"], [1.0, \"#f0f921\"]], \"sequentialminus\": [[0.0, \"#0d0887\"], [0.1111111111111111, \"#46039f\"], [0.2222222222222222, \"#7201a8\"], [0.3333333333333333, \"#9c179e\"], [0.4444444444444444, \"#bd3786\"], [0.5555555555555556, \"#d8576b\"], [0.6666666666666666, \"#ed7953\"], [0.7777777777777778, \"#fb9f3a\"], [0.8888888888888888, \"#fdca26\"], [1.0, \"#f0f921\"]]}, \"colorway\": [\"#636efa\", \"#EF553B\", \"#00cc96\", \"#ab63fa\", \"#FFA15A\", \"#19d3f3\", \"#FF6692\", \"#B6E880\", \"#FF97FF\", \"#FECB52\"], \"font\": {\"color\": \"#2a3f5f\"}, \"geo\": {\"bgcolor\": \"white\", \"lakecolor\": \"white\", \"landcolor\": \"white\", \"showlakes\": true, \"showland\": true, \"subunitcolor\": \"#C8D4E3\"}, \"hoverlabel\": {\"align\": \"left\"}, \"hovermode\": \"closest\", \"mapbox\": {\"style\": \"light\"}, \"paper_bgcolor\": \"white\", \"plot_bgcolor\": \"white\", \"polar\": {\"angularaxis\": {\"gridcolor\": \"#EBF0F8\", \"linecolor\": \"#EBF0F8\", \"ticks\": \"\"}, \"bgcolor\": \"white\", \"radialaxis\": {\"gridcolor\": \"#EBF0F8\", \"linecolor\": \"#EBF0F8\", \"ticks\": \"\"}}, \"scene\": {\"xaxis\": {\"backgroundcolor\": \"white\", \"gridcolor\": \"#DFE8F3\", \"gridwidth\": 2, \"linecolor\": \"#EBF0F8\", \"showbackground\": true, \"ticks\": \"\", \"zerolinecolor\": \"#EBF0F8\"}, \"yaxis\": {\"backgroundcolor\": \"white\", \"gridcolor\": \"#DFE8F3\", \"gridwidth\": 2, \"linecolor\": \"#EBF0F8\", \"showbackground\": true, \"ticks\": \"\", \"zerolinecolor\": \"#EBF0F8\"}, \"zaxis\": {\"backgroundcolor\": \"white\", \"gridcolor\": \"#DFE8F3\", \"gridwidth\": 2, \"linecolor\": \"#EBF0F8\", \"showbackground\": true, \"ticks\": \"\", \"zerolinecolor\": \"#EBF0F8\"}}, \"shapedefaults\": {\"line\": {\"color\": \"#2a3f5f\"}}, \"ternary\": {\"aaxis\": {\"gridcolor\": \"#DFE8F3\", \"linecolor\": \"#A2B1C6\", \"ticks\": \"\"}, \"baxis\": {\"gridcolor\": \"#DFE8F3\", \"linecolor\": \"#A2B1C6\", \"ticks\": \"\"}, \"bgcolor\": \"white\", \"caxis\": {\"gridcolor\": \"#DFE8F3\", \"linecolor\": \"#A2B1C6\", \"ticks\": \"\"}}, \"title\": {\"x\": 0.05}, \"xaxis\": {\"automargin\": true, \"gridcolor\": \"#EBF0F8\", \"linecolor\": \"#EBF0F8\", \"ticks\": \"\", \"zerolinecolor\": \"#EBF0F8\", \"zerolinewidth\": 2}, \"yaxis\": {\"automargin\": true, \"gridcolor\": \"#EBF0F8\", \"linecolor\": \"#EBF0F8\", \"ticks\": \"\", \"zerolinecolor\": \"#EBF0F8\", \"zerolinewidth\": 2}}}, \"title\": {\"text\": \"73\"}, \"width\": 800, \"xaxis\": {\"range\": [-690.7, 13914], \"showgrid\": false}, \"yaxis\": {\"autorange\": \"reversed\", \"range\": [0, 13814], \"showgrid\": false}},\n",
       "                        {\"responsive\": true}\n",
       "                    ).then(function(){\n",
       "                            \n",
       "var gd = document.getElementById('f8c43b28-0179-462c-ae6c-cb91cb57697d');\n",
       "var x = new MutationObserver(function (mutations, observer) {{\n",
       "        var display = window.getComputedStyle(gd).display;\n",
       "        if (!display || display === 'none') {{\n",
       "            console.log([gd, 'removed!']);\n",
       "            Plotly.purge(gd);\n",
       "            observer.disconnect();\n",
       "        }}\n",
       "}});\n",
       "\n",
       "// Listen for the removal of the full notebook cells\n",
       "var notebookContainer = gd.closest('#notebook-container');\n",
       "if (notebookContainer) {{\n",
       "    x.observe(notebookContainer, {childList: true});\n",
       "}}\n",
       "\n",
       "// Listen for the clearing of the current output cell\n",
       "var outputEl = gd.closest('.output');\n",
       "if (outputEl) {{\n",
       "    x.observe(outputEl, {childList: true});\n",
       "}}\n",
       "\n",
       "                        })\n",
       "                };\n",
       "                });\n",
       "            </script>\n",
       "        </div>"
      ]
     },
     "metadata": {},
     "output_type": "display_data"
    }
   ],
   "source": [
    "v.show(read=sync_reads_by_id[73])"
   ]
  },
  {
   "cell_type": "code",
   "execution_count": 28,
   "metadata": {},
   "outputs": [
    {
     "data": {
      "text/plain": [
       "TRRead(seq='aaatccttcaaaaagtgatagtaatcgttagcgctggtaataagctgttaaaaaccgttattcttacatctatatgaccattttagccgagtaatgacgaaaattccgattgtaaatatcaacttttaggcaaaatccgtttttccaaatttcggtcatcaaataatcagttttttttttttgccacaactttataaatatttgtctgaatacggaatgtcatacttcgctgagctcgtaattacatttacaattaaaatgtgttcaaaaatggaaattatgtttttttgccatacttttcaaatttttatggggggtcattacaaaaaatacgaaaatttacccaaaaattgatttccctaaatccttcaataagtgatagtaatcgttagcgctggtaataagctgttaaaaaccgttattcttacatctatatgaccattttagccgagtaatgacgaaaattccgtttgtaaatatcaactttttggcaaaatccgtttttccaaatttcggtcatcaaataatcagttttttttttgccacaactttataaatatttgtctgaatacggaatgtcatacctcgctgagctcgtaattacatttaaaattaaaatgtgttcaaaaatggaaattatgttttttgccatactttgcaaatttttatggggggtcattacaaaaaatacgaaatttgacccaaatattgatttccctaaatccttcaaaaagtgatagtaatcgttagcgctggtaataagctgttaaaaaccgttattcttacatctatatgaccattttagccgagtaatgacgaaaattccgattgtaaatatcaacttttaggcaaaatccgttttttccaaatttcggtcatcaaataatcagtttttttttttttgccacaactttataaatatttgtctgaatacggaatgtcatacttcgctgagctcgtaattacatttacaattaaaatgtgttcaaaaatggaaattatgtttttttgccatacttttcaaatttttatggggggtcattacaaaaaatacgaaaatttacccaaaaattgatttccctaaatccttcaataagtgatagtaatcgttagcgctggtaataagctgttaaaaaccgttattcttacatctatatgaccattttagccgagtaatgacgaaaattccgtttgtaaatatcaactttttggcaaaatccgtttttccaaatttcggtcatcaaataatcagtttttttttttgccacaactttataaatatttgtctgaatacggaatgtcatacctcgctgagctcgtaattacatttaaaattaaaatgtgttcaaaaatggaaattatgttttttgccatactttgcaaatttttatggggggtcattacaaaaaatacgaaatttgacccaaatattgatttccctaaatccttcaaaaagtgatagtaatcgttagcgctggtaataagctgttaaaaaccgttattcttacatctatatgaccattttagccgagtaatgacgaaaattccgattgtaaatatcaacttttaggcaaaatccgtttttccaaatttcggtcatcaaatattcagttttttttttgccacaactttataaatatttgtctgaatacggaatgtcatacttcgctgagctcgtaattacatttacaattaaaatgtgttcaaaaatggaaattatgtttttatgctatacttttcaaatttttatggggggtcattacaaaaaatacgaaaatttacccaaaaattgatttccctaaatccttcaaaaagtgatagtaatcgttagcgctggtaataagctgttaaaaaccgttattcttatatctatatgaccatttcagccaagtaatgacgaaaattccgtttgtaaatatcaacttttaggcaaaatccgtttttccaaatttcggtcatcaaataatcagttttttttgccacaactttataaatatttgtctgaatacggaatgtcataactcgctgagctcgtaattacatttacaattaaaatgtgttcaaaaatggaaattatttttttttgccatactttgcaaatttttatggggggtcattacaaaaaatacgaaatttgacccaaaaattgatttccctaaatccttcaaaaagtgatagtaatcgttagcgctggtaataagctgttaaaaaccgttattcttacatctatatgaccattttagccgagtaatgacgaaaattccgattgtaaatattaacttttaggcaaaatccgtttttccaaatttcggtcatcaaataatcagtttttttttaccacaactttataaatatttgtatgaatacggaatgtcatacctcgctgagctcgtaattacatttaaaattaaaatgtgttcaaaaatggaaattatgttttttgccatactttgcaaatttttatggggggtcattacaaaaaatacgaaatttgacccaaatattgatttccctaaatccttcaaaaagtgatagtaatcgttagcgctggtaataagctgttcaaaaccgttattcttacatctatatgaccattttagccgagtaatgacgaaaattccgattgtaaatatcaacttttaggcaaaatccgtttttccaaatttcggtcatcaaataatcagttttttttttgccacaactttataaatatttgtctgaatacggaatgtcatacttcgctgagctcgtaattacatttacaattaaaatgtgttcaaaaatggaaattatgtttttttgccatacttttcaaatttttatggggggtcattacaaaaaatacgaaaatttacccaaaaattgatatccctaaatccttcaataagtgatagtaatcgttagcgctggtaataagctgttaaaaaccgttattcttacatctatatgaccattttagccgagtaatgacgaaaattccgtttgtaaatatcaactttttggcaaaatccgtttttccaaatttcggtcatcaaataatcagtttttttttgccacaactttataaatatttgtctgaatacggaatgtcatacttcgctgagctcgtaattacatttacaattaaaatgtgttcaaaaatggaaattatgtttttttgccatacttttcaaatttttatggggggtcattacaaaaaatacgaaaatttacccaaaaattgatatccctaaatccttcaataagtgatagtaatcgttagcgctggtaataagctgttaaaaaccgttattcttacatctatatgaccattttagccgagtaatggcgaaaattccgtttgtaaatatcaactttttggcaaaatccgtttttccaaatttcggtcatcaaataatcagttttttttgccacaactttataaatatttgtctgaatacggaatgtcataactcgctgagctcgtaattacatttacaattaaaatgtgttcaaaaatggaaattatttttttttgccatactttgcaaatttttatggggggtcattacaaaaaatacgaaatttgacccaaaaattgatttccctaaatccttcaaaaagtgatagtaatcgttagcgctggtaataagctgttaaaaaccgttattcttacatctatatgaccattttagccgagtaatgacgaaaattccgattgtaaatatcaacttttaggcaaaatccgtttttccaaatttcggtcatcaaataatcagttttttttttaccacaactttataaatatttgtatgaatacggaatgtcatacttcgctgagctcgtaattacatttacaattaaaatgtgttcaaaaatggaaattatgtttttttgccatacttttctaatttttttatggggggtcattacaaaaaatacgaaaatttacccaaaaattgatttccctaaatccttcaaaaagtgatagtaatcgttagcgctggcaaaaagctgttaaaaaatacgaaatttgacccaaaaattgatttccctaaatccttcaaaaagtgatagtaattgttagcgctggcaaaaagctgttaaaaaatacgaaatttgacccaaaaatggatttccctaaatccttcaaaaagttatagtaatcgttagcgctggtaaaaagctgttaaaaaatacgaaaatttacccaaaaattgatttccctaaatccttcaaaaagtgatagtaatcgttagcgctggtaataagctgttcaaaaccgttattcttatatctatatgaccatttcagccaagtaatgacgaaaattccgtttgtaaatatcaacttttaggcaaaatccgtttttccaaatttcggtcatcaaataatcagttttttttttgccacaactttataaatatttgtctgaatacggaatgtcatacctcgctgagctcgtaattacatttacaattaaaatgtgttcaaaaatggaaattattttttttttgccatactttcaaatttttatggggggtcattacaaaaaatacgaaatttgacccaaaaattgatttccctaaatccttcaaaaagtgatagtaatcgttagcgctggtaataagctgttaaaaaccgttattcttacatctatatgaccattttagccgagtaatgacgaaaattccgattgtaaatatcaactttttggcaaaatccgtttttccaaatttcggtcatcaaataatcagtttttttgccacaactttataaatatttgtctgaatacggaatgtcatacctcgctgagctcgtaattacatttacaattaaaatgtgttcaaaaatggaaattatgttttttgccatactttgcaaatttttatggggggtcattacataaaatacgaaaattgatttccctaaatccttcaaaaagtgatagtaatcgttagcgctggtaataagctgttaaaaaccgttattcttacatctatatgaccattttagccgagtaatgacgaaaattccgattgtaaatatcaactttttggcaaaatccgtttttccaaatttcggtcattaaataatcagttttttttgccacaactttataaatatttgtctgaatacggaatgtcatacctcgctgagctcgtaattacatttacaattaaaatgtgttcaaaaatggaaattatgtttttttgccatacttttcaaatttttatggggggtcattacaaaaaatacgaaaatttacccaaaaattgatatccctaaatccttcaataagtgatagtaatcgttagcgctggtaataagctgttaaaaaccgttattcttacatctatatgaccattttagccgagtaatgacgaaaattccgtttgtaaatatcaactttttggcaaaatccgtttttccaaatttcggtcatcaaataatcagtttttttttgccacaactttataaatatgcgtctgaatacggaatgtcatacctcgctgagcttgtaattacatttaaaattaaaatgtgttcaaaaatggaaattatgttttttgccatactttgcaaatttttatggggggtcattacaaaaaatacgaaaatttacccaaaaatttatttccctaaatccttcaaaaagtgatagtaattgttagcgctggcaaaaagctgttaaaaaatacgaaatttgacccaaaaattgatttccctaaatccttcaaaaagttatagtaatcgttagcgctggtaaaaagctgttaaaaaatacgaaaatttacccaaaaattgatttccctaaatccttcaaaaagtgatagtaatcgttagcgctggtaataagctgttcaaaaccgttattcttatatctatatgaccatttcagccaagtaatgacgaaaattccgtttgtaaatatcaacttttaggcaaaattcgtttttccaaatttcggtcatcaaataatcagttttttttgccacaactttataaatatttgtctgaatacggaatgtcatacctcgctgagctcgtaattacatttacaattaaaatgtgttcaaaaatggaaattatttttttttgccatactttgcaaatttttatggggggtcattacaaaaaatacgaaatttgacccaaaaattgatttccctaaatccttcaaaaagtgatagtaatcgttagcgctggtaataagctgttaaaaaccgttattcttacatctatatgaccattttagccgagtaatgacgaaaattccgattgtaaatatcaacttttaggcaaaatccgtttttccaaatttcggtcatcaaataatcagttttttttgccacaactttataaatatttgtctgaatacggaatgtcatacttcgctgagctcgtaattacatttacaattaaaatgtgttcaaaaatggaaattatttttttttgccatactttgcaaatttttatggggggtcattacaaaaaatacgaaatttgacccaaaaattgatttccctaaatccttcaaaaagtgatagtaatcgttagcgctggtaataagctgttaaaaaccgttattcttacatctatatgaccattttagccgagtaatgacgaaaattccgattgtaaatatcaacttttaggcaaaatccgtttttccaaatttcggtcatcaaataatcagtttttttttaccacaactttataaatatttgtctgaatacggaatgtcatacttcgctgagctcgtaattacatttacaattaaaatgtgttcaaaaatggaaattatgtttttttgccatacttttctaattttttttatgggggggtcattacaaaaaatacgaaaatttacccaaaaatttatttccctaaatccttcaaaaagtgatagtaattgttagcgctggcaaaaagctgttaaaaaatacgaaatttgacccaaaaattgatttccctaaatccttcaaaaagttatagtaatcgttagcgctggtaaaaagctgttaaaaaatacgaaaatttacccaaaaattgatttccctaaatccttcaaaaagtgatagtaatcgttagcgctggtaataagctgttcaaaaccgttattcttatatctatatgaccatttcagccaagtaatgacgaaaattccgtttgtaaatatcaacttttaggcaaaattcgtttttccaaatttcggtcatcaaataatcagttttttttgccacaactttataaatatttgtctgaatacggaatgtcatacttcgctgagctcgtaattacatttacaattaaaatgtgttcaaaaatggaaattatgttttttgccatacttttcaaatttttatggggggtcattacaaaaaatacgaaaatttacccaaaaattgatttccctaaatccttcaaaaagtgatagtaatcgttagcgctggtaataagctgttaaaaaccgttattcttacatctatatgaccatttcagccaagtaatgacgaaaattccgtttgtaaatatcaacttttaggcaaaatccgtttttccaaatttcggtcatcaaataatcagtttttttgccacaactttataaatatttgtctgaatacggaatgtcatacctcgctgagctcgtaattacatttacaattaaaatgtgttcaaaaatggaaattatttttttttgccatactttgcaaatttttatggggggtcattacaaaaaatacgaaatttgacccaaaaattgatttccctaaatccttcaaaaagtgatagtaatcgttagcgctggtaataagctgttaaaaaccgttattcttacatctatatgaccattttagccgagtaatgacgaaaattccgattgtaaatatcaacttttaggcaaaatccgtttttccaaatttcggtcatcaaataatcagtttttttttttaccacaactttataaatatttgtctgaatacggaatgtcatacttcgctgagctcgtaattacatttacaattaaaatgtgttcaaaaatggaaattatgtttttttgccatacttttctaattttttttatggggggtcattacaaaaaatacgaaaatttacccaaaaattgatttccctaaatccttcaaaaagtgatagtaattgttagcgctggcaaaaagctgttaaaaaatacgaaatttgacccaaaaattgatttccctaaatccttcaaaaagtgatagtaatcgttagcgctggtaataagctgttaaaaaccgttattcttacatctatatgaccattttagccgagtaatgacgaaaattccgtttgtaaatatcaactttttggcaaaatccgtttttccaaatttcggtcatcaaataatcagtttttttgccacaactttataaatatttgtctgaatacggaatgtcatacttcgctgagctcgtaattacatttacaattaaaatgtgttcaaaaatggaaattatgtttttttgccatacttttctaattttttttatggggggtcattacaaaaaatacgaaaatttacccaaaaattgatttccctaaatccttcaaaaagtgatagtaatcgttagcgctggcaaaaagctgttaaaaaatacgaaatttgacccaaaaattgatttccctaaatccttcaaaaagtgatagtaattgttagcgctggcaaaaagctgttaaaaaatacgaaatttgacccaaaaattgatttccctaaatccttcaaaaagtgatagtaatcgttagcgctggtaataagctgttaaaaaccgttattcttacatctatatgaccattttagccgagtaatgacgaaaattccgtttgtaaatatcaactttttggcaaaatccgtttttccaaatttcggtcatcaaataatcagtttttttgccacaactttataaatatttgtctgaatacggaatgtcatacctcgctgagctcgtaattacatttacaattaaaatgtgttcaaaaatggaaattatgtttttttgccatacttttccaatttttatggggggtcattacaaaaaatacgaaaattgatttccctaaatccttcaaaaagtgatagtaatcgttagcgctggtaataagctgttaaaaaccgttattcttacatctatatgaccattttagccgagtaatgacgaaaattccgattgtaaatatcaactttttggcaaaatccgtttttccaaatttcggtcattaaataatcagttttttttgccacaactttataaatatttgtctgaatacggaatgtcatacctcgctgagctcgtaattacatttacaattaaaatgtgttcaaaaatggaaattatgtttttttgccatacttttcaaatttttatggggggtcattacaaaaaatacgaaaatttacccaaaaattgatttccctaaatccttcaataagtgatagtaatcgttagcgctggtaataagtgttgtttgttgaaaaggtgctccaagtgtggaacactgacaaccatattgggaagatcctaatcttcacccaaactcagcgcattgagagcaaaggccgaatgagtaaacgcgaaataaaaagtcttgagccgagcgtccgaacacgaagaagttttatttgaaactgaaactgatacacataaaaatgccagcttcatgcggctgcttatttactaatatatatacatacatacagttcatgtgtatgtatgtatgttctcatacagaattacatatgcacatgtgcaaatggcctatattcaacacacatgtgggcattgcctatattcaacagccttcctcaatgccaacatgtttacaaaaattaaaacaaatttaacattttcataaacccattatgctttccctttgaaagattctttgtcataatgtctgctatcatctcattcgtagaagtgtactctaacacaacgtgaccctctttcatgacttctctaatgaaatgatatcgaatgtcgatgtgcttcgtcctagagtgatgaaccgggttcttcgctaagtgctgcgcactcaggttgtcgccatgcataaccgtcggggtcttcagatcaccgcatccgatctccactattagccttcgtaaagctatagcttccttgcaagccgtggtcagagccatatactcggcttcagtactgctcaacgccacgctctgctgcttctcggacctccatgatactggtccgccagacaggaaaaacacataccctgtgtatgactttcggtccaaacggtcgcctccccaatctgcatccacaaagccggtaaatgcctgaccgcacttttgataatgcagcttgacgtccacagttgacgccaagtaccggaggatgtgcttcacagccaccatgtgctcagaatgcgggtcctgattcctctgagccaacttcgccaccgaatgtagtatgtctggtctggtagtaagcccaagccacattagctcaccaattgtagactgatactgccctgcgtcgaccttctggcactgctcacccgcgcacaaaacttgatgccctgcatccaaaggtgtcgtcgctggtctacagttctcgctgccatatgcccgcaatagttccttgatatattgcgaatggcccaaagtgatttctccaaggtcgccatctcgttgcacctccatgcctaagaacaaatgcagtggacccttgtccgtgcactcgaaagactctgaaatcttggctttcagatcctccatatcttctcttgactggcacgctagaattaaatcatcaacatatactaagatgagcatcagattaccttgaccactttgctgataaagacatggttcatgattacaggccttaaatcccaagtcttttagaacaccgtcgagcttggagttccactctctgcctgactgcttcaagccgtatattgccttcctcagcaataacacctggtcgggattagcagcatctgtgaacccttggggctgcttcatgtacacagtatcctttagctcgctatttaagtacgccgtgcatacgtccatgtgatgcaagtacaattgcatctctgctgccaatgccaaaatgagcctcacactctcgagcctgcacacgggtgaaaaagtctcgaagtagtccactccgaacttctgcgaacacccctttgctactagtcgtgccttgaagcgctcaattctaccagagacgtctcgtttcagggaatacacccacttgcaagccacacaccggcgatttcttggtaagtcagccagcttccatgtctcatttgcaagtagcgccttgtactccaggcccattgcctcttcccactttgcagaatactgcgaattgatggcctcctcataggacttgggaatttcgacgtcgctagccatcaacacgccaagtacattgtattgcttcttcgggcgccctggtctgcccgtccgaacaatctttggccgtccaggccccacatgtacttcagcttcttctgcctcagctgcactctcatagtcgtcgctgcttgcccacgggttctgtatcgtcaccttcccgtgcattcgaatcactctgcggctccgggtcatcagttgcgggaaactggaactcaatggtatttccatgatttaccaaactaccagactcatcaaaaaggacatctcgcttctcgatcacacaccgcttctctttgtcaaacagacggtaccccttagccgctattgaatatccaatcatacgatattcctttcctttggattcgaatttgcctttatggactcctttgtccaatgccactgctatggcaccaaaaaccctcaagtggctcactgctggtatttttccggtccactcttccataggggttttgctttgtaatgctctgctcgttgatcggttcctcagatacaccgcagtgtttatcgcctcagcccatagagcctcac', id=762, name='m64011_190605_003147/394808/0_11959', alignments=[SelfAlignment(ab=7362, ae=8143, bb=7006, be=7780), SelfAlignment(ab=6132, ae=6896, bb=5775, be=6534), SelfAlignment(ab=4546, ae=5614, bb=4187, be=5257), SelfAlignment(ab=373, ae=3986, bb=12, be=3625), SelfAlignment(ab=8167, ae=8674, bb=7718, be=8229), SelfAlignment(ab=4894, ae=5648, bb=4192, be=4934), SelfAlignment(ab=719, ae=3986, bb=0, be=3268), SelfAlignment(ab=5780, ae=6534, bb=4894, be=5648), SelfAlignment(ab=7023, ae=7780, bb=6132, be=6896), SelfAlignment(ab=4170, ae=4849, bb=3194, be=3874), SelfAlignment(ab=1094, ae=3986, bb=12, be=2910), SelfAlignment(ab=5775, ae=8244, bb=4546, be=6997), SelfAlignment(ab=4170, ae=5303, bb=2836, be=3986), SelfAlignment(ab=8715, ae=9447, bb=7379, be=8129), SelfAlignment(ab=1441, ae=3986, bb=0, be=2551), SelfAlignment(ab=5615, ae=6807, bb=4027, be=5206), SelfAlignment(ab=7362, ae=8143, bb=5758, be=6534), SelfAlignment(ab=4195, ae=5835, bb=2502, be=4161), SelfAlignment(ab=8167, ae=9480, bb=6472, be=7799), SelfAlignment(ab=1800, ae=3986, bb=0, be=2194), SelfAlignment(ab=4187, ae=5648, bb=2137, be=3613), SelfAlignment(ab=7028, ae=7780, bb=4894, be=5648), SelfAlignment(ab=2157, ae=3986, bb=0, be=1837), SelfAlignment(ab=4170, ae=5614, bb=1763, be=3222), SelfAlignment(ab=5758, ae=6546, bb=3194, be=3986), SelfAlignment(ab=5758, ae=7083, bb=2836, be=4161), SelfAlignment(ab=8216, ae=9480, bb=5278, be=6553), SelfAlignment(ab=4170, ae=5648, bb=1045, be=2539), SelfAlignment(ab=8698, ae=9480, bb=4529, be=5310), SelfAlignment(ab=7006, ae=8229, bb=2836, be=4060)], trs=[ReadInterval(start=0, end=3986), ReadInterval(start=4187, end=8674)], units=[], synchronized=True, repr_units={0: 'caaaaatgttgatatttacaaacgaaattttcgttataacttggctaaaaatggtcacatagatgtaagaataactgttttgagcagctaattaccagtgctaacgatccctattactttttgaaggatttagggaaattaatttttggatcaattttcgcattttttgtaaggaggggggtcatcaaaatttgcaaaatatggccaaaaaatttaatttccatttttgaacacagtttgattggaaattttattacgagctcagtgaggtatgacattccatattcagacaattattttttatgttgtggcaaaataaatgattatttgatgaccgaaatttggaaaaacagactctg', 1: 'cagagtctgtttttccaaatttcggtcatcaaataatcatttattttgccacaacataaaaaataattgtctgaatatggaatgtcatacctcactgagctcgtaataaaatttccaatcaaactgtgttcaaaaatggaaattaaattttttggccatattttgcaaattttgatgacccccctccttacaaaaaatgcgaaaattgatccaaaaattaatttccctaaatccttcaaaaagtaatagggatcgttagcactggtaattagctgctcaaaacagttattcttacatctatgtgaccatttttagccaagttataacgaaaatttcgtttgtaaatatcaacatttttg'})"
      ]
     },
     "execution_count": 28,
     "metadata": {},
     "output_type": "execute_result"
    }
   ],
   "source": [
    "sync_reads_by_id[762]"
   ]
  },
  {
   "cell_type": "code",
   "execution_count": 78,
   "metadata": {},
   "outputs": [
    {
     "name": "stdout",
     "output_type": "stream",
     "text": [
      "caaaaatgttgatatttacaaacgaaattttcgttataacttggctaaaaatggtcacatagatgtaagaataactgttttgagcagctaattaccagtgctaacgatccctattactttttgaaggatttagggaaattaatttttggatcaattttcgcattttttgtaaggaggggggtcatcaaaatttgcaaaatatggccaaaaaatttaatttccatttttgaacacagtttgattggaaattttattacgagctcagtgaggtatgacattccatattcagacaattattttttatgttgtggcaaaataaatgattatttgatgaccgaaatttggaaaaacagactctg\r\n"
     ]
    }
   ],
   "source": [
    "!(cat master_unit)"
   ]
  },
  {
   "cell_type": "code",
   "execution_count": 79,
   "metadata": {},
   "outputs": [],
   "source": [
    "master_unit = \"caaaaatgttgatatttacaaacgaaattttcgttataacttggctaaaaatggtcacatagatgtaagaataactgttttgagcagctaattaccagtgctaacgatccctattactttttgaaggatttagggaaattaatttttggatcaattttcgcattttttgtaaggaggggggtcatcaaaatttgcaaaatatggccaaaaaatttaatttccatttttgaacacagtttgattggaaattttattacgagctcagtgaggtatgacattccatattcagacaattattttttatgttgtggcaaaataaatgattatttgatgaccgaaatttggaaaaacagactctg\""
   ]
  },
  {
   "cell_type": "code",
   "execution_count": null,
   "metadata": {},
   "outputs": [],
   "source": []
  }
 ],
 "metadata": {
  "kernelspec": {
   "display_name": "Python 3",
   "language": "python",
   "name": "python3"
  },
  "language_info": {
   "codemirror_mode": {
    "name": "ipython",
    "version": 3
   },
   "file_extension": ".py",
   "mimetype": "text/x-python",
   "name": "python",
   "nbconvert_exporter": "python",
   "pygments_lexer": "ipython3",
   "version": "3.7.2+"
  },
  "toc": {
   "base_numbering": 1,
   "nav_menu": {},
   "number_sections": true,
   "sideBar": true,
   "skip_h1_title": false,
   "title_cell": "Table of Contents",
   "title_sidebar": "Contents",
   "toc_cell": false,
   "toc_position": {},
   "toc_section_display": true,
   "toc_window_display": true
  }
 },
 "nbformat": 4,
 "nbformat_minor": 2
}
