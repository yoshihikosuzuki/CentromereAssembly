{
 "cells": [
  {
   "cell_type": "markdown",
   "metadata": {},
   "source": [
    "fastq ファイルから centromere reads の QV score を抽出して保存する。"
   ]
  },
  {
   "cell_type": "code",
   "execution_count": 1,
   "metadata": {},
   "outputs": [
    {
     "data": {
      "text/html": [
       "        <script type=\"text/javascript\">\n",
       "        window.PlotlyConfig = {MathJaxConfig: 'local'};\n",
       "        if (window.MathJax) {MathJax.Hub.Config({SVG: {font: \"STIX-Web\"}});}\n",
       "        if (typeof require !== 'undefined') {\n",
       "        require.undef(\"plotly\");\n",
       "        requirejs.config({\n",
       "            paths: {\n",
       "                'plotly': ['https://cdn.plot.ly/plotly-latest.min']\n",
       "            }\n",
       "        });\n",
       "        require(['plotly'], function(Plotly) {\n",
       "            window._Plotly = Plotly;\n",
       "        });\n",
       "        }\n",
       "        </script>\n",
       "        "
      ]
     },
     "metadata": {},
     "output_type": "display_data"
    }
   ],
   "source": [
    "%matplotlib inline\n",
    "%config InlineBackend.figure_format = 'retina'\n",
    "from IPython.display import display\n",
    "import plotly.offline as py\n",
    "py.init_notebook_mode(connected=True)\n",
    "import plotly.io as pio\n",
    "pio.templates.default = 'plotly_white'\n",
    "import logging\n",
    "import logzero\n",
    "logzero.loglevel(logging.INFO)"
   ]
  },
  {
   "cell_type": "code",
   "execution_count": 2,
   "metadata": {},
   "outputs": [],
   "source": [
    "dir_fname = 'work'\n",
    "import os\n",
    "os.chdir(dir_fname)"
   ]
  },
  {
   "cell_type": "code",
   "execution_count": 3,
   "metadata": {},
   "outputs": [],
   "source": [
    "from BITS.util.io import load_pickle, save_pickle"
   ]
  },
  {
   "cell_type": "code",
   "execution_count": 4,
   "metadata": {},
   "outputs": [],
   "source": [
    "centromere_reads_fname = \"centromere_reads_incl_low_cover_rate_all_sync.pkl\"\n",
    "centromere_reads = load_pickle(centromere_reads_fname)"
   ]
  },
  {
   "cell_type": "code",
   "execution_count": 5,
   "metadata": {},
   "outputs": [],
   "source": [
    "import numpy as np\n",
    "import pandas as pd\n",
    "from BITS.clustering.seq import ClusteringSeq\n",
    "from BITS.seq.align import EdlibRunner\n",
    "from BITS.seq.consed import ConsedRunner\n",
    "from BITS.util.io import save_pickle, load_pickle"
   ]
  },
  {
   "cell_type": "code",
   "execution_count": 6,
   "metadata": {},
   "outputs": [],
   "source": [
    "from BITS.seq.io import load_fastq"
   ]
  },
  {
   "cell_type": "code",
   "execution_count": 7,
   "metadata": {},
   "outputs": [],
   "source": [
    "fastq_reads = load_fastq(\"../../../data/dmel_pacbio_ccs/m64011_190605_003147.Q20.fastq.1\", only_qual=True)"
   ]
  },
  {
   "cell_type": "code",
   "execution_count": 8,
   "metadata": {},
   "outputs": [],
   "source": [
    "centromere_names = {read.name for read in centromere_reads}"
   ]
  },
  {
   "cell_type": "code",
   "execution_count": 9,
   "metadata": {},
   "outputs": [],
   "source": [
    "centromere_phreds = {}\n",
    "for read in centromere_reads:\n",
    "    pre, mid, suf = read.name.split('/')\n",
    "    centromere_phreds[read.name] = np.array(fastq_reads[f\"{pre}/{mid}/ccs\"], dtype=np.int16)"
   ]
  },
  {
   "cell_type": "code",
   "execution_count": 10,
   "metadata": {},
   "outputs": [
    {
     "data": {
      "text/plain": [
       "[('m64011_190605_003147/1362/0_13814',\n",
       "  array([76, 93, 93, ..., 93, 78, 74], dtype=int16)),\n",
       " ('m64011_190605_003147/2726/0_11859',\n",
       "  array([49, 79, 44, ..., 50, 31, 37], dtype=int16)),\n",
       " ('m64011_190605_003147/67744/0_11396',\n",
       "  array([93, 93, 93, ..., 93, 37, 10], dtype=int16)),\n",
       " ('m64011_190605_003147/132129/0_13059',\n",
       "  array([93, 93, 93, ..., 82, 85, 92], dtype=int16)),\n",
       " ('m64011_190605_003147/197132/0_12117',\n",
       "  array([93, 93, 93, ..., 93, 93, 93], dtype=int16)),\n",
       " ('m64011_190605_003147/197657/0_11453',\n",
       "  array([23, 28, 22, ..., 55, 76, 53], dtype=int16)),\n",
       " ('m64011_190605_003147/263915/0_12867',\n",
       "  array([93, 48, 93, ..., 93, 93, 93], dtype=int16)),\n",
       " ('m64011_190605_003147/264172/0_14494',\n",
       "  array([93, 93, 93, ..., 93, 93, 93], dtype=int16)),\n",
       " ('m64011_190605_003147/394357/0_12351',\n",
       "  array([ 9, 10, 20, ..., 52, 42, 61], dtype=int16)),\n",
       " ('m64011_190605_003147/394384/0_12604',\n",
       "  array([93, 47, 93, ..., 93, 93, 45], dtype=int16))]"
      ]
     },
     "execution_count": 10,
     "metadata": {},
     "output_type": "execute_result"
    }
   ],
   "source": [
    "list(centromere_phreds.items())[:10]"
   ]
  },
  {
   "cell_type": "code",
   "execution_count": 11,
   "metadata": {},
   "outputs": [],
   "source": [
    "save_pickle(centromere_phreds, \"centromere_phreds_incl_low_cover_rate_all_sync.pkl\")"
   ]
  },
  {
   "cell_type": "code",
   "execution_count": null,
   "metadata": {},
   "outputs": [],
   "source": []
  }
 ],
 "metadata": {
  "kernelspec": {
   "display_name": "Python 3",
   "language": "python",
   "name": "python3"
  },
  "language_info": {
   "codemirror_mode": {
    "name": "ipython",
    "version": 3
   },
   "file_extension": ".py",
   "mimetype": "text/x-python",
   "name": "python",
   "nbconvert_exporter": "python",
   "pygments_lexer": "ipython3",
   "version": "3.7.2+"
  },
  "toc": {
   "base_numbering": 1,
   "nav_menu": {},
   "number_sections": true,
   "sideBar": true,
   "skip_h1_title": false,
   "title_cell": "Table of Contents",
   "title_sidebar": "Contents",
   "toc_cell": false,
   "toc_position": {},
   "toc_section_display": true,
   "toc_window_display": true
  }
 },
 "nbformat": 4,
 "nbformat_minor": 2
}
