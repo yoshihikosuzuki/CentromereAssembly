{
 "cells": [
  {
   "cell_type": "markdown",
   "metadata": {},
   "source": [
    "どうやってリードをつなげるか？まずは似ているリードの部分集合に分割することを考える。それはどうやって行うか？\n",
    "\n",
    "- 元の配列の類似度を使う\n",
    "- `repr_units`の類似度を使う\n",
    "- `smc.cluster_cons`で置き換えた配列の類似度を使う\n",
    "- `count_variants()`のスペクトラムの類似度を使う(一定数の連続したユニットごとにスペクトラムを作る？)"
   ]
  },
  {
   "cell_type": "markdown",
   "metadata": {},
   "source": [
    "元の配列で一致率を厳しめに (e.g., 1%) 取ってどのくらいのリードが当たるのかは一度試してみたい。\n",
    "--> やった。`1.2. AVA centromere read overlap with daligner.ipynb`\n",
    "\n",
    "CCS ならノイズが非常に小さいので variant が信用できる。なので `repr_units` と `count_variants()` スペクトラムで十分だろう。問題は、どういう window を取るか？\n",
    "\n",
    "Split-merge クラスタリングはユニットモデル構築のためという意味合いが大きいので、single-read の時点で決め打ちは避けたい。"
   ]
  },
  {
   "cell_type": "markdown",
   "metadata": {},
   "source": [
    "1本のリードに含まれる synchronized units に対する表現を考える。"
   ]
  },
  {
   "cell_type": "code",
   "execution_count": 1,
   "metadata": {},
   "outputs": [
    {
     "data": {
      "text/html": [
       "        <script type=\"text/javascript\">\n",
       "        window.PlotlyConfig = {MathJaxConfig: 'local'};\n",
       "        if (window.MathJax) {MathJax.Hub.Config({SVG: {font: \"STIX-Web\"}});}\n",
       "        if (typeof require !== 'undefined') {\n",
       "        require.undef(\"plotly\");\n",
       "        requirejs.config({\n",
       "            paths: {\n",
       "                'plotly': ['https://cdn.plot.ly/plotly-latest.min']\n",
       "            }\n",
       "        });\n",
       "        require(['plotly'], function(Plotly) {\n",
       "            window._Plotly = Plotly;\n",
       "        });\n",
       "        }\n",
       "        </script>\n",
       "        "
      ]
     },
     "metadata": {},
     "output_type": "display_data"
    }
   ],
   "source": [
    "%matplotlib inline\n",
    "%config InlineBackend.figure_format = 'retina'\n",
    "from IPython.display import display\n",
    "import plotly.offline as py\n",
    "py.init_notebook_mode(connected=True)\n",
    "import plotly.io as pio\n",
    "pio.templates.default = 'plotly_white'\n",
    "import logging\n",
    "import logzero\n",
    "logzero.loglevel(logging.INFO)"
   ]
  },
  {
   "cell_type": "code",
   "execution_count": 2,
   "metadata": {},
   "outputs": [],
   "source": [
    "dir_fname = 'work'\n",
    "import os\n",
    "os.chdir(dir_fname)"
   ]
  },
  {
   "cell_type": "code",
   "execution_count": 3,
   "metadata": {},
   "outputs": [],
   "source": [
    "from BITS.util.io import load_pickle, save_pickle\n",
    "import numpy as np\n",
    "import pandas as pd\n",
    "from BITS.plot.plotly import make_hist, make_scatter, make_layout, show_plot\n",
    "from BITS.clustering.seq import ClusteringSeq\n",
    "import consed\n",
    "from BITS.seq.align import EdlibRunner\n",
    "from collections import Counter, defaultdict\n",
    "from logzero import logger\n",
    "from dataclasses import dataclass\n",
    "from typing import List\n",
    "import random"
   ]
  },
  {
   "cell_type": "code",
   "execution_count": 4,
   "metadata": {},
   "outputs": [],
   "source": [
    "sync_reads = load_pickle(\"centromere_reads_sync.pkl\")"
   ]
  },
  {
   "cell_type": "code",
   "execution_count": 5,
   "metadata": {},
   "outputs": [],
   "source": [
    "db_prefix = \"DMEL_CSS\"\n",
    "db_fname = f\"{db_prefix}.db\"\n",
    "las_fname = f\"TAN.{db_prefix}.las\"\n",
    "from vca import ReadViewer\n",
    "v = ReadViewer(db_fname, las_fname)"
   ]
  },
  {
   "cell_type": "code",
   "execution_count": 6,
   "metadata": {},
   "outputs": [],
   "source": [
    "read = sync_reads[0]"
   ]
  },
  {
   "cell_type": "code",
   "execution_count": 8,
   "metadata": {},
   "outputs": [
    {
     "name": "stderr",
     "output_type": "stream",
     "text": [
      "[I 190917 11:10:39 log:17] Starting distance matrix calculation \n",
      "[I 190917 11:10:39 log:19] Finished distance matrix calculation\n"
     ]
    },
    {
     "data": {
      "application/vnd.plotly.v1+json": {
       "config": {
        "linkText": "Export to plot.ly",
        "plotlyServerURL": "https://plot.ly",
        "showLink": false
       },
       "data": [
        {
         "marker": {
          "size": 5
         },
         "mode": "markers",
         "name": "start",
         "showlegend": true,
         "type": "scatter",
         "x": [
          358,
          2740,
          716,
          4867,
          1074,
          3437,
          2360,
          1441,
          2360,
          4511,
          2359,
          5612,
          2512,
          5230,
          2879,
          3231,
          5949,
          3639,
          3949,
          5612,
          4305,
          6102,
          7179,
          7538,
          7897,
          9332
         ],
         "y": [
          0,
          2382,
          0,
          4150,
          0,
          2360,
          1280,
          8,
          564,
          2360,
          205,
          3101,
          0,
          2360,
          8,
          0,
          2360,
          49,
          0,
          1662,
          0,
          0,
          0,
          0,
          0,
          0
         ]
        },
        {
         "marker": {
          "size": 5
         },
         "mode": "markers",
         "name": "end",
         "showlegend": true,
         "type": "scatter",
         "x": [
          2244,
          12655,
          4693,
          13054,
          2244,
          13059,
          3323,
          12655,
          13054,
          13054,
          4397,
          12655,
          5475,
          13013,
          5116,
          13038,
          13054,
          5835,
          5475,
          13054,
          13013,
          13047,
          13054,
          13026,
          13054,
          13054
         ],
         "y": [
          1884,
          12297,
          3978,
          12338,
          1166,
          11984,
          2244,
          11221,
          11262,
          10903,
          2244,
          10143,
          2963,
          10143,
          2244,
          9808,
          9465,
          2244,
          1525,
          9106,
          8706,
          6946,
          5876,
          5488,
          5157,
          3723
         ]
        },
        {
         "hoverinfo": "text",
         "marker": {
          "size": 5
         },
         "mode": "text",
         "name": "TR interval",
         "showlegend": true,
         "text": [
          "1"
         ],
         "textfont": {
          "color": "grey",
          "size": 10
         },
         "textposition": "top right",
         "type": "scatter",
         "x": [
          0
         ],
         "y": [
          0
         ]
        },
        {
         "hoverinfo": "text",
         "marker": {
          "color": [
           "#bbe4b5",
           "#6fc7bd",
           "#c9eab4",
           "#1d90c0",
           "#61c2bf",
           "#2498c1",
           "#bbe4b5",
           "#2ca1c2",
           "#abdeb7",
           "#61c2bf",
           "#34a9c3",
           "#abdeb7",
           "#48b9c3",
           "#abdeb7",
           "#2da2c2",
           "#c9eab4",
           "#61c2bf",
           "#46b8c3",
           "#7cccbb",
           "#d1edb3",
           "#9cd8b8",
           "#7cccbb",
           "#6fc7bd",
           "#bbe4b5",
           "#9cd8b8",
           "#53bdc1",
           "#48b9c3",
           "#8cd2ba",
           "#9cd8b8",
           "#46b8c3",
           "#bbe4b5",
           "#2498c1",
           "#2ca1c2",
           "#61c2bf",
           "#1e86bb",
           "#3cb1c3",
           "#abdeb7",
           "#1f7bb6",
           "#7cccbb",
           "#2070b0",
           "#9cd8b8",
           "#1f7bb6",
           "#fcfed1",
           "#34a9c3",
           "#9cd8b8",
           "#fcfed1",
           "#2498c1",
           "#fcfed1",
           "#1d90c0",
           "#f4fbc0",
           "#46b8c3",
           "#61c2bf",
           "#2498c1",
           "#61c2bf",
           "#f8fcc9",
           "#61c2bf",
           "#2498c1",
           "#46b8c3",
           "#f8fcc9",
           "#daf0b3",
           "#2498c1",
           "#53bdc1",
           "#f8fcc9",
           "#2498c1",
           "#9cd8b8",
           "#7cccbb",
           "#1d90c0",
           "#34a9c3",
           "#61c2bf",
           "#61c2bf",
           "#259ac1",
           "#2da2c2",
           "#2166ac",
           "#53bdc1",
           "#2073b2",
           "#34a9c3",
           "#f4fbc0",
           "#2351a2",
           "#34a9c3",
           "#eaf7b1",
           "#34a9c3",
           "#d1edb3",
           "#2498c1",
           "#f8fcc9",
           "#6fc7bd",
           "#eaf7b1",
           "#6fc7bd",
           "#2da2c2",
           "#53bdc1",
           "#eaf7b1",
           "#53bdc1",
           "#2da2c2",
           "#7cccbb",
           "#f0f9b7",
           "#259ac1",
           "#2da2c2",
           "#f0f9b7",
           "#53bdc1",
           "#3db2c4",
           "#daf0b3",
           "#2165ab",
           "#2165ab",
           "#1e86bb",
           "#c9eab4",
           "#2352a3",
           "#fcfed1",
           "#225ca7",
           "#bbe4b5",
           "#53bdc1",
           "#1d91c0",
           "#bbe4b5",
           "#3db2c4",
           "#bbe4b5",
           "#35aac3",
           "#d1edb3",
           "#6fc7bd",
           "#c9eab4",
           "#6fc7bd",
           "#abdeb7",
           "#abdeb7",
           "#daf0b3",
           "#61c2bf",
           "#8cd2ba",
           "#abdeb7",
           "#61c2bf",
           "#3db2c4",
           "#48b9c3",
           "#abdeb7",
           "#3cb1c3",
           "#fcfed1",
           "#1f7bb6",
           "#34a9c3",
           "#1d91c0",
           "#2165ab",
           "#2166ac",
           "#1f93c0",
           "#1f7bb6",
           "#f0f9b7",
           "#2070b0",
           "#1d91c0",
           "#2351a2",
           "#2070b0",
           "#1d91c0",
           "#2070b0",
           "#1e86bb",
           "#225aa6",
           "#1d91c0",
           "#2166ac",
           "#1d91c0",
           "#2165ab",
           "#2166ac",
           "#1d91c0",
           "#1d91c0",
           "#2351a2",
           "#2166ac",
           "#2072b1",
           "#1f7db6",
           "#61c2bf",
           "#2166ac",
           "#1f7db6",
           "#1f7bb6",
           "#2352a3",
           "#2072b1",
           "#8cd2ba",
           "#081d58",
           "#24419a",
           "#bbe4b5",
           "#234b9f",
           "#8cd2ba",
           "#259ac1",
           "#2072b1",
           "#8cd2ba",
           "#1e86bb",
           "#8cd2ba",
           "#1f7db6",
           "#6fc7bd",
           "#35aac3",
           "#7cccbb",
           "#1e86bb",
           "#36abc3",
           "#8cd2ba",
           "#7cccbb",
           "#1e86bb",
           "#269bc1",
           "#8cd2ba",
           "#3db2c4",
           "#259ac1",
           "#259ac1",
           "#7ecdbb",
           "#1e86bb",
           "#bbe4b5",
           "#2166ac",
           "#1f7bb6",
           "#2072b1",
           "#234b9f",
           "#234b9f",
           "#3db2c4",
           "#2166ac",
           "#225ca7",
           "#2072b1",
           "#2166ac",
           "#269bc1",
           "#2166ac",
           "#3db2c4",
           "#2352a3",
           "#225ca7",
           "#1e88bc",
           "#234b9f",
           "#225ca7",
           "#225ca7",
           "#1b2c80",
           "#234b9f",
           "#23499e",
           "#225ca7",
           "#2166ac",
           "#2352a3",
           "#8cd2ba",
           "#225ca7",
           "#234b9f",
           "#234b9f",
           "#225aa6",
           "#24419a",
           "#61c2bf",
           "#35aac3",
           "#2352a3",
           "#abdeb7",
           "#46b8c3",
           "#1e86bb",
           "#abdeb7",
           "#35aac3",
           "#abdeb7",
           "#2da2c2",
           "#c9eab4",
           "#61c2bf",
           "#bbe4b5",
           "#61c2bf",
           "#9cd8b8",
           "#9cd8b8",
           "#d1edb3",
           "#53bdc1",
           "#7cccbb",
           "#9cd8b8",
           "#53bdc1",
           "#35aac3",
           "#3db2c4",
           "#9cd8b8",
           "#34a9c3",
           "#f8fcc9",
           "#2070b0",
           "#2ca1c2",
           "#1e86bb",
           "#225aa6",
           "#2072b1",
           "#2168ad",
           "#2352a3",
           "#2072b1",
           "#2168ad",
           "#2072b1",
           "#225da8",
           "#225ca7",
           "#2168ad",
           "#24439b",
           "#2168ad",
           "#2165ab",
           "#2166ac",
           "#2166ac",
           "#2168ad",
           "#2351a2",
           "#2166ac",
           "#2073b2",
           "#225da8",
           "#9cd8b8",
           "#2166ac",
           "#2355a4",
           "#2352a3",
           "#2166ac",
           "#234b9f",
           "#abdeb7",
           "#081d58",
           "#2ca1c2",
           "#8cd2ba",
           "#ffffd9",
           "#1d91c0",
           "#ffffd9",
           "#1e86bb",
           "#f8fcc9",
           "#3cb1c3",
           "#6fc7bd",
           "#1d90c0",
           "#53bdc1",
           "#fcfed1",
           "#6fc7bd",
           "#1d90c0",
           "#3cb1c3",
           "#fcfed1",
           "#e2f4b2",
           "#1d91c0",
           "#48b9c3",
           "#fcfed1",
           "#1d90c0",
           "#abdeb7",
           "#6fc7bd",
           "#1e86bb",
           "#2da2c2",
           "#55bec1",
           "#24489d",
           "#2ca1c2",
           "#e2f4b2",
           "#2ca1c2",
           "#c9eab4",
           "#1d90c0",
           "#f0f9b7",
           "#61c2bf",
           "#e2f4b2",
           "#61c2bf",
           "#259ac1",
           "#46b8c3",
           "#e2f4b2",
           "#46b8c3",
           "#259ac1",
           "#6fc7bd",
           "#e2f4b2",
           "#1d91c0",
           "#259ac1",
           "#e2f4b2",
           "#46b8c3",
           "#35aac3",
           "#c9eab4",
           "#2165ab",
           "#225aa6",
           "#8cd2ba",
           "#253795",
           "#8cd2ba",
           "#2352a3",
           "#6fc7bd",
           "#225aa6",
           "#2070b0",
           "#24489d",
           "#2070b0",
           "#7cccbb",
           "#225aa6",
           "#24489d",
           "#225aa6",
           "#7cccbb",
           "#3cb1c3",
           "#253795",
           "#2da2c2",
           "#7cccbb",
           "#24409a",
           "#1e86bb",
           "#61c2bf",
           "#21308b",
           "#1e86bb",
           "#61c2bf",
           "#1d91c0",
           "#ffffd9",
           "#1e86bb",
           "#f8fcc9",
           "#3cb1c3",
           "#6fc7bd",
           "#1d90c0",
           "#53bdc1",
           "#fcfed1",
           "#6fc7bd",
           "#1d90c0",
           "#3cb1c3",
           "#fcfed1",
           "#e2f4b2",
           "#1d91c0",
           "#48b9c3",
           "#fcfed1",
           "#1d90c0",
           "#abdeb7",
           "#6fc7bd",
           "#1e86bb",
           "#2da2c2",
           "#55bec1",
           "#1d91c0",
           "#f4fbc0",
           "#1f7bb6",
           "#e2f4b2",
           "#48b9c3",
           "#d1edb3",
           "#48b9c3",
           "#1e86bb",
           "#35aac3",
           "#d1edb3",
           "#35aac3",
           "#1e86bb",
           "#55bec1",
           "#d1edb3",
           "#1f7db6",
           "#1e86bb",
           "#d1edb3",
           "#35aac3",
           "#259ac1",
           "#abdeb7",
           "#225aa6",
           "#259ac1",
           "#1e86bb",
           "#f8fcc9",
           "#3cb1c3",
           "#6fc7bd",
           "#1d90c0",
           "#53bdc1",
           "#fcfed1",
           "#6fc7bd",
           "#1d90c0",
           "#3cb1c3",
           "#fcfed1",
           "#e2f4b2",
           "#1d91c0",
           "#48b9c3",
           "#fcfed1",
           "#1d90c0",
           "#abdeb7",
           "#6fc7bd",
           "#1e86bb",
           "#2da2c2",
           "#55bec1",
           "#2070b0",
           "#c9eab4",
           "#55bec1",
           "#abdeb7",
           "#3db2c4",
           "#1f7db6",
           "#2da2c2",
           "#abdeb7",
           "#2da2c2",
           "#1f7db6",
           "#48b9c3",
           "#abdeb7",
           "#2072b1",
           "#1f7db6",
           "#abdeb7",
           "#2da2c2",
           "#2da2c2",
           "#9cd8b8",
           "#2351a2",
           "#3db2c4",
           "#2ca1c2",
           "#53bdc1",
           "#2ca1c2",
           "#6fc7bd",
           "#f4fbc0",
           "#8cd2ba",
           "#2498c1",
           "#53bdc1",
           "#f4fbc0",
           "#d1edb3",
           "#1f7bb6",
           "#35aac3",
           "#f4fbc0",
           "#1f7bb6",
           "#c9eab4",
           "#55bec1",
           "#2070b0",
           "#1d91c0",
           "#3db2c4",
           "#7cccbb",
           "#e2f4b2",
           "#61c2bf",
           "#35aac3",
           "#61c2bf",
           "#e2f4b2",
           "#46b8c3",
           "#35aac3",
           "#8cd2ba",
           "#f0f9b7",
           "#1d91c0",
           "#35aac3",
           "#f0f9b7",
           "#61c2bf",
           "#48b9c3",
           "#daf0b3",
           "#225aa6",
           "#2070b0",
           "#61c2bf",
           "#35aac3",
           "#61c2bf",
           "#61c2bf",
           "#61c2bf",
           "#259ac1",
           "#61c2bf",
           "#6fc7bd",
           "#48b9c3",
           "#1d91c0",
           "#61c2bf",
           "#46b8c3",
           "#bbe4b5",
           "#35aac3",
           "#3cb1c3",
           "#225ca7",
           "#259ac1",
           "#7cccbb",
           "#1e86bb",
           "#61c2bf",
           "#fcfed1",
           "#61c2bf",
           "#1e86bb",
           "#53bdc1",
           "#d1edb3",
           "#1f7bb6",
           "#1e86bb",
           "#d1edb3",
           "#61c2bf",
           "#35aac3",
           "#abdeb7",
           "#24489d",
           "#24489d",
           "#48b9c3",
           "#7cccbb",
           "#6fc7bd",
           "#f8fcc9",
           "#48b9c3",
           "#1d90c0",
           "#48b9c3",
           "#53bdc1",
           "#48b9c3",
           "#46b8c3",
           "#9cd8b8",
           "#225aa6",
           "#53bdc1",
           "#2ca1c2",
           "#24489d",
           "#61c2bf",
           "#1e86bb",
           "#35aac3",
           "#ffffd9",
           "#daf0b3",
           "#1e86bb",
           "#3db2c4",
           "#f8fcc9",
           "#1e86bb",
           "#9cd8b8",
           "#61c2bf",
           "#1f7bb6",
           "#259ac1",
           "#48b9c3",
           "#53bdc1",
           "#61c2bf",
           "#61c2bf",
           "#6fc7bd",
           "#35aac3",
           "#1f7db6",
           "#61c2bf",
           "#34a9c3",
           "#d1edb3",
           "#1e86bb",
           "#2ca1c2",
           "#225ca7",
           "#253595",
           "#53bdc1",
           "#1e86bb",
           "#53bdc1",
           "#d1edb3",
           "#1f7bb6",
           "#1e86bb",
           "#d1edb3",
           "#53bdc1",
           "#35aac3",
           "#abdeb7",
           "#24489d",
           "#24489d",
           "#35aac3",
           "#1f7bb6",
           "#35aac3",
           "#3cb1c3",
           "#35aac3",
           "#34a9c3",
           "#7cccbb",
           "#24489d",
           "#3cb1c3",
           "#1d90c0",
           "#253595",
           "#daf0b3",
           "#1e86bb",
           "#3db2c4",
           "#f8fcc9",
           "#1e86bb",
           "#9cd8b8",
           "#61c2bf",
           "#1f7bb6",
           "#259ac1",
           "#48b9c3",
           "#55bec1",
           "#1e86bb",
           "#daf0b3",
           "#53bdc1",
           "#53bdc1",
           "#c9eab4",
           "#46b8c3",
           "#2165ab",
           "#55bec1",
           "#1e86bb",
           "#1e86bb",
           "#e2f4b2",
           "#35aac3",
           "#2da2c2",
           "#c9eab4",
           "#23499e",
           "#2352a3",
           "#3db2c4",
           "#1f7db6",
           "#3db2c4",
           "#2165ab",
           "#2070b0",
           "#c9eab4",
           "#243f99",
           "#1e86bb",
           "#9cd8b8",
           "#63c3bf",
           "#1f7bb6",
           "#259ac1",
           "#48b9c3",
           "#34a9c3",
           "#2da2c2",
           "#c9eab4",
           "#23499e",
           "#2351a2",
           "#2070b0",
           "#2ca1c2",
           "#1e86bb",
           "#225aa6",
           "#1d91c0",
           "#253795",
           "#7cccbb",
           "#24489d",
           "#243f99",
           "#253595"
          ],
          "size": 3
         },
         "mode": "markers",
         "showlegend": false,
         "text": [
          "unit 0 vs 1 (2.79% diff)",
          "unit 0 vs 2 (4.17% diff)",
          "unit 0 vs 3 (2.5% diff)",
          "unit 0 vs 4 (6.39% diff)",
          "unit 0 vs 5 (4.43% diff)",
          "unit 0 vs 6 (6.11% diff)",
          "unit 0 vs 7 (2.78% diff)",
          "unit 0 vs 8 (5.83% diff)",
          "unit 0 vs 9 (3.06% diff)",
          "unit 0 vs 10 (4.44% diff)",
          "unit 0 vs 11 (5.56% diff)",
          "unit 0 vs 12 (3.06% diff)",
          "unit 0 vs 13 (4.99% diff)",
          "unit 0 vs 14 (3.06% diff)",
          "unit 0 vs 15 (5.82% diff)",
          "unit 0 vs 16 (2.51% diff)",
          "unit 0 vs 17 (4.44% diff)",
          "unit 0 vs 18 (5.0% diff)",
          "unit 0 vs 19 (3.89% diff)",
          "unit 0 vs 20 (2.23% diff)",
          "unit 0 vs 21 (3.33% diff)",
          "unit 0 vs 22 (3.89% diff)",
          "unit 0 vs 23 (4.17% diff)",
          "unit 0 vs 24 (2.79% diff)",
          "unit 0 vs 25 (3.33% diff)",
          "unit 0 vs 26 (4.74% diff)",
          "unit 0 vs 27 (4.99% diff)",
          "unit 0 vs 28 (3.62% diff)",
          "unit 0 vs 29 (3.33% diff)",
          "unit 0 vs 30 (5.0% diff)",
          "unit 0 vs 31 (2.78% diff)",
          "unit 0 vs 32 (6.11% diff)",
          "unit 0 vs 33 (5.83% diff)",
          "unit 0 vs 34 (4.46% diff)",
          "unit 0 vs 35 (6.67% diff)",
          "unit 1 vs 2 (5.29% diff)",
          "unit 1 vs 3 (3.06% diff)",
          "unit 1 vs 4 (6.94% diff)",
          "unit 1 vs 5 (3.88% diff)",
          "unit 1 vs 6 (7.2% diff)",
          "unit 1 vs 7 (3.34% diff)",
          "unit 1 vs 8 (6.93% diff)",
          "unit 1 vs 9 (0.28% diff)",
          "unit 1 vs 10 (5.57% diff)",
          "unit 1 vs 11 (3.34% diff)",
          "unit 1 vs 12 (0.28% diff)",
          "unit 1 vs 13 (6.11% diff)",
          "unit 1 vs 14 (0.28% diff)",
          "unit 1 vs 15 (6.39% diff)",
          "unit 1 vs 16 (0.84% diff)",
          "unit 1 vs 17 (5.01% diff)",
          "unit 1 vs 18 (4.46% diff)",
          "unit 1 vs 19 (6.13% diff)",
          "unit 1 vs 20 (4.46% diff)",
          "unit 1 vs 21 (0.56% diff)",
          "unit 1 vs 22 (4.46% diff)",
          "unit 1 vs 23 (6.13% diff)",
          "unit 1 vs 24 (5.01% diff)",
          "unit 1 vs 25 (0.56% diff)",
          "unit 1 vs 26 (1.95% diff)",
          "unit 1 vs 27 (6.11% diff)",
          "unit 1 vs 28 (4.72% diff)",
          "unit 1 vs 29 (0.56% diff)",
          "unit 1 vs 30 (6.13% diff)",
          "unit 1 vs 31 (3.34% diff)",
          "unit 1 vs 32 (3.89% diff)",
          "unit 1 vs 33 (6.41% diff)",
          "unit 1 vs 34 (5.56% diff)",
          "unit 1 vs 35 (4.44% diff)",
          "unit 2 vs 3 (4.44% diff)",
          "unit 2 vs 4 (6.08% diff)",
          "unit 2 vs 5 (5.82% diff)",
          "unit 2 vs 6 (7.44% diff)",
          "unit 2 vs 7 (4.72% diff)",
          "unit 2 vs 8 (7.14% diff)",
          "unit 2 vs 9 (5.56% diff)",
          "unit 2 vs 10 (0.84% diff)",
          "unit 2 vs 11 (8.03% diff)",
          "unit 2 vs 12 (5.56% diff)",
          "unit 2 vs 13 (1.39% diff)",
          "unit 2 vs 14 (5.56% diff)",
          "unit 2 vs 15 (2.22% diff)",
          "unit 2 vs 16 (6.11% diff)",
          "unit 2 vs 17 (0.56% diff)",
          "unit 2 vs 18 (4.17% diff)",
          "unit 2 vs 19 (1.39% diff)",
          "unit 2 vs 20 (4.17% diff)",
          "unit 2 vs 21 (5.82% diff)",
          "unit 2 vs 22 (4.72% diff)",
          "unit 2 vs 23 (1.39% diff)",
          "unit 2 vs 24 (4.72% diff)",
          "unit 2 vs 25 (5.82% diff)",
          "unit 2 vs 26 (3.89% diff)",
          "unit 2 vs 27 (1.11% diff)",
          "unit 2 vs 28 (6.09% diff)",
          "unit 2 vs 29 (5.82% diff)",
          "unit 2 vs 30 (1.11% diff)",
          "unit 2 vs 31 (4.72% diff)",
          "unit 2 vs 32 (5.26% diff)",
          "unit 2 vs 33 (1.95% diff)",
          "unit 2 vs 34 (7.48% diff)",
          "unit 2 vs 35 (7.48% diff)",
          "unit 3 vs 4 (6.65% diff)",
          "unit 3 vs 5 (2.5% diff)",
          "unit 3 vs 6 (7.99% diff)",
          "unit 3 vs 7 (0.28% diff)",
          "unit 3 vs 8 (7.71% diff)",
          "unit 3 vs 9 (2.79% diff)",
          "unit 3 vs 10 (4.72% diff)",
          "unit 3 vs 11 (6.37% diff)",
          "unit 3 vs 12 (2.79% diff)",
          "unit 3 vs 13 (5.26% diff)",
          "unit 3 vs 14 (2.79% diff)",
          "unit 3 vs 15 (5.54% diff)",
          "unit 3 vs 16 (2.23% diff)",
          "unit 3 vs 17 (4.17% diff)",
          "unit 3 vs 18 (2.51% diff)",
          "unit 3 vs 19 (4.17% diff)",
          "unit 3 vs 20 (3.05% diff)",
          "unit 3 vs 21 (3.06% diff)",
          "unit 3 vs 22 (1.95% diff)",
          "unit 3 vs 23 (4.44% diff)",
          "unit 3 vs 24 (3.6% diff)",
          "unit 3 vs 25 (3.06% diff)",
          "unit 3 vs 26 (4.46% diff)",
          "unit 3 vs 27 (5.26% diff)",
          "unit 3 vs 28 (4.97% diff)",
          "unit 3 vs 29 (3.06% diff)",
          "unit 3 vs 30 (5.28% diff)",
          "unit 3 vs 31 (0.28% diff)",
          "unit 3 vs 32 (6.93% diff)",
          "unit 3 vs 33 (5.56% diff)",
          "unit 3 vs 34 (6.35% diff)",
          "unit 3 vs 35 (7.48% diff)",
          "unit 4 vs 5 (7.46% diff)",
          "unit 4 vs 6 (6.34% diff)",
          "unit 4 vs 7 (6.93% diff)",
          "unit 4 vs 8 (1.11% diff)",
          "unit 4 vs 9 (7.2% diff)",
          "unit 4 vs 10 (6.35% diff)",
          "unit 4 vs 11 (8.03% diff)",
          "unit 4 vs 12 (7.2% diff)",
          "unit 4 vs 13 (6.35% diff)",
          "unit 4 vs 14 (7.2% diff)",
          "unit 4 vs 15 (6.63% diff)",
          "unit 4 vs 16 (7.76% diff)",
          "unit 4 vs 17 (6.35% diff)",
          "unit 4 vs 18 (7.44% diff)",
          "unit 4 vs 19 (6.35% diff)",
          "unit 4 vs 20 (7.48% diff)",
          "unit 4 vs 21 (7.46% diff)",
          "unit 4 vs 22 (6.37% diff)",
          "unit 4 vs 23 (6.35% diff)",
          "unit 4 vs 24 (8.03% diff)",
          "unit 4 vs 25 (7.46% diff)",
          "unit 4 vs 26 (7.16% diff)",
          "unit 4 vs 27 (6.89% diff)",
          "unit 4 vs 28 (4.43% diff)",
          "unit 4 vs 29 (7.46% diff)",
          "unit 4 vs 30 (6.89% diff)",
          "unit 4 vs 31 (6.93% diff)",
          "unit 4 vs 32 (7.99% diff)",
          "unit 4 vs 33 (7.18% diff)",
          "unit 4 vs 34 (3.61% diff)",
          "unit 4 vs 35 (10.22% diff)",
          "unit 5 vs 6 (8.54% diff)",
          "unit 5 vs 7 (2.78% diff)",
          "unit 5 vs 8 (8.26% diff)",
          "unit 5 vs 9 (3.6% diff)",
          "unit 5 vs 10 (6.09% diff)",
          "unit 5 vs 11 (7.16% diff)",
          "unit 5 vs 12 (3.6% diff)",
          "unit 5 vs 13 (6.63% diff)",
          "unit 5 vs 14 (3.6% diff)",
          "unit 5 vs 15 (6.91% diff)",
          "unit 5 vs 16 (4.16% diff)",
          "unit 5 vs 17 (5.54% diff)",
          "unit 5 vs 18 (3.89% diff)",
          "unit 5 vs 19 (6.65% diff)",
          "unit 5 vs 20 (5.51% diff)",
          "unit 5 vs 21 (3.6% diff)",
          "unit 5 vs 22 (3.88% diff)",
          "unit 5 vs 23 (6.65% diff)",
          "unit 5 vs 24 (6.06% diff)",
          "unit 5 vs 25 (3.6% diff)",
          "unit 5 vs 26 (5.26% diff)",
          "unit 5 vs 27 (6.09% diff)",
          "unit 5 vs 28 (6.08% diff)",
          "unit 5 vs 29 (3.87% diff)",
          "unit 5 vs 30 (6.65% diff)",
          "unit 5 vs 31 (2.78% diff)",
          "unit 5 vs 32 (7.46% diff)",
          "unit 5 vs 33 (6.93% diff)",
          "unit 5 vs 34 (7.16% diff)",
          "unit 5 vs 35 (8.26% diff)",
          "unit 6 vs 7 (8.26% diff)",
          "unit 6 vs 8 (5.25% diff)",
          "unit 6 vs 9 (7.46% diff)",
          "unit 6 vs 10 (7.71% diff)",
          "unit 6 vs 11 (7.18% diff)",
          "unit 6 vs 12 (7.46% diff)",
          "unit 6 vs 13 (6.06% diff)",
          "unit 6 vs 14 (7.46% diff)",
          "unit 6 vs 15 (5.23% diff)",
          "unit 6 vs 16 (8.01% diff)",
          "unit 6 vs 17 (7.71% diff)",
          "unit 6 vs 18 (6.61% diff)",
          "unit 6 vs 19 (8.26% diff)",
          "unit 6 vs 20 (7.73% diff)",
          "unit 6 vs 21 (7.71% diff)",
          "unit 6 vs 22 (9.37% diff)",
          "unit 6 vs 23 (8.26% diff)",
          "unit 6 vs 24 (8.29% diff)",
          "unit 6 vs 25 (7.71% diff)",
          "unit 6 vs 26 (7.46% diff)",
          "unit 6 vs 27 (7.99% diff)",
          "unit 6 vs 28 (3.61% diff)",
          "unit 6 vs 29 (7.71% diff)",
          "unit 6 vs 30 (8.24% diff)",
          "unit 6 vs 31 (8.26% diff)",
          "unit 6 vs 32 (7.76% diff)",
          "unit 6 vs 33 (8.54% diff)",
          "unit 6 vs 34 (4.44% diff)",
          "unit 6 vs 35 (5.54% diff)",
          "unit 7 vs 8 (7.99% diff)",
          "unit 7 vs 9 (3.06% diff)",
          "unit 7 vs 10 (5.0% diff)",
          "unit 7 vs 11 (6.65% diff)",
          "unit 7 vs 12 (3.06% diff)",
          "unit 7 vs 13 (5.54% diff)",
          "unit 7 vs 14 (3.06% diff)",
          "unit 7 vs 15 (5.82% diff)",
          "unit 7 vs 16 (2.51% diff)",
          "unit 7 vs 17 (4.44% diff)",
          "unit 7 vs 18 (2.79% diff)",
          "unit 7 vs 19 (4.44% diff)",
          "unit 7 vs 20 (3.32% diff)",
          "unit 7 vs 21 (3.33% diff)",
          "unit 7 vs 22 (2.23% diff)",
          "unit 7 vs 23 (4.72% diff)",
          "unit 7 vs 24 (3.88% diff)",
          "unit 7 vs 25 (3.33% diff)",
          "unit 7 vs 26 (4.74% diff)",
          "unit 7 vs 27 (5.54% diff)",
          "unit 7 vs 28 (5.25% diff)",
          "unit 7 vs 29 (3.33% diff)",
          "unit 7 vs 30 (5.56% diff)",
          "unit 7 vs 31 (0.56% diff)",
          "unit 7 vs 32 (7.2% diff)",
          "unit 7 vs 33 (5.83% diff)",
          "unit 7 vs 34 (6.63% diff)",
          "unit 7 vs 35 (7.76% diff)",
          "unit 8 vs 9 (7.18% diff)",
          "unit 8 vs 10 (7.42% diff)",
          "unit 8 vs 11 (8.01% diff)",
          "unit 8 vs 12 (7.18% diff)",
          "unit 8 vs 13 (7.42% diff)",
          "unit 8 vs 14 (7.18% diff)",
          "unit 8 vs 15 (7.69% diff)",
          "unit 8 vs 16 (7.73% diff)",
          "unit 8 vs 17 (7.42% diff)",
          "unit 8 vs 18 (8.49% diff)",
          "unit 8 vs 19 (7.42% diff)",
          "unit 8 vs 20 (7.48% diff)",
          "unit 8 vs 21 (7.44% diff)",
          "unit 8 vs 22 (7.44% diff)",
          "unit 8 vs 23 (7.42% diff)",
          "unit 8 vs 24 (8.03% diff)",
          "unit 8 vs 25 (7.44% diff)",
          "unit 8 vs 26 (7.14% diff)",
          "unit 8 vs 27 (7.69% diff)",
          "unit 8 vs 28 (3.33% diff)",
          "unit 8 vs 29 (7.44% diff)",
          "unit 8 vs 30 (7.95% diff)",
          "unit 8 vs 31 (7.99% diff)",
          "unit 8 vs 32 (7.44% diff)",
          "unit 8 vs 33 (8.24% diff)",
          "unit 8 vs 34 (3.06% diff)",
          "unit 8 vs 35 (10.19% diff)",
          "unit 9 vs 10 (5.83% diff)",
          "unit 9 vs 11 (3.61% diff)",
          "unit 9 vs 12 (0.0% diff)",
          "unit 9 vs 13 (6.37% diff)",
          "unit 9 vs 14 (0.0% diff)",
          "unit 9 vs 15 (6.65% diff)",
          "unit 9 vs 16 (0.56% diff)",
          "unit 9 vs 17 (5.28% diff)",
          "unit 9 vs 18 (4.18% diff)",
          "unit 9 vs 19 (6.39% diff)",
          "unit 9 vs 20 (4.72% diff)",
          "unit 9 vs 21 (0.28% diff)",
          "unit 9 vs 22 (4.18% diff)",
          "unit 9 vs 23 (6.39% diff)",
          "unit 9 vs 24 (5.28% diff)",
          "unit 9 vs 25 (0.28% diff)",
          "unit 9 vs 26 (1.67% diff)",
          "unit 9 vs 27 (6.37% diff)",
          "unit 9 vs 28 (4.99% diff)",
          "unit 9 vs 29 (0.28% diff)",
          "unit 9 vs 30 (6.39% diff)",
          "unit 9 vs 31 (3.06% diff)",
          "unit 9 vs 32 (4.16% diff)",
          "unit 9 vs 33 (6.67% diff)",
          "unit 9 vs 34 (5.82% diff)",
          "unit 9 vs 35 (4.71% diff)",
          "unit 10 vs 11 (8.31% diff)",
          "unit 10 vs 12 (5.83% diff)",
          "unit 10 vs 13 (1.67% diff)",
          "unit 10 vs 14 (5.83% diff)",
          "unit 10 vs 15 (2.5% diff)",
          "unit 10 vs 16 (6.39% diff)",
          "unit 10 vs 17 (1.11% diff)",
          "unit 10 vs 18 (4.44% diff)",
          "unit 10 vs 19 (1.67% diff)",
          "unit 10 vs 20 (4.44% diff)",
          "unit 10 vs 21 (6.09% diff)",
          "unit 10 vs 22 (5.0% diff)",
          "unit 10 vs 23 (1.67% diff)",
          "unit 10 vs 24 (5.0% diff)",
          "unit 10 vs 25 (6.09% diff)",
          "unit 10 vs 26 (4.17% diff)",
          "unit 10 vs 27 (1.67% diff)",
          "unit 10 vs 28 (6.37% diff)",
          "unit 10 vs 29 (6.09% diff)",
          "unit 10 vs 30 (1.67% diff)",
          "unit 10 vs 31 (5.0% diff)",
          "unit 10 vs 32 (5.54% diff)",
          "unit 10 vs 33 (2.51% diff)",
          "unit 10 vs 34 (7.48% diff)",
          "unit 10 vs 35 (7.76% diff)",
          "unit 11 vs 12 (3.61% diff)",
          "unit 11 vs 13 (8.84% diff)",
          "unit 11 vs 14 (3.61% diff)",
          "unit 11 vs 15 (8.01% diff)",
          "unit 11 vs 16 (4.17% diff)",
          "unit 11 vs 17 (7.76% diff)",
          "unit 11 vs 18 (7.2% diff)",
          "unit 11 vs 19 (8.31% diff)",
          "unit 11 vs 20 (7.2% diff)",
          "unit 11 vs 21 (3.89% diff)",
          "unit 11 vs 22 (7.76% diff)",
          "unit 11 vs 23 (8.31% diff)",
          "unit 11 vs 24 (7.76% diff)",
          "unit 11 vs 25 (3.89% diff)",
          "unit 11 vs 26 (5.28% diff)",
          "unit 11 vs 27 (8.84% diff)",
          "unit 11 vs 28 (5.82% diff)",
          "unit 11 vs 29 (3.88% diff)",
          "unit 11 vs 30 (8.56% diff)",
          "unit 11 vs 31 (6.65% diff)",
          "unit 11 vs 32 (4.47% diff)",
          "unit 11 vs 33 (9.14% diff)",
          "unit 11 vs 34 (6.65% diff)",
          "unit 11 vs 35 (4.47% diff)",
          "unit 12 vs 13 (6.37% diff)",
          "unit 12 vs 14 (0.0% diff)",
          "unit 12 vs 15 (6.65% diff)",
          "unit 12 vs 16 (0.56% diff)",
          "unit 12 vs 17 (5.28% diff)",
          "unit 12 vs 18 (4.18% diff)",
          "unit 12 vs 19 (6.39% diff)",
          "unit 12 vs 20 (4.72% diff)",
          "unit 12 vs 21 (0.28% diff)",
          "unit 12 vs 22 (4.18% diff)",
          "unit 12 vs 23 (6.39% diff)",
          "unit 12 vs 24 (5.28% diff)",
          "unit 12 vs 25 (0.28% diff)",
          "unit 12 vs 26 (1.67% diff)",
          "unit 12 vs 27 (6.37% diff)",
          "unit 12 vs 28 (4.99% diff)",
          "unit 12 vs 29 (0.28% diff)",
          "unit 12 vs 30 (6.39% diff)",
          "unit 12 vs 31 (3.06% diff)",
          "unit 12 vs 32 (4.16% diff)",
          "unit 12 vs 33 (6.67% diff)",
          "unit 12 vs 34 (5.82% diff)",
          "unit 12 vs 35 (4.71% diff)",
          "unit 13 vs 14 (6.37% diff)",
          "unit 13 vs 15 (0.83% diff)",
          "unit 13 vs 16 (6.93% diff)",
          "unit 13 vs 17 (1.67% diff)",
          "unit 13 vs 18 (4.99% diff)",
          "unit 13 vs 19 (2.22% diff)",
          "unit 13 vs 20 (4.99% diff)",
          "unit 13 vs 21 (6.63% diff)",
          "unit 13 vs 22 (5.54% diff)",
          "unit 13 vs 23 (2.22% diff)",
          "unit 13 vs 24 (5.54% diff)",
          "unit 13 vs 25 (6.63% diff)",
          "unit 13 vs 26 (4.71% diff)",
          "unit 13 vs 27 (2.22% diff)",
          "unit 13 vs 28 (6.91% diff)",
          "unit 13 vs 29 (6.63% diff)",
          "unit 13 vs 30 (2.22% diff)",
          "unit 13 vs 31 (5.54% diff)",
          "unit 13 vs 32 (6.08% diff)",
          "unit 13 vs 33 (3.06% diff)",
          "unit 13 vs 34 (7.76% diff)",
          "unit 13 vs 35 (6.09% diff)",
          "unit 14 vs 15 (6.65% diff)",
          "unit 14 vs 16 (0.56% diff)",
          "unit 14 vs 17 (5.28% diff)",
          "unit 14 vs 18 (4.18% diff)",
          "unit 14 vs 19 (6.39% diff)",
          "unit 14 vs 20 (4.72% diff)",
          "unit 14 vs 21 (0.28% diff)",
          "unit 14 vs 22 (4.18% diff)",
          "unit 14 vs 23 (6.39% diff)",
          "unit 14 vs 24 (5.28% diff)",
          "unit 14 vs 25 (0.28% diff)",
          "unit 14 vs 26 (1.67% diff)",
          "unit 14 vs 27 (6.37% diff)",
          "unit 14 vs 28 (4.99% diff)",
          "unit 14 vs 29 (0.28% diff)",
          "unit 14 vs 30 (6.39% diff)",
          "unit 14 vs 31 (3.06% diff)",
          "unit 14 vs 32 (4.16% diff)",
          "unit 14 vs 33 (6.67% diff)",
          "unit 14 vs 34 (5.82% diff)",
          "unit 14 vs 35 (4.71% diff)",
          "unit 15 vs 16 (7.2% diff)",
          "unit 15 vs 17 (2.5% diff)",
          "unit 15 vs 18 (4.71% diff)",
          "unit 15 vs 19 (3.06% diff)",
          "unit 15 vs 20 (5.26% diff)",
          "unit 15 vs 21 (6.91% diff)",
          "unit 15 vs 22 (5.82% diff)",
          "unit 15 vs 23 (3.06% diff)",
          "unit 15 vs 24 (5.82% diff)",
          "unit 15 vs 25 (6.91% diff)",
          "unit 15 vs 26 (4.99% diff)",
          "unit 15 vs 27 (3.05% diff)",
          "unit 15 vs 28 (7.18% diff)",
          "unit 15 vs 29 (6.91% diff)",
          "unit 15 vs 30 (3.06% diff)",
          "unit 15 vs 31 (5.82% diff)",
          "unit 15 vs 32 (5.8% diff)",
          "unit 15 vs 33 (3.33% diff)",
          "unit 15 vs 34 (8.03% diff)",
          "unit 15 vs 35 (5.26% diff)",
          "unit 16 vs 17 (5.83% diff)",
          "unit 16 vs 18 (4.74% diff)",
          "unit 16 vs 19 (5.83% diff)",
          "unit 16 vs 20 (4.17% diff)",
          "unit 16 vs 21 (0.84% diff)",
          "unit 16 vs 22 (3.62% diff)",
          "unit 16 vs 23 (6.11% diff)",
          "unit 16 vs 24 (4.72% diff)",
          "unit 16 vs 25 (0.84% diff)",
          "unit 16 vs 26 (2.23% diff)",
          "unit 16 vs 27 (6.93% diff)",
          "unit 16 vs 28 (5.54% diff)",
          "unit 16 vs 29 (0.83% diff)",
          "unit 16 vs 30 (6.94% diff)",
          "unit 16 vs 31 (2.51% diff)",
          "unit 16 vs 32 (4.71% diff)",
          "unit 16 vs 33 (7.22% diff)",
          "unit 16 vs 34 (6.37% diff)",
          "unit 16 vs 35 (5.26% diff)",
          "unit 17 vs 18 (3.89% diff)",
          "unit 17 vs 19 (1.67% diff)",
          "unit 17 vs 20 (4.44% diff)",
          "unit 17 vs 21 (5.54% diff)",
          "unit 17 vs 22 (4.44% diff)",
          "unit 17 vs 23 (1.67% diff)",
          "unit 17 vs 24 (5.0% diff)",
          "unit 17 vs 25 (5.54% diff)",
          "unit 17 vs 26 (3.61% diff)",
          "unit 17 vs 27 (1.11% diff)",
          "unit 17 vs 28 (6.37% diff)",
          "unit 17 vs 29 (5.54% diff)",
          "unit 17 vs 30 (1.11% diff)",
          "unit 17 vs 31 (4.44% diff)",
          "unit 17 vs 32 (4.99% diff)",
          "unit 17 vs 33 (1.95% diff)",
          "unit 17 vs 34 (7.76% diff)",
          "unit 17 vs 35 (7.2% diff)",
          "unit 18 vs 19 (4.44% diff)",
          "unit 18 vs 20 (5.54% diff)",
          "unit 18 vs 21 (4.44% diff)",
          "unit 18 vs 22 (4.46% diff)",
          "unit 18 vs 23 (4.44% diff)",
          "unit 18 vs 24 (6.09% diff)",
          "unit 18 vs 25 (4.44% diff)",
          "unit 18 vs 26 (4.18% diff)",
          "unit 18 vs 27 (4.99% diff)",
          "unit 18 vs 28 (6.35% diff)",
          "unit 18 vs 29 (4.44% diff)",
          "unit 18 vs 30 (5.0% diff)",
          "unit 18 vs 31 (2.79% diff)",
          "unit 18 vs 32 (5.54% diff)",
          "unit 18 vs 33 (5.28% diff)",
          "unit 18 vs 34 (7.73% diff)",
          "unit 18 vs 35 (6.09% diff)",
          "unit 19 vs 20 (3.89% diff)",
          "unit 19 vs 21 (6.65% diff)",
          "unit 19 vs 22 (4.44% diff)",
          "unit 19 vs 23 (0.28% diff)",
          "unit 19 vs 24 (4.44% diff)",
          "unit 19 vs 25 (6.65% diff)",
          "unit 19 vs 26 (4.72% diff)",
          "unit 19 vs 27 (2.22% diff)",
          "unit 19 vs 28 (6.93% diff)",
          "unit 19 vs 29 (6.65% diff)",
          "unit 19 vs 30 (2.23% diff)",
          "unit 19 vs 31 (4.44% diff)",
          "unit 19 vs 32 (5.54% diff)",
          "unit 19 vs 33 (3.06% diff)",
          "unit 19 vs 34 (8.31% diff)",
          "unit 19 vs 35 (8.31% diff)",
          "unit 20 vs 21 (4.99% diff)",
          "unit 20 vs 22 (3.88% diff)",
          "unit 20 vs 23 (4.17% diff)",
          "unit 20 vs 24 (0.56% diff)",
          "unit 20 vs 25 (4.99% diff)",
          "unit 20 vs 26 (6.39% diff)",
          "unit 20 vs 27 (4.99% diff)",
          "unit 20 vs 28 (4.72% diff)",
          "unit 20 vs 29 (4.99% diff)",
          "unit 20 vs 30 (5.0% diff)",
          "unit 20 vs 31 (3.32% diff)",
          "unit 20 vs 32 (7.76% diff)",
          "unit 20 vs 33 (4.72% diff)",
          "unit 20 vs 34 (5.83% diff)",
          "unit 20 vs 35 (8.31% diff)",
          "unit 21 vs 22 (4.44% diff)",
          "unit 21 vs 23 (6.65% diff)",
          "unit 21 vs 24 (5.54% diff)",
          "unit 21 vs 25 (0.0% diff)",
          "unit 21 vs 26 (1.95% diff)",
          "unit 21 vs 27 (6.63% diff)",
          "unit 21 vs 28 (5.25% diff)",
          "unit 21 vs 29 (0.56% diff)",
          "unit 21 vs 30 (6.65% diff)",
          "unit 21 vs 31 (3.33% diff)",
          "unit 21 vs 32 (4.43% diff)",
          "unit 21 vs 33 (6.93% diff)",
          "unit 21 vs 34 (6.08% diff)",
          "unit 21 vs 35 (4.99% diff)",
          "unit 22 vs 23 (4.72% diff)",
          "unit 22 vs 24 (4.43% diff)",
          "unit 22 vs 25 (4.44% diff)",
          "unit 22 vs 26 (4.18% diff)",
          "unit 22 vs 27 (5.54% diff)",
          "unit 22 vs 28 (6.91% diff)",
          "unit 22 vs 29 (4.44% diff)",
          "unit 22 vs 30 (5.56% diff)",
          "unit 22 vs 31 (2.23% diff)",
          "unit 22 vs 32 (6.65% diff)",
          "unit 22 vs 33 (5.83% diff)",
          "unit 22 vs 34 (7.73% diff)",
          "unit 22 vs 35 (8.86% diff)",
          "unit 23 vs 24 (4.72% diff)",
          "unit 23 vs 25 (6.65% diff)",
          "unit 23 vs 26 (4.72% diff)",
          "unit 23 vs 27 (2.22% diff)",
          "unit 23 vs 28 (6.93% diff)",
          "unit 23 vs 29 (6.65% diff)",
          "unit 23 vs 30 (2.23% diff)",
          "unit 23 vs 31 (4.72% diff)",
          "unit 23 vs 32 (5.54% diff)",
          "unit 23 vs 33 (3.06% diff)",
          "unit 23 vs 34 (8.31% diff)",
          "unit 23 vs 35 (8.31% diff)",
          "unit 24 vs 25 (5.54% diff)",
          "unit 24 vs 26 (6.94% diff)",
          "unit 24 vs 27 (5.54% diff)",
          "unit 24 vs 28 (5.28% diff)",
          "unit 24 vs 29 (5.54% diff)",
          "unit 24 vs 30 (5.56% diff)",
          "unit 24 vs 31 (3.88% diff)",
          "unit 24 vs 32 (8.31% diff)",
          "unit 24 vs 33 (5.28% diff)",
          "unit 24 vs 34 (6.39% diff)",
          "unit 24 vs 35 (8.86% diff)",
          "unit 25 vs 26 (1.95% diff)",
          "unit 25 vs 27 (6.63% diff)",
          "unit 25 vs 28 (5.25% diff)",
          "unit 25 vs 29 (0.56% diff)",
          "unit 25 vs 30 (6.65% diff)",
          "unit 25 vs 31 (3.33% diff)",
          "unit 25 vs 32 (4.43% diff)",
          "unit 25 vs 33 (6.93% diff)",
          "unit 25 vs 34 (6.08% diff)",
          "unit 25 vs 35 (4.99% diff)",
          "unit 26 vs 27 (4.71% diff)",
          "unit 26 vs 28 (6.65% diff)",
          "unit 26 vs 29 (1.94% diff)",
          "unit 26 vs 30 (4.72% diff)",
          "unit 26 vs 31 (4.74% diff)",
          "unit 26 vs 32 (2.49% diff)",
          "unit 26 vs 33 (5.0% diff)",
          "unit 26 vs 34 (7.48% diff)",
          "unit 26 vs 35 (4.71% diff)",
          "unit 27 vs 28 (6.65% diff)",
          "unit 27 vs 29 (6.63% diff)",
          "unit 27 vs 30 (1.67% diff)",
          "unit 27 vs 31 (5.54% diff)",
          "unit 27 vs 32 (5.82% diff)",
          "unit 27 vs 33 (2.5% diff)",
          "unit 27 vs 34 (8.29% diff)",
          "unit 27 vs 35 (8.01% diff)",
          "unit 28 vs 29 (5.25% diff)",
          "unit 28 vs 30 (6.91% diff)",
          "unit 28 vs 31 (5.25% diff)",
          "unit 28 vs 32 (7.5% diff)",
          "unit 28 vs 33 (7.2% diff)",
          "unit 28 vs 34 (2.5% diff)",
          "unit 28 vs 35 (8.59% diff)",
          "unit 29 vs 30 (6.65% diff)",
          "unit 29 vs 31 (3.33% diff)",
          "unit 29 vs 32 (4.42% diff)",
          "unit 29 vs 33 (6.93% diff)",
          "unit 29 vs 34 (6.08% diff)",
          "unit 29 vs 35 (4.97% diff)",
          "unit 30 vs 31 (5.56% diff)",
          "unit 30 vs 32 (5.82% diff)",
          "unit 30 vs 33 (2.51% diff)",
          "unit 30 vs 34 (8.29% diff)",
          "unit 30 vs 35 (8.03% diff)",
          "unit 31 vs 32 (7.2% diff)",
          "unit 31 vs 33 (5.83% diff)",
          "unit 31 vs 34 (6.63% diff)",
          "unit 31 vs 35 (7.76% diff)",
          "unit 32 vs 33 (6.37% diff)",
          "unit 32 vs 34 (8.84% diff)",
          "unit 32 vs 35 (3.9% diff)",
          "unit 33 vs 34 (8.31% diff)",
          "unit 33 vs 35 (8.59% diff)",
          "unit 34 vs 35 (8.89% diff)"
         ],
         "type": "scatter",
         "x": [
          179,
          179,
          179,
          179,
          179,
          179,
          179,
          179,
          179,
          179,
          179,
          179,
          179,
          179,
          179,
          179,
          179,
          179,
          179,
          179,
          179,
          179,
          179,
          179,
          179,
          179,
          179,
          179,
          179,
          179,
          179,
          179,
          179,
          179,
          179,
          537,
          537,
          537,
          537,
          537,
          537,
          537,
          537,
          537,
          537,
          537,
          537,
          537,
          537,
          537,
          537,
          537,
          537,
          537,
          537,
          537,
          537,
          537,
          537,
          537,
          537,
          537,
          537,
          537,
          537,
          537,
          537,
          537,
          537,
          895,
          895,
          895,
          895,
          895,
          895,
          895,
          895,
          895,
          895,
          895,
          895,
          895,
          895,
          895,
          895,
          895,
          895,
          895,
          895,
          895,
          895,
          895,
          895,
          895,
          895,
          895,
          895,
          895,
          895,
          895,
          895,
          895,
          1253.5,
          1253.5,
          1253.5,
          1253.5,
          1253.5,
          1253.5,
          1253.5,
          1253.5,
          1253.5,
          1253.5,
          1253.5,
          1253.5,
          1253.5,
          1253.5,
          1253.5,
          1253.5,
          1253.5,
          1253.5,
          1253.5,
          1253.5,
          1253.5,
          1253.5,
          1253.5,
          1253.5,
          1253.5,
          1253.5,
          1253.5,
          1253.5,
          1253.5,
          1253.5,
          1253.5,
          1253.5,
          1612.5,
          1612.5,
          1612.5,
          1612.5,
          1612.5,
          1612.5,
          1612.5,
          1612.5,
          1612.5,
          1612.5,
          1612.5,
          1612.5,
          1612.5,
          1612.5,
          1612.5,
          1612.5,
          1612.5,
          1612.5,
          1612.5,
          1612.5,
          1612.5,
          1612.5,
          1612.5,
          1612.5,
          1612.5,
          1612.5,
          1612.5,
          1612.5,
          1612.5,
          1612.5,
          1612.5,
          1972,
          1972,
          1972,
          1972,
          1972,
          1972,
          1972,
          1972,
          1972,
          1972,
          1972,
          1972,
          1972,
          1972,
          1972,
          1972,
          1972,
          1972,
          1972,
          1972,
          1972,
          1972,
          1972,
          1972,
          1972,
          1972,
          1972,
          1972,
          1972,
          1972,
          2332,
          2332,
          2332,
          2332,
          2332,
          2332,
          2332,
          2332,
          2332,
          2332,
          2332,
          2332,
          2332,
          2332,
          2332,
          2332,
          2332,
          2332,
          2332,
          2332,
          2332,
          2332,
          2332,
          2332,
          2332,
          2332,
          2332,
          2332,
          2332,
          2691.5,
          2691.5,
          2691.5,
          2691.5,
          2691.5,
          2691.5,
          2691.5,
          2691.5,
          2691.5,
          2691.5,
          2691.5,
          2691.5,
          2691.5,
          2691.5,
          2691.5,
          2691.5,
          2691.5,
          2691.5,
          2691.5,
          2691.5,
          2691.5,
          2691.5,
          2691.5,
          2691.5,
          2691.5,
          2691.5,
          2691.5,
          2691.5,
          3051,
          3051,
          3051,
          3051,
          3051,
          3051,
          3051,
          3051,
          3051,
          3051,
          3051,
          3051,
          3051,
          3051,
          3051,
          3051,
          3051,
          3051,
          3051,
          3051,
          3051,
          3051,
          3051,
          3051,
          3051,
          3051,
          3051,
          3410.5,
          3410.5,
          3410.5,
          3410.5,
          3410.5,
          3410.5,
          3410.5,
          3410.5,
          3410.5,
          3410.5,
          3410.5,
          3410.5,
          3410.5,
          3410.5,
          3410.5,
          3410.5,
          3410.5,
          3410.5,
          3410.5,
          3410.5,
          3410.5,
          3410.5,
          3410.5,
          3410.5,
          3410.5,
          3410.5,
          3769.5,
          3769.5,
          3769.5,
          3769.5,
          3769.5,
          3769.5,
          3769.5,
          3769.5,
          3769.5,
          3769.5,
          3769.5,
          3769.5,
          3769.5,
          3769.5,
          3769.5,
          3769.5,
          3769.5,
          3769.5,
          3769.5,
          3769.5,
          3769.5,
          3769.5,
          3769.5,
          3769.5,
          3769.5,
          4127,
          4127,
          4127,
          4127,
          4127,
          4127,
          4127,
          4127,
          4127,
          4127,
          4127,
          4127,
          4127,
          4127,
          4127,
          4127,
          4127,
          4127,
          4127,
          4127,
          4127,
          4127,
          4127,
          4127,
          4484.5,
          4484.5,
          4484.5,
          4484.5,
          4484.5,
          4484.5,
          4484.5,
          4484.5,
          4484.5,
          4484.5,
          4484.5,
          4484.5,
          4484.5,
          4484.5,
          4484.5,
          4484.5,
          4484.5,
          4484.5,
          4484.5,
          4484.5,
          4484.5,
          4484.5,
          4484.5,
          4844,
          4844,
          4844,
          4844,
          4844,
          4844,
          4844,
          4844,
          4844,
          4844,
          4844,
          4844,
          4844,
          4844,
          4844,
          4844,
          4844,
          4844,
          4844,
          4844,
          4844,
          4844,
          5203.5,
          5203.5,
          5203.5,
          5203.5,
          5203.5,
          5203.5,
          5203.5,
          5203.5,
          5203.5,
          5203.5,
          5203.5,
          5203.5,
          5203.5,
          5203.5,
          5203.5,
          5203.5,
          5203.5,
          5203.5,
          5203.5,
          5203.5,
          5203.5,
          5563,
          5563,
          5563,
          5563,
          5563,
          5563,
          5563,
          5563,
          5563,
          5563,
          5563,
          5563,
          5563,
          5563,
          5563,
          5563,
          5563,
          5563,
          5563,
          5563,
          5922.5,
          5922.5,
          5922.5,
          5922.5,
          5922.5,
          5922.5,
          5922.5,
          5922.5,
          5922.5,
          5922.5,
          5922.5,
          5922.5,
          5922.5,
          5922.5,
          5922.5,
          5922.5,
          5922.5,
          5922.5,
          5922.5,
          6281.5,
          6281.5,
          6281.5,
          6281.5,
          6281.5,
          6281.5,
          6281.5,
          6281.5,
          6281.5,
          6281.5,
          6281.5,
          6281.5,
          6281.5,
          6281.5,
          6281.5,
          6281.5,
          6281.5,
          6281.5,
          6640.5,
          6640.5,
          6640.5,
          6640.5,
          6640.5,
          6640.5,
          6640.5,
          6640.5,
          6640.5,
          6640.5,
          6640.5,
          6640.5,
          6640.5,
          6640.5,
          6640.5,
          6640.5,
          6640.5,
          6999.5,
          6999.5,
          6999.5,
          6999.5,
          6999.5,
          6999.5,
          6999.5,
          6999.5,
          6999.5,
          6999.5,
          6999.5,
          6999.5,
          6999.5,
          6999.5,
          6999.5,
          6999.5,
          7358.5,
          7358.5,
          7358.5,
          7358.5,
          7358.5,
          7358.5,
          7358.5,
          7358.5,
          7358.5,
          7358.5,
          7358.5,
          7358.5,
          7358.5,
          7358.5,
          7358.5,
          7717.5,
          7717.5,
          7717.5,
          7717.5,
          7717.5,
          7717.5,
          7717.5,
          7717.5,
          7717.5,
          7717.5,
          7717.5,
          7717.5,
          7717.5,
          7717.5,
          8076.5,
          8076.5,
          8076.5,
          8076.5,
          8076.5,
          8076.5,
          8076.5,
          8076.5,
          8076.5,
          8076.5,
          8076.5,
          8076.5,
          8076.5,
          8435,
          8435,
          8435,
          8435,
          8435,
          8435,
          8435,
          8435,
          8435,
          8435,
          8435,
          8435,
          8793.5,
          8793.5,
          8793.5,
          8793.5,
          8793.5,
          8793.5,
          8793.5,
          8793.5,
          8793.5,
          8793.5,
          8793.5,
          9152.5,
          9152.5,
          9152.5,
          9152.5,
          9152.5,
          9152.5,
          9152.5,
          9152.5,
          9152.5,
          9152.5,
          9511.5,
          9511.5,
          9511.5,
          9511.5,
          9511.5,
          9511.5,
          9511.5,
          9511.5,
          9511.5,
          9871,
          9871,
          9871,
          9871,
          9871,
          9871,
          9871,
          9871,
          10230.5,
          10230.5,
          10230.5,
          10230.5,
          10230.5,
          10230.5,
          10230.5,
          10590,
          10590,
          10590,
          10590,
          10590,
          10590,
          10949.5,
          10949.5,
          10949.5,
          10949.5,
          10949.5,
          11308.5,
          11308.5,
          11308.5,
          11308.5,
          11667,
          11667,
          11667,
          12025.5,
          12025.5,
          12384
         ],
         "y": [
          537,
          895,
          1253.5,
          1612.5,
          1972,
          2332,
          2691.5,
          3051,
          3410.5,
          3769.5,
          4127,
          4484.5,
          4844,
          5203.5,
          5563,
          5922.5,
          6281.5,
          6640.5,
          6999.5,
          7358.5,
          7717.5,
          8076.5,
          8435,
          8793.5,
          9152.5,
          9511.5,
          9871,
          10230.5,
          10590,
          10949.5,
          11308.5,
          11667,
          12025.5,
          12384,
          12742,
          895,
          1253.5,
          1612.5,
          1972,
          2332,
          2691.5,
          3051,
          3410.5,
          3769.5,
          4127,
          4484.5,
          4844,
          5203.5,
          5563,
          5922.5,
          6281.5,
          6640.5,
          6999.5,
          7358.5,
          7717.5,
          8076.5,
          8435,
          8793.5,
          9152.5,
          9511.5,
          9871,
          10230.5,
          10590,
          10949.5,
          11308.5,
          11667,
          12025.5,
          12384,
          12742,
          1253.5,
          1612.5,
          1972,
          2332,
          2691.5,
          3051,
          3410.5,
          3769.5,
          4127,
          4484.5,
          4844,
          5203.5,
          5563,
          5922.5,
          6281.5,
          6640.5,
          6999.5,
          7358.5,
          7717.5,
          8076.5,
          8435,
          8793.5,
          9152.5,
          9511.5,
          9871,
          10230.5,
          10590,
          10949.5,
          11308.5,
          11667,
          12025.5,
          12384,
          12742,
          1612.5,
          1972,
          2332,
          2691.5,
          3051,
          3410.5,
          3769.5,
          4127,
          4484.5,
          4844,
          5203.5,
          5563,
          5922.5,
          6281.5,
          6640.5,
          6999.5,
          7358.5,
          7717.5,
          8076.5,
          8435,
          8793.5,
          9152.5,
          9511.5,
          9871,
          10230.5,
          10590,
          10949.5,
          11308.5,
          11667,
          12025.5,
          12384,
          12742,
          1972,
          2332,
          2691.5,
          3051,
          3410.5,
          3769.5,
          4127,
          4484.5,
          4844,
          5203.5,
          5563,
          5922.5,
          6281.5,
          6640.5,
          6999.5,
          7358.5,
          7717.5,
          8076.5,
          8435,
          8793.5,
          9152.5,
          9511.5,
          9871,
          10230.5,
          10590,
          10949.5,
          11308.5,
          11667,
          12025.5,
          12384,
          12742,
          2332,
          2691.5,
          3051,
          3410.5,
          3769.5,
          4127,
          4484.5,
          4844,
          5203.5,
          5563,
          5922.5,
          6281.5,
          6640.5,
          6999.5,
          7358.5,
          7717.5,
          8076.5,
          8435,
          8793.5,
          9152.5,
          9511.5,
          9871,
          10230.5,
          10590,
          10949.5,
          11308.5,
          11667,
          12025.5,
          12384,
          12742,
          2691.5,
          3051,
          3410.5,
          3769.5,
          4127,
          4484.5,
          4844,
          5203.5,
          5563,
          5922.5,
          6281.5,
          6640.5,
          6999.5,
          7358.5,
          7717.5,
          8076.5,
          8435,
          8793.5,
          9152.5,
          9511.5,
          9871,
          10230.5,
          10590,
          10949.5,
          11308.5,
          11667,
          12025.5,
          12384,
          12742,
          3051,
          3410.5,
          3769.5,
          4127,
          4484.5,
          4844,
          5203.5,
          5563,
          5922.5,
          6281.5,
          6640.5,
          6999.5,
          7358.5,
          7717.5,
          8076.5,
          8435,
          8793.5,
          9152.5,
          9511.5,
          9871,
          10230.5,
          10590,
          10949.5,
          11308.5,
          11667,
          12025.5,
          12384,
          12742,
          3410.5,
          3769.5,
          4127,
          4484.5,
          4844,
          5203.5,
          5563,
          5922.5,
          6281.5,
          6640.5,
          6999.5,
          7358.5,
          7717.5,
          8076.5,
          8435,
          8793.5,
          9152.5,
          9511.5,
          9871,
          10230.5,
          10590,
          10949.5,
          11308.5,
          11667,
          12025.5,
          12384,
          12742,
          3769.5,
          4127,
          4484.5,
          4844,
          5203.5,
          5563,
          5922.5,
          6281.5,
          6640.5,
          6999.5,
          7358.5,
          7717.5,
          8076.5,
          8435,
          8793.5,
          9152.5,
          9511.5,
          9871,
          10230.5,
          10590,
          10949.5,
          11308.5,
          11667,
          12025.5,
          12384,
          12742,
          4127,
          4484.5,
          4844,
          5203.5,
          5563,
          5922.5,
          6281.5,
          6640.5,
          6999.5,
          7358.5,
          7717.5,
          8076.5,
          8435,
          8793.5,
          9152.5,
          9511.5,
          9871,
          10230.5,
          10590,
          10949.5,
          11308.5,
          11667,
          12025.5,
          12384,
          12742,
          4484.5,
          4844,
          5203.5,
          5563,
          5922.5,
          6281.5,
          6640.5,
          6999.5,
          7358.5,
          7717.5,
          8076.5,
          8435,
          8793.5,
          9152.5,
          9511.5,
          9871,
          10230.5,
          10590,
          10949.5,
          11308.5,
          11667,
          12025.5,
          12384,
          12742,
          4844,
          5203.5,
          5563,
          5922.5,
          6281.5,
          6640.5,
          6999.5,
          7358.5,
          7717.5,
          8076.5,
          8435,
          8793.5,
          9152.5,
          9511.5,
          9871,
          10230.5,
          10590,
          10949.5,
          11308.5,
          11667,
          12025.5,
          12384,
          12742,
          5203.5,
          5563,
          5922.5,
          6281.5,
          6640.5,
          6999.5,
          7358.5,
          7717.5,
          8076.5,
          8435,
          8793.5,
          9152.5,
          9511.5,
          9871,
          10230.5,
          10590,
          10949.5,
          11308.5,
          11667,
          12025.5,
          12384,
          12742,
          5563,
          5922.5,
          6281.5,
          6640.5,
          6999.5,
          7358.5,
          7717.5,
          8076.5,
          8435,
          8793.5,
          9152.5,
          9511.5,
          9871,
          10230.5,
          10590,
          10949.5,
          11308.5,
          11667,
          12025.5,
          12384,
          12742,
          5922.5,
          6281.5,
          6640.5,
          6999.5,
          7358.5,
          7717.5,
          8076.5,
          8435,
          8793.5,
          9152.5,
          9511.5,
          9871,
          10230.5,
          10590,
          10949.5,
          11308.5,
          11667,
          12025.5,
          12384,
          12742,
          6281.5,
          6640.5,
          6999.5,
          7358.5,
          7717.5,
          8076.5,
          8435,
          8793.5,
          9152.5,
          9511.5,
          9871,
          10230.5,
          10590,
          10949.5,
          11308.5,
          11667,
          12025.5,
          12384,
          12742,
          6640.5,
          6999.5,
          7358.5,
          7717.5,
          8076.5,
          8435,
          8793.5,
          9152.5,
          9511.5,
          9871,
          10230.5,
          10590,
          10949.5,
          11308.5,
          11667,
          12025.5,
          12384,
          12742,
          6999.5,
          7358.5,
          7717.5,
          8076.5,
          8435,
          8793.5,
          9152.5,
          9511.5,
          9871,
          10230.5,
          10590,
          10949.5,
          11308.5,
          11667,
          12025.5,
          12384,
          12742,
          7358.5,
          7717.5,
          8076.5,
          8435,
          8793.5,
          9152.5,
          9511.5,
          9871,
          10230.5,
          10590,
          10949.5,
          11308.5,
          11667,
          12025.5,
          12384,
          12742,
          7717.5,
          8076.5,
          8435,
          8793.5,
          9152.5,
          9511.5,
          9871,
          10230.5,
          10590,
          10949.5,
          11308.5,
          11667,
          12025.5,
          12384,
          12742,
          8076.5,
          8435,
          8793.5,
          9152.5,
          9511.5,
          9871,
          10230.5,
          10590,
          10949.5,
          11308.5,
          11667,
          12025.5,
          12384,
          12742,
          8435,
          8793.5,
          9152.5,
          9511.5,
          9871,
          10230.5,
          10590,
          10949.5,
          11308.5,
          11667,
          12025.5,
          12384,
          12742,
          8793.5,
          9152.5,
          9511.5,
          9871,
          10230.5,
          10590,
          10949.5,
          11308.5,
          11667,
          12025.5,
          12384,
          12742,
          9152.5,
          9511.5,
          9871,
          10230.5,
          10590,
          10949.5,
          11308.5,
          11667,
          12025.5,
          12384,
          12742,
          9511.5,
          9871,
          10230.5,
          10590,
          10949.5,
          11308.5,
          11667,
          12025.5,
          12384,
          12742,
          9871,
          10230.5,
          10590,
          10949.5,
          11308.5,
          11667,
          12025.5,
          12384,
          12742,
          10230.5,
          10590,
          10949.5,
          11308.5,
          11667,
          12025.5,
          12384,
          12742,
          10590,
          10949.5,
          11308.5,
          11667,
          12025.5,
          12384,
          12742,
          10949.5,
          11308.5,
          11667,
          12025.5,
          12384,
          12742,
          11308.5,
          11667,
          12025.5,
          12384,
          12742,
          11667,
          12025.5,
          12384,
          12742,
          12025.5,
          12384,
          12742,
          12384,
          12742,
          12742
         ]
        },
        {
         "hoverinfo": "text",
         "marker": {
          "size": 5
         },
         "mode": "text",
         "name": "TR unit",
         "showlegend": true,
         "text": [
          "0 ",
          "1 ",
          "2 ",
          "3 ",
          "4 ",
          "5 ",
          "6 ",
          "7 ",
          "8 ",
          "9 ",
          "10 ",
          "11 ",
          "12 ",
          "13 ",
          "14 ",
          "15 ",
          "16 ",
          "17 ",
          "18 ",
          "19 ",
          "20 ",
          "21 ",
          "22 ",
          "23 ",
          "24 ",
          "25 ",
          "26 ",
          "27 ",
          "28 ",
          "29 ",
          "30 ",
          "31 ",
          "32 ",
          "33 ",
          "34 ",
          "35 "
         ],
         "textfont": {
          "color": "black",
          "size": 10
         },
         "textposition": "bottom left",
         "type": "scatter",
         "x": [
          0,
          358,
          716,
          1074,
          1433,
          1792,
          2152,
          2512,
          2871,
          3231,
          3590,
          3949,
          4305,
          4664,
          5024,
          5383,
          5743,
          6102,
          6461,
          6820,
          7179,
          7538,
          7897,
          8256,
          8614,
          8973,
          9332,
          9691,
          10051,
          10410,
          10770,
          11129,
          11488,
          11846,
          12205,
          12563
         ],
         "y": [
          0,
          358,
          716,
          1074,
          1433,
          1792,
          2152,
          2512,
          2871,
          3231,
          3590,
          3949,
          4305,
          4664,
          5024,
          5383,
          5743,
          6102,
          6461,
          6820,
          7179,
          7538,
          7897,
          8256,
          8614,
          8973,
          9332,
          9691,
          10051,
          10410,
          10770,
          11129,
          11488,
          11846,
          12205,
          12563
         ]
        },
        {
         "hoverinfo": "text",
         "marker": {
          "color": [
           "black",
           "black",
           "black",
           "black",
           "black",
           "black",
           "black",
           "black",
           "black",
           "black",
           "black",
           "black",
           "black",
           "black",
           "black",
           "black",
           "black",
           "black",
           "black",
           "black",
           "black",
           "black",
           "black",
           "black",
           "black",
           "black",
           "black",
           "black",
           "black",
           "black",
           "black",
           "black",
           "black",
           "black",
           "black",
           "black"
          ],
          "size": 5
         },
         "mode": "markers",
         "showlegend": false,
         "text": [
          "unit 0<br>[0:358] (358 bp)",
          "unit 1<br>[358:716] (358 bp)",
          "unit 2<br>[716:1074] (358 bp)",
          "unit 3<br>[1074:1433] (359 bp)",
          "unit 4<br>[1433:1792] (359 bp)",
          "unit 5<br>[1792:2152] (360 bp)",
          "unit 6<br>[2152:2512] (360 bp)",
          "unit 7<br>[2512:2871] (359 bp)",
          "unit 8<br>[2871:3231] (360 bp)",
          "unit 9<br>[3231:3590] (359 bp)",
          "unit 10<br>[3590:3949] (359 bp)",
          "unit 11<br>[3949:4305] (356 bp)",
          "unit 12<br>[4305:4664] (359 bp)",
          "unit 13<br>[4664:5024] (360 bp)",
          "unit 14<br>[5024:5383] (359 bp)",
          "unit 15<br>[5383:5743] (360 bp)",
          "unit 16<br>[5743:6102] (359 bp)",
          "unit 17<br>[6102:6461] (359 bp)",
          "unit 18<br>[6461:6820] (359 bp)",
          "unit 19<br>[6820:7179] (359 bp)",
          "unit 20<br>[7179:7538] (359 bp)",
          "unit 21<br>[7538:7897] (359 bp)",
          "unit 22<br>[7897:8256] (359 bp)",
          "unit 23<br>[8256:8614] (358 bp)",
          "unit 24<br>[8614:8973] (359 bp)",
          "unit 25<br>[8973:9332] (359 bp)",
          "unit 26<br>[9332:9691] (359 bp)",
          "unit 27<br>[9691:10051] (360 bp)",
          "unit 28<br>[10051:10410] (359 bp)",
          "unit 29<br>[10410:10770] (360 bp)",
          "unit 30<br>[10770:11129] (359 bp)",
          "unit 31<br>[11129:11488] (359 bp)",
          "unit 32<br>[11488:11846] (358 bp)",
          "unit 33<br>[11846:12205] (359 bp)",
          "unit 34<br>[12205:12563] (358 bp)",
          "unit 35<br>[12563:12921] (358 bp)"
         ],
         "type": "scatter",
         "x": [
          0,
          358,
          716,
          1074,
          1433,
          1792,
          2152,
          2512,
          2871,
          3231,
          3590,
          3949,
          4305,
          4664,
          5024,
          5383,
          5743,
          6102,
          6461,
          6820,
          7179,
          7538,
          7897,
          8256,
          8614,
          8973,
          9332,
          9691,
          10051,
          10410,
          10770,
          11129,
          11488,
          11846,
          12205,
          12563
         ],
         "y": [
          0,
          358,
          716,
          1074,
          1433,
          1792,
          2152,
          2512,
          2871,
          3231,
          3590,
          3949,
          4305,
          4664,
          5024,
          5383,
          5743,
          6102,
          6461,
          6820,
          7179,
          7538,
          7897,
          8256,
          8614,
          8973,
          9332,
          9691,
          10051,
          10410,
          10770,
          11129,
          11488,
          11846,
          12205,
          12563
         ]
        }
       ],
       "layout": {
        "height": 800,
        "hovermode": "closest",
        "shapes": [
         {
          "layer": "below",
          "line": {
           "color": "grey",
           "width": 3
          },
          "type": "line",
          "x0": 0,
          "x1": 13059,
          "xref": "x",
          "y0": 0,
          "y1": 13059,
          "yref": "y"
         },
         {
          "layer": "below",
          "line": {
           "color": "black",
           "width": 3
          },
          "type": "line",
          "x0": 0,
          "x1": 13059,
          "xref": "x",
          "y0": 0,
          "y1": 13059,
          "yref": "y"
         },
         {
          "layer": "below",
          "line": {
           "color": "purple",
           "width": 3
          },
          "type": "line",
          "x0": 358,
          "x1": 2244,
          "xref": "x",
          "y0": 0,
          "y1": 1884,
          "yref": "y"
         },
         {
          "layer": "below",
          "line": {
           "color": "purple",
           "width": 3
          },
          "type": "line",
          "x0": 2740,
          "x1": 12655,
          "xref": "x",
          "y0": 2382,
          "y1": 12297,
          "yref": "y"
         },
         {
          "layer": "below",
          "line": {
           "color": "black",
           "width": 1
          },
          "type": "line",
          "x0": 716,
          "x1": 4693,
          "xref": "x",
          "y0": 0,
          "y1": 3978,
          "yref": "y"
         },
         {
          "layer": "below",
          "line": {
           "color": "black",
           "width": 1
          },
          "type": "line",
          "x0": 4867,
          "x1": 13054,
          "xref": "x",
          "y0": 4150,
          "y1": 12338,
          "yref": "y"
         },
         {
          "layer": "below",
          "line": {
           "color": "black",
           "width": 1
          },
          "type": "line",
          "x0": 1074,
          "x1": 2244,
          "xref": "x",
          "y0": 0,
          "y1": 1166,
          "yref": "y"
         },
         {
          "layer": "below",
          "line": {
           "color": "black",
           "width": 1
          },
          "type": "line",
          "x0": 3437,
          "x1": 13059,
          "xref": "x",
          "y0": 2360,
          "y1": 11984,
          "yref": "y"
         },
         {
          "layer": "below",
          "line": {
           "color": "black",
           "width": 1
          },
          "type": "line",
          "x0": 2360,
          "x1": 3323,
          "xref": "x",
          "y0": 1280,
          "y1": 2244,
          "yref": "y"
         },
         {
          "layer": "below",
          "line": {
           "color": "black",
           "width": 1
          },
          "type": "line",
          "x0": 1441,
          "x1": 12655,
          "xref": "x",
          "y0": 8,
          "y1": 11221,
          "yref": "y"
         },
         {
          "layer": "below",
          "line": {
           "color": "black",
           "width": 1
          },
          "type": "line",
          "x0": 2360,
          "x1": 13054,
          "xref": "x",
          "y0": 564,
          "y1": 11262,
          "yref": "y"
         },
         {
          "layer": "below",
          "line": {
           "color": "black",
           "width": 1
          },
          "type": "line",
          "x0": 4511,
          "x1": 13054,
          "xref": "x",
          "y0": 2360,
          "y1": 10903,
          "yref": "y"
         },
         {
          "layer": "below",
          "line": {
           "color": "black",
           "width": 1
          },
          "type": "line",
          "x0": 2359,
          "x1": 4397,
          "xref": "x",
          "y0": 205,
          "y1": 2244,
          "yref": "y"
         },
         {
          "layer": "below",
          "line": {
           "color": "black",
           "width": 1
          },
          "type": "line",
          "x0": 5612,
          "x1": 12655,
          "xref": "x",
          "y0": 3101,
          "y1": 10143,
          "yref": "y"
         },
         {
          "layer": "below",
          "line": {
           "color": "black",
           "width": 1
          },
          "type": "line",
          "x0": 2512,
          "x1": 5475,
          "xref": "x",
          "y0": 0,
          "y1": 2963,
          "yref": "y"
         },
         {
          "layer": "below",
          "line": {
           "color": "black",
           "width": 1
          },
          "type": "line",
          "x0": 5230,
          "x1": 13013,
          "xref": "x",
          "y0": 2360,
          "y1": 10143,
          "yref": "y"
         },
         {
          "layer": "below",
          "line": {
           "color": "black",
           "width": 1
          },
          "type": "line",
          "x0": 2879,
          "x1": 5116,
          "xref": "x",
          "y0": 8,
          "y1": 2244,
          "yref": "y"
         },
         {
          "layer": "below",
          "line": {
           "color": "black",
           "width": 1
          },
          "type": "line",
          "x0": 3231,
          "x1": 13038,
          "xref": "x",
          "y0": 0,
          "y1": 9808,
          "yref": "y"
         },
         {
          "layer": "below",
          "line": {
           "color": "black",
           "width": 1
          },
          "type": "line",
          "x0": 5949,
          "x1": 13054,
          "xref": "x",
          "y0": 2360,
          "y1": 9465,
          "yref": "y"
         },
         {
          "layer": "below",
          "line": {
           "color": "black",
           "width": 1
          },
          "type": "line",
          "x0": 3639,
          "x1": 5835,
          "xref": "x",
          "y0": 49,
          "y1": 2244,
          "yref": "y"
         },
         {
          "layer": "below",
          "line": {
           "color": "black",
           "width": 1
          },
          "type": "line",
          "x0": 3949,
          "x1": 5475,
          "xref": "x",
          "y0": 0,
          "y1": 1525,
          "yref": "y"
         },
         {
          "layer": "below",
          "line": {
           "color": "black",
           "width": 1
          },
          "type": "line",
          "x0": 5612,
          "x1": 13054,
          "xref": "x",
          "y0": 1662,
          "y1": 9106,
          "yref": "y"
         },
         {
          "layer": "below",
          "line": {
           "color": "black",
           "width": 1
          },
          "type": "line",
          "x0": 4305,
          "x1": 13013,
          "xref": "x",
          "y0": 0,
          "y1": 8706,
          "yref": "y"
         },
         {
          "layer": "below",
          "line": {
           "color": "black",
           "width": 1
          },
          "type": "line",
          "x0": 6102,
          "x1": 13047,
          "xref": "x",
          "y0": 0,
          "y1": 6946,
          "yref": "y"
         },
         {
          "layer": "below",
          "line": {
           "color": "black",
           "width": 1
          },
          "type": "line",
          "x0": 7179,
          "x1": 13054,
          "xref": "x",
          "y0": 0,
          "y1": 5876,
          "yref": "y"
         },
         {
          "layer": "below",
          "line": {
           "color": "black",
           "width": 1
          },
          "type": "line",
          "x0": 7538,
          "x1": 13026,
          "xref": "x",
          "y0": 0,
          "y1": 5488,
          "yref": "y"
         },
         {
          "layer": "below",
          "line": {
           "color": "black",
           "width": 1
          },
          "type": "line",
          "x0": 7897,
          "x1": 13054,
          "xref": "x",
          "y0": 0,
          "y1": 5157,
          "yref": "y"
         },
         {
          "layer": "below",
          "line": {
           "color": "black",
           "width": 1
          },
          "type": "line",
          "x0": 9332,
          "x1": 13054,
          "xref": "x",
          "y0": 0,
          "y1": 3723,
          "yref": "y"
         },
         {
          "fillcolor": "#bbe4b5",
          "layer": "below",
          "line": {
           "width": 0
          },
          "opacity": 1,
          "type": "rect",
          "x0": 0,
          "x1": 358,
          "xref": "x",
          "y0": 358,
          "y1": 716,
          "yref": "y"
         },
         {
          "fillcolor": "#6fc7bd",
          "layer": "below",
          "line": {
           "width": 0
          },
          "opacity": 1,
          "type": "rect",
          "x0": 0,
          "x1": 358,
          "xref": "x",
          "y0": 716,
          "y1": 1074,
          "yref": "y"
         },
         {
          "fillcolor": "#c9eab4",
          "layer": "below",
          "line": {
           "width": 0
          },
          "opacity": 1,
          "type": "rect",
          "x0": 0,
          "x1": 358,
          "xref": "x",
          "y0": 1074,
          "y1": 1433,
          "yref": "y"
         },
         {
          "fillcolor": "#1d90c0",
          "layer": "below",
          "line": {
           "width": 0
          },
          "opacity": 1,
          "type": "rect",
          "x0": 0,
          "x1": 358,
          "xref": "x",
          "y0": 1433,
          "y1": 1792,
          "yref": "y"
         },
         {
          "fillcolor": "#61c2bf",
          "layer": "below",
          "line": {
           "width": 0
          },
          "opacity": 1,
          "type": "rect",
          "x0": 0,
          "x1": 358,
          "xref": "x",
          "y0": 1792,
          "y1": 2152,
          "yref": "y"
         },
         {
          "fillcolor": "#2498c1",
          "layer": "below",
          "line": {
           "width": 0
          },
          "opacity": 1,
          "type": "rect",
          "x0": 0,
          "x1": 358,
          "xref": "x",
          "y0": 2152,
          "y1": 2512,
          "yref": "y"
         },
         {
          "fillcolor": "#bbe4b5",
          "layer": "below",
          "line": {
           "width": 0
          },
          "opacity": 1,
          "type": "rect",
          "x0": 0,
          "x1": 358,
          "xref": "x",
          "y0": 2512,
          "y1": 2871,
          "yref": "y"
         },
         {
          "fillcolor": "#2ca1c2",
          "layer": "below",
          "line": {
           "width": 0
          },
          "opacity": 1,
          "type": "rect",
          "x0": 0,
          "x1": 358,
          "xref": "x",
          "y0": 2871,
          "y1": 3231,
          "yref": "y"
         },
         {
          "fillcolor": "#abdeb7",
          "layer": "below",
          "line": {
           "width": 0
          },
          "opacity": 1,
          "type": "rect",
          "x0": 0,
          "x1": 358,
          "xref": "x",
          "y0": 3231,
          "y1": 3590,
          "yref": "y"
         },
         {
          "fillcolor": "#61c2bf",
          "layer": "below",
          "line": {
           "width": 0
          },
          "opacity": 1,
          "type": "rect",
          "x0": 0,
          "x1": 358,
          "xref": "x",
          "y0": 3590,
          "y1": 3949,
          "yref": "y"
         },
         {
          "fillcolor": "#34a9c3",
          "layer": "below",
          "line": {
           "width": 0
          },
          "opacity": 1,
          "type": "rect",
          "x0": 0,
          "x1": 358,
          "xref": "x",
          "y0": 3949,
          "y1": 4305,
          "yref": "y"
         },
         {
          "fillcolor": "#abdeb7",
          "layer": "below",
          "line": {
           "width": 0
          },
          "opacity": 1,
          "type": "rect",
          "x0": 0,
          "x1": 358,
          "xref": "x",
          "y0": 4305,
          "y1": 4664,
          "yref": "y"
         },
         {
          "fillcolor": "#48b9c3",
          "layer": "below",
          "line": {
           "width": 0
          },
          "opacity": 1,
          "type": "rect",
          "x0": 0,
          "x1": 358,
          "xref": "x",
          "y0": 4664,
          "y1": 5024,
          "yref": "y"
         },
         {
          "fillcolor": "#abdeb7",
          "layer": "below",
          "line": {
           "width": 0
          },
          "opacity": 1,
          "type": "rect",
          "x0": 0,
          "x1": 358,
          "xref": "x",
          "y0": 5024,
          "y1": 5383,
          "yref": "y"
         },
         {
          "fillcolor": "#2da2c2",
          "layer": "below",
          "line": {
           "width": 0
          },
          "opacity": 1,
          "type": "rect",
          "x0": 0,
          "x1": 358,
          "xref": "x",
          "y0": 5383,
          "y1": 5743,
          "yref": "y"
         },
         {
          "fillcolor": "#c9eab4",
          "layer": "below",
          "line": {
           "width": 0
          },
          "opacity": 1,
          "type": "rect",
          "x0": 0,
          "x1": 358,
          "xref": "x",
          "y0": 5743,
          "y1": 6102,
          "yref": "y"
         },
         {
          "fillcolor": "#61c2bf",
          "layer": "below",
          "line": {
           "width": 0
          },
          "opacity": 1,
          "type": "rect",
          "x0": 0,
          "x1": 358,
          "xref": "x",
          "y0": 6102,
          "y1": 6461,
          "yref": "y"
         },
         {
          "fillcolor": "#46b8c3",
          "layer": "below",
          "line": {
           "width": 0
          },
          "opacity": 1,
          "type": "rect",
          "x0": 0,
          "x1": 358,
          "xref": "x",
          "y0": 6461,
          "y1": 6820,
          "yref": "y"
         },
         {
          "fillcolor": "#7cccbb",
          "layer": "below",
          "line": {
           "width": 0
          },
          "opacity": 1,
          "type": "rect",
          "x0": 0,
          "x1": 358,
          "xref": "x",
          "y0": 6820,
          "y1": 7179,
          "yref": "y"
         },
         {
          "fillcolor": "#d1edb3",
          "layer": "below",
          "line": {
           "width": 0
          },
          "opacity": 1,
          "type": "rect",
          "x0": 0,
          "x1": 358,
          "xref": "x",
          "y0": 7179,
          "y1": 7538,
          "yref": "y"
         },
         {
          "fillcolor": "#9cd8b8",
          "layer": "below",
          "line": {
           "width": 0
          },
          "opacity": 1,
          "type": "rect",
          "x0": 0,
          "x1": 358,
          "xref": "x",
          "y0": 7538,
          "y1": 7897,
          "yref": "y"
         },
         {
          "fillcolor": "#7cccbb",
          "layer": "below",
          "line": {
           "width": 0
          },
          "opacity": 1,
          "type": "rect",
          "x0": 0,
          "x1": 358,
          "xref": "x",
          "y0": 7897,
          "y1": 8256,
          "yref": "y"
         },
         {
          "fillcolor": "#6fc7bd",
          "layer": "below",
          "line": {
           "width": 0
          },
          "opacity": 1,
          "type": "rect",
          "x0": 0,
          "x1": 358,
          "xref": "x",
          "y0": 8256,
          "y1": 8614,
          "yref": "y"
         },
         {
          "fillcolor": "#bbe4b5",
          "layer": "below",
          "line": {
           "width": 0
          },
          "opacity": 1,
          "type": "rect",
          "x0": 0,
          "x1": 358,
          "xref": "x",
          "y0": 8614,
          "y1": 8973,
          "yref": "y"
         },
         {
          "fillcolor": "#9cd8b8",
          "layer": "below",
          "line": {
           "width": 0
          },
          "opacity": 1,
          "type": "rect",
          "x0": 0,
          "x1": 358,
          "xref": "x",
          "y0": 8973,
          "y1": 9332,
          "yref": "y"
         },
         {
          "fillcolor": "#53bdc1",
          "layer": "below",
          "line": {
           "width": 0
          },
          "opacity": 1,
          "type": "rect",
          "x0": 0,
          "x1": 358,
          "xref": "x",
          "y0": 9332,
          "y1": 9691,
          "yref": "y"
         },
         {
          "fillcolor": "#48b9c3",
          "layer": "below",
          "line": {
           "width": 0
          },
          "opacity": 1,
          "type": "rect",
          "x0": 0,
          "x1": 358,
          "xref": "x",
          "y0": 9691,
          "y1": 10051,
          "yref": "y"
         },
         {
          "fillcolor": "#8cd2ba",
          "layer": "below",
          "line": {
           "width": 0
          },
          "opacity": 1,
          "type": "rect",
          "x0": 0,
          "x1": 358,
          "xref": "x",
          "y0": 10051,
          "y1": 10410,
          "yref": "y"
         },
         {
          "fillcolor": "#9cd8b8",
          "layer": "below",
          "line": {
           "width": 0
          },
          "opacity": 1,
          "type": "rect",
          "x0": 0,
          "x1": 358,
          "xref": "x",
          "y0": 10410,
          "y1": 10770,
          "yref": "y"
         },
         {
          "fillcolor": "#46b8c3",
          "layer": "below",
          "line": {
           "width": 0
          },
          "opacity": 1,
          "type": "rect",
          "x0": 0,
          "x1": 358,
          "xref": "x",
          "y0": 10770,
          "y1": 11129,
          "yref": "y"
         },
         {
          "fillcolor": "#bbe4b5",
          "layer": "below",
          "line": {
           "width": 0
          },
          "opacity": 1,
          "type": "rect",
          "x0": 0,
          "x1": 358,
          "xref": "x",
          "y0": 11129,
          "y1": 11488,
          "yref": "y"
         },
         {
          "fillcolor": "#2498c1",
          "layer": "below",
          "line": {
           "width": 0
          },
          "opacity": 1,
          "type": "rect",
          "x0": 0,
          "x1": 358,
          "xref": "x",
          "y0": 11488,
          "y1": 11846,
          "yref": "y"
         },
         {
          "fillcolor": "#2ca1c2",
          "layer": "below",
          "line": {
           "width": 0
          },
          "opacity": 1,
          "type": "rect",
          "x0": 0,
          "x1": 358,
          "xref": "x",
          "y0": 11846,
          "y1": 12205,
          "yref": "y"
         },
         {
          "fillcolor": "#61c2bf",
          "layer": "below",
          "line": {
           "width": 0
          },
          "opacity": 1,
          "type": "rect",
          "x0": 0,
          "x1": 358,
          "xref": "x",
          "y0": 12205,
          "y1": 12563,
          "yref": "y"
         },
         {
          "fillcolor": "#1e86bb",
          "layer": "below",
          "line": {
           "width": 0
          },
          "opacity": 1,
          "type": "rect",
          "x0": 0,
          "x1": 358,
          "xref": "x",
          "y0": 12563,
          "y1": 12921,
          "yref": "y"
         },
         {
          "fillcolor": "#3cb1c3",
          "layer": "below",
          "line": {
           "width": 0
          },
          "opacity": 1,
          "type": "rect",
          "x0": 358,
          "x1": 716,
          "xref": "x",
          "y0": 716,
          "y1": 1074,
          "yref": "y"
         },
         {
          "fillcolor": "#abdeb7",
          "layer": "below",
          "line": {
           "width": 0
          },
          "opacity": 1,
          "type": "rect",
          "x0": 358,
          "x1": 716,
          "xref": "x",
          "y0": 1074,
          "y1": 1433,
          "yref": "y"
         },
         {
          "fillcolor": "#1f7bb6",
          "layer": "below",
          "line": {
           "width": 0
          },
          "opacity": 1,
          "type": "rect",
          "x0": 358,
          "x1": 716,
          "xref": "x",
          "y0": 1433,
          "y1": 1792,
          "yref": "y"
         },
         {
          "fillcolor": "#7cccbb",
          "layer": "below",
          "line": {
           "width": 0
          },
          "opacity": 1,
          "type": "rect",
          "x0": 358,
          "x1": 716,
          "xref": "x",
          "y0": 1792,
          "y1": 2152,
          "yref": "y"
         },
         {
          "fillcolor": "#2070b0",
          "layer": "below",
          "line": {
           "width": 0
          },
          "opacity": 1,
          "type": "rect",
          "x0": 358,
          "x1": 716,
          "xref": "x",
          "y0": 2152,
          "y1": 2512,
          "yref": "y"
         },
         {
          "fillcolor": "#9cd8b8",
          "layer": "below",
          "line": {
           "width": 0
          },
          "opacity": 1,
          "type": "rect",
          "x0": 358,
          "x1": 716,
          "xref": "x",
          "y0": 2512,
          "y1": 2871,
          "yref": "y"
         },
         {
          "fillcolor": "#1f7bb6",
          "layer": "below",
          "line": {
           "width": 0
          },
          "opacity": 1,
          "type": "rect",
          "x0": 358,
          "x1": 716,
          "xref": "x",
          "y0": 2871,
          "y1": 3231,
          "yref": "y"
         },
         {
          "fillcolor": "#fcfed1",
          "layer": "below",
          "line": {
           "width": 0
          },
          "opacity": 1,
          "type": "rect",
          "x0": 358,
          "x1": 716,
          "xref": "x",
          "y0": 3231,
          "y1": 3590,
          "yref": "y"
         },
         {
          "fillcolor": "#34a9c3",
          "layer": "below",
          "line": {
           "width": 0
          },
          "opacity": 1,
          "type": "rect",
          "x0": 358,
          "x1": 716,
          "xref": "x",
          "y0": 3590,
          "y1": 3949,
          "yref": "y"
         },
         {
          "fillcolor": "#9cd8b8",
          "layer": "below",
          "line": {
           "width": 0
          },
          "opacity": 1,
          "type": "rect",
          "x0": 358,
          "x1": 716,
          "xref": "x",
          "y0": 3949,
          "y1": 4305,
          "yref": "y"
         },
         {
          "fillcolor": "#fcfed1",
          "layer": "below",
          "line": {
           "width": 0
          },
          "opacity": 1,
          "type": "rect",
          "x0": 358,
          "x1": 716,
          "xref": "x",
          "y0": 4305,
          "y1": 4664,
          "yref": "y"
         },
         {
          "fillcolor": "#2498c1",
          "layer": "below",
          "line": {
           "width": 0
          },
          "opacity": 1,
          "type": "rect",
          "x0": 358,
          "x1": 716,
          "xref": "x",
          "y0": 4664,
          "y1": 5024,
          "yref": "y"
         },
         {
          "fillcolor": "#fcfed1",
          "layer": "below",
          "line": {
           "width": 0
          },
          "opacity": 1,
          "type": "rect",
          "x0": 358,
          "x1": 716,
          "xref": "x",
          "y0": 5024,
          "y1": 5383,
          "yref": "y"
         },
         {
          "fillcolor": "#1d90c0",
          "layer": "below",
          "line": {
           "width": 0
          },
          "opacity": 1,
          "type": "rect",
          "x0": 358,
          "x1": 716,
          "xref": "x",
          "y0": 5383,
          "y1": 5743,
          "yref": "y"
         },
         {
          "fillcolor": "#f4fbc0",
          "layer": "below",
          "line": {
           "width": 0
          },
          "opacity": 1,
          "type": "rect",
          "x0": 358,
          "x1": 716,
          "xref": "x",
          "y0": 5743,
          "y1": 6102,
          "yref": "y"
         },
         {
          "fillcolor": "#46b8c3",
          "layer": "below",
          "line": {
           "width": 0
          },
          "opacity": 1,
          "type": "rect",
          "x0": 358,
          "x1": 716,
          "xref": "x",
          "y0": 6102,
          "y1": 6461,
          "yref": "y"
         },
         {
          "fillcolor": "#61c2bf",
          "layer": "below",
          "line": {
           "width": 0
          },
          "opacity": 1,
          "type": "rect",
          "x0": 358,
          "x1": 716,
          "xref": "x",
          "y0": 6461,
          "y1": 6820,
          "yref": "y"
         },
         {
          "fillcolor": "#2498c1",
          "layer": "below",
          "line": {
           "width": 0
          },
          "opacity": 1,
          "type": "rect",
          "x0": 358,
          "x1": 716,
          "xref": "x",
          "y0": 6820,
          "y1": 7179,
          "yref": "y"
         },
         {
          "fillcolor": "#61c2bf",
          "layer": "below",
          "line": {
           "width": 0
          },
          "opacity": 1,
          "type": "rect",
          "x0": 358,
          "x1": 716,
          "xref": "x",
          "y0": 7179,
          "y1": 7538,
          "yref": "y"
         },
         {
          "fillcolor": "#f8fcc9",
          "layer": "below",
          "line": {
           "width": 0
          },
          "opacity": 1,
          "type": "rect",
          "x0": 358,
          "x1": 716,
          "xref": "x",
          "y0": 7538,
          "y1": 7897,
          "yref": "y"
         },
         {
          "fillcolor": "#61c2bf",
          "layer": "below",
          "line": {
           "width": 0
          },
          "opacity": 1,
          "type": "rect",
          "x0": 358,
          "x1": 716,
          "xref": "x",
          "y0": 7897,
          "y1": 8256,
          "yref": "y"
         },
         {
          "fillcolor": "#2498c1",
          "layer": "below",
          "line": {
           "width": 0
          },
          "opacity": 1,
          "type": "rect",
          "x0": 358,
          "x1": 716,
          "xref": "x",
          "y0": 8256,
          "y1": 8614,
          "yref": "y"
         },
         {
          "fillcolor": "#46b8c3",
          "layer": "below",
          "line": {
           "width": 0
          },
          "opacity": 1,
          "type": "rect",
          "x0": 358,
          "x1": 716,
          "xref": "x",
          "y0": 8614,
          "y1": 8973,
          "yref": "y"
         },
         {
          "fillcolor": "#f8fcc9",
          "layer": "below",
          "line": {
           "width": 0
          },
          "opacity": 1,
          "type": "rect",
          "x0": 358,
          "x1": 716,
          "xref": "x",
          "y0": 8973,
          "y1": 9332,
          "yref": "y"
         },
         {
          "fillcolor": "#daf0b3",
          "layer": "below",
          "line": {
           "width": 0
          },
          "opacity": 1,
          "type": "rect",
          "x0": 358,
          "x1": 716,
          "xref": "x",
          "y0": 9332,
          "y1": 9691,
          "yref": "y"
         },
         {
          "fillcolor": "#2498c1",
          "layer": "below",
          "line": {
           "width": 0
          },
          "opacity": 1,
          "type": "rect",
          "x0": 358,
          "x1": 716,
          "xref": "x",
          "y0": 9691,
          "y1": 10051,
          "yref": "y"
         },
         {
          "fillcolor": "#53bdc1",
          "layer": "below",
          "line": {
           "width": 0
          },
          "opacity": 1,
          "type": "rect",
          "x0": 358,
          "x1": 716,
          "xref": "x",
          "y0": 10051,
          "y1": 10410,
          "yref": "y"
         },
         {
          "fillcolor": "#f8fcc9",
          "layer": "below",
          "line": {
           "width": 0
          },
          "opacity": 1,
          "type": "rect",
          "x0": 358,
          "x1": 716,
          "xref": "x",
          "y0": 10410,
          "y1": 10770,
          "yref": "y"
         },
         {
          "fillcolor": "#2498c1",
          "layer": "below",
          "line": {
           "width": 0
          },
          "opacity": 1,
          "type": "rect",
          "x0": 358,
          "x1": 716,
          "xref": "x",
          "y0": 10770,
          "y1": 11129,
          "yref": "y"
         },
         {
          "fillcolor": "#9cd8b8",
          "layer": "below",
          "line": {
           "width": 0
          },
          "opacity": 1,
          "type": "rect",
          "x0": 358,
          "x1": 716,
          "xref": "x",
          "y0": 11129,
          "y1": 11488,
          "yref": "y"
         },
         {
          "fillcolor": "#7cccbb",
          "layer": "below",
          "line": {
           "width": 0
          },
          "opacity": 1,
          "type": "rect",
          "x0": 358,
          "x1": 716,
          "xref": "x",
          "y0": 11488,
          "y1": 11846,
          "yref": "y"
         },
         {
          "fillcolor": "#1d90c0",
          "layer": "below",
          "line": {
           "width": 0
          },
          "opacity": 1,
          "type": "rect",
          "x0": 358,
          "x1": 716,
          "xref": "x",
          "y0": 11846,
          "y1": 12205,
          "yref": "y"
         },
         {
          "fillcolor": "#34a9c3",
          "layer": "below",
          "line": {
           "width": 0
          },
          "opacity": 1,
          "type": "rect",
          "x0": 358,
          "x1": 716,
          "xref": "x",
          "y0": 12205,
          "y1": 12563,
          "yref": "y"
         },
         {
          "fillcolor": "#61c2bf",
          "layer": "below",
          "line": {
           "width": 0
          },
          "opacity": 1,
          "type": "rect",
          "x0": 358,
          "x1": 716,
          "xref": "x",
          "y0": 12563,
          "y1": 12921,
          "yref": "y"
         },
         {
          "fillcolor": "#61c2bf",
          "layer": "below",
          "line": {
           "width": 0
          },
          "opacity": 1,
          "type": "rect",
          "x0": 716,
          "x1": 1074,
          "xref": "x",
          "y0": 1074,
          "y1": 1433,
          "yref": "y"
         },
         {
          "fillcolor": "#259ac1",
          "layer": "below",
          "line": {
           "width": 0
          },
          "opacity": 1,
          "type": "rect",
          "x0": 716,
          "x1": 1074,
          "xref": "x",
          "y0": 1433,
          "y1": 1792,
          "yref": "y"
         },
         {
          "fillcolor": "#2da2c2",
          "layer": "below",
          "line": {
           "width": 0
          },
          "opacity": 1,
          "type": "rect",
          "x0": 716,
          "x1": 1074,
          "xref": "x",
          "y0": 1792,
          "y1": 2152,
          "yref": "y"
         },
         {
          "fillcolor": "#2166ac",
          "layer": "below",
          "line": {
           "width": 0
          },
          "opacity": 1,
          "type": "rect",
          "x0": 716,
          "x1": 1074,
          "xref": "x",
          "y0": 2152,
          "y1": 2512,
          "yref": "y"
         },
         {
          "fillcolor": "#53bdc1",
          "layer": "below",
          "line": {
           "width": 0
          },
          "opacity": 1,
          "type": "rect",
          "x0": 716,
          "x1": 1074,
          "xref": "x",
          "y0": 2512,
          "y1": 2871,
          "yref": "y"
         },
         {
          "fillcolor": "#2073b2",
          "layer": "below",
          "line": {
           "width": 0
          },
          "opacity": 1,
          "type": "rect",
          "x0": 716,
          "x1": 1074,
          "xref": "x",
          "y0": 2871,
          "y1": 3231,
          "yref": "y"
         },
         {
          "fillcolor": "#34a9c3",
          "layer": "below",
          "line": {
           "width": 0
          },
          "opacity": 1,
          "type": "rect",
          "x0": 716,
          "x1": 1074,
          "xref": "x",
          "y0": 3231,
          "y1": 3590,
          "yref": "y"
         },
         {
          "fillcolor": "#f4fbc0",
          "layer": "below",
          "line": {
           "width": 0
          },
          "opacity": 1,
          "type": "rect",
          "x0": 716,
          "x1": 1074,
          "xref": "x",
          "y0": 3590,
          "y1": 3949,
          "yref": "y"
         },
         {
          "fillcolor": "#2351a2",
          "layer": "below",
          "line": {
           "width": 0
          },
          "opacity": 1,
          "type": "rect",
          "x0": 716,
          "x1": 1074,
          "xref": "x",
          "y0": 3949,
          "y1": 4305,
          "yref": "y"
         },
         {
          "fillcolor": "#34a9c3",
          "layer": "below",
          "line": {
           "width": 0
          },
          "opacity": 1,
          "type": "rect",
          "x0": 716,
          "x1": 1074,
          "xref": "x",
          "y0": 4305,
          "y1": 4664,
          "yref": "y"
         },
         {
          "fillcolor": "#eaf7b1",
          "layer": "below",
          "line": {
           "width": 0
          },
          "opacity": 1,
          "type": "rect",
          "x0": 716,
          "x1": 1074,
          "xref": "x",
          "y0": 4664,
          "y1": 5024,
          "yref": "y"
         },
         {
          "fillcolor": "#34a9c3",
          "layer": "below",
          "line": {
           "width": 0
          },
          "opacity": 1,
          "type": "rect",
          "x0": 716,
          "x1": 1074,
          "xref": "x",
          "y0": 5024,
          "y1": 5383,
          "yref": "y"
         },
         {
          "fillcolor": "#d1edb3",
          "layer": "below",
          "line": {
           "width": 0
          },
          "opacity": 1,
          "type": "rect",
          "x0": 716,
          "x1": 1074,
          "xref": "x",
          "y0": 5383,
          "y1": 5743,
          "yref": "y"
         },
         {
          "fillcolor": "#2498c1",
          "layer": "below",
          "line": {
           "width": 0
          },
          "opacity": 1,
          "type": "rect",
          "x0": 716,
          "x1": 1074,
          "xref": "x",
          "y0": 5743,
          "y1": 6102,
          "yref": "y"
         },
         {
          "fillcolor": "#f8fcc9",
          "layer": "below",
          "line": {
           "width": 0
          },
          "opacity": 1,
          "type": "rect",
          "x0": 716,
          "x1": 1074,
          "xref": "x",
          "y0": 6102,
          "y1": 6461,
          "yref": "y"
         },
         {
          "fillcolor": "#6fc7bd",
          "layer": "below",
          "line": {
           "width": 0
          },
          "opacity": 1,
          "type": "rect",
          "x0": 716,
          "x1": 1074,
          "xref": "x",
          "y0": 6461,
          "y1": 6820,
          "yref": "y"
         },
         {
          "fillcolor": "#eaf7b1",
          "layer": "below",
          "line": {
           "width": 0
          },
          "opacity": 1,
          "type": "rect",
          "x0": 716,
          "x1": 1074,
          "xref": "x",
          "y0": 6820,
          "y1": 7179,
          "yref": "y"
         },
         {
          "fillcolor": "#6fc7bd",
          "layer": "below",
          "line": {
           "width": 0
          },
          "opacity": 1,
          "type": "rect",
          "x0": 716,
          "x1": 1074,
          "xref": "x",
          "y0": 7179,
          "y1": 7538,
          "yref": "y"
         },
         {
          "fillcolor": "#2da2c2",
          "layer": "below",
          "line": {
           "width": 0
          },
          "opacity": 1,
          "type": "rect",
          "x0": 716,
          "x1": 1074,
          "xref": "x",
          "y0": 7538,
          "y1": 7897,
          "yref": "y"
         },
         {
          "fillcolor": "#53bdc1",
          "layer": "below",
          "line": {
           "width": 0
          },
          "opacity": 1,
          "type": "rect",
          "x0": 716,
          "x1": 1074,
          "xref": "x",
          "y0": 7897,
          "y1": 8256,
          "yref": "y"
         },
         {
          "fillcolor": "#eaf7b1",
          "layer": "below",
          "line": {
           "width": 0
          },
          "opacity": 1,
          "type": "rect",
          "x0": 716,
          "x1": 1074,
          "xref": "x",
          "y0": 8256,
          "y1": 8614,
          "yref": "y"
         },
         {
          "fillcolor": "#53bdc1",
          "layer": "below",
          "line": {
           "width": 0
          },
          "opacity": 1,
          "type": "rect",
          "x0": 716,
          "x1": 1074,
          "xref": "x",
          "y0": 8614,
          "y1": 8973,
          "yref": "y"
         },
         {
          "fillcolor": "#2da2c2",
          "layer": "below",
          "line": {
           "width": 0
          },
          "opacity": 1,
          "type": "rect",
          "x0": 716,
          "x1": 1074,
          "xref": "x",
          "y0": 8973,
          "y1": 9332,
          "yref": "y"
         },
         {
          "fillcolor": "#7cccbb",
          "layer": "below",
          "line": {
           "width": 0
          },
          "opacity": 1,
          "type": "rect",
          "x0": 716,
          "x1": 1074,
          "xref": "x",
          "y0": 9332,
          "y1": 9691,
          "yref": "y"
         },
         {
          "fillcolor": "#f0f9b7",
          "layer": "below",
          "line": {
           "width": 0
          },
          "opacity": 1,
          "type": "rect",
          "x0": 716,
          "x1": 1074,
          "xref": "x",
          "y0": 9691,
          "y1": 10051,
          "yref": "y"
         },
         {
          "fillcolor": "#259ac1",
          "layer": "below",
          "line": {
           "width": 0
          },
          "opacity": 1,
          "type": "rect",
          "x0": 716,
          "x1": 1074,
          "xref": "x",
          "y0": 10051,
          "y1": 10410,
          "yref": "y"
         },
         {
          "fillcolor": "#2da2c2",
          "layer": "below",
          "line": {
           "width": 0
          },
          "opacity": 1,
          "type": "rect",
          "x0": 716,
          "x1": 1074,
          "xref": "x",
          "y0": 10410,
          "y1": 10770,
          "yref": "y"
         },
         {
          "fillcolor": "#f0f9b7",
          "layer": "below",
          "line": {
           "width": 0
          },
          "opacity": 1,
          "type": "rect",
          "x0": 716,
          "x1": 1074,
          "xref": "x",
          "y0": 10770,
          "y1": 11129,
          "yref": "y"
         },
         {
          "fillcolor": "#53bdc1",
          "layer": "below",
          "line": {
           "width": 0
          },
          "opacity": 1,
          "type": "rect",
          "x0": 716,
          "x1": 1074,
          "xref": "x",
          "y0": 11129,
          "y1": 11488,
          "yref": "y"
         },
         {
          "fillcolor": "#3db2c4",
          "layer": "below",
          "line": {
           "width": 0
          },
          "opacity": 1,
          "type": "rect",
          "x0": 716,
          "x1": 1074,
          "xref": "x",
          "y0": 11488,
          "y1": 11846,
          "yref": "y"
         },
         {
          "fillcolor": "#daf0b3",
          "layer": "below",
          "line": {
           "width": 0
          },
          "opacity": 1,
          "type": "rect",
          "x0": 716,
          "x1": 1074,
          "xref": "x",
          "y0": 11846,
          "y1": 12205,
          "yref": "y"
         },
         {
          "fillcolor": "#2165ab",
          "layer": "below",
          "line": {
           "width": 0
          },
          "opacity": 1,
          "type": "rect",
          "x0": 716,
          "x1": 1074,
          "xref": "x",
          "y0": 12205,
          "y1": 12563,
          "yref": "y"
         },
         {
          "fillcolor": "#2165ab",
          "layer": "below",
          "line": {
           "width": 0
          },
          "opacity": 1,
          "type": "rect",
          "x0": 716,
          "x1": 1074,
          "xref": "x",
          "y0": 12563,
          "y1": 12921,
          "yref": "y"
         },
         {
          "fillcolor": "#1e86bb",
          "layer": "below",
          "line": {
           "width": 0
          },
          "opacity": 1,
          "type": "rect",
          "x0": 1074,
          "x1": 1433,
          "xref": "x",
          "y0": 1433,
          "y1": 1792,
          "yref": "y"
         },
         {
          "fillcolor": "#c9eab4",
          "layer": "below",
          "line": {
           "width": 0
          },
          "opacity": 1,
          "type": "rect",
          "x0": 1074,
          "x1": 1433,
          "xref": "x",
          "y0": 1792,
          "y1": 2152,
          "yref": "y"
         },
         {
          "fillcolor": "#2352a3",
          "layer": "below",
          "line": {
           "width": 0
          },
          "opacity": 1,
          "type": "rect",
          "x0": 1074,
          "x1": 1433,
          "xref": "x",
          "y0": 2152,
          "y1": 2512,
          "yref": "y"
         },
         {
          "fillcolor": "#fcfed1",
          "layer": "below",
          "line": {
           "width": 0
          },
          "opacity": 1,
          "type": "rect",
          "x0": 1074,
          "x1": 1433,
          "xref": "x",
          "y0": 2512,
          "y1": 2871,
          "yref": "y"
         },
         {
          "fillcolor": "#225ca7",
          "layer": "below",
          "line": {
           "width": 0
          },
          "opacity": 1,
          "type": "rect",
          "x0": 1074,
          "x1": 1433,
          "xref": "x",
          "y0": 2871,
          "y1": 3231,
          "yref": "y"
         },
         {
          "fillcolor": "#bbe4b5",
          "layer": "below",
          "line": {
           "width": 0
          },
          "opacity": 1,
          "type": "rect",
          "x0": 1074,
          "x1": 1433,
          "xref": "x",
          "y0": 3231,
          "y1": 3590,
          "yref": "y"
         },
         {
          "fillcolor": "#53bdc1",
          "layer": "below",
          "line": {
           "width": 0
          },
          "opacity": 1,
          "type": "rect",
          "x0": 1074,
          "x1": 1433,
          "xref": "x",
          "y0": 3590,
          "y1": 3949,
          "yref": "y"
         },
         {
          "fillcolor": "#1d91c0",
          "layer": "below",
          "line": {
           "width": 0
          },
          "opacity": 1,
          "type": "rect",
          "x0": 1074,
          "x1": 1433,
          "xref": "x",
          "y0": 3949,
          "y1": 4305,
          "yref": "y"
         },
         {
          "fillcolor": "#bbe4b5",
          "layer": "below",
          "line": {
           "width": 0
          },
          "opacity": 1,
          "type": "rect",
          "x0": 1074,
          "x1": 1433,
          "xref": "x",
          "y0": 4305,
          "y1": 4664,
          "yref": "y"
         },
         {
          "fillcolor": "#3db2c4",
          "layer": "below",
          "line": {
           "width": 0
          },
          "opacity": 1,
          "type": "rect",
          "x0": 1074,
          "x1": 1433,
          "xref": "x",
          "y0": 4664,
          "y1": 5024,
          "yref": "y"
         },
         {
          "fillcolor": "#bbe4b5",
          "layer": "below",
          "line": {
           "width": 0
          },
          "opacity": 1,
          "type": "rect",
          "x0": 1074,
          "x1": 1433,
          "xref": "x",
          "y0": 5024,
          "y1": 5383,
          "yref": "y"
         },
         {
          "fillcolor": "#35aac3",
          "layer": "below",
          "line": {
           "width": 0
          },
          "opacity": 1,
          "type": "rect",
          "x0": 1074,
          "x1": 1433,
          "xref": "x",
          "y0": 5383,
          "y1": 5743,
          "yref": "y"
         },
         {
          "fillcolor": "#d1edb3",
          "layer": "below",
          "line": {
           "width": 0
          },
          "opacity": 1,
          "type": "rect",
          "x0": 1074,
          "x1": 1433,
          "xref": "x",
          "y0": 5743,
          "y1": 6102,
          "yref": "y"
         },
         {
          "fillcolor": "#6fc7bd",
          "layer": "below",
          "line": {
           "width": 0
          },
          "opacity": 1,
          "type": "rect",
          "x0": 1074,
          "x1": 1433,
          "xref": "x",
          "y0": 6102,
          "y1": 6461,
          "yref": "y"
         },
         {
          "fillcolor": "#c9eab4",
          "layer": "below",
          "line": {
           "width": 0
          },
          "opacity": 1,
          "type": "rect",
          "x0": 1074,
          "x1": 1433,
          "xref": "x",
          "y0": 6461,
          "y1": 6820,
          "yref": "y"
         },
         {
          "fillcolor": "#6fc7bd",
          "layer": "below",
          "line": {
           "width": 0
          },
          "opacity": 1,
          "type": "rect",
          "x0": 1074,
          "x1": 1433,
          "xref": "x",
          "y0": 6820,
          "y1": 7179,
          "yref": "y"
         },
         {
          "fillcolor": "#abdeb7",
          "layer": "below",
          "line": {
           "width": 0
          },
          "opacity": 1,
          "type": "rect",
          "x0": 1074,
          "x1": 1433,
          "xref": "x",
          "y0": 7179,
          "y1": 7538,
          "yref": "y"
         },
         {
          "fillcolor": "#abdeb7",
          "layer": "below",
          "line": {
           "width": 0
          },
          "opacity": 1,
          "type": "rect",
          "x0": 1074,
          "x1": 1433,
          "xref": "x",
          "y0": 7538,
          "y1": 7897,
          "yref": "y"
         },
         {
          "fillcolor": "#daf0b3",
          "layer": "below",
          "line": {
           "width": 0
          },
          "opacity": 1,
          "type": "rect",
          "x0": 1074,
          "x1": 1433,
          "xref": "x",
          "y0": 7897,
          "y1": 8256,
          "yref": "y"
         },
         {
          "fillcolor": "#61c2bf",
          "layer": "below",
          "line": {
           "width": 0
          },
          "opacity": 1,
          "type": "rect",
          "x0": 1074,
          "x1": 1433,
          "xref": "x",
          "y0": 8256,
          "y1": 8614,
          "yref": "y"
         },
         {
          "fillcolor": "#8cd2ba",
          "layer": "below",
          "line": {
           "width": 0
          },
          "opacity": 1,
          "type": "rect",
          "x0": 1074,
          "x1": 1433,
          "xref": "x",
          "y0": 8614,
          "y1": 8973,
          "yref": "y"
         },
         {
          "fillcolor": "#abdeb7",
          "layer": "below",
          "line": {
           "width": 0
          },
          "opacity": 1,
          "type": "rect",
          "x0": 1074,
          "x1": 1433,
          "xref": "x",
          "y0": 8973,
          "y1": 9332,
          "yref": "y"
         },
         {
          "fillcolor": "#61c2bf",
          "layer": "below",
          "line": {
           "width": 0
          },
          "opacity": 1,
          "type": "rect",
          "x0": 1074,
          "x1": 1433,
          "xref": "x",
          "y0": 9332,
          "y1": 9691,
          "yref": "y"
         },
         {
          "fillcolor": "#3db2c4",
          "layer": "below",
          "line": {
           "width": 0
          },
          "opacity": 1,
          "type": "rect",
          "x0": 1074,
          "x1": 1433,
          "xref": "x",
          "y0": 9691,
          "y1": 10051,
          "yref": "y"
         },
         {
          "fillcolor": "#48b9c3",
          "layer": "below",
          "line": {
           "width": 0
          },
          "opacity": 1,
          "type": "rect",
          "x0": 1074,
          "x1": 1433,
          "xref": "x",
          "y0": 10051,
          "y1": 10410,
          "yref": "y"
         },
         {
          "fillcolor": "#abdeb7",
          "layer": "below",
          "line": {
           "width": 0
          },
          "opacity": 1,
          "type": "rect",
          "x0": 1074,
          "x1": 1433,
          "xref": "x",
          "y0": 10410,
          "y1": 10770,
          "yref": "y"
         },
         {
          "fillcolor": "#3cb1c3",
          "layer": "below",
          "line": {
           "width": 0
          },
          "opacity": 1,
          "type": "rect",
          "x0": 1074,
          "x1": 1433,
          "xref": "x",
          "y0": 10770,
          "y1": 11129,
          "yref": "y"
         },
         {
          "fillcolor": "#fcfed1",
          "layer": "below",
          "line": {
           "width": 0
          },
          "opacity": 1,
          "type": "rect",
          "x0": 1074,
          "x1": 1433,
          "xref": "x",
          "y0": 11129,
          "y1": 11488,
          "yref": "y"
         },
         {
          "fillcolor": "#1f7bb6",
          "layer": "below",
          "line": {
           "width": 0
          },
          "opacity": 1,
          "type": "rect",
          "x0": 1074,
          "x1": 1433,
          "xref": "x",
          "y0": 11488,
          "y1": 11846,
          "yref": "y"
         },
         {
          "fillcolor": "#34a9c3",
          "layer": "below",
          "line": {
           "width": 0
          },
          "opacity": 1,
          "type": "rect",
          "x0": 1074,
          "x1": 1433,
          "xref": "x",
          "y0": 11846,
          "y1": 12205,
          "yref": "y"
         },
         {
          "fillcolor": "#1d91c0",
          "layer": "below",
          "line": {
           "width": 0
          },
          "opacity": 1,
          "type": "rect",
          "x0": 1074,
          "x1": 1433,
          "xref": "x",
          "y0": 12205,
          "y1": 12563,
          "yref": "y"
         },
         {
          "fillcolor": "#2165ab",
          "layer": "below",
          "line": {
           "width": 0
          },
          "opacity": 1,
          "type": "rect",
          "x0": 1074,
          "x1": 1433,
          "xref": "x",
          "y0": 12563,
          "y1": 12921,
          "yref": "y"
         },
         {
          "fillcolor": "#2166ac",
          "layer": "below",
          "line": {
           "width": 0
          },
          "opacity": 1,
          "type": "rect",
          "x0": 1433,
          "x1": 1792,
          "xref": "x",
          "y0": 1792,
          "y1": 2152,
          "yref": "y"
         },
         {
          "fillcolor": "#1f93c0",
          "layer": "below",
          "line": {
           "width": 0
          },
          "opacity": 1,
          "type": "rect",
          "x0": 1433,
          "x1": 1792,
          "xref": "x",
          "y0": 2152,
          "y1": 2512,
          "yref": "y"
         },
         {
          "fillcolor": "#1f7bb6",
          "layer": "below",
          "line": {
           "width": 0
          },
          "opacity": 1,
          "type": "rect",
          "x0": 1433,
          "x1": 1792,
          "xref": "x",
          "y0": 2512,
          "y1": 2871,
          "yref": "y"
         },
         {
          "fillcolor": "#f0f9b7",
          "layer": "below",
          "line": {
           "width": 0
          },
          "opacity": 1,
          "type": "rect",
          "x0": 1433,
          "x1": 1792,
          "xref": "x",
          "y0": 2871,
          "y1": 3231,
          "yref": "y"
         },
         {
          "fillcolor": "#2070b0",
          "layer": "below",
          "line": {
           "width": 0
          },
          "opacity": 1,
          "type": "rect",
          "x0": 1433,
          "x1": 1792,
          "xref": "x",
          "y0": 3231,
          "y1": 3590,
          "yref": "y"
         },
         {
          "fillcolor": "#1d91c0",
          "layer": "below",
          "line": {
           "width": 0
          },
          "opacity": 1,
          "type": "rect",
          "x0": 1433,
          "x1": 1792,
          "xref": "x",
          "y0": 3590,
          "y1": 3949,
          "yref": "y"
         },
         {
          "fillcolor": "#2351a2",
          "layer": "below",
          "line": {
           "width": 0
          },
          "opacity": 1,
          "type": "rect",
          "x0": 1433,
          "x1": 1792,
          "xref": "x",
          "y0": 3949,
          "y1": 4305,
          "yref": "y"
         },
         {
          "fillcolor": "#2070b0",
          "layer": "below",
          "line": {
           "width": 0
          },
          "opacity": 1,
          "type": "rect",
          "x0": 1433,
          "x1": 1792,
          "xref": "x",
          "y0": 4305,
          "y1": 4664,
          "yref": "y"
         },
         {
          "fillcolor": "#1d91c0",
          "layer": "below",
          "line": {
           "width": 0
          },
          "opacity": 1,
          "type": "rect",
          "x0": 1433,
          "x1": 1792,
          "xref": "x",
          "y0": 4664,
          "y1": 5024,
          "yref": "y"
         },
         {
          "fillcolor": "#2070b0",
          "layer": "below",
          "line": {
           "width": 0
          },
          "opacity": 1,
          "type": "rect",
          "x0": 1433,
          "x1": 1792,
          "xref": "x",
          "y0": 5024,
          "y1": 5383,
          "yref": "y"
         },
         {
          "fillcolor": "#1e86bb",
          "layer": "below",
          "line": {
           "width": 0
          },
          "opacity": 1,
          "type": "rect",
          "x0": 1433,
          "x1": 1792,
          "xref": "x",
          "y0": 5383,
          "y1": 5743,
          "yref": "y"
         },
         {
          "fillcolor": "#225aa6",
          "layer": "below",
          "line": {
           "width": 0
          },
          "opacity": 1,
          "type": "rect",
          "x0": 1433,
          "x1": 1792,
          "xref": "x",
          "y0": 5743,
          "y1": 6102,
          "yref": "y"
         },
         {
          "fillcolor": "#1d91c0",
          "layer": "below",
          "line": {
           "width": 0
          },
          "opacity": 1,
          "type": "rect",
          "x0": 1433,
          "x1": 1792,
          "xref": "x",
          "y0": 6102,
          "y1": 6461,
          "yref": "y"
         },
         {
          "fillcolor": "#2166ac",
          "layer": "below",
          "line": {
           "width": 0
          },
          "opacity": 1,
          "type": "rect",
          "x0": 1433,
          "x1": 1792,
          "xref": "x",
          "y0": 6461,
          "y1": 6820,
          "yref": "y"
         },
         {
          "fillcolor": "#1d91c0",
          "layer": "below",
          "line": {
           "width": 0
          },
          "opacity": 1,
          "type": "rect",
          "x0": 1433,
          "x1": 1792,
          "xref": "x",
          "y0": 6820,
          "y1": 7179,
          "yref": "y"
         },
         {
          "fillcolor": "#2165ab",
          "layer": "below",
          "line": {
           "width": 0
          },
          "opacity": 1,
          "type": "rect",
          "x0": 1433,
          "x1": 1792,
          "xref": "x",
          "y0": 7179,
          "y1": 7538,
          "yref": "y"
         },
         {
          "fillcolor": "#2166ac",
          "layer": "below",
          "line": {
           "width": 0
          },
          "opacity": 1,
          "type": "rect",
          "x0": 1433,
          "x1": 1792,
          "xref": "x",
          "y0": 7538,
          "y1": 7897,
          "yref": "y"
         },
         {
          "fillcolor": "#1d91c0",
          "layer": "below",
          "line": {
           "width": 0
          },
          "opacity": 1,
          "type": "rect",
          "x0": 1433,
          "x1": 1792,
          "xref": "x",
          "y0": 7897,
          "y1": 8256,
          "yref": "y"
         },
         {
          "fillcolor": "#1d91c0",
          "layer": "below",
          "line": {
           "width": 0
          },
          "opacity": 1,
          "type": "rect",
          "x0": 1433,
          "x1": 1792,
          "xref": "x",
          "y0": 8256,
          "y1": 8614,
          "yref": "y"
         },
         {
          "fillcolor": "#2351a2",
          "layer": "below",
          "line": {
           "width": 0
          },
          "opacity": 1,
          "type": "rect",
          "x0": 1433,
          "x1": 1792,
          "xref": "x",
          "y0": 8614,
          "y1": 8973,
          "yref": "y"
         },
         {
          "fillcolor": "#2166ac",
          "layer": "below",
          "line": {
           "width": 0
          },
          "opacity": 1,
          "type": "rect",
          "x0": 1433,
          "x1": 1792,
          "xref": "x",
          "y0": 8973,
          "y1": 9332,
          "yref": "y"
         },
         {
          "fillcolor": "#2072b1",
          "layer": "below",
          "line": {
           "width": 0
          },
          "opacity": 1,
          "type": "rect",
          "x0": 1433,
          "x1": 1792,
          "xref": "x",
          "y0": 9332,
          "y1": 9691,
          "yref": "y"
         },
         {
          "fillcolor": "#1f7db6",
          "layer": "below",
          "line": {
           "width": 0
          },
          "opacity": 1,
          "type": "rect",
          "x0": 1433,
          "x1": 1792,
          "xref": "x",
          "y0": 9691,
          "y1": 10051,
          "yref": "y"
         },
         {
          "fillcolor": "#61c2bf",
          "layer": "below",
          "line": {
           "width": 0
          },
          "opacity": 1,
          "type": "rect",
          "x0": 1433,
          "x1": 1792,
          "xref": "x",
          "y0": 10051,
          "y1": 10410,
          "yref": "y"
         },
         {
          "fillcolor": "#2166ac",
          "layer": "below",
          "line": {
           "width": 0
          },
          "opacity": 1,
          "type": "rect",
          "x0": 1433,
          "x1": 1792,
          "xref": "x",
          "y0": 10410,
          "y1": 10770,
          "yref": "y"
         },
         {
          "fillcolor": "#1f7db6",
          "layer": "below",
          "line": {
           "width": 0
          },
          "opacity": 1,
          "type": "rect",
          "x0": 1433,
          "x1": 1792,
          "xref": "x",
          "y0": 10770,
          "y1": 11129,
          "yref": "y"
         },
         {
          "fillcolor": "#1f7bb6",
          "layer": "below",
          "line": {
           "width": 0
          },
          "opacity": 1,
          "type": "rect",
          "x0": 1433,
          "x1": 1792,
          "xref": "x",
          "y0": 11129,
          "y1": 11488,
          "yref": "y"
         },
         {
          "fillcolor": "#2352a3",
          "layer": "below",
          "line": {
           "width": 0
          },
          "opacity": 1,
          "type": "rect",
          "x0": 1433,
          "x1": 1792,
          "xref": "x",
          "y0": 11488,
          "y1": 11846,
          "yref": "y"
         },
         {
          "fillcolor": "#2072b1",
          "layer": "below",
          "line": {
           "width": 0
          },
          "opacity": 1,
          "type": "rect",
          "x0": 1433,
          "x1": 1792,
          "xref": "x",
          "y0": 11846,
          "y1": 12205,
          "yref": "y"
         },
         {
          "fillcolor": "#8cd2ba",
          "layer": "below",
          "line": {
           "width": 0
          },
          "opacity": 1,
          "type": "rect",
          "x0": 1433,
          "x1": 1792,
          "xref": "x",
          "y0": 12205,
          "y1": 12563,
          "yref": "y"
         },
         {
          "fillcolor": "#081d58",
          "layer": "below",
          "line": {
           "width": 0
          },
          "opacity": 1,
          "type": "rect",
          "x0": 1433,
          "x1": 1792,
          "xref": "x",
          "y0": 12563,
          "y1": 12921,
          "yref": "y"
         },
         {
          "fillcolor": "#24419a",
          "layer": "below",
          "line": {
           "width": 0
          },
          "opacity": 1,
          "type": "rect",
          "x0": 1792,
          "x1": 2152,
          "xref": "x",
          "y0": 2152,
          "y1": 2512,
          "yref": "y"
         },
         {
          "fillcolor": "#bbe4b5",
          "layer": "below",
          "line": {
           "width": 0
          },
          "opacity": 1,
          "type": "rect",
          "x0": 1792,
          "x1": 2152,
          "xref": "x",
          "y0": 2512,
          "y1": 2871,
          "yref": "y"
         },
         {
          "fillcolor": "#234b9f",
          "layer": "below",
          "line": {
           "width": 0
          },
          "opacity": 1,
          "type": "rect",
          "x0": 1792,
          "x1": 2152,
          "xref": "x",
          "y0": 2871,
          "y1": 3231,
          "yref": "y"
         },
         {
          "fillcolor": "#8cd2ba",
          "layer": "below",
          "line": {
           "width": 0
          },
          "opacity": 1,
          "type": "rect",
          "x0": 1792,
          "x1": 2152,
          "xref": "x",
          "y0": 3231,
          "y1": 3590,
          "yref": "y"
         },
         {
          "fillcolor": "#259ac1",
          "layer": "below",
          "line": {
           "width": 0
          },
          "opacity": 1,
          "type": "rect",
          "x0": 1792,
          "x1": 2152,
          "xref": "x",
          "y0": 3590,
          "y1": 3949,
          "yref": "y"
         },
         {
          "fillcolor": "#2072b1",
          "layer": "below",
          "line": {
           "width": 0
          },
          "opacity": 1,
          "type": "rect",
          "x0": 1792,
          "x1": 2152,
          "xref": "x",
          "y0": 3949,
          "y1": 4305,
          "yref": "y"
         },
         {
          "fillcolor": "#8cd2ba",
          "layer": "below",
          "line": {
           "width": 0
          },
          "opacity": 1,
          "type": "rect",
          "x0": 1792,
          "x1": 2152,
          "xref": "x",
          "y0": 4305,
          "y1": 4664,
          "yref": "y"
         },
         {
          "fillcolor": "#1e86bb",
          "layer": "below",
          "line": {
           "width": 0
          },
          "opacity": 1,
          "type": "rect",
          "x0": 1792,
          "x1": 2152,
          "xref": "x",
          "y0": 4664,
          "y1": 5024,
          "yref": "y"
         },
         {
          "fillcolor": "#8cd2ba",
          "layer": "below",
          "line": {
           "width": 0
          },
          "opacity": 1,
          "type": "rect",
          "x0": 1792,
          "x1": 2152,
          "xref": "x",
          "y0": 5024,
          "y1": 5383,
          "yref": "y"
         },
         {
          "fillcolor": "#1f7db6",
          "layer": "below",
          "line": {
           "width": 0
          },
          "opacity": 1,
          "type": "rect",
          "x0": 1792,
          "x1": 2152,
          "xref": "x",
          "y0": 5383,
          "y1": 5743,
          "yref": "y"
         },
         {
          "fillcolor": "#6fc7bd",
          "layer": "below",
          "line": {
           "width": 0
          },
          "opacity": 1,
          "type": "rect",
          "x0": 1792,
          "x1": 2152,
          "xref": "x",
          "y0": 5743,
          "y1": 6102,
          "yref": "y"
         },
         {
          "fillcolor": "#35aac3",
          "layer": "below",
          "line": {
           "width": 0
          },
          "opacity": 1,
          "type": "rect",
          "x0": 1792,
          "x1": 2152,
          "xref": "x",
          "y0": 6102,
          "y1": 6461,
          "yref": "y"
         },
         {
          "fillcolor": "#7cccbb",
          "layer": "below",
          "line": {
           "width": 0
          },
          "opacity": 1,
          "type": "rect",
          "x0": 1792,
          "x1": 2152,
          "xref": "x",
          "y0": 6461,
          "y1": 6820,
          "yref": "y"
         },
         {
          "fillcolor": "#1e86bb",
          "layer": "below",
          "line": {
           "width": 0
          },
          "opacity": 1,
          "type": "rect",
          "x0": 1792,
          "x1": 2152,
          "xref": "x",
          "y0": 6820,
          "y1": 7179,
          "yref": "y"
         },
         {
          "fillcolor": "#36abc3",
          "layer": "below",
          "line": {
           "width": 0
          },
          "opacity": 1,
          "type": "rect",
          "x0": 1792,
          "x1": 2152,
          "xref": "x",
          "y0": 7179,
          "y1": 7538,
          "yref": "y"
         },
         {
          "fillcolor": "#8cd2ba",
          "layer": "below",
          "line": {
           "width": 0
          },
          "opacity": 1,
          "type": "rect",
          "x0": 1792,
          "x1": 2152,
          "xref": "x",
          "y0": 7538,
          "y1": 7897,
          "yref": "y"
         },
         {
          "fillcolor": "#7cccbb",
          "layer": "below",
          "line": {
           "width": 0
          },
          "opacity": 1,
          "type": "rect",
          "x0": 1792,
          "x1": 2152,
          "xref": "x",
          "y0": 7897,
          "y1": 8256,
          "yref": "y"
         },
         {
          "fillcolor": "#1e86bb",
          "layer": "below",
          "line": {
           "width": 0
          },
          "opacity": 1,
          "type": "rect",
          "x0": 1792,
          "x1": 2152,
          "xref": "x",
          "y0": 8256,
          "y1": 8614,
          "yref": "y"
         },
         {
          "fillcolor": "#269bc1",
          "layer": "below",
          "line": {
           "width": 0
          },
          "opacity": 1,
          "type": "rect",
          "x0": 1792,
          "x1": 2152,
          "xref": "x",
          "y0": 8614,
          "y1": 8973,
          "yref": "y"
         },
         {
          "fillcolor": "#8cd2ba",
          "layer": "below",
          "line": {
           "width": 0
          },
          "opacity": 1,
          "type": "rect",
          "x0": 1792,
          "x1": 2152,
          "xref": "x",
          "y0": 8973,
          "y1": 9332,
          "yref": "y"
         },
         {
          "fillcolor": "#3db2c4",
          "layer": "below",
          "line": {
           "width": 0
          },
          "opacity": 1,
          "type": "rect",
          "x0": 1792,
          "x1": 2152,
          "xref": "x",
          "y0": 9332,
          "y1": 9691,
          "yref": "y"
         },
         {
          "fillcolor": "#259ac1",
          "layer": "below",
          "line": {
           "width": 0
          },
          "opacity": 1,
          "type": "rect",
          "x0": 1792,
          "x1": 2152,
          "xref": "x",
          "y0": 9691,
          "y1": 10051,
          "yref": "y"
         },
         {
          "fillcolor": "#259ac1",
          "layer": "below",
          "line": {
           "width": 0
          },
          "opacity": 1,
          "type": "rect",
          "x0": 1792,
          "x1": 2152,
          "xref": "x",
          "y0": 10051,
          "y1": 10410,
          "yref": "y"
         },
         {
          "fillcolor": "#7ecdbb",
          "layer": "below",
          "line": {
           "width": 0
          },
          "opacity": 1,
          "type": "rect",
          "x0": 1792,
          "x1": 2152,
          "xref": "x",
          "y0": 10410,
          "y1": 10770,
          "yref": "y"
         },
         {
          "fillcolor": "#1e86bb",
          "layer": "below",
          "line": {
           "width": 0
          },
          "opacity": 1,
          "type": "rect",
          "x0": 1792,
          "x1": 2152,
          "xref": "x",
          "y0": 10770,
          "y1": 11129,
          "yref": "y"
         },
         {
          "fillcolor": "#bbe4b5",
          "layer": "below",
          "line": {
           "width": 0
          },
          "opacity": 1,
          "type": "rect",
          "x0": 1792,
          "x1": 2152,
          "xref": "x",
          "y0": 11129,
          "y1": 11488,
          "yref": "y"
         },
         {
          "fillcolor": "#2166ac",
          "layer": "below",
          "line": {
           "width": 0
          },
          "opacity": 1,
          "type": "rect",
          "x0": 1792,
          "x1": 2152,
          "xref": "x",
          "y0": 11488,
          "y1": 11846,
          "yref": "y"
         },
         {
          "fillcolor": "#1f7bb6",
          "layer": "below",
          "line": {
           "width": 0
          },
          "opacity": 1,
          "type": "rect",
          "x0": 1792,
          "x1": 2152,
          "xref": "x",
          "y0": 11846,
          "y1": 12205,
          "yref": "y"
         },
         {
          "fillcolor": "#2072b1",
          "layer": "below",
          "line": {
           "width": 0
          },
          "opacity": 1,
          "type": "rect",
          "x0": 1792,
          "x1": 2152,
          "xref": "x",
          "y0": 12205,
          "y1": 12563,
          "yref": "y"
         },
         {
          "fillcolor": "#234b9f",
          "layer": "below",
          "line": {
           "width": 0
          },
          "opacity": 1,
          "type": "rect",
          "x0": 1792,
          "x1": 2152,
          "xref": "x",
          "y0": 12563,
          "y1": 12921,
          "yref": "y"
         },
         {
          "fillcolor": "#234b9f",
          "layer": "below",
          "line": {
           "width": 0
          },
          "opacity": 1,
          "type": "rect",
          "x0": 2152,
          "x1": 2512,
          "xref": "x",
          "y0": 2512,
          "y1": 2871,
          "yref": "y"
         },
         {
          "fillcolor": "#3db2c4",
          "layer": "below",
          "line": {
           "width": 0
          },
          "opacity": 1,
          "type": "rect",
          "x0": 2152,
          "x1": 2512,
          "xref": "x",
          "y0": 2871,
          "y1": 3231,
          "yref": "y"
         },
         {
          "fillcolor": "#2166ac",
          "layer": "below",
          "line": {
           "width": 0
          },
          "opacity": 1,
          "type": "rect",
          "x0": 2152,
          "x1": 2512,
          "xref": "x",
          "y0": 3231,
          "y1": 3590,
          "yref": "y"
         },
         {
          "fillcolor": "#225ca7",
          "layer": "below",
          "line": {
           "width": 0
          },
          "opacity": 1,
          "type": "rect",
          "x0": 2152,
          "x1": 2512,
          "xref": "x",
          "y0": 3590,
          "y1": 3949,
          "yref": "y"
         },
         {
          "fillcolor": "#2072b1",
          "layer": "below",
          "line": {
           "width": 0
          },
          "opacity": 1,
          "type": "rect",
          "x0": 2152,
          "x1": 2512,
          "xref": "x",
          "y0": 3949,
          "y1": 4305,
          "yref": "y"
         },
         {
          "fillcolor": "#2166ac",
          "layer": "below",
          "line": {
           "width": 0
          },
          "opacity": 1,
          "type": "rect",
          "x0": 2152,
          "x1": 2512,
          "xref": "x",
          "y0": 4305,
          "y1": 4664,
          "yref": "y"
         },
         {
          "fillcolor": "#269bc1",
          "layer": "below",
          "line": {
           "width": 0
          },
          "opacity": 1,
          "type": "rect",
          "x0": 2152,
          "x1": 2512,
          "xref": "x",
          "y0": 4664,
          "y1": 5024,
          "yref": "y"
         },
         {
          "fillcolor": "#2166ac",
          "layer": "below",
          "line": {
           "width": 0
          },
          "opacity": 1,
          "type": "rect",
          "x0": 2152,
          "x1": 2512,
          "xref": "x",
          "y0": 5024,
          "y1": 5383,
          "yref": "y"
         },
         {
          "fillcolor": "#3db2c4",
          "layer": "below",
          "line": {
           "width": 0
          },
          "opacity": 1,
          "type": "rect",
          "x0": 2152,
          "x1": 2512,
          "xref": "x",
          "y0": 5383,
          "y1": 5743,
          "yref": "y"
         },
         {
          "fillcolor": "#2352a3",
          "layer": "below",
          "line": {
           "width": 0
          },
          "opacity": 1,
          "type": "rect",
          "x0": 2152,
          "x1": 2512,
          "xref": "x",
          "y0": 5743,
          "y1": 6102,
          "yref": "y"
         },
         {
          "fillcolor": "#225ca7",
          "layer": "below",
          "line": {
           "width": 0
          },
          "opacity": 1,
          "type": "rect",
          "x0": 2152,
          "x1": 2512,
          "xref": "x",
          "y0": 6102,
          "y1": 6461,
          "yref": "y"
         },
         {
          "fillcolor": "#1e88bc",
          "layer": "below",
          "line": {
           "width": 0
          },
          "opacity": 1,
          "type": "rect",
          "x0": 2152,
          "x1": 2512,
          "xref": "x",
          "y0": 6461,
          "y1": 6820,
          "yref": "y"
         },
         {
          "fillcolor": "#234b9f",
          "layer": "below",
          "line": {
           "width": 0
          },
          "opacity": 1,
          "type": "rect",
          "x0": 2152,
          "x1": 2512,
          "xref": "x",
          "y0": 6820,
          "y1": 7179,
          "yref": "y"
         },
         {
          "fillcolor": "#225ca7",
          "layer": "below",
          "line": {
           "width": 0
          },
          "opacity": 1,
          "type": "rect",
          "x0": 2152,
          "x1": 2512,
          "xref": "x",
          "y0": 7179,
          "y1": 7538,
          "yref": "y"
         },
         {
          "fillcolor": "#225ca7",
          "layer": "below",
          "line": {
           "width": 0
          },
          "opacity": 1,
          "type": "rect",
          "x0": 2152,
          "x1": 2512,
          "xref": "x",
          "y0": 7538,
          "y1": 7897,
          "yref": "y"
         },
         {
          "fillcolor": "#1b2c80",
          "layer": "below",
          "line": {
           "width": 0
          },
          "opacity": 1,
          "type": "rect",
          "x0": 2152,
          "x1": 2512,
          "xref": "x",
          "y0": 7897,
          "y1": 8256,
          "yref": "y"
         },
         {
          "fillcolor": "#234b9f",
          "layer": "below",
          "line": {
           "width": 0
          },
          "opacity": 1,
          "type": "rect",
          "x0": 2152,
          "x1": 2512,
          "xref": "x",
          "y0": 8256,
          "y1": 8614,
          "yref": "y"
         },
         {
          "fillcolor": "#23499e",
          "layer": "below",
          "line": {
           "width": 0
          },
          "opacity": 1,
          "type": "rect",
          "x0": 2152,
          "x1": 2512,
          "xref": "x",
          "y0": 8614,
          "y1": 8973,
          "yref": "y"
         },
         {
          "fillcolor": "#225ca7",
          "layer": "below",
          "line": {
           "width": 0
          },
          "opacity": 1,
          "type": "rect",
          "x0": 2152,
          "x1": 2512,
          "xref": "x",
          "y0": 8973,
          "y1": 9332,
          "yref": "y"
         },
         {
          "fillcolor": "#2166ac",
          "layer": "below",
          "line": {
           "width": 0
          },
          "opacity": 1,
          "type": "rect",
          "x0": 2152,
          "x1": 2512,
          "xref": "x",
          "y0": 9332,
          "y1": 9691,
          "yref": "y"
         },
         {
          "fillcolor": "#2352a3",
          "layer": "below",
          "line": {
           "width": 0
          },
          "opacity": 1,
          "type": "rect",
          "x0": 2152,
          "x1": 2512,
          "xref": "x",
          "y0": 9691,
          "y1": 10051,
          "yref": "y"
         },
         {
          "fillcolor": "#8cd2ba",
          "layer": "below",
          "line": {
           "width": 0
          },
          "opacity": 1,
          "type": "rect",
          "x0": 2152,
          "x1": 2512,
          "xref": "x",
          "y0": 10051,
          "y1": 10410,
          "yref": "y"
         },
         {
          "fillcolor": "#225ca7",
          "layer": "below",
          "line": {
           "width": 0
          },
          "opacity": 1,
          "type": "rect",
          "x0": 2152,
          "x1": 2512,
          "xref": "x",
          "y0": 10410,
          "y1": 10770,
          "yref": "y"
         },
         {
          "fillcolor": "#234b9f",
          "layer": "below",
          "line": {
           "width": 0
          },
          "opacity": 1,
          "type": "rect",
          "x0": 2152,
          "x1": 2512,
          "xref": "x",
          "y0": 10770,
          "y1": 11129,
          "yref": "y"
         },
         {
          "fillcolor": "#234b9f",
          "layer": "below",
          "line": {
           "width": 0
          },
          "opacity": 1,
          "type": "rect",
          "x0": 2152,
          "x1": 2512,
          "xref": "x",
          "y0": 11129,
          "y1": 11488,
          "yref": "y"
         },
         {
          "fillcolor": "#225aa6",
          "layer": "below",
          "line": {
           "width": 0
          },
          "opacity": 1,
          "type": "rect",
          "x0": 2152,
          "x1": 2512,
          "xref": "x",
          "y0": 11488,
          "y1": 11846,
          "yref": "y"
         },
         {
          "fillcolor": "#24419a",
          "layer": "below",
          "line": {
           "width": 0
          },
          "opacity": 1,
          "type": "rect",
          "x0": 2152,
          "x1": 2512,
          "xref": "x",
          "y0": 11846,
          "y1": 12205,
          "yref": "y"
         },
         {
          "fillcolor": "#61c2bf",
          "layer": "below",
          "line": {
           "width": 0
          },
          "opacity": 1,
          "type": "rect",
          "x0": 2152,
          "x1": 2512,
          "xref": "x",
          "y0": 12205,
          "y1": 12563,
          "yref": "y"
         },
         {
          "fillcolor": "#35aac3",
          "layer": "below",
          "line": {
           "width": 0
          },
          "opacity": 1,
          "type": "rect",
          "x0": 2152,
          "x1": 2512,
          "xref": "x",
          "y0": 12563,
          "y1": 12921,
          "yref": "y"
         },
         {
          "fillcolor": "#2352a3",
          "layer": "below",
          "line": {
           "width": 0
          },
          "opacity": 1,
          "type": "rect",
          "x0": 2512,
          "x1": 2871,
          "xref": "x",
          "y0": 2871,
          "y1": 3231,
          "yref": "y"
         },
         {
          "fillcolor": "#abdeb7",
          "layer": "below",
          "line": {
           "width": 0
          },
          "opacity": 1,
          "type": "rect",
          "x0": 2512,
          "x1": 2871,
          "xref": "x",
          "y0": 3231,
          "y1": 3590,
          "yref": "y"
         },
         {
          "fillcolor": "#46b8c3",
          "layer": "below",
          "line": {
           "width": 0
          },
          "opacity": 1,
          "type": "rect",
          "x0": 2512,
          "x1": 2871,
          "xref": "x",
          "y0": 3590,
          "y1": 3949,
          "yref": "y"
         },
         {
          "fillcolor": "#1e86bb",
          "layer": "below",
          "line": {
           "width": 0
          },
          "opacity": 1,
          "type": "rect",
          "x0": 2512,
          "x1": 2871,
          "xref": "x",
          "y0": 3949,
          "y1": 4305,
          "yref": "y"
         },
         {
          "fillcolor": "#abdeb7",
          "layer": "below",
          "line": {
           "width": 0
          },
          "opacity": 1,
          "type": "rect",
          "x0": 2512,
          "x1": 2871,
          "xref": "x",
          "y0": 4305,
          "y1": 4664,
          "yref": "y"
         },
         {
          "fillcolor": "#35aac3",
          "layer": "below",
          "line": {
           "width": 0
          },
          "opacity": 1,
          "type": "rect",
          "x0": 2512,
          "x1": 2871,
          "xref": "x",
          "y0": 4664,
          "y1": 5024,
          "yref": "y"
         },
         {
          "fillcolor": "#abdeb7",
          "layer": "below",
          "line": {
           "width": 0
          },
          "opacity": 1,
          "type": "rect",
          "x0": 2512,
          "x1": 2871,
          "xref": "x",
          "y0": 5024,
          "y1": 5383,
          "yref": "y"
         },
         {
          "fillcolor": "#2da2c2",
          "layer": "below",
          "line": {
           "width": 0
          },
          "opacity": 1,
          "type": "rect",
          "x0": 2512,
          "x1": 2871,
          "xref": "x",
          "y0": 5383,
          "y1": 5743,
          "yref": "y"
         },
         {
          "fillcolor": "#c9eab4",
          "layer": "below",
          "line": {
           "width": 0
          },
          "opacity": 1,
          "type": "rect",
          "x0": 2512,
          "x1": 2871,
          "xref": "x",
          "y0": 5743,
          "y1": 6102,
          "yref": "y"
         },
         {
          "fillcolor": "#61c2bf",
          "layer": "below",
          "line": {
           "width": 0
          },
          "opacity": 1,
          "type": "rect",
          "x0": 2512,
          "x1": 2871,
          "xref": "x",
          "y0": 6102,
          "y1": 6461,
          "yref": "y"
         },
         {
          "fillcolor": "#bbe4b5",
          "layer": "below",
          "line": {
           "width": 0
          },
          "opacity": 1,
          "type": "rect",
          "x0": 2512,
          "x1": 2871,
          "xref": "x",
          "y0": 6461,
          "y1": 6820,
          "yref": "y"
         },
         {
          "fillcolor": "#61c2bf",
          "layer": "below",
          "line": {
           "width": 0
          },
          "opacity": 1,
          "type": "rect",
          "x0": 2512,
          "x1": 2871,
          "xref": "x",
          "y0": 6820,
          "y1": 7179,
          "yref": "y"
         },
         {
          "fillcolor": "#9cd8b8",
          "layer": "below",
          "line": {
           "width": 0
          },
          "opacity": 1,
          "type": "rect",
          "x0": 2512,
          "x1": 2871,
          "xref": "x",
          "y0": 7179,
          "y1": 7538,
          "yref": "y"
         },
         {
          "fillcolor": "#9cd8b8",
          "layer": "below",
          "line": {
           "width": 0
          },
          "opacity": 1,
          "type": "rect",
          "x0": 2512,
          "x1": 2871,
          "xref": "x",
          "y0": 7538,
          "y1": 7897,
          "yref": "y"
         },
         {
          "fillcolor": "#d1edb3",
          "layer": "below",
          "line": {
           "width": 0
          },
          "opacity": 1,
          "type": "rect",
          "x0": 2512,
          "x1": 2871,
          "xref": "x",
          "y0": 7897,
          "y1": 8256,
          "yref": "y"
         },
         {
          "fillcolor": "#53bdc1",
          "layer": "below",
          "line": {
           "width": 0
          },
          "opacity": 1,
          "type": "rect",
          "x0": 2512,
          "x1": 2871,
          "xref": "x",
          "y0": 8256,
          "y1": 8614,
          "yref": "y"
         },
         {
          "fillcolor": "#7cccbb",
          "layer": "below",
          "line": {
           "width": 0
          },
          "opacity": 1,
          "type": "rect",
          "x0": 2512,
          "x1": 2871,
          "xref": "x",
          "y0": 8614,
          "y1": 8973,
          "yref": "y"
         },
         {
          "fillcolor": "#9cd8b8",
          "layer": "below",
          "line": {
           "width": 0
          },
          "opacity": 1,
          "type": "rect",
          "x0": 2512,
          "x1": 2871,
          "xref": "x",
          "y0": 8973,
          "y1": 9332,
          "yref": "y"
         },
         {
          "fillcolor": "#53bdc1",
          "layer": "below",
          "line": {
           "width": 0
          },
          "opacity": 1,
          "type": "rect",
          "x0": 2512,
          "x1": 2871,
          "xref": "x",
          "y0": 9332,
          "y1": 9691,
          "yref": "y"
         },
         {
          "fillcolor": "#35aac3",
          "layer": "below",
          "line": {
           "width": 0
          },
          "opacity": 1,
          "type": "rect",
          "x0": 2512,
          "x1": 2871,
          "xref": "x",
          "y0": 9691,
          "y1": 10051,
          "yref": "y"
         },
         {
          "fillcolor": "#3db2c4",
          "layer": "below",
          "line": {
           "width": 0
          },
          "opacity": 1,
          "type": "rect",
          "x0": 2512,
          "x1": 2871,
          "xref": "x",
          "y0": 10051,
          "y1": 10410,
          "yref": "y"
         },
         {
          "fillcolor": "#9cd8b8",
          "layer": "below",
          "line": {
           "width": 0
          },
          "opacity": 1,
          "type": "rect",
          "x0": 2512,
          "x1": 2871,
          "xref": "x",
          "y0": 10410,
          "y1": 10770,
          "yref": "y"
         },
         {
          "fillcolor": "#34a9c3",
          "layer": "below",
          "line": {
           "width": 0
          },
          "opacity": 1,
          "type": "rect",
          "x0": 2512,
          "x1": 2871,
          "xref": "x",
          "y0": 10770,
          "y1": 11129,
          "yref": "y"
         },
         {
          "fillcolor": "#f8fcc9",
          "layer": "below",
          "line": {
           "width": 0
          },
          "opacity": 1,
          "type": "rect",
          "x0": 2512,
          "x1": 2871,
          "xref": "x",
          "y0": 11129,
          "y1": 11488,
          "yref": "y"
         },
         {
          "fillcolor": "#2070b0",
          "layer": "below",
          "line": {
           "width": 0
          },
          "opacity": 1,
          "type": "rect",
          "x0": 2512,
          "x1": 2871,
          "xref": "x",
          "y0": 11488,
          "y1": 11846,
          "yref": "y"
         },
         {
          "fillcolor": "#2ca1c2",
          "layer": "below",
          "line": {
           "width": 0
          },
          "opacity": 1,
          "type": "rect",
          "x0": 2512,
          "x1": 2871,
          "xref": "x",
          "y0": 11846,
          "y1": 12205,
          "yref": "y"
         },
         {
          "fillcolor": "#1e86bb",
          "layer": "below",
          "line": {
           "width": 0
          },
          "opacity": 1,
          "type": "rect",
          "x0": 2512,
          "x1": 2871,
          "xref": "x",
          "y0": 12205,
          "y1": 12563,
          "yref": "y"
         },
         {
          "fillcolor": "#225aa6",
          "layer": "below",
          "line": {
           "width": 0
          },
          "opacity": 1,
          "type": "rect",
          "x0": 2512,
          "x1": 2871,
          "xref": "x",
          "y0": 12563,
          "y1": 12921,
          "yref": "y"
         },
         {
          "fillcolor": "#2072b1",
          "layer": "below",
          "line": {
           "width": 0
          },
          "opacity": 1,
          "type": "rect",
          "x0": 2871,
          "x1": 3231,
          "xref": "x",
          "y0": 3231,
          "y1": 3590,
          "yref": "y"
         },
         {
          "fillcolor": "#2168ad",
          "layer": "below",
          "line": {
           "width": 0
          },
          "opacity": 1,
          "type": "rect",
          "x0": 2871,
          "x1": 3231,
          "xref": "x",
          "y0": 3590,
          "y1": 3949,
          "yref": "y"
         },
         {
          "fillcolor": "#2352a3",
          "layer": "below",
          "line": {
           "width": 0
          },
          "opacity": 1,
          "type": "rect",
          "x0": 2871,
          "x1": 3231,
          "xref": "x",
          "y0": 3949,
          "y1": 4305,
          "yref": "y"
         },
         {
          "fillcolor": "#2072b1",
          "layer": "below",
          "line": {
           "width": 0
          },
          "opacity": 1,
          "type": "rect",
          "x0": 2871,
          "x1": 3231,
          "xref": "x",
          "y0": 4305,
          "y1": 4664,
          "yref": "y"
         },
         {
          "fillcolor": "#2168ad",
          "layer": "below",
          "line": {
           "width": 0
          },
          "opacity": 1,
          "type": "rect",
          "x0": 2871,
          "x1": 3231,
          "xref": "x",
          "y0": 4664,
          "y1": 5024,
          "yref": "y"
         },
         {
          "fillcolor": "#2072b1",
          "layer": "below",
          "line": {
           "width": 0
          },
          "opacity": 1,
          "type": "rect",
          "x0": 2871,
          "x1": 3231,
          "xref": "x",
          "y0": 5024,
          "y1": 5383,
          "yref": "y"
         },
         {
          "fillcolor": "#225da8",
          "layer": "below",
          "line": {
           "width": 0
          },
          "opacity": 1,
          "type": "rect",
          "x0": 2871,
          "x1": 3231,
          "xref": "x",
          "y0": 5383,
          "y1": 5743,
          "yref": "y"
         },
         {
          "fillcolor": "#225ca7",
          "layer": "below",
          "line": {
           "width": 0
          },
          "opacity": 1,
          "type": "rect",
          "x0": 2871,
          "x1": 3231,
          "xref": "x",
          "y0": 5743,
          "y1": 6102,
          "yref": "y"
         },
         {
          "fillcolor": "#2168ad",
          "layer": "below",
          "line": {
           "width": 0
          },
          "opacity": 1,
          "type": "rect",
          "x0": 2871,
          "x1": 3231,
          "xref": "x",
          "y0": 6102,
          "y1": 6461,
          "yref": "y"
         },
         {
          "fillcolor": "#24439b",
          "layer": "below",
          "line": {
           "width": 0
          },
          "opacity": 1,
          "type": "rect",
          "x0": 2871,
          "x1": 3231,
          "xref": "x",
          "y0": 6461,
          "y1": 6820,
          "yref": "y"
         },
         {
          "fillcolor": "#2168ad",
          "layer": "below",
          "line": {
           "width": 0
          },
          "opacity": 1,
          "type": "rect",
          "x0": 2871,
          "x1": 3231,
          "xref": "x",
          "y0": 6820,
          "y1": 7179,
          "yref": "y"
         },
         {
          "fillcolor": "#2165ab",
          "layer": "below",
          "line": {
           "width": 0
          },
          "opacity": 1,
          "type": "rect",
          "x0": 2871,
          "x1": 3231,
          "xref": "x",
          "y0": 7179,
          "y1": 7538,
          "yref": "y"
         },
         {
          "fillcolor": "#2166ac",
          "layer": "below",
          "line": {
           "width": 0
          },
          "opacity": 1,
          "type": "rect",
          "x0": 2871,
          "x1": 3231,
          "xref": "x",
          "y0": 7538,
          "y1": 7897,
          "yref": "y"
         },
         {
          "fillcolor": "#2166ac",
          "layer": "below",
          "line": {
           "width": 0
          },
          "opacity": 1,
          "type": "rect",
          "x0": 2871,
          "x1": 3231,
          "xref": "x",
          "y0": 7897,
          "y1": 8256,
          "yref": "y"
         },
         {
          "fillcolor": "#2168ad",
          "layer": "below",
          "line": {
           "width": 0
          },
          "opacity": 1,
          "type": "rect",
          "x0": 2871,
          "x1": 3231,
          "xref": "x",
          "y0": 8256,
          "y1": 8614,
          "yref": "y"
         },
         {
          "fillcolor": "#2351a2",
          "layer": "below",
          "line": {
           "width": 0
          },
          "opacity": 1,
          "type": "rect",
          "x0": 2871,
          "x1": 3231,
          "xref": "x",
          "y0": 8614,
          "y1": 8973,
          "yref": "y"
         },
         {
          "fillcolor": "#2166ac",
          "layer": "below",
          "line": {
           "width": 0
          },
          "opacity": 1,
          "type": "rect",
          "x0": 2871,
          "x1": 3231,
          "xref": "x",
          "y0": 8973,
          "y1": 9332,
          "yref": "y"
         },
         {
          "fillcolor": "#2073b2",
          "layer": "below",
          "line": {
           "width": 0
          },
          "opacity": 1,
          "type": "rect",
          "x0": 2871,
          "x1": 3231,
          "xref": "x",
          "y0": 9332,
          "y1": 9691,
          "yref": "y"
         },
         {
          "fillcolor": "#225da8",
          "layer": "below",
          "line": {
           "width": 0
          },
          "opacity": 1,
          "type": "rect",
          "x0": 2871,
          "x1": 3231,
          "xref": "x",
          "y0": 9691,
          "y1": 10051,
          "yref": "y"
         },
         {
          "fillcolor": "#9cd8b8",
          "layer": "below",
          "line": {
           "width": 0
          },
          "opacity": 1,
          "type": "rect",
          "x0": 2871,
          "x1": 3231,
          "xref": "x",
          "y0": 10051,
          "y1": 10410,
          "yref": "y"
         },
         {
          "fillcolor": "#2166ac",
          "layer": "below",
          "line": {
           "width": 0
          },
          "opacity": 1,
          "type": "rect",
          "x0": 2871,
          "x1": 3231,
          "xref": "x",
          "y0": 10410,
          "y1": 10770,
          "yref": "y"
         },
         {
          "fillcolor": "#2355a4",
          "layer": "below",
          "line": {
           "width": 0
          },
          "opacity": 1,
          "type": "rect",
          "x0": 2871,
          "x1": 3231,
          "xref": "x",
          "y0": 10770,
          "y1": 11129,
          "yref": "y"
         },
         {
          "fillcolor": "#2352a3",
          "layer": "below",
          "line": {
           "width": 0
          },
          "opacity": 1,
          "type": "rect",
          "x0": 2871,
          "x1": 3231,
          "xref": "x",
          "y0": 11129,
          "y1": 11488,
          "yref": "y"
         },
         {
          "fillcolor": "#2166ac",
          "layer": "below",
          "line": {
           "width": 0
          },
          "opacity": 1,
          "type": "rect",
          "x0": 2871,
          "x1": 3231,
          "xref": "x",
          "y0": 11488,
          "y1": 11846,
          "yref": "y"
         },
         {
          "fillcolor": "#234b9f",
          "layer": "below",
          "line": {
           "width": 0
          },
          "opacity": 1,
          "type": "rect",
          "x0": 2871,
          "x1": 3231,
          "xref": "x",
          "y0": 11846,
          "y1": 12205,
          "yref": "y"
         },
         {
          "fillcolor": "#abdeb7",
          "layer": "below",
          "line": {
           "width": 0
          },
          "opacity": 1,
          "type": "rect",
          "x0": 2871,
          "x1": 3231,
          "xref": "x",
          "y0": 12205,
          "y1": 12563,
          "yref": "y"
         },
         {
          "fillcolor": "#081d58",
          "layer": "below",
          "line": {
           "width": 0
          },
          "opacity": 1,
          "type": "rect",
          "x0": 2871,
          "x1": 3231,
          "xref": "x",
          "y0": 12563,
          "y1": 12921,
          "yref": "y"
         },
         {
          "fillcolor": "#2ca1c2",
          "layer": "below",
          "line": {
           "width": 0
          },
          "opacity": 1,
          "type": "rect",
          "x0": 3231,
          "x1": 3590,
          "xref": "x",
          "y0": 3590,
          "y1": 3949,
          "yref": "y"
         },
         {
          "fillcolor": "#8cd2ba",
          "layer": "below",
          "line": {
           "width": 0
          },
          "opacity": 1,
          "type": "rect",
          "x0": 3231,
          "x1": 3590,
          "xref": "x",
          "y0": 3949,
          "y1": 4305,
          "yref": "y"
         },
         {
          "fillcolor": "#ffffd9",
          "layer": "below",
          "line": {
           "width": 0
          },
          "opacity": 1,
          "type": "rect",
          "x0": 3231,
          "x1": 3590,
          "xref": "x",
          "y0": 4305,
          "y1": 4664,
          "yref": "y"
         },
         {
          "fillcolor": "#1d91c0",
          "layer": "below",
          "line": {
           "width": 0
          },
          "opacity": 1,
          "type": "rect",
          "x0": 3231,
          "x1": 3590,
          "xref": "x",
          "y0": 4664,
          "y1": 5024,
          "yref": "y"
         },
         {
          "fillcolor": "#ffffd9",
          "layer": "below",
          "line": {
           "width": 0
          },
          "opacity": 1,
          "type": "rect",
          "x0": 3231,
          "x1": 3590,
          "xref": "x",
          "y0": 5024,
          "y1": 5383,
          "yref": "y"
         },
         {
          "fillcolor": "#1e86bb",
          "layer": "below",
          "line": {
           "width": 0
          },
          "opacity": 1,
          "type": "rect",
          "x0": 3231,
          "x1": 3590,
          "xref": "x",
          "y0": 5383,
          "y1": 5743,
          "yref": "y"
         },
         {
          "fillcolor": "#f8fcc9",
          "layer": "below",
          "line": {
           "width": 0
          },
          "opacity": 1,
          "type": "rect",
          "x0": 3231,
          "x1": 3590,
          "xref": "x",
          "y0": 5743,
          "y1": 6102,
          "yref": "y"
         },
         {
          "fillcolor": "#3cb1c3",
          "layer": "below",
          "line": {
           "width": 0
          },
          "opacity": 1,
          "type": "rect",
          "x0": 3231,
          "x1": 3590,
          "xref": "x",
          "y0": 6102,
          "y1": 6461,
          "yref": "y"
         },
         {
          "fillcolor": "#6fc7bd",
          "layer": "below",
          "line": {
           "width": 0
          },
          "opacity": 1,
          "type": "rect",
          "x0": 3231,
          "x1": 3590,
          "xref": "x",
          "y0": 6461,
          "y1": 6820,
          "yref": "y"
         },
         {
          "fillcolor": "#1d90c0",
          "layer": "below",
          "line": {
           "width": 0
          },
          "opacity": 1,
          "type": "rect",
          "x0": 3231,
          "x1": 3590,
          "xref": "x",
          "y0": 6820,
          "y1": 7179,
          "yref": "y"
         },
         {
          "fillcolor": "#53bdc1",
          "layer": "below",
          "line": {
           "width": 0
          },
          "opacity": 1,
          "type": "rect",
          "x0": 3231,
          "x1": 3590,
          "xref": "x",
          "y0": 7179,
          "y1": 7538,
          "yref": "y"
         },
         {
          "fillcolor": "#fcfed1",
          "layer": "below",
          "line": {
           "width": 0
          },
          "opacity": 1,
          "type": "rect",
          "x0": 3231,
          "x1": 3590,
          "xref": "x",
          "y0": 7538,
          "y1": 7897,
          "yref": "y"
         },
         {
          "fillcolor": "#6fc7bd",
          "layer": "below",
          "line": {
           "width": 0
          },
          "opacity": 1,
          "type": "rect",
          "x0": 3231,
          "x1": 3590,
          "xref": "x",
          "y0": 7897,
          "y1": 8256,
          "yref": "y"
         },
         {
          "fillcolor": "#1d90c0",
          "layer": "below",
          "line": {
           "width": 0
          },
          "opacity": 1,
          "type": "rect",
          "x0": 3231,
          "x1": 3590,
          "xref": "x",
          "y0": 8256,
          "y1": 8614,
          "yref": "y"
         },
         {
          "fillcolor": "#3cb1c3",
          "layer": "below",
          "line": {
           "width": 0
          },
          "opacity": 1,
          "type": "rect",
          "x0": 3231,
          "x1": 3590,
          "xref": "x",
          "y0": 8614,
          "y1": 8973,
          "yref": "y"
         },
         {
          "fillcolor": "#fcfed1",
          "layer": "below",
          "line": {
           "width": 0
          },
          "opacity": 1,
          "type": "rect",
          "x0": 3231,
          "x1": 3590,
          "xref": "x",
          "y0": 8973,
          "y1": 9332,
          "yref": "y"
         },
         {
          "fillcolor": "#e2f4b2",
          "layer": "below",
          "line": {
           "width": 0
          },
          "opacity": 1,
          "type": "rect",
          "x0": 3231,
          "x1": 3590,
          "xref": "x",
          "y0": 9332,
          "y1": 9691,
          "yref": "y"
         },
         {
          "fillcolor": "#1d91c0",
          "layer": "below",
          "line": {
           "width": 0
          },
          "opacity": 1,
          "type": "rect",
          "x0": 3231,
          "x1": 3590,
          "xref": "x",
          "y0": 9691,
          "y1": 10051,
          "yref": "y"
         },
         {
          "fillcolor": "#48b9c3",
          "layer": "below",
          "line": {
           "width": 0
          },
          "opacity": 1,
          "type": "rect",
          "x0": 3231,
          "x1": 3590,
          "xref": "x",
          "y0": 10051,
          "y1": 10410,
          "yref": "y"
         },
         {
          "fillcolor": "#fcfed1",
          "layer": "below",
          "line": {
           "width": 0
          },
          "opacity": 1,
          "type": "rect",
          "x0": 3231,
          "x1": 3590,
          "xref": "x",
          "y0": 10410,
          "y1": 10770,
          "yref": "y"
         },
         {
          "fillcolor": "#1d90c0",
          "layer": "below",
          "line": {
           "width": 0
          },
          "opacity": 1,
          "type": "rect",
          "x0": 3231,
          "x1": 3590,
          "xref": "x",
          "y0": 10770,
          "y1": 11129,
          "yref": "y"
         },
         {
          "fillcolor": "#abdeb7",
          "layer": "below",
          "line": {
           "width": 0
          },
          "opacity": 1,
          "type": "rect",
          "x0": 3231,
          "x1": 3590,
          "xref": "x",
          "y0": 11129,
          "y1": 11488,
          "yref": "y"
         },
         {
          "fillcolor": "#6fc7bd",
          "layer": "below",
          "line": {
           "width": 0
          },
          "opacity": 1,
          "type": "rect",
          "x0": 3231,
          "x1": 3590,
          "xref": "x",
          "y0": 11488,
          "y1": 11846,
          "yref": "y"
         },
         {
          "fillcolor": "#1e86bb",
          "layer": "below",
          "line": {
           "width": 0
          },
          "opacity": 1,
          "type": "rect",
          "x0": 3231,
          "x1": 3590,
          "xref": "x",
          "y0": 11846,
          "y1": 12205,
          "yref": "y"
         },
         {
          "fillcolor": "#2da2c2",
          "layer": "below",
          "line": {
           "width": 0
          },
          "opacity": 1,
          "type": "rect",
          "x0": 3231,
          "x1": 3590,
          "xref": "x",
          "y0": 12205,
          "y1": 12563,
          "yref": "y"
         },
         {
          "fillcolor": "#55bec1",
          "layer": "below",
          "line": {
           "width": 0
          },
          "opacity": 1,
          "type": "rect",
          "x0": 3231,
          "x1": 3590,
          "xref": "x",
          "y0": 12563,
          "y1": 12921,
          "yref": "y"
         },
         {
          "fillcolor": "#24489d",
          "layer": "below",
          "line": {
           "width": 0
          },
          "opacity": 1,
          "type": "rect",
          "x0": 3590,
          "x1": 3949,
          "xref": "x",
          "y0": 3949,
          "y1": 4305,
          "yref": "y"
         },
         {
          "fillcolor": "#2ca1c2",
          "layer": "below",
          "line": {
           "width": 0
          },
          "opacity": 1,
          "type": "rect",
          "x0": 3590,
          "x1": 3949,
          "xref": "x",
          "y0": 4305,
          "y1": 4664,
          "yref": "y"
         },
         {
          "fillcolor": "#e2f4b2",
          "layer": "below",
          "line": {
           "width": 0
          },
          "opacity": 1,
          "type": "rect",
          "x0": 3590,
          "x1": 3949,
          "xref": "x",
          "y0": 4664,
          "y1": 5024,
          "yref": "y"
         },
         {
          "fillcolor": "#2ca1c2",
          "layer": "below",
          "line": {
           "width": 0
          },
          "opacity": 1,
          "type": "rect",
          "x0": 3590,
          "x1": 3949,
          "xref": "x",
          "y0": 5024,
          "y1": 5383,
          "yref": "y"
         },
         {
          "fillcolor": "#c9eab4",
          "layer": "below",
          "line": {
           "width": 0
          },
          "opacity": 1,
          "type": "rect",
          "x0": 3590,
          "x1": 3949,
          "xref": "x",
          "y0": 5383,
          "y1": 5743,
          "yref": "y"
         },
         {
          "fillcolor": "#1d90c0",
          "layer": "below",
          "line": {
           "width": 0
          },
          "opacity": 1,
          "type": "rect",
          "x0": 3590,
          "x1": 3949,
          "xref": "x",
          "y0": 5743,
          "y1": 6102,
          "yref": "y"
         },
         {
          "fillcolor": "#f0f9b7",
          "layer": "below",
          "line": {
           "width": 0
          },
          "opacity": 1,
          "type": "rect",
          "x0": 3590,
          "x1": 3949,
          "xref": "x",
          "y0": 6102,
          "y1": 6461,
          "yref": "y"
         },
         {
          "fillcolor": "#61c2bf",
          "layer": "below",
          "line": {
           "width": 0
          },
          "opacity": 1,
          "type": "rect",
          "x0": 3590,
          "x1": 3949,
          "xref": "x",
          "y0": 6461,
          "y1": 6820,
          "yref": "y"
         },
         {
          "fillcolor": "#e2f4b2",
          "layer": "below",
          "line": {
           "width": 0
          },
          "opacity": 1,
          "type": "rect",
          "x0": 3590,
          "x1": 3949,
          "xref": "x",
          "y0": 6820,
          "y1": 7179,
          "yref": "y"
         },
         {
          "fillcolor": "#61c2bf",
          "layer": "below",
          "line": {
           "width": 0
          },
          "opacity": 1,
          "type": "rect",
          "x0": 3590,
          "x1": 3949,
          "xref": "x",
          "y0": 7179,
          "y1": 7538,
          "yref": "y"
         },
         {
          "fillcolor": "#259ac1",
          "layer": "below",
          "line": {
           "width": 0
          },
          "opacity": 1,
          "type": "rect",
          "x0": 3590,
          "x1": 3949,
          "xref": "x",
          "y0": 7538,
          "y1": 7897,
          "yref": "y"
         },
         {
          "fillcolor": "#46b8c3",
          "layer": "below",
          "line": {
           "width": 0
          },
          "opacity": 1,
          "type": "rect",
          "x0": 3590,
          "x1": 3949,
          "xref": "x",
          "y0": 7897,
          "y1": 8256,
          "yref": "y"
         },
         {
          "fillcolor": "#e2f4b2",
          "layer": "below",
          "line": {
           "width": 0
          },
          "opacity": 1,
          "type": "rect",
          "x0": 3590,
          "x1": 3949,
          "xref": "x",
          "y0": 8256,
          "y1": 8614,
          "yref": "y"
         },
         {
          "fillcolor": "#46b8c3",
          "layer": "below",
          "line": {
           "width": 0
          },
          "opacity": 1,
          "type": "rect",
          "x0": 3590,
          "x1": 3949,
          "xref": "x",
          "y0": 8614,
          "y1": 8973,
          "yref": "y"
         },
         {
          "fillcolor": "#259ac1",
          "layer": "below",
          "line": {
           "width": 0
          },
          "opacity": 1,
          "type": "rect",
          "x0": 3590,
          "x1": 3949,
          "xref": "x",
          "y0": 8973,
          "y1": 9332,
          "yref": "y"
         },
         {
          "fillcolor": "#6fc7bd",
          "layer": "below",
          "line": {
           "width": 0
          },
          "opacity": 1,
          "type": "rect",
          "x0": 3590,
          "x1": 3949,
          "xref": "x",
          "y0": 9332,
          "y1": 9691,
          "yref": "y"
         },
         {
          "fillcolor": "#e2f4b2",
          "layer": "below",
          "line": {
           "width": 0
          },
          "opacity": 1,
          "type": "rect",
          "x0": 3590,
          "x1": 3949,
          "xref": "x",
          "y0": 9691,
          "y1": 10051,
          "yref": "y"
         },
         {
          "fillcolor": "#1d91c0",
          "layer": "below",
          "line": {
           "width": 0
          },
          "opacity": 1,
          "type": "rect",
          "x0": 3590,
          "x1": 3949,
          "xref": "x",
          "y0": 10051,
          "y1": 10410,
          "yref": "y"
         },
         {
          "fillcolor": "#259ac1",
          "layer": "below",
          "line": {
           "width": 0
          },
          "opacity": 1,
          "type": "rect",
          "x0": 3590,
          "x1": 3949,
          "xref": "x",
          "y0": 10410,
          "y1": 10770,
          "yref": "y"
         },
         {
          "fillcolor": "#e2f4b2",
          "layer": "below",
          "line": {
           "width": 0
          },
          "opacity": 1,
          "type": "rect",
          "x0": 3590,
          "x1": 3949,
          "xref": "x",
          "y0": 10770,
          "y1": 11129,
          "yref": "y"
         },
         {
          "fillcolor": "#46b8c3",
          "layer": "below",
          "line": {
           "width": 0
          },
          "opacity": 1,
          "type": "rect",
          "x0": 3590,
          "x1": 3949,
          "xref": "x",
          "y0": 11129,
          "y1": 11488,
          "yref": "y"
         },
         {
          "fillcolor": "#35aac3",
          "layer": "below",
          "line": {
           "width": 0
          },
          "opacity": 1,
          "type": "rect",
          "x0": 3590,
          "x1": 3949,
          "xref": "x",
          "y0": 11488,
          "y1": 11846,
          "yref": "y"
         },
         {
          "fillcolor": "#c9eab4",
          "layer": "below",
          "line": {
           "width": 0
          },
          "opacity": 1,
          "type": "rect",
          "x0": 3590,
          "x1": 3949,
          "xref": "x",
          "y0": 11846,
          "y1": 12205,
          "yref": "y"
         },
         {
          "fillcolor": "#2165ab",
          "layer": "below",
          "line": {
           "width": 0
          },
          "opacity": 1,
          "type": "rect",
          "x0": 3590,
          "x1": 3949,
          "xref": "x",
          "y0": 12205,
          "y1": 12563,
          "yref": "y"
         },
         {
          "fillcolor": "#225aa6",
          "layer": "below",
          "line": {
           "width": 0
          },
          "opacity": 1,
          "type": "rect",
          "x0": 3590,
          "x1": 3949,
          "xref": "x",
          "y0": 12563,
          "y1": 12921,
          "yref": "y"
         },
         {
          "fillcolor": "#8cd2ba",
          "layer": "below",
          "line": {
           "width": 0
          },
          "opacity": 1,
          "type": "rect",
          "x0": 3949,
          "x1": 4305,
          "xref": "x",
          "y0": 4305,
          "y1": 4664,
          "yref": "y"
         },
         {
          "fillcolor": "#253795",
          "layer": "below",
          "line": {
           "width": 0
          },
          "opacity": 1,
          "type": "rect",
          "x0": 3949,
          "x1": 4305,
          "xref": "x",
          "y0": 4664,
          "y1": 5024,
          "yref": "y"
         },
         {
          "fillcolor": "#8cd2ba",
          "layer": "below",
          "line": {
           "width": 0
          },
          "opacity": 1,
          "type": "rect",
          "x0": 3949,
          "x1": 4305,
          "xref": "x",
          "y0": 5024,
          "y1": 5383,
          "yref": "y"
         },
         {
          "fillcolor": "#2352a3",
          "layer": "below",
          "line": {
           "width": 0
          },
          "opacity": 1,
          "type": "rect",
          "x0": 3949,
          "x1": 4305,
          "xref": "x",
          "y0": 5383,
          "y1": 5743,
          "yref": "y"
         },
         {
          "fillcolor": "#6fc7bd",
          "layer": "below",
          "line": {
           "width": 0
          },
          "opacity": 1,
          "type": "rect",
          "x0": 3949,
          "x1": 4305,
          "xref": "x",
          "y0": 5743,
          "y1": 6102,
          "yref": "y"
         },
         {
          "fillcolor": "#225aa6",
          "layer": "below",
          "line": {
           "width": 0
          },
          "opacity": 1,
          "type": "rect",
          "x0": 3949,
          "x1": 4305,
          "xref": "x",
          "y0": 6102,
          "y1": 6461,
          "yref": "y"
         },
         {
          "fillcolor": "#2070b0",
          "layer": "below",
          "line": {
           "width": 0
          },
          "opacity": 1,
          "type": "rect",
          "x0": 3949,
          "x1": 4305,
          "xref": "x",
          "y0": 6461,
          "y1": 6820,
          "yref": "y"
         },
         {
          "fillcolor": "#24489d",
          "layer": "below",
          "line": {
           "width": 0
          },
          "opacity": 1,
          "type": "rect",
          "x0": 3949,
          "x1": 4305,
          "xref": "x",
          "y0": 6820,
          "y1": 7179,
          "yref": "y"
         },
         {
          "fillcolor": "#2070b0",
          "layer": "below",
          "line": {
           "width": 0
          },
          "opacity": 1,
          "type": "rect",
          "x0": 3949,
          "x1": 4305,
          "xref": "x",
          "y0": 7179,
          "y1": 7538,
          "yref": "y"
         },
         {
          "fillcolor": "#7cccbb",
          "layer": "below",
          "line": {
           "width": 0
          },
          "opacity": 1,
          "type": "rect",
          "x0": 3949,
          "x1": 4305,
          "xref": "x",
          "y0": 7538,
          "y1": 7897,
          "yref": "y"
         },
         {
          "fillcolor": "#225aa6",
          "layer": "below",
          "line": {
           "width": 0
          },
          "opacity": 1,
          "type": "rect",
          "x0": 3949,
          "x1": 4305,
          "xref": "x",
          "y0": 7897,
          "y1": 8256,
          "yref": "y"
         },
         {
          "fillcolor": "#24489d",
          "layer": "below",
          "line": {
           "width": 0
          },
          "opacity": 1,
          "type": "rect",
          "x0": 3949,
          "x1": 4305,
          "xref": "x",
          "y0": 8256,
          "y1": 8614,
          "yref": "y"
         },
         {
          "fillcolor": "#225aa6",
          "layer": "below",
          "line": {
           "width": 0
          },
          "opacity": 1,
          "type": "rect",
          "x0": 3949,
          "x1": 4305,
          "xref": "x",
          "y0": 8614,
          "y1": 8973,
          "yref": "y"
         },
         {
          "fillcolor": "#7cccbb",
          "layer": "below",
          "line": {
           "width": 0
          },
          "opacity": 1,
          "type": "rect",
          "x0": 3949,
          "x1": 4305,
          "xref": "x",
          "y0": 8973,
          "y1": 9332,
          "yref": "y"
         },
         {
          "fillcolor": "#3cb1c3",
          "layer": "below",
          "line": {
           "width": 0
          },
          "opacity": 1,
          "type": "rect",
          "x0": 3949,
          "x1": 4305,
          "xref": "x",
          "y0": 9332,
          "y1": 9691,
          "yref": "y"
         },
         {
          "fillcolor": "#253795",
          "layer": "below",
          "line": {
           "width": 0
          },
          "opacity": 1,
          "type": "rect",
          "x0": 3949,
          "x1": 4305,
          "xref": "x",
          "y0": 9691,
          "y1": 10051,
          "yref": "y"
         },
         {
          "fillcolor": "#2da2c2",
          "layer": "below",
          "line": {
           "width": 0
          },
          "opacity": 1,
          "type": "rect",
          "x0": 3949,
          "x1": 4305,
          "xref": "x",
          "y0": 10051,
          "y1": 10410,
          "yref": "y"
         },
         {
          "fillcolor": "#7cccbb",
          "layer": "below",
          "line": {
           "width": 0
          },
          "opacity": 1,
          "type": "rect",
          "x0": 3949,
          "x1": 4305,
          "xref": "x",
          "y0": 10410,
          "y1": 10770,
          "yref": "y"
         },
         {
          "fillcolor": "#24409a",
          "layer": "below",
          "line": {
           "width": 0
          },
          "opacity": 1,
          "type": "rect",
          "x0": 3949,
          "x1": 4305,
          "xref": "x",
          "y0": 10770,
          "y1": 11129,
          "yref": "y"
         },
         {
          "fillcolor": "#1e86bb",
          "layer": "below",
          "line": {
           "width": 0
          },
          "opacity": 1,
          "type": "rect",
          "x0": 3949,
          "x1": 4305,
          "xref": "x",
          "y0": 11129,
          "y1": 11488,
          "yref": "y"
         },
         {
          "fillcolor": "#61c2bf",
          "layer": "below",
          "line": {
           "width": 0
          },
          "opacity": 1,
          "type": "rect",
          "x0": 3949,
          "x1": 4305,
          "xref": "x",
          "y0": 11488,
          "y1": 11846,
          "yref": "y"
         },
         {
          "fillcolor": "#21308b",
          "layer": "below",
          "line": {
           "width": 0
          },
          "opacity": 1,
          "type": "rect",
          "x0": 3949,
          "x1": 4305,
          "xref": "x",
          "y0": 11846,
          "y1": 12205,
          "yref": "y"
         },
         {
          "fillcolor": "#1e86bb",
          "layer": "below",
          "line": {
           "width": 0
          },
          "opacity": 1,
          "type": "rect",
          "x0": 3949,
          "x1": 4305,
          "xref": "x",
          "y0": 12205,
          "y1": 12563,
          "yref": "y"
         },
         {
          "fillcolor": "#61c2bf",
          "layer": "below",
          "line": {
           "width": 0
          },
          "opacity": 1,
          "type": "rect",
          "x0": 3949,
          "x1": 4305,
          "xref": "x",
          "y0": 12563,
          "y1": 12921,
          "yref": "y"
         },
         {
          "fillcolor": "#1d91c0",
          "layer": "below",
          "line": {
           "width": 0
          },
          "opacity": 1,
          "type": "rect",
          "x0": 4305,
          "x1": 4664,
          "xref": "x",
          "y0": 4664,
          "y1": 5024,
          "yref": "y"
         },
         {
          "fillcolor": "#ffffd9",
          "layer": "below",
          "line": {
           "width": 0
          },
          "opacity": 1,
          "type": "rect",
          "x0": 4305,
          "x1": 4664,
          "xref": "x",
          "y0": 5024,
          "y1": 5383,
          "yref": "y"
         },
         {
          "fillcolor": "#1e86bb",
          "layer": "below",
          "line": {
           "width": 0
          },
          "opacity": 1,
          "type": "rect",
          "x0": 4305,
          "x1": 4664,
          "xref": "x",
          "y0": 5383,
          "y1": 5743,
          "yref": "y"
         },
         {
          "fillcolor": "#f8fcc9",
          "layer": "below",
          "line": {
           "width": 0
          },
          "opacity": 1,
          "type": "rect",
          "x0": 4305,
          "x1": 4664,
          "xref": "x",
          "y0": 5743,
          "y1": 6102,
          "yref": "y"
         },
         {
          "fillcolor": "#3cb1c3",
          "layer": "below",
          "line": {
           "width": 0
          },
          "opacity": 1,
          "type": "rect",
          "x0": 4305,
          "x1": 4664,
          "xref": "x",
          "y0": 6102,
          "y1": 6461,
          "yref": "y"
         },
         {
          "fillcolor": "#6fc7bd",
          "layer": "below",
          "line": {
           "width": 0
          },
          "opacity": 1,
          "type": "rect",
          "x0": 4305,
          "x1": 4664,
          "xref": "x",
          "y0": 6461,
          "y1": 6820,
          "yref": "y"
         },
         {
          "fillcolor": "#1d90c0",
          "layer": "below",
          "line": {
           "width": 0
          },
          "opacity": 1,
          "type": "rect",
          "x0": 4305,
          "x1": 4664,
          "xref": "x",
          "y0": 6820,
          "y1": 7179,
          "yref": "y"
         },
         {
          "fillcolor": "#53bdc1",
          "layer": "below",
          "line": {
           "width": 0
          },
          "opacity": 1,
          "type": "rect",
          "x0": 4305,
          "x1": 4664,
          "xref": "x",
          "y0": 7179,
          "y1": 7538,
          "yref": "y"
         },
         {
          "fillcolor": "#fcfed1",
          "layer": "below",
          "line": {
           "width": 0
          },
          "opacity": 1,
          "type": "rect",
          "x0": 4305,
          "x1": 4664,
          "xref": "x",
          "y0": 7538,
          "y1": 7897,
          "yref": "y"
         },
         {
          "fillcolor": "#6fc7bd",
          "layer": "below",
          "line": {
           "width": 0
          },
          "opacity": 1,
          "type": "rect",
          "x0": 4305,
          "x1": 4664,
          "xref": "x",
          "y0": 7897,
          "y1": 8256,
          "yref": "y"
         },
         {
          "fillcolor": "#1d90c0",
          "layer": "below",
          "line": {
           "width": 0
          },
          "opacity": 1,
          "type": "rect",
          "x0": 4305,
          "x1": 4664,
          "xref": "x",
          "y0": 8256,
          "y1": 8614,
          "yref": "y"
         },
         {
          "fillcolor": "#3cb1c3",
          "layer": "below",
          "line": {
           "width": 0
          },
          "opacity": 1,
          "type": "rect",
          "x0": 4305,
          "x1": 4664,
          "xref": "x",
          "y0": 8614,
          "y1": 8973,
          "yref": "y"
         },
         {
          "fillcolor": "#fcfed1",
          "layer": "below",
          "line": {
           "width": 0
          },
          "opacity": 1,
          "type": "rect",
          "x0": 4305,
          "x1": 4664,
          "xref": "x",
          "y0": 8973,
          "y1": 9332,
          "yref": "y"
         },
         {
          "fillcolor": "#e2f4b2",
          "layer": "below",
          "line": {
           "width": 0
          },
          "opacity": 1,
          "type": "rect",
          "x0": 4305,
          "x1": 4664,
          "xref": "x",
          "y0": 9332,
          "y1": 9691,
          "yref": "y"
         },
         {
          "fillcolor": "#1d91c0",
          "layer": "below",
          "line": {
           "width": 0
          },
          "opacity": 1,
          "type": "rect",
          "x0": 4305,
          "x1": 4664,
          "xref": "x",
          "y0": 9691,
          "y1": 10051,
          "yref": "y"
         },
         {
          "fillcolor": "#48b9c3",
          "layer": "below",
          "line": {
           "width": 0
          },
          "opacity": 1,
          "type": "rect",
          "x0": 4305,
          "x1": 4664,
          "xref": "x",
          "y0": 10051,
          "y1": 10410,
          "yref": "y"
         },
         {
          "fillcolor": "#fcfed1",
          "layer": "below",
          "line": {
           "width": 0
          },
          "opacity": 1,
          "type": "rect",
          "x0": 4305,
          "x1": 4664,
          "xref": "x",
          "y0": 10410,
          "y1": 10770,
          "yref": "y"
         },
         {
          "fillcolor": "#1d90c0",
          "layer": "below",
          "line": {
           "width": 0
          },
          "opacity": 1,
          "type": "rect",
          "x0": 4305,
          "x1": 4664,
          "xref": "x",
          "y0": 10770,
          "y1": 11129,
          "yref": "y"
         },
         {
          "fillcolor": "#abdeb7",
          "layer": "below",
          "line": {
           "width": 0
          },
          "opacity": 1,
          "type": "rect",
          "x0": 4305,
          "x1": 4664,
          "xref": "x",
          "y0": 11129,
          "y1": 11488,
          "yref": "y"
         },
         {
          "fillcolor": "#6fc7bd",
          "layer": "below",
          "line": {
           "width": 0
          },
          "opacity": 1,
          "type": "rect",
          "x0": 4305,
          "x1": 4664,
          "xref": "x",
          "y0": 11488,
          "y1": 11846,
          "yref": "y"
         },
         {
          "fillcolor": "#1e86bb",
          "layer": "below",
          "line": {
           "width": 0
          },
          "opacity": 1,
          "type": "rect",
          "x0": 4305,
          "x1": 4664,
          "xref": "x",
          "y0": 11846,
          "y1": 12205,
          "yref": "y"
         },
         {
          "fillcolor": "#2da2c2",
          "layer": "below",
          "line": {
           "width": 0
          },
          "opacity": 1,
          "type": "rect",
          "x0": 4305,
          "x1": 4664,
          "xref": "x",
          "y0": 12205,
          "y1": 12563,
          "yref": "y"
         },
         {
          "fillcolor": "#55bec1",
          "layer": "below",
          "line": {
           "width": 0
          },
          "opacity": 1,
          "type": "rect",
          "x0": 4305,
          "x1": 4664,
          "xref": "x",
          "y0": 12563,
          "y1": 12921,
          "yref": "y"
         },
         {
          "fillcolor": "#1d91c0",
          "layer": "below",
          "line": {
           "width": 0
          },
          "opacity": 1,
          "type": "rect",
          "x0": 4664,
          "x1": 5024,
          "xref": "x",
          "y0": 5024,
          "y1": 5383,
          "yref": "y"
         },
         {
          "fillcolor": "#f4fbc0",
          "layer": "below",
          "line": {
           "width": 0
          },
          "opacity": 1,
          "type": "rect",
          "x0": 4664,
          "x1": 5024,
          "xref": "x",
          "y0": 5383,
          "y1": 5743,
          "yref": "y"
         },
         {
          "fillcolor": "#1f7bb6",
          "layer": "below",
          "line": {
           "width": 0
          },
          "opacity": 1,
          "type": "rect",
          "x0": 4664,
          "x1": 5024,
          "xref": "x",
          "y0": 5743,
          "y1": 6102,
          "yref": "y"
         },
         {
          "fillcolor": "#e2f4b2",
          "layer": "below",
          "line": {
           "width": 0
          },
          "opacity": 1,
          "type": "rect",
          "x0": 4664,
          "x1": 5024,
          "xref": "x",
          "y0": 6102,
          "y1": 6461,
          "yref": "y"
         },
         {
          "fillcolor": "#48b9c3",
          "layer": "below",
          "line": {
           "width": 0
          },
          "opacity": 1,
          "type": "rect",
          "x0": 4664,
          "x1": 5024,
          "xref": "x",
          "y0": 6461,
          "y1": 6820,
          "yref": "y"
         },
         {
          "fillcolor": "#d1edb3",
          "layer": "below",
          "line": {
           "width": 0
          },
          "opacity": 1,
          "type": "rect",
          "x0": 4664,
          "x1": 5024,
          "xref": "x",
          "y0": 6820,
          "y1": 7179,
          "yref": "y"
         },
         {
          "fillcolor": "#48b9c3",
          "layer": "below",
          "line": {
           "width": 0
          },
          "opacity": 1,
          "type": "rect",
          "x0": 4664,
          "x1": 5024,
          "xref": "x",
          "y0": 7179,
          "y1": 7538,
          "yref": "y"
         },
         {
          "fillcolor": "#1e86bb",
          "layer": "below",
          "line": {
           "width": 0
          },
          "opacity": 1,
          "type": "rect",
          "x0": 4664,
          "x1": 5024,
          "xref": "x",
          "y0": 7538,
          "y1": 7897,
          "yref": "y"
         },
         {
          "fillcolor": "#35aac3",
          "layer": "below",
          "line": {
           "width": 0
          },
          "opacity": 1,
          "type": "rect",
          "x0": 4664,
          "x1": 5024,
          "xref": "x",
          "y0": 7897,
          "y1": 8256,
          "yref": "y"
         },
         {
          "fillcolor": "#d1edb3",
          "layer": "below",
          "line": {
           "width": 0
          },
          "opacity": 1,
          "type": "rect",
          "x0": 4664,
          "x1": 5024,
          "xref": "x",
          "y0": 8256,
          "y1": 8614,
          "yref": "y"
         },
         {
          "fillcolor": "#35aac3",
          "layer": "below",
          "line": {
           "width": 0
          },
          "opacity": 1,
          "type": "rect",
          "x0": 4664,
          "x1": 5024,
          "xref": "x",
          "y0": 8614,
          "y1": 8973,
          "yref": "y"
         },
         {
          "fillcolor": "#1e86bb",
          "layer": "below",
          "line": {
           "width": 0
          },
          "opacity": 1,
          "type": "rect",
          "x0": 4664,
          "x1": 5024,
          "xref": "x",
          "y0": 8973,
          "y1": 9332,
          "yref": "y"
         },
         {
          "fillcolor": "#55bec1",
          "layer": "below",
          "line": {
           "width": 0
          },
          "opacity": 1,
          "type": "rect",
          "x0": 4664,
          "x1": 5024,
          "xref": "x",
          "y0": 9332,
          "y1": 9691,
          "yref": "y"
         },
         {
          "fillcolor": "#d1edb3",
          "layer": "below",
          "line": {
           "width": 0
          },
          "opacity": 1,
          "type": "rect",
          "x0": 4664,
          "x1": 5024,
          "xref": "x",
          "y0": 9691,
          "y1": 10051,
          "yref": "y"
         },
         {
          "fillcolor": "#1f7db6",
          "layer": "below",
          "line": {
           "width": 0
          },
          "opacity": 1,
          "type": "rect",
          "x0": 4664,
          "x1": 5024,
          "xref": "x",
          "y0": 10051,
          "y1": 10410,
          "yref": "y"
         },
         {
          "fillcolor": "#1e86bb",
          "layer": "below",
          "line": {
           "width": 0
          },
          "opacity": 1,
          "type": "rect",
          "x0": 4664,
          "x1": 5024,
          "xref": "x",
          "y0": 10410,
          "y1": 10770,
          "yref": "y"
         },
         {
          "fillcolor": "#d1edb3",
          "layer": "below",
          "line": {
           "width": 0
          },
          "opacity": 1,
          "type": "rect",
          "x0": 4664,
          "x1": 5024,
          "xref": "x",
          "y0": 10770,
          "y1": 11129,
          "yref": "y"
         },
         {
          "fillcolor": "#35aac3",
          "layer": "below",
          "line": {
           "width": 0
          },
          "opacity": 1,
          "type": "rect",
          "x0": 4664,
          "x1": 5024,
          "xref": "x",
          "y0": 11129,
          "y1": 11488,
          "yref": "y"
         },
         {
          "fillcolor": "#259ac1",
          "layer": "below",
          "line": {
           "width": 0
          },
          "opacity": 1,
          "type": "rect",
          "x0": 4664,
          "x1": 5024,
          "xref": "x",
          "y0": 11488,
          "y1": 11846,
          "yref": "y"
         },
         {
          "fillcolor": "#abdeb7",
          "layer": "below",
          "line": {
           "width": 0
          },
          "opacity": 1,
          "type": "rect",
          "x0": 4664,
          "x1": 5024,
          "xref": "x",
          "y0": 11846,
          "y1": 12205,
          "yref": "y"
         },
         {
          "fillcolor": "#225aa6",
          "layer": "below",
          "line": {
           "width": 0
          },
          "opacity": 1,
          "type": "rect",
          "x0": 4664,
          "x1": 5024,
          "xref": "x",
          "y0": 12205,
          "y1": 12563,
          "yref": "y"
         },
         {
          "fillcolor": "#259ac1",
          "layer": "below",
          "line": {
           "width": 0
          },
          "opacity": 1,
          "type": "rect",
          "x0": 4664,
          "x1": 5024,
          "xref": "x",
          "y0": 12563,
          "y1": 12921,
          "yref": "y"
         },
         {
          "fillcolor": "#1e86bb",
          "layer": "below",
          "line": {
           "width": 0
          },
          "opacity": 1,
          "type": "rect",
          "x0": 5024,
          "x1": 5383,
          "xref": "x",
          "y0": 5383,
          "y1": 5743,
          "yref": "y"
         },
         {
          "fillcolor": "#f8fcc9",
          "layer": "below",
          "line": {
           "width": 0
          },
          "opacity": 1,
          "type": "rect",
          "x0": 5024,
          "x1": 5383,
          "xref": "x",
          "y0": 5743,
          "y1": 6102,
          "yref": "y"
         },
         {
          "fillcolor": "#3cb1c3",
          "layer": "below",
          "line": {
           "width": 0
          },
          "opacity": 1,
          "type": "rect",
          "x0": 5024,
          "x1": 5383,
          "xref": "x",
          "y0": 6102,
          "y1": 6461,
          "yref": "y"
         },
         {
          "fillcolor": "#6fc7bd",
          "layer": "below",
          "line": {
           "width": 0
          },
          "opacity": 1,
          "type": "rect",
          "x0": 5024,
          "x1": 5383,
          "xref": "x",
          "y0": 6461,
          "y1": 6820,
          "yref": "y"
         },
         {
          "fillcolor": "#1d90c0",
          "layer": "below",
          "line": {
           "width": 0
          },
          "opacity": 1,
          "type": "rect",
          "x0": 5024,
          "x1": 5383,
          "xref": "x",
          "y0": 6820,
          "y1": 7179,
          "yref": "y"
         },
         {
          "fillcolor": "#53bdc1",
          "layer": "below",
          "line": {
           "width": 0
          },
          "opacity": 1,
          "type": "rect",
          "x0": 5024,
          "x1": 5383,
          "xref": "x",
          "y0": 7179,
          "y1": 7538,
          "yref": "y"
         },
         {
          "fillcolor": "#fcfed1",
          "layer": "below",
          "line": {
           "width": 0
          },
          "opacity": 1,
          "type": "rect",
          "x0": 5024,
          "x1": 5383,
          "xref": "x",
          "y0": 7538,
          "y1": 7897,
          "yref": "y"
         },
         {
          "fillcolor": "#6fc7bd",
          "layer": "below",
          "line": {
           "width": 0
          },
          "opacity": 1,
          "type": "rect",
          "x0": 5024,
          "x1": 5383,
          "xref": "x",
          "y0": 7897,
          "y1": 8256,
          "yref": "y"
         },
         {
          "fillcolor": "#1d90c0",
          "layer": "below",
          "line": {
           "width": 0
          },
          "opacity": 1,
          "type": "rect",
          "x0": 5024,
          "x1": 5383,
          "xref": "x",
          "y0": 8256,
          "y1": 8614,
          "yref": "y"
         },
         {
          "fillcolor": "#3cb1c3",
          "layer": "below",
          "line": {
           "width": 0
          },
          "opacity": 1,
          "type": "rect",
          "x0": 5024,
          "x1": 5383,
          "xref": "x",
          "y0": 8614,
          "y1": 8973,
          "yref": "y"
         },
         {
          "fillcolor": "#fcfed1",
          "layer": "below",
          "line": {
           "width": 0
          },
          "opacity": 1,
          "type": "rect",
          "x0": 5024,
          "x1": 5383,
          "xref": "x",
          "y0": 8973,
          "y1": 9332,
          "yref": "y"
         },
         {
          "fillcolor": "#e2f4b2",
          "layer": "below",
          "line": {
           "width": 0
          },
          "opacity": 1,
          "type": "rect",
          "x0": 5024,
          "x1": 5383,
          "xref": "x",
          "y0": 9332,
          "y1": 9691,
          "yref": "y"
         },
         {
          "fillcolor": "#1d91c0",
          "layer": "below",
          "line": {
           "width": 0
          },
          "opacity": 1,
          "type": "rect",
          "x0": 5024,
          "x1": 5383,
          "xref": "x",
          "y0": 9691,
          "y1": 10051,
          "yref": "y"
         },
         {
          "fillcolor": "#48b9c3",
          "layer": "below",
          "line": {
           "width": 0
          },
          "opacity": 1,
          "type": "rect",
          "x0": 5024,
          "x1": 5383,
          "xref": "x",
          "y0": 10051,
          "y1": 10410,
          "yref": "y"
         },
         {
          "fillcolor": "#fcfed1",
          "layer": "below",
          "line": {
           "width": 0
          },
          "opacity": 1,
          "type": "rect",
          "x0": 5024,
          "x1": 5383,
          "xref": "x",
          "y0": 10410,
          "y1": 10770,
          "yref": "y"
         },
         {
          "fillcolor": "#1d90c0",
          "layer": "below",
          "line": {
           "width": 0
          },
          "opacity": 1,
          "type": "rect",
          "x0": 5024,
          "x1": 5383,
          "xref": "x",
          "y0": 10770,
          "y1": 11129,
          "yref": "y"
         },
         {
          "fillcolor": "#abdeb7",
          "layer": "below",
          "line": {
           "width": 0
          },
          "opacity": 1,
          "type": "rect",
          "x0": 5024,
          "x1": 5383,
          "xref": "x",
          "y0": 11129,
          "y1": 11488,
          "yref": "y"
         },
         {
          "fillcolor": "#6fc7bd",
          "layer": "below",
          "line": {
           "width": 0
          },
          "opacity": 1,
          "type": "rect",
          "x0": 5024,
          "x1": 5383,
          "xref": "x",
          "y0": 11488,
          "y1": 11846,
          "yref": "y"
         },
         {
          "fillcolor": "#1e86bb",
          "layer": "below",
          "line": {
           "width": 0
          },
          "opacity": 1,
          "type": "rect",
          "x0": 5024,
          "x1": 5383,
          "xref": "x",
          "y0": 11846,
          "y1": 12205,
          "yref": "y"
         },
         {
          "fillcolor": "#2da2c2",
          "layer": "below",
          "line": {
           "width": 0
          },
          "opacity": 1,
          "type": "rect",
          "x0": 5024,
          "x1": 5383,
          "xref": "x",
          "y0": 12205,
          "y1": 12563,
          "yref": "y"
         },
         {
          "fillcolor": "#55bec1",
          "layer": "below",
          "line": {
           "width": 0
          },
          "opacity": 1,
          "type": "rect",
          "x0": 5024,
          "x1": 5383,
          "xref": "x",
          "y0": 12563,
          "y1": 12921,
          "yref": "y"
         },
         {
          "fillcolor": "#2070b0",
          "layer": "below",
          "line": {
           "width": 0
          },
          "opacity": 1,
          "type": "rect",
          "x0": 5383,
          "x1": 5743,
          "xref": "x",
          "y0": 5743,
          "y1": 6102,
          "yref": "y"
         },
         {
          "fillcolor": "#c9eab4",
          "layer": "below",
          "line": {
           "width": 0
          },
          "opacity": 1,
          "type": "rect",
          "x0": 5383,
          "x1": 5743,
          "xref": "x",
          "y0": 6102,
          "y1": 6461,
          "yref": "y"
         },
         {
          "fillcolor": "#55bec1",
          "layer": "below",
          "line": {
           "width": 0
          },
          "opacity": 1,
          "type": "rect",
          "x0": 5383,
          "x1": 5743,
          "xref": "x",
          "y0": 6461,
          "y1": 6820,
          "yref": "y"
         },
         {
          "fillcolor": "#abdeb7",
          "layer": "below",
          "line": {
           "width": 0
          },
          "opacity": 1,
          "type": "rect",
          "x0": 5383,
          "x1": 5743,
          "xref": "x",
          "y0": 6820,
          "y1": 7179,
          "yref": "y"
         },
         {
          "fillcolor": "#3db2c4",
          "layer": "below",
          "line": {
           "width": 0
          },
          "opacity": 1,
          "type": "rect",
          "x0": 5383,
          "x1": 5743,
          "xref": "x",
          "y0": 7179,
          "y1": 7538,
          "yref": "y"
         },
         {
          "fillcolor": "#1f7db6",
          "layer": "below",
          "line": {
           "width": 0
          },
          "opacity": 1,
          "type": "rect",
          "x0": 5383,
          "x1": 5743,
          "xref": "x",
          "y0": 7538,
          "y1": 7897,
          "yref": "y"
         },
         {
          "fillcolor": "#2da2c2",
          "layer": "below",
          "line": {
           "width": 0
          },
          "opacity": 1,
          "type": "rect",
          "x0": 5383,
          "x1": 5743,
          "xref": "x",
          "y0": 7897,
          "y1": 8256,
          "yref": "y"
         },
         {
          "fillcolor": "#abdeb7",
          "layer": "below",
          "line": {
           "width": 0
          },
          "opacity": 1,
          "type": "rect",
          "x0": 5383,
          "x1": 5743,
          "xref": "x",
          "y0": 8256,
          "y1": 8614,
          "yref": "y"
         },
         {
          "fillcolor": "#2da2c2",
          "layer": "below",
          "line": {
           "width": 0
          },
          "opacity": 1,
          "type": "rect",
          "x0": 5383,
          "x1": 5743,
          "xref": "x",
          "y0": 8614,
          "y1": 8973,
          "yref": "y"
         },
         {
          "fillcolor": "#1f7db6",
          "layer": "below",
          "line": {
           "width": 0
          },
          "opacity": 1,
          "type": "rect",
          "x0": 5383,
          "x1": 5743,
          "xref": "x",
          "y0": 8973,
          "y1": 9332,
          "yref": "y"
         },
         {
          "fillcolor": "#48b9c3",
          "layer": "below",
          "line": {
           "width": 0
          },
          "opacity": 1,
          "type": "rect",
          "x0": 5383,
          "x1": 5743,
          "xref": "x",
          "y0": 9332,
          "y1": 9691,
          "yref": "y"
         },
         {
          "fillcolor": "#abdeb7",
          "layer": "below",
          "line": {
           "width": 0
          },
          "opacity": 1,
          "type": "rect",
          "x0": 5383,
          "x1": 5743,
          "xref": "x",
          "y0": 9691,
          "y1": 10051,
          "yref": "y"
         },
         {
          "fillcolor": "#2072b1",
          "layer": "below",
          "line": {
           "width": 0
          },
          "opacity": 1,
          "type": "rect",
          "x0": 5383,
          "x1": 5743,
          "xref": "x",
          "y0": 10051,
          "y1": 10410,
          "yref": "y"
         },
         {
          "fillcolor": "#1f7db6",
          "layer": "below",
          "line": {
           "width": 0
          },
          "opacity": 1,
          "type": "rect",
          "x0": 5383,
          "x1": 5743,
          "xref": "x",
          "y0": 10410,
          "y1": 10770,
          "yref": "y"
         },
         {
          "fillcolor": "#abdeb7",
          "layer": "below",
          "line": {
           "width": 0
          },
          "opacity": 1,
          "type": "rect",
          "x0": 5383,
          "x1": 5743,
          "xref": "x",
          "y0": 10770,
          "y1": 11129,
          "yref": "y"
         },
         {
          "fillcolor": "#2da2c2",
          "layer": "below",
          "line": {
           "width": 0
          },
          "opacity": 1,
          "type": "rect",
          "x0": 5383,
          "x1": 5743,
          "xref": "x",
          "y0": 11129,
          "y1": 11488,
          "yref": "y"
         },
         {
          "fillcolor": "#2da2c2",
          "layer": "below",
          "line": {
           "width": 0
          },
          "opacity": 1,
          "type": "rect",
          "x0": 5383,
          "x1": 5743,
          "xref": "x",
          "y0": 11488,
          "y1": 11846,
          "yref": "y"
         },
         {
          "fillcolor": "#9cd8b8",
          "layer": "below",
          "line": {
           "width": 0
          },
          "opacity": 1,
          "type": "rect",
          "x0": 5383,
          "x1": 5743,
          "xref": "x",
          "y0": 11846,
          "y1": 12205,
          "yref": "y"
         },
         {
          "fillcolor": "#2351a2",
          "layer": "below",
          "line": {
           "width": 0
          },
          "opacity": 1,
          "type": "rect",
          "x0": 5383,
          "x1": 5743,
          "xref": "x",
          "y0": 12205,
          "y1": 12563,
          "yref": "y"
         },
         {
          "fillcolor": "#3db2c4",
          "layer": "below",
          "line": {
           "width": 0
          },
          "opacity": 1,
          "type": "rect",
          "x0": 5383,
          "x1": 5743,
          "xref": "x",
          "y0": 12563,
          "y1": 12921,
          "yref": "y"
         },
         {
          "fillcolor": "#2ca1c2",
          "layer": "below",
          "line": {
           "width": 0
          },
          "opacity": 1,
          "type": "rect",
          "x0": 5743,
          "x1": 6102,
          "xref": "x",
          "y0": 6102,
          "y1": 6461,
          "yref": "y"
         },
         {
          "fillcolor": "#53bdc1",
          "layer": "below",
          "line": {
           "width": 0
          },
          "opacity": 1,
          "type": "rect",
          "x0": 5743,
          "x1": 6102,
          "xref": "x",
          "y0": 6461,
          "y1": 6820,
          "yref": "y"
         },
         {
          "fillcolor": "#2ca1c2",
          "layer": "below",
          "line": {
           "width": 0
          },
          "opacity": 1,
          "type": "rect",
          "x0": 5743,
          "x1": 6102,
          "xref": "x",
          "y0": 6820,
          "y1": 7179,
          "yref": "y"
         },
         {
          "fillcolor": "#6fc7bd",
          "layer": "below",
          "line": {
           "width": 0
          },
          "opacity": 1,
          "type": "rect",
          "x0": 5743,
          "x1": 6102,
          "xref": "x",
          "y0": 7179,
          "y1": 7538,
          "yref": "y"
         },
         {
          "fillcolor": "#f4fbc0",
          "layer": "below",
          "line": {
           "width": 0
          },
          "opacity": 1,
          "type": "rect",
          "x0": 5743,
          "x1": 6102,
          "xref": "x",
          "y0": 7538,
          "y1": 7897,
          "yref": "y"
         },
         {
          "fillcolor": "#8cd2ba",
          "layer": "below",
          "line": {
           "width": 0
          },
          "opacity": 1,
          "type": "rect",
          "x0": 5743,
          "x1": 6102,
          "xref": "x",
          "y0": 7897,
          "y1": 8256,
          "yref": "y"
         },
         {
          "fillcolor": "#2498c1",
          "layer": "below",
          "line": {
           "width": 0
          },
          "opacity": 1,
          "type": "rect",
          "x0": 5743,
          "x1": 6102,
          "xref": "x",
          "y0": 8256,
          "y1": 8614,
          "yref": "y"
         },
         {
          "fillcolor": "#53bdc1",
          "layer": "below",
          "line": {
           "width": 0
          },
          "opacity": 1,
          "type": "rect",
          "x0": 5743,
          "x1": 6102,
          "xref": "x",
          "y0": 8614,
          "y1": 8973,
          "yref": "y"
         },
         {
          "fillcolor": "#f4fbc0",
          "layer": "below",
          "line": {
           "width": 0
          },
          "opacity": 1,
          "type": "rect",
          "x0": 5743,
          "x1": 6102,
          "xref": "x",
          "y0": 8973,
          "y1": 9332,
          "yref": "y"
         },
         {
          "fillcolor": "#d1edb3",
          "layer": "below",
          "line": {
           "width": 0
          },
          "opacity": 1,
          "type": "rect",
          "x0": 5743,
          "x1": 6102,
          "xref": "x",
          "y0": 9332,
          "y1": 9691,
          "yref": "y"
         },
         {
          "fillcolor": "#1f7bb6",
          "layer": "below",
          "line": {
           "width": 0
          },
          "opacity": 1,
          "type": "rect",
          "x0": 5743,
          "x1": 6102,
          "xref": "x",
          "y0": 9691,
          "y1": 10051,
          "yref": "y"
         },
         {
          "fillcolor": "#35aac3",
          "layer": "below",
          "line": {
           "width": 0
          },
          "opacity": 1,
          "type": "rect",
          "x0": 5743,
          "x1": 6102,
          "xref": "x",
          "y0": 10051,
          "y1": 10410,
          "yref": "y"
         },
         {
          "fillcolor": "#f4fbc0",
          "layer": "below",
          "line": {
           "width": 0
          },
          "opacity": 1,
          "type": "rect",
          "x0": 5743,
          "x1": 6102,
          "xref": "x",
          "y0": 10410,
          "y1": 10770,
          "yref": "y"
         },
         {
          "fillcolor": "#1f7bb6",
          "layer": "below",
          "line": {
           "width": 0
          },
          "opacity": 1,
          "type": "rect",
          "x0": 5743,
          "x1": 6102,
          "xref": "x",
          "y0": 10770,
          "y1": 11129,
          "yref": "y"
         },
         {
          "fillcolor": "#c9eab4",
          "layer": "below",
          "line": {
           "width": 0
          },
          "opacity": 1,
          "type": "rect",
          "x0": 5743,
          "x1": 6102,
          "xref": "x",
          "y0": 11129,
          "y1": 11488,
          "yref": "y"
         },
         {
          "fillcolor": "#55bec1",
          "layer": "below",
          "line": {
           "width": 0
          },
          "opacity": 1,
          "type": "rect",
          "x0": 5743,
          "x1": 6102,
          "xref": "x",
          "y0": 11488,
          "y1": 11846,
          "yref": "y"
         },
         {
          "fillcolor": "#2070b0",
          "layer": "below",
          "line": {
           "width": 0
          },
          "opacity": 1,
          "type": "rect",
          "x0": 5743,
          "x1": 6102,
          "xref": "x",
          "y0": 11846,
          "y1": 12205,
          "yref": "y"
         },
         {
          "fillcolor": "#1d91c0",
          "layer": "below",
          "line": {
           "width": 0
          },
          "opacity": 1,
          "type": "rect",
          "x0": 5743,
          "x1": 6102,
          "xref": "x",
          "y0": 12205,
          "y1": 12563,
          "yref": "y"
         },
         {
          "fillcolor": "#3db2c4",
          "layer": "below",
          "line": {
           "width": 0
          },
          "opacity": 1,
          "type": "rect",
          "x0": 5743,
          "x1": 6102,
          "xref": "x",
          "y0": 12563,
          "y1": 12921,
          "yref": "y"
         },
         {
          "fillcolor": "#7cccbb",
          "layer": "below",
          "line": {
           "width": 0
          },
          "opacity": 1,
          "type": "rect",
          "x0": 6102,
          "x1": 6461,
          "xref": "x",
          "y0": 6461,
          "y1": 6820,
          "yref": "y"
         },
         {
          "fillcolor": "#e2f4b2",
          "layer": "below",
          "line": {
           "width": 0
          },
          "opacity": 1,
          "type": "rect",
          "x0": 6102,
          "x1": 6461,
          "xref": "x",
          "y0": 6820,
          "y1": 7179,
          "yref": "y"
         },
         {
          "fillcolor": "#61c2bf",
          "layer": "below",
          "line": {
           "width": 0
          },
          "opacity": 1,
          "type": "rect",
          "x0": 6102,
          "x1": 6461,
          "xref": "x",
          "y0": 7179,
          "y1": 7538,
          "yref": "y"
         },
         {
          "fillcolor": "#35aac3",
          "layer": "below",
          "line": {
           "width": 0
          },
          "opacity": 1,
          "type": "rect",
          "x0": 6102,
          "x1": 6461,
          "xref": "x",
          "y0": 7538,
          "y1": 7897,
          "yref": "y"
         },
         {
          "fillcolor": "#61c2bf",
          "layer": "below",
          "line": {
           "width": 0
          },
          "opacity": 1,
          "type": "rect",
          "x0": 6102,
          "x1": 6461,
          "xref": "x",
          "y0": 7897,
          "y1": 8256,
          "yref": "y"
         },
         {
          "fillcolor": "#e2f4b2",
          "layer": "below",
          "line": {
           "width": 0
          },
          "opacity": 1,
          "type": "rect",
          "x0": 6102,
          "x1": 6461,
          "xref": "x",
          "y0": 8256,
          "y1": 8614,
          "yref": "y"
         },
         {
          "fillcolor": "#46b8c3",
          "layer": "below",
          "line": {
           "width": 0
          },
          "opacity": 1,
          "type": "rect",
          "x0": 6102,
          "x1": 6461,
          "xref": "x",
          "y0": 8614,
          "y1": 8973,
          "yref": "y"
         },
         {
          "fillcolor": "#35aac3",
          "layer": "below",
          "line": {
           "width": 0
          },
          "opacity": 1,
          "type": "rect",
          "x0": 6102,
          "x1": 6461,
          "xref": "x",
          "y0": 8973,
          "y1": 9332,
          "yref": "y"
         },
         {
          "fillcolor": "#8cd2ba",
          "layer": "below",
          "line": {
           "width": 0
          },
          "opacity": 1,
          "type": "rect",
          "x0": 6102,
          "x1": 6461,
          "xref": "x",
          "y0": 9332,
          "y1": 9691,
          "yref": "y"
         },
         {
          "fillcolor": "#f0f9b7",
          "layer": "below",
          "line": {
           "width": 0
          },
          "opacity": 1,
          "type": "rect",
          "x0": 6102,
          "x1": 6461,
          "xref": "x",
          "y0": 9691,
          "y1": 10051,
          "yref": "y"
         },
         {
          "fillcolor": "#1d91c0",
          "layer": "below",
          "line": {
           "width": 0
          },
          "opacity": 1,
          "type": "rect",
          "x0": 6102,
          "x1": 6461,
          "xref": "x",
          "y0": 10051,
          "y1": 10410,
          "yref": "y"
         },
         {
          "fillcolor": "#35aac3",
          "layer": "below",
          "line": {
           "width": 0
          },
          "opacity": 1,
          "type": "rect",
          "x0": 6102,
          "x1": 6461,
          "xref": "x",
          "y0": 10410,
          "y1": 10770,
          "yref": "y"
         },
         {
          "fillcolor": "#f0f9b7",
          "layer": "below",
          "line": {
           "width": 0
          },
          "opacity": 1,
          "type": "rect",
          "x0": 6102,
          "x1": 6461,
          "xref": "x",
          "y0": 10770,
          "y1": 11129,
          "yref": "y"
         },
         {
          "fillcolor": "#61c2bf",
          "layer": "below",
          "line": {
           "width": 0
          },
          "opacity": 1,
          "type": "rect",
          "x0": 6102,
          "x1": 6461,
          "xref": "x",
          "y0": 11129,
          "y1": 11488,
          "yref": "y"
         },
         {
          "fillcolor": "#48b9c3",
          "layer": "below",
          "line": {
           "width": 0
          },
          "opacity": 1,
          "type": "rect",
          "x0": 6102,
          "x1": 6461,
          "xref": "x",
          "y0": 11488,
          "y1": 11846,
          "yref": "y"
         },
         {
          "fillcolor": "#daf0b3",
          "layer": "below",
          "line": {
           "width": 0
          },
          "opacity": 1,
          "type": "rect",
          "x0": 6102,
          "x1": 6461,
          "xref": "x",
          "y0": 11846,
          "y1": 12205,
          "yref": "y"
         },
         {
          "fillcolor": "#225aa6",
          "layer": "below",
          "line": {
           "width": 0
          },
          "opacity": 1,
          "type": "rect",
          "x0": 6102,
          "x1": 6461,
          "xref": "x",
          "y0": 12205,
          "y1": 12563,
          "yref": "y"
         },
         {
          "fillcolor": "#2070b0",
          "layer": "below",
          "line": {
           "width": 0
          },
          "opacity": 1,
          "type": "rect",
          "x0": 6102,
          "x1": 6461,
          "xref": "x",
          "y0": 12563,
          "y1": 12921,
          "yref": "y"
         },
         {
          "fillcolor": "#61c2bf",
          "layer": "below",
          "line": {
           "width": 0
          },
          "opacity": 1,
          "type": "rect",
          "x0": 6461,
          "x1": 6820,
          "xref": "x",
          "y0": 6820,
          "y1": 7179,
          "yref": "y"
         },
         {
          "fillcolor": "#35aac3",
          "layer": "below",
          "line": {
           "width": 0
          },
          "opacity": 1,
          "type": "rect",
          "x0": 6461,
          "x1": 6820,
          "xref": "x",
          "y0": 7179,
          "y1": 7538,
          "yref": "y"
         },
         {
          "fillcolor": "#61c2bf",
          "layer": "below",
          "line": {
           "width": 0
          },
          "opacity": 1,
          "type": "rect",
          "x0": 6461,
          "x1": 6820,
          "xref": "x",
          "y0": 7538,
          "y1": 7897,
          "yref": "y"
         },
         {
          "fillcolor": "#61c2bf",
          "layer": "below",
          "line": {
           "width": 0
          },
          "opacity": 1,
          "type": "rect",
          "x0": 6461,
          "x1": 6820,
          "xref": "x",
          "y0": 7897,
          "y1": 8256,
          "yref": "y"
         },
         {
          "fillcolor": "#61c2bf",
          "layer": "below",
          "line": {
           "width": 0
          },
          "opacity": 1,
          "type": "rect",
          "x0": 6461,
          "x1": 6820,
          "xref": "x",
          "y0": 8256,
          "y1": 8614,
          "yref": "y"
         },
         {
          "fillcolor": "#259ac1",
          "layer": "below",
          "line": {
           "width": 0
          },
          "opacity": 1,
          "type": "rect",
          "x0": 6461,
          "x1": 6820,
          "xref": "x",
          "y0": 8614,
          "y1": 8973,
          "yref": "y"
         },
         {
          "fillcolor": "#61c2bf",
          "layer": "below",
          "line": {
           "width": 0
          },
          "opacity": 1,
          "type": "rect",
          "x0": 6461,
          "x1": 6820,
          "xref": "x",
          "y0": 8973,
          "y1": 9332,
          "yref": "y"
         },
         {
          "fillcolor": "#6fc7bd",
          "layer": "below",
          "line": {
           "width": 0
          },
          "opacity": 1,
          "type": "rect",
          "x0": 6461,
          "x1": 6820,
          "xref": "x",
          "y0": 9332,
          "y1": 9691,
          "yref": "y"
         },
         {
          "fillcolor": "#48b9c3",
          "layer": "below",
          "line": {
           "width": 0
          },
          "opacity": 1,
          "type": "rect",
          "x0": 6461,
          "x1": 6820,
          "xref": "x",
          "y0": 9691,
          "y1": 10051,
          "yref": "y"
         },
         {
          "fillcolor": "#1d91c0",
          "layer": "below",
          "line": {
           "width": 0
          },
          "opacity": 1,
          "type": "rect",
          "x0": 6461,
          "x1": 6820,
          "xref": "x",
          "y0": 10051,
          "y1": 10410,
          "yref": "y"
         },
         {
          "fillcolor": "#61c2bf",
          "layer": "below",
          "line": {
           "width": 0
          },
          "opacity": 1,
          "type": "rect",
          "x0": 6461,
          "x1": 6820,
          "xref": "x",
          "y0": 10410,
          "y1": 10770,
          "yref": "y"
         },
         {
          "fillcolor": "#46b8c3",
          "layer": "below",
          "line": {
           "width": 0
          },
          "opacity": 1,
          "type": "rect",
          "x0": 6461,
          "x1": 6820,
          "xref": "x",
          "y0": 10770,
          "y1": 11129,
          "yref": "y"
         },
         {
          "fillcolor": "#bbe4b5",
          "layer": "below",
          "line": {
           "width": 0
          },
          "opacity": 1,
          "type": "rect",
          "x0": 6461,
          "x1": 6820,
          "xref": "x",
          "y0": 11129,
          "y1": 11488,
          "yref": "y"
         },
         {
          "fillcolor": "#35aac3",
          "layer": "below",
          "line": {
           "width": 0
          },
          "opacity": 1,
          "type": "rect",
          "x0": 6461,
          "x1": 6820,
          "xref": "x",
          "y0": 11488,
          "y1": 11846,
          "yref": "y"
         },
         {
          "fillcolor": "#3cb1c3",
          "layer": "below",
          "line": {
           "width": 0
          },
          "opacity": 1,
          "type": "rect",
          "x0": 6461,
          "x1": 6820,
          "xref": "x",
          "y0": 11846,
          "y1": 12205,
          "yref": "y"
         },
         {
          "fillcolor": "#225ca7",
          "layer": "below",
          "line": {
           "width": 0
          },
          "opacity": 1,
          "type": "rect",
          "x0": 6461,
          "x1": 6820,
          "xref": "x",
          "y0": 12205,
          "y1": 12563,
          "yref": "y"
         },
         {
          "fillcolor": "#259ac1",
          "layer": "below",
          "line": {
           "width": 0
          },
          "opacity": 1,
          "type": "rect",
          "x0": 6461,
          "x1": 6820,
          "xref": "x",
          "y0": 12563,
          "y1": 12921,
          "yref": "y"
         },
         {
          "fillcolor": "#7cccbb",
          "layer": "below",
          "line": {
           "width": 0
          },
          "opacity": 1,
          "type": "rect",
          "x0": 6820,
          "x1": 7179,
          "xref": "x",
          "y0": 7179,
          "y1": 7538,
          "yref": "y"
         },
         {
          "fillcolor": "#1e86bb",
          "layer": "below",
          "line": {
           "width": 0
          },
          "opacity": 1,
          "type": "rect",
          "x0": 6820,
          "x1": 7179,
          "xref": "x",
          "y0": 7538,
          "y1": 7897,
          "yref": "y"
         },
         {
          "fillcolor": "#61c2bf",
          "layer": "below",
          "line": {
           "width": 0
          },
          "opacity": 1,
          "type": "rect",
          "x0": 6820,
          "x1": 7179,
          "xref": "x",
          "y0": 7897,
          "y1": 8256,
          "yref": "y"
         },
         {
          "fillcolor": "#fcfed1",
          "layer": "below",
          "line": {
           "width": 0
          },
          "opacity": 1,
          "type": "rect",
          "x0": 6820,
          "x1": 7179,
          "xref": "x",
          "y0": 8256,
          "y1": 8614,
          "yref": "y"
         },
         {
          "fillcolor": "#61c2bf",
          "layer": "below",
          "line": {
           "width": 0
          },
          "opacity": 1,
          "type": "rect",
          "x0": 6820,
          "x1": 7179,
          "xref": "x",
          "y0": 8614,
          "y1": 8973,
          "yref": "y"
         },
         {
          "fillcolor": "#1e86bb",
          "layer": "below",
          "line": {
           "width": 0
          },
          "opacity": 1,
          "type": "rect",
          "x0": 6820,
          "x1": 7179,
          "xref": "x",
          "y0": 8973,
          "y1": 9332,
          "yref": "y"
         },
         {
          "fillcolor": "#53bdc1",
          "layer": "below",
          "line": {
           "width": 0
          },
          "opacity": 1,
          "type": "rect",
          "x0": 6820,
          "x1": 7179,
          "xref": "x",
          "y0": 9332,
          "y1": 9691,
          "yref": "y"
         },
         {
          "fillcolor": "#d1edb3",
          "layer": "below",
          "line": {
           "width": 0
          },
          "opacity": 1,
          "type": "rect",
          "x0": 6820,
          "x1": 7179,
          "xref": "x",
          "y0": 9691,
          "y1": 10051,
          "yref": "y"
         },
         {
          "fillcolor": "#1f7bb6",
          "layer": "below",
          "line": {
           "width": 0
          },
          "opacity": 1,
          "type": "rect",
          "x0": 6820,
          "x1": 7179,
          "xref": "x",
          "y0": 10051,
          "y1": 10410,
          "yref": "y"
         },
         {
          "fillcolor": "#1e86bb",
          "layer": "below",
          "line": {
           "width": 0
          },
          "opacity": 1,
          "type": "rect",
          "x0": 6820,
          "x1": 7179,
          "xref": "x",
          "y0": 10410,
          "y1": 10770,
          "yref": "y"
         },
         {
          "fillcolor": "#d1edb3",
          "layer": "below",
          "line": {
           "width": 0
          },
          "opacity": 1,
          "type": "rect",
          "x0": 6820,
          "x1": 7179,
          "xref": "x",
          "y0": 10770,
          "y1": 11129,
          "yref": "y"
         },
         {
          "fillcolor": "#61c2bf",
          "layer": "below",
          "line": {
           "width": 0
          },
          "opacity": 1,
          "type": "rect",
          "x0": 6820,
          "x1": 7179,
          "xref": "x",
          "y0": 11129,
          "y1": 11488,
          "yref": "y"
         },
         {
          "fillcolor": "#35aac3",
          "layer": "below",
          "line": {
           "width": 0
          },
          "opacity": 1,
          "type": "rect",
          "x0": 6820,
          "x1": 7179,
          "xref": "x",
          "y0": 11488,
          "y1": 11846,
          "yref": "y"
         },
         {
          "fillcolor": "#abdeb7",
          "layer": "below",
          "line": {
           "width": 0
          },
          "opacity": 1,
          "type": "rect",
          "x0": 6820,
          "x1": 7179,
          "xref": "x",
          "y0": 11846,
          "y1": 12205,
          "yref": "y"
         },
         {
          "fillcolor": "#24489d",
          "layer": "below",
          "line": {
           "width": 0
          },
          "opacity": 1,
          "type": "rect",
          "x0": 6820,
          "x1": 7179,
          "xref": "x",
          "y0": 12205,
          "y1": 12563,
          "yref": "y"
         },
         {
          "fillcolor": "#24489d",
          "layer": "below",
          "line": {
           "width": 0
          },
          "opacity": 1,
          "type": "rect",
          "x0": 6820,
          "x1": 7179,
          "xref": "x",
          "y0": 12563,
          "y1": 12921,
          "yref": "y"
         },
         {
          "fillcolor": "#48b9c3",
          "layer": "below",
          "line": {
           "width": 0
          },
          "opacity": 1,
          "type": "rect",
          "x0": 7179,
          "x1": 7538,
          "xref": "x",
          "y0": 7538,
          "y1": 7897,
          "yref": "y"
         },
         {
          "fillcolor": "#7cccbb",
          "layer": "below",
          "line": {
           "width": 0
          },
          "opacity": 1,
          "type": "rect",
          "x0": 7179,
          "x1": 7538,
          "xref": "x",
          "y0": 7897,
          "y1": 8256,
          "yref": "y"
         },
         {
          "fillcolor": "#6fc7bd",
          "layer": "below",
          "line": {
           "width": 0
          },
          "opacity": 1,
          "type": "rect",
          "x0": 7179,
          "x1": 7538,
          "xref": "x",
          "y0": 8256,
          "y1": 8614,
          "yref": "y"
         },
         {
          "fillcolor": "#f8fcc9",
          "layer": "below",
          "line": {
           "width": 0
          },
          "opacity": 1,
          "type": "rect",
          "x0": 7179,
          "x1": 7538,
          "xref": "x",
          "y0": 8614,
          "y1": 8973,
          "yref": "y"
         },
         {
          "fillcolor": "#48b9c3",
          "layer": "below",
          "line": {
           "width": 0
          },
          "opacity": 1,
          "type": "rect",
          "x0": 7179,
          "x1": 7538,
          "xref": "x",
          "y0": 8973,
          "y1": 9332,
          "yref": "y"
         },
         {
          "fillcolor": "#1d90c0",
          "layer": "below",
          "line": {
           "width": 0
          },
          "opacity": 1,
          "type": "rect",
          "x0": 7179,
          "x1": 7538,
          "xref": "x",
          "y0": 9332,
          "y1": 9691,
          "yref": "y"
         },
         {
          "fillcolor": "#48b9c3",
          "layer": "below",
          "line": {
           "width": 0
          },
          "opacity": 1,
          "type": "rect",
          "x0": 7179,
          "x1": 7538,
          "xref": "x",
          "y0": 9691,
          "y1": 10051,
          "yref": "y"
         },
         {
          "fillcolor": "#53bdc1",
          "layer": "below",
          "line": {
           "width": 0
          },
          "opacity": 1,
          "type": "rect",
          "x0": 7179,
          "x1": 7538,
          "xref": "x",
          "y0": 10051,
          "y1": 10410,
          "yref": "y"
         },
         {
          "fillcolor": "#48b9c3",
          "layer": "below",
          "line": {
           "width": 0
          },
          "opacity": 1,
          "type": "rect",
          "x0": 7179,
          "x1": 7538,
          "xref": "x",
          "y0": 10410,
          "y1": 10770,
          "yref": "y"
         },
         {
          "fillcolor": "#46b8c3",
          "layer": "below",
          "line": {
           "width": 0
          },
          "opacity": 1,
          "type": "rect",
          "x0": 7179,
          "x1": 7538,
          "xref": "x",
          "y0": 10770,
          "y1": 11129,
          "yref": "y"
         },
         {
          "fillcolor": "#9cd8b8",
          "layer": "below",
          "line": {
           "width": 0
          },
          "opacity": 1,
          "type": "rect",
          "x0": 7179,
          "x1": 7538,
          "xref": "x",
          "y0": 11129,
          "y1": 11488,
          "yref": "y"
         },
         {
          "fillcolor": "#225aa6",
          "layer": "below",
          "line": {
           "width": 0
          },
          "opacity": 1,
          "type": "rect",
          "x0": 7179,
          "x1": 7538,
          "xref": "x",
          "y0": 11488,
          "y1": 11846,
          "yref": "y"
         },
         {
          "fillcolor": "#53bdc1",
          "layer": "below",
          "line": {
           "width": 0
          },
          "opacity": 1,
          "type": "rect",
          "x0": 7179,
          "x1": 7538,
          "xref": "x",
          "y0": 11846,
          "y1": 12205,
          "yref": "y"
         },
         {
          "fillcolor": "#2ca1c2",
          "layer": "below",
          "line": {
           "width": 0
          },
          "opacity": 1,
          "type": "rect",
          "x0": 7179,
          "x1": 7538,
          "xref": "x",
          "y0": 12205,
          "y1": 12563,
          "yref": "y"
         },
         {
          "fillcolor": "#24489d",
          "layer": "below",
          "line": {
           "width": 0
          },
          "opacity": 1,
          "type": "rect",
          "x0": 7179,
          "x1": 7538,
          "xref": "x",
          "y0": 12563,
          "y1": 12921,
          "yref": "y"
         },
         {
          "fillcolor": "#61c2bf",
          "layer": "below",
          "line": {
           "width": 0
          },
          "opacity": 1,
          "type": "rect",
          "x0": 7538,
          "x1": 7897,
          "xref": "x",
          "y0": 7897,
          "y1": 8256,
          "yref": "y"
         },
         {
          "fillcolor": "#1e86bb",
          "layer": "below",
          "line": {
           "width": 0
          },
          "opacity": 1,
          "type": "rect",
          "x0": 7538,
          "x1": 7897,
          "xref": "x",
          "y0": 8256,
          "y1": 8614,
          "yref": "y"
         },
         {
          "fillcolor": "#35aac3",
          "layer": "below",
          "line": {
           "width": 0
          },
          "opacity": 1,
          "type": "rect",
          "x0": 7538,
          "x1": 7897,
          "xref": "x",
          "y0": 8614,
          "y1": 8973,
          "yref": "y"
         },
         {
          "fillcolor": "#ffffd9",
          "layer": "below",
          "line": {
           "width": 0
          },
          "opacity": 1,
          "type": "rect",
          "x0": 7538,
          "x1": 7897,
          "xref": "x",
          "y0": 8973,
          "y1": 9332,
          "yref": "y"
         },
         {
          "fillcolor": "#daf0b3",
          "layer": "below",
          "line": {
           "width": 0
          },
          "opacity": 1,
          "type": "rect",
          "x0": 7538,
          "x1": 7897,
          "xref": "x",
          "y0": 9332,
          "y1": 9691,
          "yref": "y"
         },
         {
          "fillcolor": "#1e86bb",
          "layer": "below",
          "line": {
           "width": 0
          },
          "opacity": 1,
          "type": "rect",
          "x0": 7538,
          "x1": 7897,
          "xref": "x",
          "y0": 9691,
          "y1": 10051,
          "yref": "y"
         },
         {
          "fillcolor": "#3db2c4",
          "layer": "below",
          "line": {
           "width": 0
          },
          "opacity": 1,
          "type": "rect",
          "x0": 7538,
          "x1": 7897,
          "xref": "x",
          "y0": 10051,
          "y1": 10410,
          "yref": "y"
         },
         {
          "fillcolor": "#f8fcc9",
          "layer": "below",
          "line": {
           "width": 0
          },
          "opacity": 1,
          "type": "rect",
          "x0": 7538,
          "x1": 7897,
          "xref": "x",
          "y0": 10410,
          "y1": 10770,
          "yref": "y"
         },
         {
          "fillcolor": "#1e86bb",
          "layer": "below",
          "line": {
           "width": 0
          },
          "opacity": 1,
          "type": "rect",
          "x0": 7538,
          "x1": 7897,
          "xref": "x",
          "y0": 10770,
          "y1": 11129,
          "yref": "y"
         },
         {
          "fillcolor": "#9cd8b8",
          "layer": "below",
          "line": {
           "width": 0
          },
          "opacity": 1,
          "type": "rect",
          "x0": 7538,
          "x1": 7897,
          "xref": "x",
          "y0": 11129,
          "y1": 11488,
          "yref": "y"
         },
         {
          "fillcolor": "#61c2bf",
          "layer": "below",
          "line": {
           "width": 0
          },
          "opacity": 1,
          "type": "rect",
          "x0": 7538,
          "x1": 7897,
          "xref": "x",
          "y0": 11488,
          "y1": 11846,
          "yref": "y"
         },
         {
          "fillcolor": "#1f7bb6",
          "layer": "below",
          "line": {
           "width": 0
          },
          "opacity": 1,
          "type": "rect",
          "x0": 7538,
          "x1": 7897,
          "xref": "x",
          "y0": 11846,
          "y1": 12205,
          "yref": "y"
         },
         {
          "fillcolor": "#259ac1",
          "layer": "below",
          "line": {
           "width": 0
          },
          "opacity": 1,
          "type": "rect",
          "x0": 7538,
          "x1": 7897,
          "xref": "x",
          "y0": 12205,
          "y1": 12563,
          "yref": "y"
         },
         {
          "fillcolor": "#48b9c3",
          "layer": "below",
          "line": {
           "width": 0
          },
          "opacity": 1,
          "type": "rect",
          "x0": 7538,
          "x1": 7897,
          "xref": "x",
          "y0": 12563,
          "y1": 12921,
          "yref": "y"
         },
         {
          "fillcolor": "#53bdc1",
          "layer": "below",
          "line": {
           "width": 0
          },
          "opacity": 1,
          "type": "rect",
          "x0": 7897,
          "x1": 8256,
          "xref": "x",
          "y0": 8256,
          "y1": 8614,
          "yref": "y"
         },
         {
          "fillcolor": "#61c2bf",
          "layer": "below",
          "line": {
           "width": 0
          },
          "opacity": 1,
          "type": "rect",
          "x0": 7897,
          "x1": 8256,
          "xref": "x",
          "y0": 8614,
          "y1": 8973,
          "yref": "y"
         },
         {
          "fillcolor": "#61c2bf",
          "layer": "below",
          "line": {
           "width": 0
          },
          "opacity": 1,
          "type": "rect",
          "x0": 7897,
          "x1": 8256,
          "xref": "x",
          "y0": 8973,
          "y1": 9332,
          "yref": "y"
         },
         {
          "fillcolor": "#6fc7bd",
          "layer": "below",
          "line": {
           "width": 0
          },
          "opacity": 1,
          "type": "rect",
          "x0": 7897,
          "x1": 8256,
          "xref": "x",
          "y0": 9332,
          "y1": 9691,
          "yref": "y"
         },
         {
          "fillcolor": "#35aac3",
          "layer": "below",
          "line": {
           "width": 0
          },
          "opacity": 1,
          "type": "rect",
          "x0": 7897,
          "x1": 8256,
          "xref": "x",
          "y0": 9691,
          "y1": 10051,
          "yref": "y"
         },
         {
          "fillcolor": "#1f7db6",
          "layer": "below",
          "line": {
           "width": 0
          },
          "opacity": 1,
          "type": "rect",
          "x0": 7897,
          "x1": 8256,
          "xref": "x",
          "y0": 10051,
          "y1": 10410,
          "yref": "y"
         },
         {
          "fillcolor": "#61c2bf",
          "layer": "below",
          "line": {
           "width": 0
          },
          "opacity": 1,
          "type": "rect",
          "x0": 7897,
          "x1": 8256,
          "xref": "x",
          "y0": 10410,
          "y1": 10770,
          "yref": "y"
         },
         {
          "fillcolor": "#34a9c3",
          "layer": "below",
          "line": {
           "width": 0
          },
          "opacity": 1,
          "type": "rect",
          "x0": 7897,
          "x1": 8256,
          "xref": "x",
          "y0": 10770,
          "y1": 11129,
          "yref": "y"
         },
         {
          "fillcolor": "#d1edb3",
          "layer": "below",
          "line": {
           "width": 0
          },
          "opacity": 1,
          "type": "rect",
          "x0": 7897,
          "x1": 8256,
          "xref": "x",
          "y0": 11129,
          "y1": 11488,
          "yref": "y"
         },
         {
          "fillcolor": "#1e86bb",
          "layer": "below",
          "line": {
           "width": 0
          },
          "opacity": 1,
          "type": "rect",
          "x0": 7897,
          "x1": 8256,
          "xref": "x",
          "y0": 11488,
          "y1": 11846,
          "yref": "y"
         },
         {
          "fillcolor": "#2ca1c2",
          "layer": "below",
          "line": {
           "width": 0
          },
          "opacity": 1,
          "type": "rect",
          "x0": 7897,
          "x1": 8256,
          "xref": "x",
          "y0": 11846,
          "y1": 12205,
          "yref": "y"
         },
         {
          "fillcolor": "#225ca7",
          "layer": "below",
          "line": {
           "width": 0
          },
          "opacity": 1,
          "type": "rect",
          "x0": 7897,
          "x1": 8256,
          "xref": "x",
          "y0": 12205,
          "y1": 12563,
          "yref": "y"
         },
         {
          "fillcolor": "#253595",
          "layer": "below",
          "line": {
           "width": 0
          },
          "opacity": 1,
          "type": "rect",
          "x0": 7897,
          "x1": 8256,
          "xref": "x",
          "y0": 12563,
          "y1": 12921,
          "yref": "y"
         },
         {
          "fillcolor": "#53bdc1",
          "layer": "below",
          "line": {
           "width": 0
          },
          "opacity": 1,
          "type": "rect",
          "x0": 8256,
          "x1": 8614,
          "xref": "x",
          "y0": 8614,
          "y1": 8973,
          "yref": "y"
         },
         {
          "fillcolor": "#1e86bb",
          "layer": "below",
          "line": {
           "width": 0
          },
          "opacity": 1,
          "type": "rect",
          "x0": 8256,
          "x1": 8614,
          "xref": "x",
          "y0": 8973,
          "y1": 9332,
          "yref": "y"
         },
         {
          "fillcolor": "#53bdc1",
          "layer": "below",
          "line": {
           "width": 0
          },
          "opacity": 1,
          "type": "rect",
          "x0": 8256,
          "x1": 8614,
          "xref": "x",
          "y0": 9332,
          "y1": 9691,
          "yref": "y"
         },
         {
          "fillcolor": "#d1edb3",
          "layer": "below",
          "line": {
           "width": 0
          },
          "opacity": 1,
          "type": "rect",
          "x0": 8256,
          "x1": 8614,
          "xref": "x",
          "y0": 9691,
          "y1": 10051,
          "yref": "y"
         },
         {
          "fillcolor": "#1f7bb6",
          "layer": "below",
          "line": {
           "width": 0
          },
          "opacity": 1,
          "type": "rect",
          "x0": 8256,
          "x1": 8614,
          "xref": "x",
          "y0": 10051,
          "y1": 10410,
          "yref": "y"
         },
         {
          "fillcolor": "#1e86bb",
          "layer": "below",
          "line": {
           "width": 0
          },
          "opacity": 1,
          "type": "rect",
          "x0": 8256,
          "x1": 8614,
          "xref": "x",
          "y0": 10410,
          "y1": 10770,
          "yref": "y"
         },
         {
          "fillcolor": "#d1edb3",
          "layer": "below",
          "line": {
           "width": 0
          },
          "opacity": 1,
          "type": "rect",
          "x0": 8256,
          "x1": 8614,
          "xref": "x",
          "y0": 10770,
          "y1": 11129,
          "yref": "y"
         },
         {
          "fillcolor": "#53bdc1",
          "layer": "below",
          "line": {
           "width": 0
          },
          "opacity": 1,
          "type": "rect",
          "x0": 8256,
          "x1": 8614,
          "xref": "x",
          "y0": 11129,
          "y1": 11488,
          "yref": "y"
         },
         {
          "fillcolor": "#35aac3",
          "layer": "below",
          "line": {
           "width": 0
          },
          "opacity": 1,
          "type": "rect",
          "x0": 8256,
          "x1": 8614,
          "xref": "x",
          "y0": 11488,
          "y1": 11846,
          "yref": "y"
         },
         {
          "fillcolor": "#abdeb7",
          "layer": "below",
          "line": {
           "width": 0
          },
          "opacity": 1,
          "type": "rect",
          "x0": 8256,
          "x1": 8614,
          "xref": "x",
          "y0": 11846,
          "y1": 12205,
          "yref": "y"
         },
         {
          "fillcolor": "#24489d",
          "layer": "below",
          "line": {
           "width": 0
          },
          "opacity": 1,
          "type": "rect",
          "x0": 8256,
          "x1": 8614,
          "xref": "x",
          "y0": 12205,
          "y1": 12563,
          "yref": "y"
         },
         {
          "fillcolor": "#24489d",
          "layer": "below",
          "line": {
           "width": 0
          },
          "opacity": 1,
          "type": "rect",
          "x0": 8256,
          "x1": 8614,
          "xref": "x",
          "y0": 12563,
          "y1": 12921,
          "yref": "y"
         },
         {
          "fillcolor": "#35aac3",
          "layer": "below",
          "line": {
           "width": 0
          },
          "opacity": 1,
          "type": "rect",
          "x0": 8614,
          "x1": 8973,
          "xref": "x",
          "y0": 8973,
          "y1": 9332,
          "yref": "y"
         },
         {
          "fillcolor": "#1f7bb6",
          "layer": "below",
          "line": {
           "width": 0
          },
          "opacity": 1,
          "type": "rect",
          "x0": 8614,
          "x1": 8973,
          "xref": "x",
          "y0": 9332,
          "y1": 9691,
          "yref": "y"
         },
         {
          "fillcolor": "#35aac3",
          "layer": "below",
          "line": {
           "width": 0
          },
          "opacity": 1,
          "type": "rect",
          "x0": 8614,
          "x1": 8973,
          "xref": "x",
          "y0": 9691,
          "y1": 10051,
          "yref": "y"
         },
         {
          "fillcolor": "#3cb1c3",
          "layer": "below",
          "line": {
           "width": 0
          },
          "opacity": 1,
          "type": "rect",
          "x0": 8614,
          "x1": 8973,
          "xref": "x",
          "y0": 10051,
          "y1": 10410,
          "yref": "y"
         },
         {
          "fillcolor": "#35aac3",
          "layer": "below",
          "line": {
           "width": 0
          },
          "opacity": 1,
          "type": "rect",
          "x0": 8614,
          "x1": 8973,
          "xref": "x",
          "y0": 10410,
          "y1": 10770,
          "yref": "y"
         },
         {
          "fillcolor": "#34a9c3",
          "layer": "below",
          "line": {
           "width": 0
          },
          "opacity": 1,
          "type": "rect",
          "x0": 8614,
          "x1": 8973,
          "xref": "x",
          "y0": 10770,
          "y1": 11129,
          "yref": "y"
         },
         {
          "fillcolor": "#7cccbb",
          "layer": "below",
          "line": {
           "width": 0
          },
          "opacity": 1,
          "type": "rect",
          "x0": 8614,
          "x1": 8973,
          "xref": "x",
          "y0": 11129,
          "y1": 11488,
          "yref": "y"
         },
         {
          "fillcolor": "#24489d",
          "layer": "below",
          "line": {
           "width": 0
          },
          "opacity": 1,
          "type": "rect",
          "x0": 8614,
          "x1": 8973,
          "xref": "x",
          "y0": 11488,
          "y1": 11846,
          "yref": "y"
         },
         {
          "fillcolor": "#3cb1c3",
          "layer": "below",
          "line": {
           "width": 0
          },
          "opacity": 1,
          "type": "rect",
          "x0": 8614,
          "x1": 8973,
          "xref": "x",
          "y0": 11846,
          "y1": 12205,
          "yref": "y"
         },
         {
          "fillcolor": "#1d90c0",
          "layer": "below",
          "line": {
           "width": 0
          },
          "opacity": 1,
          "type": "rect",
          "x0": 8614,
          "x1": 8973,
          "xref": "x",
          "y0": 12205,
          "y1": 12563,
          "yref": "y"
         },
         {
          "fillcolor": "#253595",
          "layer": "below",
          "line": {
           "width": 0
          },
          "opacity": 1,
          "type": "rect",
          "x0": 8614,
          "x1": 8973,
          "xref": "x",
          "y0": 12563,
          "y1": 12921,
          "yref": "y"
         },
         {
          "fillcolor": "#daf0b3",
          "layer": "below",
          "line": {
           "width": 0
          },
          "opacity": 1,
          "type": "rect",
          "x0": 8973,
          "x1": 9332,
          "xref": "x",
          "y0": 9332,
          "y1": 9691,
          "yref": "y"
         },
         {
          "fillcolor": "#1e86bb",
          "layer": "below",
          "line": {
           "width": 0
          },
          "opacity": 1,
          "type": "rect",
          "x0": 8973,
          "x1": 9332,
          "xref": "x",
          "y0": 9691,
          "y1": 10051,
          "yref": "y"
         },
         {
          "fillcolor": "#3db2c4",
          "layer": "below",
          "line": {
           "width": 0
          },
          "opacity": 1,
          "type": "rect",
          "x0": 8973,
          "x1": 9332,
          "xref": "x",
          "y0": 10051,
          "y1": 10410,
          "yref": "y"
         },
         {
          "fillcolor": "#f8fcc9",
          "layer": "below",
          "line": {
           "width": 0
          },
          "opacity": 1,
          "type": "rect",
          "x0": 8973,
          "x1": 9332,
          "xref": "x",
          "y0": 10410,
          "y1": 10770,
          "yref": "y"
         },
         {
          "fillcolor": "#1e86bb",
          "layer": "below",
          "line": {
           "width": 0
          },
          "opacity": 1,
          "type": "rect",
          "x0": 8973,
          "x1": 9332,
          "xref": "x",
          "y0": 10770,
          "y1": 11129,
          "yref": "y"
         },
         {
          "fillcolor": "#9cd8b8",
          "layer": "below",
          "line": {
           "width": 0
          },
          "opacity": 1,
          "type": "rect",
          "x0": 8973,
          "x1": 9332,
          "xref": "x",
          "y0": 11129,
          "y1": 11488,
          "yref": "y"
         },
         {
          "fillcolor": "#61c2bf",
          "layer": "below",
          "line": {
           "width": 0
          },
          "opacity": 1,
          "type": "rect",
          "x0": 8973,
          "x1": 9332,
          "xref": "x",
          "y0": 11488,
          "y1": 11846,
          "yref": "y"
         },
         {
          "fillcolor": "#1f7bb6",
          "layer": "below",
          "line": {
           "width": 0
          },
          "opacity": 1,
          "type": "rect",
          "x0": 8973,
          "x1": 9332,
          "xref": "x",
          "y0": 11846,
          "y1": 12205,
          "yref": "y"
         },
         {
          "fillcolor": "#259ac1",
          "layer": "below",
          "line": {
           "width": 0
          },
          "opacity": 1,
          "type": "rect",
          "x0": 8973,
          "x1": 9332,
          "xref": "x",
          "y0": 12205,
          "y1": 12563,
          "yref": "y"
         },
         {
          "fillcolor": "#48b9c3",
          "layer": "below",
          "line": {
           "width": 0
          },
          "opacity": 1,
          "type": "rect",
          "x0": 8973,
          "x1": 9332,
          "xref": "x",
          "y0": 12563,
          "y1": 12921,
          "yref": "y"
         },
         {
          "fillcolor": "#55bec1",
          "layer": "below",
          "line": {
           "width": 0
          },
          "opacity": 1,
          "type": "rect",
          "x0": 9332,
          "x1": 9691,
          "xref": "x",
          "y0": 9691,
          "y1": 10051,
          "yref": "y"
         },
         {
          "fillcolor": "#1e86bb",
          "layer": "below",
          "line": {
           "width": 0
          },
          "opacity": 1,
          "type": "rect",
          "x0": 9332,
          "x1": 9691,
          "xref": "x",
          "y0": 10051,
          "y1": 10410,
          "yref": "y"
         },
         {
          "fillcolor": "#daf0b3",
          "layer": "below",
          "line": {
           "width": 0
          },
          "opacity": 1,
          "type": "rect",
          "x0": 9332,
          "x1": 9691,
          "xref": "x",
          "y0": 10410,
          "y1": 10770,
          "yref": "y"
         },
         {
          "fillcolor": "#53bdc1",
          "layer": "below",
          "line": {
           "width": 0
          },
          "opacity": 1,
          "type": "rect",
          "x0": 9332,
          "x1": 9691,
          "xref": "x",
          "y0": 10770,
          "y1": 11129,
          "yref": "y"
         },
         {
          "fillcolor": "#53bdc1",
          "layer": "below",
          "line": {
           "width": 0
          },
          "opacity": 1,
          "type": "rect",
          "x0": 9332,
          "x1": 9691,
          "xref": "x",
          "y0": 11129,
          "y1": 11488,
          "yref": "y"
         },
         {
          "fillcolor": "#c9eab4",
          "layer": "below",
          "line": {
           "width": 0
          },
          "opacity": 1,
          "type": "rect",
          "x0": 9332,
          "x1": 9691,
          "xref": "x",
          "y0": 11488,
          "y1": 11846,
          "yref": "y"
         },
         {
          "fillcolor": "#46b8c3",
          "layer": "below",
          "line": {
           "width": 0
          },
          "opacity": 1,
          "type": "rect",
          "x0": 9332,
          "x1": 9691,
          "xref": "x",
          "y0": 11846,
          "y1": 12205,
          "yref": "y"
         },
         {
          "fillcolor": "#2165ab",
          "layer": "below",
          "line": {
           "width": 0
          },
          "opacity": 1,
          "type": "rect",
          "x0": 9332,
          "x1": 9691,
          "xref": "x",
          "y0": 12205,
          "y1": 12563,
          "yref": "y"
         },
         {
          "fillcolor": "#55bec1",
          "layer": "below",
          "line": {
           "width": 0
          },
          "opacity": 1,
          "type": "rect",
          "x0": 9332,
          "x1": 9691,
          "xref": "x",
          "y0": 12563,
          "y1": 12921,
          "yref": "y"
         },
         {
          "fillcolor": "#1e86bb",
          "layer": "below",
          "line": {
           "width": 0
          },
          "opacity": 1,
          "type": "rect",
          "x0": 9691,
          "x1": 10051,
          "xref": "x",
          "y0": 10051,
          "y1": 10410,
          "yref": "y"
         },
         {
          "fillcolor": "#1e86bb",
          "layer": "below",
          "line": {
           "width": 0
          },
          "opacity": 1,
          "type": "rect",
          "x0": 9691,
          "x1": 10051,
          "xref": "x",
          "y0": 10410,
          "y1": 10770,
          "yref": "y"
         },
         {
          "fillcolor": "#e2f4b2",
          "layer": "below",
          "line": {
           "width": 0
          },
          "opacity": 1,
          "type": "rect",
          "x0": 9691,
          "x1": 10051,
          "xref": "x",
          "y0": 10770,
          "y1": 11129,
          "yref": "y"
         },
         {
          "fillcolor": "#35aac3",
          "layer": "below",
          "line": {
           "width": 0
          },
          "opacity": 1,
          "type": "rect",
          "x0": 9691,
          "x1": 10051,
          "xref": "x",
          "y0": 11129,
          "y1": 11488,
          "yref": "y"
         },
         {
          "fillcolor": "#2da2c2",
          "layer": "below",
          "line": {
           "width": 0
          },
          "opacity": 1,
          "type": "rect",
          "x0": 9691,
          "x1": 10051,
          "xref": "x",
          "y0": 11488,
          "y1": 11846,
          "yref": "y"
         },
         {
          "fillcolor": "#c9eab4",
          "layer": "below",
          "line": {
           "width": 0
          },
          "opacity": 1,
          "type": "rect",
          "x0": 9691,
          "x1": 10051,
          "xref": "x",
          "y0": 11846,
          "y1": 12205,
          "yref": "y"
         },
         {
          "fillcolor": "#23499e",
          "layer": "below",
          "line": {
           "width": 0
          },
          "opacity": 1,
          "type": "rect",
          "x0": 9691,
          "x1": 10051,
          "xref": "x",
          "y0": 12205,
          "y1": 12563,
          "yref": "y"
         },
         {
          "fillcolor": "#2352a3",
          "layer": "below",
          "line": {
           "width": 0
          },
          "opacity": 1,
          "type": "rect",
          "x0": 9691,
          "x1": 10051,
          "xref": "x",
          "y0": 12563,
          "y1": 12921,
          "yref": "y"
         },
         {
          "fillcolor": "#3db2c4",
          "layer": "below",
          "line": {
           "width": 0
          },
          "opacity": 1,
          "type": "rect",
          "x0": 10051,
          "x1": 10410,
          "xref": "x",
          "y0": 10410,
          "y1": 10770,
          "yref": "y"
         },
         {
          "fillcolor": "#1f7db6",
          "layer": "below",
          "line": {
           "width": 0
          },
          "opacity": 1,
          "type": "rect",
          "x0": 10051,
          "x1": 10410,
          "xref": "x",
          "y0": 10770,
          "y1": 11129,
          "yref": "y"
         },
         {
          "fillcolor": "#3db2c4",
          "layer": "below",
          "line": {
           "width": 0
          },
          "opacity": 1,
          "type": "rect",
          "x0": 10051,
          "x1": 10410,
          "xref": "x",
          "y0": 11129,
          "y1": 11488,
          "yref": "y"
         },
         {
          "fillcolor": "#2165ab",
          "layer": "below",
          "line": {
           "width": 0
          },
          "opacity": 1,
          "type": "rect",
          "x0": 10051,
          "x1": 10410,
          "xref": "x",
          "y0": 11488,
          "y1": 11846,
          "yref": "y"
         },
         {
          "fillcolor": "#2070b0",
          "layer": "below",
          "line": {
           "width": 0
          },
          "opacity": 1,
          "type": "rect",
          "x0": 10051,
          "x1": 10410,
          "xref": "x",
          "y0": 11846,
          "y1": 12205,
          "yref": "y"
         },
         {
          "fillcolor": "#c9eab4",
          "layer": "below",
          "line": {
           "width": 0
          },
          "opacity": 1,
          "type": "rect",
          "x0": 10051,
          "x1": 10410,
          "xref": "x",
          "y0": 12205,
          "y1": 12563,
          "yref": "y"
         },
         {
          "fillcolor": "#243f99",
          "layer": "below",
          "line": {
           "width": 0
          },
          "opacity": 1,
          "type": "rect",
          "x0": 10051,
          "x1": 10410,
          "xref": "x",
          "y0": 12563,
          "y1": 12921,
          "yref": "y"
         },
         {
          "fillcolor": "#1e86bb",
          "layer": "below",
          "line": {
           "width": 0
          },
          "opacity": 1,
          "type": "rect",
          "x0": 10410,
          "x1": 10770,
          "xref": "x",
          "y0": 10770,
          "y1": 11129,
          "yref": "y"
         },
         {
          "fillcolor": "#9cd8b8",
          "layer": "below",
          "line": {
           "width": 0
          },
          "opacity": 1,
          "type": "rect",
          "x0": 10410,
          "x1": 10770,
          "xref": "x",
          "y0": 11129,
          "y1": 11488,
          "yref": "y"
         },
         {
          "fillcolor": "#63c3bf",
          "layer": "below",
          "line": {
           "width": 0
          },
          "opacity": 1,
          "type": "rect",
          "x0": 10410,
          "x1": 10770,
          "xref": "x",
          "y0": 11488,
          "y1": 11846,
          "yref": "y"
         },
         {
          "fillcolor": "#1f7bb6",
          "layer": "below",
          "line": {
           "width": 0
          },
          "opacity": 1,
          "type": "rect",
          "x0": 10410,
          "x1": 10770,
          "xref": "x",
          "y0": 11846,
          "y1": 12205,
          "yref": "y"
         },
         {
          "fillcolor": "#259ac1",
          "layer": "below",
          "line": {
           "width": 0
          },
          "opacity": 1,
          "type": "rect",
          "x0": 10410,
          "x1": 10770,
          "xref": "x",
          "y0": 12205,
          "y1": 12563,
          "yref": "y"
         },
         {
          "fillcolor": "#48b9c3",
          "layer": "below",
          "line": {
           "width": 0
          },
          "opacity": 1,
          "type": "rect",
          "x0": 10410,
          "x1": 10770,
          "xref": "x",
          "y0": 12563,
          "y1": 12921,
          "yref": "y"
         },
         {
          "fillcolor": "#34a9c3",
          "layer": "below",
          "line": {
           "width": 0
          },
          "opacity": 1,
          "type": "rect",
          "x0": 10770,
          "x1": 11129,
          "xref": "x",
          "y0": 11129,
          "y1": 11488,
          "yref": "y"
         },
         {
          "fillcolor": "#2da2c2",
          "layer": "below",
          "line": {
           "width": 0
          },
          "opacity": 1,
          "type": "rect",
          "x0": 10770,
          "x1": 11129,
          "xref": "x",
          "y0": 11488,
          "y1": 11846,
          "yref": "y"
         },
         {
          "fillcolor": "#c9eab4",
          "layer": "below",
          "line": {
           "width": 0
          },
          "opacity": 1,
          "type": "rect",
          "x0": 10770,
          "x1": 11129,
          "xref": "x",
          "y0": 11846,
          "y1": 12205,
          "yref": "y"
         },
         {
          "fillcolor": "#23499e",
          "layer": "below",
          "line": {
           "width": 0
          },
          "opacity": 1,
          "type": "rect",
          "x0": 10770,
          "x1": 11129,
          "xref": "x",
          "y0": 12205,
          "y1": 12563,
          "yref": "y"
         },
         {
          "fillcolor": "#2351a2",
          "layer": "below",
          "line": {
           "width": 0
          },
          "opacity": 1,
          "type": "rect",
          "x0": 10770,
          "x1": 11129,
          "xref": "x",
          "y0": 12563,
          "y1": 12921,
          "yref": "y"
         },
         {
          "fillcolor": "#2070b0",
          "layer": "below",
          "line": {
           "width": 0
          },
          "opacity": 1,
          "type": "rect",
          "x0": 11129,
          "x1": 11488,
          "xref": "x",
          "y0": 11488,
          "y1": 11846,
          "yref": "y"
         },
         {
          "fillcolor": "#2ca1c2",
          "layer": "below",
          "line": {
           "width": 0
          },
          "opacity": 1,
          "type": "rect",
          "x0": 11129,
          "x1": 11488,
          "xref": "x",
          "y0": 11846,
          "y1": 12205,
          "yref": "y"
         },
         {
          "fillcolor": "#1e86bb",
          "layer": "below",
          "line": {
           "width": 0
          },
          "opacity": 1,
          "type": "rect",
          "x0": 11129,
          "x1": 11488,
          "xref": "x",
          "y0": 12205,
          "y1": 12563,
          "yref": "y"
         },
         {
          "fillcolor": "#225aa6",
          "layer": "below",
          "line": {
           "width": 0
          },
          "opacity": 1,
          "type": "rect",
          "x0": 11129,
          "x1": 11488,
          "xref": "x",
          "y0": 12563,
          "y1": 12921,
          "yref": "y"
         },
         {
          "fillcolor": "#1d91c0",
          "layer": "below",
          "line": {
           "width": 0
          },
          "opacity": 1,
          "type": "rect",
          "x0": 11488,
          "x1": 11846,
          "xref": "x",
          "y0": 11846,
          "y1": 12205,
          "yref": "y"
         },
         {
          "fillcolor": "#253795",
          "layer": "below",
          "line": {
           "width": 0
          },
          "opacity": 1,
          "type": "rect",
          "x0": 11488,
          "x1": 11846,
          "xref": "x",
          "y0": 12205,
          "y1": 12563,
          "yref": "y"
         },
         {
          "fillcolor": "#7cccbb",
          "layer": "below",
          "line": {
           "width": 0
          },
          "opacity": 1,
          "type": "rect",
          "x0": 11488,
          "x1": 11846,
          "xref": "x",
          "y0": 12563,
          "y1": 12921,
          "yref": "y"
         },
         {
          "fillcolor": "#24489d",
          "layer": "below",
          "line": {
           "width": 0
          },
          "opacity": 1,
          "type": "rect",
          "x0": 11846,
          "x1": 12205,
          "xref": "x",
          "y0": 12205,
          "y1": 12563,
          "yref": "y"
         },
         {
          "fillcolor": "#243f99",
          "layer": "below",
          "line": {
           "width": 0
          },
          "opacity": 1,
          "type": "rect",
          "x0": 11846,
          "x1": 12205,
          "xref": "x",
          "y0": 12563,
          "y1": 12921,
          "yref": "y"
         },
         {
          "fillcolor": "#253595",
          "layer": "below",
          "line": {
           "width": 0
          },
          "opacity": 1,
          "type": "rect",
          "x0": 12205,
          "x1": 12563,
          "xref": "x",
          "y0": 12563,
          "y1": 12921,
          "yref": "y"
         },
         {
          "layer": "below",
          "line": {
           "color": "black",
           "width": 5
          },
          "type": "line",
          "x0": 0,
          "x1": 358,
          "xref": "x",
          "y0": 0,
          "y1": 358,
          "yref": "y"
         },
         {
          "layer": "below",
          "line": {
           "color": "black",
           "width": 5
          },
          "type": "line",
          "x0": 358,
          "x1": 716,
          "xref": "x",
          "y0": 358,
          "y1": 716,
          "yref": "y"
         },
         {
          "layer": "below",
          "line": {
           "color": "black",
           "width": 5
          },
          "type": "line",
          "x0": 716,
          "x1": 1074,
          "xref": "x",
          "y0": 716,
          "y1": 1074,
          "yref": "y"
         },
         {
          "layer": "below",
          "line": {
           "color": "black",
           "width": 5
          },
          "type": "line",
          "x0": 1074,
          "x1": 1433,
          "xref": "x",
          "y0": 1074,
          "y1": 1433,
          "yref": "y"
         },
         {
          "layer": "below",
          "line": {
           "color": "black",
           "width": 5
          },
          "type": "line",
          "x0": 1433,
          "x1": 1792,
          "xref": "x",
          "y0": 1433,
          "y1": 1792,
          "yref": "y"
         },
         {
          "layer": "below",
          "line": {
           "color": "black",
           "width": 5
          },
          "type": "line",
          "x0": 1792,
          "x1": 2152,
          "xref": "x",
          "y0": 1792,
          "y1": 2152,
          "yref": "y"
         },
         {
          "layer": "below",
          "line": {
           "color": "black",
           "width": 5
          },
          "type": "line",
          "x0": 2152,
          "x1": 2512,
          "xref": "x",
          "y0": 2152,
          "y1": 2512,
          "yref": "y"
         },
         {
          "layer": "below",
          "line": {
           "color": "black",
           "width": 5
          },
          "type": "line",
          "x0": 2512,
          "x1": 2871,
          "xref": "x",
          "y0": 2512,
          "y1": 2871,
          "yref": "y"
         },
         {
          "layer": "below",
          "line": {
           "color": "black",
           "width": 5
          },
          "type": "line",
          "x0": 2871,
          "x1": 3231,
          "xref": "x",
          "y0": 2871,
          "y1": 3231,
          "yref": "y"
         },
         {
          "layer": "below",
          "line": {
           "color": "black",
           "width": 5
          },
          "type": "line",
          "x0": 3231,
          "x1": 3590,
          "xref": "x",
          "y0": 3231,
          "y1": 3590,
          "yref": "y"
         },
         {
          "layer": "below",
          "line": {
           "color": "black",
           "width": 5
          },
          "type": "line",
          "x0": 3590,
          "x1": 3949,
          "xref": "x",
          "y0": 3590,
          "y1": 3949,
          "yref": "y"
         },
         {
          "layer": "below",
          "line": {
           "color": "black",
           "width": 5
          },
          "type": "line",
          "x0": 3949,
          "x1": 4305,
          "xref": "x",
          "y0": 3949,
          "y1": 4305,
          "yref": "y"
         },
         {
          "layer": "below",
          "line": {
           "color": "black",
           "width": 5
          },
          "type": "line",
          "x0": 4305,
          "x1": 4664,
          "xref": "x",
          "y0": 4305,
          "y1": 4664,
          "yref": "y"
         },
         {
          "layer": "below",
          "line": {
           "color": "black",
           "width": 5
          },
          "type": "line",
          "x0": 4664,
          "x1": 5024,
          "xref": "x",
          "y0": 4664,
          "y1": 5024,
          "yref": "y"
         },
         {
          "layer": "below",
          "line": {
           "color": "black",
           "width": 5
          },
          "type": "line",
          "x0": 5024,
          "x1": 5383,
          "xref": "x",
          "y0": 5024,
          "y1": 5383,
          "yref": "y"
         },
         {
          "layer": "below",
          "line": {
           "color": "black",
           "width": 5
          },
          "type": "line",
          "x0": 5383,
          "x1": 5743,
          "xref": "x",
          "y0": 5383,
          "y1": 5743,
          "yref": "y"
         },
         {
          "layer": "below",
          "line": {
           "color": "black",
           "width": 5
          },
          "type": "line",
          "x0": 5743,
          "x1": 6102,
          "xref": "x",
          "y0": 5743,
          "y1": 6102,
          "yref": "y"
         },
         {
          "layer": "below",
          "line": {
           "color": "black",
           "width": 5
          },
          "type": "line",
          "x0": 6102,
          "x1": 6461,
          "xref": "x",
          "y0": 6102,
          "y1": 6461,
          "yref": "y"
         },
         {
          "layer": "below",
          "line": {
           "color": "black",
           "width": 5
          },
          "type": "line",
          "x0": 6461,
          "x1": 6820,
          "xref": "x",
          "y0": 6461,
          "y1": 6820,
          "yref": "y"
         },
         {
          "layer": "below",
          "line": {
           "color": "black",
           "width": 5
          },
          "type": "line",
          "x0": 6820,
          "x1": 7179,
          "xref": "x",
          "y0": 6820,
          "y1": 7179,
          "yref": "y"
         },
         {
          "layer": "below",
          "line": {
           "color": "black",
           "width": 5
          },
          "type": "line",
          "x0": 7179,
          "x1": 7538,
          "xref": "x",
          "y0": 7179,
          "y1": 7538,
          "yref": "y"
         },
         {
          "layer": "below",
          "line": {
           "color": "black",
           "width": 5
          },
          "type": "line",
          "x0": 7538,
          "x1": 7897,
          "xref": "x",
          "y0": 7538,
          "y1": 7897,
          "yref": "y"
         },
         {
          "layer": "below",
          "line": {
           "color": "black",
           "width": 5
          },
          "type": "line",
          "x0": 7897,
          "x1": 8256,
          "xref": "x",
          "y0": 7897,
          "y1": 8256,
          "yref": "y"
         },
         {
          "layer": "below",
          "line": {
           "color": "black",
           "width": 5
          },
          "type": "line",
          "x0": 8256,
          "x1": 8614,
          "xref": "x",
          "y0": 8256,
          "y1": 8614,
          "yref": "y"
         },
         {
          "layer": "below",
          "line": {
           "color": "black",
           "width": 5
          },
          "type": "line",
          "x0": 8614,
          "x1": 8973,
          "xref": "x",
          "y0": 8614,
          "y1": 8973,
          "yref": "y"
         },
         {
          "layer": "below",
          "line": {
           "color": "black",
           "width": 5
          },
          "type": "line",
          "x0": 8973,
          "x1": 9332,
          "xref": "x",
          "y0": 8973,
          "y1": 9332,
          "yref": "y"
         },
         {
          "layer": "below",
          "line": {
           "color": "black",
           "width": 5
          },
          "type": "line",
          "x0": 9332,
          "x1": 9691,
          "xref": "x",
          "y0": 9332,
          "y1": 9691,
          "yref": "y"
         },
         {
          "layer": "below",
          "line": {
           "color": "black",
           "width": 5
          },
          "type": "line",
          "x0": 9691,
          "x1": 10051,
          "xref": "x",
          "y0": 9691,
          "y1": 10051,
          "yref": "y"
         },
         {
          "layer": "below",
          "line": {
           "color": "black",
           "width": 5
          },
          "type": "line",
          "x0": 10051,
          "x1": 10410,
          "xref": "x",
          "y0": 10051,
          "y1": 10410,
          "yref": "y"
         },
         {
          "layer": "below",
          "line": {
           "color": "black",
           "width": 5
          },
          "type": "line",
          "x0": 10410,
          "x1": 10770,
          "xref": "x",
          "y0": 10410,
          "y1": 10770,
          "yref": "y"
         },
         {
          "layer": "below",
          "line": {
           "color": "black",
           "width": 5
          },
          "type": "line",
          "x0": 10770,
          "x1": 11129,
          "xref": "x",
          "y0": 10770,
          "y1": 11129,
          "yref": "y"
         },
         {
          "layer": "below",
          "line": {
           "color": "black",
           "width": 5
          },
          "type": "line",
          "x0": 11129,
          "x1": 11488,
          "xref": "x",
          "y0": 11129,
          "y1": 11488,
          "yref": "y"
         },
         {
          "layer": "below",
          "line": {
           "color": "black",
           "width": 5
          },
          "type": "line",
          "x0": 11488,
          "x1": 11846,
          "xref": "x",
          "y0": 11488,
          "y1": 11846,
          "yref": "y"
         },
         {
          "layer": "below",
          "line": {
           "color": "black",
           "width": 5
          },
          "type": "line",
          "x0": 11846,
          "x1": 12205,
          "xref": "x",
          "y0": 11846,
          "y1": 12205,
          "yref": "y"
         },
         {
          "layer": "below",
          "line": {
           "color": "black",
           "width": 5
          },
          "type": "line",
          "x0": 12205,
          "x1": 12563,
          "xref": "x",
          "y0": 12205,
          "y1": 12563,
          "yref": "y"
         },
         {
          "layer": "below",
          "line": {
           "color": "black",
           "width": 5
          },
          "type": "line",
          "x0": 12563,
          "x1": 12921,
          "xref": "x",
          "y0": 12563,
          "y1": 12921,
          "yref": "y"
         }
        ],
        "template": {
         "data": {
          "bar": [
           {
            "error_x": {
             "color": "#2a3f5f"
            },
            "error_y": {
             "color": "#2a3f5f"
            },
            "marker": {
             "line": {
              "color": "white",
              "width": 0.5
             }
            },
            "type": "bar"
           }
          ],
          "barpolar": [
           {
            "marker": {
             "line": {
              "color": "white",
              "width": 0.5
             }
            },
            "type": "barpolar"
           }
          ],
          "carpet": [
           {
            "aaxis": {
             "endlinecolor": "#2a3f5f",
             "gridcolor": "#C8D4E3",
             "linecolor": "#C8D4E3",
             "minorgridcolor": "#C8D4E3",
             "startlinecolor": "#2a3f5f"
            },
            "baxis": {
             "endlinecolor": "#2a3f5f",
             "gridcolor": "#C8D4E3",
             "linecolor": "#C8D4E3",
             "minorgridcolor": "#C8D4E3",
             "startlinecolor": "#2a3f5f"
            },
            "type": "carpet"
           }
          ],
          "choropleth": [
           {
            "colorbar": {
             "outlinewidth": 0,
             "ticks": ""
            },
            "type": "choropleth"
           }
          ],
          "contour": [
           {
            "colorbar": {
             "outlinewidth": 0,
             "ticks": ""
            },
            "colorscale": [
             [
              0,
              "#0d0887"
             ],
             [
              0.1111111111111111,
              "#46039f"
             ],
             [
              0.2222222222222222,
              "#7201a8"
             ],
             [
              0.3333333333333333,
              "#9c179e"
             ],
             [
              0.4444444444444444,
              "#bd3786"
             ],
             [
              0.5555555555555556,
              "#d8576b"
             ],
             [
              0.6666666666666666,
              "#ed7953"
             ],
             [
              0.7777777777777778,
              "#fb9f3a"
             ],
             [
              0.8888888888888888,
              "#fdca26"
             ],
             [
              1,
              "#f0f921"
             ]
            ],
            "type": "contour"
           }
          ],
          "contourcarpet": [
           {
            "colorbar": {
             "outlinewidth": 0,
             "ticks": ""
            },
            "type": "contourcarpet"
           }
          ],
          "heatmap": [
           {
            "colorbar": {
             "outlinewidth": 0,
             "ticks": ""
            },
            "colorscale": [
             [
              0,
              "#0d0887"
             ],
             [
              0.1111111111111111,
              "#46039f"
             ],
             [
              0.2222222222222222,
              "#7201a8"
             ],
             [
              0.3333333333333333,
              "#9c179e"
             ],
             [
              0.4444444444444444,
              "#bd3786"
             ],
             [
              0.5555555555555556,
              "#d8576b"
             ],
             [
              0.6666666666666666,
              "#ed7953"
             ],
             [
              0.7777777777777778,
              "#fb9f3a"
             ],
             [
              0.8888888888888888,
              "#fdca26"
             ],
             [
              1,
              "#f0f921"
             ]
            ],
            "type": "heatmap"
           }
          ],
          "heatmapgl": [
           {
            "colorbar": {
             "outlinewidth": 0,
             "ticks": ""
            },
            "colorscale": [
             [
              0,
              "#0d0887"
             ],
             [
              0.1111111111111111,
              "#46039f"
             ],
             [
              0.2222222222222222,
              "#7201a8"
             ],
             [
              0.3333333333333333,
              "#9c179e"
             ],
             [
              0.4444444444444444,
              "#bd3786"
             ],
             [
              0.5555555555555556,
              "#d8576b"
             ],
             [
              0.6666666666666666,
              "#ed7953"
             ],
             [
              0.7777777777777778,
              "#fb9f3a"
             ],
             [
              0.8888888888888888,
              "#fdca26"
             ],
             [
              1,
              "#f0f921"
             ]
            ],
            "type": "heatmapgl"
           }
          ],
          "histogram": [
           {
            "marker": {
             "colorbar": {
              "outlinewidth": 0,
              "ticks": ""
             }
            },
            "type": "histogram"
           }
          ],
          "histogram2d": [
           {
            "colorbar": {
             "outlinewidth": 0,
             "ticks": ""
            },
            "colorscale": [
             [
              0,
              "#0d0887"
             ],
             [
              0.1111111111111111,
              "#46039f"
             ],
             [
              0.2222222222222222,
              "#7201a8"
             ],
             [
              0.3333333333333333,
              "#9c179e"
             ],
             [
              0.4444444444444444,
              "#bd3786"
             ],
             [
              0.5555555555555556,
              "#d8576b"
             ],
             [
              0.6666666666666666,
              "#ed7953"
             ],
             [
              0.7777777777777778,
              "#fb9f3a"
             ],
             [
              0.8888888888888888,
              "#fdca26"
             ],
             [
              1,
              "#f0f921"
             ]
            ],
            "type": "histogram2d"
           }
          ],
          "histogram2dcontour": [
           {
            "colorbar": {
             "outlinewidth": 0,
             "ticks": ""
            },
            "colorscale": [
             [
              0,
              "#0d0887"
             ],
             [
              0.1111111111111111,
              "#46039f"
             ],
             [
              0.2222222222222222,
              "#7201a8"
             ],
             [
              0.3333333333333333,
              "#9c179e"
             ],
             [
              0.4444444444444444,
              "#bd3786"
             ],
             [
              0.5555555555555556,
              "#d8576b"
             ],
             [
              0.6666666666666666,
              "#ed7953"
             ],
             [
              0.7777777777777778,
              "#fb9f3a"
             ],
             [
              0.8888888888888888,
              "#fdca26"
             ],
             [
              1,
              "#f0f921"
             ]
            ],
            "type": "histogram2dcontour"
           }
          ],
          "mesh3d": [
           {
            "colorbar": {
             "outlinewidth": 0,
             "ticks": ""
            },
            "type": "mesh3d"
           }
          ],
          "parcoords": [
           {
            "line": {
             "colorbar": {
              "outlinewidth": 0,
              "ticks": ""
             }
            },
            "type": "parcoords"
           }
          ],
          "scatter": [
           {
            "marker": {
             "colorbar": {
              "outlinewidth": 0,
              "ticks": ""
             }
            },
            "type": "scatter"
           }
          ],
          "scatter3d": [
           {
            "line": {
             "colorbar": {
              "outlinewidth": 0,
              "ticks": ""
             }
            },
            "marker": {
             "colorbar": {
              "outlinewidth": 0,
              "ticks": ""
             }
            },
            "type": "scatter3d"
           }
          ],
          "scattercarpet": [
           {
            "marker": {
             "colorbar": {
              "outlinewidth": 0,
              "ticks": ""
             }
            },
            "type": "scattercarpet"
           }
          ],
          "scattergeo": [
           {
            "marker": {
             "colorbar": {
              "outlinewidth": 0,
              "ticks": ""
             }
            },
            "type": "scattergeo"
           }
          ],
          "scattergl": [
           {
            "marker": {
             "colorbar": {
              "outlinewidth": 0,
              "ticks": ""
             }
            },
            "type": "scattergl"
           }
          ],
          "scattermapbox": [
           {
            "marker": {
             "colorbar": {
              "outlinewidth": 0,
              "ticks": ""
             }
            },
            "type": "scattermapbox"
           }
          ],
          "scatterpolar": [
           {
            "marker": {
             "colorbar": {
              "outlinewidth": 0,
              "ticks": ""
             }
            },
            "type": "scatterpolar"
           }
          ],
          "scatterpolargl": [
           {
            "marker": {
             "colorbar": {
              "outlinewidth": 0,
              "ticks": ""
             }
            },
            "type": "scatterpolargl"
           }
          ],
          "scatterternary": [
           {
            "marker": {
             "colorbar": {
              "outlinewidth": 0,
              "ticks": ""
             }
            },
            "type": "scatterternary"
           }
          ],
          "surface": [
           {
            "colorbar": {
             "outlinewidth": 0,
             "ticks": ""
            },
            "colorscale": [
             [
              0,
              "#0d0887"
             ],
             [
              0.1111111111111111,
              "#46039f"
             ],
             [
              0.2222222222222222,
              "#7201a8"
             ],
             [
              0.3333333333333333,
              "#9c179e"
             ],
             [
              0.4444444444444444,
              "#bd3786"
             ],
             [
              0.5555555555555556,
              "#d8576b"
             ],
             [
              0.6666666666666666,
              "#ed7953"
             ],
             [
              0.7777777777777778,
              "#fb9f3a"
             ],
             [
              0.8888888888888888,
              "#fdca26"
             ],
             [
              1,
              "#f0f921"
             ]
            ],
            "type": "surface"
           }
          ],
          "table": [
           {
            "cells": {
             "fill": {
              "color": "#EBF0F8"
             },
             "line": {
              "color": "white"
             }
            },
            "header": {
             "fill": {
              "color": "#C8D4E3"
             },
             "line": {
              "color": "white"
             }
            },
            "type": "table"
           }
          ]
         },
         "layout": {
          "annotationdefaults": {
           "arrowcolor": "#2a3f5f",
           "arrowhead": 0,
           "arrowwidth": 1
          },
          "colorscale": {
           "diverging": [
            [
             0,
             "#8e0152"
            ],
            [
             0.1,
             "#c51b7d"
            ],
            [
             0.2,
             "#de77ae"
            ],
            [
             0.3,
             "#f1b6da"
            ],
            [
             0.4,
             "#fde0ef"
            ],
            [
             0.5,
             "#f7f7f7"
            ],
            [
             0.6,
             "#e6f5d0"
            ],
            [
             0.7,
             "#b8e186"
            ],
            [
             0.8,
             "#7fbc41"
            ],
            [
             0.9,
             "#4d9221"
            ],
            [
             1,
             "#276419"
            ]
           ],
           "sequential": [
            [
             0,
             "#0d0887"
            ],
            [
             0.1111111111111111,
             "#46039f"
            ],
            [
             0.2222222222222222,
             "#7201a8"
            ],
            [
             0.3333333333333333,
             "#9c179e"
            ],
            [
             0.4444444444444444,
             "#bd3786"
            ],
            [
             0.5555555555555556,
             "#d8576b"
            ],
            [
             0.6666666666666666,
             "#ed7953"
            ],
            [
             0.7777777777777778,
             "#fb9f3a"
            ],
            [
             0.8888888888888888,
             "#fdca26"
            ],
            [
             1,
             "#f0f921"
            ]
           ],
           "sequentialminus": [
            [
             0,
             "#0d0887"
            ],
            [
             0.1111111111111111,
             "#46039f"
            ],
            [
             0.2222222222222222,
             "#7201a8"
            ],
            [
             0.3333333333333333,
             "#9c179e"
            ],
            [
             0.4444444444444444,
             "#bd3786"
            ],
            [
             0.5555555555555556,
             "#d8576b"
            ],
            [
             0.6666666666666666,
             "#ed7953"
            ],
            [
             0.7777777777777778,
             "#fb9f3a"
            ],
            [
             0.8888888888888888,
             "#fdca26"
            ],
            [
             1,
             "#f0f921"
            ]
           ]
          },
          "colorway": [
           "#636efa",
           "#EF553B",
           "#00cc96",
           "#ab63fa",
           "#FFA15A",
           "#19d3f3",
           "#FF6692",
           "#B6E880",
           "#FF97FF",
           "#FECB52"
          ],
          "font": {
           "color": "#2a3f5f"
          },
          "geo": {
           "bgcolor": "white",
           "lakecolor": "white",
           "landcolor": "white",
           "showlakes": true,
           "showland": true,
           "subunitcolor": "#C8D4E3"
          },
          "hoverlabel": {
           "align": "left"
          },
          "hovermode": "closest",
          "mapbox": {
           "style": "light"
          },
          "paper_bgcolor": "white",
          "plot_bgcolor": "white",
          "polar": {
           "angularaxis": {
            "gridcolor": "#EBF0F8",
            "linecolor": "#EBF0F8",
            "ticks": ""
           },
           "bgcolor": "white",
           "radialaxis": {
            "gridcolor": "#EBF0F8",
            "linecolor": "#EBF0F8",
            "ticks": ""
           }
          },
          "scene": {
           "xaxis": {
            "backgroundcolor": "white",
            "gridcolor": "#DFE8F3",
            "gridwidth": 2,
            "linecolor": "#EBF0F8",
            "showbackground": true,
            "ticks": "",
            "zerolinecolor": "#EBF0F8"
           },
           "yaxis": {
            "backgroundcolor": "white",
            "gridcolor": "#DFE8F3",
            "gridwidth": 2,
            "linecolor": "#EBF0F8",
            "showbackground": true,
            "ticks": "",
            "zerolinecolor": "#EBF0F8"
           },
           "zaxis": {
            "backgroundcolor": "white",
            "gridcolor": "#DFE8F3",
            "gridwidth": 2,
            "linecolor": "#EBF0F8",
            "showbackground": true,
            "ticks": "",
            "zerolinecolor": "#EBF0F8"
           }
          },
          "shapedefaults": {
           "line": {
            "color": "#2a3f5f"
           }
          },
          "ternary": {
           "aaxis": {
            "gridcolor": "#DFE8F3",
            "linecolor": "#A2B1C6",
            "ticks": ""
           },
           "baxis": {
            "gridcolor": "#DFE8F3",
            "linecolor": "#A2B1C6",
            "ticks": ""
           },
           "bgcolor": "white",
           "caxis": {
            "gridcolor": "#DFE8F3",
            "linecolor": "#A2B1C6",
            "ticks": ""
           }
          },
          "title": {
           "x": 0.05
          },
          "xaxis": {
           "automargin": true,
           "gridcolor": "#EBF0F8",
           "linecolor": "#EBF0F8",
           "ticks": "",
           "zerolinecolor": "#EBF0F8",
           "zerolinewidth": 2
          },
          "yaxis": {
           "automargin": true,
           "gridcolor": "#EBF0F8",
           "linecolor": "#EBF0F8",
           "ticks": "",
           "zerolinecolor": "#EBF0F8",
           "zerolinewidth": 2
          }
         }
        },
        "title": {
         "text": "300"
        },
        "width": 800,
        "xaxis": {
         "range": [
          -652.95,
          13159
         ],
         "showgrid": false
        },
        "yaxis": {
         "autorange": "reversed",
         "range": [
          0,
          13059
         ],
         "showgrid": false
        }
       }
      },
      "text/html": [
       "<div>\n",
       "        \n",
       "        \n",
       "            <div id=\"0c403d74-25e3-4730-b841-dfab2387a1ea\" class=\"plotly-graph-div\" style=\"height:800px; width:800px;\"></div>\n",
       "            <script type=\"text/javascript\">\n",
       "                require([\"plotly\"], function(Plotly) {\n",
       "                    window.PLOTLYENV=window.PLOTLYENV || {};\n",
       "                    \n",
       "                if (document.getElementById(\"0c403d74-25e3-4730-b841-dfab2387a1ea\")) {\n",
       "                    Plotly.newPlot(\n",
       "                        '0c403d74-25e3-4730-b841-dfab2387a1ea',\n",
       "                        [{\"marker\": {\"size\": 5}, \"mode\": \"markers\", \"name\": \"start\", \"showlegend\": true, \"type\": \"scatter\", \"x\": [358, 2740, 716, 4867, 1074, 3437, 2360, 1441, 2360, 4511, 2359, 5612, 2512, 5230, 2879, 3231, 5949, 3639, 3949, 5612, 4305, 6102, 7179, 7538, 7897, 9332], \"y\": [0, 2382, 0, 4150, 0, 2360, 1280, 8, 564, 2360, 205, 3101, 0, 2360, 8, 0, 2360, 49, 0, 1662, 0, 0, 0, 0, 0, 0]}, {\"marker\": {\"size\": 5}, \"mode\": \"markers\", \"name\": \"end\", \"showlegend\": true, \"type\": \"scatter\", \"x\": [2244, 12655, 4693, 13054, 2244, 13059, 3323, 12655, 13054, 13054, 4397, 12655, 5475, 13013, 5116, 13038, 13054, 5835, 5475, 13054, 13013, 13047, 13054, 13026, 13054, 13054], \"y\": [1884, 12297, 3978, 12338, 1166, 11984, 2244, 11221, 11262, 10903, 2244, 10143, 2963, 10143, 2244, 9808, 9465, 2244, 1525, 9106, 8706, 6946, 5876, 5488, 5157, 3723]}, {\"hoverinfo\": \"text\", \"marker\": {\"size\": 5}, \"mode\": \"text\", \"name\": \"TR interval\", \"showlegend\": true, \"text\": [\"1\"], \"textfont\": {\"color\": \"grey\", \"size\": 10}, \"textposition\": \"top right\", \"type\": \"scatter\", \"x\": [0], \"y\": [0]}, {\"hoverinfo\": \"text\", \"marker\": {\"color\": [\"#bbe4b5\", \"#6fc7bd\", \"#c9eab4\", \"#1d90c0\", \"#61c2bf\", \"#2498c1\", \"#bbe4b5\", \"#2ca1c2\", \"#abdeb7\", \"#61c2bf\", \"#34a9c3\", \"#abdeb7\", \"#48b9c3\", \"#abdeb7\", \"#2da2c2\", \"#c9eab4\", \"#61c2bf\", \"#46b8c3\", \"#7cccbb\", \"#d1edb3\", \"#9cd8b8\", \"#7cccbb\", \"#6fc7bd\", \"#bbe4b5\", \"#9cd8b8\", \"#53bdc1\", \"#48b9c3\", \"#8cd2ba\", \"#9cd8b8\", \"#46b8c3\", \"#bbe4b5\", \"#2498c1\", \"#2ca1c2\", \"#61c2bf\", \"#1e86bb\", \"#3cb1c3\", \"#abdeb7\", \"#1f7bb6\", \"#7cccbb\", \"#2070b0\", \"#9cd8b8\", \"#1f7bb6\", \"#fcfed1\", \"#34a9c3\", \"#9cd8b8\", \"#fcfed1\", \"#2498c1\", \"#fcfed1\", \"#1d90c0\", \"#f4fbc0\", \"#46b8c3\", \"#61c2bf\", \"#2498c1\", \"#61c2bf\", \"#f8fcc9\", \"#61c2bf\", \"#2498c1\", \"#46b8c3\", \"#f8fcc9\", \"#daf0b3\", \"#2498c1\", \"#53bdc1\", \"#f8fcc9\", \"#2498c1\", \"#9cd8b8\", \"#7cccbb\", \"#1d90c0\", \"#34a9c3\", \"#61c2bf\", \"#61c2bf\", \"#259ac1\", \"#2da2c2\", \"#2166ac\", \"#53bdc1\", \"#2073b2\", \"#34a9c3\", \"#f4fbc0\", \"#2351a2\", \"#34a9c3\", \"#eaf7b1\", \"#34a9c3\", \"#d1edb3\", \"#2498c1\", \"#f8fcc9\", \"#6fc7bd\", \"#eaf7b1\", \"#6fc7bd\", \"#2da2c2\", \"#53bdc1\", \"#eaf7b1\", \"#53bdc1\", \"#2da2c2\", \"#7cccbb\", \"#f0f9b7\", \"#259ac1\", \"#2da2c2\", \"#f0f9b7\", \"#53bdc1\", \"#3db2c4\", \"#daf0b3\", \"#2165ab\", \"#2165ab\", \"#1e86bb\", \"#c9eab4\", \"#2352a3\", \"#fcfed1\", \"#225ca7\", \"#bbe4b5\", \"#53bdc1\", \"#1d91c0\", \"#bbe4b5\", \"#3db2c4\", \"#bbe4b5\", \"#35aac3\", \"#d1edb3\", \"#6fc7bd\", \"#c9eab4\", \"#6fc7bd\", \"#abdeb7\", \"#abdeb7\", \"#daf0b3\", \"#61c2bf\", \"#8cd2ba\", \"#abdeb7\", \"#61c2bf\", \"#3db2c4\", \"#48b9c3\", \"#abdeb7\", \"#3cb1c3\", \"#fcfed1\", \"#1f7bb6\", \"#34a9c3\", \"#1d91c0\", \"#2165ab\", \"#2166ac\", \"#1f93c0\", \"#1f7bb6\", \"#f0f9b7\", \"#2070b0\", \"#1d91c0\", \"#2351a2\", \"#2070b0\", \"#1d91c0\", \"#2070b0\", \"#1e86bb\", \"#225aa6\", \"#1d91c0\", \"#2166ac\", \"#1d91c0\", \"#2165ab\", \"#2166ac\", \"#1d91c0\", \"#1d91c0\", \"#2351a2\", \"#2166ac\", \"#2072b1\", \"#1f7db6\", \"#61c2bf\", \"#2166ac\", \"#1f7db6\", \"#1f7bb6\", \"#2352a3\", \"#2072b1\", \"#8cd2ba\", \"#081d58\", \"#24419a\", \"#bbe4b5\", \"#234b9f\", \"#8cd2ba\", \"#259ac1\", \"#2072b1\", \"#8cd2ba\", \"#1e86bb\", \"#8cd2ba\", \"#1f7db6\", \"#6fc7bd\", \"#35aac3\", \"#7cccbb\", \"#1e86bb\", \"#36abc3\", \"#8cd2ba\", \"#7cccbb\", \"#1e86bb\", \"#269bc1\", \"#8cd2ba\", \"#3db2c4\", \"#259ac1\", \"#259ac1\", \"#7ecdbb\", \"#1e86bb\", \"#bbe4b5\", \"#2166ac\", \"#1f7bb6\", \"#2072b1\", \"#234b9f\", \"#234b9f\", \"#3db2c4\", \"#2166ac\", \"#225ca7\", \"#2072b1\", \"#2166ac\", \"#269bc1\", \"#2166ac\", \"#3db2c4\", \"#2352a3\", \"#225ca7\", \"#1e88bc\", \"#234b9f\", \"#225ca7\", \"#225ca7\", \"#1b2c80\", \"#234b9f\", \"#23499e\", \"#225ca7\", \"#2166ac\", \"#2352a3\", \"#8cd2ba\", \"#225ca7\", \"#234b9f\", \"#234b9f\", \"#225aa6\", \"#24419a\", \"#61c2bf\", \"#35aac3\", \"#2352a3\", \"#abdeb7\", \"#46b8c3\", \"#1e86bb\", \"#abdeb7\", \"#35aac3\", \"#abdeb7\", \"#2da2c2\", \"#c9eab4\", \"#61c2bf\", \"#bbe4b5\", \"#61c2bf\", \"#9cd8b8\", \"#9cd8b8\", \"#d1edb3\", \"#53bdc1\", \"#7cccbb\", \"#9cd8b8\", \"#53bdc1\", \"#35aac3\", \"#3db2c4\", \"#9cd8b8\", \"#34a9c3\", \"#f8fcc9\", \"#2070b0\", \"#2ca1c2\", \"#1e86bb\", \"#225aa6\", \"#2072b1\", \"#2168ad\", \"#2352a3\", \"#2072b1\", \"#2168ad\", \"#2072b1\", \"#225da8\", \"#225ca7\", \"#2168ad\", \"#24439b\", \"#2168ad\", \"#2165ab\", \"#2166ac\", \"#2166ac\", \"#2168ad\", \"#2351a2\", \"#2166ac\", \"#2073b2\", \"#225da8\", \"#9cd8b8\", \"#2166ac\", \"#2355a4\", \"#2352a3\", \"#2166ac\", \"#234b9f\", \"#abdeb7\", \"#081d58\", \"#2ca1c2\", \"#8cd2ba\", \"#ffffd9\", \"#1d91c0\", \"#ffffd9\", \"#1e86bb\", \"#f8fcc9\", \"#3cb1c3\", \"#6fc7bd\", \"#1d90c0\", \"#53bdc1\", \"#fcfed1\", \"#6fc7bd\", \"#1d90c0\", \"#3cb1c3\", \"#fcfed1\", \"#e2f4b2\", \"#1d91c0\", \"#48b9c3\", \"#fcfed1\", \"#1d90c0\", \"#abdeb7\", \"#6fc7bd\", \"#1e86bb\", \"#2da2c2\", \"#55bec1\", \"#24489d\", \"#2ca1c2\", \"#e2f4b2\", \"#2ca1c2\", \"#c9eab4\", \"#1d90c0\", \"#f0f9b7\", \"#61c2bf\", \"#e2f4b2\", \"#61c2bf\", \"#259ac1\", \"#46b8c3\", \"#e2f4b2\", \"#46b8c3\", \"#259ac1\", \"#6fc7bd\", \"#e2f4b2\", \"#1d91c0\", \"#259ac1\", \"#e2f4b2\", \"#46b8c3\", \"#35aac3\", \"#c9eab4\", \"#2165ab\", \"#225aa6\", \"#8cd2ba\", \"#253795\", \"#8cd2ba\", \"#2352a3\", \"#6fc7bd\", \"#225aa6\", \"#2070b0\", \"#24489d\", \"#2070b0\", \"#7cccbb\", \"#225aa6\", \"#24489d\", \"#225aa6\", \"#7cccbb\", \"#3cb1c3\", \"#253795\", \"#2da2c2\", \"#7cccbb\", \"#24409a\", \"#1e86bb\", \"#61c2bf\", \"#21308b\", \"#1e86bb\", \"#61c2bf\", \"#1d91c0\", \"#ffffd9\", \"#1e86bb\", \"#f8fcc9\", \"#3cb1c3\", \"#6fc7bd\", \"#1d90c0\", \"#53bdc1\", \"#fcfed1\", \"#6fc7bd\", \"#1d90c0\", \"#3cb1c3\", \"#fcfed1\", \"#e2f4b2\", \"#1d91c0\", \"#48b9c3\", \"#fcfed1\", \"#1d90c0\", \"#abdeb7\", \"#6fc7bd\", \"#1e86bb\", \"#2da2c2\", \"#55bec1\", \"#1d91c0\", \"#f4fbc0\", \"#1f7bb6\", \"#e2f4b2\", \"#48b9c3\", \"#d1edb3\", \"#48b9c3\", \"#1e86bb\", \"#35aac3\", \"#d1edb3\", \"#35aac3\", \"#1e86bb\", \"#55bec1\", \"#d1edb3\", \"#1f7db6\", \"#1e86bb\", \"#d1edb3\", \"#35aac3\", \"#259ac1\", \"#abdeb7\", \"#225aa6\", \"#259ac1\", \"#1e86bb\", \"#f8fcc9\", \"#3cb1c3\", \"#6fc7bd\", \"#1d90c0\", \"#53bdc1\", \"#fcfed1\", \"#6fc7bd\", \"#1d90c0\", \"#3cb1c3\", \"#fcfed1\", \"#e2f4b2\", \"#1d91c0\", \"#48b9c3\", \"#fcfed1\", \"#1d90c0\", \"#abdeb7\", \"#6fc7bd\", \"#1e86bb\", \"#2da2c2\", \"#55bec1\", \"#2070b0\", \"#c9eab4\", \"#55bec1\", \"#abdeb7\", \"#3db2c4\", \"#1f7db6\", \"#2da2c2\", \"#abdeb7\", \"#2da2c2\", \"#1f7db6\", \"#48b9c3\", \"#abdeb7\", \"#2072b1\", \"#1f7db6\", \"#abdeb7\", \"#2da2c2\", \"#2da2c2\", \"#9cd8b8\", \"#2351a2\", \"#3db2c4\", \"#2ca1c2\", \"#53bdc1\", \"#2ca1c2\", \"#6fc7bd\", \"#f4fbc0\", \"#8cd2ba\", \"#2498c1\", \"#53bdc1\", \"#f4fbc0\", \"#d1edb3\", \"#1f7bb6\", \"#35aac3\", \"#f4fbc0\", \"#1f7bb6\", \"#c9eab4\", \"#55bec1\", \"#2070b0\", \"#1d91c0\", \"#3db2c4\", \"#7cccbb\", \"#e2f4b2\", \"#61c2bf\", \"#35aac3\", \"#61c2bf\", \"#e2f4b2\", \"#46b8c3\", \"#35aac3\", \"#8cd2ba\", \"#f0f9b7\", \"#1d91c0\", \"#35aac3\", \"#f0f9b7\", \"#61c2bf\", \"#48b9c3\", \"#daf0b3\", \"#225aa6\", \"#2070b0\", \"#61c2bf\", \"#35aac3\", \"#61c2bf\", \"#61c2bf\", \"#61c2bf\", \"#259ac1\", \"#61c2bf\", \"#6fc7bd\", \"#48b9c3\", \"#1d91c0\", \"#61c2bf\", \"#46b8c3\", \"#bbe4b5\", \"#35aac3\", \"#3cb1c3\", \"#225ca7\", \"#259ac1\", \"#7cccbb\", \"#1e86bb\", \"#61c2bf\", \"#fcfed1\", \"#61c2bf\", \"#1e86bb\", \"#53bdc1\", \"#d1edb3\", \"#1f7bb6\", \"#1e86bb\", \"#d1edb3\", \"#61c2bf\", \"#35aac3\", \"#abdeb7\", \"#24489d\", \"#24489d\", \"#48b9c3\", \"#7cccbb\", \"#6fc7bd\", \"#f8fcc9\", \"#48b9c3\", \"#1d90c0\", \"#48b9c3\", \"#53bdc1\", \"#48b9c3\", \"#46b8c3\", \"#9cd8b8\", \"#225aa6\", \"#53bdc1\", \"#2ca1c2\", \"#24489d\", \"#61c2bf\", \"#1e86bb\", \"#35aac3\", \"#ffffd9\", \"#daf0b3\", \"#1e86bb\", \"#3db2c4\", \"#f8fcc9\", \"#1e86bb\", \"#9cd8b8\", \"#61c2bf\", \"#1f7bb6\", \"#259ac1\", \"#48b9c3\", \"#53bdc1\", \"#61c2bf\", \"#61c2bf\", \"#6fc7bd\", \"#35aac3\", \"#1f7db6\", \"#61c2bf\", \"#34a9c3\", \"#d1edb3\", \"#1e86bb\", \"#2ca1c2\", \"#225ca7\", \"#253595\", \"#53bdc1\", \"#1e86bb\", \"#53bdc1\", \"#d1edb3\", \"#1f7bb6\", \"#1e86bb\", \"#d1edb3\", \"#53bdc1\", \"#35aac3\", \"#abdeb7\", \"#24489d\", \"#24489d\", \"#35aac3\", \"#1f7bb6\", \"#35aac3\", \"#3cb1c3\", \"#35aac3\", \"#34a9c3\", \"#7cccbb\", \"#24489d\", \"#3cb1c3\", \"#1d90c0\", \"#253595\", \"#daf0b3\", \"#1e86bb\", \"#3db2c4\", \"#f8fcc9\", \"#1e86bb\", \"#9cd8b8\", \"#61c2bf\", \"#1f7bb6\", \"#259ac1\", \"#48b9c3\", \"#55bec1\", \"#1e86bb\", \"#daf0b3\", \"#53bdc1\", \"#53bdc1\", \"#c9eab4\", \"#46b8c3\", \"#2165ab\", \"#55bec1\", \"#1e86bb\", \"#1e86bb\", \"#e2f4b2\", \"#35aac3\", \"#2da2c2\", \"#c9eab4\", \"#23499e\", \"#2352a3\", \"#3db2c4\", \"#1f7db6\", \"#3db2c4\", \"#2165ab\", \"#2070b0\", \"#c9eab4\", \"#243f99\", \"#1e86bb\", \"#9cd8b8\", \"#63c3bf\", \"#1f7bb6\", \"#259ac1\", \"#48b9c3\", \"#34a9c3\", \"#2da2c2\", \"#c9eab4\", \"#23499e\", \"#2351a2\", \"#2070b0\", \"#2ca1c2\", \"#1e86bb\", \"#225aa6\", \"#1d91c0\", \"#253795\", \"#7cccbb\", \"#24489d\", \"#243f99\", \"#253595\"], \"size\": 3}, \"mode\": \"markers\", \"showlegend\": false, \"text\": [\"unit 0 vs 1 (2.79% diff)\", \"unit 0 vs 2 (4.17% diff)\", \"unit 0 vs 3 (2.5% diff)\", \"unit 0 vs 4 (6.39% diff)\", \"unit 0 vs 5 (4.43% diff)\", \"unit 0 vs 6 (6.11% diff)\", \"unit 0 vs 7 (2.78% diff)\", \"unit 0 vs 8 (5.83% diff)\", \"unit 0 vs 9 (3.06% diff)\", \"unit 0 vs 10 (4.44% diff)\", \"unit 0 vs 11 (5.56% diff)\", \"unit 0 vs 12 (3.06% diff)\", \"unit 0 vs 13 (4.99% diff)\", \"unit 0 vs 14 (3.06% diff)\", \"unit 0 vs 15 (5.82% diff)\", \"unit 0 vs 16 (2.51% diff)\", \"unit 0 vs 17 (4.44% diff)\", \"unit 0 vs 18 (5.0% diff)\", \"unit 0 vs 19 (3.89% diff)\", \"unit 0 vs 20 (2.23% diff)\", \"unit 0 vs 21 (3.33% diff)\", \"unit 0 vs 22 (3.89% diff)\", \"unit 0 vs 23 (4.17% diff)\", \"unit 0 vs 24 (2.79% diff)\", \"unit 0 vs 25 (3.33% diff)\", \"unit 0 vs 26 (4.74% diff)\", \"unit 0 vs 27 (4.99% diff)\", \"unit 0 vs 28 (3.62% diff)\", \"unit 0 vs 29 (3.33% diff)\", \"unit 0 vs 30 (5.0% diff)\", \"unit 0 vs 31 (2.78% diff)\", \"unit 0 vs 32 (6.11% diff)\", \"unit 0 vs 33 (5.83% diff)\", \"unit 0 vs 34 (4.46% diff)\", \"unit 0 vs 35 (6.67% diff)\", \"unit 1 vs 2 (5.29% diff)\", \"unit 1 vs 3 (3.06% diff)\", \"unit 1 vs 4 (6.94% diff)\", \"unit 1 vs 5 (3.88% diff)\", \"unit 1 vs 6 (7.2% diff)\", \"unit 1 vs 7 (3.34% diff)\", \"unit 1 vs 8 (6.93% diff)\", \"unit 1 vs 9 (0.28% diff)\", \"unit 1 vs 10 (5.57% diff)\", \"unit 1 vs 11 (3.34% diff)\", \"unit 1 vs 12 (0.28% diff)\", \"unit 1 vs 13 (6.11% diff)\", \"unit 1 vs 14 (0.28% diff)\", \"unit 1 vs 15 (6.39% diff)\", \"unit 1 vs 16 (0.84% diff)\", \"unit 1 vs 17 (5.01% diff)\", \"unit 1 vs 18 (4.46% diff)\", \"unit 1 vs 19 (6.13% diff)\", \"unit 1 vs 20 (4.46% diff)\", \"unit 1 vs 21 (0.56% diff)\", \"unit 1 vs 22 (4.46% diff)\", \"unit 1 vs 23 (6.13% diff)\", \"unit 1 vs 24 (5.01% diff)\", \"unit 1 vs 25 (0.56% diff)\", \"unit 1 vs 26 (1.95% diff)\", \"unit 1 vs 27 (6.11% diff)\", \"unit 1 vs 28 (4.72% diff)\", \"unit 1 vs 29 (0.56% diff)\", \"unit 1 vs 30 (6.13% diff)\", \"unit 1 vs 31 (3.34% diff)\", \"unit 1 vs 32 (3.89% diff)\", \"unit 1 vs 33 (6.41% diff)\", \"unit 1 vs 34 (5.56% diff)\", \"unit 1 vs 35 (4.44% diff)\", \"unit 2 vs 3 (4.44% diff)\", \"unit 2 vs 4 (6.08% diff)\", \"unit 2 vs 5 (5.82% diff)\", \"unit 2 vs 6 (7.44% diff)\", \"unit 2 vs 7 (4.72% diff)\", \"unit 2 vs 8 (7.14% diff)\", \"unit 2 vs 9 (5.56% diff)\", \"unit 2 vs 10 (0.84% diff)\", \"unit 2 vs 11 (8.03% diff)\", \"unit 2 vs 12 (5.56% diff)\", \"unit 2 vs 13 (1.39% diff)\", \"unit 2 vs 14 (5.56% diff)\", \"unit 2 vs 15 (2.22% diff)\", \"unit 2 vs 16 (6.11% diff)\", \"unit 2 vs 17 (0.56% diff)\", \"unit 2 vs 18 (4.17% diff)\", \"unit 2 vs 19 (1.39% diff)\", \"unit 2 vs 20 (4.17% diff)\", \"unit 2 vs 21 (5.82% diff)\", \"unit 2 vs 22 (4.72% diff)\", \"unit 2 vs 23 (1.39% diff)\", \"unit 2 vs 24 (4.72% diff)\", \"unit 2 vs 25 (5.82% diff)\", \"unit 2 vs 26 (3.89% diff)\", \"unit 2 vs 27 (1.11% diff)\", \"unit 2 vs 28 (6.09% diff)\", \"unit 2 vs 29 (5.82% diff)\", \"unit 2 vs 30 (1.11% diff)\", \"unit 2 vs 31 (4.72% diff)\", \"unit 2 vs 32 (5.26% diff)\", \"unit 2 vs 33 (1.95% diff)\", \"unit 2 vs 34 (7.48% diff)\", \"unit 2 vs 35 (7.48% diff)\", \"unit 3 vs 4 (6.65% diff)\", \"unit 3 vs 5 (2.5% diff)\", \"unit 3 vs 6 (7.99% diff)\", \"unit 3 vs 7 (0.28% diff)\", \"unit 3 vs 8 (7.71% diff)\", \"unit 3 vs 9 (2.79% diff)\", \"unit 3 vs 10 (4.72% diff)\", \"unit 3 vs 11 (6.37% diff)\", \"unit 3 vs 12 (2.79% diff)\", \"unit 3 vs 13 (5.26% diff)\", \"unit 3 vs 14 (2.79% diff)\", \"unit 3 vs 15 (5.54% diff)\", \"unit 3 vs 16 (2.23% diff)\", \"unit 3 vs 17 (4.17% diff)\", \"unit 3 vs 18 (2.51% diff)\", \"unit 3 vs 19 (4.17% diff)\", \"unit 3 vs 20 (3.05% diff)\", \"unit 3 vs 21 (3.06% diff)\", \"unit 3 vs 22 (1.95% diff)\", \"unit 3 vs 23 (4.44% diff)\", \"unit 3 vs 24 (3.6% diff)\", \"unit 3 vs 25 (3.06% diff)\", \"unit 3 vs 26 (4.46% diff)\", \"unit 3 vs 27 (5.26% diff)\", \"unit 3 vs 28 (4.97% diff)\", \"unit 3 vs 29 (3.06% diff)\", \"unit 3 vs 30 (5.28% diff)\", \"unit 3 vs 31 (0.28% diff)\", \"unit 3 vs 32 (6.93% diff)\", \"unit 3 vs 33 (5.56% diff)\", \"unit 3 vs 34 (6.35% diff)\", \"unit 3 vs 35 (7.48% diff)\", \"unit 4 vs 5 (7.46% diff)\", \"unit 4 vs 6 (6.34% diff)\", \"unit 4 vs 7 (6.93% diff)\", \"unit 4 vs 8 (1.11% diff)\", \"unit 4 vs 9 (7.2% diff)\", \"unit 4 vs 10 (6.35% diff)\", \"unit 4 vs 11 (8.03% diff)\", \"unit 4 vs 12 (7.2% diff)\", \"unit 4 vs 13 (6.35% diff)\", \"unit 4 vs 14 (7.2% diff)\", \"unit 4 vs 15 (6.63% diff)\", \"unit 4 vs 16 (7.76% diff)\", \"unit 4 vs 17 (6.35% diff)\", \"unit 4 vs 18 (7.44% diff)\", \"unit 4 vs 19 (6.35% diff)\", \"unit 4 vs 20 (7.48% diff)\", \"unit 4 vs 21 (7.46% diff)\", \"unit 4 vs 22 (6.37% diff)\", \"unit 4 vs 23 (6.35% diff)\", \"unit 4 vs 24 (8.03% diff)\", \"unit 4 vs 25 (7.46% diff)\", \"unit 4 vs 26 (7.16% diff)\", \"unit 4 vs 27 (6.89% diff)\", \"unit 4 vs 28 (4.43% diff)\", \"unit 4 vs 29 (7.46% diff)\", \"unit 4 vs 30 (6.89% diff)\", \"unit 4 vs 31 (6.93% diff)\", \"unit 4 vs 32 (7.99% diff)\", \"unit 4 vs 33 (7.18% diff)\", \"unit 4 vs 34 (3.61% diff)\", \"unit 4 vs 35 (10.22% diff)\", \"unit 5 vs 6 (8.54% diff)\", \"unit 5 vs 7 (2.78% diff)\", \"unit 5 vs 8 (8.26% diff)\", \"unit 5 vs 9 (3.6% diff)\", \"unit 5 vs 10 (6.09% diff)\", \"unit 5 vs 11 (7.16% diff)\", \"unit 5 vs 12 (3.6% diff)\", \"unit 5 vs 13 (6.63% diff)\", \"unit 5 vs 14 (3.6% diff)\", \"unit 5 vs 15 (6.91% diff)\", \"unit 5 vs 16 (4.16% diff)\", \"unit 5 vs 17 (5.54% diff)\", \"unit 5 vs 18 (3.89% diff)\", \"unit 5 vs 19 (6.65% diff)\", \"unit 5 vs 20 (5.51% diff)\", \"unit 5 vs 21 (3.6% diff)\", \"unit 5 vs 22 (3.88% diff)\", \"unit 5 vs 23 (6.65% diff)\", \"unit 5 vs 24 (6.06% diff)\", \"unit 5 vs 25 (3.6% diff)\", \"unit 5 vs 26 (5.26% diff)\", \"unit 5 vs 27 (6.09% diff)\", \"unit 5 vs 28 (6.08% diff)\", \"unit 5 vs 29 (3.87% diff)\", \"unit 5 vs 30 (6.65% diff)\", \"unit 5 vs 31 (2.78% diff)\", \"unit 5 vs 32 (7.46% diff)\", \"unit 5 vs 33 (6.93% diff)\", \"unit 5 vs 34 (7.16% diff)\", \"unit 5 vs 35 (8.26% diff)\", \"unit 6 vs 7 (8.26% diff)\", \"unit 6 vs 8 (5.25% diff)\", \"unit 6 vs 9 (7.46% diff)\", \"unit 6 vs 10 (7.71% diff)\", \"unit 6 vs 11 (7.18% diff)\", \"unit 6 vs 12 (7.46% diff)\", \"unit 6 vs 13 (6.06% diff)\", \"unit 6 vs 14 (7.46% diff)\", \"unit 6 vs 15 (5.23% diff)\", \"unit 6 vs 16 (8.01% diff)\", \"unit 6 vs 17 (7.71% diff)\", \"unit 6 vs 18 (6.61% diff)\", \"unit 6 vs 19 (8.26% diff)\", \"unit 6 vs 20 (7.73% diff)\", \"unit 6 vs 21 (7.71% diff)\", \"unit 6 vs 22 (9.37% diff)\", \"unit 6 vs 23 (8.26% diff)\", \"unit 6 vs 24 (8.29% diff)\", \"unit 6 vs 25 (7.71% diff)\", \"unit 6 vs 26 (7.46% diff)\", \"unit 6 vs 27 (7.99% diff)\", \"unit 6 vs 28 (3.61% diff)\", \"unit 6 vs 29 (7.71% diff)\", \"unit 6 vs 30 (8.24% diff)\", \"unit 6 vs 31 (8.26% diff)\", \"unit 6 vs 32 (7.76% diff)\", \"unit 6 vs 33 (8.54% diff)\", \"unit 6 vs 34 (4.44% diff)\", \"unit 6 vs 35 (5.54% diff)\", \"unit 7 vs 8 (7.99% diff)\", \"unit 7 vs 9 (3.06% diff)\", \"unit 7 vs 10 (5.0% diff)\", \"unit 7 vs 11 (6.65% diff)\", \"unit 7 vs 12 (3.06% diff)\", \"unit 7 vs 13 (5.54% diff)\", \"unit 7 vs 14 (3.06% diff)\", \"unit 7 vs 15 (5.82% diff)\", \"unit 7 vs 16 (2.51% diff)\", \"unit 7 vs 17 (4.44% diff)\", \"unit 7 vs 18 (2.79% diff)\", \"unit 7 vs 19 (4.44% diff)\", \"unit 7 vs 20 (3.32% diff)\", \"unit 7 vs 21 (3.33% diff)\", \"unit 7 vs 22 (2.23% diff)\", \"unit 7 vs 23 (4.72% diff)\", \"unit 7 vs 24 (3.88% diff)\", \"unit 7 vs 25 (3.33% diff)\", \"unit 7 vs 26 (4.74% diff)\", \"unit 7 vs 27 (5.54% diff)\", \"unit 7 vs 28 (5.25% diff)\", \"unit 7 vs 29 (3.33% diff)\", \"unit 7 vs 30 (5.56% diff)\", \"unit 7 vs 31 (0.56% diff)\", \"unit 7 vs 32 (7.2% diff)\", \"unit 7 vs 33 (5.83% diff)\", \"unit 7 vs 34 (6.63% diff)\", \"unit 7 vs 35 (7.76% diff)\", \"unit 8 vs 9 (7.18% diff)\", \"unit 8 vs 10 (7.42% diff)\", \"unit 8 vs 11 (8.01% diff)\", \"unit 8 vs 12 (7.18% diff)\", \"unit 8 vs 13 (7.42% diff)\", \"unit 8 vs 14 (7.18% diff)\", \"unit 8 vs 15 (7.69% diff)\", \"unit 8 vs 16 (7.73% diff)\", \"unit 8 vs 17 (7.42% diff)\", \"unit 8 vs 18 (8.49% diff)\", \"unit 8 vs 19 (7.42% diff)\", \"unit 8 vs 20 (7.48% diff)\", \"unit 8 vs 21 (7.44% diff)\", \"unit 8 vs 22 (7.44% diff)\", \"unit 8 vs 23 (7.42% diff)\", \"unit 8 vs 24 (8.03% diff)\", \"unit 8 vs 25 (7.44% diff)\", \"unit 8 vs 26 (7.14% diff)\", \"unit 8 vs 27 (7.69% diff)\", \"unit 8 vs 28 (3.33% diff)\", \"unit 8 vs 29 (7.44% diff)\", \"unit 8 vs 30 (7.95% diff)\", \"unit 8 vs 31 (7.99% diff)\", \"unit 8 vs 32 (7.44% diff)\", \"unit 8 vs 33 (8.24% diff)\", \"unit 8 vs 34 (3.06% diff)\", \"unit 8 vs 35 (10.19% diff)\", \"unit 9 vs 10 (5.83% diff)\", \"unit 9 vs 11 (3.61% diff)\", \"unit 9 vs 12 (0.0% diff)\", \"unit 9 vs 13 (6.37% diff)\", \"unit 9 vs 14 (0.0% diff)\", \"unit 9 vs 15 (6.65% diff)\", \"unit 9 vs 16 (0.56% diff)\", \"unit 9 vs 17 (5.28% diff)\", \"unit 9 vs 18 (4.18% diff)\", \"unit 9 vs 19 (6.39% diff)\", \"unit 9 vs 20 (4.72% diff)\", \"unit 9 vs 21 (0.28% diff)\", \"unit 9 vs 22 (4.18% diff)\", \"unit 9 vs 23 (6.39% diff)\", \"unit 9 vs 24 (5.28% diff)\", \"unit 9 vs 25 (0.28% diff)\", \"unit 9 vs 26 (1.67% diff)\", \"unit 9 vs 27 (6.37% diff)\", \"unit 9 vs 28 (4.99% diff)\", \"unit 9 vs 29 (0.28% diff)\", \"unit 9 vs 30 (6.39% diff)\", \"unit 9 vs 31 (3.06% diff)\", \"unit 9 vs 32 (4.16% diff)\", \"unit 9 vs 33 (6.67% diff)\", \"unit 9 vs 34 (5.82% diff)\", \"unit 9 vs 35 (4.71% diff)\", \"unit 10 vs 11 (8.31% diff)\", \"unit 10 vs 12 (5.83% diff)\", \"unit 10 vs 13 (1.67% diff)\", \"unit 10 vs 14 (5.83% diff)\", \"unit 10 vs 15 (2.5% diff)\", \"unit 10 vs 16 (6.39% diff)\", \"unit 10 vs 17 (1.11% diff)\", \"unit 10 vs 18 (4.44% diff)\", \"unit 10 vs 19 (1.67% diff)\", \"unit 10 vs 20 (4.44% diff)\", \"unit 10 vs 21 (6.09% diff)\", \"unit 10 vs 22 (5.0% diff)\", \"unit 10 vs 23 (1.67% diff)\", \"unit 10 vs 24 (5.0% diff)\", \"unit 10 vs 25 (6.09% diff)\", \"unit 10 vs 26 (4.17% diff)\", \"unit 10 vs 27 (1.67% diff)\", \"unit 10 vs 28 (6.37% diff)\", \"unit 10 vs 29 (6.09% diff)\", \"unit 10 vs 30 (1.67% diff)\", \"unit 10 vs 31 (5.0% diff)\", \"unit 10 vs 32 (5.54% diff)\", \"unit 10 vs 33 (2.51% diff)\", \"unit 10 vs 34 (7.48% diff)\", \"unit 10 vs 35 (7.76% diff)\", \"unit 11 vs 12 (3.61% diff)\", \"unit 11 vs 13 (8.84% diff)\", \"unit 11 vs 14 (3.61% diff)\", \"unit 11 vs 15 (8.01% diff)\", \"unit 11 vs 16 (4.17% diff)\", \"unit 11 vs 17 (7.76% diff)\", \"unit 11 vs 18 (7.2% diff)\", \"unit 11 vs 19 (8.31% diff)\", \"unit 11 vs 20 (7.2% diff)\", \"unit 11 vs 21 (3.89% diff)\", \"unit 11 vs 22 (7.76% diff)\", \"unit 11 vs 23 (8.31% diff)\", \"unit 11 vs 24 (7.76% diff)\", \"unit 11 vs 25 (3.89% diff)\", \"unit 11 vs 26 (5.28% diff)\", \"unit 11 vs 27 (8.84% diff)\", \"unit 11 vs 28 (5.82% diff)\", \"unit 11 vs 29 (3.88% diff)\", \"unit 11 vs 30 (8.56% diff)\", \"unit 11 vs 31 (6.65% diff)\", \"unit 11 vs 32 (4.47% diff)\", \"unit 11 vs 33 (9.14% diff)\", \"unit 11 vs 34 (6.65% diff)\", \"unit 11 vs 35 (4.47% diff)\", \"unit 12 vs 13 (6.37% diff)\", \"unit 12 vs 14 (0.0% diff)\", \"unit 12 vs 15 (6.65% diff)\", \"unit 12 vs 16 (0.56% diff)\", \"unit 12 vs 17 (5.28% diff)\", \"unit 12 vs 18 (4.18% diff)\", \"unit 12 vs 19 (6.39% diff)\", \"unit 12 vs 20 (4.72% diff)\", \"unit 12 vs 21 (0.28% diff)\", \"unit 12 vs 22 (4.18% diff)\", \"unit 12 vs 23 (6.39% diff)\", \"unit 12 vs 24 (5.28% diff)\", \"unit 12 vs 25 (0.28% diff)\", \"unit 12 vs 26 (1.67% diff)\", \"unit 12 vs 27 (6.37% diff)\", \"unit 12 vs 28 (4.99% diff)\", \"unit 12 vs 29 (0.28% diff)\", \"unit 12 vs 30 (6.39% diff)\", \"unit 12 vs 31 (3.06% diff)\", \"unit 12 vs 32 (4.16% diff)\", \"unit 12 vs 33 (6.67% diff)\", \"unit 12 vs 34 (5.82% diff)\", \"unit 12 vs 35 (4.71% diff)\", \"unit 13 vs 14 (6.37% diff)\", \"unit 13 vs 15 (0.83% diff)\", \"unit 13 vs 16 (6.93% diff)\", \"unit 13 vs 17 (1.67% diff)\", \"unit 13 vs 18 (4.99% diff)\", \"unit 13 vs 19 (2.22% diff)\", \"unit 13 vs 20 (4.99% diff)\", \"unit 13 vs 21 (6.63% diff)\", \"unit 13 vs 22 (5.54% diff)\", \"unit 13 vs 23 (2.22% diff)\", \"unit 13 vs 24 (5.54% diff)\", \"unit 13 vs 25 (6.63% diff)\", \"unit 13 vs 26 (4.71% diff)\", \"unit 13 vs 27 (2.22% diff)\", \"unit 13 vs 28 (6.91% diff)\", \"unit 13 vs 29 (6.63% diff)\", \"unit 13 vs 30 (2.22% diff)\", \"unit 13 vs 31 (5.54% diff)\", \"unit 13 vs 32 (6.08% diff)\", \"unit 13 vs 33 (3.06% diff)\", \"unit 13 vs 34 (7.76% diff)\", \"unit 13 vs 35 (6.09% diff)\", \"unit 14 vs 15 (6.65% diff)\", \"unit 14 vs 16 (0.56% diff)\", \"unit 14 vs 17 (5.28% diff)\", \"unit 14 vs 18 (4.18% diff)\", \"unit 14 vs 19 (6.39% diff)\", \"unit 14 vs 20 (4.72% diff)\", \"unit 14 vs 21 (0.28% diff)\", \"unit 14 vs 22 (4.18% diff)\", \"unit 14 vs 23 (6.39% diff)\", \"unit 14 vs 24 (5.28% diff)\", \"unit 14 vs 25 (0.28% diff)\", \"unit 14 vs 26 (1.67% diff)\", \"unit 14 vs 27 (6.37% diff)\", \"unit 14 vs 28 (4.99% diff)\", \"unit 14 vs 29 (0.28% diff)\", \"unit 14 vs 30 (6.39% diff)\", \"unit 14 vs 31 (3.06% diff)\", \"unit 14 vs 32 (4.16% diff)\", \"unit 14 vs 33 (6.67% diff)\", \"unit 14 vs 34 (5.82% diff)\", \"unit 14 vs 35 (4.71% diff)\", \"unit 15 vs 16 (7.2% diff)\", \"unit 15 vs 17 (2.5% diff)\", \"unit 15 vs 18 (4.71% diff)\", \"unit 15 vs 19 (3.06% diff)\", \"unit 15 vs 20 (5.26% diff)\", \"unit 15 vs 21 (6.91% diff)\", \"unit 15 vs 22 (5.82% diff)\", \"unit 15 vs 23 (3.06% diff)\", \"unit 15 vs 24 (5.82% diff)\", \"unit 15 vs 25 (6.91% diff)\", \"unit 15 vs 26 (4.99% diff)\", \"unit 15 vs 27 (3.05% diff)\", \"unit 15 vs 28 (7.18% diff)\", \"unit 15 vs 29 (6.91% diff)\", \"unit 15 vs 30 (3.06% diff)\", \"unit 15 vs 31 (5.82% diff)\", \"unit 15 vs 32 (5.8% diff)\", \"unit 15 vs 33 (3.33% diff)\", \"unit 15 vs 34 (8.03% diff)\", \"unit 15 vs 35 (5.26% diff)\", \"unit 16 vs 17 (5.83% diff)\", \"unit 16 vs 18 (4.74% diff)\", \"unit 16 vs 19 (5.83% diff)\", \"unit 16 vs 20 (4.17% diff)\", \"unit 16 vs 21 (0.84% diff)\", \"unit 16 vs 22 (3.62% diff)\", \"unit 16 vs 23 (6.11% diff)\", \"unit 16 vs 24 (4.72% diff)\", \"unit 16 vs 25 (0.84% diff)\", \"unit 16 vs 26 (2.23% diff)\", \"unit 16 vs 27 (6.93% diff)\", \"unit 16 vs 28 (5.54% diff)\", \"unit 16 vs 29 (0.83% diff)\", \"unit 16 vs 30 (6.94% diff)\", \"unit 16 vs 31 (2.51% diff)\", \"unit 16 vs 32 (4.71% diff)\", \"unit 16 vs 33 (7.22% diff)\", \"unit 16 vs 34 (6.37% diff)\", \"unit 16 vs 35 (5.26% diff)\", \"unit 17 vs 18 (3.89% diff)\", \"unit 17 vs 19 (1.67% diff)\", \"unit 17 vs 20 (4.44% diff)\", \"unit 17 vs 21 (5.54% diff)\", \"unit 17 vs 22 (4.44% diff)\", \"unit 17 vs 23 (1.67% diff)\", \"unit 17 vs 24 (5.0% diff)\", \"unit 17 vs 25 (5.54% diff)\", \"unit 17 vs 26 (3.61% diff)\", \"unit 17 vs 27 (1.11% diff)\", \"unit 17 vs 28 (6.37% diff)\", \"unit 17 vs 29 (5.54% diff)\", \"unit 17 vs 30 (1.11% diff)\", \"unit 17 vs 31 (4.44% diff)\", \"unit 17 vs 32 (4.99% diff)\", \"unit 17 vs 33 (1.95% diff)\", \"unit 17 vs 34 (7.76% diff)\", \"unit 17 vs 35 (7.2% diff)\", \"unit 18 vs 19 (4.44% diff)\", \"unit 18 vs 20 (5.54% diff)\", \"unit 18 vs 21 (4.44% diff)\", \"unit 18 vs 22 (4.46% diff)\", \"unit 18 vs 23 (4.44% diff)\", \"unit 18 vs 24 (6.09% diff)\", \"unit 18 vs 25 (4.44% diff)\", \"unit 18 vs 26 (4.18% diff)\", \"unit 18 vs 27 (4.99% diff)\", \"unit 18 vs 28 (6.35% diff)\", \"unit 18 vs 29 (4.44% diff)\", \"unit 18 vs 30 (5.0% diff)\", \"unit 18 vs 31 (2.79% diff)\", \"unit 18 vs 32 (5.54% diff)\", \"unit 18 vs 33 (5.28% diff)\", \"unit 18 vs 34 (7.73% diff)\", \"unit 18 vs 35 (6.09% diff)\", \"unit 19 vs 20 (3.89% diff)\", \"unit 19 vs 21 (6.65% diff)\", \"unit 19 vs 22 (4.44% diff)\", \"unit 19 vs 23 (0.28% diff)\", \"unit 19 vs 24 (4.44% diff)\", \"unit 19 vs 25 (6.65% diff)\", \"unit 19 vs 26 (4.72% diff)\", \"unit 19 vs 27 (2.22% diff)\", \"unit 19 vs 28 (6.93% diff)\", \"unit 19 vs 29 (6.65% diff)\", \"unit 19 vs 30 (2.23% diff)\", \"unit 19 vs 31 (4.44% diff)\", \"unit 19 vs 32 (5.54% diff)\", \"unit 19 vs 33 (3.06% diff)\", \"unit 19 vs 34 (8.31% diff)\", \"unit 19 vs 35 (8.31% diff)\", \"unit 20 vs 21 (4.99% diff)\", \"unit 20 vs 22 (3.88% diff)\", \"unit 20 vs 23 (4.17% diff)\", \"unit 20 vs 24 (0.56% diff)\", \"unit 20 vs 25 (4.99% diff)\", \"unit 20 vs 26 (6.39% diff)\", \"unit 20 vs 27 (4.99% diff)\", \"unit 20 vs 28 (4.72% diff)\", \"unit 20 vs 29 (4.99% diff)\", \"unit 20 vs 30 (5.0% diff)\", \"unit 20 vs 31 (3.32% diff)\", \"unit 20 vs 32 (7.76% diff)\", \"unit 20 vs 33 (4.72% diff)\", \"unit 20 vs 34 (5.83% diff)\", \"unit 20 vs 35 (8.31% diff)\", \"unit 21 vs 22 (4.44% diff)\", \"unit 21 vs 23 (6.65% diff)\", \"unit 21 vs 24 (5.54% diff)\", \"unit 21 vs 25 (0.0% diff)\", \"unit 21 vs 26 (1.95% diff)\", \"unit 21 vs 27 (6.63% diff)\", \"unit 21 vs 28 (5.25% diff)\", \"unit 21 vs 29 (0.56% diff)\", \"unit 21 vs 30 (6.65% diff)\", \"unit 21 vs 31 (3.33% diff)\", \"unit 21 vs 32 (4.43% diff)\", \"unit 21 vs 33 (6.93% diff)\", \"unit 21 vs 34 (6.08% diff)\", \"unit 21 vs 35 (4.99% diff)\", \"unit 22 vs 23 (4.72% diff)\", \"unit 22 vs 24 (4.43% diff)\", \"unit 22 vs 25 (4.44% diff)\", \"unit 22 vs 26 (4.18% diff)\", \"unit 22 vs 27 (5.54% diff)\", \"unit 22 vs 28 (6.91% diff)\", \"unit 22 vs 29 (4.44% diff)\", \"unit 22 vs 30 (5.56% diff)\", \"unit 22 vs 31 (2.23% diff)\", \"unit 22 vs 32 (6.65% diff)\", \"unit 22 vs 33 (5.83% diff)\", \"unit 22 vs 34 (7.73% diff)\", \"unit 22 vs 35 (8.86% diff)\", \"unit 23 vs 24 (4.72% diff)\", \"unit 23 vs 25 (6.65% diff)\", \"unit 23 vs 26 (4.72% diff)\", \"unit 23 vs 27 (2.22% diff)\", \"unit 23 vs 28 (6.93% diff)\", \"unit 23 vs 29 (6.65% diff)\", \"unit 23 vs 30 (2.23% diff)\", \"unit 23 vs 31 (4.72% diff)\", \"unit 23 vs 32 (5.54% diff)\", \"unit 23 vs 33 (3.06% diff)\", \"unit 23 vs 34 (8.31% diff)\", \"unit 23 vs 35 (8.31% diff)\", \"unit 24 vs 25 (5.54% diff)\", \"unit 24 vs 26 (6.94% diff)\", \"unit 24 vs 27 (5.54% diff)\", \"unit 24 vs 28 (5.28% diff)\", \"unit 24 vs 29 (5.54% diff)\", \"unit 24 vs 30 (5.56% diff)\", \"unit 24 vs 31 (3.88% diff)\", \"unit 24 vs 32 (8.31% diff)\", \"unit 24 vs 33 (5.28% diff)\", \"unit 24 vs 34 (6.39% diff)\", \"unit 24 vs 35 (8.86% diff)\", \"unit 25 vs 26 (1.95% diff)\", \"unit 25 vs 27 (6.63% diff)\", \"unit 25 vs 28 (5.25% diff)\", \"unit 25 vs 29 (0.56% diff)\", \"unit 25 vs 30 (6.65% diff)\", \"unit 25 vs 31 (3.33% diff)\", \"unit 25 vs 32 (4.43% diff)\", \"unit 25 vs 33 (6.93% diff)\", \"unit 25 vs 34 (6.08% diff)\", \"unit 25 vs 35 (4.99% diff)\", \"unit 26 vs 27 (4.71% diff)\", \"unit 26 vs 28 (6.65% diff)\", \"unit 26 vs 29 (1.94% diff)\", \"unit 26 vs 30 (4.72% diff)\", \"unit 26 vs 31 (4.74% diff)\", \"unit 26 vs 32 (2.49% diff)\", \"unit 26 vs 33 (5.0% diff)\", \"unit 26 vs 34 (7.48% diff)\", \"unit 26 vs 35 (4.71% diff)\", \"unit 27 vs 28 (6.65% diff)\", \"unit 27 vs 29 (6.63% diff)\", \"unit 27 vs 30 (1.67% diff)\", \"unit 27 vs 31 (5.54% diff)\", \"unit 27 vs 32 (5.82% diff)\", \"unit 27 vs 33 (2.5% diff)\", \"unit 27 vs 34 (8.29% diff)\", \"unit 27 vs 35 (8.01% diff)\", \"unit 28 vs 29 (5.25% diff)\", \"unit 28 vs 30 (6.91% diff)\", \"unit 28 vs 31 (5.25% diff)\", \"unit 28 vs 32 (7.5% diff)\", \"unit 28 vs 33 (7.2% diff)\", \"unit 28 vs 34 (2.5% diff)\", \"unit 28 vs 35 (8.59% diff)\", \"unit 29 vs 30 (6.65% diff)\", \"unit 29 vs 31 (3.33% diff)\", \"unit 29 vs 32 (4.42% diff)\", \"unit 29 vs 33 (6.93% diff)\", \"unit 29 vs 34 (6.08% diff)\", \"unit 29 vs 35 (4.97% diff)\", \"unit 30 vs 31 (5.56% diff)\", \"unit 30 vs 32 (5.82% diff)\", \"unit 30 vs 33 (2.51% diff)\", \"unit 30 vs 34 (8.29% diff)\", \"unit 30 vs 35 (8.03% diff)\", \"unit 31 vs 32 (7.2% diff)\", \"unit 31 vs 33 (5.83% diff)\", \"unit 31 vs 34 (6.63% diff)\", \"unit 31 vs 35 (7.76% diff)\", \"unit 32 vs 33 (6.37% diff)\", \"unit 32 vs 34 (8.84% diff)\", \"unit 32 vs 35 (3.9% diff)\", \"unit 33 vs 34 (8.31% diff)\", \"unit 33 vs 35 (8.59% diff)\", \"unit 34 vs 35 (8.89% diff)\"], \"type\": \"scatter\", \"x\": [179.0, 179.0, 179.0, 179.0, 179.0, 179.0, 179.0, 179.0, 179.0, 179.0, 179.0, 179.0, 179.0, 179.0, 179.0, 179.0, 179.0, 179.0, 179.0, 179.0, 179.0, 179.0, 179.0, 179.0, 179.0, 179.0, 179.0, 179.0, 179.0, 179.0, 179.0, 179.0, 179.0, 179.0, 179.0, 537.0, 537.0, 537.0, 537.0, 537.0, 537.0, 537.0, 537.0, 537.0, 537.0, 537.0, 537.0, 537.0, 537.0, 537.0, 537.0, 537.0, 537.0, 537.0, 537.0, 537.0, 537.0, 537.0, 537.0, 537.0, 537.0, 537.0, 537.0, 537.0, 537.0, 537.0, 537.0, 537.0, 537.0, 895.0, 895.0, 895.0, 895.0, 895.0, 895.0, 895.0, 895.0, 895.0, 895.0, 895.0, 895.0, 895.0, 895.0, 895.0, 895.0, 895.0, 895.0, 895.0, 895.0, 895.0, 895.0, 895.0, 895.0, 895.0, 895.0, 895.0, 895.0, 895.0, 895.0, 895.0, 895.0, 895.0, 1253.5, 1253.5, 1253.5, 1253.5, 1253.5, 1253.5, 1253.5, 1253.5, 1253.5, 1253.5, 1253.5, 1253.5, 1253.5, 1253.5, 1253.5, 1253.5, 1253.5, 1253.5, 1253.5, 1253.5, 1253.5, 1253.5, 1253.5, 1253.5, 1253.5, 1253.5, 1253.5, 1253.5, 1253.5, 1253.5, 1253.5, 1253.5, 1612.5, 1612.5, 1612.5, 1612.5, 1612.5, 1612.5, 1612.5, 1612.5, 1612.5, 1612.5, 1612.5, 1612.5, 1612.5, 1612.5, 1612.5, 1612.5, 1612.5, 1612.5, 1612.5, 1612.5, 1612.5, 1612.5, 1612.5, 1612.5, 1612.5, 1612.5, 1612.5, 1612.5, 1612.5, 1612.5, 1612.5, 1972.0, 1972.0, 1972.0, 1972.0, 1972.0, 1972.0, 1972.0, 1972.0, 1972.0, 1972.0, 1972.0, 1972.0, 1972.0, 1972.0, 1972.0, 1972.0, 1972.0, 1972.0, 1972.0, 1972.0, 1972.0, 1972.0, 1972.0, 1972.0, 1972.0, 1972.0, 1972.0, 1972.0, 1972.0, 1972.0, 2332.0, 2332.0, 2332.0, 2332.0, 2332.0, 2332.0, 2332.0, 2332.0, 2332.0, 2332.0, 2332.0, 2332.0, 2332.0, 2332.0, 2332.0, 2332.0, 2332.0, 2332.0, 2332.0, 2332.0, 2332.0, 2332.0, 2332.0, 2332.0, 2332.0, 2332.0, 2332.0, 2332.0, 2332.0, 2691.5, 2691.5, 2691.5, 2691.5, 2691.5, 2691.5, 2691.5, 2691.5, 2691.5, 2691.5, 2691.5, 2691.5, 2691.5, 2691.5, 2691.5, 2691.5, 2691.5, 2691.5, 2691.5, 2691.5, 2691.5, 2691.5, 2691.5, 2691.5, 2691.5, 2691.5, 2691.5, 2691.5, 3051.0, 3051.0, 3051.0, 3051.0, 3051.0, 3051.0, 3051.0, 3051.0, 3051.0, 3051.0, 3051.0, 3051.0, 3051.0, 3051.0, 3051.0, 3051.0, 3051.0, 3051.0, 3051.0, 3051.0, 3051.0, 3051.0, 3051.0, 3051.0, 3051.0, 3051.0, 3051.0, 3410.5, 3410.5, 3410.5, 3410.5, 3410.5, 3410.5, 3410.5, 3410.5, 3410.5, 3410.5, 3410.5, 3410.5, 3410.5, 3410.5, 3410.5, 3410.5, 3410.5, 3410.5, 3410.5, 3410.5, 3410.5, 3410.5, 3410.5, 3410.5, 3410.5, 3410.5, 3769.5, 3769.5, 3769.5, 3769.5, 3769.5, 3769.5, 3769.5, 3769.5, 3769.5, 3769.5, 3769.5, 3769.5, 3769.5, 3769.5, 3769.5, 3769.5, 3769.5, 3769.5, 3769.5, 3769.5, 3769.5, 3769.5, 3769.5, 3769.5, 3769.5, 4127.0, 4127.0, 4127.0, 4127.0, 4127.0, 4127.0, 4127.0, 4127.0, 4127.0, 4127.0, 4127.0, 4127.0, 4127.0, 4127.0, 4127.0, 4127.0, 4127.0, 4127.0, 4127.0, 4127.0, 4127.0, 4127.0, 4127.0, 4127.0, 4484.5, 4484.5, 4484.5, 4484.5, 4484.5, 4484.5, 4484.5, 4484.5, 4484.5, 4484.5, 4484.5, 4484.5, 4484.5, 4484.5, 4484.5, 4484.5, 4484.5, 4484.5, 4484.5, 4484.5, 4484.5, 4484.5, 4484.5, 4844.0, 4844.0, 4844.0, 4844.0, 4844.0, 4844.0, 4844.0, 4844.0, 4844.0, 4844.0, 4844.0, 4844.0, 4844.0, 4844.0, 4844.0, 4844.0, 4844.0, 4844.0, 4844.0, 4844.0, 4844.0, 4844.0, 5203.5, 5203.5, 5203.5, 5203.5, 5203.5, 5203.5, 5203.5, 5203.5, 5203.5, 5203.5, 5203.5, 5203.5, 5203.5, 5203.5, 5203.5, 5203.5, 5203.5, 5203.5, 5203.5, 5203.5, 5203.5, 5563.0, 5563.0, 5563.0, 5563.0, 5563.0, 5563.0, 5563.0, 5563.0, 5563.0, 5563.0, 5563.0, 5563.0, 5563.0, 5563.0, 5563.0, 5563.0, 5563.0, 5563.0, 5563.0, 5563.0, 5922.5, 5922.5, 5922.5, 5922.5, 5922.5, 5922.5, 5922.5, 5922.5, 5922.5, 5922.5, 5922.5, 5922.5, 5922.5, 5922.5, 5922.5, 5922.5, 5922.5, 5922.5, 5922.5, 6281.5, 6281.5, 6281.5, 6281.5, 6281.5, 6281.5, 6281.5, 6281.5, 6281.5, 6281.5, 6281.5, 6281.5, 6281.5, 6281.5, 6281.5, 6281.5, 6281.5, 6281.5, 6640.5, 6640.5, 6640.5, 6640.5, 6640.5, 6640.5, 6640.5, 6640.5, 6640.5, 6640.5, 6640.5, 6640.5, 6640.5, 6640.5, 6640.5, 6640.5, 6640.5, 6999.5, 6999.5, 6999.5, 6999.5, 6999.5, 6999.5, 6999.5, 6999.5, 6999.5, 6999.5, 6999.5, 6999.5, 6999.5, 6999.5, 6999.5, 6999.5, 7358.5, 7358.5, 7358.5, 7358.5, 7358.5, 7358.5, 7358.5, 7358.5, 7358.5, 7358.5, 7358.5, 7358.5, 7358.5, 7358.5, 7358.5, 7717.5, 7717.5, 7717.5, 7717.5, 7717.5, 7717.5, 7717.5, 7717.5, 7717.5, 7717.5, 7717.5, 7717.5, 7717.5, 7717.5, 8076.5, 8076.5, 8076.5, 8076.5, 8076.5, 8076.5, 8076.5, 8076.5, 8076.5, 8076.5, 8076.5, 8076.5, 8076.5, 8435.0, 8435.0, 8435.0, 8435.0, 8435.0, 8435.0, 8435.0, 8435.0, 8435.0, 8435.0, 8435.0, 8435.0, 8793.5, 8793.5, 8793.5, 8793.5, 8793.5, 8793.5, 8793.5, 8793.5, 8793.5, 8793.5, 8793.5, 9152.5, 9152.5, 9152.5, 9152.5, 9152.5, 9152.5, 9152.5, 9152.5, 9152.5, 9152.5, 9511.5, 9511.5, 9511.5, 9511.5, 9511.5, 9511.5, 9511.5, 9511.5, 9511.5, 9871.0, 9871.0, 9871.0, 9871.0, 9871.0, 9871.0, 9871.0, 9871.0, 10230.5, 10230.5, 10230.5, 10230.5, 10230.5, 10230.5, 10230.5, 10590.0, 10590.0, 10590.0, 10590.0, 10590.0, 10590.0, 10949.5, 10949.5, 10949.5, 10949.5, 10949.5, 11308.5, 11308.5, 11308.5, 11308.5, 11667.0, 11667.0, 11667.0, 12025.5, 12025.5, 12384.0], \"y\": [537.0, 895.0, 1253.5, 1612.5, 1972.0, 2332.0, 2691.5, 3051.0, 3410.5, 3769.5, 4127.0, 4484.5, 4844.0, 5203.5, 5563.0, 5922.5, 6281.5, 6640.5, 6999.5, 7358.5, 7717.5, 8076.5, 8435.0, 8793.5, 9152.5, 9511.5, 9871.0, 10230.5, 10590.0, 10949.5, 11308.5, 11667.0, 12025.5, 12384.0, 12742.0, 895.0, 1253.5, 1612.5, 1972.0, 2332.0, 2691.5, 3051.0, 3410.5, 3769.5, 4127.0, 4484.5, 4844.0, 5203.5, 5563.0, 5922.5, 6281.5, 6640.5, 6999.5, 7358.5, 7717.5, 8076.5, 8435.0, 8793.5, 9152.5, 9511.5, 9871.0, 10230.5, 10590.0, 10949.5, 11308.5, 11667.0, 12025.5, 12384.0, 12742.0, 1253.5, 1612.5, 1972.0, 2332.0, 2691.5, 3051.0, 3410.5, 3769.5, 4127.0, 4484.5, 4844.0, 5203.5, 5563.0, 5922.5, 6281.5, 6640.5, 6999.5, 7358.5, 7717.5, 8076.5, 8435.0, 8793.5, 9152.5, 9511.5, 9871.0, 10230.5, 10590.0, 10949.5, 11308.5, 11667.0, 12025.5, 12384.0, 12742.0, 1612.5, 1972.0, 2332.0, 2691.5, 3051.0, 3410.5, 3769.5, 4127.0, 4484.5, 4844.0, 5203.5, 5563.0, 5922.5, 6281.5, 6640.5, 6999.5, 7358.5, 7717.5, 8076.5, 8435.0, 8793.5, 9152.5, 9511.5, 9871.0, 10230.5, 10590.0, 10949.5, 11308.5, 11667.0, 12025.5, 12384.0, 12742.0, 1972.0, 2332.0, 2691.5, 3051.0, 3410.5, 3769.5, 4127.0, 4484.5, 4844.0, 5203.5, 5563.0, 5922.5, 6281.5, 6640.5, 6999.5, 7358.5, 7717.5, 8076.5, 8435.0, 8793.5, 9152.5, 9511.5, 9871.0, 10230.5, 10590.0, 10949.5, 11308.5, 11667.0, 12025.5, 12384.0, 12742.0, 2332.0, 2691.5, 3051.0, 3410.5, 3769.5, 4127.0, 4484.5, 4844.0, 5203.5, 5563.0, 5922.5, 6281.5, 6640.5, 6999.5, 7358.5, 7717.5, 8076.5, 8435.0, 8793.5, 9152.5, 9511.5, 9871.0, 10230.5, 10590.0, 10949.5, 11308.5, 11667.0, 12025.5, 12384.0, 12742.0, 2691.5, 3051.0, 3410.5, 3769.5, 4127.0, 4484.5, 4844.0, 5203.5, 5563.0, 5922.5, 6281.5, 6640.5, 6999.5, 7358.5, 7717.5, 8076.5, 8435.0, 8793.5, 9152.5, 9511.5, 9871.0, 10230.5, 10590.0, 10949.5, 11308.5, 11667.0, 12025.5, 12384.0, 12742.0, 3051.0, 3410.5, 3769.5, 4127.0, 4484.5, 4844.0, 5203.5, 5563.0, 5922.5, 6281.5, 6640.5, 6999.5, 7358.5, 7717.5, 8076.5, 8435.0, 8793.5, 9152.5, 9511.5, 9871.0, 10230.5, 10590.0, 10949.5, 11308.5, 11667.0, 12025.5, 12384.0, 12742.0, 3410.5, 3769.5, 4127.0, 4484.5, 4844.0, 5203.5, 5563.0, 5922.5, 6281.5, 6640.5, 6999.5, 7358.5, 7717.5, 8076.5, 8435.0, 8793.5, 9152.5, 9511.5, 9871.0, 10230.5, 10590.0, 10949.5, 11308.5, 11667.0, 12025.5, 12384.0, 12742.0, 3769.5, 4127.0, 4484.5, 4844.0, 5203.5, 5563.0, 5922.5, 6281.5, 6640.5, 6999.5, 7358.5, 7717.5, 8076.5, 8435.0, 8793.5, 9152.5, 9511.5, 9871.0, 10230.5, 10590.0, 10949.5, 11308.5, 11667.0, 12025.5, 12384.0, 12742.0, 4127.0, 4484.5, 4844.0, 5203.5, 5563.0, 5922.5, 6281.5, 6640.5, 6999.5, 7358.5, 7717.5, 8076.5, 8435.0, 8793.5, 9152.5, 9511.5, 9871.0, 10230.5, 10590.0, 10949.5, 11308.5, 11667.0, 12025.5, 12384.0, 12742.0, 4484.5, 4844.0, 5203.5, 5563.0, 5922.5, 6281.5, 6640.5, 6999.5, 7358.5, 7717.5, 8076.5, 8435.0, 8793.5, 9152.5, 9511.5, 9871.0, 10230.5, 10590.0, 10949.5, 11308.5, 11667.0, 12025.5, 12384.0, 12742.0, 4844.0, 5203.5, 5563.0, 5922.5, 6281.5, 6640.5, 6999.5, 7358.5, 7717.5, 8076.5, 8435.0, 8793.5, 9152.5, 9511.5, 9871.0, 10230.5, 10590.0, 10949.5, 11308.5, 11667.0, 12025.5, 12384.0, 12742.0, 5203.5, 5563.0, 5922.5, 6281.5, 6640.5, 6999.5, 7358.5, 7717.5, 8076.5, 8435.0, 8793.5, 9152.5, 9511.5, 9871.0, 10230.5, 10590.0, 10949.5, 11308.5, 11667.0, 12025.5, 12384.0, 12742.0, 5563.0, 5922.5, 6281.5, 6640.5, 6999.5, 7358.5, 7717.5, 8076.5, 8435.0, 8793.5, 9152.5, 9511.5, 9871.0, 10230.5, 10590.0, 10949.5, 11308.5, 11667.0, 12025.5, 12384.0, 12742.0, 5922.5, 6281.5, 6640.5, 6999.5, 7358.5, 7717.5, 8076.5, 8435.0, 8793.5, 9152.5, 9511.5, 9871.0, 10230.5, 10590.0, 10949.5, 11308.5, 11667.0, 12025.5, 12384.0, 12742.0, 6281.5, 6640.5, 6999.5, 7358.5, 7717.5, 8076.5, 8435.0, 8793.5, 9152.5, 9511.5, 9871.0, 10230.5, 10590.0, 10949.5, 11308.5, 11667.0, 12025.5, 12384.0, 12742.0, 6640.5, 6999.5, 7358.5, 7717.5, 8076.5, 8435.0, 8793.5, 9152.5, 9511.5, 9871.0, 10230.5, 10590.0, 10949.5, 11308.5, 11667.0, 12025.5, 12384.0, 12742.0, 6999.5, 7358.5, 7717.5, 8076.5, 8435.0, 8793.5, 9152.5, 9511.5, 9871.0, 10230.5, 10590.0, 10949.5, 11308.5, 11667.0, 12025.5, 12384.0, 12742.0, 7358.5, 7717.5, 8076.5, 8435.0, 8793.5, 9152.5, 9511.5, 9871.0, 10230.5, 10590.0, 10949.5, 11308.5, 11667.0, 12025.5, 12384.0, 12742.0, 7717.5, 8076.5, 8435.0, 8793.5, 9152.5, 9511.5, 9871.0, 10230.5, 10590.0, 10949.5, 11308.5, 11667.0, 12025.5, 12384.0, 12742.0, 8076.5, 8435.0, 8793.5, 9152.5, 9511.5, 9871.0, 10230.5, 10590.0, 10949.5, 11308.5, 11667.0, 12025.5, 12384.0, 12742.0, 8435.0, 8793.5, 9152.5, 9511.5, 9871.0, 10230.5, 10590.0, 10949.5, 11308.5, 11667.0, 12025.5, 12384.0, 12742.0, 8793.5, 9152.5, 9511.5, 9871.0, 10230.5, 10590.0, 10949.5, 11308.5, 11667.0, 12025.5, 12384.0, 12742.0, 9152.5, 9511.5, 9871.0, 10230.5, 10590.0, 10949.5, 11308.5, 11667.0, 12025.5, 12384.0, 12742.0, 9511.5, 9871.0, 10230.5, 10590.0, 10949.5, 11308.5, 11667.0, 12025.5, 12384.0, 12742.0, 9871.0, 10230.5, 10590.0, 10949.5, 11308.5, 11667.0, 12025.5, 12384.0, 12742.0, 10230.5, 10590.0, 10949.5, 11308.5, 11667.0, 12025.5, 12384.0, 12742.0, 10590.0, 10949.5, 11308.5, 11667.0, 12025.5, 12384.0, 12742.0, 10949.5, 11308.5, 11667.0, 12025.5, 12384.0, 12742.0, 11308.5, 11667.0, 12025.5, 12384.0, 12742.0, 11667.0, 12025.5, 12384.0, 12742.0, 12025.5, 12384.0, 12742.0, 12384.0, 12742.0, 12742.0]}, {\"hoverinfo\": \"text\", \"marker\": {\"size\": 5}, \"mode\": \"text\", \"name\": \"TR unit\", \"showlegend\": true, \"text\": [\"0 \", \"1 \", \"2 \", \"3 \", \"4 \", \"5 \", \"6 \", \"7 \", \"8 \", \"9 \", \"10 \", \"11 \", \"12 \", \"13 \", \"14 \", \"15 \", \"16 \", \"17 \", \"18 \", \"19 \", \"20 \", \"21 \", \"22 \", \"23 \", \"24 \", \"25 \", \"26 \", \"27 \", \"28 \", \"29 \", \"30 \", \"31 \", \"32 \", \"33 \", \"34 \", \"35 \"], \"textfont\": {\"color\": \"black\", \"size\": 10}, \"textposition\": \"bottom left\", \"type\": \"scatter\", \"x\": [0, 358, 716, 1074, 1433, 1792, 2152, 2512, 2871, 3231, 3590, 3949, 4305, 4664, 5024, 5383, 5743, 6102, 6461, 6820, 7179, 7538, 7897, 8256, 8614, 8973, 9332, 9691, 10051, 10410, 10770, 11129, 11488, 11846, 12205, 12563], \"y\": [0, 358, 716, 1074, 1433, 1792, 2152, 2512, 2871, 3231, 3590, 3949, 4305, 4664, 5024, 5383, 5743, 6102, 6461, 6820, 7179, 7538, 7897, 8256, 8614, 8973, 9332, 9691, 10051, 10410, 10770, 11129, 11488, 11846, 12205, 12563]}, {\"hoverinfo\": \"text\", \"marker\": {\"color\": [\"black\", \"black\", \"black\", \"black\", \"black\", \"black\", \"black\", \"black\", \"black\", \"black\", \"black\", \"black\", \"black\", \"black\", \"black\", \"black\", \"black\", \"black\", \"black\", \"black\", \"black\", \"black\", \"black\", \"black\", \"black\", \"black\", \"black\", \"black\", \"black\", \"black\", \"black\", \"black\", \"black\", \"black\", \"black\", \"black\"], \"size\": 5}, \"mode\": \"markers\", \"showlegend\": false, \"text\": [\"unit 0<br>[0:358] (358 bp)\", \"unit 1<br>[358:716] (358 bp)\", \"unit 2<br>[716:1074] (358 bp)\", \"unit 3<br>[1074:1433] (359 bp)\", \"unit 4<br>[1433:1792] (359 bp)\", \"unit 5<br>[1792:2152] (360 bp)\", \"unit 6<br>[2152:2512] (360 bp)\", \"unit 7<br>[2512:2871] (359 bp)\", \"unit 8<br>[2871:3231] (360 bp)\", \"unit 9<br>[3231:3590] (359 bp)\", \"unit 10<br>[3590:3949] (359 bp)\", \"unit 11<br>[3949:4305] (356 bp)\", \"unit 12<br>[4305:4664] (359 bp)\", \"unit 13<br>[4664:5024] (360 bp)\", \"unit 14<br>[5024:5383] (359 bp)\", \"unit 15<br>[5383:5743] (360 bp)\", \"unit 16<br>[5743:6102] (359 bp)\", \"unit 17<br>[6102:6461] (359 bp)\", \"unit 18<br>[6461:6820] (359 bp)\", \"unit 19<br>[6820:7179] (359 bp)\", \"unit 20<br>[7179:7538] (359 bp)\", \"unit 21<br>[7538:7897] (359 bp)\", \"unit 22<br>[7897:8256] (359 bp)\", \"unit 23<br>[8256:8614] (358 bp)\", \"unit 24<br>[8614:8973] (359 bp)\", \"unit 25<br>[8973:9332] (359 bp)\", \"unit 26<br>[9332:9691] (359 bp)\", \"unit 27<br>[9691:10051] (360 bp)\", \"unit 28<br>[10051:10410] (359 bp)\", \"unit 29<br>[10410:10770] (360 bp)\", \"unit 30<br>[10770:11129] (359 bp)\", \"unit 31<br>[11129:11488] (359 bp)\", \"unit 32<br>[11488:11846] (358 bp)\", \"unit 33<br>[11846:12205] (359 bp)\", \"unit 34<br>[12205:12563] (358 bp)\", \"unit 35<br>[12563:12921] (358 bp)\"], \"type\": \"scatter\", \"x\": [0, 358, 716, 1074, 1433, 1792, 2152, 2512, 2871, 3231, 3590, 3949, 4305, 4664, 5024, 5383, 5743, 6102, 6461, 6820, 7179, 7538, 7897, 8256, 8614, 8973, 9332, 9691, 10051, 10410, 10770, 11129, 11488, 11846, 12205, 12563], \"y\": [0, 358, 716, 1074, 1433, 1792, 2152, 2512, 2871, 3231, 3590, 3949, 4305, 4664, 5024, 5383, 5743, 6102, 6461, 6820, 7179, 7538, 7897, 8256, 8614, 8973, 9332, 9691, 10051, 10410, 10770, 11129, 11488, 11846, 12205, 12563]}],\n",
       "                        {\"height\": 800, \"hovermode\": \"closest\", \"shapes\": [{\"layer\": \"below\", \"line\": {\"color\": \"grey\", \"width\": 3}, \"type\": \"line\", \"x0\": 0, \"x1\": 13059, \"xref\": \"x\", \"y0\": 0, \"y1\": 13059, \"yref\": \"y\"}, {\"layer\": \"below\", \"line\": {\"color\": \"black\", \"width\": 3}, \"type\": \"line\", \"x0\": 0, \"x1\": 13059, \"xref\": \"x\", \"y0\": 0, \"y1\": 13059, \"yref\": \"y\"}, {\"layer\": \"below\", \"line\": {\"color\": \"purple\", \"width\": 3}, \"type\": \"line\", \"x0\": 358, \"x1\": 2244, \"xref\": \"x\", \"y0\": 0, \"y1\": 1884, \"yref\": \"y\"}, {\"layer\": \"below\", \"line\": {\"color\": \"purple\", \"width\": 3}, \"type\": \"line\", \"x0\": 2740, \"x1\": 12655, \"xref\": \"x\", \"y0\": 2382, \"y1\": 12297, \"yref\": \"y\"}, {\"layer\": \"below\", \"line\": {\"color\": \"black\", \"width\": 1}, \"type\": \"line\", \"x0\": 716, \"x1\": 4693, \"xref\": \"x\", \"y0\": 0, \"y1\": 3978, \"yref\": \"y\"}, {\"layer\": \"below\", \"line\": {\"color\": \"black\", \"width\": 1}, \"type\": \"line\", \"x0\": 4867, \"x1\": 13054, \"xref\": \"x\", \"y0\": 4150, \"y1\": 12338, \"yref\": \"y\"}, {\"layer\": \"below\", \"line\": {\"color\": \"black\", \"width\": 1}, \"type\": \"line\", \"x0\": 1074, \"x1\": 2244, \"xref\": \"x\", \"y0\": 0, \"y1\": 1166, \"yref\": \"y\"}, {\"layer\": \"below\", \"line\": {\"color\": \"black\", \"width\": 1}, \"type\": \"line\", \"x0\": 3437, \"x1\": 13059, \"xref\": \"x\", \"y0\": 2360, \"y1\": 11984, \"yref\": \"y\"}, {\"layer\": \"below\", \"line\": {\"color\": \"black\", \"width\": 1}, \"type\": \"line\", \"x0\": 2360, \"x1\": 3323, \"xref\": \"x\", \"y0\": 1280, \"y1\": 2244, \"yref\": \"y\"}, {\"layer\": \"below\", \"line\": {\"color\": \"black\", \"width\": 1}, \"type\": \"line\", \"x0\": 1441, \"x1\": 12655, \"xref\": \"x\", \"y0\": 8, \"y1\": 11221, \"yref\": \"y\"}, {\"layer\": \"below\", \"line\": {\"color\": \"black\", \"width\": 1}, \"type\": \"line\", \"x0\": 2360, \"x1\": 13054, \"xref\": \"x\", \"y0\": 564, \"y1\": 11262, \"yref\": \"y\"}, {\"layer\": \"below\", \"line\": {\"color\": \"black\", \"width\": 1}, \"type\": \"line\", \"x0\": 4511, \"x1\": 13054, \"xref\": \"x\", \"y0\": 2360, \"y1\": 10903, \"yref\": \"y\"}, {\"layer\": \"below\", \"line\": {\"color\": \"black\", \"width\": 1}, \"type\": \"line\", \"x0\": 2359, \"x1\": 4397, \"xref\": \"x\", \"y0\": 205, \"y1\": 2244, \"yref\": \"y\"}, {\"layer\": \"below\", \"line\": {\"color\": \"black\", \"width\": 1}, \"type\": \"line\", \"x0\": 5612, \"x1\": 12655, \"xref\": \"x\", \"y0\": 3101, \"y1\": 10143, \"yref\": \"y\"}, {\"layer\": \"below\", \"line\": {\"color\": \"black\", \"width\": 1}, \"type\": \"line\", \"x0\": 2512, \"x1\": 5475, \"xref\": \"x\", \"y0\": 0, \"y1\": 2963, \"yref\": \"y\"}, {\"layer\": \"below\", \"line\": {\"color\": \"black\", \"width\": 1}, \"type\": \"line\", \"x0\": 5230, \"x1\": 13013, \"xref\": \"x\", \"y0\": 2360, \"y1\": 10143, \"yref\": \"y\"}, {\"layer\": \"below\", \"line\": {\"color\": \"black\", \"width\": 1}, \"type\": \"line\", \"x0\": 2879, \"x1\": 5116, \"xref\": \"x\", \"y0\": 8, \"y1\": 2244, \"yref\": \"y\"}, {\"layer\": \"below\", \"line\": {\"color\": \"black\", \"width\": 1}, \"type\": \"line\", \"x0\": 3231, \"x1\": 13038, \"xref\": \"x\", \"y0\": 0, \"y1\": 9808, \"yref\": \"y\"}, {\"layer\": \"below\", \"line\": {\"color\": \"black\", \"width\": 1}, \"type\": \"line\", \"x0\": 5949, \"x1\": 13054, \"xref\": \"x\", \"y0\": 2360, \"y1\": 9465, \"yref\": \"y\"}, {\"layer\": \"below\", \"line\": {\"color\": \"black\", \"width\": 1}, \"type\": \"line\", \"x0\": 3639, \"x1\": 5835, \"xref\": \"x\", \"y0\": 49, \"y1\": 2244, \"yref\": \"y\"}, {\"layer\": \"below\", \"line\": {\"color\": \"black\", \"width\": 1}, \"type\": \"line\", \"x0\": 3949, \"x1\": 5475, \"xref\": \"x\", \"y0\": 0, \"y1\": 1525, \"yref\": \"y\"}, {\"layer\": \"below\", \"line\": {\"color\": \"black\", \"width\": 1}, \"type\": \"line\", \"x0\": 5612, \"x1\": 13054, \"xref\": \"x\", \"y0\": 1662, \"y1\": 9106, \"yref\": \"y\"}, {\"layer\": \"below\", \"line\": {\"color\": \"black\", \"width\": 1}, \"type\": \"line\", \"x0\": 4305, \"x1\": 13013, \"xref\": \"x\", \"y0\": 0, \"y1\": 8706, \"yref\": \"y\"}, {\"layer\": \"below\", \"line\": {\"color\": \"black\", \"width\": 1}, \"type\": \"line\", \"x0\": 6102, \"x1\": 13047, \"xref\": \"x\", \"y0\": 0, \"y1\": 6946, \"yref\": \"y\"}, {\"layer\": \"below\", \"line\": {\"color\": \"black\", \"width\": 1}, \"type\": \"line\", \"x0\": 7179, \"x1\": 13054, \"xref\": \"x\", \"y0\": 0, \"y1\": 5876, \"yref\": \"y\"}, {\"layer\": \"below\", \"line\": {\"color\": \"black\", \"width\": 1}, \"type\": \"line\", \"x0\": 7538, \"x1\": 13026, \"xref\": \"x\", \"y0\": 0, \"y1\": 5488, \"yref\": \"y\"}, {\"layer\": \"below\", \"line\": {\"color\": \"black\", \"width\": 1}, \"type\": \"line\", \"x0\": 7897, \"x1\": 13054, \"xref\": \"x\", \"y0\": 0, \"y1\": 5157, \"yref\": \"y\"}, {\"layer\": \"below\", \"line\": {\"color\": \"black\", \"width\": 1}, \"type\": \"line\", \"x0\": 9332, \"x1\": 13054, \"xref\": \"x\", \"y0\": 0, \"y1\": 3723, \"yref\": \"y\"}, {\"fillcolor\": \"#bbe4b5\", \"layer\": \"below\", \"line\": {\"width\": 0}, \"opacity\": 1.0, \"type\": \"rect\", \"x0\": 0, \"x1\": 358, \"xref\": \"x\", \"y0\": 358, \"y1\": 716, \"yref\": \"y\"}, {\"fillcolor\": \"#6fc7bd\", \"layer\": \"below\", \"line\": {\"width\": 0}, \"opacity\": 1.0, \"type\": \"rect\", \"x0\": 0, \"x1\": 358, \"xref\": \"x\", \"y0\": 716, \"y1\": 1074, \"yref\": \"y\"}, {\"fillcolor\": \"#c9eab4\", \"layer\": \"below\", \"line\": {\"width\": 0}, \"opacity\": 1.0, \"type\": \"rect\", \"x0\": 0, \"x1\": 358, \"xref\": \"x\", \"y0\": 1074, \"y1\": 1433, \"yref\": \"y\"}, {\"fillcolor\": \"#1d90c0\", \"layer\": \"below\", \"line\": {\"width\": 0}, \"opacity\": 1.0, \"type\": \"rect\", \"x0\": 0, \"x1\": 358, \"xref\": \"x\", \"y0\": 1433, \"y1\": 1792, \"yref\": \"y\"}, {\"fillcolor\": \"#61c2bf\", \"layer\": \"below\", \"line\": {\"width\": 0}, \"opacity\": 1.0, \"type\": \"rect\", \"x0\": 0, \"x1\": 358, \"xref\": \"x\", \"y0\": 1792, \"y1\": 2152, \"yref\": \"y\"}, {\"fillcolor\": \"#2498c1\", \"layer\": \"below\", \"line\": {\"width\": 0}, \"opacity\": 1.0, \"type\": \"rect\", \"x0\": 0, \"x1\": 358, \"xref\": \"x\", \"y0\": 2152, \"y1\": 2512, \"yref\": \"y\"}, {\"fillcolor\": \"#bbe4b5\", \"layer\": \"below\", \"line\": {\"width\": 0}, \"opacity\": 1.0, \"type\": \"rect\", \"x0\": 0, \"x1\": 358, \"xref\": \"x\", \"y0\": 2512, \"y1\": 2871, \"yref\": \"y\"}, {\"fillcolor\": \"#2ca1c2\", \"layer\": \"below\", \"line\": {\"width\": 0}, \"opacity\": 1.0, \"type\": \"rect\", \"x0\": 0, \"x1\": 358, \"xref\": \"x\", \"y0\": 2871, \"y1\": 3231, \"yref\": \"y\"}, {\"fillcolor\": \"#abdeb7\", \"layer\": \"below\", \"line\": {\"width\": 0}, \"opacity\": 1.0, \"type\": \"rect\", \"x0\": 0, \"x1\": 358, \"xref\": \"x\", \"y0\": 3231, \"y1\": 3590, \"yref\": \"y\"}, {\"fillcolor\": \"#61c2bf\", \"layer\": \"below\", \"line\": {\"width\": 0}, \"opacity\": 1.0, \"type\": \"rect\", \"x0\": 0, \"x1\": 358, \"xref\": \"x\", \"y0\": 3590, \"y1\": 3949, \"yref\": \"y\"}, {\"fillcolor\": \"#34a9c3\", \"layer\": \"below\", \"line\": {\"width\": 0}, \"opacity\": 1.0, \"type\": \"rect\", \"x0\": 0, \"x1\": 358, \"xref\": \"x\", \"y0\": 3949, \"y1\": 4305, \"yref\": \"y\"}, {\"fillcolor\": \"#abdeb7\", \"layer\": \"below\", \"line\": {\"width\": 0}, \"opacity\": 1.0, \"type\": \"rect\", \"x0\": 0, \"x1\": 358, \"xref\": \"x\", \"y0\": 4305, \"y1\": 4664, \"yref\": \"y\"}, {\"fillcolor\": \"#48b9c3\", \"layer\": \"below\", \"line\": {\"width\": 0}, \"opacity\": 1.0, \"type\": \"rect\", \"x0\": 0, \"x1\": 358, \"xref\": \"x\", \"y0\": 4664, \"y1\": 5024, \"yref\": \"y\"}, {\"fillcolor\": \"#abdeb7\", \"layer\": \"below\", \"line\": {\"width\": 0}, \"opacity\": 1.0, \"type\": \"rect\", \"x0\": 0, \"x1\": 358, \"xref\": \"x\", \"y0\": 5024, \"y1\": 5383, \"yref\": \"y\"}, {\"fillcolor\": \"#2da2c2\", \"layer\": \"below\", \"line\": {\"width\": 0}, \"opacity\": 1.0, \"type\": \"rect\", \"x0\": 0, \"x1\": 358, \"xref\": \"x\", \"y0\": 5383, \"y1\": 5743, \"yref\": \"y\"}, {\"fillcolor\": \"#c9eab4\", \"layer\": \"below\", \"line\": {\"width\": 0}, \"opacity\": 1.0, \"type\": \"rect\", \"x0\": 0, \"x1\": 358, \"xref\": \"x\", \"y0\": 5743, \"y1\": 6102, \"yref\": \"y\"}, {\"fillcolor\": \"#61c2bf\", \"layer\": \"below\", \"line\": {\"width\": 0}, \"opacity\": 1.0, \"type\": \"rect\", \"x0\": 0, \"x1\": 358, \"xref\": \"x\", \"y0\": 6102, \"y1\": 6461, \"yref\": \"y\"}, {\"fillcolor\": \"#46b8c3\", \"layer\": \"below\", \"line\": {\"width\": 0}, \"opacity\": 1.0, \"type\": \"rect\", \"x0\": 0, \"x1\": 358, \"xref\": \"x\", \"y0\": 6461, \"y1\": 6820, \"yref\": \"y\"}, {\"fillcolor\": \"#7cccbb\", \"layer\": \"below\", \"line\": {\"width\": 0}, \"opacity\": 1.0, \"type\": \"rect\", \"x0\": 0, \"x1\": 358, \"xref\": \"x\", \"y0\": 6820, \"y1\": 7179, \"yref\": \"y\"}, {\"fillcolor\": \"#d1edb3\", \"layer\": \"below\", \"line\": {\"width\": 0}, \"opacity\": 1.0, \"type\": \"rect\", \"x0\": 0, \"x1\": 358, \"xref\": \"x\", \"y0\": 7179, \"y1\": 7538, \"yref\": \"y\"}, {\"fillcolor\": \"#9cd8b8\", \"layer\": \"below\", \"line\": {\"width\": 0}, \"opacity\": 1.0, \"type\": \"rect\", \"x0\": 0, \"x1\": 358, \"xref\": \"x\", \"y0\": 7538, \"y1\": 7897, \"yref\": \"y\"}, {\"fillcolor\": \"#7cccbb\", \"layer\": \"below\", \"line\": {\"width\": 0}, \"opacity\": 1.0, \"type\": \"rect\", \"x0\": 0, \"x1\": 358, \"xref\": \"x\", \"y0\": 7897, \"y1\": 8256, \"yref\": \"y\"}, {\"fillcolor\": \"#6fc7bd\", \"layer\": \"below\", \"line\": {\"width\": 0}, \"opacity\": 1.0, \"type\": \"rect\", \"x0\": 0, \"x1\": 358, \"xref\": \"x\", \"y0\": 8256, \"y1\": 8614, \"yref\": \"y\"}, {\"fillcolor\": \"#bbe4b5\", \"layer\": \"below\", \"line\": {\"width\": 0}, \"opacity\": 1.0, \"type\": \"rect\", \"x0\": 0, \"x1\": 358, \"xref\": \"x\", \"y0\": 8614, \"y1\": 8973, \"yref\": \"y\"}, {\"fillcolor\": \"#9cd8b8\", \"layer\": \"below\", \"line\": {\"width\": 0}, \"opacity\": 1.0, \"type\": \"rect\", \"x0\": 0, \"x1\": 358, \"xref\": \"x\", \"y0\": 8973, \"y1\": 9332, \"yref\": \"y\"}, {\"fillcolor\": \"#53bdc1\", \"layer\": \"below\", \"line\": {\"width\": 0}, \"opacity\": 1.0, \"type\": \"rect\", \"x0\": 0, \"x1\": 358, \"xref\": \"x\", \"y0\": 9332, \"y1\": 9691, \"yref\": \"y\"}, {\"fillcolor\": \"#48b9c3\", \"layer\": \"below\", \"line\": {\"width\": 0}, \"opacity\": 1.0, \"type\": \"rect\", \"x0\": 0, \"x1\": 358, \"xref\": \"x\", \"y0\": 9691, \"y1\": 10051, \"yref\": \"y\"}, {\"fillcolor\": \"#8cd2ba\", \"layer\": \"below\", \"line\": {\"width\": 0}, \"opacity\": 1.0, \"type\": \"rect\", \"x0\": 0, \"x1\": 358, \"xref\": \"x\", \"y0\": 10051, \"y1\": 10410, \"yref\": \"y\"}, {\"fillcolor\": \"#9cd8b8\", \"layer\": \"below\", \"line\": {\"width\": 0}, \"opacity\": 1.0, \"type\": \"rect\", \"x0\": 0, \"x1\": 358, \"xref\": \"x\", \"y0\": 10410, \"y1\": 10770, \"yref\": \"y\"}, {\"fillcolor\": \"#46b8c3\", \"layer\": \"below\", \"line\": {\"width\": 0}, \"opacity\": 1.0, \"type\": \"rect\", \"x0\": 0, \"x1\": 358, \"xref\": \"x\", \"y0\": 10770, \"y1\": 11129, \"yref\": \"y\"}, {\"fillcolor\": \"#bbe4b5\", \"layer\": \"below\", \"line\": {\"width\": 0}, \"opacity\": 1.0, \"type\": \"rect\", \"x0\": 0, \"x1\": 358, \"xref\": \"x\", \"y0\": 11129, \"y1\": 11488, \"yref\": \"y\"}, {\"fillcolor\": \"#2498c1\", \"layer\": \"below\", \"line\": {\"width\": 0}, \"opacity\": 1.0, \"type\": \"rect\", \"x0\": 0, \"x1\": 358, \"xref\": \"x\", \"y0\": 11488, \"y1\": 11846, \"yref\": \"y\"}, {\"fillcolor\": \"#2ca1c2\", \"layer\": \"below\", \"line\": {\"width\": 0}, \"opacity\": 1.0, \"type\": \"rect\", \"x0\": 0, \"x1\": 358, \"xref\": \"x\", \"y0\": 11846, \"y1\": 12205, \"yref\": \"y\"}, {\"fillcolor\": \"#61c2bf\", \"layer\": \"below\", \"line\": {\"width\": 0}, \"opacity\": 1.0, \"type\": \"rect\", \"x0\": 0, \"x1\": 358, \"xref\": \"x\", \"y0\": 12205, \"y1\": 12563, \"yref\": \"y\"}, {\"fillcolor\": \"#1e86bb\", \"layer\": \"below\", \"line\": {\"width\": 0}, \"opacity\": 1.0, \"type\": \"rect\", \"x0\": 0, \"x1\": 358, \"xref\": \"x\", \"y0\": 12563, \"y1\": 12921, \"yref\": \"y\"}, {\"fillcolor\": \"#3cb1c3\", \"layer\": \"below\", \"line\": {\"width\": 0}, \"opacity\": 1.0, \"type\": \"rect\", \"x0\": 358, \"x1\": 716, \"xref\": \"x\", \"y0\": 716, \"y1\": 1074, \"yref\": \"y\"}, {\"fillcolor\": \"#abdeb7\", \"layer\": \"below\", \"line\": {\"width\": 0}, \"opacity\": 1.0, \"type\": \"rect\", \"x0\": 358, \"x1\": 716, \"xref\": \"x\", \"y0\": 1074, \"y1\": 1433, \"yref\": \"y\"}, {\"fillcolor\": \"#1f7bb6\", \"layer\": \"below\", \"line\": {\"width\": 0}, \"opacity\": 1.0, \"type\": \"rect\", \"x0\": 358, \"x1\": 716, \"xref\": \"x\", \"y0\": 1433, \"y1\": 1792, \"yref\": \"y\"}, {\"fillcolor\": \"#7cccbb\", \"layer\": \"below\", \"line\": {\"width\": 0}, \"opacity\": 1.0, \"type\": \"rect\", \"x0\": 358, \"x1\": 716, \"xref\": \"x\", \"y0\": 1792, \"y1\": 2152, \"yref\": \"y\"}, {\"fillcolor\": \"#2070b0\", \"layer\": \"below\", \"line\": {\"width\": 0}, \"opacity\": 1.0, \"type\": \"rect\", \"x0\": 358, \"x1\": 716, \"xref\": \"x\", \"y0\": 2152, \"y1\": 2512, \"yref\": \"y\"}, {\"fillcolor\": \"#9cd8b8\", \"layer\": \"below\", \"line\": {\"width\": 0}, \"opacity\": 1.0, \"type\": \"rect\", \"x0\": 358, \"x1\": 716, \"xref\": \"x\", \"y0\": 2512, \"y1\": 2871, \"yref\": \"y\"}, {\"fillcolor\": \"#1f7bb6\", \"layer\": \"below\", \"line\": {\"width\": 0}, \"opacity\": 1.0, \"type\": \"rect\", \"x0\": 358, \"x1\": 716, \"xref\": \"x\", \"y0\": 2871, \"y1\": 3231, \"yref\": \"y\"}, {\"fillcolor\": \"#fcfed1\", \"layer\": \"below\", \"line\": {\"width\": 0}, \"opacity\": 1.0, \"type\": \"rect\", \"x0\": 358, \"x1\": 716, \"xref\": \"x\", \"y0\": 3231, \"y1\": 3590, \"yref\": \"y\"}, {\"fillcolor\": \"#34a9c3\", \"layer\": \"below\", \"line\": {\"width\": 0}, \"opacity\": 1.0, \"type\": \"rect\", \"x0\": 358, \"x1\": 716, \"xref\": \"x\", \"y0\": 3590, \"y1\": 3949, \"yref\": \"y\"}, {\"fillcolor\": \"#9cd8b8\", \"layer\": \"below\", \"line\": {\"width\": 0}, \"opacity\": 1.0, \"type\": \"rect\", \"x0\": 358, \"x1\": 716, \"xref\": \"x\", \"y0\": 3949, \"y1\": 4305, \"yref\": \"y\"}, {\"fillcolor\": \"#fcfed1\", \"layer\": \"below\", \"line\": {\"width\": 0}, \"opacity\": 1.0, \"type\": \"rect\", \"x0\": 358, \"x1\": 716, \"xref\": \"x\", \"y0\": 4305, \"y1\": 4664, \"yref\": \"y\"}, {\"fillcolor\": \"#2498c1\", \"layer\": \"below\", \"line\": {\"width\": 0}, \"opacity\": 1.0, \"type\": \"rect\", \"x0\": 358, \"x1\": 716, \"xref\": \"x\", \"y0\": 4664, \"y1\": 5024, \"yref\": \"y\"}, {\"fillcolor\": \"#fcfed1\", \"layer\": \"below\", \"line\": {\"width\": 0}, \"opacity\": 1.0, \"type\": \"rect\", \"x0\": 358, \"x1\": 716, \"xref\": \"x\", \"y0\": 5024, \"y1\": 5383, \"yref\": \"y\"}, {\"fillcolor\": \"#1d90c0\", \"layer\": \"below\", \"line\": {\"width\": 0}, \"opacity\": 1.0, \"type\": \"rect\", \"x0\": 358, \"x1\": 716, \"xref\": \"x\", \"y0\": 5383, \"y1\": 5743, \"yref\": \"y\"}, {\"fillcolor\": \"#f4fbc0\", \"layer\": \"below\", \"line\": {\"width\": 0}, \"opacity\": 1.0, \"type\": \"rect\", \"x0\": 358, \"x1\": 716, \"xref\": \"x\", \"y0\": 5743, \"y1\": 6102, \"yref\": \"y\"}, {\"fillcolor\": \"#46b8c3\", \"layer\": \"below\", \"line\": {\"width\": 0}, \"opacity\": 1.0, \"type\": \"rect\", \"x0\": 358, \"x1\": 716, \"xref\": \"x\", \"y0\": 6102, \"y1\": 6461, \"yref\": \"y\"}, {\"fillcolor\": \"#61c2bf\", \"layer\": \"below\", \"line\": {\"width\": 0}, \"opacity\": 1.0, \"type\": \"rect\", \"x0\": 358, \"x1\": 716, \"xref\": \"x\", \"y0\": 6461, \"y1\": 6820, \"yref\": \"y\"}, {\"fillcolor\": \"#2498c1\", \"layer\": \"below\", \"line\": {\"width\": 0}, \"opacity\": 1.0, \"type\": \"rect\", \"x0\": 358, \"x1\": 716, \"xref\": \"x\", \"y0\": 6820, \"y1\": 7179, \"yref\": \"y\"}, {\"fillcolor\": \"#61c2bf\", \"layer\": \"below\", \"line\": {\"width\": 0}, \"opacity\": 1.0, \"type\": \"rect\", \"x0\": 358, \"x1\": 716, \"xref\": \"x\", \"y0\": 7179, \"y1\": 7538, \"yref\": \"y\"}, {\"fillcolor\": \"#f8fcc9\", \"layer\": \"below\", \"line\": {\"width\": 0}, \"opacity\": 1.0, \"type\": \"rect\", \"x0\": 358, \"x1\": 716, \"xref\": \"x\", \"y0\": 7538, \"y1\": 7897, \"yref\": \"y\"}, {\"fillcolor\": \"#61c2bf\", \"layer\": \"below\", \"line\": {\"width\": 0}, \"opacity\": 1.0, \"type\": \"rect\", \"x0\": 358, \"x1\": 716, \"xref\": \"x\", \"y0\": 7897, \"y1\": 8256, \"yref\": \"y\"}, {\"fillcolor\": \"#2498c1\", \"layer\": \"below\", \"line\": {\"width\": 0}, \"opacity\": 1.0, \"type\": \"rect\", \"x0\": 358, \"x1\": 716, \"xref\": \"x\", \"y0\": 8256, \"y1\": 8614, \"yref\": \"y\"}, {\"fillcolor\": \"#46b8c3\", \"layer\": \"below\", \"line\": {\"width\": 0}, \"opacity\": 1.0, \"type\": \"rect\", \"x0\": 358, \"x1\": 716, \"xref\": \"x\", \"y0\": 8614, \"y1\": 8973, \"yref\": \"y\"}, {\"fillcolor\": \"#f8fcc9\", \"layer\": \"below\", \"line\": {\"width\": 0}, \"opacity\": 1.0, \"type\": \"rect\", \"x0\": 358, \"x1\": 716, \"xref\": \"x\", \"y0\": 8973, \"y1\": 9332, \"yref\": \"y\"}, {\"fillcolor\": \"#daf0b3\", \"layer\": \"below\", \"line\": {\"width\": 0}, \"opacity\": 1.0, \"type\": \"rect\", \"x0\": 358, \"x1\": 716, \"xref\": \"x\", \"y0\": 9332, \"y1\": 9691, \"yref\": \"y\"}, {\"fillcolor\": \"#2498c1\", \"layer\": \"below\", \"line\": {\"width\": 0}, \"opacity\": 1.0, \"type\": \"rect\", \"x0\": 358, \"x1\": 716, \"xref\": \"x\", \"y0\": 9691, \"y1\": 10051, \"yref\": \"y\"}, {\"fillcolor\": \"#53bdc1\", \"layer\": \"below\", \"line\": {\"width\": 0}, \"opacity\": 1.0, \"type\": \"rect\", \"x0\": 358, \"x1\": 716, \"xref\": \"x\", \"y0\": 10051, \"y1\": 10410, \"yref\": \"y\"}, {\"fillcolor\": \"#f8fcc9\", \"layer\": \"below\", \"line\": {\"width\": 0}, \"opacity\": 1.0, \"type\": \"rect\", \"x0\": 358, \"x1\": 716, \"xref\": \"x\", \"y0\": 10410, \"y1\": 10770, \"yref\": \"y\"}, {\"fillcolor\": \"#2498c1\", \"layer\": \"below\", \"line\": {\"width\": 0}, \"opacity\": 1.0, \"type\": \"rect\", \"x0\": 358, \"x1\": 716, \"xref\": \"x\", \"y0\": 10770, \"y1\": 11129, \"yref\": \"y\"}, {\"fillcolor\": \"#9cd8b8\", \"layer\": \"below\", \"line\": {\"width\": 0}, \"opacity\": 1.0, \"type\": \"rect\", \"x0\": 358, \"x1\": 716, \"xref\": \"x\", \"y0\": 11129, \"y1\": 11488, \"yref\": \"y\"}, {\"fillcolor\": \"#7cccbb\", \"layer\": \"below\", \"line\": {\"width\": 0}, \"opacity\": 1.0, \"type\": \"rect\", \"x0\": 358, \"x1\": 716, \"xref\": \"x\", \"y0\": 11488, \"y1\": 11846, \"yref\": \"y\"}, {\"fillcolor\": \"#1d90c0\", \"layer\": \"below\", \"line\": {\"width\": 0}, \"opacity\": 1.0, \"type\": \"rect\", \"x0\": 358, \"x1\": 716, \"xref\": \"x\", \"y0\": 11846, \"y1\": 12205, \"yref\": \"y\"}, {\"fillcolor\": \"#34a9c3\", \"layer\": \"below\", \"line\": {\"width\": 0}, \"opacity\": 1.0, \"type\": \"rect\", \"x0\": 358, \"x1\": 716, \"xref\": \"x\", \"y0\": 12205, \"y1\": 12563, \"yref\": \"y\"}, {\"fillcolor\": \"#61c2bf\", \"layer\": \"below\", \"line\": {\"width\": 0}, \"opacity\": 1.0, \"type\": \"rect\", \"x0\": 358, \"x1\": 716, \"xref\": \"x\", \"y0\": 12563, \"y1\": 12921, \"yref\": \"y\"}, {\"fillcolor\": \"#61c2bf\", \"layer\": \"below\", \"line\": {\"width\": 0}, \"opacity\": 1.0, \"type\": \"rect\", \"x0\": 716, \"x1\": 1074, \"xref\": \"x\", \"y0\": 1074, \"y1\": 1433, \"yref\": \"y\"}, {\"fillcolor\": \"#259ac1\", \"layer\": \"below\", \"line\": {\"width\": 0}, \"opacity\": 1.0, \"type\": \"rect\", \"x0\": 716, \"x1\": 1074, \"xref\": \"x\", \"y0\": 1433, \"y1\": 1792, \"yref\": \"y\"}, {\"fillcolor\": \"#2da2c2\", \"layer\": \"below\", \"line\": {\"width\": 0}, \"opacity\": 1.0, \"type\": \"rect\", \"x0\": 716, \"x1\": 1074, \"xref\": \"x\", \"y0\": 1792, \"y1\": 2152, \"yref\": \"y\"}, {\"fillcolor\": \"#2166ac\", \"layer\": \"below\", \"line\": {\"width\": 0}, \"opacity\": 1.0, \"type\": \"rect\", \"x0\": 716, \"x1\": 1074, \"xref\": \"x\", \"y0\": 2152, \"y1\": 2512, \"yref\": \"y\"}, {\"fillcolor\": \"#53bdc1\", \"layer\": \"below\", \"line\": {\"width\": 0}, \"opacity\": 1.0, \"type\": \"rect\", \"x0\": 716, \"x1\": 1074, \"xref\": \"x\", \"y0\": 2512, \"y1\": 2871, \"yref\": \"y\"}, {\"fillcolor\": \"#2073b2\", \"layer\": \"below\", \"line\": {\"width\": 0}, \"opacity\": 1.0, \"type\": \"rect\", \"x0\": 716, \"x1\": 1074, \"xref\": \"x\", \"y0\": 2871, \"y1\": 3231, \"yref\": \"y\"}, {\"fillcolor\": \"#34a9c3\", \"layer\": \"below\", \"line\": {\"width\": 0}, \"opacity\": 1.0, \"type\": \"rect\", \"x0\": 716, \"x1\": 1074, \"xref\": \"x\", \"y0\": 3231, \"y1\": 3590, \"yref\": \"y\"}, {\"fillcolor\": \"#f4fbc0\", \"layer\": \"below\", \"line\": {\"width\": 0}, \"opacity\": 1.0, \"type\": \"rect\", \"x0\": 716, \"x1\": 1074, \"xref\": \"x\", \"y0\": 3590, \"y1\": 3949, \"yref\": \"y\"}, {\"fillcolor\": \"#2351a2\", \"layer\": \"below\", \"line\": {\"width\": 0}, \"opacity\": 1.0, \"type\": \"rect\", \"x0\": 716, \"x1\": 1074, \"xref\": \"x\", \"y0\": 3949, \"y1\": 4305, \"yref\": \"y\"}, {\"fillcolor\": \"#34a9c3\", \"layer\": \"below\", \"line\": {\"width\": 0}, \"opacity\": 1.0, \"type\": \"rect\", \"x0\": 716, \"x1\": 1074, \"xref\": \"x\", \"y0\": 4305, \"y1\": 4664, \"yref\": \"y\"}, {\"fillcolor\": \"#eaf7b1\", \"layer\": \"below\", \"line\": {\"width\": 0}, \"opacity\": 1.0, \"type\": \"rect\", \"x0\": 716, \"x1\": 1074, \"xref\": \"x\", \"y0\": 4664, \"y1\": 5024, \"yref\": \"y\"}, {\"fillcolor\": \"#34a9c3\", \"layer\": \"below\", \"line\": {\"width\": 0}, \"opacity\": 1.0, \"type\": \"rect\", \"x0\": 716, \"x1\": 1074, \"xref\": \"x\", \"y0\": 5024, \"y1\": 5383, \"yref\": \"y\"}, {\"fillcolor\": \"#d1edb3\", \"layer\": \"below\", \"line\": {\"width\": 0}, \"opacity\": 1.0, \"type\": \"rect\", \"x0\": 716, \"x1\": 1074, \"xref\": \"x\", \"y0\": 5383, \"y1\": 5743, \"yref\": \"y\"}, {\"fillcolor\": \"#2498c1\", \"layer\": \"below\", \"line\": {\"width\": 0}, \"opacity\": 1.0, \"type\": \"rect\", \"x0\": 716, \"x1\": 1074, \"xref\": \"x\", \"y0\": 5743, \"y1\": 6102, \"yref\": \"y\"}, {\"fillcolor\": \"#f8fcc9\", \"layer\": \"below\", \"line\": {\"width\": 0}, \"opacity\": 1.0, \"type\": \"rect\", \"x0\": 716, \"x1\": 1074, \"xref\": \"x\", \"y0\": 6102, \"y1\": 6461, \"yref\": \"y\"}, {\"fillcolor\": \"#6fc7bd\", \"layer\": \"below\", \"line\": {\"width\": 0}, \"opacity\": 1.0, \"type\": \"rect\", \"x0\": 716, \"x1\": 1074, \"xref\": \"x\", \"y0\": 6461, \"y1\": 6820, \"yref\": \"y\"}, {\"fillcolor\": \"#eaf7b1\", \"layer\": \"below\", \"line\": {\"width\": 0}, \"opacity\": 1.0, \"type\": \"rect\", \"x0\": 716, \"x1\": 1074, \"xref\": \"x\", \"y0\": 6820, \"y1\": 7179, \"yref\": \"y\"}, {\"fillcolor\": \"#6fc7bd\", \"layer\": \"below\", \"line\": {\"width\": 0}, \"opacity\": 1.0, \"type\": \"rect\", \"x0\": 716, \"x1\": 1074, \"xref\": \"x\", \"y0\": 7179, \"y1\": 7538, \"yref\": \"y\"}, {\"fillcolor\": \"#2da2c2\", \"layer\": \"below\", \"line\": {\"width\": 0}, \"opacity\": 1.0, \"type\": \"rect\", \"x0\": 716, \"x1\": 1074, \"xref\": \"x\", \"y0\": 7538, \"y1\": 7897, \"yref\": \"y\"}, {\"fillcolor\": \"#53bdc1\", \"layer\": \"below\", \"line\": {\"width\": 0}, \"opacity\": 1.0, \"type\": \"rect\", \"x0\": 716, \"x1\": 1074, \"xref\": \"x\", \"y0\": 7897, \"y1\": 8256, \"yref\": \"y\"}, {\"fillcolor\": \"#eaf7b1\", \"layer\": \"below\", \"line\": {\"width\": 0}, \"opacity\": 1.0, \"type\": \"rect\", \"x0\": 716, \"x1\": 1074, \"xref\": \"x\", \"y0\": 8256, \"y1\": 8614, \"yref\": \"y\"}, {\"fillcolor\": \"#53bdc1\", \"layer\": \"below\", \"line\": {\"width\": 0}, \"opacity\": 1.0, \"type\": \"rect\", \"x0\": 716, \"x1\": 1074, \"xref\": \"x\", \"y0\": 8614, \"y1\": 8973, \"yref\": \"y\"}, {\"fillcolor\": \"#2da2c2\", \"layer\": \"below\", \"line\": {\"width\": 0}, \"opacity\": 1.0, \"type\": \"rect\", \"x0\": 716, \"x1\": 1074, \"xref\": \"x\", \"y0\": 8973, \"y1\": 9332, \"yref\": \"y\"}, {\"fillcolor\": \"#7cccbb\", \"layer\": \"below\", \"line\": {\"width\": 0}, \"opacity\": 1.0, \"type\": \"rect\", \"x0\": 716, \"x1\": 1074, \"xref\": \"x\", \"y0\": 9332, \"y1\": 9691, \"yref\": \"y\"}, {\"fillcolor\": \"#f0f9b7\", \"layer\": \"below\", \"line\": {\"width\": 0}, \"opacity\": 1.0, \"type\": \"rect\", \"x0\": 716, \"x1\": 1074, \"xref\": \"x\", \"y0\": 9691, \"y1\": 10051, \"yref\": \"y\"}, {\"fillcolor\": \"#259ac1\", \"layer\": \"below\", \"line\": {\"width\": 0}, \"opacity\": 1.0, \"type\": \"rect\", \"x0\": 716, \"x1\": 1074, \"xref\": \"x\", \"y0\": 10051, \"y1\": 10410, \"yref\": \"y\"}, {\"fillcolor\": \"#2da2c2\", \"layer\": \"below\", \"line\": {\"width\": 0}, \"opacity\": 1.0, \"type\": \"rect\", \"x0\": 716, \"x1\": 1074, \"xref\": \"x\", \"y0\": 10410, \"y1\": 10770, \"yref\": \"y\"}, {\"fillcolor\": \"#f0f9b7\", \"layer\": \"below\", \"line\": {\"width\": 0}, \"opacity\": 1.0, \"type\": \"rect\", \"x0\": 716, \"x1\": 1074, \"xref\": \"x\", \"y0\": 10770, \"y1\": 11129, \"yref\": \"y\"}, {\"fillcolor\": \"#53bdc1\", \"layer\": \"below\", \"line\": {\"width\": 0}, \"opacity\": 1.0, \"type\": \"rect\", \"x0\": 716, \"x1\": 1074, \"xref\": \"x\", \"y0\": 11129, \"y1\": 11488, \"yref\": \"y\"}, {\"fillcolor\": \"#3db2c4\", \"layer\": \"below\", \"line\": {\"width\": 0}, \"opacity\": 1.0, \"type\": \"rect\", \"x0\": 716, \"x1\": 1074, \"xref\": \"x\", \"y0\": 11488, \"y1\": 11846, \"yref\": \"y\"}, {\"fillcolor\": \"#daf0b3\", \"layer\": \"below\", \"line\": {\"width\": 0}, \"opacity\": 1.0, \"type\": \"rect\", \"x0\": 716, \"x1\": 1074, \"xref\": \"x\", \"y0\": 11846, \"y1\": 12205, \"yref\": \"y\"}, {\"fillcolor\": \"#2165ab\", \"layer\": \"below\", \"line\": {\"width\": 0}, \"opacity\": 1.0, \"type\": \"rect\", \"x0\": 716, \"x1\": 1074, \"xref\": \"x\", \"y0\": 12205, \"y1\": 12563, \"yref\": \"y\"}, {\"fillcolor\": \"#2165ab\", \"layer\": \"below\", \"line\": {\"width\": 0}, \"opacity\": 1.0, \"type\": \"rect\", \"x0\": 716, \"x1\": 1074, \"xref\": \"x\", \"y0\": 12563, \"y1\": 12921, \"yref\": \"y\"}, {\"fillcolor\": \"#1e86bb\", \"layer\": \"below\", \"line\": {\"width\": 0}, \"opacity\": 1.0, \"type\": \"rect\", \"x0\": 1074, \"x1\": 1433, \"xref\": \"x\", \"y0\": 1433, \"y1\": 1792, \"yref\": \"y\"}, {\"fillcolor\": \"#c9eab4\", \"layer\": \"below\", \"line\": {\"width\": 0}, \"opacity\": 1.0, \"type\": \"rect\", \"x0\": 1074, \"x1\": 1433, \"xref\": \"x\", \"y0\": 1792, \"y1\": 2152, \"yref\": \"y\"}, {\"fillcolor\": \"#2352a3\", \"layer\": \"below\", \"line\": {\"width\": 0}, \"opacity\": 1.0, \"type\": \"rect\", \"x0\": 1074, \"x1\": 1433, \"xref\": \"x\", \"y0\": 2152, \"y1\": 2512, \"yref\": \"y\"}, {\"fillcolor\": \"#fcfed1\", \"layer\": \"below\", \"line\": {\"width\": 0}, \"opacity\": 1.0, \"type\": \"rect\", \"x0\": 1074, \"x1\": 1433, \"xref\": \"x\", \"y0\": 2512, \"y1\": 2871, \"yref\": \"y\"}, {\"fillcolor\": \"#225ca7\", \"layer\": \"below\", \"line\": {\"width\": 0}, \"opacity\": 1.0, \"type\": \"rect\", \"x0\": 1074, \"x1\": 1433, \"xref\": \"x\", \"y0\": 2871, \"y1\": 3231, \"yref\": \"y\"}, {\"fillcolor\": \"#bbe4b5\", \"layer\": \"below\", \"line\": {\"width\": 0}, \"opacity\": 1.0, \"type\": \"rect\", \"x0\": 1074, \"x1\": 1433, \"xref\": \"x\", \"y0\": 3231, \"y1\": 3590, \"yref\": \"y\"}, {\"fillcolor\": \"#53bdc1\", \"layer\": \"below\", \"line\": {\"width\": 0}, \"opacity\": 1.0, \"type\": \"rect\", \"x0\": 1074, \"x1\": 1433, \"xref\": \"x\", \"y0\": 3590, \"y1\": 3949, \"yref\": \"y\"}, {\"fillcolor\": \"#1d91c0\", \"layer\": \"below\", \"line\": {\"width\": 0}, \"opacity\": 1.0, \"type\": \"rect\", \"x0\": 1074, \"x1\": 1433, \"xref\": \"x\", \"y0\": 3949, \"y1\": 4305, \"yref\": \"y\"}, {\"fillcolor\": \"#bbe4b5\", \"layer\": \"below\", \"line\": {\"width\": 0}, \"opacity\": 1.0, \"type\": \"rect\", \"x0\": 1074, \"x1\": 1433, \"xref\": \"x\", \"y0\": 4305, \"y1\": 4664, \"yref\": \"y\"}, {\"fillcolor\": \"#3db2c4\", \"layer\": \"below\", \"line\": {\"width\": 0}, \"opacity\": 1.0, \"type\": \"rect\", \"x0\": 1074, \"x1\": 1433, \"xref\": \"x\", \"y0\": 4664, \"y1\": 5024, \"yref\": \"y\"}, {\"fillcolor\": \"#bbe4b5\", \"layer\": \"below\", \"line\": {\"width\": 0}, \"opacity\": 1.0, \"type\": \"rect\", \"x0\": 1074, \"x1\": 1433, \"xref\": \"x\", \"y0\": 5024, \"y1\": 5383, \"yref\": \"y\"}, {\"fillcolor\": \"#35aac3\", \"layer\": \"below\", \"line\": {\"width\": 0}, \"opacity\": 1.0, \"type\": \"rect\", \"x0\": 1074, \"x1\": 1433, \"xref\": \"x\", \"y0\": 5383, \"y1\": 5743, \"yref\": \"y\"}, {\"fillcolor\": \"#d1edb3\", \"layer\": \"below\", \"line\": {\"width\": 0}, \"opacity\": 1.0, \"type\": \"rect\", \"x0\": 1074, \"x1\": 1433, \"xref\": \"x\", \"y0\": 5743, \"y1\": 6102, \"yref\": \"y\"}, {\"fillcolor\": \"#6fc7bd\", \"layer\": \"below\", \"line\": {\"width\": 0}, \"opacity\": 1.0, \"type\": \"rect\", \"x0\": 1074, \"x1\": 1433, \"xref\": \"x\", \"y0\": 6102, \"y1\": 6461, \"yref\": \"y\"}, {\"fillcolor\": \"#c9eab4\", \"layer\": \"below\", \"line\": {\"width\": 0}, \"opacity\": 1.0, \"type\": \"rect\", \"x0\": 1074, \"x1\": 1433, \"xref\": \"x\", \"y0\": 6461, \"y1\": 6820, \"yref\": \"y\"}, {\"fillcolor\": \"#6fc7bd\", \"layer\": \"below\", \"line\": {\"width\": 0}, \"opacity\": 1.0, \"type\": \"rect\", \"x0\": 1074, \"x1\": 1433, \"xref\": \"x\", \"y0\": 6820, \"y1\": 7179, \"yref\": \"y\"}, {\"fillcolor\": \"#abdeb7\", \"layer\": \"below\", \"line\": {\"width\": 0}, \"opacity\": 1.0, \"type\": \"rect\", \"x0\": 1074, \"x1\": 1433, \"xref\": \"x\", \"y0\": 7179, \"y1\": 7538, \"yref\": \"y\"}, {\"fillcolor\": \"#abdeb7\", \"layer\": \"below\", \"line\": {\"width\": 0}, \"opacity\": 1.0, \"type\": \"rect\", \"x0\": 1074, \"x1\": 1433, \"xref\": \"x\", \"y0\": 7538, \"y1\": 7897, \"yref\": \"y\"}, {\"fillcolor\": \"#daf0b3\", \"layer\": \"below\", \"line\": {\"width\": 0}, \"opacity\": 1.0, \"type\": \"rect\", \"x0\": 1074, \"x1\": 1433, \"xref\": \"x\", \"y0\": 7897, \"y1\": 8256, \"yref\": \"y\"}, {\"fillcolor\": \"#61c2bf\", \"layer\": \"below\", \"line\": {\"width\": 0}, \"opacity\": 1.0, \"type\": \"rect\", \"x0\": 1074, \"x1\": 1433, \"xref\": \"x\", \"y0\": 8256, \"y1\": 8614, \"yref\": \"y\"}, {\"fillcolor\": \"#8cd2ba\", \"layer\": \"below\", \"line\": {\"width\": 0}, \"opacity\": 1.0, \"type\": \"rect\", \"x0\": 1074, \"x1\": 1433, \"xref\": \"x\", \"y0\": 8614, \"y1\": 8973, \"yref\": \"y\"}, {\"fillcolor\": \"#abdeb7\", \"layer\": \"below\", \"line\": {\"width\": 0}, \"opacity\": 1.0, \"type\": \"rect\", \"x0\": 1074, \"x1\": 1433, \"xref\": \"x\", \"y0\": 8973, \"y1\": 9332, \"yref\": \"y\"}, {\"fillcolor\": \"#61c2bf\", \"layer\": \"below\", \"line\": {\"width\": 0}, \"opacity\": 1.0, \"type\": \"rect\", \"x0\": 1074, \"x1\": 1433, \"xref\": \"x\", \"y0\": 9332, \"y1\": 9691, \"yref\": \"y\"}, {\"fillcolor\": \"#3db2c4\", \"layer\": \"below\", \"line\": {\"width\": 0}, \"opacity\": 1.0, \"type\": \"rect\", \"x0\": 1074, \"x1\": 1433, \"xref\": \"x\", \"y0\": 9691, \"y1\": 10051, \"yref\": \"y\"}, {\"fillcolor\": \"#48b9c3\", \"layer\": \"below\", \"line\": {\"width\": 0}, \"opacity\": 1.0, \"type\": \"rect\", \"x0\": 1074, \"x1\": 1433, \"xref\": \"x\", \"y0\": 10051, \"y1\": 10410, \"yref\": \"y\"}, {\"fillcolor\": \"#abdeb7\", \"layer\": \"below\", \"line\": {\"width\": 0}, \"opacity\": 1.0, \"type\": \"rect\", \"x0\": 1074, \"x1\": 1433, \"xref\": \"x\", \"y0\": 10410, \"y1\": 10770, \"yref\": \"y\"}, {\"fillcolor\": \"#3cb1c3\", \"layer\": \"below\", \"line\": {\"width\": 0}, \"opacity\": 1.0, \"type\": \"rect\", \"x0\": 1074, \"x1\": 1433, \"xref\": \"x\", \"y0\": 10770, \"y1\": 11129, \"yref\": \"y\"}, {\"fillcolor\": \"#fcfed1\", \"layer\": \"below\", \"line\": {\"width\": 0}, \"opacity\": 1.0, \"type\": \"rect\", \"x0\": 1074, \"x1\": 1433, \"xref\": \"x\", \"y0\": 11129, \"y1\": 11488, \"yref\": \"y\"}, {\"fillcolor\": \"#1f7bb6\", \"layer\": \"below\", \"line\": {\"width\": 0}, \"opacity\": 1.0, \"type\": \"rect\", \"x0\": 1074, \"x1\": 1433, \"xref\": \"x\", \"y0\": 11488, \"y1\": 11846, \"yref\": \"y\"}, {\"fillcolor\": \"#34a9c3\", \"layer\": \"below\", \"line\": {\"width\": 0}, \"opacity\": 1.0, \"type\": \"rect\", \"x0\": 1074, \"x1\": 1433, \"xref\": \"x\", \"y0\": 11846, \"y1\": 12205, \"yref\": \"y\"}, {\"fillcolor\": \"#1d91c0\", \"layer\": \"below\", \"line\": {\"width\": 0}, \"opacity\": 1.0, \"type\": \"rect\", \"x0\": 1074, \"x1\": 1433, \"xref\": \"x\", \"y0\": 12205, \"y1\": 12563, \"yref\": \"y\"}, {\"fillcolor\": \"#2165ab\", \"layer\": \"below\", \"line\": {\"width\": 0}, \"opacity\": 1.0, \"type\": \"rect\", \"x0\": 1074, \"x1\": 1433, \"xref\": \"x\", \"y0\": 12563, \"y1\": 12921, \"yref\": \"y\"}, {\"fillcolor\": \"#2166ac\", \"layer\": \"below\", \"line\": {\"width\": 0}, \"opacity\": 1.0, \"type\": \"rect\", \"x0\": 1433, \"x1\": 1792, \"xref\": \"x\", \"y0\": 1792, \"y1\": 2152, \"yref\": \"y\"}, {\"fillcolor\": \"#1f93c0\", \"layer\": \"below\", \"line\": {\"width\": 0}, \"opacity\": 1.0, \"type\": \"rect\", \"x0\": 1433, \"x1\": 1792, \"xref\": \"x\", \"y0\": 2152, \"y1\": 2512, \"yref\": \"y\"}, {\"fillcolor\": \"#1f7bb6\", \"layer\": \"below\", \"line\": {\"width\": 0}, \"opacity\": 1.0, \"type\": \"rect\", \"x0\": 1433, \"x1\": 1792, \"xref\": \"x\", \"y0\": 2512, \"y1\": 2871, \"yref\": \"y\"}, {\"fillcolor\": \"#f0f9b7\", \"layer\": \"below\", \"line\": {\"width\": 0}, \"opacity\": 1.0, \"type\": \"rect\", \"x0\": 1433, \"x1\": 1792, \"xref\": \"x\", \"y0\": 2871, \"y1\": 3231, \"yref\": \"y\"}, {\"fillcolor\": \"#2070b0\", \"layer\": \"below\", \"line\": {\"width\": 0}, \"opacity\": 1.0, \"type\": \"rect\", \"x0\": 1433, \"x1\": 1792, \"xref\": \"x\", \"y0\": 3231, \"y1\": 3590, \"yref\": \"y\"}, {\"fillcolor\": \"#1d91c0\", \"layer\": \"below\", \"line\": {\"width\": 0}, \"opacity\": 1.0, \"type\": \"rect\", \"x0\": 1433, \"x1\": 1792, \"xref\": \"x\", \"y0\": 3590, \"y1\": 3949, \"yref\": \"y\"}, {\"fillcolor\": \"#2351a2\", \"layer\": \"below\", \"line\": {\"width\": 0}, \"opacity\": 1.0, \"type\": \"rect\", \"x0\": 1433, \"x1\": 1792, \"xref\": \"x\", \"y0\": 3949, \"y1\": 4305, \"yref\": \"y\"}, {\"fillcolor\": \"#2070b0\", \"layer\": \"below\", \"line\": {\"width\": 0}, \"opacity\": 1.0, \"type\": \"rect\", \"x0\": 1433, \"x1\": 1792, \"xref\": \"x\", \"y0\": 4305, \"y1\": 4664, \"yref\": \"y\"}, {\"fillcolor\": \"#1d91c0\", \"layer\": \"below\", \"line\": {\"width\": 0}, \"opacity\": 1.0, \"type\": \"rect\", \"x0\": 1433, \"x1\": 1792, \"xref\": \"x\", \"y0\": 4664, \"y1\": 5024, \"yref\": \"y\"}, {\"fillcolor\": \"#2070b0\", \"layer\": \"below\", \"line\": {\"width\": 0}, \"opacity\": 1.0, \"type\": \"rect\", \"x0\": 1433, \"x1\": 1792, \"xref\": \"x\", \"y0\": 5024, \"y1\": 5383, \"yref\": \"y\"}, {\"fillcolor\": \"#1e86bb\", \"layer\": \"below\", \"line\": {\"width\": 0}, \"opacity\": 1.0, \"type\": \"rect\", \"x0\": 1433, \"x1\": 1792, \"xref\": \"x\", \"y0\": 5383, \"y1\": 5743, \"yref\": \"y\"}, {\"fillcolor\": \"#225aa6\", \"layer\": \"below\", \"line\": {\"width\": 0}, \"opacity\": 1.0, \"type\": \"rect\", \"x0\": 1433, \"x1\": 1792, \"xref\": \"x\", \"y0\": 5743, \"y1\": 6102, \"yref\": \"y\"}, {\"fillcolor\": \"#1d91c0\", \"layer\": \"below\", \"line\": {\"width\": 0}, \"opacity\": 1.0, \"type\": \"rect\", \"x0\": 1433, \"x1\": 1792, \"xref\": \"x\", \"y0\": 6102, \"y1\": 6461, \"yref\": \"y\"}, {\"fillcolor\": \"#2166ac\", \"layer\": \"below\", \"line\": {\"width\": 0}, \"opacity\": 1.0, \"type\": \"rect\", \"x0\": 1433, \"x1\": 1792, \"xref\": \"x\", \"y0\": 6461, \"y1\": 6820, \"yref\": \"y\"}, {\"fillcolor\": \"#1d91c0\", \"layer\": \"below\", \"line\": {\"width\": 0}, \"opacity\": 1.0, \"type\": \"rect\", \"x0\": 1433, \"x1\": 1792, \"xref\": \"x\", \"y0\": 6820, \"y1\": 7179, \"yref\": \"y\"}, {\"fillcolor\": \"#2165ab\", \"layer\": \"below\", \"line\": {\"width\": 0}, \"opacity\": 1.0, \"type\": \"rect\", \"x0\": 1433, \"x1\": 1792, \"xref\": \"x\", \"y0\": 7179, \"y1\": 7538, \"yref\": \"y\"}, {\"fillcolor\": \"#2166ac\", \"layer\": \"below\", \"line\": {\"width\": 0}, \"opacity\": 1.0, \"type\": \"rect\", \"x0\": 1433, \"x1\": 1792, \"xref\": \"x\", \"y0\": 7538, \"y1\": 7897, \"yref\": \"y\"}, {\"fillcolor\": \"#1d91c0\", \"layer\": \"below\", \"line\": {\"width\": 0}, \"opacity\": 1.0, \"type\": \"rect\", \"x0\": 1433, \"x1\": 1792, \"xref\": \"x\", \"y0\": 7897, \"y1\": 8256, \"yref\": \"y\"}, {\"fillcolor\": \"#1d91c0\", \"layer\": \"below\", \"line\": {\"width\": 0}, \"opacity\": 1.0, \"type\": \"rect\", \"x0\": 1433, \"x1\": 1792, \"xref\": \"x\", \"y0\": 8256, \"y1\": 8614, \"yref\": \"y\"}, {\"fillcolor\": \"#2351a2\", \"layer\": \"below\", \"line\": {\"width\": 0}, \"opacity\": 1.0, \"type\": \"rect\", \"x0\": 1433, \"x1\": 1792, \"xref\": \"x\", \"y0\": 8614, \"y1\": 8973, \"yref\": \"y\"}, {\"fillcolor\": \"#2166ac\", \"layer\": \"below\", \"line\": {\"width\": 0}, \"opacity\": 1.0, \"type\": \"rect\", \"x0\": 1433, \"x1\": 1792, \"xref\": \"x\", \"y0\": 8973, \"y1\": 9332, \"yref\": \"y\"}, {\"fillcolor\": \"#2072b1\", \"layer\": \"below\", \"line\": {\"width\": 0}, \"opacity\": 1.0, \"type\": \"rect\", \"x0\": 1433, \"x1\": 1792, \"xref\": \"x\", \"y0\": 9332, \"y1\": 9691, \"yref\": \"y\"}, {\"fillcolor\": \"#1f7db6\", \"layer\": \"below\", \"line\": {\"width\": 0}, \"opacity\": 1.0, \"type\": \"rect\", \"x0\": 1433, \"x1\": 1792, \"xref\": \"x\", \"y0\": 9691, \"y1\": 10051, \"yref\": \"y\"}, {\"fillcolor\": \"#61c2bf\", \"layer\": \"below\", \"line\": {\"width\": 0}, \"opacity\": 1.0, \"type\": \"rect\", \"x0\": 1433, \"x1\": 1792, \"xref\": \"x\", \"y0\": 10051, \"y1\": 10410, \"yref\": \"y\"}, {\"fillcolor\": \"#2166ac\", \"layer\": \"below\", \"line\": {\"width\": 0}, \"opacity\": 1.0, \"type\": \"rect\", \"x0\": 1433, \"x1\": 1792, \"xref\": \"x\", \"y0\": 10410, \"y1\": 10770, \"yref\": \"y\"}, {\"fillcolor\": \"#1f7db6\", \"layer\": \"below\", \"line\": {\"width\": 0}, \"opacity\": 1.0, \"type\": \"rect\", \"x0\": 1433, \"x1\": 1792, \"xref\": \"x\", \"y0\": 10770, \"y1\": 11129, \"yref\": \"y\"}, {\"fillcolor\": \"#1f7bb6\", \"layer\": \"below\", \"line\": {\"width\": 0}, \"opacity\": 1.0, \"type\": \"rect\", \"x0\": 1433, \"x1\": 1792, \"xref\": \"x\", \"y0\": 11129, \"y1\": 11488, \"yref\": \"y\"}, {\"fillcolor\": \"#2352a3\", \"layer\": \"below\", \"line\": {\"width\": 0}, \"opacity\": 1.0, \"type\": \"rect\", \"x0\": 1433, \"x1\": 1792, \"xref\": \"x\", \"y0\": 11488, \"y1\": 11846, \"yref\": \"y\"}, {\"fillcolor\": \"#2072b1\", \"layer\": \"below\", \"line\": {\"width\": 0}, \"opacity\": 1.0, \"type\": \"rect\", \"x0\": 1433, \"x1\": 1792, \"xref\": \"x\", \"y0\": 11846, \"y1\": 12205, \"yref\": \"y\"}, {\"fillcolor\": \"#8cd2ba\", \"layer\": \"below\", \"line\": {\"width\": 0}, \"opacity\": 1.0, \"type\": \"rect\", \"x0\": 1433, \"x1\": 1792, \"xref\": \"x\", \"y0\": 12205, \"y1\": 12563, \"yref\": \"y\"}, {\"fillcolor\": \"#081d58\", \"layer\": \"below\", \"line\": {\"width\": 0}, \"opacity\": 1.0, \"type\": \"rect\", \"x0\": 1433, \"x1\": 1792, \"xref\": \"x\", \"y0\": 12563, \"y1\": 12921, \"yref\": \"y\"}, {\"fillcolor\": \"#24419a\", \"layer\": \"below\", \"line\": {\"width\": 0}, \"opacity\": 1.0, \"type\": \"rect\", \"x0\": 1792, \"x1\": 2152, \"xref\": \"x\", \"y0\": 2152, \"y1\": 2512, \"yref\": \"y\"}, {\"fillcolor\": \"#bbe4b5\", \"layer\": \"below\", \"line\": {\"width\": 0}, \"opacity\": 1.0, \"type\": \"rect\", \"x0\": 1792, \"x1\": 2152, \"xref\": \"x\", \"y0\": 2512, \"y1\": 2871, \"yref\": \"y\"}, {\"fillcolor\": \"#234b9f\", \"layer\": \"below\", \"line\": {\"width\": 0}, \"opacity\": 1.0, \"type\": \"rect\", \"x0\": 1792, \"x1\": 2152, \"xref\": \"x\", \"y0\": 2871, \"y1\": 3231, \"yref\": \"y\"}, {\"fillcolor\": \"#8cd2ba\", \"layer\": \"below\", \"line\": {\"width\": 0}, \"opacity\": 1.0, \"type\": \"rect\", \"x0\": 1792, \"x1\": 2152, \"xref\": \"x\", \"y0\": 3231, \"y1\": 3590, \"yref\": \"y\"}, {\"fillcolor\": \"#259ac1\", \"layer\": \"below\", \"line\": {\"width\": 0}, \"opacity\": 1.0, \"type\": \"rect\", \"x0\": 1792, \"x1\": 2152, \"xref\": \"x\", \"y0\": 3590, \"y1\": 3949, \"yref\": \"y\"}, {\"fillcolor\": \"#2072b1\", \"layer\": \"below\", \"line\": {\"width\": 0}, \"opacity\": 1.0, \"type\": \"rect\", \"x0\": 1792, \"x1\": 2152, \"xref\": \"x\", \"y0\": 3949, \"y1\": 4305, \"yref\": \"y\"}, {\"fillcolor\": \"#8cd2ba\", \"layer\": \"below\", \"line\": {\"width\": 0}, \"opacity\": 1.0, \"type\": \"rect\", \"x0\": 1792, \"x1\": 2152, \"xref\": \"x\", \"y0\": 4305, \"y1\": 4664, \"yref\": \"y\"}, {\"fillcolor\": \"#1e86bb\", \"layer\": \"below\", \"line\": {\"width\": 0}, \"opacity\": 1.0, \"type\": \"rect\", \"x0\": 1792, \"x1\": 2152, \"xref\": \"x\", \"y0\": 4664, \"y1\": 5024, \"yref\": \"y\"}, {\"fillcolor\": \"#8cd2ba\", \"layer\": \"below\", \"line\": {\"width\": 0}, \"opacity\": 1.0, \"type\": \"rect\", \"x0\": 1792, \"x1\": 2152, \"xref\": \"x\", \"y0\": 5024, \"y1\": 5383, \"yref\": \"y\"}, {\"fillcolor\": \"#1f7db6\", \"layer\": \"below\", \"line\": {\"width\": 0}, \"opacity\": 1.0, \"type\": \"rect\", \"x0\": 1792, \"x1\": 2152, \"xref\": \"x\", \"y0\": 5383, \"y1\": 5743, \"yref\": \"y\"}, {\"fillcolor\": \"#6fc7bd\", \"layer\": \"below\", \"line\": {\"width\": 0}, \"opacity\": 1.0, \"type\": \"rect\", \"x0\": 1792, \"x1\": 2152, \"xref\": \"x\", \"y0\": 5743, \"y1\": 6102, \"yref\": \"y\"}, {\"fillcolor\": \"#35aac3\", \"layer\": \"below\", \"line\": {\"width\": 0}, \"opacity\": 1.0, \"type\": \"rect\", \"x0\": 1792, \"x1\": 2152, \"xref\": \"x\", \"y0\": 6102, \"y1\": 6461, \"yref\": \"y\"}, {\"fillcolor\": \"#7cccbb\", \"layer\": \"below\", \"line\": {\"width\": 0}, \"opacity\": 1.0, \"type\": \"rect\", \"x0\": 1792, \"x1\": 2152, \"xref\": \"x\", \"y0\": 6461, \"y1\": 6820, \"yref\": \"y\"}, {\"fillcolor\": \"#1e86bb\", \"layer\": \"below\", \"line\": {\"width\": 0}, \"opacity\": 1.0, \"type\": \"rect\", \"x0\": 1792, \"x1\": 2152, \"xref\": \"x\", \"y0\": 6820, \"y1\": 7179, \"yref\": \"y\"}, {\"fillcolor\": \"#36abc3\", \"layer\": \"below\", \"line\": {\"width\": 0}, \"opacity\": 1.0, \"type\": \"rect\", \"x0\": 1792, \"x1\": 2152, \"xref\": \"x\", \"y0\": 7179, \"y1\": 7538, \"yref\": \"y\"}, {\"fillcolor\": \"#8cd2ba\", \"layer\": \"below\", \"line\": {\"width\": 0}, \"opacity\": 1.0, \"type\": \"rect\", \"x0\": 1792, \"x1\": 2152, \"xref\": \"x\", \"y0\": 7538, \"y1\": 7897, \"yref\": \"y\"}, {\"fillcolor\": \"#7cccbb\", \"layer\": \"below\", \"line\": {\"width\": 0}, \"opacity\": 1.0, \"type\": \"rect\", \"x0\": 1792, \"x1\": 2152, \"xref\": \"x\", \"y0\": 7897, \"y1\": 8256, \"yref\": \"y\"}, {\"fillcolor\": \"#1e86bb\", \"layer\": \"below\", \"line\": {\"width\": 0}, \"opacity\": 1.0, \"type\": \"rect\", \"x0\": 1792, \"x1\": 2152, \"xref\": \"x\", \"y0\": 8256, \"y1\": 8614, \"yref\": \"y\"}, {\"fillcolor\": \"#269bc1\", \"layer\": \"below\", \"line\": {\"width\": 0}, \"opacity\": 1.0, \"type\": \"rect\", \"x0\": 1792, \"x1\": 2152, \"xref\": \"x\", \"y0\": 8614, \"y1\": 8973, \"yref\": \"y\"}, {\"fillcolor\": \"#8cd2ba\", \"layer\": \"below\", \"line\": {\"width\": 0}, \"opacity\": 1.0, \"type\": \"rect\", \"x0\": 1792, \"x1\": 2152, \"xref\": \"x\", \"y0\": 8973, \"y1\": 9332, \"yref\": \"y\"}, {\"fillcolor\": \"#3db2c4\", \"layer\": \"below\", \"line\": {\"width\": 0}, \"opacity\": 1.0, \"type\": \"rect\", \"x0\": 1792, \"x1\": 2152, \"xref\": \"x\", \"y0\": 9332, \"y1\": 9691, \"yref\": \"y\"}, {\"fillcolor\": \"#259ac1\", \"layer\": \"below\", \"line\": {\"width\": 0}, \"opacity\": 1.0, \"type\": \"rect\", \"x0\": 1792, \"x1\": 2152, \"xref\": \"x\", \"y0\": 9691, \"y1\": 10051, \"yref\": \"y\"}, {\"fillcolor\": \"#259ac1\", \"layer\": \"below\", \"line\": {\"width\": 0}, \"opacity\": 1.0, \"type\": \"rect\", \"x0\": 1792, \"x1\": 2152, \"xref\": \"x\", \"y0\": 10051, \"y1\": 10410, \"yref\": \"y\"}, {\"fillcolor\": \"#7ecdbb\", \"layer\": \"below\", \"line\": {\"width\": 0}, \"opacity\": 1.0, \"type\": \"rect\", \"x0\": 1792, \"x1\": 2152, \"xref\": \"x\", \"y0\": 10410, \"y1\": 10770, \"yref\": \"y\"}, {\"fillcolor\": \"#1e86bb\", \"layer\": \"below\", \"line\": {\"width\": 0}, \"opacity\": 1.0, \"type\": \"rect\", \"x0\": 1792, \"x1\": 2152, \"xref\": \"x\", \"y0\": 10770, \"y1\": 11129, \"yref\": \"y\"}, {\"fillcolor\": \"#bbe4b5\", \"layer\": \"below\", \"line\": {\"width\": 0}, \"opacity\": 1.0, \"type\": \"rect\", \"x0\": 1792, \"x1\": 2152, \"xref\": \"x\", \"y0\": 11129, \"y1\": 11488, \"yref\": \"y\"}, {\"fillcolor\": \"#2166ac\", \"layer\": \"below\", \"line\": {\"width\": 0}, \"opacity\": 1.0, \"type\": \"rect\", \"x0\": 1792, \"x1\": 2152, \"xref\": \"x\", \"y0\": 11488, \"y1\": 11846, \"yref\": \"y\"}, {\"fillcolor\": \"#1f7bb6\", \"layer\": \"below\", \"line\": {\"width\": 0}, \"opacity\": 1.0, \"type\": \"rect\", \"x0\": 1792, \"x1\": 2152, \"xref\": \"x\", \"y0\": 11846, \"y1\": 12205, \"yref\": \"y\"}, {\"fillcolor\": \"#2072b1\", \"layer\": \"below\", \"line\": {\"width\": 0}, \"opacity\": 1.0, \"type\": \"rect\", \"x0\": 1792, \"x1\": 2152, \"xref\": \"x\", \"y0\": 12205, \"y1\": 12563, \"yref\": \"y\"}, {\"fillcolor\": \"#234b9f\", \"layer\": \"below\", \"line\": {\"width\": 0}, \"opacity\": 1.0, \"type\": \"rect\", \"x0\": 1792, \"x1\": 2152, \"xref\": \"x\", \"y0\": 12563, \"y1\": 12921, \"yref\": \"y\"}, {\"fillcolor\": \"#234b9f\", \"layer\": \"below\", \"line\": {\"width\": 0}, \"opacity\": 1.0, \"type\": \"rect\", \"x0\": 2152, \"x1\": 2512, \"xref\": \"x\", \"y0\": 2512, \"y1\": 2871, \"yref\": \"y\"}, {\"fillcolor\": \"#3db2c4\", \"layer\": \"below\", \"line\": {\"width\": 0}, \"opacity\": 1.0, \"type\": \"rect\", \"x0\": 2152, \"x1\": 2512, \"xref\": \"x\", \"y0\": 2871, \"y1\": 3231, \"yref\": \"y\"}, {\"fillcolor\": \"#2166ac\", \"layer\": \"below\", \"line\": {\"width\": 0}, \"opacity\": 1.0, \"type\": \"rect\", \"x0\": 2152, \"x1\": 2512, \"xref\": \"x\", \"y0\": 3231, \"y1\": 3590, \"yref\": \"y\"}, {\"fillcolor\": \"#225ca7\", \"layer\": \"below\", \"line\": {\"width\": 0}, \"opacity\": 1.0, \"type\": \"rect\", \"x0\": 2152, \"x1\": 2512, \"xref\": \"x\", \"y0\": 3590, \"y1\": 3949, \"yref\": \"y\"}, {\"fillcolor\": \"#2072b1\", \"layer\": \"below\", \"line\": {\"width\": 0}, \"opacity\": 1.0, \"type\": \"rect\", \"x0\": 2152, \"x1\": 2512, \"xref\": \"x\", \"y0\": 3949, \"y1\": 4305, \"yref\": \"y\"}, {\"fillcolor\": \"#2166ac\", \"layer\": \"below\", \"line\": {\"width\": 0}, \"opacity\": 1.0, \"type\": \"rect\", \"x0\": 2152, \"x1\": 2512, \"xref\": \"x\", \"y0\": 4305, \"y1\": 4664, \"yref\": \"y\"}, {\"fillcolor\": \"#269bc1\", \"layer\": \"below\", \"line\": {\"width\": 0}, \"opacity\": 1.0, \"type\": \"rect\", \"x0\": 2152, \"x1\": 2512, \"xref\": \"x\", \"y0\": 4664, \"y1\": 5024, \"yref\": \"y\"}, {\"fillcolor\": \"#2166ac\", \"layer\": \"below\", \"line\": {\"width\": 0}, \"opacity\": 1.0, \"type\": \"rect\", \"x0\": 2152, \"x1\": 2512, \"xref\": \"x\", \"y0\": 5024, \"y1\": 5383, \"yref\": \"y\"}, {\"fillcolor\": \"#3db2c4\", \"layer\": \"below\", \"line\": {\"width\": 0}, \"opacity\": 1.0, \"type\": \"rect\", \"x0\": 2152, \"x1\": 2512, \"xref\": \"x\", \"y0\": 5383, \"y1\": 5743, \"yref\": \"y\"}, {\"fillcolor\": \"#2352a3\", \"layer\": \"below\", \"line\": {\"width\": 0}, \"opacity\": 1.0, \"type\": \"rect\", \"x0\": 2152, \"x1\": 2512, \"xref\": \"x\", \"y0\": 5743, \"y1\": 6102, \"yref\": \"y\"}, {\"fillcolor\": \"#225ca7\", \"layer\": \"below\", \"line\": {\"width\": 0}, \"opacity\": 1.0, \"type\": \"rect\", \"x0\": 2152, \"x1\": 2512, \"xref\": \"x\", \"y0\": 6102, \"y1\": 6461, \"yref\": \"y\"}, {\"fillcolor\": \"#1e88bc\", \"layer\": \"below\", \"line\": {\"width\": 0}, \"opacity\": 1.0, \"type\": \"rect\", \"x0\": 2152, \"x1\": 2512, \"xref\": \"x\", \"y0\": 6461, \"y1\": 6820, \"yref\": \"y\"}, {\"fillcolor\": \"#234b9f\", \"layer\": \"below\", \"line\": {\"width\": 0}, \"opacity\": 1.0, \"type\": \"rect\", \"x0\": 2152, \"x1\": 2512, \"xref\": \"x\", \"y0\": 6820, \"y1\": 7179, \"yref\": \"y\"}, {\"fillcolor\": \"#225ca7\", \"layer\": \"below\", \"line\": {\"width\": 0}, \"opacity\": 1.0, \"type\": \"rect\", \"x0\": 2152, \"x1\": 2512, \"xref\": \"x\", \"y0\": 7179, \"y1\": 7538, \"yref\": \"y\"}, {\"fillcolor\": \"#225ca7\", \"layer\": \"below\", \"line\": {\"width\": 0}, \"opacity\": 1.0, \"type\": \"rect\", \"x0\": 2152, \"x1\": 2512, \"xref\": \"x\", \"y0\": 7538, \"y1\": 7897, \"yref\": \"y\"}, {\"fillcolor\": \"#1b2c80\", \"layer\": \"below\", \"line\": {\"width\": 0}, \"opacity\": 1.0, \"type\": \"rect\", \"x0\": 2152, \"x1\": 2512, \"xref\": \"x\", \"y0\": 7897, \"y1\": 8256, \"yref\": \"y\"}, {\"fillcolor\": \"#234b9f\", \"layer\": \"below\", \"line\": {\"width\": 0}, \"opacity\": 1.0, \"type\": \"rect\", \"x0\": 2152, \"x1\": 2512, \"xref\": \"x\", \"y0\": 8256, \"y1\": 8614, \"yref\": \"y\"}, {\"fillcolor\": \"#23499e\", \"layer\": \"below\", \"line\": {\"width\": 0}, \"opacity\": 1.0, \"type\": \"rect\", \"x0\": 2152, \"x1\": 2512, \"xref\": \"x\", \"y0\": 8614, \"y1\": 8973, \"yref\": \"y\"}, {\"fillcolor\": \"#225ca7\", \"layer\": \"below\", \"line\": {\"width\": 0}, \"opacity\": 1.0, \"type\": \"rect\", \"x0\": 2152, \"x1\": 2512, \"xref\": \"x\", \"y0\": 8973, \"y1\": 9332, \"yref\": \"y\"}, {\"fillcolor\": \"#2166ac\", \"layer\": \"below\", \"line\": {\"width\": 0}, \"opacity\": 1.0, \"type\": \"rect\", \"x0\": 2152, \"x1\": 2512, \"xref\": \"x\", \"y0\": 9332, \"y1\": 9691, \"yref\": \"y\"}, {\"fillcolor\": \"#2352a3\", \"layer\": \"below\", \"line\": {\"width\": 0}, \"opacity\": 1.0, \"type\": \"rect\", \"x0\": 2152, \"x1\": 2512, \"xref\": \"x\", \"y0\": 9691, \"y1\": 10051, \"yref\": \"y\"}, {\"fillcolor\": \"#8cd2ba\", \"layer\": \"below\", \"line\": {\"width\": 0}, \"opacity\": 1.0, \"type\": \"rect\", \"x0\": 2152, \"x1\": 2512, \"xref\": \"x\", \"y0\": 10051, \"y1\": 10410, \"yref\": \"y\"}, {\"fillcolor\": \"#225ca7\", \"layer\": \"below\", \"line\": {\"width\": 0}, \"opacity\": 1.0, \"type\": \"rect\", \"x0\": 2152, \"x1\": 2512, \"xref\": \"x\", \"y0\": 10410, \"y1\": 10770, \"yref\": \"y\"}, {\"fillcolor\": \"#234b9f\", \"layer\": \"below\", \"line\": {\"width\": 0}, \"opacity\": 1.0, \"type\": \"rect\", \"x0\": 2152, \"x1\": 2512, \"xref\": \"x\", \"y0\": 10770, \"y1\": 11129, \"yref\": \"y\"}, {\"fillcolor\": \"#234b9f\", \"layer\": \"below\", \"line\": {\"width\": 0}, \"opacity\": 1.0, \"type\": \"rect\", \"x0\": 2152, \"x1\": 2512, \"xref\": \"x\", \"y0\": 11129, \"y1\": 11488, \"yref\": \"y\"}, {\"fillcolor\": \"#225aa6\", \"layer\": \"below\", \"line\": {\"width\": 0}, \"opacity\": 1.0, \"type\": \"rect\", \"x0\": 2152, \"x1\": 2512, \"xref\": \"x\", \"y0\": 11488, \"y1\": 11846, \"yref\": \"y\"}, {\"fillcolor\": \"#24419a\", \"layer\": \"below\", \"line\": {\"width\": 0}, \"opacity\": 1.0, \"type\": \"rect\", \"x0\": 2152, \"x1\": 2512, \"xref\": \"x\", \"y0\": 11846, \"y1\": 12205, \"yref\": \"y\"}, {\"fillcolor\": \"#61c2bf\", \"layer\": \"below\", \"line\": {\"width\": 0}, \"opacity\": 1.0, \"type\": \"rect\", \"x0\": 2152, \"x1\": 2512, \"xref\": \"x\", \"y0\": 12205, \"y1\": 12563, \"yref\": \"y\"}, {\"fillcolor\": \"#35aac3\", \"layer\": \"below\", \"line\": {\"width\": 0}, \"opacity\": 1.0, \"type\": \"rect\", \"x0\": 2152, \"x1\": 2512, \"xref\": \"x\", \"y0\": 12563, \"y1\": 12921, \"yref\": \"y\"}, {\"fillcolor\": \"#2352a3\", \"layer\": \"below\", \"line\": {\"width\": 0}, \"opacity\": 1.0, \"type\": \"rect\", \"x0\": 2512, \"x1\": 2871, \"xref\": \"x\", \"y0\": 2871, \"y1\": 3231, \"yref\": \"y\"}, {\"fillcolor\": \"#abdeb7\", \"layer\": \"below\", \"line\": {\"width\": 0}, \"opacity\": 1.0, \"type\": \"rect\", \"x0\": 2512, \"x1\": 2871, \"xref\": \"x\", \"y0\": 3231, \"y1\": 3590, \"yref\": \"y\"}, {\"fillcolor\": \"#46b8c3\", \"layer\": \"below\", \"line\": {\"width\": 0}, \"opacity\": 1.0, \"type\": \"rect\", \"x0\": 2512, \"x1\": 2871, \"xref\": \"x\", \"y0\": 3590, \"y1\": 3949, \"yref\": \"y\"}, {\"fillcolor\": \"#1e86bb\", \"layer\": \"below\", \"line\": {\"width\": 0}, \"opacity\": 1.0, \"type\": \"rect\", \"x0\": 2512, \"x1\": 2871, \"xref\": \"x\", \"y0\": 3949, \"y1\": 4305, \"yref\": \"y\"}, {\"fillcolor\": \"#abdeb7\", \"layer\": \"below\", \"line\": {\"width\": 0}, \"opacity\": 1.0, \"type\": \"rect\", \"x0\": 2512, \"x1\": 2871, \"xref\": \"x\", \"y0\": 4305, \"y1\": 4664, \"yref\": \"y\"}, {\"fillcolor\": \"#35aac3\", \"layer\": \"below\", \"line\": {\"width\": 0}, \"opacity\": 1.0, \"type\": \"rect\", \"x0\": 2512, \"x1\": 2871, \"xref\": \"x\", \"y0\": 4664, \"y1\": 5024, \"yref\": \"y\"}, {\"fillcolor\": \"#abdeb7\", \"layer\": \"below\", \"line\": {\"width\": 0}, \"opacity\": 1.0, \"type\": \"rect\", \"x0\": 2512, \"x1\": 2871, \"xref\": \"x\", \"y0\": 5024, \"y1\": 5383, \"yref\": \"y\"}, {\"fillcolor\": \"#2da2c2\", \"layer\": \"below\", \"line\": {\"width\": 0}, \"opacity\": 1.0, \"type\": \"rect\", \"x0\": 2512, \"x1\": 2871, \"xref\": \"x\", \"y0\": 5383, \"y1\": 5743, \"yref\": \"y\"}, {\"fillcolor\": \"#c9eab4\", \"layer\": \"below\", \"line\": {\"width\": 0}, \"opacity\": 1.0, \"type\": \"rect\", \"x0\": 2512, \"x1\": 2871, \"xref\": \"x\", \"y0\": 5743, \"y1\": 6102, \"yref\": \"y\"}, {\"fillcolor\": \"#61c2bf\", \"layer\": \"below\", \"line\": {\"width\": 0}, \"opacity\": 1.0, \"type\": \"rect\", \"x0\": 2512, \"x1\": 2871, \"xref\": \"x\", \"y0\": 6102, \"y1\": 6461, \"yref\": \"y\"}, {\"fillcolor\": \"#bbe4b5\", \"layer\": \"below\", \"line\": {\"width\": 0}, \"opacity\": 1.0, \"type\": \"rect\", \"x0\": 2512, \"x1\": 2871, \"xref\": \"x\", \"y0\": 6461, \"y1\": 6820, \"yref\": \"y\"}, {\"fillcolor\": \"#61c2bf\", \"layer\": \"below\", \"line\": {\"width\": 0}, \"opacity\": 1.0, \"type\": \"rect\", \"x0\": 2512, \"x1\": 2871, \"xref\": \"x\", \"y0\": 6820, \"y1\": 7179, \"yref\": \"y\"}, {\"fillcolor\": \"#9cd8b8\", \"layer\": \"below\", \"line\": {\"width\": 0}, \"opacity\": 1.0, \"type\": \"rect\", \"x0\": 2512, \"x1\": 2871, \"xref\": \"x\", \"y0\": 7179, \"y1\": 7538, \"yref\": \"y\"}, {\"fillcolor\": \"#9cd8b8\", \"layer\": \"below\", \"line\": {\"width\": 0}, \"opacity\": 1.0, \"type\": \"rect\", \"x0\": 2512, \"x1\": 2871, \"xref\": \"x\", \"y0\": 7538, \"y1\": 7897, \"yref\": \"y\"}, {\"fillcolor\": \"#d1edb3\", \"layer\": \"below\", \"line\": {\"width\": 0}, \"opacity\": 1.0, \"type\": \"rect\", \"x0\": 2512, \"x1\": 2871, \"xref\": \"x\", \"y0\": 7897, \"y1\": 8256, \"yref\": \"y\"}, {\"fillcolor\": \"#53bdc1\", \"layer\": \"below\", \"line\": {\"width\": 0}, \"opacity\": 1.0, \"type\": \"rect\", \"x0\": 2512, \"x1\": 2871, \"xref\": \"x\", \"y0\": 8256, \"y1\": 8614, \"yref\": \"y\"}, {\"fillcolor\": \"#7cccbb\", \"layer\": \"below\", \"line\": {\"width\": 0}, \"opacity\": 1.0, \"type\": \"rect\", \"x0\": 2512, \"x1\": 2871, \"xref\": \"x\", \"y0\": 8614, \"y1\": 8973, \"yref\": \"y\"}, {\"fillcolor\": \"#9cd8b8\", \"layer\": \"below\", \"line\": {\"width\": 0}, \"opacity\": 1.0, \"type\": \"rect\", \"x0\": 2512, \"x1\": 2871, \"xref\": \"x\", \"y0\": 8973, \"y1\": 9332, \"yref\": \"y\"}, {\"fillcolor\": \"#53bdc1\", \"layer\": \"below\", \"line\": {\"width\": 0}, \"opacity\": 1.0, \"type\": \"rect\", \"x0\": 2512, \"x1\": 2871, \"xref\": \"x\", \"y0\": 9332, \"y1\": 9691, \"yref\": \"y\"}, {\"fillcolor\": \"#35aac3\", \"layer\": \"below\", \"line\": {\"width\": 0}, \"opacity\": 1.0, \"type\": \"rect\", \"x0\": 2512, \"x1\": 2871, \"xref\": \"x\", \"y0\": 9691, \"y1\": 10051, \"yref\": \"y\"}, {\"fillcolor\": \"#3db2c4\", \"layer\": \"below\", \"line\": {\"width\": 0}, \"opacity\": 1.0, \"type\": \"rect\", \"x0\": 2512, \"x1\": 2871, \"xref\": \"x\", \"y0\": 10051, \"y1\": 10410, \"yref\": \"y\"}, {\"fillcolor\": \"#9cd8b8\", \"layer\": \"below\", \"line\": {\"width\": 0}, \"opacity\": 1.0, \"type\": \"rect\", \"x0\": 2512, \"x1\": 2871, \"xref\": \"x\", \"y0\": 10410, \"y1\": 10770, \"yref\": \"y\"}, {\"fillcolor\": \"#34a9c3\", \"layer\": \"below\", \"line\": {\"width\": 0}, \"opacity\": 1.0, \"type\": \"rect\", \"x0\": 2512, \"x1\": 2871, \"xref\": \"x\", \"y0\": 10770, \"y1\": 11129, \"yref\": \"y\"}, {\"fillcolor\": \"#f8fcc9\", \"layer\": \"below\", \"line\": {\"width\": 0}, \"opacity\": 1.0, \"type\": \"rect\", \"x0\": 2512, \"x1\": 2871, \"xref\": \"x\", \"y0\": 11129, \"y1\": 11488, \"yref\": \"y\"}, {\"fillcolor\": \"#2070b0\", \"layer\": \"below\", \"line\": {\"width\": 0}, \"opacity\": 1.0, \"type\": \"rect\", \"x0\": 2512, \"x1\": 2871, \"xref\": \"x\", \"y0\": 11488, \"y1\": 11846, \"yref\": \"y\"}, {\"fillcolor\": \"#2ca1c2\", \"layer\": \"below\", \"line\": {\"width\": 0}, \"opacity\": 1.0, \"type\": \"rect\", \"x0\": 2512, \"x1\": 2871, \"xref\": \"x\", \"y0\": 11846, \"y1\": 12205, \"yref\": \"y\"}, {\"fillcolor\": \"#1e86bb\", \"layer\": \"below\", \"line\": {\"width\": 0}, \"opacity\": 1.0, \"type\": \"rect\", \"x0\": 2512, \"x1\": 2871, \"xref\": \"x\", \"y0\": 12205, \"y1\": 12563, \"yref\": \"y\"}, {\"fillcolor\": \"#225aa6\", \"layer\": \"below\", \"line\": {\"width\": 0}, \"opacity\": 1.0, \"type\": \"rect\", \"x0\": 2512, \"x1\": 2871, \"xref\": \"x\", \"y0\": 12563, \"y1\": 12921, \"yref\": \"y\"}, {\"fillcolor\": \"#2072b1\", \"layer\": \"below\", \"line\": {\"width\": 0}, \"opacity\": 1.0, \"type\": \"rect\", \"x0\": 2871, \"x1\": 3231, \"xref\": \"x\", \"y0\": 3231, \"y1\": 3590, \"yref\": \"y\"}, {\"fillcolor\": \"#2168ad\", \"layer\": \"below\", \"line\": {\"width\": 0}, \"opacity\": 1.0, \"type\": \"rect\", \"x0\": 2871, \"x1\": 3231, \"xref\": \"x\", \"y0\": 3590, \"y1\": 3949, \"yref\": \"y\"}, {\"fillcolor\": \"#2352a3\", \"layer\": \"below\", \"line\": {\"width\": 0}, \"opacity\": 1.0, \"type\": \"rect\", \"x0\": 2871, \"x1\": 3231, \"xref\": \"x\", \"y0\": 3949, \"y1\": 4305, \"yref\": \"y\"}, {\"fillcolor\": \"#2072b1\", \"layer\": \"below\", \"line\": {\"width\": 0}, \"opacity\": 1.0, \"type\": \"rect\", \"x0\": 2871, \"x1\": 3231, \"xref\": \"x\", \"y0\": 4305, \"y1\": 4664, \"yref\": \"y\"}, {\"fillcolor\": \"#2168ad\", \"layer\": \"below\", \"line\": {\"width\": 0}, \"opacity\": 1.0, \"type\": \"rect\", \"x0\": 2871, \"x1\": 3231, \"xref\": \"x\", \"y0\": 4664, \"y1\": 5024, \"yref\": \"y\"}, {\"fillcolor\": \"#2072b1\", \"layer\": \"below\", \"line\": {\"width\": 0}, \"opacity\": 1.0, \"type\": \"rect\", \"x0\": 2871, \"x1\": 3231, \"xref\": \"x\", \"y0\": 5024, \"y1\": 5383, \"yref\": \"y\"}, {\"fillcolor\": \"#225da8\", \"layer\": \"below\", \"line\": {\"width\": 0}, \"opacity\": 1.0, \"type\": \"rect\", \"x0\": 2871, \"x1\": 3231, \"xref\": \"x\", \"y0\": 5383, \"y1\": 5743, \"yref\": \"y\"}, {\"fillcolor\": \"#225ca7\", \"layer\": \"below\", \"line\": {\"width\": 0}, \"opacity\": 1.0, \"type\": \"rect\", \"x0\": 2871, \"x1\": 3231, \"xref\": \"x\", \"y0\": 5743, \"y1\": 6102, \"yref\": \"y\"}, {\"fillcolor\": \"#2168ad\", \"layer\": \"below\", \"line\": {\"width\": 0}, \"opacity\": 1.0, \"type\": \"rect\", \"x0\": 2871, \"x1\": 3231, \"xref\": \"x\", \"y0\": 6102, \"y1\": 6461, \"yref\": \"y\"}, {\"fillcolor\": \"#24439b\", \"layer\": \"below\", \"line\": {\"width\": 0}, \"opacity\": 1.0, \"type\": \"rect\", \"x0\": 2871, \"x1\": 3231, \"xref\": \"x\", \"y0\": 6461, \"y1\": 6820, \"yref\": \"y\"}, {\"fillcolor\": \"#2168ad\", \"layer\": \"below\", \"line\": {\"width\": 0}, \"opacity\": 1.0, \"type\": \"rect\", \"x0\": 2871, \"x1\": 3231, \"xref\": \"x\", \"y0\": 6820, \"y1\": 7179, \"yref\": \"y\"}, {\"fillcolor\": \"#2165ab\", \"layer\": \"below\", \"line\": {\"width\": 0}, \"opacity\": 1.0, \"type\": \"rect\", \"x0\": 2871, \"x1\": 3231, \"xref\": \"x\", \"y0\": 7179, \"y1\": 7538, \"yref\": \"y\"}, {\"fillcolor\": \"#2166ac\", \"layer\": \"below\", \"line\": {\"width\": 0}, \"opacity\": 1.0, \"type\": \"rect\", \"x0\": 2871, \"x1\": 3231, \"xref\": \"x\", \"y0\": 7538, \"y1\": 7897, \"yref\": \"y\"}, {\"fillcolor\": \"#2166ac\", \"layer\": \"below\", \"line\": {\"width\": 0}, \"opacity\": 1.0, \"type\": \"rect\", \"x0\": 2871, \"x1\": 3231, \"xref\": \"x\", \"y0\": 7897, \"y1\": 8256, \"yref\": \"y\"}, {\"fillcolor\": \"#2168ad\", \"layer\": \"below\", \"line\": {\"width\": 0}, \"opacity\": 1.0, \"type\": \"rect\", \"x0\": 2871, \"x1\": 3231, \"xref\": \"x\", \"y0\": 8256, \"y1\": 8614, \"yref\": \"y\"}, {\"fillcolor\": \"#2351a2\", \"layer\": \"below\", \"line\": {\"width\": 0}, \"opacity\": 1.0, \"type\": \"rect\", \"x0\": 2871, \"x1\": 3231, \"xref\": \"x\", \"y0\": 8614, \"y1\": 8973, \"yref\": \"y\"}, {\"fillcolor\": \"#2166ac\", \"layer\": \"below\", \"line\": {\"width\": 0}, \"opacity\": 1.0, \"type\": \"rect\", \"x0\": 2871, \"x1\": 3231, \"xref\": \"x\", \"y0\": 8973, \"y1\": 9332, \"yref\": \"y\"}, {\"fillcolor\": \"#2073b2\", \"layer\": \"below\", \"line\": {\"width\": 0}, \"opacity\": 1.0, \"type\": \"rect\", \"x0\": 2871, \"x1\": 3231, \"xref\": \"x\", \"y0\": 9332, \"y1\": 9691, \"yref\": \"y\"}, {\"fillcolor\": \"#225da8\", \"layer\": \"below\", \"line\": {\"width\": 0}, \"opacity\": 1.0, \"type\": \"rect\", \"x0\": 2871, \"x1\": 3231, \"xref\": \"x\", \"y0\": 9691, \"y1\": 10051, \"yref\": \"y\"}, {\"fillcolor\": \"#9cd8b8\", \"layer\": \"below\", \"line\": {\"width\": 0}, \"opacity\": 1.0, \"type\": \"rect\", \"x0\": 2871, \"x1\": 3231, \"xref\": \"x\", \"y0\": 10051, \"y1\": 10410, \"yref\": \"y\"}, {\"fillcolor\": \"#2166ac\", \"layer\": \"below\", \"line\": {\"width\": 0}, \"opacity\": 1.0, \"type\": \"rect\", \"x0\": 2871, \"x1\": 3231, \"xref\": \"x\", \"y0\": 10410, \"y1\": 10770, \"yref\": \"y\"}, {\"fillcolor\": \"#2355a4\", \"layer\": \"below\", \"line\": {\"width\": 0}, \"opacity\": 1.0, \"type\": \"rect\", \"x0\": 2871, \"x1\": 3231, \"xref\": \"x\", \"y0\": 10770, \"y1\": 11129, \"yref\": \"y\"}, {\"fillcolor\": \"#2352a3\", \"layer\": \"below\", \"line\": {\"width\": 0}, \"opacity\": 1.0, \"type\": \"rect\", \"x0\": 2871, \"x1\": 3231, \"xref\": \"x\", \"y0\": 11129, \"y1\": 11488, \"yref\": \"y\"}, {\"fillcolor\": \"#2166ac\", \"layer\": \"below\", \"line\": {\"width\": 0}, \"opacity\": 1.0, \"type\": \"rect\", \"x0\": 2871, \"x1\": 3231, \"xref\": \"x\", \"y0\": 11488, \"y1\": 11846, \"yref\": \"y\"}, {\"fillcolor\": \"#234b9f\", \"layer\": \"below\", \"line\": {\"width\": 0}, \"opacity\": 1.0, \"type\": \"rect\", \"x0\": 2871, \"x1\": 3231, \"xref\": \"x\", \"y0\": 11846, \"y1\": 12205, \"yref\": \"y\"}, {\"fillcolor\": \"#abdeb7\", \"layer\": \"below\", \"line\": {\"width\": 0}, \"opacity\": 1.0, \"type\": \"rect\", \"x0\": 2871, \"x1\": 3231, \"xref\": \"x\", \"y0\": 12205, \"y1\": 12563, \"yref\": \"y\"}, {\"fillcolor\": \"#081d58\", \"layer\": \"below\", \"line\": {\"width\": 0}, \"opacity\": 1.0, \"type\": \"rect\", \"x0\": 2871, \"x1\": 3231, \"xref\": \"x\", \"y0\": 12563, \"y1\": 12921, \"yref\": \"y\"}, {\"fillcolor\": \"#2ca1c2\", \"layer\": \"below\", \"line\": {\"width\": 0}, \"opacity\": 1.0, \"type\": \"rect\", \"x0\": 3231, \"x1\": 3590, \"xref\": \"x\", \"y0\": 3590, \"y1\": 3949, \"yref\": \"y\"}, {\"fillcolor\": \"#8cd2ba\", \"layer\": \"below\", \"line\": {\"width\": 0}, \"opacity\": 1.0, \"type\": \"rect\", \"x0\": 3231, \"x1\": 3590, \"xref\": \"x\", \"y0\": 3949, \"y1\": 4305, \"yref\": \"y\"}, {\"fillcolor\": \"#ffffd9\", \"layer\": \"below\", \"line\": {\"width\": 0}, \"opacity\": 1.0, \"type\": \"rect\", \"x0\": 3231, \"x1\": 3590, \"xref\": \"x\", \"y0\": 4305, \"y1\": 4664, \"yref\": \"y\"}, {\"fillcolor\": \"#1d91c0\", \"layer\": \"below\", \"line\": {\"width\": 0}, \"opacity\": 1.0, \"type\": \"rect\", \"x0\": 3231, \"x1\": 3590, \"xref\": \"x\", \"y0\": 4664, \"y1\": 5024, \"yref\": \"y\"}, {\"fillcolor\": \"#ffffd9\", \"layer\": \"below\", \"line\": {\"width\": 0}, \"opacity\": 1.0, \"type\": \"rect\", \"x0\": 3231, \"x1\": 3590, \"xref\": \"x\", \"y0\": 5024, \"y1\": 5383, \"yref\": \"y\"}, {\"fillcolor\": \"#1e86bb\", \"layer\": \"below\", \"line\": {\"width\": 0}, \"opacity\": 1.0, \"type\": \"rect\", \"x0\": 3231, \"x1\": 3590, \"xref\": \"x\", \"y0\": 5383, \"y1\": 5743, \"yref\": \"y\"}, {\"fillcolor\": \"#f8fcc9\", \"layer\": \"below\", \"line\": {\"width\": 0}, \"opacity\": 1.0, \"type\": \"rect\", \"x0\": 3231, \"x1\": 3590, \"xref\": \"x\", \"y0\": 5743, \"y1\": 6102, \"yref\": \"y\"}, {\"fillcolor\": \"#3cb1c3\", \"layer\": \"below\", \"line\": {\"width\": 0}, \"opacity\": 1.0, \"type\": \"rect\", \"x0\": 3231, \"x1\": 3590, \"xref\": \"x\", \"y0\": 6102, \"y1\": 6461, \"yref\": \"y\"}, {\"fillcolor\": \"#6fc7bd\", \"layer\": \"below\", \"line\": {\"width\": 0}, \"opacity\": 1.0, \"type\": \"rect\", \"x0\": 3231, \"x1\": 3590, \"xref\": \"x\", \"y0\": 6461, \"y1\": 6820, \"yref\": \"y\"}, {\"fillcolor\": \"#1d90c0\", \"layer\": \"below\", \"line\": {\"width\": 0}, \"opacity\": 1.0, \"type\": \"rect\", \"x0\": 3231, \"x1\": 3590, \"xref\": \"x\", \"y0\": 6820, \"y1\": 7179, \"yref\": \"y\"}, {\"fillcolor\": \"#53bdc1\", \"layer\": \"below\", \"line\": {\"width\": 0}, \"opacity\": 1.0, \"type\": \"rect\", \"x0\": 3231, \"x1\": 3590, \"xref\": \"x\", \"y0\": 7179, \"y1\": 7538, \"yref\": \"y\"}, {\"fillcolor\": \"#fcfed1\", \"layer\": \"below\", \"line\": {\"width\": 0}, \"opacity\": 1.0, \"type\": \"rect\", \"x0\": 3231, \"x1\": 3590, \"xref\": \"x\", \"y0\": 7538, \"y1\": 7897, \"yref\": \"y\"}, {\"fillcolor\": \"#6fc7bd\", \"layer\": \"below\", \"line\": {\"width\": 0}, \"opacity\": 1.0, \"type\": \"rect\", \"x0\": 3231, \"x1\": 3590, \"xref\": \"x\", \"y0\": 7897, \"y1\": 8256, \"yref\": \"y\"}, {\"fillcolor\": \"#1d90c0\", \"layer\": \"below\", \"line\": {\"width\": 0}, \"opacity\": 1.0, \"type\": \"rect\", \"x0\": 3231, \"x1\": 3590, \"xref\": \"x\", \"y0\": 8256, \"y1\": 8614, \"yref\": \"y\"}, {\"fillcolor\": \"#3cb1c3\", \"layer\": \"below\", \"line\": {\"width\": 0}, \"opacity\": 1.0, \"type\": \"rect\", \"x0\": 3231, \"x1\": 3590, \"xref\": \"x\", \"y0\": 8614, \"y1\": 8973, \"yref\": \"y\"}, {\"fillcolor\": \"#fcfed1\", \"layer\": \"below\", \"line\": {\"width\": 0}, \"opacity\": 1.0, \"type\": \"rect\", \"x0\": 3231, \"x1\": 3590, \"xref\": \"x\", \"y0\": 8973, \"y1\": 9332, \"yref\": \"y\"}, {\"fillcolor\": \"#e2f4b2\", \"layer\": \"below\", \"line\": {\"width\": 0}, \"opacity\": 1.0, \"type\": \"rect\", \"x0\": 3231, \"x1\": 3590, \"xref\": \"x\", \"y0\": 9332, \"y1\": 9691, \"yref\": \"y\"}, {\"fillcolor\": \"#1d91c0\", \"layer\": \"below\", \"line\": {\"width\": 0}, \"opacity\": 1.0, \"type\": \"rect\", \"x0\": 3231, \"x1\": 3590, \"xref\": \"x\", \"y0\": 9691, \"y1\": 10051, \"yref\": \"y\"}, {\"fillcolor\": \"#48b9c3\", \"layer\": \"below\", \"line\": {\"width\": 0}, \"opacity\": 1.0, \"type\": \"rect\", \"x0\": 3231, \"x1\": 3590, \"xref\": \"x\", \"y0\": 10051, \"y1\": 10410, \"yref\": \"y\"}, {\"fillcolor\": \"#fcfed1\", \"layer\": \"below\", \"line\": {\"width\": 0}, \"opacity\": 1.0, \"type\": \"rect\", \"x0\": 3231, \"x1\": 3590, \"xref\": \"x\", \"y0\": 10410, \"y1\": 10770, \"yref\": \"y\"}, {\"fillcolor\": \"#1d90c0\", \"layer\": \"below\", \"line\": {\"width\": 0}, \"opacity\": 1.0, \"type\": \"rect\", \"x0\": 3231, \"x1\": 3590, \"xref\": \"x\", \"y0\": 10770, \"y1\": 11129, \"yref\": \"y\"}, {\"fillcolor\": \"#abdeb7\", \"layer\": \"below\", \"line\": {\"width\": 0}, \"opacity\": 1.0, \"type\": \"rect\", \"x0\": 3231, \"x1\": 3590, \"xref\": \"x\", \"y0\": 11129, \"y1\": 11488, \"yref\": \"y\"}, {\"fillcolor\": \"#6fc7bd\", \"layer\": \"below\", \"line\": {\"width\": 0}, \"opacity\": 1.0, \"type\": \"rect\", \"x0\": 3231, \"x1\": 3590, \"xref\": \"x\", \"y0\": 11488, \"y1\": 11846, \"yref\": \"y\"}, {\"fillcolor\": \"#1e86bb\", \"layer\": \"below\", \"line\": {\"width\": 0}, \"opacity\": 1.0, \"type\": \"rect\", \"x0\": 3231, \"x1\": 3590, \"xref\": \"x\", \"y0\": 11846, \"y1\": 12205, \"yref\": \"y\"}, {\"fillcolor\": \"#2da2c2\", \"layer\": \"below\", \"line\": {\"width\": 0}, \"opacity\": 1.0, \"type\": \"rect\", \"x0\": 3231, \"x1\": 3590, \"xref\": \"x\", \"y0\": 12205, \"y1\": 12563, \"yref\": \"y\"}, {\"fillcolor\": \"#55bec1\", \"layer\": \"below\", \"line\": {\"width\": 0}, \"opacity\": 1.0, \"type\": \"rect\", \"x0\": 3231, \"x1\": 3590, \"xref\": \"x\", \"y0\": 12563, \"y1\": 12921, \"yref\": \"y\"}, {\"fillcolor\": \"#24489d\", \"layer\": \"below\", \"line\": {\"width\": 0}, \"opacity\": 1.0, \"type\": \"rect\", \"x0\": 3590, \"x1\": 3949, \"xref\": \"x\", \"y0\": 3949, \"y1\": 4305, \"yref\": \"y\"}, {\"fillcolor\": \"#2ca1c2\", \"layer\": \"below\", \"line\": {\"width\": 0}, \"opacity\": 1.0, \"type\": \"rect\", \"x0\": 3590, \"x1\": 3949, \"xref\": \"x\", \"y0\": 4305, \"y1\": 4664, \"yref\": \"y\"}, {\"fillcolor\": \"#e2f4b2\", \"layer\": \"below\", \"line\": {\"width\": 0}, \"opacity\": 1.0, \"type\": \"rect\", \"x0\": 3590, \"x1\": 3949, \"xref\": \"x\", \"y0\": 4664, \"y1\": 5024, \"yref\": \"y\"}, {\"fillcolor\": \"#2ca1c2\", \"layer\": \"below\", \"line\": {\"width\": 0}, \"opacity\": 1.0, \"type\": \"rect\", \"x0\": 3590, \"x1\": 3949, \"xref\": \"x\", \"y0\": 5024, \"y1\": 5383, \"yref\": \"y\"}, {\"fillcolor\": \"#c9eab4\", \"layer\": \"below\", \"line\": {\"width\": 0}, \"opacity\": 1.0, \"type\": \"rect\", \"x0\": 3590, \"x1\": 3949, \"xref\": \"x\", \"y0\": 5383, \"y1\": 5743, \"yref\": \"y\"}, {\"fillcolor\": \"#1d90c0\", \"layer\": \"below\", \"line\": {\"width\": 0}, \"opacity\": 1.0, \"type\": \"rect\", \"x0\": 3590, \"x1\": 3949, \"xref\": \"x\", \"y0\": 5743, \"y1\": 6102, \"yref\": \"y\"}, {\"fillcolor\": \"#f0f9b7\", \"layer\": \"below\", \"line\": {\"width\": 0}, \"opacity\": 1.0, \"type\": \"rect\", \"x0\": 3590, \"x1\": 3949, \"xref\": \"x\", \"y0\": 6102, \"y1\": 6461, \"yref\": \"y\"}, {\"fillcolor\": \"#61c2bf\", \"layer\": \"below\", \"line\": {\"width\": 0}, \"opacity\": 1.0, \"type\": \"rect\", \"x0\": 3590, \"x1\": 3949, \"xref\": \"x\", \"y0\": 6461, \"y1\": 6820, \"yref\": \"y\"}, {\"fillcolor\": \"#e2f4b2\", \"layer\": \"below\", \"line\": {\"width\": 0}, \"opacity\": 1.0, \"type\": \"rect\", \"x0\": 3590, \"x1\": 3949, \"xref\": \"x\", \"y0\": 6820, \"y1\": 7179, \"yref\": \"y\"}, {\"fillcolor\": \"#61c2bf\", \"layer\": \"below\", \"line\": {\"width\": 0}, \"opacity\": 1.0, \"type\": \"rect\", \"x0\": 3590, \"x1\": 3949, \"xref\": \"x\", \"y0\": 7179, \"y1\": 7538, \"yref\": \"y\"}, {\"fillcolor\": \"#259ac1\", \"layer\": \"below\", \"line\": {\"width\": 0}, \"opacity\": 1.0, \"type\": \"rect\", \"x0\": 3590, \"x1\": 3949, \"xref\": \"x\", \"y0\": 7538, \"y1\": 7897, \"yref\": \"y\"}, {\"fillcolor\": \"#46b8c3\", \"layer\": \"below\", \"line\": {\"width\": 0}, \"opacity\": 1.0, \"type\": \"rect\", \"x0\": 3590, \"x1\": 3949, \"xref\": \"x\", \"y0\": 7897, \"y1\": 8256, \"yref\": \"y\"}, {\"fillcolor\": \"#e2f4b2\", \"layer\": \"below\", \"line\": {\"width\": 0}, \"opacity\": 1.0, \"type\": \"rect\", \"x0\": 3590, \"x1\": 3949, \"xref\": \"x\", \"y0\": 8256, \"y1\": 8614, \"yref\": \"y\"}, {\"fillcolor\": \"#46b8c3\", \"layer\": \"below\", \"line\": {\"width\": 0}, \"opacity\": 1.0, \"type\": \"rect\", \"x0\": 3590, \"x1\": 3949, \"xref\": \"x\", \"y0\": 8614, \"y1\": 8973, \"yref\": \"y\"}, {\"fillcolor\": \"#259ac1\", \"layer\": \"below\", \"line\": {\"width\": 0}, \"opacity\": 1.0, \"type\": \"rect\", \"x0\": 3590, \"x1\": 3949, \"xref\": \"x\", \"y0\": 8973, \"y1\": 9332, \"yref\": \"y\"}, {\"fillcolor\": \"#6fc7bd\", \"layer\": \"below\", \"line\": {\"width\": 0}, \"opacity\": 1.0, \"type\": \"rect\", \"x0\": 3590, \"x1\": 3949, \"xref\": \"x\", \"y0\": 9332, \"y1\": 9691, \"yref\": \"y\"}, {\"fillcolor\": \"#e2f4b2\", \"layer\": \"below\", \"line\": {\"width\": 0}, \"opacity\": 1.0, \"type\": \"rect\", \"x0\": 3590, \"x1\": 3949, \"xref\": \"x\", \"y0\": 9691, \"y1\": 10051, \"yref\": \"y\"}, {\"fillcolor\": \"#1d91c0\", \"layer\": \"below\", \"line\": {\"width\": 0}, \"opacity\": 1.0, \"type\": \"rect\", \"x0\": 3590, \"x1\": 3949, \"xref\": \"x\", \"y0\": 10051, \"y1\": 10410, \"yref\": \"y\"}, {\"fillcolor\": \"#259ac1\", \"layer\": \"below\", \"line\": {\"width\": 0}, \"opacity\": 1.0, \"type\": \"rect\", \"x0\": 3590, \"x1\": 3949, \"xref\": \"x\", \"y0\": 10410, \"y1\": 10770, \"yref\": \"y\"}, {\"fillcolor\": \"#e2f4b2\", \"layer\": \"below\", \"line\": {\"width\": 0}, \"opacity\": 1.0, \"type\": \"rect\", \"x0\": 3590, \"x1\": 3949, \"xref\": \"x\", \"y0\": 10770, \"y1\": 11129, \"yref\": \"y\"}, {\"fillcolor\": \"#46b8c3\", \"layer\": \"below\", \"line\": {\"width\": 0}, \"opacity\": 1.0, \"type\": \"rect\", \"x0\": 3590, \"x1\": 3949, \"xref\": \"x\", \"y0\": 11129, \"y1\": 11488, \"yref\": \"y\"}, {\"fillcolor\": \"#35aac3\", \"layer\": \"below\", \"line\": {\"width\": 0}, \"opacity\": 1.0, \"type\": \"rect\", \"x0\": 3590, \"x1\": 3949, \"xref\": \"x\", \"y0\": 11488, \"y1\": 11846, \"yref\": \"y\"}, {\"fillcolor\": \"#c9eab4\", \"layer\": \"below\", \"line\": {\"width\": 0}, \"opacity\": 1.0, \"type\": \"rect\", \"x0\": 3590, \"x1\": 3949, \"xref\": \"x\", \"y0\": 11846, \"y1\": 12205, \"yref\": \"y\"}, {\"fillcolor\": \"#2165ab\", \"layer\": \"below\", \"line\": {\"width\": 0}, \"opacity\": 1.0, \"type\": \"rect\", \"x0\": 3590, \"x1\": 3949, \"xref\": \"x\", \"y0\": 12205, \"y1\": 12563, \"yref\": \"y\"}, {\"fillcolor\": \"#225aa6\", \"layer\": \"below\", \"line\": {\"width\": 0}, \"opacity\": 1.0, \"type\": \"rect\", \"x0\": 3590, \"x1\": 3949, \"xref\": \"x\", \"y0\": 12563, \"y1\": 12921, \"yref\": \"y\"}, {\"fillcolor\": \"#8cd2ba\", \"layer\": \"below\", \"line\": {\"width\": 0}, \"opacity\": 1.0, \"type\": \"rect\", \"x0\": 3949, \"x1\": 4305, \"xref\": \"x\", \"y0\": 4305, \"y1\": 4664, \"yref\": \"y\"}, {\"fillcolor\": \"#253795\", \"layer\": \"below\", \"line\": {\"width\": 0}, \"opacity\": 1.0, \"type\": \"rect\", \"x0\": 3949, \"x1\": 4305, \"xref\": \"x\", \"y0\": 4664, \"y1\": 5024, \"yref\": \"y\"}, {\"fillcolor\": \"#8cd2ba\", \"layer\": \"below\", \"line\": {\"width\": 0}, \"opacity\": 1.0, \"type\": \"rect\", \"x0\": 3949, \"x1\": 4305, \"xref\": \"x\", \"y0\": 5024, \"y1\": 5383, \"yref\": \"y\"}, {\"fillcolor\": \"#2352a3\", \"layer\": \"below\", \"line\": {\"width\": 0}, \"opacity\": 1.0, \"type\": \"rect\", \"x0\": 3949, \"x1\": 4305, \"xref\": \"x\", \"y0\": 5383, \"y1\": 5743, \"yref\": \"y\"}, {\"fillcolor\": \"#6fc7bd\", \"layer\": \"below\", \"line\": {\"width\": 0}, \"opacity\": 1.0, \"type\": \"rect\", \"x0\": 3949, \"x1\": 4305, \"xref\": \"x\", \"y0\": 5743, \"y1\": 6102, \"yref\": \"y\"}, {\"fillcolor\": \"#225aa6\", \"layer\": \"below\", \"line\": {\"width\": 0}, \"opacity\": 1.0, \"type\": \"rect\", \"x0\": 3949, \"x1\": 4305, \"xref\": \"x\", \"y0\": 6102, \"y1\": 6461, \"yref\": \"y\"}, {\"fillcolor\": \"#2070b0\", \"layer\": \"below\", \"line\": {\"width\": 0}, \"opacity\": 1.0, \"type\": \"rect\", \"x0\": 3949, \"x1\": 4305, \"xref\": \"x\", \"y0\": 6461, \"y1\": 6820, \"yref\": \"y\"}, {\"fillcolor\": \"#24489d\", \"layer\": \"below\", \"line\": {\"width\": 0}, \"opacity\": 1.0, \"type\": \"rect\", \"x0\": 3949, \"x1\": 4305, \"xref\": \"x\", \"y0\": 6820, \"y1\": 7179, \"yref\": \"y\"}, {\"fillcolor\": \"#2070b0\", \"layer\": \"below\", \"line\": {\"width\": 0}, \"opacity\": 1.0, \"type\": \"rect\", \"x0\": 3949, \"x1\": 4305, \"xref\": \"x\", \"y0\": 7179, \"y1\": 7538, \"yref\": \"y\"}, {\"fillcolor\": \"#7cccbb\", \"layer\": \"below\", \"line\": {\"width\": 0}, \"opacity\": 1.0, \"type\": \"rect\", \"x0\": 3949, \"x1\": 4305, \"xref\": \"x\", \"y0\": 7538, \"y1\": 7897, \"yref\": \"y\"}, {\"fillcolor\": \"#225aa6\", \"layer\": \"below\", \"line\": {\"width\": 0}, \"opacity\": 1.0, \"type\": \"rect\", \"x0\": 3949, \"x1\": 4305, \"xref\": \"x\", \"y0\": 7897, \"y1\": 8256, \"yref\": \"y\"}, {\"fillcolor\": \"#24489d\", \"layer\": \"below\", \"line\": {\"width\": 0}, \"opacity\": 1.0, \"type\": \"rect\", \"x0\": 3949, \"x1\": 4305, \"xref\": \"x\", \"y0\": 8256, \"y1\": 8614, \"yref\": \"y\"}, {\"fillcolor\": \"#225aa6\", \"layer\": \"below\", \"line\": {\"width\": 0}, \"opacity\": 1.0, \"type\": \"rect\", \"x0\": 3949, \"x1\": 4305, \"xref\": \"x\", \"y0\": 8614, \"y1\": 8973, \"yref\": \"y\"}, {\"fillcolor\": \"#7cccbb\", \"layer\": \"below\", \"line\": {\"width\": 0}, \"opacity\": 1.0, \"type\": \"rect\", \"x0\": 3949, \"x1\": 4305, \"xref\": \"x\", \"y0\": 8973, \"y1\": 9332, \"yref\": \"y\"}, {\"fillcolor\": \"#3cb1c3\", \"layer\": \"below\", \"line\": {\"width\": 0}, \"opacity\": 1.0, \"type\": \"rect\", \"x0\": 3949, \"x1\": 4305, \"xref\": \"x\", \"y0\": 9332, \"y1\": 9691, \"yref\": \"y\"}, {\"fillcolor\": \"#253795\", \"layer\": \"below\", \"line\": {\"width\": 0}, \"opacity\": 1.0, \"type\": \"rect\", \"x0\": 3949, \"x1\": 4305, \"xref\": \"x\", \"y0\": 9691, \"y1\": 10051, \"yref\": \"y\"}, {\"fillcolor\": \"#2da2c2\", \"layer\": \"below\", \"line\": {\"width\": 0}, \"opacity\": 1.0, \"type\": \"rect\", \"x0\": 3949, \"x1\": 4305, \"xref\": \"x\", \"y0\": 10051, \"y1\": 10410, \"yref\": \"y\"}, {\"fillcolor\": \"#7cccbb\", \"layer\": \"below\", \"line\": {\"width\": 0}, \"opacity\": 1.0, \"type\": \"rect\", \"x0\": 3949, \"x1\": 4305, \"xref\": \"x\", \"y0\": 10410, \"y1\": 10770, \"yref\": \"y\"}, {\"fillcolor\": \"#24409a\", \"layer\": \"below\", \"line\": {\"width\": 0}, \"opacity\": 1.0, \"type\": \"rect\", \"x0\": 3949, \"x1\": 4305, \"xref\": \"x\", \"y0\": 10770, \"y1\": 11129, \"yref\": \"y\"}, {\"fillcolor\": \"#1e86bb\", \"layer\": \"below\", \"line\": {\"width\": 0}, \"opacity\": 1.0, \"type\": \"rect\", \"x0\": 3949, \"x1\": 4305, \"xref\": \"x\", \"y0\": 11129, \"y1\": 11488, \"yref\": \"y\"}, {\"fillcolor\": \"#61c2bf\", \"layer\": \"below\", \"line\": {\"width\": 0}, \"opacity\": 1.0, \"type\": \"rect\", \"x0\": 3949, \"x1\": 4305, \"xref\": \"x\", \"y0\": 11488, \"y1\": 11846, \"yref\": \"y\"}, {\"fillcolor\": \"#21308b\", \"layer\": \"below\", \"line\": {\"width\": 0}, \"opacity\": 1.0, \"type\": \"rect\", \"x0\": 3949, \"x1\": 4305, \"xref\": \"x\", \"y0\": 11846, \"y1\": 12205, \"yref\": \"y\"}, {\"fillcolor\": \"#1e86bb\", \"layer\": \"below\", \"line\": {\"width\": 0}, \"opacity\": 1.0, \"type\": \"rect\", \"x0\": 3949, \"x1\": 4305, \"xref\": \"x\", \"y0\": 12205, \"y1\": 12563, \"yref\": \"y\"}, {\"fillcolor\": \"#61c2bf\", \"layer\": \"below\", \"line\": {\"width\": 0}, \"opacity\": 1.0, \"type\": \"rect\", \"x0\": 3949, \"x1\": 4305, \"xref\": \"x\", \"y0\": 12563, \"y1\": 12921, \"yref\": \"y\"}, {\"fillcolor\": \"#1d91c0\", \"layer\": \"below\", \"line\": {\"width\": 0}, \"opacity\": 1.0, \"type\": \"rect\", \"x0\": 4305, \"x1\": 4664, \"xref\": \"x\", \"y0\": 4664, \"y1\": 5024, \"yref\": \"y\"}, {\"fillcolor\": \"#ffffd9\", \"layer\": \"below\", \"line\": {\"width\": 0}, \"opacity\": 1.0, \"type\": \"rect\", \"x0\": 4305, \"x1\": 4664, \"xref\": \"x\", \"y0\": 5024, \"y1\": 5383, \"yref\": \"y\"}, {\"fillcolor\": \"#1e86bb\", \"layer\": \"below\", \"line\": {\"width\": 0}, \"opacity\": 1.0, \"type\": \"rect\", \"x0\": 4305, \"x1\": 4664, \"xref\": \"x\", \"y0\": 5383, \"y1\": 5743, \"yref\": \"y\"}, {\"fillcolor\": \"#f8fcc9\", \"layer\": \"below\", \"line\": {\"width\": 0}, \"opacity\": 1.0, \"type\": \"rect\", \"x0\": 4305, \"x1\": 4664, \"xref\": \"x\", \"y0\": 5743, \"y1\": 6102, \"yref\": \"y\"}, {\"fillcolor\": \"#3cb1c3\", \"layer\": \"below\", \"line\": {\"width\": 0}, \"opacity\": 1.0, \"type\": \"rect\", \"x0\": 4305, \"x1\": 4664, \"xref\": \"x\", \"y0\": 6102, \"y1\": 6461, \"yref\": \"y\"}, {\"fillcolor\": \"#6fc7bd\", \"layer\": \"below\", \"line\": {\"width\": 0}, \"opacity\": 1.0, \"type\": \"rect\", \"x0\": 4305, \"x1\": 4664, \"xref\": \"x\", \"y0\": 6461, \"y1\": 6820, \"yref\": \"y\"}, {\"fillcolor\": \"#1d90c0\", \"layer\": \"below\", \"line\": {\"width\": 0}, \"opacity\": 1.0, \"type\": \"rect\", \"x0\": 4305, \"x1\": 4664, \"xref\": \"x\", \"y0\": 6820, \"y1\": 7179, \"yref\": \"y\"}, {\"fillcolor\": \"#53bdc1\", \"layer\": \"below\", \"line\": {\"width\": 0}, \"opacity\": 1.0, \"type\": \"rect\", \"x0\": 4305, \"x1\": 4664, \"xref\": \"x\", \"y0\": 7179, \"y1\": 7538, \"yref\": \"y\"}, {\"fillcolor\": \"#fcfed1\", \"layer\": \"below\", \"line\": {\"width\": 0}, \"opacity\": 1.0, \"type\": \"rect\", \"x0\": 4305, \"x1\": 4664, \"xref\": \"x\", \"y0\": 7538, \"y1\": 7897, \"yref\": \"y\"}, {\"fillcolor\": \"#6fc7bd\", \"layer\": \"below\", \"line\": {\"width\": 0}, \"opacity\": 1.0, \"type\": \"rect\", \"x0\": 4305, \"x1\": 4664, \"xref\": \"x\", \"y0\": 7897, \"y1\": 8256, \"yref\": \"y\"}, {\"fillcolor\": \"#1d90c0\", \"layer\": \"below\", \"line\": {\"width\": 0}, \"opacity\": 1.0, \"type\": \"rect\", \"x0\": 4305, \"x1\": 4664, \"xref\": \"x\", \"y0\": 8256, \"y1\": 8614, \"yref\": \"y\"}, {\"fillcolor\": \"#3cb1c3\", \"layer\": \"below\", \"line\": {\"width\": 0}, \"opacity\": 1.0, \"type\": \"rect\", \"x0\": 4305, \"x1\": 4664, \"xref\": \"x\", \"y0\": 8614, \"y1\": 8973, \"yref\": \"y\"}, {\"fillcolor\": \"#fcfed1\", \"layer\": \"below\", \"line\": {\"width\": 0}, \"opacity\": 1.0, \"type\": \"rect\", \"x0\": 4305, \"x1\": 4664, \"xref\": \"x\", \"y0\": 8973, \"y1\": 9332, \"yref\": \"y\"}, {\"fillcolor\": \"#e2f4b2\", \"layer\": \"below\", \"line\": {\"width\": 0}, \"opacity\": 1.0, \"type\": \"rect\", \"x0\": 4305, \"x1\": 4664, \"xref\": \"x\", \"y0\": 9332, \"y1\": 9691, \"yref\": \"y\"}, {\"fillcolor\": \"#1d91c0\", \"layer\": \"below\", \"line\": {\"width\": 0}, \"opacity\": 1.0, \"type\": \"rect\", \"x0\": 4305, \"x1\": 4664, \"xref\": \"x\", \"y0\": 9691, \"y1\": 10051, \"yref\": \"y\"}, {\"fillcolor\": \"#48b9c3\", \"layer\": \"below\", \"line\": {\"width\": 0}, \"opacity\": 1.0, \"type\": \"rect\", \"x0\": 4305, \"x1\": 4664, \"xref\": \"x\", \"y0\": 10051, \"y1\": 10410, \"yref\": \"y\"}, {\"fillcolor\": \"#fcfed1\", \"layer\": \"below\", \"line\": {\"width\": 0}, \"opacity\": 1.0, \"type\": \"rect\", \"x0\": 4305, \"x1\": 4664, \"xref\": \"x\", \"y0\": 10410, \"y1\": 10770, \"yref\": \"y\"}, {\"fillcolor\": \"#1d90c0\", \"layer\": \"below\", \"line\": {\"width\": 0}, \"opacity\": 1.0, \"type\": \"rect\", \"x0\": 4305, \"x1\": 4664, \"xref\": \"x\", \"y0\": 10770, \"y1\": 11129, \"yref\": \"y\"}, {\"fillcolor\": \"#abdeb7\", \"layer\": \"below\", \"line\": {\"width\": 0}, \"opacity\": 1.0, \"type\": \"rect\", \"x0\": 4305, \"x1\": 4664, \"xref\": \"x\", \"y0\": 11129, \"y1\": 11488, \"yref\": \"y\"}, {\"fillcolor\": \"#6fc7bd\", \"layer\": \"below\", \"line\": {\"width\": 0}, \"opacity\": 1.0, \"type\": \"rect\", \"x0\": 4305, \"x1\": 4664, \"xref\": \"x\", \"y0\": 11488, \"y1\": 11846, \"yref\": \"y\"}, {\"fillcolor\": \"#1e86bb\", \"layer\": \"below\", \"line\": {\"width\": 0}, \"opacity\": 1.0, \"type\": \"rect\", \"x0\": 4305, \"x1\": 4664, \"xref\": \"x\", \"y0\": 11846, \"y1\": 12205, \"yref\": \"y\"}, {\"fillcolor\": \"#2da2c2\", \"layer\": \"below\", \"line\": {\"width\": 0}, \"opacity\": 1.0, \"type\": \"rect\", \"x0\": 4305, \"x1\": 4664, \"xref\": \"x\", \"y0\": 12205, \"y1\": 12563, \"yref\": \"y\"}, {\"fillcolor\": \"#55bec1\", \"layer\": \"below\", \"line\": {\"width\": 0}, \"opacity\": 1.0, \"type\": \"rect\", \"x0\": 4305, \"x1\": 4664, \"xref\": \"x\", \"y0\": 12563, \"y1\": 12921, \"yref\": \"y\"}, {\"fillcolor\": \"#1d91c0\", \"layer\": \"below\", \"line\": {\"width\": 0}, \"opacity\": 1.0, \"type\": \"rect\", \"x0\": 4664, \"x1\": 5024, \"xref\": \"x\", \"y0\": 5024, \"y1\": 5383, \"yref\": \"y\"}, {\"fillcolor\": \"#f4fbc0\", \"layer\": \"below\", \"line\": {\"width\": 0}, \"opacity\": 1.0, \"type\": \"rect\", \"x0\": 4664, \"x1\": 5024, \"xref\": \"x\", \"y0\": 5383, \"y1\": 5743, \"yref\": \"y\"}, {\"fillcolor\": \"#1f7bb6\", \"layer\": \"below\", \"line\": {\"width\": 0}, \"opacity\": 1.0, \"type\": \"rect\", \"x0\": 4664, \"x1\": 5024, \"xref\": \"x\", \"y0\": 5743, \"y1\": 6102, \"yref\": \"y\"}, {\"fillcolor\": \"#e2f4b2\", \"layer\": \"below\", \"line\": {\"width\": 0}, \"opacity\": 1.0, \"type\": \"rect\", \"x0\": 4664, \"x1\": 5024, \"xref\": \"x\", \"y0\": 6102, \"y1\": 6461, \"yref\": \"y\"}, {\"fillcolor\": \"#48b9c3\", \"layer\": \"below\", \"line\": {\"width\": 0}, \"opacity\": 1.0, \"type\": \"rect\", \"x0\": 4664, \"x1\": 5024, \"xref\": \"x\", \"y0\": 6461, \"y1\": 6820, \"yref\": \"y\"}, {\"fillcolor\": \"#d1edb3\", \"layer\": \"below\", \"line\": {\"width\": 0}, \"opacity\": 1.0, \"type\": \"rect\", \"x0\": 4664, \"x1\": 5024, \"xref\": \"x\", \"y0\": 6820, \"y1\": 7179, \"yref\": \"y\"}, {\"fillcolor\": \"#48b9c3\", \"layer\": \"below\", \"line\": {\"width\": 0}, \"opacity\": 1.0, \"type\": \"rect\", \"x0\": 4664, \"x1\": 5024, \"xref\": \"x\", \"y0\": 7179, \"y1\": 7538, \"yref\": \"y\"}, {\"fillcolor\": \"#1e86bb\", \"layer\": \"below\", \"line\": {\"width\": 0}, \"opacity\": 1.0, \"type\": \"rect\", \"x0\": 4664, \"x1\": 5024, \"xref\": \"x\", \"y0\": 7538, \"y1\": 7897, \"yref\": \"y\"}, {\"fillcolor\": \"#35aac3\", \"layer\": \"below\", \"line\": {\"width\": 0}, \"opacity\": 1.0, \"type\": \"rect\", \"x0\": 4664, \"x1\": 5024, \"xref\": \"x\", \"y0\": 7897, \"y1\": 8256, \"yref\": \"y\"}, {\"fillcolor\": \"#d1edb3\", \"layer\": \"below\", \"line\": {\"width\": 0}, \"opacity\": 1.0, \"type\": \"rect\", \"x0\": 4664, \"x1\": 5024, \"xref\": \"x\", \"y0\": 8256, \"y1\": 8614, \"yref\": \"y\"}, {\"fillcolor\": \"#35aac3\", \"layer\": \"below\", \"line\": {\"width\": 0}, \"opacity\": 1.0, \"type\": \"rect\", \"x0\": 4664, \"x1\": 5024, \"xref\": \"x\", \"y0\": 8614, \"y1\": 8973, \"yref\": \"y\"}, {\"fillcolor\": \"#1e86bb\", \"layer\": \"below\", \"line\": {\"width\": 0}, \"opacity\": 1.0, \"type\": \"rect\", \"x0\": 4664, \"x1\": 5024, \"xref\": \"x\", \"y0\": 8973, \"y1\": 9332, \"yref\": \"y\"}, {\"fillcolor\": \"#55bec1\", \"layer\": \"below\", \"line\": {\"width\": 0}, \"opacity\": 1.0, \"type\": \"rect\", \"x0\": 4664, \"x1\": 5024, \"xref\": \"x\", \"y0\": 9332, \"y1\": 9691, \"yref\": \"y\"}, {\"fillcolor\": \"#d1edb3\", \"layer\": \"below\", \"line\": {\"width\": 0}, \"opacity\": 1.0, \"type\": \"rect\", \"x0\": 4664, \"x1\": 5024, \"xref\": \"x\", \"y0\": 9691, \"y1\": 10051, \"yref\": \"y\"}, {\"fillcolor\": \"#1f7db6\", \"layer\": \"below\", \"line\": {\"width\": 0}, \"opacity\": 1.0, \"type\": \"rect\", \"x0\": 4664, \"x1\": 5024, \"xref\": \"x\", \"y0\": 10051, \"y1\": 10410, \"yref\": \"y\"}, {\"fillcolor\": \"#1e86bb\", \"layer\": \"below\", \"line\": {\"width\": 0}, \"opacity\": 1.0, \"type\": \"rect\", \"x0\": 4664, \"x1\": 5024, \"xref\": \"x\", \"y0\": 10410, \"y1\": 10770, \"yref\": \"y\"}, {\"fillcolor\": \"#d1edb3\", \"layer\": \"below\", \"line\": {\"width\": 0}, \"opacity\": 1.0, \"type\": \"rect\", \"x0\": 4664, \"x1\": 5024, \"xref\": \"x\", \"y0\": 10770, \"y1\": 11129, \"yref\": \"y\"}, {\"fillcolor\": \"#35aac3\", \"layer\": \"below\", \"line\": {\"width\": 0}, \"opacity\": 1.0, \"type\": \"rect\", \"x0\": 4664, \"x1\": 5024, \"xref\": \"x\", \"y0\": 11129, \"y1\": 11488, \"yref\": \"y\"}, {\"fillcolor\": \"#259ac1\", \"layer\": \"below\", \"line\": {\"width\": 0}, \"opacity\": 1.0, \"type\": \"rect\", \"x0\": 4664, \"x1\": 5024, \"xref\": \"x\", \"y0\": 11488, \"y1\": 11846, \"yref\": \"y\"}, {\"fillcolor\": \"#abdeb7\", \"layer\": \"below\", \"line\": {\"width\": 0}, \"opacity\": 1.0, \"type\": \"rect\", \"x0\": 4664, \"x1\": 5024, \"xref\": \"x\", \"y0\": 11846, \"y1\": 12205, \"yref\": \"y\"}, {\"fillcolor\": \"#225aa6\", \"layer\": \"below\", \"line\": {\"width\": 0}, \"opacity\": 1.0, \"type\": \"rect\", \"x0\": 4664, \"x1\": 5024, \"xref\": \"x\", \"y0\": 12205, \"y1\": 12563, \"yref\": \"y\"}, {\"fillcolor\": \"#259ac1\", \"layer\": \"below\", \"line\": {\"width\": 0}, \"opacity\": 1.0, \"type\": \"rect\", \"x0\": 4664, \"x1\": 5024, \"xref\": \"x\", \"y0\": 12563, \"y1\": 12921, \"yref\": \"y\"}, {\"fillcolor\": \"#1e86bb\", \"layer\": \"below\", \"line\": {\"width\": 0}, \"opacity\": 1.0, \"type\": \"rect\", \"x0\": 5024, \"x1\": 5383, \"xref\": \"x\", \"y0\": 5383, \"y1\": 5743, \"yref\": \"y\"}, {\"fillcolor\": \"#f8fcc9\", \"layer\": \"below\", \"line\": {\"width\": 0}, \"opacity\": 1.0, \"type\": \"rect\", \"x0\": 5024, \"x1\": 5383, \"xref\": \"x\", \"y0\": 5743, \"y1\": 6102, \"yref\": \"y\"}, {\"fillcolor\": \"#3cb1c3\", \"layer\": \"below\", \"line\": {\"width\": 0}, \"opacity\": 1.0, \"type\": \"rect\", \"x0\": 5024, \"x1\": 5383, \"xref\": \"x\", \"y0\": 6102, \"y1\": 6461, \"yref\": \"y\"}, {\"fillcolor\": \"#6fc7bd\", \"layer\": \"below\", \"line\": {\"width\": 0}, \"opacity\": 1.0, \"type\": \"rect\", \"x0\": 5024, \"x1\": 5383, \"xref\": \"x\", \"y0\": 6461, \"y1\": 6820, \"yref\": \"y\"}, {\"fillcolor\": \"#1d90c0\", \"layer\": \"below\", \"line\": {\"width\": 0}, \"opacity\": 1.0, \"type\": \"rect\", \"x0\": 5024, \"x1\": 5383, \"xref\": \"x\", \"y0\": 6820, \"y1\": 7179, \"yref\": \"y\"}, {\"fillcolor\": \"#53bdc1\", \"layer\": \"below\", \"line\": {\"width\": 0}, \"opacity\": 1.0, \"type\": \"rect\", \"x0\": 5024, \"x1\": 5383, \"xref\": \"x\", \"y0\": 7179, \"y1\": 7538, \"yref\": \"y\"}, {\"fillcolor\": \"#fcfed1\", \"layer\": \"below\", \"line\": {\"width\": 0}, \"opacity\": 1.0, \"type\": \"rect\", \"x0\": 5024, \"x1\": 5383, \"xref\": \"x\", \"y0\": 7538, \"y1\": 7897, \"yref\": \"y\"}, {\"fillcolor\": \"#6fc7bd\", \"layer\": \"below\", \"line\": {\"width\": 0}, \"opacity\": 1.0, \"type\": \"rect\", \"x0\": 5024, \"x1\": 5383, \"xref\": \"x\", \"y0\": 7897, \"y1\": 8256, \"yref\": \"y\"}, {\"fillcolor\": \"#1d90c0\", \"layer\": \"below\", \"line\": {\"width\": 0}, \"opacity\": 1.0, \"type\": \"rect\", \"x0\": 5024, \"x1\": 5383, \"xref\": \"x\", \"y0\": 8256, \"y1\": 8614, \"yref\": \"y\"}, {\"fillcolor\": \"#3cb1c3\", \"layer\": \"below\", \"line\": {\"width\": 0}, \"opacity\": 1.0, \"type\": \"rect\", \"x0\": 5024, \"x1\": 5383, \"xref\": \"x\", \"y0\": 8614, \"y1\": 8973, \"yref\": \"y\"}, {\"fillcolor\": \"#fcfed1\", \"layer\": \"below\", \"line\": {\"width\": 0}, \"opacity\": 1.0, \"type\": \"rect\", \"x0\": 5024, \"x1\": 5383, \"xref\": \"x\", \"y0\": 8973, \"y1\": 9332, \"yref\": \"y\"}, {\"fillcolor\": \"#e2f4b2\", \"layer\": \"below\", \"line\": {\"width\": 0}, \"opacity\": 1.0, \"type\": \"rect\", \"x0\": 5024, \"x1\": 5383, \"xref\": \"x\", \"y0\": 9332, \"y1\": 9691, \"yref\": \"y\"}, {\"fillcolor\": \"#1d91c0\", \"layer\": \"below\", \"line\": {\"width\": 0}, \"opacity\": 1.0, \"type\": \"rect\", \"x0\": 5024, \"x1\": 5383, \"xref\": \"x\", \"y0\": 9691, \"y1\": 10051, \"yref\": \"y\"}, {\"fillcolor\": \"#48b9c3\", \"layer\": \"below\", \"line\": {\"width\": 0}, \"opacity\": 1.0, \"type\": \"rect\", \"x0\": 5024, \"x1\": 5383, \"xref\": \"x\", \"y0\": 10051, \"y1\": 10410, \"yref\": \"y\"}, {\"fillcolor\": \"#fcfed1\", \"layer\": \"below\", \"line\": {\"width\": 0}, \"opacity\": 1.0, \"type\": \"rect\", \"x0\": 5024, \"x1\": 5383, \"xref\": \"x\", \"y0\": 10410, \"y1\": 10770, \"yref\": \"y\"}, {\"fillcolor\": \"#1d90c0\", \"layer\": \"below\", \"line\": {\"width\": 0}, \"opacity\": 1.0, \"type\": \"rect\", \"x0\": 5024, \"x1\": 5383, \"xref\": \"x\", \"y0\": 10770, \"y1\": 11129, \"yref\": \"y\"}, {\"fillcolor\": \"#abdeb7\", \"layer\": \"below\", \"line\": {\"width\": 0}, \"opacity\": 1.0, \"type\": \"rect\", \"x0\": 5024, \"x1\": 5383, \"xref\": \"x\", \"y0\": 11129, \"y1\": 11488, \"yref\": \"y\"}, {\"fillcolor\": \"#6fc7bd\", \"layer\": \"below\", \"line\": {\"width\": 0}, \"opacity\": 1.0, \"type\": \"rect\", \"x0\": 5024, \"x1\": 5383, \"xref\": \"x\", \"y0\": 11488, \"y1\": 11846, \"yref\": \"y\"}, {\"fillcolor\": \"#1e86bb\", \"layer\": \"below\", \"line\": {\"width\": 0}, \"opacity\": 1.0, \"type\": \"rect\", \"x0\": 5024, \"x1\": 5383, \"xref\": \"x\", \"y0\": 11846, \"y1\": 12205, \"yref\": \"y\"}, {\"fillcolor\": \"#2da2c2\", \"layer\": \"below\", \"line\": {\"width\": 0}, \"opacity\": 1.0, \"type\": \"rect\", \"x0\": 5024, \"x1\": 5383, \"xref\": \"x\", \"y0\": 12205, \"y1\": 12563, \"yref\": \"y\"}, {\"fillcolor\": \"#55bec1\", \"layer\": \"below\", \"line\": {\"width\": 0}, \"opacity\": 1.0, \"type\": \"rect\", \"x0\": 5024, \"x1\": 5383, \"xref\": \"x\", \"y0\": 12563, \"y1\": 12921, \"yref\": \"y\"}, {\"fillcolor\": \"#2070b0\", \"layer\": \"below\", \"line\": {\"width\": 0}, \"opacity\": 1.0, \"type\": \"rect\", \"x0\": 5383, \"x1\": 5743, \"xref\": \"x\", \"y0\": 5743, \"y1\": 6102, \"yref\": \"y\"}, {\"fillcolor\": \"#c9eab4\", \"layer\": \"below\", \"line\": {\"width\": 0}, \"opacity\": 1.0, \"type\": \"rect\", \"x0\": 5383, \"x1\": 5743, \"xref\": \"x\", \"y0\": 6102, \"y1\": 6461, \"yref\": \"y\"}, {\"fillcolor\": \"#55bec1\", \"layer\": \"below\", \"line\": {\"width\": 0}, \"opacity\": 1.0, \"type\": \"rect\", \"x0\": 5383, \"x1\": 5743, \"xref\": \"x\", \"y0\": 6461, \"y1\": 6820, \"yref\": \"y\"}, {\"fillcolor\": \"#abdeb7\", \"layer\": \"below\", \"line\": {\"width\": 0}, \"opacity\": 1.0, \"type\": \"rect\", \"x0\": 5383, \"x1\": 5743, \"xref\": \"x\", \"y0\": 6820, \"y1\": 7179, \"yref\": \"y\"}, {\"fillcolor\": \"#3db2c4\", \"layer\": \"below\", \"line\": {\"width\": 0}, \"opacity\": 1.0, \"type\": \"rect\", \"x0\": 5383, \"x1\": 5743, \"xref\": \"x\", \"y0\": 7179, \"y1\": 7538, \"yref\": \"y\"}, {\"fillcolor\": \"#1f7db6\", \"layer\": \"below\", \"line\": {\"width\": 0}, \"opacity\": 1.0, \"type\": \"rect\", \"x0\": 5383, \"x1\": 5743, \"xref\": \"x\", \"y0\": 7538, \"y1\": 7897, \"yref\": \"y\"}, {\"fillcolor\": \"#2da2c2\", \"layer\": \"below\", \"line\": {\"width\": 0}, \"opacity\": 1.0, \"type\": \"rect\", \"x0\": 5383, \"x1\": 5743, \"xref\": \"x\", \"y0\": 7897, \"y1\": 8256, \"yref\": \"y\"}, {\"fillcolor\": \"#abdeb7\", \"layer\": \"below\", \"line\": {\"width\": 0}, \"opacity\": 1.0, \"type\": \"rect\", \"x0\": 5383, \"x1\": 5743, \"xref\": \"x\", \"y0\": 8256, \"y1\": 8614, \"yref\": \"y\"}, {\"fillcolor\": \"#2da2c2\", \"layer\": \"below\", \"line\": {\"width\": 0}, \"opacity\": 1.0, \"type\": \"rect\", \"x0\": 5383, \"x1\": 5743, \"xref\": \"x\", \"y0\": 8614, \"y1\": 8973, \"yref\": \"y\"}, {\"fillcolor\": \"#1f7db6\", \"layer\": \"below\", \"line\": {\"width\": 0}, \"opacity\": 1.0, \"type\": \"rect\", \"x0\": 5383, \"x1\": 5743, \"xref\": \"x\", \"y0\": 8973, \"y1\": 9332, \"yref\": \"y\"}, {\"fillcolor\": \"#48b9c3\", \"layer\": \"below\", \"line\": {\"width\": 0}, \"opacity\": 1.0, \"type\": \"rect\", \"x0\": 5383, \"x1\": 5743, \"xref\": \"x\", \"y0\": 9332, \"y1\": 9691, \"yref\": \"y\"}, {\"fillcolor\": \"#abdeb7\", \"layer\": \"below\", \"line\": {\"width\": 0}, \"opacity\": 1.0, \"type\": \"rect\", \"x0\": 5383, \"x1\": 5743, \"xref\": \"x\", \"y0\": 9691, \"y1\": 10051, \"yref\": \"y\"}, {\"fillcolor\": \"#2072b1\", \"layer\": \"below\", \"line\": {\"width\": 0}, \"opacity\": 1.0, \"type\": \"rect\", \"x0\": 5383, \"x1\": 5743, \"xref\": \"x\", \"y0\": 10051, \"y1\": 10410, \"yref\": \"y\"}, {\"fillcolor\": \"#1f7db6\", \"layer\": \"below\", \"line\": {\"width\": 0}, \"opacity\": 1.0, \"type\": \"rect\", \"x0\": 5383, \"x1\": 5743, \"xref\": \"x\", \"y0\": 10410, \"y1\": 10770, \"yref\": \"y\"}, {\"fillcolor\": \"#abdeb7\", \"layer\": \"below\", \"line\": {\"width\": 0}, \"opacity\": 1.0, \"type\": \"rect\", \"x0\": 5383, \"x1\": 5743, \"xref\": \"x\", \"y0\": 10770, \"y1\": 11129, \"yref\": \"y\"}, {\"fillcolor\": \"#2da2c2\", \"layer\": \"below\", \"line\": {\"width\": 0}, \"opacity\": 1.0, \"type\": \"rect\", \"x0\": 5383, \"x1\": 5743, \"xref\": \"x\", \"y0\": 11129, \"y1\": 11488, \"yref\": \"y\"}, {\"fillcolor\": \"#2da2c2\", \"layer\": \"below\", \"line\": {\"width\": 0}, \"opacity\": 1.0, \"type\": \"rect\", \"x0\": 5383, \"x1\": 5743, \"xref\": \"x\", \"y0\": 11488, \"y1\": 11846, \"yref\": \"y\"}, {\"fillcolor\": \"#9cd8b8\", \"layer\": \"below\", \"line\": {\"width\": 0}, \"opacity\": 1.0, \"type\": \"rect\", \"x0\": 5383, \"x1\": 5743, \"xref\": \"x\", \"y0\": 11846, \"y1\": 12205, \"yref\": \"y\"}, {\"fillcolor\": \"#2351a2\", \"layer\": \"below\", \"line\": {\"width\": 0}, \"opacity\": 1.0, \"type\": \"rect\", \"x0\": 5383, \"x1\": 5743, \"xref\": \"x\", \"y0\": 12205, \"y1\": 12563, \"yref\": \"y\"}, {\"fillcolor\": \"#3db2c4\", \"layer\": \"below\", \"line\": {\"width\": 0}, \"opacity\": 1.0, \"type\": \"rect\", \"x0\": 5383, \"x1\": 5743, \"xref\": \"x\", \"y0\": 12563, \"y1\": 12921, \"yref\": \"y\"}, {\"fillcolor\": \"#2ca1c2\", \"layer\": \"below\", \"line\": {\"width\": 0}, \"opacity\": 1.0, \"type\": \"rect\", \"x0\": 5743, \"x1\": 6102, \"xref\": \"x\", \"y0\": 6102, \"y1\": 6461, \"yref\": \"y\"}, {\"fillcolor\": \"#53bdc1\", \"layer\": \"below\", \"line\": {\"width\": 0}, \"opacity\": 1.0, \"type\": \"rect\", \"x0\": 5743, \"x1\": 6102, \"xref\": \"x\", \"y0\": 6461, \"y1\": 6820, \"yref\": \"y\"}, {\"fillcolor\": \"#2ca1c2\", \"layer\": \"below\", \"line\": {\"width\": 0}, \"opacity\": 1.0, \"type\": \"rect\", \"x0\": 5743, \"x1\": 6102, \"xref\": \"x\", \"y0\": 6820, \"y1\": 7179, \"yref\": \"y\"}, {\"fillcolor\": \"#6fc7bd\", \"layer\": \"below\", \"line\": {\"width\": 0}, \"opacity\": 1.0, \"type\": \"rect\", \"x0\": 5743, \"x1\": 6102, \"xref\": \"x\", \"y0\": 7179, \"y1\": 7538, \"yref\": \"y\"}, {\"fillcolor\": \"#f4fbc0\", \"layer\": \"below\", \"line\": {\"width\": 0}, \"opacity\": 1.0, \"type\": \"rect\", \"x0\": 5743, \"x1\": 6102, \"xref\": \"x\", \"y0\": 7538, \"y1\": 7897, \"yref\": \"y\"}, {\"fillcolor\": \"#8cd2ba\", \"layer\": \"below\", \"line\": {\"width\": 0}, \"opacity\": 1.0, \"type\": \"rect\", \"x0\": 5743, \"x1\": 6102, \"xref\": \"x\", \"y0\": 7897, \"y1\": 8256, \"yref\": \"y\"}, {\"fillcolor\": \"#2498c1\", \"layer\": \"below\", \"line\": {\"width\": 0}, \"opacity\": 1.0, \"type\": \"rect\", \"x0\": 5743, \"x1\": 6102, \"xref\": \"x\", \"y0\": 8256, \"y1\": 8614, \"yref\": \"y\"}, {\"fillcolor\": \"#53bdc1\", \"layer\": \"below\", \"line\": {\"width\": 0}, \"opacity\": 1.0, \"type\": \"rect\", \"x0\": 5743, \"x1\": 6102, \"xref\": \"x\", \"y0\": 8614, \"y1\": 8973, \"yref\": \"y\"}, {\"fillcolor\": \"#f4fbc0\", \"layer\": \"below\", \"line\": {\"width\": 0}, \"opacity\": 1.0, \"type\": \"rect\", \"x0\": 5743, \"x1\": 6102, \"xref\": \"x\", \"y0\": 8973, \"y1\": 9332, \"yref\": \"y\"}, {\"fillcolor\": \"#d1edb3\", \"layer\": \"below\", \"line\": {\"width\": 0}, \"opacity\": 1.0, \"type\": \"rect\", \"x0\": 5743, \"x1\": 6102, \"xref\": \"x\", \"y0\": 9332, \"y1\": 9691, \"yref\": \"y\"}, {\"fillcolor\": \"#1f7bb6\", \"layer\": \"below\", \"line\": {\"width\": 0}, \"opacity\": 1.0, \"type\": \"rect\", \"x0\": 5743, \"x1\": 6102, \"xref\": \"x\", \"y0\": 9691, \"y1\": 10051, \"yref\": \"y\"}, {\"fillcolor\": \"#35aac3\", \"layer\": \"below\", \"line\": {\"width\": 0}, \"opacity\": 1.0, \"type\": \"rect\", \"x0\": 5743, \"x1\": 6102, \"xref\": \"x\", \"y0\": 10051, \"y1\": 10410, \"yref\": \"y\"}, {\"fillcolor\": \"#f4fbc0\", \"layer\": \"below\", \"line\": {\"width\": 0}, \"opacity\": 1.0, \"type\": \"rect\", \"x0\": 5743, \"x1\": 6102, \"xref\": \"x\", \"y0\": 10410, \"y1\": 10770, \"yref\": \"y\"}, {\"fillcolor\": \"#1f7bb6\", \"layer\": \"below\", \"line\": {\"width\": 0}, \"opacity\": 1.0, \"type\": \"rect\", \"x0\": 5743, \"x1\": 6102, \"xref\": \"x\", \"y0\": 10770, \"y1\": 11129, \"yref\": \"y\"}, {\"fillcolor\": \"#c9eab4\", \"layer\": \"below\", \"line\": {\"width\": 0}, \"opacity\": 1.0, \"type\": \"rect\", \"x0\": 5743, \"x1\": 6102, \"xref\": \"x\", \"y0\": 11129, \"y1\": 11488, \"yref\": \"y\"}, {\"fillcolor\": \"#55bec1\", \"layer\": \"below\", \"line\": {\"width\": 0}, \"opacity\": 1.0, \"type\": \"rect\", \"x0\": 5743, \"x1\": 6102, \"xref\": \"x\", \"y0\": 11488, \"y1\": 11846, \"yref\": \"y\"}, {\"fillcolor\": \"#2070b0\", \"layer\": \"below\", \"line\": {\"width\": 0}, \"opacity\": 1.0, \"type\": \"rect\", \"x0\": 5743, \"x1\": 6102, \"xref\": \"x\", \"y0\": 11846, \"y1\": 12205, \"yref\": \"y\"}, {\"fillcolor\": \"#1d91c0\", \"layer\": \"below\", \"line\": {\"width\": 0}, \"opacity\": 1.0, \"type\": \"rect\", \"x0\": 5743, \"x1\": 6102, \"xref\": \"x\", \"y0\": 12205, \"y1\": 12563, \"yref\": \"y\"}, {\"fillcolor\": \"#3db2c4\", \"layer\": \"below\", \"line\": {\"width\": 0}, \"opacity\": 1.0, \"type\": \"rect\", \"x0\": 5743, \"x1\": 6102, \"xref\": \"x\", \"y0\": 12563, \"y1\": 12921, \"yref\": \"y\"}, {\"fillcolor\": \"#7cccbb\", \"layer\": \"below\", \"line\": {\"width\": 0}, \"opacity\": 1.0, \"type\": \"rect\", \"x0\": 6102, \"x1\": 6461, \"xref\": \"x\", \"y0\": 6461, \"y1\": 6820, \"yref\": \"y\"}, {\"fillcolor\": \"#e2f4b2\", \"layer\": \"below\", \"line\": {\"width\": 0}, \"opacity\": 1.0, \"type\": \"rect\", \"x0\": 6102, \"x1\": 6461, \"xref\": \"x\", \"y0\": 6820, \"y1\": 7179, \"yref\": \"y\"}, {\"fillcolor\": \"#61c2bf\", \"layer\": \"below\", \"line\": {\"width\": 0}, \"opacity\": 1.0, \"type\": \"rect\", \"x0\": 6102, \"x1\": 6461, \"xref\": \"x\", \"y0\": 7179, \"y1\": 7538, \"yref\": \"y\"}, {\"fillcolor\": \"#35aac3\", \"layer\": \"below\", \"line\": {\"width\": 0}, \"opacity\": 1.0, \"type\": \"rect\", \"x0\": 6102, \"x1\": 6461, \"xref\": \"x\", \"y0\": 7538, \"y1\": 7897, \"yref\": \"y\"}, {\"fillcolor\": \"#61c2bf\", \"layer\": \"below\", \"line\": {\"width\": 0}, \"opacity\": 1.0, \"type\": \"rect\", \"x0\": 6102, \"x1\": 6461, \"xref\": \"x\", \"y0\": 7897, \"y1\": 8256, \"yref\": \"y\"}, {\"fillcolor\": \"#e2f4b2\", \"layer\": \"below\", \"line\": {\"width\": 0}, \"opacity\": 1.0, \"type\": \"rect\", \"x0\": 6102, \"x1\": 6461, \"xref\": \"x\", \"y0\": 8256, \"y1\": 8614, \"yref\": \"y\"}, {\"fillcolor\": \"#46b8c3\", \"layer\": \"below\", \"line\": {\"width\": 0}, \"opacity\": 1.0, \"type\": \"rect\", \"x0\": 6102, \"x1\": 6461, \"xref\": \"x\", \"y0\": 8614, \"y1\": 8973, \"yref\": \"y\"}, {\"fillcolor\": \"#35aac3\", \"layer\": \"below\", \"line\": {\"width\": 0}, \"opacity\": 1.0, \"type\": \"rect\", \"x0\": 6102, \"x1\": 6461, \"xref\": \"x\", \"y0\": 8973, \"y1\": 9332, \"yref\": \"y\"}, {\"fillcolor\": \"#8cd2ba\", \"layer\": \"below\", \"line\": {\"width\": 0}, \"opacity\": 1.0, \"type\": \"rect\", \"x0\": 6102, \"x1\": 6461, \"xref\": \"x\", \"y0\": 9332, \"y1\": 9691, \"yref\": \"y\"}, {\"fillcolor\": \"#f0f9b7\", \"layer\": \"below\", \"line\": {\"width\": 0}, \"opacity\": 1.0, \"type\": \"rect\", \"x0\": 6102, \"x1\": 6461, \"xref\": \"x\", \"y0\": 9691, \"y1\": 10051, \"yref\": \"y\"}, {\"fillcolor\": \"#1d91c0\", \"layer\": \"below\", \"line\": {\"width\": 0}, \"opacity\": 1.0, \"type\": \"rect\", \"x0\": 6102, \"x1\": 6461, \"xref\": \"x\", \"y0\": 10051, \"y1\": 10410, \"yref\": \"y\"}, {\"fillcolor\": \"#35aac3\", \"layer\": \"below\", \"line\": {\"width\": 0}, \"opacity\": 1.0, \"type\": \"rect\", \"x0\": 6102, \"x1\": 6461, \"xref\": \"x\", \"y0\": 10410, \"y1\": 10770, \"yref\": \"y\"}, {\"fillcolor\": \"#f0f9b7\", \"layer\": \"below\", \"line\": {\"width\": 0}, \"opacity\": 1.0, \"type\": \"rect\", \"x0\": 6102, \"x1\": 6461, \"xref\": \"x\", \"y0\": 10770, \"y1\": 11129, \"yref\": \"y\"}, {\"fillcolor\": \"#61c2bf\", \"layer\": \"below\", \"line\": {\"width\": 0}, \"opacity\": 1.0, \"type\": \"rect\", \"x0\": 6102, \"x1\": 6461, \"xref\": \"x\", \"y0\": 11129, \"y1\": 11488, \"yref\": \"y\"}, {\"fillcolor\": \"#48b9c3\", \"layer\": \"below\", \"line\": {\"width\": 0}, \"opacity\": 1.0, \"type\": \"rect\", \"x0\": 6102, \"x1\": 6461, \"xref\": \"x\", \"y0\": 11488, \"y1\": 11846, \"yref\": \"y\"}, {\"fillcolor\": \"#daf0b3\", \"layer\": \"below\", \"line\": {\"width\": 0}, \"opacity\": 1.0, \"type\": \"rect\", \"x0\": 6102, \"x1\": 6461, \"xref\": \"x\", \"y0\": 11846, \"y1\": 12205, \"yref\": \"y\"}, {\"fillcolor\": \"#225aa6\", \"layer\": \"below\", \"line\": {\"width\": 0}, \"opacity\": 1.0, \"type\": \"rect\", \"x0\": 6102, \"x1\": 6461, \"xref\": \"x\", \"y0\": 12205, \"y1\": 12563, \"yref\": \"y\"}, {\"fillcolor\": \"#2070b0\", \"layer\": \"below\", \"line\": {\"width\": 0}, \"opacity\": 1.0, \"type\": \"rect\", \"x0\": 6102, \"x1\": 6461, \"xref\": \"x\", \"y0\": 12563, \"y1\": 12921, \"yref\": \"y\"}, {\"fillcolor\": \"#61c2bf\", \"layer\": \"below\", \"line\": {\"width\": 0}, \"opacity\": 1.0, \"type\": \"rect\", \"x0\": 6461, \"x1\": 6820, \"xref\": \"x\", \"y0\": 6820, \"y1\": 7179, \"yref\": \"y\"}, {\"fillcolor\": \"#35aac3\", \"layer\": \"below\", \"line\": {\"width\": 0}, \"opacity\": 1.0, \"type\": \"rect\", \"x0\": 6461, \"x1\": 6820, \"xref\": \"x\", \"y0\": 7179, \"y1\": 7538, \"yref\": \"y\"}, {\"fillcolor\": \"#61c2bf\", \"layer\": \"below\", \"line\": {\"width\": 0}, \"opacity\": 1.0, \"type\": \"rect\", \"x0\": 6461, \"x1\": 6820, \"xref\": \"x\", \"y0\": 7538, \"y1\": 7897, \"yref\": \"y\"}, {\"fillcolor\": \"#61c2bf\", \"layer\": \"below\", \"line\": {\"width\": 0}, \"opacity\": 1.0, \"type\": \"rect\", \"x0\": 6461, \"x1\": 6820, \"xref\": \"x\", \"y0\": 7897, \"y1\": 8256, \"yref\": \"y\"}, {\"fillcolor\": \"#61c2bf\", \"layer\": \"below\", \"line\": {\"width\": 0}, \"opacity\": 1.0, \"type\": \"rect\", \"x0\": 6461, \"x1\": 6820, \"xref\": \"x\", \"y0\": 8256, \"y1\": 8614, \"yref\": \"y\"}, {\"fillcolor\": \"#259ac1\", \"layer\": \"below\", \"line\": {\"width\": 0}, \"opacity\": 1.0, \"type\": \"rect\", \"x0\": 6461, \"x1\": 6820, \"xref\": \"x\", \"y0\": 8614, \"y1\": 8973, \"yref\": \"y\"}, {\"fillcolor\": \"#61c2bf\", \"layer\": \"below\", \"line\": {\"width\": 0}, \"opacity\": 1.0, \"type\": \"rect\", \"x0\": 6461, \"x1\": 6820, \"xref\": \"x\", \"y0\": 8973, \"y1\": 9332, \"yref\": \"y\"}, {\"fillcolor\": \"#6fc7bd\", \"layer\": \"below\", \"line\": {\"width\": 0}, \"opacity\": 1.0, \"type\": \"rect\", \"x0\": 6461, \"x1\": 6820, \"xref\": \"x\", \"y0\": 9332, \"y1\": 9691, \"yref\": \"y\"}, {\"fillcolor\": \"#48b9c3\", \"layer\": \"below\", \"line\": {\"width\": 0}, \"opacity\": 1.0, \"type\": \"rect\", \"x0\": 6461, \"x1\": 6820, \"xref\": \"x\", \"y0\": 9691, \"y1\": 10051, \"yref\": \"y\"}, {\"fillcolor\": \"#1d91c0\", \"layer\": \"below\", \"line\": {\"width\": 0}, \"opacity\": 1.0, \"type\": \"rect\", \"x0\": 6461, \"x1\": 6820, \"xref\": \"x\", \"y0\": 10051, \"y1\": 10410, \"yref\": \"y\"}, {\"fillcolor\": \"#61c2bf\", \"layer\": \"below\", \"line\": {\"width\": 0}, \"opacity\": 1.0, \"type\": \"rect\", \"x0\": 6461, \"x1\": 6820, \"xref\": \"x\", \"y0\": 10410, \"y1\": 10770, \"yref\": \"y\"}, {\"fillcolor\": \"#46b8c3\", \"layer\": \"below\", \"line\": {\"width\": 0}, \"opacity\": 1.0, \"type\": \"rect\", \"x0\": 6461, \"x1\": 6820, \"xref\": \"x\", \"y0\": 10770, \"y1\": 11129, \"yref\": \"y\"}, {\"fillcolor\": \"#bbe4b5\", \"layer\": \"below\", \"line\": {\"width\": 0}, \"opacity\": 1.0, \"type\": \"rect\", \"x0\": 6461, \"x1\": 6820, \"xref\": \"x\", \"y0\": 11129, \"y1\": 11488, \"yref\": \"y\"}, {\"fillcolor\": \"#35aac3\", \"layer\": \"below\", \"line\": {\"width\": 0}, \"opacity\": 1.0, \"type\": \"rect\", \"x0\": 6461, \"x1\": 6820, \"xref\": \"x\", \"y0\": 11488, \"y1\": 11846, \"yref\": \"y\"}, {\"fillcolor\": \"#3cb1c3\", \"layer\": \"below\", \"line\": {\"width\": 0}, \"opacity\": 1.0, \"type\": \"rect\", \"x0\": 6461, \"x1\": 6820, \"xref\": \"x\", \"y0\": 11846, \"y1\": 12205, \"yref\": \"y\"}, {\"fillcolor\": \"#225ca7\", \"layer\": \"below\", \"line\": {\"width\": 0}, \"opacity\": 1.0, \"type\": \"rect\", \"x0\": 6461, \"x1\": 6820, \"xref\": \"x\", \"y0\": 12205, \"y1\": 12563, \"yref\": \"y\"}, {\"fillcolor\": \"#259ac1\", \"layer\": \"below\", \"line\": {\"width\": 0}, \"opacity\": 1.0, \"type\": \"rect\", \"x0\": 6461, \"x1\": 6820, \"xref\": \"x\", \"y0\": 12563, \"y1\": 12921, \"yref\": \"y\"}, {\"fillcolor\": \"#7cccbb\", \"layer\": \"below\", \"line\": {\"width\": 0}, \"opacity\": 1.0, \"type\": \"rect\", \"x0\": 6820, \"x1\": 7179, \"xref\": \"x\", \"y0\": 7179, \"y1\": 7538, \"yref\": \"y\"}, {\"fillcolor\": \"#1e86bb\", \"layer\": \"below\", \"line\": {\"width\": 0}, \"opacity\": 1.0, \"type\": \"rect\", \"x0\": 6820, \"x1\": 7179, \"xref\": \"x\", \"y0\": 7538, \"y1\": 7897, \"yref\": \"y\"}, {\"fillcolor\": \"#61c2bf\", \"layer\": \"below\", \"line\": {\"width\": 0}, \"opacity\": 1.0, \"type\": \"rect\", \"x0\": 6820, \"x1\": 7179, \"xref\": \"x\", \"y0\": 7897, \"y1\": 8256, \"yref\": \"y\"}, {\"fillcolor\": \"#fcfed1\", \"layer\": \"below\", \"line\": {\"width\": 0}, \"opacity\": 1.0, \"type\": \"rect\", \"x0\": 6820, \"x1\": 7179, \"xref\": \"x\", \"y0\": 8256, \"y1\": 8614, \"yref\": \"y\"}, {\"fillcolor\": \"#61c2bf\", \"layer\": \"below\", \"line\": {\"width\": 0}, \"opacity\": 1.0, \"type\": \"rect\", \"x0\": 6820, \"x1\": 7179, \"xref\": \"x\", \"y0\": 8614, \"y1\": 8973, \"yref\": \"y\"}, {\"fillcolor\": \"#1e86bb\", \"layer\": \"below\", \"line\": {\"width\": 0}, \"opacity\": 1.0, \"type\": \"rect\", \"x0\": 6820, \"x1\": 7179, \"xref\": \"x\", \"y0\": 8973, \"y1\": 9332, \"yref\": \"y\"}, {\"fillcolor\": \"#53bdc1\", \"layer\": \"below\", \"line\": {\"width\": 0}, \"opacity\": 1.0, \"type\": \"rect\", \"x0\": 6820, \"x1\": 7179, \"xref\": \"x\", \"y0\": 9332, \"y1\": 9691, \"yref\": \"y\"}, {\"fillcolor\": \"#d1edb3\", \"layer\": \"below\", \"line\": {\"width\": 0}, \"opacity\": 1.0, \"type\": \"rect\", \"x0\": 6820, \"x1\": 7179, \"xref\": \"x\", \"y0\": 9691, \"y1\": 10051, \"yref\": \"y\"}, {\"fillcolor\": \"#1f7bb6\", \"layer\": \"below\", \"line\": {\"width\": 0}, \"opacity\": 1.0, \"type\": \"rect\", \"x0\": 6820, \"x1\": 7179, \"xref\": \"x\", \"y0\": 10051, \"y1\": 10410, \"yref\": \"y\"}, {\"fillcolor\": \"#1e86bb\", \"layer\": \"below\", \"line\": {\"width\": 0}, \"opacity\": 1.0, \"type\": \"rect\", \"x0\": 6820, \"x1\": 7179, \"xref\": \"x\", \"y0\": 10410, \"y1\": 10770, \"yref\": \"y\"}, {\"fillcolor\": \"#d1edb3\", \"layer\": \"below\", \"line\": {\"width\": 0}, \"opacity\": 1.0, \"type\": \"rect\", \"x0\": 6820, \"x1\": 7179, \"xref\": \"x\", \"y0\": 10770, \"y1\": 11129, \"yref\": \"y\"}, {\"fillcolor\": \"#61c2bf\", \"layer\": \"below\", \"line\": {\"width\": 0}, \"opacity\": 1.0, \"type\": \"rect\", \"x0\": 6820, \"x1\": 7179, \"xref\": \"x\", \"y0\": 11129, \"y1\": 11488, \"yref\": \"y\"}, {\"fillcolor\": \"#35aac3\", \"layer\": \"below\", \"line\": {\"width\": 0}, \"opacity\": 1.0, \"type\": \"rect\", \"x0\": 6820, \"x1\": 7179, \"xref\": \"x\", \"y0\": 11488, \"y1\": 11846, \"yref\": \"y\"}, {\"fillcolor\": \"#abdeb7\", \"layer\": \"below\", \"line\": {\"width\": 0}, \"opacity\": 1.0, \"type\": \"rect\", \"x0\": 6820, \"x1\": 7179, \"xref\": \"x\", \"y0\": 11846, \"y1\": 12205, \"yref\": \"y\"}, {\"fillcolor\": \"#24489d\", \"layer\": \"below\", \"line\": {\"width\": 0}, \"opacity\": 1.0, \"type\": \"rect\", \"x0\": 6820, \"x1\": 7179, \"xref\": \"x\", \"y0\": 12205, \"y1\": 12563, \"yref\": \"y\"}, {\"fillcolor\": \"#24489d\", \"layer\": \"below\", \"line\": {\"width\": 0}, \"opacity\": 1.0, \"type\": \"rect\", \"x0\": 6820, \"x1\": 7179, \"xref\": \"x\", \"y0\": 12563, \"y1\": 12921, \"yref\": \"y\"}, {\"fillcolor\": \"#48b9c3\", \"layer\": \"below\", \"line\": {\"width\": 0}, \"opacity\": 1.0, \"type\": \"rect\", \"x0\": 7179, \"x1\": 7538, \"xref\": \"x\", \"y0\": 7538, \"y1\": 7897, \"yref\": \"y\"}, {\"fillcolor\": \"#7cccbb\", \"layer\": \"below\", \"line\": {\"width\": 0}, \"opacity\": 1.0, \"type\": \"rect\", \"x0\": 7179, \"x1\": 7538, \"xref\": \"x\", \"y0\": 7897, \"y1\": 8256, \"yref\": \"y\"}, {\"fillcolor\": \"#6fc7bd\", \"layer\": \"below\", \"line\": {\"width\": 0}, \"opacity\": 1.0, \"type\": \"rect\", \"x0\": 7179, \"x1\": 7538, \"xref\": \"x\", \"y0\": 8256, \"y1\": 8614, \"yref\": \"y\"}, {\"fillcolor\": \"#f8fcc9\", \"layer\": \"below\", \"line\": {\"width\": 0}, \"opacity\": 1.0, \"type\": \"rect\", \"x0\": 7179, \"x1\": 7538, \"xref\": \"x\", \"y0\": 8614, \"y1\": 8973, \"yref\": \"y\"}, {\"fillcolor\": \"#48b9c3\", \"layer\": \"below\", \"line\": {\"width\": 0}, \"opacity\": 1.0, \"type\": \"rect\", \"x0\": 7179, \"x1\": 7538, \"xref\": \"x\", \"y0\": 8973, \"y1\": 9332, \"yref\": \"y\"}, {\"fillcolor\": \"#1d90c0\", \"layer\": \"below\", \"line\": {\"width\": 0}, \"opacity\": 1.0, \"type\": \"rect\", \"x0\": 7179, \"x1\": 7538, \"xref\": \"x\", \"y0\": 9332, \"y1\": 9691, \"yref\": \"y\"}, {\"fillcolor\": \"#48b9c3\", \"layer\": \"below\", \"line\": {\"width\": 0}, \"opacity\": 1.0, \"type\": \"rect\", \"x0\": 7179, \"x1\": 7538, \"xref\": \"x\", \"y0\": 9691, \"y1\": 10051, \"yref\": \"y\"}, {\"fillcolor\": \"#53bdc1\", \"layer\": \"below\", \"line\": {\"width\": 0}, \"opacity\": 1.0, \"type\": \"rect\", \"x0\": 7179, \"x1\": 7538, \"xref\": \"x\", \"y0\": 10051, \"y1\": 10410, \"yref\": \"y\"}, {\"fillcolor\": \"#48b9c3\", \"layer\": \"below\", \"line\": {\"width\": 0}, \"opacity\": 1.0, \"type\": \"rect\", \"x0\": 7179, \"x1\": 7538, \"xref\": \"x\", \"y0\": 10410, \"y1\": 10770, \"yref\": \"y\"}, {\"fillcolor\": \"#46b8c3\", \"layer\": \"below\", \"line\": {\"width\": 0}, \"opacity\": 1.0, \"type\": \"rect\", \"x0\": 7179, \"x1\": 7538, \"xref\": \"x\", \"y0\": 10770, \"y1\": 11129, \"yref\": \"y\"}, {\"fillcolor\": \"#9cd8b8\", \"layer\": \"below\", \"line\": {\"width\": 0}, \"opacity\": 1.0, \"type\": \"rect\", \"x0\": 7179, \"x1\": 7538, \"xref\": \"x\", \"y0\": 11129, \"y1\": 11488, \"yref\": \"y\"}, {\"fillcolor\": \"#225aa6\", \"layer\": \"below\", \"line\": {\"width\": 0}, \"opacity\": 1.0, \"type\": \"rect\", \"x0\": 7179, \"x1\": 7538, \"xref\": \"x\", \"y0\": 11488, \"y1\": 11846, \"yref\": \"y\"}, {\"fillcolor\": \"#53bdc1\", \"layer\": \"below\", \"line\": {\"width\": 0}, \"opacity\": 1.0, \"type\": \"rect\", \"x0\": 7179, \"x1\": 7538, \"xref\": \"x\", \"y0\": 11846, \"y1\": 12205, \"yref\": \"y\"}, {\"fillcolor\": \"#2ca1c2\", \"layer\": \"below\", \"line\": {\"width\": 0}, \"opacity\": 1.0, \"type\": \"rect\", \"x0\": 7179, \"x1\": 7538, \"xref\": \"x\", \"y0\": 12205, \"y1\": 12563, \"yref\": \"y\"}, {\"fillcolor\": \"#24489d\", \"layer\": \"below\", \"line\": {\"width\": 0}, \"opacity\": 1.0, \"type\": \"rect\", \"x0\": 7179, \"x1\": 7538, \"xref\": \"x\", \"y0\": 12563, \"y1\": 12921, \"yref\": \"y\"}, {\"fillcolor\": \"#61c2bf\", \"layer\": \"below\", \"line\": {\"width\": 0}, \"opacity\": 1.0, \"type\": \"rect\", \"x0\": 7538, \"x1\": 7897, \"xref\": \"x\", \"y0\": 7897, \"y1\": 8256, \"yref\": \"y\"}, {\"fillcolor\": \"#1e86bb\", \"layer\": \"below\", \"line\": {\"width\": 0}, \"opacity\": 1.0, \"type\": \"rect\", \"x0\": 7538, \"x1\": 7897, \"xref\": \"x\", \"y0\": 8256, \"y1\": 8614, \"yref\": \"y\"}, {\"fillcolor\": \"#35aac3\", \"layer\": \"below\", \"line\": {\"width\": 0}, \"opacity\": 1.0, \"type\": \"rect\", \"x0\": 7538, \"x1\": 7897, \"xref\": \"x\", \"y0\": 8614, \"y1\": 8973, \"yref\": \"y\"}, {\"fillcolor\": \"#ffffd9\", \"layer\": \"below\", \"line\": {\"width\": 0}, \"opacity\": 1.0, \"type\": \"rect\", \"x0\": 7538, \"x1\": 7897, \"xref\": \"x\", \"y0\": 8973, \"y1\": 9332, \"yref\": \"y\"}, {\"fillcolor\": \"#daf0b3\", \"layer\": \"below\", \"line\": {\"width\": 0}, \"opacity\": 1.0, \"type\": \"rect\", \"x0\": 7538, \"x1\": 7897, \"xref\": \"x\", \"y0\": 9332, \"y1\": 9691, \"yref\": \"y\"}, {\"fillcolor\": \"#1e86bb\", \"layer\": \"below\", \"line\": {\"width\": 0}, \"opacity\": 1.0, \"type\": \"rect\", \"x0\": 7538, \"x1\": 7897, \"xref\": \"x\", \"y0\": 9691, \"y1\": 10051, \"yref\": \"y\"}, {\"fillcolor\": \"#3db2c4\", \"layer\": \"below\", \"line\": {\"width\": 0}, \"opacity\": 1.0, \"type\": \"rect\", \"x0\": 7538, \"x1\": 7897, \"xref\": \"x\", \"y0\": 10051, \"y1\": 10410, \"yref\": \"y\"}, {\"fillcolor\": \"#f8fcc9\", \"layer\": \"below\", \"line\": {\"width\": 0}, \"opacity\": 1.0, \"type\": \"rect\", \"x0\": 7538, \"x1\": 7897, \"xref\": \"x\", \"y0\": 10410, \"y1\": 10770, \"yref\": \"y\"}, {\"fillcolor\": \"#1e86bb\", \"layer\": \"below\", \"line\": {\"width\": 0}, \"opacity\": 1.0, \"type\": \"rect\", \"x0\": 7538, \"x1\": 7897, \"xref\": \"x\", \"y0\": 10770, \"y1\": 11129, \"yref\": \"y\"}, {\"fillcolor\": \"#9cd8b8\", \"layer\": \"below\", \"line\": {\"width\": 0}, \"opacity\": 1.0, \"type\": \"rect\", \"x0\": 7538, \"x1\": 7897, \"xref\": \"x\", \"y0\": 11129, \"y1\": 11488, \"yref\": \"y\"}, {\"fillcolor\": \"#61c2bf\", \"layer\": \"below\", \"line\": {\"width\": 0}, \"opacity\": 1.0, \"type\": \"rect\", \"x0\": 7538, \"x1\": 7897, \"xref\": \"x\", \"y0\": 11488, \"y1\": 11846, \"yref\": \"y\"}, {\"fillcolor\": \"#1f7bb6\", \"layer\": \"below\", \"line\": {\"width\": 0}, \"opacity\": 1.0, \"type\": \"rect\", \"x0\": 7538, \"x1\": 7897, \"xref\": \"x\", \"y0\": 11846, \"y1\": 12205, \"yref\": \"y\"}, {\"fillcolor\": \"#259ac1\", \"layer\": \"below\", \"line\": {\"width\": 0}, \"opacity\": 1.0, \"type\": \"rect\", \"x0\": 7538, \"x1\": 7897, \"xref\": \"x\", \"y0\": 12205, \"y1\": 12563, \"yref\": \"y\"}, {\"fillcolor\": \"#48b9c3\", \"layer\": \"below\", \"line\": {\"width\": 0}, \"opacity\": 1.0, \"type\": \"rect\", \"x0\": 7538, \"x1\": 7897, \"xref\": \"x\", \"y0\": 12563, \"y1\": 12921, \"yref\": \"y\"}, {\"fillcolor\": \"#53bdc1\", \"layer\": \"below\", \"line\": {\"width\": 0}, \"opacity\": 1.0, \"type\": \"rect\", \"x0\": 7897, \"x1\": 8256, \"xref\": \"x\", \"y0\": 8256, \"y1\": 8614, \"yref\": \"y\"}, {\"fillcolor\": \"#61c2bf\", \"layer\": \"below\", \"line\": {\"width\": 0}, \"opacity\": 1.0, \"type\": \"rect\", \"x0\": 7897, \"x1\": 8256, \"xref\": \"x\", \"y0\": 8614, \"y1\": 8973, \"yref\": \"y\"}, {\"fillcolor\": \"#61c2bf\", \"layer\": \"below\", \"line\": {\"width\": 0}, \"opacity\": 1.0, \"type\": \"rect\", \"x0\": 7897, \"x1\": 8256, \"xref\": \"x\", \"y0\": 8973, \"y1\": 9332, \"yref\": \"y\"}, {\"fillcolor\": \"#6fc7bd\", \"layer\": \"below\", \"line\": {\"width\": 0}, \"opacity\": 1.0, \"type\": \"rect\", \"x0\": 7897, \"x1\": 8256, \"xref\": \"x\", \"y0\": 9332, \"y1\": 9691, \"yref\": \"y\"}, {\"fillcolor\": \"#35aac3\", \"layer\": \"below\", \"line\": {\"width\": 0}, \"opacity\": 1.0, \"type\": \"rect\", \"x0\": 7897, \"x1\": 8256, \"xref\": \"x\", \"y0\": 9691, \"y1\": 10051, \"yref\": \"y\"}, {\"fillcolor\": \"#1f7db6\", \"layer\": \"below\", \"line\": {\"width\": 0}, \"opacity\": 1.0, \"type\": \"rect\", \"x0\": 7897, \"x1\": 8256, \"xref\": \"x\", \"y0\": 10051, \"y1\": 10410, \"yref\": \"y\"}, {\"fillcolor\": \"#61c2bf\", \"layer\": \"below\", \"line\": {\"width\": 0}, \"opacity\": 1.0, \"type\": \"rect\", \"x0\": 7897, \"x1\": 8256, \"xref\": \"x\", \"y0\": 10410, \"y1\": 10770, \"yref\": \"y\"}, {\"fillcolor\": \"#34a9c3\", \"layer\": \"below\", \"line\": {\"width\": 0}, \"opacity\": 1.0, \"type\": \"rect\", \"x0\": 7897, \"x1\": 8256, \"xref\": \"x\", \"y0\": 10770, \"y1\": 11129, \"yref\": \"y\"}, {\"fillcolor\": \"#d1edb3\", \"layer\": \"below\", \"line\": {\"width\": 0}, \"opacity\": 1.0, \"type\": \"rect\", \"x0\": 7897, \"x1\": 8256, \"xref\": \"x\", \"y0\": 11129, \"y1\": 11488, \"yref\": \"y\"}, {\"fillcolor\": \"#1e86bb\", \"layer\": \"below\", \"line\": {\"width\": 0}, \"opacity\": 1.0, \"type\": \"rect\", \"x0\": 7897, \"x1\": 8256, \"xref\": \"x\", \"y0\": 11488, \"y1\": 11846, \"yref\": \"y\"}, {\"fillcolor\": \"#2ca1c2\", \"layer\": \"below\", \"line\": {\"width\": 0}, \"opacity\": 1.0, \"type\": \"rect\", \"x0\": 7897, \"x1\": 8256, \"xref\": \"x\", \"y0\": 11846, \"y1\": 12205, \"yref\": \"y\"}, {\"fillcolor\": \"#225ca7\", \"layer\": \"below\", \"line\": {\"width\": 0}, \"opacity\": 1.0, \"type\": \"rect\", \"x0\": 7897, \"x1\": 8256, \"xref\": \"x\", \"y0\": 12205, \"y1\": 12563, \"yref\": \"y\"}, {\"fillcolor\": \"#253595\", \"layer\": \"below\", \"line\": {\"width\": 0}, \"opacity\": 1.0, \"type\": \"rect\", \"x0\": 7897, \"x1\": 8256, \"xref\": \"x\", \"y0\": 12563, \"y1\": 12921, \"yref\": \"y\"}, {\"fillcolor\": \"#53bdc1\", \"layer\": \"below\", \"line\": {\"width\": 0}, \"opacity\": 1.0, \"type\": \"rect\", \"x0\": 8256, \"x1\": 8614, \"xref\": \"x\", \"y0\": 8614, \"y1\": 8973, \"yref\": \"y\"}, {\"fillcolor\": \"#1e86bb\", \"layer\": \"below\", \"line\": {\"width\": 0}, \"opacity\": 1.0, \"type\": \"rect\", \"x0\": 8256, \"x1\": 8614, \"xref\": \"x\", \"y0\": 8973, \"y1\": 9332, \"yref\": \"y\"}, {\"fillcolor\": \"#53bdc1\", \"layer\": \"below\", \"line\": {\"width\": 0}, \"opacity\": 1.0, \"type\": \"rect\", \"x0\": 8256, \"x1\": 8614, \"xref\": \"x\", \"y0\": 9332, \"y1\": 9691, \"yref\": \"y\"}, {\"fillcolor\": \"#d1edb3\", \"layer\": \"below\", \"line\": {\"width\": 0}, \"opacity\": 1.0, \"type\": \"rect\", \"x0\": 8256, \"x1\": 8614, \"xref\": \"x\", \"y0\": 9691, \"y1\": 10051, \"yref\": \"y\"}, {\"fillcolor\": \"#1f7bb6\", \"layer\": \"below\", \"line\": {\"width\": 0}, \"opacity\": 1.0, \"type\": \"rect\", \"x0\": 8256, \"x1\": 8614, \"xref\": \"x\", \"y0\": 10051, \"y1\": 10410, \"yref\": \"y\"}, {\"fillcolor\": \"#1e86bb\", \"layer\": \"below\", \"line\": {\"width\": 0}, \"opacity\": 1.0, \"type\": \"rect\", \"x0\": 8256, \"x1\": 8614, \"xref\": \"x\", \"y0\": 10410, \"y1\": 10770, \"yref\": \"y\"}, {\"fillcolor\": \"#d1edb3\", \"layer\": \"below\", \"line\": {\"width\": 0}, \"opacity\": 1.0, \"type\": \"rect\", \"x0\": 8256, \"x1\": 8614, \"xref\": \"x\", \"y0\": 10770, \"y1\": 11129, \"yref\": \"y\"}, {\"fillcolor\": \"#53bdc1\", \"layer\": \"below\", \"line\": {\"width\": 0}, \"opacity\": 1.0, \"type\": \"rect\", \"x0\": 8256, \"x1\": 8614, \"xref\": \"x\", \"y0\": 11129, \"y1\": 11488, \"yref\": \"y\"}, {\"fillcolor\": \"#35aac3\", \"layer\": \"below\", \"line\": {\"width\": 0}, \"opacity\": 1.0, \"type\": \"rect\", \"x0\": 8256, \"x1\": 8614, \"xref\": \"x\", \"y0\": 11488, \"y1\": 11846, \"yref\": \"y\"}, {\"fillcolor\": \"#abdeb7\", \"layer\": \"below\", \"line\": {\"width\": 0}, \"opacity\": 1.0, \"type\": \"rect\", \"x0\": 8256, \"x1\": 8614, \"xref\": \"x\", \"y0\": 11846, \"y1\": 12205, \"yref\": \"y\"}, {\"fillcolor\": \"#24489d\", \"layer\": \"below\", \"line\": {\"width\": 0}, \"opacity\": 1.0, \"type\": \"rect\", \"x0\": 8256, \"x1\": 8614, \"xref\": \"x\", \"y0\": 12205, \"y1\": 12563, \"yref\": \"y\"}, {\"fillcolor\": \"#24489d\", \"layer\": \"below\", \"line\": {\"width\": 0}, \"opacity\": 1.0, \"type\": \"rect\", \"x0\": 8256, \"x1\": 8614, \"xref\": \"x\", \"y0\": 12563, \"y1\": 12921, \"yref\": \"y\"}, {\"fillcolor\": \"#35aac3\", \"layer\": \"below\", \"line\": {\"width\": 0}, \"opacity\": 1.0, \"type\": \"rect\", \"x0\": 8614, \"x1\": 8973, \"xref\": \"x\", \"y0\": 8973, \"y1\": 9332, \"yref\": \"y\"}, {\"fillcolor\": \"#1f7bb6\", \"layer\": \"below\", \"line\": {\"width\": 0}, \"opacity\": 1.0, \"type\": \"rect\", \"x0\": 8614, \"x1\": 8973, \"xref\": \"x\", \"y0\": 9332, \"y1\": 9691, \"yref\": \"y\"}, {\"fillcolor\": \"#35aac3\", \"layer\": \"below\", \"line\": {\"width\": 0}, \"opacity\": 1.0, \"type\": \"rect\", \"x0\": 8614, \"x1\": 8973, \"xref\": \"x\", \"y0\": 9691, \"y1\": 10051, \"yref\": \"y\"}, {\"fillcolor\": \"#3cb1c3\", \"layer\": \"below\", \"line\": {\"width\": 0}, \"opacity\": 1.0, \"type\": \"rect\", \"x0\": 8614, \"x1\": 8973, \"xref\": \"x\", \"y0\": 10051, \"y1\": 10410, \"yref\": \"y\"}, {\"fillcolor\": \"#35aac3\", \"layer\": \"below\", \"line\": {\"width\": 0}, \"opacity\": 1.0, \"type\": \"rect\", \"x0\": 8614, \"x1\": 8973, \"xref\": \"x\", \"y0\": 10410, \"y1\": 10770, \"yref\": \"y\"}, {\"fillcolor\": \"#34a9c3\", \"layer\": \"below\", \"line\": {\"width\": 0}, \"opacity\": 1.0, \"type\": \"rect\", \"x0\": 8614, \"x1\": 8973, \"xref\": \"x\", \"y0\": 10770, \"y1\": 11129, \"yref\": \"y\"}, {\"fillcolor\": \"#7cccbb\", \"layer\": \"below\", \"line\": {\"width\": 0}, \"opacity\": 1.0, \"type\": \"rect\", \"x0\": 8614, \"x1\": 8973, \"xref\": \"x\", \"y0\": 11129, \"y1\": 11488, \"yref\": \"y\"}, {\"fillcolor\": \"#24489d\", \"layer\": \"below\", \"line\": {\"width\": 0}, \"opacity\": 1.0, \"type\": \"rect\", \"x0\": 8614, \"x1\": 8973, \"xref\": \"x\", \"y0\": 11488, \"y1\": 11846, \"yref\": \"y\"}, {\"fillcolor\": \"#3cb1c3\", \"layer\": \"below\", \"line\": {\"width\": 0}, \"opacity\": 1.0, \"type\": \"rect\", \"x0\": 8614, \"x1\": 8973, \"xref\": \"x\", \"y0\": 11846, \"y1\": 12205, \"yref\": \"y\"}, {\"fillcolor\": \"#1d90c0\", \"layer\": \"below\", \"line\": {\"width\": 0}, \"opacity\": 1.0, \"type\": \"rect\", \"x0\": 8614, \"x1\": 8973, \"xref\": \"x\", \"y0\": 12205, \"y1\": 12563, \"yref\": \"y\"}, {\"fillcolor\": \"#253595\", \"layer\": \"below\", \"line\": {\"width\": 0}, \"opacity\": 1.0, \"type\": \"rect\", \"x0\": 8614, \"x1\": 8973, \"xref\": \"x\", \"y0\": 12563, \"y1\": 12921, \"yref\": \"y\"}, {\"fillcolor\": \"#daf0b3\", \"layer\": \"below\", \"line\": {\"width\": 0}, \"opacity\": 1.0, \"type\": \"rect\", \"x0\": 8973, \"x1\": 9332, \"xref\": \"x\", \"y0\": 9332, \"y1\": 9691, \"yref\": \"y\"}, {\"fillcolor\": \"#1e86bb\", \"layer\": \"below\", \"line\": {\"width\": 0}, \"opacity\": 1.0, \"type\": \"rect\", \"x0\": 8973, \"x1\": 9332, \"xref\": \"x\", \"y0\": 9691, \"y1\": 10051, \"yref\": \"y\"}, {\"fillcolor\": \"#3db2c4\", \"layer\": \"below\", \"line\": {\"width\": 0}, \"opacity\": 1.0, \"type\": \"rect\", \"x0\": 8973, \"x1\": 9332, \"xref\": \"x\", \"y0\": 10051, \"y1\": 10410, \"yref\": \"y\"}, {\"fillcolor\": \"#f8fcc9\", \"layer\": \"below\", \"line\": {\"width\": 0}, \"opacity\": 1.0, \"type\": \"rect\", \"x0\": 8973, \"x1\": 9332, \"xref\": \"x\", \"y0\": 10410, \"y1\": 10770, \"yref\": \"y\"}, {\"fillcolor\": \"#1e86bb\", \"layer\": \"below\", \"line\": {\"width\": 0}, \"opacity\": 1.0, \"type\": \"rect\", \"x0\": 8973, \"x1\": 9332, \"xref\": \"x\", \"y0\": 10770, \"y1\": 11129, \"yref\": \"y\"}, {\"fillcolor\": \"#9cd8b8\", \"layer\": \"below\", \"line\": {\"width\": 0}, \"opacity\": 1.0, \"type\": \"rect\", \"x0\": 8973, \"x1\": 9332, \"xref\": \"x\", \"y0\": 11129, \"y1\": 11488, \"yref\": \"y\"}, {\"fillcolor\": \"#61c2bf\", \"layer\": \"below\", \"line\": {\"width\": 0}, \"opacity\": 1.0, \"type\": \"rect\", \"x0\": 8973, \"x1\": 9332, \"xref\": \"x\", \"y0\": 11488, \"y1\": 11846, \"yref\": \"y\"}, {\"fillcolor\": \"#1f7bb6\", \"layer\": \"below\", \"line\": {\"width\": 0}, \"opacity\": 1.0, \"type\": \"rect\", \"x0\": 8973, \"x1\": 9332, \"xref\": \"x\", \"y0\": 11846, \"y1\": 12205, \"yref\": \"y\"}, {\"fillcolor\": \"#259ac1\", \"layer\": \"below\", \"line\": {\"width\": 0}, \"opacity\": 1.0, \"type\": \"rect\", \"x0\": 8973, \"x1\": 9332, \"xref\": \"x\", \"y0\": 12205, \"y1\": 12563, \"yref\": \"y\"}, {\"fillcolor\": \"#48b9c3\", \"layer\": \"below\", \"line\": {\"width\": 0}, \"opacity\": 1.0, \"type\": \"rect\", \"x0\": 8973, \"x1\": 9332, \"xref\": \"x\", \"y0\": 12563, \"y1\": 12921, \"yref\": \"y\"}, {\"fillcolor\": \"#55bec1\", \"layer\": \"below\", \"line\": {\"width\": 0}, \"opacity\": 1.0, \"type\": \"rect\", \"x0\": 9332, \"x1\": 9691, \"xref\": \"x\", \"y0\": 9691, \"y1\": 10051, \"yref\": \"y\"}, {\"fillcolor\": \"#1e86bb\", \"layer\": \"below\", \"line\": {\"width\": 0}, \"opacity\": 1.0, \"type\": \"rect\", \"x0\": 9332, \"x1\": 9691, \"xref\": \"x\", \"y0\": 10051, \"y1\": 10410, \"yref\": \"y\"}, {\"fillcolor\": \"#daf0b3\", \"layer\": \"below\", \"line\": {\"width\": 0}, \"opacity\": 1.0, \"type\": \"rect\", \"x0\": 9332, \"x1\": 9691, \"xref\": \"x\", \"y0\": 10410, \"y1\": 10770, \"yref\": \"y\"}, {\"fillcolor\": \"#53bdc1\", \"layer\": \"below\", \"line\": {\"width\": 0}, \"opacity\": 1.0, \"type\": \"rect\", \"x0\": 9332, \"x1\": 9691, \"xref\": \"x\", \"y0\": 10770, \"y1\": 11129, \"yref\": \"y\"}, {\"fillcolor\": \"#53bdc1\", \"layer\": \"below\", \"line\": {\"width\": 0}, \"opacity\": 1.0, \"type\": \"rect\", \"x0\": 9332, \"x1\": 9691, \"xref\": \"x\", \"y0\": 11129, \"y1\": 11488, \"yref\": \"y\"}, {\"fillcolor\": \"#c9eab4\", \"layer\": \"below\", \"line\": {\"width\": 0}, \"opacity\": 1.0, \"type\": \"rect\", \"x0\": 9332, \"x1\": 9691, \"xref\": \"x\", \"y0\": 11488, \"y1\": 11846, \"yref\": \"y\"}, {\"fillcolor\": \"#46b8c3\", \"layer\": \"below\", \"line\": {\"width\": 0}, \"opacity\": 1.0, \"type\": \"rect\", \"x0\": 9332, \"x1\": 9691, \"xref\": \"x\", \"y0\": 11846, \"y1\": 12205, \"yref\": \"y\"}, {\"fillcolor\": \"#2165ab\", \"layer\": \"below\", \"line\": {\"width\": 0}, \"opacity\": 1.0, \"type\": \"rect\", \"x0\": 9332, \"x1\": 9691, \"xref\": \"x\", \"y0\": 12205, \"y1\": 12563, \"yref\": \"y\"}, {\"fillcolor\": \"#55bec1\", \"layer\": \"below\", \"line\": {\"width\": 0}, \"opacity\": 1.0, \"type\": \"rect\", \"x0\": 9332, \"x1\": 9691, \"xref\": \"x\", \"y0\": 12563, \"y1\": 12921, \"yref\": \"y\"}, {\"fillcolor\": \"#1e86bb\", \"layer\": \"below\", \"line\": {\"width\": 0}, \"opacity\": 1.0, \"type\": \"rect\", \"x0\": 9691, \"x1\": 10051, \"xref\": \"x\", \"y0\": 10051, \"y1\": 10410, \"yref\": \"y\"}, {\"fillcolor\": \"#1e86bb\", \"layer\": \"below\", \"line\": {\"width\": 0}, \"opacity\": 1.0, \"type\": \"rect\", \"x0\": 9691, \"x1\": 10051, \"xref\": \"x\", \"y0\": 10410, \"y1\": 10770, \"yref\": \"y\"}, {\"fillcolor\": \"#e2f4b2\", \"layer\": \"below\", \"line\": {\"width\": 0}, \"opacity\": 1.0, \"type\": \"rect\", \"x0\": 9691, \"x1\": 10051, \"xref\": \"x\", \"y0\": 10770, \"y1\": 11129, \"yref\": \"y\"}, {\"fillcolor\": \"#35aac3\", \"layer\": \"below\", \"line\": {\"width\": 0}, \"opacity\": 1.0, \"type\": \"rect\", \"x0\": 9691, \"x1\": 10051, \"xref\": \"x\", \"y0\": 11129, \"y1\": 11488, \"yref\": \"y\"}, {\"fillcolor\": \"#2da2c2\", \"layer\": \"below\", \"line\": {\"width\": 0}, \"opacity\": 1.0, \"type\": \"rect\", \"x0\": 9691, \"x1\": 10051, \"xref\": \"x\", \"y0\": 11488, \"y1\": 11846, \"yref\": \"y\"}, {\"fillcolor\": \"#c9eab4\", \"layer\": \"below\", \"line\": {\"width\": 0}, \"opacity\": 1.0, \"type\": \"rect\", \"x0\": 9691, \"x1\": 10051, \"xref\": \"x\", \"y0\": 11846, \"y1\": 12205, \"yref\": \"y\"}, {\"fillcolor\": \"#23499e\", \"layer\": \"below\", \"line\": {\"width\": 0}, \"opacity\": 1.0, \"type\": \"rect\", \"x0\": 9691, \"x1\": 10051, \"xref\": \"x\", \"y0\": 12205, \"y1\": 12563, \"yref\": \"y\"}, {\"fillcolor\": \"#2352a3\", \"layer\": \"below\", \"line\": {\"width\": 0}, \"opacity\": 1.0, \"type\": \"rect\", \"x0\": 9691, \"x1\": 10051, \"xref\": \"x\", \"y0\": 12563, \"y1\": 12921, \"yref\": \"y\"}, {\"fillcolor\": \"#3db2c4\", \"layer\": \"below\", \"line\": {\"width\": 0}, \"opacity\": 1.0, \"type\": \"rect\", \"x0\": 10051, \"x1\": 10410, \"xref\": \"x\", \"y0\": 10410, \"y1\": 10770, \"yref\": \"y\"}, {\"fillcolor\": \"#1f7db6\", \"layer\": \"below\", \"line\": {\"width\": 0}, \"opacity\": 1.0, \"type\": \"rect\", \"x0\": 10051, \"x1\": 10410, \"xref\": \"x\", \"y0\": 10770, \"y1\": 11129, \"yref\": \"y\"}, {\"fillcolor\": \"#3db2c4\", \"layer\": \"below\", \"line\": {\"width\": 0}, \"opacity\": 1.0, \"type\": \"rect\", \"x0\": 10051, \"x1\": 10410, \"xref\": \"x\", \"y0\": 11129, \"y1\": 11488, \"yref\": \"y\"}, {\"fillcolor\": \"#2165ab\", \"layer\": \"below\", \"line\": {\"width\": 0}, \"opacity\": 1.0, \"type\": \"rect\", \"x0\": 10051, \"x1\": 10410, \"xref\": \"x\", \"y0\": 11488, \"y1\": 11846, \"yref\": \"y\"}, {\"fillcolor\": \"#2070b0\", \"layer\": \"below\", \"line\": {\"width\": 0}, \"opacity\": 1.0, \"type\": \"rect\", \"x0\": 10051, \"x1\": 10410, \"xref\": \"x\", \"y0\": 11846, \"y1\": 12205, \"yref\": \"y\"}, {\"fillcolor\": \"#c9eab4\", \"layer\": \"below\", \"line\": {\"width\": 0}, \"opacity\": 1.0, \"type\": \"rect\", \"x0\": 10051, \"x1\": 10410, \"xref\": \"x\", \"y0\": 12205, \"y1\": 12563, \"yref\": \"y\"}, {\"fillcolor\": \"#243f99\", \"layer\": \"below\", \"line\": {\"width\": 0}, \"opacity\": 1.0, \"type\": \"rect\", \"x0\": 10051, \"x1\": 10410, \"xref\": \"x\", \"y0\": 12563, \"y1\": 12921, \"yref\": \"y\"}, {\"fillcolor\": \"#1e86bb\", \"layer\": \"below\", \"line\": {\"width\": 0}, \"opacity\": 1.0, \"type\": \"rect\", \"x0\": 10410, \"x1\": 10770, \"xref\": \"x\", \"y0\": 10770, \"y1\": 11129, \"yref\": \"y\"}, {\"fillcolor\": \"#9cd8b8\", \"layer\": \"below\", \"line\": {\"width\": 0}, \"opacity\": 1.0, \"type\": \"rect\", \"x0\": 10410, \"x1\": 10770, \"xref\": \"x\", \"y0\": 11129, \"y1\": 11488, \"yref\": \"y\"}, {\"fillcolor\": \"#63c3bf\", \"layer\": \"below\", \"line\": {\"width\": 0}, \"opacity\": 1.0, \"type\": \"rect\", \"x0\": 10410, \"x1\": 10770, \"xref\": \"x\", \"y0\": 11488, \"y1\": 11846, \"yref\": \"y\"}, {\"fillcolor\": \"#1f7bb6\", \"layer\": \"below\", \"line\": {\"width\": 0}, \"opacity\": 1.0, \"type\": \"rect\", \"x0\": 10410, \"x1\": 10770, \"xref\": \"x\", \"y0\": 11846, \"y1\": 12205, \"yref\": \"y\"}, {\"fillcolor\": \"#259ac1\", \"layer\": \"below\", \"line\": {\"width\": 0}, \"opacity\": 1.0, \"type\": \"rect\", \"x0\": 10410, \"x1\": 10770, \"xref\": \"x\", \"y0\": 12205, \"y1\": 12563, \"yref\": \"y\"}, {\"fillcolor\": \"#48b9c3\", \"layer\": \"below\", \"line\": {\"width\": 0}, \"opacity\": 1.0, \"type\": \"rect\", \"x0\": 10410, \"x1\": 10770, \"xref\": \"x\", \"y0\": 12563, \"y1\": 12921, \"yref\": \"y\"}, {\"fillcolor\": \"#34a9c3\", \"layer\": \"below\", \"line\": {\"width\": 0}, \"opacity\": 1.0, \"type\": \"rect\", \"x0\": 10770, \"x1\": 11129, \"xref\": \"x\", \"y0\": 11129, \"y1\": 11488, \"yref\": \"y\"}, {\"fillcolor\": \"#2da2c2\", \"layer\": \"below\", \"line\": {\"width\": 0}, \"opacity\": 1.0, \"type\": \"rect\", \"x0\": 10770, \"x1\": 11129, \"xref\": \"x\", \"y0\": 11488, \"y1\": 11846, \"yref\": \"y\"}, {\"fillcolor\": \"#c9eab4\", \"layer\": \"below\", \"line\": {\"width\": 0}, \"opacity\": 1.0, \"type\": \"rect\", \"x0\": 10770, \"x1\": 11129, \"xref\": \"x\", \"y0\": 11846, \"y1\": 12205, \"yref\": \"y\"}, {\"fillcolor\": \"#23499e\", \"layer\": \"below\", \"line\": {\"width\": 0}, \"opacity\": 1.0, \"type\": \"rect\", \"x0\": 10770, \"x1\": 11129, \"xref\": \"x\", \"y0\": 12205, \"y1\": 12563, \"yref\": \"y\"}, {\"fillcolor\": \"#2351a2\", \"layer\": \"below\", \"line\": {\"width\": 0}, \"opacity\": 1.0, \"type\": \"rect\", \"x0\": 10770, \"x1\": 11129, \"xref\": \"x\", \"y0\": 12563, \"y1\": 12921, \"yref\": \"y\"}, {\"fillcolor\": \"#2070b0\", \"layer\": \"below\", \"line\": {\"width\": 0}, \"opacity\": 1.0, \"type\": \"rect\", \"x0\": 11129, \"x1\": 11488, \"xref\": \"x\", \"y0\": 11488, \"y1\": 11846, \"yref\": \"y\"}, {\"fillcolor\": \"#2ca1c2\", \"layer\": \"below\", \"line\": {\"width\": 0}, \"opacity\": 1.0, \"type\": \"rect\", \"x0\": 11129, \"x1\": 11488, \"xref\": \"x\", \"y0\": 11846, \"y1\": 12205, \"yref\": \"y\"}, {\"fillcolor\": \"#1e86bb\", \"layer\": \"below\", \"line\": {\"width\": 0}, \"opacity\": 1.0, \"type\": \"rect\", \"x0\": 11129, \"x1\": 11488, \"xref\": \"x\", \"y0\": 12205, \"y1\": 12563, \"yref\": \"y\"}, {\"fillcolor\": \"#225aa6\", \"layer\": \"below\", \"line\": {\"width\": 0}, \"opacity\": 1.0, \"type\": \"rect\", \"x0\": 11129, \"x1\": 11488, \"xref\": \"x\", \"y0\": 12563, \"y1\": 12921, \"yref\": \"y\"}, {\"fillcolor\": \"#1d91c0\", \"layer\": \"below\", \"line\": {\"width\": 0}, \"opacity\": 1.0, \"type\": \"rect\", \"x0\": 11488, \"x1\": 11846, \"xref\": \"x\", \"y0\": 11846, \"y1\": 12205, \"yref\": \"y\"}, {\"fillcolor\": \"#253795\", \"layer\": \"below\", \"line\": {\"width\": 0}, \"opacity\": 1.0, \"type\": \"rect\", \"x0\": 11488, \"x1\": 11846, \"xref\": \"x\", \"y0\": 12205, \"y1\": 12563, \"yref\": \"y\"}, {\"fillcolor\": \"#7cccbb\", \"layer\": \"below\", \"line\": {\"width\": 0}, \"opacity\": 1.0, \"type\": \"rect\", \"x0\": 11488, \"x1\": 11846, \"xref\": \"x\", \"y0\": 12563, \"y1\": 12921, \"yref\": \"y\"}, {\"fillcolor\": \"#24489d\", \"layer\": \"below\", \"line\": {\"width\": 0}, \"opacity\": 1.0, \"type\": \"rect\", \"x0\": 11846, \"x1\": 12205, \"xref\": \"x\", \"y0\": 12205, \"y1\": 12563, \"yref\": \"y\"}, {\"fillcolor\": \"#243f99\", \"layer\": \"below\", \"line\": {\"width\": 0}, \"opacity\": 1.0, \"type\": \"rect\", \"x0\": 11846, \"x1\": 12205, \"xref\": \"x\", \"y0\": 12563, \"y1\": 12921, \"yref\": \"y\"}, {\"fillcolor\": \"#253595\", \"layer\": \"below\", \"line\": {\"width\": 0}, \"opacity\": 1.0, \"type\": \"rect\", \"x0\": 12205, \"x1\": 12563, \"xref\": \"x\", \"y0\": 12563, \"y1\": 12921, \"yref\": \"y\"}, {\"layer\": \"below\", \"line\": {\"color\": \"black\", \"width\": 5}, \"type\": \"line\", \"x0\": 0, \"x1\": 358, \"xref\": \"x\", \"y0\": 0, \"y1\": 358, \"yref\": \"y\"}, {\"layer\": \"below\", \"line\": {\"color\": \"black\", \"width\": 5}, \"type\": \"line\", \"x0\": 358, \"x1\": 716, \"xref\": \"x\", \"y0\": 358, \"y1\": 716, \"yref\": \"y\"}, {\"layer\": \"below\", \"line\": {\"color\": \"black\", \"width\": 5}, \"type\": \"line\", \"x0\": 716, \"x1\": 1074, \"xref\": \"x\", \"y0\": 716, \"y1\": 1074, \"yref\": \"y\"}, {\"layer\": \"below\", \"line\": {\"color\": \"black\", \"width\": 5}, \"type\": \"line\", \"x0\": 1074, \"x1\": 1433, \"xref\": \"x\", \"y0\": 1074, \"y1\": 1433, \"yref\": \"y\"}, {\"layer\": \"below\", \"line\": {\"color\": \"black\", \"width\": 5}, \"type\": \"line\", \"x0\": 1433, \"x1\": 1792, \"xref\": \"x\", \"y0\": 1433, \"y1\": 1792, \"yref\": \"y\"}, {\"layer\": \"below\", \"line\": {\"color\": \"black\", \"width\": 5}, \"type\": \"line\", \"x0\": 1792, \"x1\": 2152, \"xref\": \"x\", \"y0\": 1792, \"y1\": 2152, \"yref\": \"y\"}, {\"layer\": \"below\", \"line\": {\"color\": \"black\", \"width\": 5}, \"type\": \"line\", \"x0\": 2152, \"x1\": 2512, \"xref\": \"x\", \"y0\": 2152, \"y1\": 2512, \"yref\": \"y\"}, {\"layer\": \"below\", \"line\": {\"color\": \"black\", \"width\": 5}, \"type\": \"line\", \"x0\": 2512, \"x1\": 2871, \"xref\": \"x\", \"y0\": 2512, \"y1\": 2871, \"yref\": \"y\"}, {\"layer\": \"below\", \"line\": {\"color\": \"black\", \"width\": 5}, \"type\": \"line\", \"x0\": 2871, \"x1\": 3231, \"xref\": \"x\", \"y0\": 2871, \"y1\": 3231, \"yref\": \"y\"}, {\"layer\": \"below\", \"line\": {\"color\": \"black\", \"width\": 5}, \"type\": \"line\", \"x0\": 3231, \"x1\": 3590, \"xref\": \"x\", \"y0\": 3231, \"y1\": 3590, \"yref\": \"y\"}, {\"layer\": \"below\", \"line\": {\"color\": \"black\", \"width\": 5}, \"type\": \"line\", \"x0\": 3590, \"x1\": 3949, \"xref\": \"x\", \"y0\": 3590, \"y1\": 3949, \"yref\": \"y\"}, {\"layer\": \"below\", \"line\": {\"color\": \"black\", \"width\": 5}, \"type\": \"line\", \"x0\": 3949, \"x1\": 4305, \"xref\": \"x\", \"y0\": 3949, \"y1\": 4305, \"yref\": \"y\"}, {\"layer\": \"below\", \"line\": {\"color\": \"black\", \"width\": 5}, \"type\": \"line\", \"x0\": 4305, \"x1\": 4664, \"xref\": \"x\", \"y0\": 4305, \"y1\": 4664, \"yref\": \"y\"}, {\"layer\": \"below\", \"line\": {\"color\": \"black\", \"width\": 5}, \"type\": \"line\", \"x0\": 4664, \"x1\": 5024, \"xref\": \"x\", \"y0\": 4664, \"y1\": 5024, \"yref\": \"y\"}, {\"layer\": \"below\", \"line\": {\"color\": \"black\", \"width\": 5}, \"type\": \"line\", \"x0\": 5024, \"x1\": 5383, \"xref\": \"x\", \"y0\": 5024, \"y1\": 5383, \"yref\": \"y\"}, {\"layer\": \"below\", \"line\": {\"color\": \"black\", \"width\": 5}, \"type\": \"line\", \"x0\": 5383, \"x1\": 5743, \"xref\": \"x\", \"y0\": 5383, \"y1\": 5743, \"yref\": \"y\"}, {\"layer\": \"below\", \"line\": {\"color\": \"black\", \"width\": 5}, \"type\": \"line\", \"x0\": 5743, \"x1\": 6102, \"xref\": \"x\", \"y0\": 5743, \"y1\": 6102, \"yref\": \"y\"}, {\"layer\": \"below\", \"line\": {\"color\": \"black\", \"width\": 5}, \"type\": \"line\", \"x0\": 6102, \"x1\": 6461, \"xref\": \"x\", \"y0\": 6102, \"y1\": 6461, \"yref\": \"y\"}, {\"layer\": \"below\", \"line\": {\"color\": \"black\", \"width\": 5}, \"type\": \"line\", \"x0\": 6461, \"x1\": 6820, \"xref\": \"x\", \"y0\": 6461, \"y1\": 6820, \"yref\": \"y\"}, {\"layer\": \"below\", \"line\": {\"color\": \"black\", \"width\": 5}, \"type\": \"line\", \"x0\": 6820, \"x1\": 7179, \"xref\": \"x\", \"y0\": 6820, \"y1\": 7179, \"yref\": \"y\"}, {\"layer\": \"below\", \"line\": {\"color\": \"black\", \"width\": 5}, \"type\": \"line\", \"x0\": 7179, \"x1\": 7538, \"xref\": \"x\", \"y0\": 7179, \"y1\": 7538, \"yref\": \"y\"}, {\"layer\": \"below\", \"line\": {\"color\": \"black\", \"width\": 5}, \"type\": \"line\", \"x0\": 7538, \"x1\": 7897, \"xref\": \"x\", \"y0\": 7538, \"y1\": 7897, \"yref\": \"y\"}, {\"layer\": \"below\", \"line\": {\"color\": \"black\", \"width\": 5}, \"type\": \"line\", \"x0\": 7897, \"x1\": 8256, \"xref\": \"x\", \"y0\": 7897, \"y1\": 8256, \"yref\": \"y\"}, {\"layer\": \"below\", \"line\": {\"color\": \"black\", \"width\": 5}, \"type\": \"line\", \"x0\": 8256, \"x1\": 8614, \"xref\": \"x\", \"y0\": 8256, \"y1\": 8614, \"yref\": \"y\"}, {\"layer\": \"below\", \"line\": {\"color\": \"black\", \"width\": 5}, \"type\": \"line\", \"x0\": 8614, \"x1\": 8973, \"xref\": \"x\", \"y0\": 8614, \"y1\": 8973, \"yref\": \"y\"}, {\"layer\": \"below\", \"line\": {\"color\": \"black\", \"width\": 5}, \"type\": \"line\", \"x0\": 8973, \"x1\": 9332, \"xref\": \"x\", \"y0\": 8973, \"y1\": 9332, \"yref\": \"y\"}, {\"layer\": \"below\", \"line\": {\"color\": \"black\", \"width\": 5}, \"type\": \"line\", \"x0\": 9332, \"x1\": 9691, \"xref\": \"x\", \"y0\": 9332, \"y1\": 9691, \"yref\": \"y\"}, {\"layer\": \"below\", \"line\": {\"color\": \"black\", \"width\": 5}, \"type\": \"line\", \"x0\": 9691, \"x1\": 10051, \"xref\": \"x\", \"y0\": 9691, \"y1\": 10051, \"yref\": \"y\"}, {\"layer\": \"below\", \"line\": {\"color\": \"black\", \"width\": 5}, \"type\": \"line\", \"x0\": 10051, \"x1\": 10410, \"xref\": \"x\", \"y0\": 10051, \"y1\": 10410, \"yref\": \"y\"}, {\"layer\": \"below\", \"line\": {\"color\": \"black\", \"width\": 5}, \"type\": \"line\", \"x0\": 10410, \"x1\": 10770, \"xref\": \"x\", \"y0\": 10410, \"y1\": 10770, \"yref\": \"y\"}, {\"layer\": \"below\", \"line\": {\"color\": \"black\", \"width\": 5}, \"type\": \"line\", \"x0\": 10770, \"x1\": 11129, \"xref\": \"x\", \"y0\": 10770, \"y1\": 11129, \"yref\": \"y\"}, {\"layer\": \"below\", \"line\": {\"color\": \"black\", \"width\": 5}, \"type\": \"line\", \"x0\": 11129, \"x1\": 11488, \"xref\": \"x\", \"y0\": 11129, \"y1\": 11488, \"yref\": \"y\"}, {\"layer\": \"below\", \"line\": {\"color\": \"black\", \"width\": 5}, \"type\": \"line\", \"x0\": 11488, \"x1\": 11846, \"xref\": \"x\", \"y0\": 11488, \"y1\": 11846, \"yref\": \"y\"}, {\"layer\": \"below\", \"line\": {\"color\": \"black\", \"width\": 5}, \"type\": \"line\", \"x0\": 11846, \"x1\": 12205, \"xref\": \"x\", \"y0\": 11846, \"y1\": 12205, \"yref\": \"y\"}, {\"layer\": \"below\", \"line\": {\"color\": \"black\", \"width\": 5}, \"type\": \"line\", \"x0\": 12205, \"x1\": 12563, \"xref\": \"x\", \"y0\": 12205, \"y1\": 12563, \"yref\": \"y\"}, {\"layer\": \"below\", \"line\": {\"color\": \"black\", \"width\": 5}, \"type\": \"line\", \"x0\": 12563, \"x1\": 12921, \"xref\": \"x\", \"y0\": 12563, \"y1\": 12921, \"yref\": \"y\"}], \"template\": {\"data\": {\"bar\": [{\"error_x\": {\"color\": \"#2a3f5f\"}, \"error_y\": {\"color\": \"#2a3f5f\"}, \"marker\": {\"line\": {\"color\": \"white\", \"width\": 0.5}}, \"type\": \"bar\"}], \"barpolar\": [{\"marker\": {\"line\": {\"color\": \"white\", \"width\": 0.5}}, \"type\": \"barpolar\"}], \"carpet\": [{\"aaxis\": {\"endlinecolor\": \"#2a3f5f\", \"gridcolor\": \"#C8D4E3\", \"linecolor\": \"#C8D4E3\", \"minorgridcolor\": \"#C8D4E3\", \"startlinecolor\": \"#2a3f5f\"}, \"baxis\": {\"endlinecolor\": \"#2a3f5f\", \"gridcolor\": \"#C8D4E3\", \"linecolor\": \"#C8D4E3\", \"minorgridcolor\": \"#C8D4E3\", \"startlinecolor\": \"#2a3f5f\"}, \"type\": \"carpet\"}], \"choropleth\": [{\"colorbar\": {\"outlinewidth\": 0, \"ticks\": \"\"}, \"type\": \"choropleth\"}], \"contour\": [{\"colorbar\": {\"outlinewidth\": 0, \"ticks\": \"\"}, \"colorscale\": [[0.0, \"#0d0887\"], [0.1111111111111111, \"#46039f\"], [0.2222222222222222, \"#7201a8\"], [0.3333333333333333, \"#9c179e\"], [0.4444444444444444, \"#bd3786\"], [0.5555555555555556, \"#d8576b\"], [0.6666666666666666, \"#ed7953\"], [0.7777777777777778, \"#fb9f3a\"], [0.8888888888888888, \"#fdca26\"], [1.0, \"#f0f921\"]], \"type\": \"contour\"}], \"contourcarpet\": [{\"colorbar\": {\"outlinewidth\": 0, \"ticks\": \"\"}, \"type\": \"contourcarpet\"}], \"heatmap\": [{\"colorbar\": {\"outlinewidth\": 0, \"ticks\": \"\"}, \"colorscale\": [[0.0, \"#0d0887\"], [0.1111111111111111, \"#46039f\"], [0.2222222222222222, \"#7201a8\"], [0.3333333333333333, \"#9c179e\"], [0.4444444444444444, \"#bd3786\"], [0.5555555555555556, \"#d8576b\"], [0.6666666666666666, \"#ed7953\"], [0.7777777777777778, \"#fb9f3a\"], [0.8888888888888888, \"#fdca26\"], [1.0, \"#f0f921\"]], \"type\": \"heatmap\"}], \"heatmapgl\": [{\"colorbar\": {\"outlinewidth\": 0, \"ticks\": \"\"}, \"colorscale\": [[0.0, \"#0d0887\"], [0.1111111111111111, \"#46039f\"], [0.2222222222222222, \"#7201a8\"], [0.3333333333333333, \"#9c179e\"], [0.4444444444444444, \"#bd3786\"], [0.5555555555555556, \"#d8576b\"], [0.6666666666666666, \"#ed7953\"], [0.7777777777777778, \"#fb9f3a\"], [0.8888888888888888, \"#fdca26\"], [1.0, \"#f0f921\"]], \"type\": \"heatmapgl\"}], \"histogram\": [{\"marker\": {\"colorbar\": {\"outlinewidth\": 0, \"ticks\": \"\"}}, \"type\": \"histogram\"}], \"histogram2d\": [{\"colorbar\": {\"outlinewidth\": 0, \"ticks\": \"\"}, \"colorscale\": [[0.0, \"#0d0887\"], [0.1111111111111111, \"#46039f\"], [0.2222222222222222, \"#7201a8\"], [0.3333333333333333, \"#9c179e\"], [0.4444444444444444, \"#bd3786\"], [0.5555555555555556, \"#d8576b\"], [0.6666666666666666, \"#ed7953\"], [0.7777777777777778, \"#fb9f3a\"], [0.8888888888888888, \"#fdca26\"], [1.0, \"#f0f921\"]], \"type\": \"histogram2d\"}], \"histogram2dcontour\": [{\"colorbar\": {\"outlinewidth\": 0, \"ticks\": \"\"}, \"colorscale\": [[0.0, \"#0d0887\"], [0.1111111111111111, \"#46039f\"], [0.2222222222222222, \"#7201a8\"], [0.3333333333333333, \"#9c179e\"], [0.4444444444444444, \"#bd3786\"], [0.5555555555555556, \"#d8576b\"], [0.6666666666666666, \"#ed7953\"], [0.7777777777777778, \"#fb9f3a\"], [0.8888888888888888, \"#fdca26\"], [1.0, \"#f0f921\"]], \"type\": \"histogram2dcontour\"}], \"mesh3d\": [{\"colorbar\": {\"outlinewidth\": 0, \"ticks\": \"\"}, \"type\": \"mesh3d\"}], \"parcoords\": [{\"line\": {\"colorbar\": {\"outlinewidth\": 0, \"ticks\": \"\"}}, \"type\": \"parcoords\"}], \"scatter\": [{\"marker\": {\"colorbar\": {\"outlinewidth\": 0, \"ticks\": \"\"}}, \"type\": \"scatter\"}], \"scatter3d\": [{\"line\": {\"colorbar\": {\"outlinewidth\": 0, \"ticks\": \"\"}}, \"marker\": {\"colorbar\": {\"outlinewidth\": 0, \"ticks\": \"\"}}, \"type\": \"scatter3d\"}], \"scattercarpet\": [{\"marker\": {\"colorbar\": {\"outlinewidth\": 0, \"ticks\": \"\"}}, \"type\": \"scattercarpet\"}], \"scattergeo\": [{\"marker\": {\"colorbar\": {\"outlinewidth\": 0, \"ticks\": \"\"}}, \"type\": \"scattergeo\"}], \"scattergl\": [{\"marker\": {\"colorbar\": {\"outlinewidth\": 0, \"ticks\": \"\"}}, \"type\": \"scattergl\"}], \"scattermapbox\": [{\"marker\": {\"colorbar\": {\"outlinewidth\": 0, \"ticks\": \"\"}}, \"type\": \"scattermapbox\"}], \"scatterpolar\": [{\"marker\": {\"colorbar\": {\"outlinewidth\": 0, \"ticks\": \"\"}}, \"type\": \"scatterpolar\"}], \"scatterpolargl\": [{\"marker\": {\"colorbar\": {\"outlinewidth\": 0, \"ticks\": \"\"}}, \"type\": \"scatterpolargl\"}], \"scatterternary\": [{\"marker\": {\"colorbar\": {\"outlinewidth\": 0, \"ticks\": \"\"}}, \"type\": \"scatterternary\"}], \"surface\": [{\"colorbar\": {\"outlinewidth\": 0, \"ticks\": \"\"}, \"colorscale\": [[0.0, \"#0d0887\"], [0.1111111111111111, \"#46039f\"], [0.2222222222222222, \"#7201a8\"], [0.3333333333333333, \"#9c179e\"], [0.4444444444444444, \"#bd3786\"], [0.5555555555555556, \"#d8576b\"], [0.6666666666666666, \"#ed7953\"], [0.7777777777777778, \"#fb9f3a\"], [0.8888888888888888, \"#fdca26\"], [1.0, \"#f0f921\"]], \"type\": \"surface\"}], \"table\": [{\"cells\": {\"fill\": {\"color\": \"#EBF0F8\"}, \"line\": {\"color\": \"white\"}}, \"header\": {\"fill\": {\"color\": \"#C8D4E3\"}, \"line\": {\"color\": \"white\"}}, \"type\": \"table\"}]}, \"layout\": {\"annotationdefaults\": {\"arrowcolor\": \"#2a3f5f\", \"arrowhead\": 0, \"arrowwidth\": 1}, \"colorscale\": {\"diverging\": [[0, \"#8e0152\"], [0.1, \"#c51b7d\"], [0.2, \"#de77ae\"], [0.3, \"#f1b6da\"], [0.4, \"#fde0ef\"], [0.5, \"#f7f7f7\"], [0.6, \"#e6f5d0\"], [0.7, \"#b8e186\"], [0.8, \"#7fbc41\"], [0.9, \"#4d9221\"], [1, \"#276419\"]], \"sequential\": [[0.0, \"#0d0887\"], [0.1111111111111111, \"#46039f\"], [0.2222222222222222, \"#7201a8\"], [0.3333333333333333, \"#9c179e\"], [0.4444444444444444, \"#bd3786\"], [0.5555555555555556, \"#d8576b\"], [0.6666666666666666, \"#ed7953\"], [0.7777777777777778, \"#fb9f3a\"], [0.8888888888888888, \"#fdca26\"], [1.0, \"#f0f921\"]], \"sequentialminus\": [[0.0, \"#0d0887\"], [0.1111111111111111, \"#46039f\"], [0.2222222222222222, \"#7201a8\"], [0.3333333333333333, \"#9c179e\"], [0.4444444444444444, \"#bd3786\"], [0.5555555555555556, \"#d8576b\"], [0.6666666666666666, \"#ed7953\"], [0.7777777777777778, \"#fb9f3a\"], [0.8888888888888888, \"#fdca26\"], [1.0, \"#f0f921\"]]}, \"colorway\": [\"#636efa\", \"#EF553B\", \"#00cc96\", \"#ab63fa\", \"#FFA15A\", \"#19d3f3\", \"#FF6692\", \"#B6E880\", \"#FF97FF\", \"#FECB52\"], \"font\": {\"color\": \"#2a3f5f\"}, \"geo\": {\"bgcolor\": \"white\", \"lakecolor\": \"white\", \"landcolor\": \"white\", \"showlakes\": true, \"showland\": true, \"subunitcolor\": \"#C8D4E3\"}, \"hoverlabel\": {\"align\": \"left\"}, \"hovermode\": \"closest\", \"mapbox\": {\"style\": \"light\"}, \"paper_bgcolor\": \"white\", \"plot_bgcolor\": \"white\", \"polar\": {\"angularaxis\": {\"gridcolor\": \"#EBF0F8\", \"linecolor\": \"#EBF0F8\", \"ticks\": \"\"}, \"bgcolor\": \"white\", \"radialaxis\": {\"gridcolor\": \"#EBF0F8\", \"linecolor\": \"#EBF0F8\", \"ticks\": \"\"}}, \"scene\": {\"xaxis\": {\"backgroundcolor\": \"white\", \"gridcolor\": \"#DFE8F3\", \"gridwidth\": 2, \"linecolor\": \"#EBF0F8\", \"showbackground\": true, \"ticks\": \"\", \"zerolinecolor\": \"#EBF0F8\"}, \"yaxis\": {\"backgroundcolor\": \"white\", \"gridcolor\": \"#DFE8F3\", \"gridwidth\": 2, \"linecolor\": \"#EBF0F8\", \"showbackground\": true, \"ticks\": \"\", \"zerolinecolor\": \"#EBF0F8\"}, \"zaxis\": {\"backgroundcolor\": \"white\", \"gridcolor\": \"#DFE8F3\", \"gridwidth\": 2, \"linecolor\": \"#EBF0F8\", \"showbackground\": true, \"ticks\": \"\", \"zerolinecolor\": \"#EBF0F8\"}}, \"shapedefaults\": {\"line\": {\"color\": \"#2a3f5f\"}}, \"ternary\": {\"aaxis\": {\"gridcolor\": \"#DFE8F3\", \"linecolor\": \"#A2B1C6\", \"ticks\": \"\"}, \"baxis\": {\"gridcolor\": \"#DFE8F3\", \"linecolor\": \"#A2B1C6\", \"ticks\": \"\"}, \"bgcolor\": \"white\", \"caxis\": {\"gridcolor\": \"#DFE8F3\", \"linecolor\": \"#A2B1C6\", \"ticks\": \"\"}}, \"title\": {\"x\": 0.05}, \"xaxis\": {\"automargin\": true, \"gridcolor\": \"#EBF0F8\", \"linecolor\": \"#EBF0F8\", \"ticks\": \"\", \"zerolinecolor\": \"#EBF0F8\", \"zerolinewidth\": 2}, \"yaxis\": {\"automargin\": true, \"gridcolor\": \"#EBF0F8\", \"linecolor\": \"#EBF0F8\", \"ticks\": \"\", \"zerolinecolor\": \"#EBF0F8\", \"zerolinewidth\": 2}}}, \"title\": {\"text\": \"300\"}, \"width\": 800, \"xaxis\": {\"range\": [-652.95, 13159], \"showgrid\": false}, \"yaxis\": {\"autorange\": \"reversed\", \"range\": [0, 13059], \"showgrid\": false}},\n",
       "                        {\"responsive\": true}\n",
       "                    ).then(function(){\n",
       "                            \n",
       "var gd = document.getElementById('0c403d74-25e3-4730-b841-dfab2387a1ea');\n",
       "var x = new MutationObserver(function (mutations, observer) {{\n",
       "        var display = window.getComputedStyle(gd).display;\n",
       "        if (!display || display === 'none') {{\n",
       "            console.log([gd, 'removed!']);\n",
       "            Plotly.purge(gd);\n",
       "            observer.disconnect();\n",
       "        }}\n",
       "}});\n",
       "\n",
       "// Listen for the removal of the full notebook cells\n",
       "var notebookContainer = gd.closest('#notebook-container');\n",
       "if (notebookContainer) {{\n",
       "    x.observe(notebookContainer, {childList: true});\n",
       "}}\n",
       "\n",
       "// Listen for the clearing of the current output cell\n",
       "var outputEl = gd.closest('.output');\n",
       "if (outputEl) {{\n",
       "    x.observe(outputEl, {childList: true});\n",
       "}}\n",
       "\n",
       "                        })\n",
       "                };\n",
       "                });\n",
       "            </script>\n",
       "        </div>"
      ]
     },
     "metadata": {},
     "output_type": "display_data"
    }
   ],
   "source": [
    "v.show(read=read)"
   ]
  },
  {
   "cell_type": "markdown",
   "metadata": {},
   "source": [
    "## Functions for counting variants"
   ]
  },
  {
   "cell_type": "code",
   "execution_count": 8,
   "metadata": {},
   "outputs": [],
   "source": [
    "# Variants and sequencing errors\n",
    "\n",
    "class PairwiseAlignment:\n",
    "    def __init__(self, a_seq, b_seq):\n",
    "        er = EdlibRunner(\"global\", revcomp=False, cyclic=False)\n",
    "        self.fcigar = er.align(b_seq.lower(), a_seq.lower()).cigar.flatten().string   # NOTE: b vs a; be careful!\n",
    "        self.source, self.target = '', ''\n",
    "        s_pos, t_pos = 0, 0\n",
    "        for c in self.fcigar:\n",
    "            if c == '=' or c == 'X':\n",
    "                self.source += a_seq[s_pos]\n",
    "                self.target += b_seq[t_pos]\n",
    "                s_pos += 1\n",
    "                t_pos += 1\n",
    "            elif c == 'I':\n",
    "                self.source += '-'\n",
    "                self.target += b_seq[t_pos]\n",
    "                t_pos += 1\n",
    "            else:\n",
    "                self.source += a_seq[s_pos]\n",
    "                self.target += '-'\n",
    "                s_pos += 1\n",
    "        \n",
    "    def show(self, by_cigar=False):\n",
    "        if by_cigar:   # standard alignment like BLAST\n",
    "            print(self.source)\n",
    "            print(self.fcigar)\n",
    "            print(self.target)\n",
    "        else:\n",
    "            print(''.join([' ' if c == '=' else self.source[i] for i, c in enumerate(self.fcigar)]))\n",
    "            print(''.join([self.source[i] if c == '=' else ' ' for i, c in enumerate(self.fcigar)]))\n",
    "            print(''.join([' ' if c == '=' else self.target[i] for i, c in enumerate(self.fcigar)]))\n",
    "\n",
    "def count_variants(cluster_cons_unit, cluster_units):\n",
    "    \"\"\"Given a set of unit sequences <units> in a cluster, calculate the composition of\n",
    "    nucleotides including '-' (= distribution of each )\n",
    "    for each position on <cluster_cons_unit> as a seed.\n",
    "    from which <units> are generated, compute the variations (= nucleotides inconsistent between\n",
    "    <units> and <cluster_cons_unit> and their relative frequency).\n",
    "    Since a cluster should be homogeneous (i.e., mono-source), the relative frequencies are\n",
    "    expected to be not much larger than sequencing error.\n",
    "    \"\"\"\n",
    "    assert cluster_cons_unit != \"\", \"Empty strings are not allowed\"\n",
    "    # TODO: how to decide \"same variant?\" especially for multiple variations on same position (but slightly different among units)?\n",
    "    variants = Counter()\n",
    "    for unit in cluster_units:\n",
    "        assert unit != \"\", \"Empty strings are not allowed\"\n",
    "        alignment = PairwiseAlignment(cluster_cons_unit, unit)   # alignment.fcigar(cluster_cons_unit) = unit\n",
    "        tpos = 0\n",
    "        var_index = 0   # positive values for continuous insertions\n",
    "        for i, c in enumerate(alignment.fcigar):\n",
    "            if c == '=':\n",
    "                var_index = 0\n",
    "            elif c == 'I':\n",
    "                var_index += 1\n",
    "            if c != '=':\n",
    "                variants[(tpos, var_index, c, alignment.target[i])] += 1   # TODO: multiple D on the same pos are aggregated\n",
    "            if c != 'I':\n",
    "                tpos += 1\n",
    "        assert tpos == len(cluster_cons_unit)\n",
    "    return variants\n",
    "\n",
    "def list_variations(template_unit, cluster_cons_unit):\n",
    "    \"\"\"Single-vs-single version of count_variants().\n",
    "    That is, list up the differences between the (imaginary) template unit and the consensus unit\n",
    "    of a cluster (which should be a real instance).\n",
    "    The return value is [(position_on_template_unit, variant_type, base_on_cluster_cons_unit)].\n",
    "    \"\"\"\n",
    "    assert template_unit != \"\" and cluster_cons_unit != \"\", \"Empty strings are not allowed\"\n",
    "    return list(count_variants(template_unit, [cluster_cons_unit]).keys())"
   ]
  },
  {
   "cell_type": "markdown",
   "metadata": {},
   "source": [
    "## Representative units & variant spectra"
   ]
  },
  {
   "cell_type": "code",
   "execution_count": 93,
   "metadata": {},
   "outputs": [],
   "source": [
    "def characterize_sync_read(read, min_var_frac=0.1):\n",
    "    \"\"\"Convert a synchronized read into a set of representative units and variants within them.\"\"\"\n",
    "    # TODO: window size and slide   # TODO: min_var_count in a window rather than min_var_frac in a read?\n",
    "    read_spectrum = set()\n",
    "\n",
    "    # Call variants with relative frequency >= <min_var_frac>\n",
    "    for repr_id, repr_unit in read.repr_units.items():\n",
    "        units = [read.seq[unit.start:unit.end] for unit in read.units if unit.id == repr_id]\n",
    "        var_counts = sorted(count_variants(repr_unit, units).items())\n",
    "        var_counts = [(key, round(count / len(units), 3)) for key, count in var_counts]\n",
    "        \n",
    "        logger.info(f\"#units = {len(units)}, min var freq = {round(len(units) * min_var_frac, 3)}\")\n",
    "        var_counts = tuple(filter(lambda x: x[1] >= min_var_frac, var_counts))\n",
    "        read_spectrum.add((repr_unit, var_counts))\n",
    "\n",
    "    return read_spectrum"
   ]
  },
  {
   "cell_type": "code",
   "execution_count": 94,
   "metadata": {
    "scrolled": false
   },
   "outputs": [
    {
     "name": "stderr",
     "output_type": "stream",
     "text": [
      "[I 190918 00:47:11 <ipython-input-93-9472150ac6de>:11] #units = 38, min var freq = 3.8\n"
     ]
    },
    {
     "data": {
      "text/plain": [
       "{('atgacccccctccttacaaaaaatgcgaaaattgatccaaaaattaatttcctaaatccttcaaaaagtaatagggatcgttagcactggtaattagctgctcaaaacagttattgttacatctatgtgaccatttttagccaagttataacgaaaatttcgtttgtaaatatcaacatttttgcagagtctgtttttccaaatttcggtcatcaaataatcatttattttgccacaacataaaaaataattgtctgaatatggaatgtcatacctcactgagctcgtaataaaatttccaatcaaactgtgttcaaaaatggaaattaaattttttggccatattttgcaaattttg',\n",
       "  (((6, 0, 'X', 'a'), 0.184),\n",
       "   ((9, 0, 'X', 't'), 0.132),\n",
       "   ((12, 0, 'D', '-'), 0.158),\n",
       "   ((31, 0, 'X', 'g'), 0.316),\n",
       "   ((34, 0, 'X', 'g'), 0.263),\n",
       "   ((36, 0, 'X', 't'), 0.368),\n",
       "   ((52, 1, 'I', 'c'), 0.474),\n",
       "   ((71, 0, 'X', 'c'), 0.184),\n",
       "   ((74, 0, 'X', 'a'), 0.368),\n",
       "   ((95, 0, 'X', 't'), 0.184),\n",
       "   ((102, 0, 'X', 't'), 0.395),\n",
       "   ((110, 0, 'X', 'a'), 0.447),\n",
       "   ((115, 0, 'X', 'c'), 0.158),\n",
       "   ((115, 1, 'I', 'c'), 0.447),\n",
       "   ((117, 0, 'D', '-'), 0.447),\n",
       "   ((131, 0, 'X', 'a'), 0.395),\n",
       "   ((135, 0, 'X', 'g'), 0.237),\n",
       "   ((136, 0, 'X', 'c'), 0.237),\n",
       "   ((160, 0, 'X', 'g'), 0.316),\n",
       "   ((164, 0, 'D', '-'), 0.342),\n",
       "   ((174, 0, 'X', 't'), 0.211),\n",
       "   ((182, 0, 'X', 'g'), 0.211),\n",
       "   ((188, 0, 'X', 'a'), 0.211),\n",
       "   ((202, 0, 'X', 't'), 0.132),\n",
       "   ((217, 0, 'D', '-'), 0.132),\n",
       "   ((217, 0, 'X', 'a'), 0.237),\n",
       "   ((259, 0, 'X', 'c'), 0.184),\n",
       "   ((277, 0, 'X', 't'), 0.316),\n",
       "   ((300, 0, 'X', 'c'), 0.184),\n",
       "   ((326, 0, 'X', 'c'), 0.132),\n",
       "   ((336, 0, 'X', 'g'), 0.263),\n",
       "   ((340, 0, 'D', '-'), 0.132),\n",
       "   ((343, 1, 'I', 't'), 0.132),\n",
       "   ((347, 0, 'X', 'g'), 0.368),\n",
       "   ((357, 0, 'X', 'c'), 0.263)))}"
      ]
     },
     "execution_count": 94,
     "metadata": {},
     "output_type": "execute_result"
    }
   ],
   "source": [
    "characterize_sync_read(read)"
   ]
  },
  {
   "cell_type": "markdown",
   "metadata": {},
   "source": [
    "問題は、このスペクトラム同士を比較する際にも、\n",
    "\n",
    "- representative units 同士の phase synchronization が必要\n",
    "- overlap している領域によってスペクトラムが変わる\n",
    "\n",
    "という点である。"
   ]
  },
  {
   "cell_type": "code",
   "execution_count": null,
   "metadata": {},
   "outputs": [],
   "source": []
  }
 ],
 "metadata": {
  "kernelspec": {
   "display_name": "Python 3",
   "language": "python",
   "name": "python3"
  },
  "language_info": {
   "codemirror_mode": {
    "name": "ipython",
    "version": 3
   },
   "file_extension": ".py",
   "mimetype": "text/x-python",
   "name": "python",
   "nbconvert_exporter": "python",
   "pygments_lexer": "ipython3",
   "version": "3.7.2+"
  },
  "toc": {
   "base_numbering": 1,
   "nav_menu": {},
   "number_sections": true,
   "sideBar": true,
   "skip_h1_title": false,
   "title_cell": "Table of Contents",
   "title_sidebar": "Contents",
   "toc_cell": false,
   "toc_position": {},
   "toc_section_display": true,
   "toc_window_display": true
  }
 },
 "nbformat": 4,
 "nbformat_minor": 2
}
